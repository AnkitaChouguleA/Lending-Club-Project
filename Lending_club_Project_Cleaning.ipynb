{
 "cells": [
  {
   "cell_type": "code",
   "execution_count": 0,
   "metadata": {
    "application/vnd.databricks.v1+cell": {
     "cellMetadata": {},
     "inputWidgets": {},
     "nuid": "e11892ae-447c-4212-bbfd-4783bbc0f96d",
     "showTitle": false,
     "title": ""
    }
   },
   "outputs": [],
   "source": [
    "# Create spark session\n",
    "if 'spark' in locals():\n",
    "    spark.stop()\n",
    "from pyspark.sql import SparkSession\n",
    "import getpass \n",
    "username=getpass.getuser()\n",
    "spark=SparkSession. \\\n",
    "    builder. \\\n",
    "    config('spark.ui.port','0'). \\\n",
    "    config(\"spark.sql.warehouse.dir\", f\"/user/itv008542/warehouse\"). \\\n",
    "    config('spark.shuffle.useOldFetchProtocol', 'true'). \\\n",
    "    enableHiveSupport(). \\\n",
    "    master('yarn'). \\\n",
    "    getOrCreate()"
   ]
  },
  {
   "cell_type": "code",
   "execution_count": 0,
   "metadata": {
    "application/vnd.databricks.v1+cell": {
     "cellMetadata": {},
     "inputWidgets": {},
     "nuid": "0de291de-372d-4e29-970d-393cec4fd834",
     "showTitle": false,
     "title": ""
    }
   },
   "outputs": [
    {
     "output_type": "execute_result",
     "data": {
      "text/html": [
       "\n",
       "            <div>\n",
       "                <p><b>SparkSession - hive</b></p>\n",
       "                \n",
       "        <div>\n",
       "            <p><b>SparkContext</b></p>\n",
       "\n",
       "            <p><a href=\"http://g01.itversity.com:33341\">Spark UI</a></p>\n",
       "\n",
       "            <dl>\n",
       "              <dt>Version</dt>\n",
       "                <dd><code>v3.1.2</code></dd>\n",
       "              <dt>Master</dt>\n",
       "                <dd><code>yarn</code></dd>\n",
       "              <dt>AppName</dt>\n",
       "                <dd><code>pyspark-shell</code></dd>\n",
       "            </dl>\n",
       "        </div>\n",
       "        \n",
       "            </div>\n",
       "        "
      ],
      "text/plain": [
       "<pyspark.sql.session.SparkSession at 0x7f69c151d898>"
      ]
     },
     "execution_count": 2,
     "metadata": {},
     "output_type": "execute_result"
    }
   ],
   "source": [
    "spark"
   ]
  },
  {
   "cell_type": "code",
   "execution_count": 0,
   "metadata": {
    "application/vnd.databricks.v1+cell": {
     "cellMetadata": {},
     "inputWidgets": {},
     "nuid": "5a9ac7b0-6217-4f61-8e51-49c8f237a869",
     "showTitle": false,
     "title": ""
    }
   },
   "outputs": [
    {
     "output_type": "stream",
     "name": "stdout",
     "output_type": "stream",
     "text": [
      "Found 31 items\n-rw-r--r--   3 itv005857 supergroup      1.6 G 2023-09-16 10:11 /public/trendytech/datasets/accepted_2007_to_2018Q4.csv\ndrwxr-xr-x   - itv005857 supergroup          0 2023-08-21 19:29 /public/trendytech/datasets/compression-techniques-demo\n-rw-r--r--   3 itv005857 supergroup      2.2 G 2023-06-06 09:28 /public/trendytech/datasets/cust_transf.csv\ndrwxr-xr-x   - itv005857 supergroup          0 2023-05-18 17:40 /public/trendytech/datasets/customer_nested\n-rw-r--r--   3 itv005857 supergroup      1.5 K 2023-07-20 07:25 /public/trendytech/datasets/customers_sample.csv\n-rw-r--r--   3 itv005857 supergroup      1.3 K 2023-05-23 13:04 /public/trendytech/datasets/hospital.csv\n-rw-r--r--   3 itv005857 supergroup      5.6 K 2023-06-05 02:31 /public/trendytech/datasets/hotel_data.csv\n-rw-r--r--   3 itv005857 supergroup      6.0 M 2023-08-20 10:09 /public/trendytech/datasets/json_sample_multiline\ndrwxr-xr-x   - itv005857 supergroup          0 2023-08-20 10:20 /public/trendytech/datasets/json_sample_singleline\ndrwxr-xr-x   - itv005857 supergroup          0 2023-08-09 00:02 /public/trendytech/datasets/lending-club-project-datasets\n-rw-r--r--   3 itv005857 supergroup        925 2023-05-23 13:05 /public/trendytech/datasets/library_data.json\n-rw-r--r--   3 itv005857 supergroup     24.3 M 2023-06-11 04:35 /public/trendytech/datasets/logdata1m.csv\n-rw-r--r--   3 itv005857 supergroup        118 2023-07-17 15:38 /public/trendytech/datasets/mapping_data\n-rw-r--r--   3 itv005857 supergroup     43.9 M 2023-06-09 13:05 /public/trendytech/datasets/order_data.csv\ndrwxr-xr-x   - itv005857 supergroup          0 2023-06-02 02:47 /public/trendytech/datasets/orders\n-rw-r--r--   3 itv005857 supergroup      6.7 M 2023-05-04 07:46 /public/trendytech/datasets/orders.json\ndrwxr-xr-x   - itv005857 supergroup          0 2023-08-20 16:22 /public/trendytech/datasets/orders_avro\ndrwxr-xr-x   - itv005857 supergroup          0 2023-08-20 18:00 /public/trendytech/datasets/orders_orc_ff\ndrwxr-xr-x   - itv005857 supergroup          0 2023-08-20 17:40 /public/trendytech/datasets/orders_parquet_ff\n-rw-r--r--   3 itv005857 supergroup        818 2023-07-20 07:25 /public/trendytech/datasets/orders_sample.csv\n-rw-r--r--   3 itv005857 supergroup        292 2023-05-18 10:50 /public/trendytech/datasets/orders_sample1.csv\n-rw-r--r--   3 itv005857 supergroup        292 2023-05-18 10:50 /public/trendytech/datasets/orders_sample2.csv\n-rw-r--r--   3 itv005857 supergroup        296 2023-05-18 10:50 /public/trendytech/datasets/orders_sample3.csv\ndrwxr-xr-x   - itv005857 supergroup          0 2023-05-04 07:54 /public/trendytech/datasets/ordersorc\ndrwxr-xr-x   - itv005857 supergroup          0 2023-05-04 07:58 /public/trendytech/datasets/ordersparquet\ndrwxr-xr-x   - itv005857 supergroup          0 2023-08-20 20:11 /public/trendytech/datasets/parquet-schema-evol-demo\ndrwxr-xr-x   - itv005857 supergroup          0 2023-08-21 07:15 /public/trendytech/datasets/parquet-schema-evol-demo1\n-rw-r--r--   3 itv005857 supergroup      1.6 K 2023-05-23 13:05 /public/trendytech/datasets/sales_data.json\n-rw-r--r--   3 itv005857 supergroup        324 2023-05-23 13:04 /public/trendytech/datasets/train.csv\n-rw-r--r--   3 itv005857 supergroup      1.3 K 2023-06-09 16:01 /public/trendytech/datasets/windowdata.csv\n-rw-r--r--   3 itv005857 supergroup      1.3 K 2023-06-10 04:52 /public/trendytech/datasets/windowdatamodified.csv\n"
     ]
    }
   ],
   "source": [
    "! hadoop fs -ls -h /public/trendytech/datasets"
   ]
  },
  {
   "cell_type": "code",
   "execution_count": 0,
   "metadata": {
    "application/vnd.databricks.v1+cell": {
     "cellMetadata": {},
     "inputWidgets": {},
     "nuid": "1dc5e966-4862-4a28-9b62-d30d7835f5bc",
     "showTitle": false,
     "title": ""
    }
   },
   "outputs": [
    {
     "output_type": "stream",
     "name": "stdout",
     "output_type": "stream",
     "text": [
      "id,member_id,loan_amnt,funded_amnt,funded_amnt_inv,term,int_rate,installment,grade,sub_grade,emp_title,emp_length,home_ownership,annual_inc,verification_status,issue_d,loan_status,pymnt_plan,url,desc,purpose,title,zip_code,addr_state,dti,delinq_2yrs,earliest_cr_line,fico_range_low,fico_range_high,inq_last_6mths,mths_since_last_delinq,mths_since_last_record,open_acc,pub_rec,revol_bal,revol_util,total_acc,initial_list_status,out_prncp,out_prncp_inv,total_pymnt,total_pymnt_inv,total_rec_prncp,total_rec_int,total_rec_late_fee,recoveries,collection_recovery_fee,last_pymnt_d,last_pymnt_amnt,next_pymnt_d,last_credit_pull_d,last_fico_range_high,last_fico_range_low,collections_12_mths_ex_med,mths_since_last_major_derog,policy_code,application_type,annual_inc_joint,dti_joint,verification_status_joint,acc_now_delinq,tot_coll_amt,tot_cur_bal,open_acc_6m,open_act_il,open_il_12m,open_il_24m,mths_since_rcnt_il,total_bal_il,il_util,open_rv_12m,open_rv_24m,max_bal_bc,all_util,total_rev_hi_lim,inq_fi,total_cu_tl,inq_last_12m,a"
     ]
    }
   ],
   "source": [
    "! hadoop fs -head /public/trendytech/datasets/accepted_2007_to_2018Q4.csv"
   ]
  },
  {
   "cell_type": "code",
   "execution_count": 0,
   "metadata": {
    "application/vnd.databricks.v1+cell": {
     "cellMetadata": {},
     "inputWidgets": {},
     "nuid": "3e503501-3681-4451-8820-0c10e9f8ca5c",
     "showTitle": false,
     "title": ""
    }
   },
   "outputs": [],
   "source": [
    "# Load our main data into a dataframe\n",
    "raw_df = spark.read \\\n",
    ".format(\"csv\") \\\n",
    ".option(\"InferSchema\",\"true\") \\\n",
    ".option(\"header\",\"true\") \\\n",
    ".load(\"/public/trendytech/datasets/accepted_2007_to_2018Q4.csv\")"
   ]
  },
  {
   "cell_type": "code",
   "execution_count": 0,
   "metadata": {
    "application/vnd.databricks.v1+cell": {
     "cellMetadata": {},
     "inputWidgets": {},
     "nuid": "92202a26-2f25-4d9f-b089-e68897448220",
     "showTitle": false,
     "title": ""
    }
   },
   "outputs": [],
   "source": [
    "# Create a spark table from the dataframe above\n",
    "raw_df.createOrReplaceTempView(\"lending_club_data\")"
   ]
  },
  {
   "cell_type": "code",
   "execution_count": 0,
   "metadata": {
    "application/vnd.databricks.v1+cell": {
     "cellMetadata": {},
     "inputWidgets": {},
     "nuid": "8ecff7cd-f0f9-40f5-8977-dde2a7bebf6b",
     "showTitle": false,
     "title": ""
    }
   },
   "outputs": [
    {
     "output_type": "execute_result",
     "data": {
      "text/html": [
       "<table border='1'>\n",
       "<tr><th>id</th><th>member_id</th><th>loan_amnt</th><th>funded_amnt</th><th>funded_amnt_inv</th><th>term</th><th>int_rate</th><th>installment</th><th>grade</th><th>sub_grade</th><th>emp_title</th><th>emp_length</th><th>home_ownership</th><th>annual_inc</th><th>verification_status</th><th>issue_d</th><th>loan_status</th><th>pymnt_plan</th><th>url</th><th>desc</th><th>purpose</th><th>title</th><th>zip_code</th><th>addr_state</th><th>dti</th><th>delinq_2yrs</th><th>earliest_cr_line</th><th>fico_range_low</th><th>fico_range_high</th><th>inq_last_6mths</th><th>mths_since_last_delinq</th><th>mths_since_last_record</th><th>open_acc</th><th>pub_rec</th><th>revol_bal</th><th>revol_util</th><th>total_acc</th><th>initial_list_status</th><th>out_prncp</th><th>out_prncp_inv</th><th>total_pymnt</th><th>total_pymnt_inv</th><th>total_rec_prncp</th><th>total_rec_int</th><th>total_rec_late_fee</th><th>recoveries</th><th>collection_recovery_fee</th><th>last_pymnt_d</th><th>last_pymnt_amnt</th><th>next_pymnt_d</th><th>last_credit_pull_d</th><th>last_fico_range_high</th><th>last_fico_range_low</th><th>collections_12_mths_ex_med</th><th>mths_since_last_major_derog</th><th>policy_code</th><th>application_type</th><th>annual_inc_joint</th><th>dti_joint</th><th>verification_status_joint</th><th>acc_now_delinq</th><th>tot_coll_amt</th><th>tot_cur_bal</th><th>open_acc_6m</th><th>open_act_il</th><th>open_il_12m</th><th>open_il_24m</th><th>mths_since_rcnt_il</th><th>total_bal_il</th><th>il_util</th><th>open_rv_12m</th><th>open_rv_24m</th><th>max_bal_bc</th><th>all_util</th><th>total_rev_hi_lim</th><th>inq_fi</th><th>total_cu_tl</th><th>inq_last_12m</th><th>acc_open_past_24mths</th><th>avg_cur_bal</th><th>bc_open_to_buy</th><th>bc_util</th><th>chargeoff_within_12_mths</th><th>delinq_amnt</th><th>mo_sin_old_il_acct</th><th>mo_sin_old_rev_tl_op</th><th>mo_sin_rcnt_rev_tl_op</th><th>mo_sin_rcnt_tl</th><th>mort_acc</th><th>mths_since_recent_bc</th><th>mths_since_recent_bc_dlq</th><th>mths_since_recent_inq</th><th>mths_since_recent_revol_delinq</th><th>num_accts_ever_120_pd</th><th>num_actv_bc_tl</th><th>num_actv_rev_tl</th><th>num_bc_sats</th><th>num_bc_tl</th><th>num_il_tl</th><th>num_op_rev_tl</th><th>num_rev_accts</th><th>num_rev_tl_bal_gt_0</th><th>num_sats</th><th>num_tl_120dpd_2m</th><th>num_tl_30dpd</th><th>num_tl_90g_dpd_24m</th><th>num_tl_op_past_12m</th><th>pct_tl_nvr_dlq</th><th>percent_bc_gt_75</th><th>pub_rec_bankruptcies</th><th>tax_liens</th><th>tot_hi_cred_lim</th><th>total_bal_ex_mort</th><th>total_bc_limit</th><th>total_il_high_credit_limit</th><th>revol_bal_joint</th><th>sec_app_fico_range_low</th><th>sec_app_fico_range_high</th><th>sec_app_earliest_cr_line</th><th>sec_app_inq_last_6mths</th><th>sec_app_mort_acc</th><th>sec_app_open_acc</th><th>sec_app_revol_util</th><th>sec_app_open_act_il</th><th>sec_app_num_rev_accts</th><th>sec_app_chargeoff_within_12_mths</th><th>sec_app_collections_12_mths_ex_med</th><th>sec_app_mths_since_last_major_derog</th><th>hardship_flag</th><th>hardship_type</th><th>hardship_reason</th><th>hardship_status</th><th>deferral_term</th><th>hardship_amount</th><th>hardship_start_date</th><th>hardship_end_date</th><th>payment_plan_start_date</th><th>hardship_length</th><th>hardship_dpd</th><th>hardship_loan_status</th><th>orig_projected_additional_accrued_interest</th><th>hardship_payoff_balance_amount</th><th>hardship_last_payment_amount</th><th>disbursement_method</th><th>debt_settlement_flag</th><th>debt_settlement_flag_date</th><th>settlement_status</th><th>settlement_date</th><th>settlement_amount</th><th>settlement_percentage</th><th>settlement_term</th></tr>\n",
       "<tr><td>68407277</td><td>null</td><td>3600.0</td><td>3600.0</td><td>3600.0</td><td> 36 months</td><td>13.99</td><td>123.03</td><td>C</td><td>C4</td><td>leadman</td><td>10+ years</td><td>MORTGAGE</td><td>55000.0</td><td>Not Verified</td><td>Dec-2015</td><td>Fully Paid</td><td>n</td><td>https://lendingcl...</td><td>null</td><td>debt_consolidation</td><td>Debt consolidation</td><td>190xx</td><td>PA</td><td>5.91</td><td>0.0</td><td>Aug-2003</td><td>675.0</td><td>679.0</td><td>1.0</td><td>30.0</td><td>null</td><td>7.0</td><td>0.0</td><td>2765.0</td><td>29.7</td><td>13.0</td><td>w</td><td>0.0</td><td>0.0</td><td>4421.723916800001</td><td>4421.72</td><td>3600.0</td><td>821.72</td><td>0.0</td><td>0.0</td><td>0.0</td><td>Jan-2019</td><td>122.67</td><td>null</td><td>Mar-2019</td><td>564.0</td><td>560.0</td><td>0.0</td><td>30.0</td><td>1.0</td><td>Individual</td><td>null</td><td>null</td><td>null</td><td>0.0</td><td>722.0</td><td>144904.0</td><td>2.0</td><td>2.0</td><td>0.0</td><td>1.0</td><td>21.0</td><td>4981.0</td><td>36.0</td><td>3.0</td><td>3.0</td><td>722.0</td><td>34.0</td><td>9300.0</td><td>3.0</td><td>1.0</td><td>4.0</td><td>4.0</td><td>20701.0</td><td>1506.0</td><td>37.2</td><td>0.0</td><td>0.0</td><td>148.0</td><td>128.0</td><td>3.0</td><td>3.0</td><td>1.0</td><td>4.0</td><td>69.0</td><td>4.0</td><td>69.0</td><td>2.0</td><td>2.0</td><td>4.0</td><td>2.0</td><td>5.0</td><td>3.0</td><td>4.0</td><td>9.0</td><td>4.0</td><td>7.0</td><td>0.0</td><td>0.0</td><td>0.0</td><td>3.0</td><td>76.9</td><td>0.0</td><td>0.0</td><td>0.0</td><td>178050.0</td><td>7746.0</td><td>2400.0</td><td>13734.0</td><td>null</td><td>null</td><td>null</td><td>null</td><td>null</td><td>null</td><td>null</td><td>null</td><td>null</td><td>null</td><td>null</td><td>null</td><td>null</td><td>N</td><td>null</td><td>null</td><td>null</td><td>null</td><td>null</td><td>null</td><td>null</td><td>null</td><td>null</td><td>null</td><td>null</td><td>null</td><td>null</td><td>null</td><td>Cash</td><td>N</td><td>null</td><td>null</td><td>null</td><td>null</td><td>null</td><td>null</td></tr>\n",
       "<tr><td>68355089</td><td>null</td><td>24700.0</td><td>24700.0</td><td>24700.0</td><td> 36 months</td><td>11.99</td><td>820.28</td><td>C</td><td>C1</td><td>Engineer</td><td>10+ years</td><td>MORTGAGE</td><td>65000.0</td><td>Not Verified</td><td>Dec-2015</td><td>Fully Paid</td><td>n</td><td>https://lendingcl...</td><td>null</td><td>small_business</td><td>Business</td><td>577xx</td><td>SD</td><td>16.06</td><td>1.0</td><td>Dec-1999</td><td>715.0</td><td>719.0</td><td>4.0</td><td>6.0</td><td>null</td><td>22.0</td><td>0.0</td><td>21470.0</td><td>19.2</td><td>38.0</td><td>w</td><td>0.0</td><td>0.0</td><td>25679.66</td><td>25679.66</td><td>24700.0</td><td>979.66</td><td>0.0</td><td>0.0</td><td>0.0</td><td>Jun-2016</td><td>926.35</td><td>null</td><td>Mar-2019</td><td>699.0</td><td>695.0</td><td>0.0</td><td>null</td><td>1.0</td><td>Individual</td><td>null</td><td>null</td><td>null</td><td>0.0</td><td>0.0</td><td>204396.0</td><td>1.0</td><td>1.0</td><td>0.0</td><td>1.0</td><td>19.0</td><td>18005.0</td><td>73.0</td><td>2.0</td><td>3.0</td><td>6472.0</td><td>29.0</td><td>111800.0</td><td>0.0</td><td>0.0</td><td>6.0</td><td>4.0</td><td>9733.0</td><td>57830.0</td><td>27.1</td><td>0.0</td><td>0.0</td><td>113.0</td><td>192.0</td><td>2.0</td><td>2.0</td><td>4.0</td><td>2.0</td><td>null</td><td>0.0</td><td>6.0</td><td>0.0</td><td>5.0</td><td>5.0</td><td>13.0</td><td>17.0</td><td>6.0</td><td>20.0</td><td>27.0</td><td>5.0</td><td>22.0</td><td>0.0</td><td>0.0</td><td>0.0</td><td>2.0</td><td>97.4</td><td>7.7</td><td>0.0</td><td>0.0</td><td>314017.0</td><td>39475.0</td><td>79300.0</td><td>24667.0</td><td>null</td><td>null</td><td>null</td><td>null</td><td>null</td><td>null</td><td>null</td><td>null</td><td>null</td><td>null</td><td>null</td><td>null</td><td>null</td><td>N</td><td>null</td><td>null</td><td>null</td><td>null</td><td>null</td><td>null</td><td>null</td><td>null</td><td>null</td><td>null</td><td>null</td><td>null</td><td>null</td><td>null</td><td>Cash</td><td>N</td><td>null</td><td>null</td><td>null</td><td>null</td><td>null</td><td>null</td></tr>\n",
       "<tr><td>68341763</td><td>null</td><td>20000.0</td><td>20000.0</td><td>20000.0</td><td> 60 months</td><td>10.78</td><td>432.66</td><td>B</td><td>B4</td><td>truck driver</td><td>10+ years</td><td>MORTGAGE</td><td>63000.0</td><td>Not Verified</td><td>Dec-2015</td><td>Fully Paid</td><td>n</td><td>https://lendingcl...</td><td>null</td><td>home_improvement</td><td>null</td><td>605xx</td><td>IL</td><td>10.78</td><td>0.0</td><td>Aug-2000</td><td>695.0</td><td>699.0</td><td>0.0</td><td>null</td><td>null</td><td>6.0</td><td>0.0</td><td>7869.0</td><td>56.2</td><td>18.0</td><td>w</td><td>0.0</td><td>0.0</td><td>22705.924293878397</td><td>22705.92</td><td>20000.0</td><td>2705.92</td><td>0.0</td><td>0.0</td><td>0.0</td><td>Jun-2017</td><td>15813.3</td><td>null</td><td>Mar-2019</td><td>704.0</td><td>700.0</td><td>0.0</td><td>null</td><td>1.0</td><td>Joint App</td><td>71000.0</td><td>13.85</td><td>Not Verified</td><td>0.0</td><td>0.0</td><td>189699.0</td><td>0.0</td><td>1.0</td><td>0.0</td><td>4.0</td><td>19.0</td><td>10827.0</td><td>73.0</td><td>0.0</td><td>2.0</td><td>2081.0</td><td>65.0</td><td>14000.0</td><td>2.0</td><td>5.0</td><td>1.0</td><td>6.0</td><td>31617.0</td><td>2737.0</td><td>55.9</td><td>0.0</td><td>0.0</td><td>125.0</td><td>184.0</td><td>14.0</td><td>14.0</td><td>5.0</td><td>101.0</td><td>null</td><td>10.0</td><td>null</td><td>0.0</td><td>2.0</td><td>3.0</td><td>2.0</td><td>4.0</td><td>6.0</td><td>4.0</td><td>7.0</td><td>3.0</td><td>6.0</td><td>0.0</td><td>0.0</td><td>0.0</td><td>0.0</td><td>100.0</td><td>50.0</td><td>0.0</td><td>0.0</td><td>218418.0</td><td>18696.0</td><td>6200.0</td><td>14877.0</td><td>null</td><td>null</td><td>null</td><td>null</td><td>null</td><td>null</td><td>null</td><td>null</td><td>null</td><td>null</td><td>null</td><td>null</td><td>null</td><td>N</td><td>null</td><td>null</td><td>null</td><td>null</td><td>null</td><td>null</td><td>null</td><td>null</td><td>null</td><td>null</td><td>null</td><td>null</td><td>null</td><td>null</td><td>Cash</td><td>N</td><td>null</td><td>null</td><td>null</td><td>null</td><td>null</td><td>null</td></tr>\n",
       "<tr><td>66310712</td><td>null</td><td>35000.0</td><td>35000.0</td><td>35000.0</td><td> 60 months</td><td>14.85</td><td>829.9</td><td>C</td><td>C5</td><td>Information Syste...</td><td>10+ years</td><td>MORTGAGE</td><td>110000.0</td><td>Source Verified</td><td>Dec-2015</td><td>Current</td><td>n</td><td>https://lendingcl...</td><td>null</td><td>debt_consolidation</td><td>Debt consolidation</td><td>076xx</td><td>NJ</td><td>17.06</td><td>0.0</td><td>Sep-2008</td><td>785.0</td><td>789.0</td><td>0.0</td><td>null</td><td>null</td><td>13.0</td><td>0.0</td><td>7802.0</td><td>11.6</td><td>17.0</td><td>w</td><td>15897.65</td><td>15897.65</td><td>31464.01</td><td>31464.01</td><td>19102.35</td><td>12361.66</td><td>0.0</td><td>0.0</td><td>0.0</td><td>Feb-2019</td><td>829.9</td><td>Apr-2019</td><td>Mar-2019</td><td>679.0</td><td>675.0</td><td>0.0</td><td>null</td><td>1.0</td><td>Individual</td><td>null</td><td>null</td><td>null</td><td>0.0</td><td>0.0</td><td>301500.0</td><td>1.0</td><td>1.0</td><td>0.0</td><td>1.0</td><td>23.0</td><td>12609.0</td><td>70.0</td><td>1.0</td><td>1.0</td><td>6987.0</td><td>45.0</td><td>67300.0</td><td>0.0</td><td>1.0</td><td>0.0</td><td>2.0</td><td>23192.0</td><td>54962.0</td><td>12.1</td><td>0.0</td><td>0.0</td><td>36.0</td><td>87.0</td><td>2.0</td><td>2.0</td><td>1.0</td><td>2.0</td><td>null</td><td>null</td><td>null</td><td>0.0</td><td>4.0</td><td>5.0</td><td>8.0</td><td>10.0</td><td>2.0</td><td>10.0</td><td>13.0</td><td>5.0</td><td>13.0</td><td>0.0</td><td>0.0</td><td>0.0</td><td>1.0</td><td>100.0</td><td>0.0</td><td>0.0</td><td>0.0</td><td>381215.0</td><td>52226.0</td><td>62500.0</td><td>18000.0</td><td>null</td><td>null</td><td>null</td><td>null</td><td>null</td><td>null</td><td>null</td><td>null</td><td>null</td><td>null</td><td>null</td><td>null</td><td>null</td><td>N</td><td>null</td><td>null</td><td>null</td><td>null</td><td>null</td><td>null</td><td>null</td><td>null</td><td>null</td><td>null</td><td>null</td><td>null</td><td>null</td><td>null</td><td>Cash</td><td>N</td><td>null</td><td>null</td><td>null</td><td>null</td><td>null</td><td>null</td></tr>\n",
       "<tr><td>68476807</td><td>null</td><td>10400.0</td><td>10400.0</td><td>10400.0</td><td> 60 months</td><td>22.45</td><td>289.91</td><td>F</td><td>F1</td><td>Contract Specialist</td><td>3 years</td><td>MORTGAGE</td><td>104433.0</td><td>Source Verified</td><td>Dec-2015</td><td>Fully Paid</td><td>n</td><td>https://lendingcl...</td><td>null</td><td>major_purchase</td><td>Major purchase</td><td>174xx</td><td>PA</td><td>25.37</td><td>1.0</td><td>Jun-1998</td><td>695.0</td><td>699.0</td><td>3.0</td><td>12.0</td><td>null</td><td>12.0</td><td>0.0</td><td>21929.0</td><td>64.5</td><td>35.0</td><td>w</td><td>0.0</td><td>0.0</td><td>11740.5</td><td>11740.5</td><td>10400.0</td><td>1340.5</td><td>0.0</td><td>0.0</td><td>0.0</td><td>Jul-2016</td><td>10128.96</td><td>null</td><td>Mar-2018</td><td>704.0</td><td>700.0</td><td>0.0</td><td>null</td><td>1.0</td><td>Individual</td><td>null</td><td>null</td><td>null</td><td>0.0</td><td>0.0</td><td>331730.0</td><td>1.0</td><td>3.0</td><td>0.0</td><td>3.0</td><td>14.0</td><td>73839.0</td><td>84.0</td><td>4.0</td><td>7.0</td><td>9702.0</td><td>78.0</td><td>34000.0</td><td>2.0</td><td>1.0</td><td>3.0</td><td>10.0</td><td>27644.0</td><td>4567.0</td><td>77.5</td><td>0.0</td><td>0.0</td><td>128.0</td><td>210.0</td><td>4.0</td><td>4.0</td><td>6.0</td><td>4.0</td><td>12.0</td><td>1.0</td><td>12.0</td><td>0.0</td><td>4.0</td><td>6.0</td><td>5.0</td><td>9.0</td><td>10.0</td><td>7.0</td><td>19.0</td><td>6.0</td><td>12.0</td><td>0.0</td><td>0.0</td><td>0.0</td><td>4.0</td><td>96.6</td><td>60.0</td><td>0.0</td><td>0.0</td><td>439570.0</td><td>95768.0</td><td>20300.0</td><td>88097.0</td><td>null</td><td>null</td><td>null</td><td>null</td><td>null</td><td>null</td><td>null</td><td>null</td><td>null</td><td>null</td><td>null</td><td>null</td><td>null</td><td>N</td><td>null</td><td>null</td><td>null</td><td>null</td><td>null</td><td>null</td><td>null</td><td>null</td><td>null</td><td>null</td><td>null</td><td>null</td><td>null</td><td>null</td><td>Cash</td><td>N</td><td>null</td><td>null</td><td>null</td><td>null</td><td>null</td><td>null</td></tr>\n",
       "<tr><td>68426831</td><td>null</td><td>11950.0</td><td>11950.0</td><td>11950.0</td><td> 36 months</td><td>13.44</td><td>405.18</td><td>C</td><td>C3</td><td>Veterinary Tecnician</td><td>4 years</td><td>RENT</td><td>34000.0</td><td>Source Verified</td><td>Dec-2015</td><td>Fully Paid</td><td>n</td><td>https://lendingcl...</td><td>null</td><td>debt_consolidation</td><td>Debt consolidation</td><td>300xx</td><td>GA</td><td>10.2</td><td>0.0</td><td>Oct-1987</td><td>690.0</td><td>694.0</td><td>0.0</td><td>null</td><td>null</td><td>5.0</td><td>0.0</td><td>8822.0</td><td>68.4</td><td>6.0</td><td>w</td><td>0.0</td><td>0.0</td><td>13708.9485297572</td><td>13708.95</td><td>11950.0</td><td>1758.95</td><td>0.0</td><td>0.0</td><td>0.0</td><td>May-2017</td><td>7653.56</td><td>null</td><td>May-2017</td><td>759.0</td><td>755.0</td><td>0.0</td><td>null</td><td>1.0</td><td>Individual</td><td>null</td><td>null</td><td>null</td><td>0.0</td><td>0.0</td><td>12798.0</td><td>0.0</td><td>1.0</td><td>0.0</td><td>0.0</td><td>338.0</td><td>3976.0</td><td>99.0</td><td>0.0</td><td>0.0</td><td>4522.0</td><td>76.0</td><td>12900.0</td><td>0.0</td><td>0.0</td><td>0.0</td><td>0.0</td><td>2560.0</td><td>844.0</td><td>91.0</td><td>0.0</td><td>0.0</td><td>338.0</td><td>54.0</td><td>32.0</td><td>32.0</td><td>0.0</td><td>36.0</td><td>null</td><td>null</td><td>null</td><td>0.0</td><td>2.0</td><td>3.0</td><td>2.0</td><td>2.0</td><td>2.0</td><td>4.0</td><td>4.0</td><td>3.0</td><td>5.0</td><td>0.0</td><td>0.0</td><td>0.0</td><td>0.0</td><td>100.0</td><td>100.0</td><td>0.0</td><td>0.0</td><td>16900.0</td><td>12798.0</td><td>9400.0</td><td>4000.0</td><td>null</td><td>null</td><td>null</td><td>null</td><td>null</td><td>null</td><td>null</td><td>null</td><td>null</td><td>null</td><td>null</td><td>null</td><td>null</td><td>N</td><td>null</td><td>null</td><td>null</td><td>null</td><td>null</td><td>null</td><td>null</td><td>null</td><td>null</td><td>null</td><td>null</td><td>null</td><td>null</td><td>null</td><td>Cash</td><td>N</td><td>null</td><td>null</td><td>null</td><td>null</td><td>null</td><td>null</td></tr>\n",
       "<tr><td>68476668</td><td>null</td><td>20000.0</td><td>20000.0</td><td>20000.0</td><td> 36 months</td><td>9.17</td><td>637.58</td><td>B</td><td>B2</td><td>Vice President of...</td><td>10+ years</td><td>MORTGAGE</td><td>180000.0</td><td>Not Verified</td><td>Dec-2015</td><td>Fully Paid</td><td>n</td><td>https://lendingcl...</td><td>null</td><td>debt_consolidation</td><td>Debt consolidation</td><td>550xx</td><td>MN</td><td>14.67</td><td>0.0</td><td>Jun-1990</td><td>680.0</td><td>684.0</td><td>0.0</td><td>49.0</td><td>null</td><td>12.0</td><td>0.0</td><td>87329.0</td><td>84.5</td><td>27.0</td><td>f</td><td>0.0</td><td>0.0</td><td>21393.800000011</td><td>21393.8</td><td>20000.0</td><td>1393.8</td><td>0.0</td><td>0.0</td><td>0.0</td><td>Nov-2016</td><td>15681.05</td><td>null</td><td>Mar-2019</td><td>654.0</td><td>650.0</td><td>0.0</td><td>null</td><td>1.0</td><td>Individual</td><td>null</td><td>null</td><td>null</td><td>0.0</td><td>0.0</td><td>360358.0</td><td>0.0</td><td>2.0</td><td>0.0</td><td>2.0</td><td>18.0</td><td>29433.0</td><td>63.0</td><td>2.0</td><td>3.0</td><td>13048.0</td><td>74.0</td><td>94200.0</td><td>1.0</td><td>0.0</td><td>1.0</td><td>6.0</td><td>30030.0</td><td>0.0</td><td>102.9</td><td>0.0</td><td>0.0</td><td>142.0</td><td>306.0</td><td>10.0</td><td>10.0</td><td>4.0</td><td>12.0</td><td>null</td><td>10.0</td><td>null</td><td>0.0</td><td>4.0</td><td>6.0</td><td>4.0</td><td>5.0</td><td>7.0</td><td>9.0</td><td>16.0</td><td>6.0</td><td>12.0</td><td>0.0</td><td>0.0</td><td>0.0</td><td>2.0</td><td>96.3</td><td>100.0</td><td>0.0</td><td>0.0</td><td>388852.0</td><td>116762.0</td><td>31500.0</td><td>46452.0</td><td>null</td><td>null</td><td>null</td><td>null</td><td>null</td><td>null</td><td>null</td><td>null</td><td>null</td><td>null</td><td>null</td><td>null</td><td>null</td><td>N</td><td>null</td><td>null</td><td>null</td><td>null</td><td>null</td><td>null</td><td>null</td><td>null</td><td>null</td><td>null</td><td>null</td><td>null</td><td>null</td><td>null</td><td>Cash</td><td>N</td><td>null</td><td>null</td><td>null</td><td>null</td><td>null</td><td>null</td></tr>\n",
       "<tr><td>67275481</td><td>null</td><td>20000.0</td><td>20000.0</td><td>20000.0</td><td> 36 months</td><td>8.49</td><td>631.26</td><td>B</td><td>B1</td><td>road driver</td><td>10+ years</td><td>MORTGAGE</td><td>85000.0</td><td>Not Verified</td><td>Dec-2015</td><td>Fully Paid</td><td>n</td><td>https://lendingcl...</td><td>null</td><td>major_purchase</td><td>Major purchase</td><td>293xx</td><td>SC</td><td>17.61</td><td>1.0</td><td>Feb-1999</td><td>705.0</td><td>709.0</td><td>0.0</td><td>3.0</td><td>null</td><td>8.0</td><td>0.0</td><td>826.0</td><td>5.7</td><td>15.0</td><td>w</td><td>0.0</td><td>0.0</td><td>21538.508976797</td><td>21538.51</td><td>20000.0</td><td>1538.51</td><td>0.0</td><td>0.0</td><td>0.0</td><td>Jan-2017</td><td>14618.23</td><td>null</td><td>Mar-2019</td><td>674.0</td><td>670.0</td><td>0.0</td><td>3.0</td><td>1.0</td><td>Individual</td><td>null</td><td>null</td><td>null</td><td>0.0</td><td>0.0</td><td>141601.0</td><td>0.0</td><td>3.0</td><td>0.0</td><td>4.0</td><td>13.0</td><td>27111.0</td><td>75.0</td><td>0.0</td><td>0.0</td><td>640.0</td><td>55.0</td><td>14500.0</td><td>1.0</td><td>0.0</td><td>2.0</td><td>4.0</td><td>17700.0</td><td>13674.0</td><td>5.7</td><td>0.0</td><td>0.0</td><td>149.0</td><td>55.0</td><td>32.0</td><td>13.0</td><td>3.0</td><td>32.0</td><td>null</td><td>8.0</td><td>null</td><td>1.0</td><td>2.0</td><td>2.0</td><td>3.0</td><td>3.0</td><td>9.0</td><td>3.0</td><td>3.0</td><td>2.0</td><td>8.0</td><td>0.0</td><td>0.0</td><td>1.0</td><td>0.0</td><td>93.3</td><td>0.0</td><td>0.0</td><td>0.0</td><td>193390.0</td><td>27937.0</td><td>14500.0</td><td>36144.0</td><td>null</td><td>null</td><td>null</td><td>null</td><td>null</td><td>null</td><td>null</td><td>null</td><td>null</td><td>null</td><td>null</td><td>null</td><td>null</td><td>N</td><td>null</td><td>null</td><td>null</td><td>null</td><td>null</td><td>null</td><td>null</td><td>null</td><td>null</td><td>null</td><td>null</td><td>null</td><td>null</td><td>null</td><td>Cash</td><td>N</td><td>null</td><td>null</td><td>null</td><td>null</td><td>null</td><td>null</td></tr>\n",
       "<tr><td>68466926</td><td>null</td><td>10000.0</td><td>10000.0</td><td>10000.0</td><td> 36 months</td><td>6.49</td><td>306.45</td><td>A</td><td>A2</td><td>SERVICE MANAGER</td><td>6 years</td><td>RENT</td><td>85000.0</td><td>Not Verified</td><td>Dec-2015</td><td>Fully Paid</td><td>n</td><td>https://lendingcl...</td><td>null</td><td>credit_card</td><td>Credit card refin...</td><td>160xx</td><td>PA</td><td>13.07</td><td>0.0</td><td>Apr-2002</td><td>685.0</td><td>689.0</td><td>1.0</td><td>null</td><td>106.0</td><td>14.0</td><td>1.0</td><td>10464.0</td><td>34.5</td><td>23.0</td><td>w</td><td>0.0</td><td>0.0</td><td>10998.9715749644</td><td>10998.97</td><td>10000.0</td><td>998.97</td><td>0.0</td><td>0.0</td><td>0.0</td><td>Aug-2018</td><td>1814.48</td><td>null</td><td>Mar-2019</td><td>719.0</td><td>715.0</td><td>0.0</td><td>null</td><td>1.0</td><td>Individual</td><td>null</td><td>null</td><td>null</td><td>0.0</td><td>8341.0</td><td>27957.0</td><td>2.0</td><td>1.0</td><td>0.0</td><td>0.0</td><td>35.0</td><td>17493.0</td><td>57.0</td><td>2.0</td><td>7.0</td><td>2524.0</td><td>46.0</td><td>30300.0</td><td>2.0</td><td>0.0</td><td>1.0</td><td>7.0</td><td>1997.0</td><td>8182.0</td><td>50.1</td><td>0.0</td><td>0.0</td><td>164.0</td><td>129.0</td><td>1.0</td><td>1.0</td><td>1.0</td><td>4.0</td><td>null</td><td>1.0</td><td>null</td><td>0.0</td><td>6.0</td><td>9.0</td><td>7.0</td><td>10.0</td><td>3.0</td><td>13.0</td><td>19.0</td><td>9.0</td><td>14.0</td><td>0.0</td><td>0.0</td><td>0.0</td><td>2.0</td><td>95.7</td><td>28.6</td><td>1.0</td><td>0.0</td><td>61099.0</td><td>27957.0</td><td>16400.0</td><td>30799.0</td><td>null</td><td>null</td><td>null</td><td>null</td><td>null</td><td>null</td><td>null</td><td>null</td><td>null</td><td>null</td><td>null</td><td>null</td><td>null</td><td>N</td><td>null</td><td>null</td><td>null</td><td>null</td><td>null</td><td>null</td><td>null</td><td>null</td><td>null</td><td>null</td><td>null</td><td>null</td><td>null</td><td>null</td><td>Cash</td><td>N</td><td>null</td><td>null</td><td>null</td><td>null</td><td>null</td><td>null</td></tr>\n",
       "<tr><td>68616873</td><td>null</td><td>8000.0</td><td>8000.0</td><td>8000.0</td><td> 36 months</td><td>11.48</td><td>263.74</td><td>B</td><td>B5</td><td>Vendor liaison</td><td>10+ years</td><td>MORTGAGE</td><td>42000.0</td><td>Not Verified</td><td>Dec-2015</td><td>Fully Paid</td><td>n</td><td>https://lendingcl...</td><td>null</td><td>credit_card</td><td>Credit card refin...</td><td>029xx</td><td>RI</td><td>34.8</td><td>0.0</td><td>Nov-1994</td><td>700.0</td><td>704.0</td><td>0.0</td><td>75.0</td><td>null</td><td>8.0</td><td>0.0</td><td>7034.0</td><td>39.1</td><td>18.0</td><td>w</td><td>0.0</td><td>0.0</td><td>8939.5805031401</td><td>8939.58</td><td>8000.0</td><td>939.58</td><td>0.0</td><td>0.0</td><td>0.0</td><td>Apr-2017</td><td>4996.24</td><td>null</td><td>Nov-2018</td><td>679.0</td><td>675.0</td><td>0.0</td><td>75.0</td><td>1.0</td><td>Individual</td><td>null</td><td>null</td><td>null</td><td>0.0</td><td>0.0</td><td>199696.0</td><td>0.0</td><td>2.0</td><td>2.0</td><td>3.0</td><td>10.0</td><td>106748.0</td><td>72.0</td><td>0.0</td><td>2.0</td><td>4725.0</td><td>49.0</td><td>18000.0</td><td>0.0</td><td>0.0</td><td>1.0</td><td>5.0</td><td>28528.0</td><td>9966.0</td><td>41.4</td><td>0.0</td><td>0.0</td><td>155.0</td><td>253.0</td><td>15.0</td><td>10.0</td><td>1.0</td><td>50.0</td><td>null</td><td>10.0</td><td>null</td><td>1.0</td><td>3.0</td><td>3.0</td><td>3.0</td><td>6.0</td><td>5.0</td><td>5.0</td><td>11.0</td><td>3.0</td><td>8.0</td><td>0.0</td><td>0.0</td><td>0.0</td><td>2.0</td><td>94.4</td><td>33.3</td><td>0.0</td><td>0.0</td><td>256513.0</td><td>113782.0</td><td>17000.0</td><td>135513.0</td><td>null</td><td>null</td><td>null</td><td>null</td><td>null</td><td>null</td><td>null</td><td>null</td><td>null</td><td>null</td><td>null</td><td>null</td><td>null</td><td>N</td><td>null</td><td>null</td><td>null</td><td>null</td><td>null</td><td>null</td><td>null</td><td>null</td><td>null</td><td>null</td><td>null</td><td>null</td><td>null</td><td>null</td><td>Cash</td><td>N</td><td>null</td><td>null</td><td>null</td><td>null</td><td>null</td><td>null</td></tr>\n",
       "<tr><td>68356421</td><td>null</td><td>22400.0</td><td>22400.0</td><td>22400.0</td><td> 60 months</td><td>12.88</td><td>508.3</td><td>C</td><td>C2</td><td>Executive Director</td><td>6 years</td><td>MORTGAGE</td><td>95000.0</td><td>Not Verified</td><td>Dec-2015</td><td>Current</td><td>n</td><td>https://lendingcl...</td><td>null</td><td>debt_consolidation</td><td>Debt consolidation</td><td>290xx</td><td>SC</td><td>22.98</td><td>0.0</td><td>Apr-1995</td><td>710.0</td><td>714.0</td><td>0.0</td><td>54.0</td><td>null</td><td>16.0</td><td>0.0</td><td>13028.0</td><td>32.7</td><td>35.0</td><td>w</td><td>9912.88</td><td>9912.88</td><td>19275.33</td><td>19275.33</td><td>12487.12</td><td>6788.21</td><td>0.0</td><td>0.0</td><td>0.0</td><td>Feb-2019</td><td>508.3</td><td>Apr-2019</td><td>Mar-2019</td><td>589.0</td><td>585.0</td><td>0.0</td><td>54.0</td><td>1.0</td><td>Individual</td><td>null</td><td>null</td><td>null</td><td>0.0</td><td>0.0</td><td>376218.0</td><td>1.0</td><td>5.0</td><td>0.0</td><td>3.0</td><td>17.0</td><td>171328.0</td><td>67.0</td><td>3.0</td><td>6.0</td><td>8121.0</td><td>54.0</td><td>39800.0</td><td>1.0</td><td>5.0</td><td>0.0</td><td>9.0</td><td>23514.0</td><td>12617.0</td><td>39.9</td><td>0.0</td><td>0.0</td><td>150.0</td><td>248.0</td><td>1.0</td><td>1.0</td><td>5.0</td><td>1.0</td><td>null</td><td>14.0</td><td>null</td><td>2.0</td><td>3.0</td><td>8.0</td><td>4.0</td><td>5.0</td><td>15.0</td><td>10.0</td><td>15.0</td><td>8.0</td><td>16.0</td><td>0.0</td><td>0.0</td><td>0.0</td><td>3.0</td><td>97.0</td><td>25.0</td><td>0.0</td><td>0.0</td><td>436841.0</td><td>184356.0</td><td>21000.0</td><td>191682.0</td><td>null</td><td>null</td><td>null</td><td>null</td><td>null</td><td>null</td><td>null</td><td>null</td><td>null</td><td>null</td><td>null</td><td>null</td><td>null</td><td>N</td><td>null</td><td>null</td><td>null</td><td>null</td><td>null</td><td>null</td><td>null</td><td>null</td><td>null</td><td>null</td><td>null</td><td>null</td><td>null</td><td>null</td><td>Cash</td><td>N</td><td>null</td><td>null</td><td>null</td><td>null</td><td>null</td><td>null</td></tr>\n",
       "<tr><td>68426545</td><td>null</td><td>16000.0</td><td>16000.0</td><td>16000.0</td><td> 60 months</td><td>12.88</td><td>363.07</td><td>C</td><td>C2</td><td>Senior Structural...</td><td>1 year</td><td>MORTGAGE</td><td>70000.0</td><td>Not Verified</td><td>Dec-2015</td><td>Current</td><td>n</td><td>https://lendingcl...</td><td>null</td><td>debt_consolidation</td><td>Debt consolidation</td><td>786xx</td><td>TX</td><td>26.4</td><td>0.0</td><td>Feb-1988</td><td>720.0</td><td>724.0</td><td>0.0</td><td>null</td><td>null</td><td>13.0</td><td>0.0</td><td>28705.0</td><td>56.3</td><td>29.0</td><td>w</td><td>7080.7</td><td>7080.7</td><td>13768.04</td><td>13768.04</td><td>8919.3</td><td>4848.74</td><td>0.0</td><td>0.0</td><td>0.0</td><td>Feb-2019</td><td>363.07</td><td>Apr-2019</td><td>Mar-2019</td><td>754.0</td><td>750.0</td><td>0.0</td><td>null</td><td>1.0</td><td>Individual</td><td>null</td><td>null</td><td>null</td><td>0.0</td><td>0.0</td><td>265836.0</td><td>0.0</td><td>2.0</td><td>0.0</td><td>2.0</td><td>13.0</td><td>33702.0</td><td>74.0</td><td>1.0</td><td>1.0</td><td>8739.0</td><td>64.0</td><td>51000.0</td><td>0.0</td><td>0.0</td><td>1.0</td><td>3.0</td><td>24167.0</td><td>17922.0</td><td>61.0</td><td>0.0</td><td>0.0</td><td>147.0</td><td>334.0</td><td>9.0</td><td>9.0</td><td>2.0</td><td>9.0</td><td>null</td><td>11.0</td><td>null</td><td>0.0</td><td>4.0</td><td>6.0</td><td>5.0</td><td>12.0</td><td>6.0</td><td>10.0</td><td>21.0</td><td>6.0</td><td>13.0</td><td>0.0</td><td>0.0</td><td>0.0</td><td>1.0</td><td>100.0</td><td>60.0</td><td>0.0</td><td>0.0</td><td>309638.0</td><td>62407.0</td><td>45900.0</td><td>45838.0</td><td>null</td><td>null</td><td>null</td><td>null</td><td>null</td><td>null</td><td>null</td><td>null</td><td>null</td><td>null</td><td>null</td><td>null</td><td>null</td><td>N</td><td>null</td><td>null</td><td>null</td><td>null</td><td>null</td><td>null</td><td>null</td><td>null</td><td>null</td><td>null</td><td>null</td><td>null</td><td>null</td><td>null</td><td>Cash</td><td>N</td><td>null</td><td>null</td><td>null</td><td>null</td><td>null</td><td>null</td></tr>\n",
       "<tr><td>68338832</td><td>null</td><td>1400.0</td><td>1400.0</td><td>1400.0</td><td> 36 months</td><td>12.88</td><td>47.1</td><td>C</td><td>C2</td><td>Logistics Manager</td><td>3 years</td><td>MORTGAGE</td><td>64000.0</td><td>Not Verified</td><td>Dec-2015</td><td>Fully Paid</td><td>n</td><td>https://lendingcl...</td><td>null</td><td>other</td><td>null</td><td>275xx</td><td>NC</td><td>34.95</td><td>0.0</td><td>Jun-1996</td><td>700.0</td><td>704.0</td><td>0.0</td><td>null</td><td>null</td><td>17.0</td><td>0.0</td><td>37828.0</td><td>67.2</td><td>24.0</td><td>w</td><td>0.0</td><td>0.0</td><td>1575.160697674</td><td>1575.16</td><td>1400.0</td><td>175.16</td><td>0.0</td><td>0.0</td><td>0.0</td><td>Mar-2017</td><td>965.36</td><td>null</td><td>Sep-2018</td><td>704.0</td><td>700.0</td><td>0.0</td><td>null</td><td>1.0</td><td>Individual</td><td>null</td><td>null</td><td>null</td><td>0.0</td><td>0.0</td><td>325695.0</td><td>1.0</td><td>3.0</td><td>1.0</td><td>2.0</td><td>2.0</td><td>37430.0</td><td>67.0</td><td>0.0</td><td>2.0</td><td>7386.0</td><td>67.0</td><td>56300.0</td><td>0.0</td><td>2.0</td><td>0.0</td><td>4.0</td><td>19159.0</td><td>7940.0</td><td>77.0</td><td>0.0</td><td>0.0</td><td>46.0</td><td>234.0</td><td>18.0</td><td>2.0</td><td>4.0</td><td>28.0</td><td>null</td><td>18.0</td><td>null</td><td>0.0</td><td>7.0</td><td>11.0</td><td>8.0</td><td>11.0</td><td>3.0</td><td>12.0</td><td>17.0</td><td>11.0</td><td>17.0</td><td>0.0</td><td>0.0</td><td>0.0</td><td>1.0</td><td>100.0</td><td>75.0</td><td>0.0</td><td>0.0</td><td>372109.0</td><td>75258.0</td><td>34500.0</td><td>55501.0</td><td>null</td><td>null</td><td>null</td><td>null</td><td>null</td><td>null</td><td>null</td><td>null</td><td>null</td><td>null</td><td>null</td><td>null</td><td>null</td><td>N</td><td>null</td><td>null</td><td>null</td><td>null</td><td>null</td><td>null</td><td>null</td><td>null</td><td>null</td><td>null</td><td>null</td><td>null</td><td>null</td><td>null</td><td>Cash</td><td>N</td><td>null</td><td>null</td><td>null</td><td>null</td><td>null</td><td>null</td></tr>\n",
       "<tr><td>66624733</td><td>null</td><td>18000.0</td><td>18000.0</td><td>18000.0</td><td> 60 months</td><td>19.48</td><td>471.7</td><td>E</td><td>E2</td><td>Software Manager</td><td>7 years</td><td>RENT</td><td>150000.0</td><td>Not Verified</td><td>Dec-2015</td><td>Charged Off</td><td>n</td><td>https://lendingcl...</td><td>null</td><td>debt_consolidation</td><td>Debt consolidation</td><td>916xx</td><td>CA</td><td>9.39</td><td>0.0</td><td>Jun-2005</td><td>665.0</td><td>669.0</td><td>1.0</td><td>null</td><td>75.0</td><td>18.0</td><td>1.0</td><td>14052.0</td><td>40.7</td><td>27.0</td><td>w</td><td>0.0</td><td>0.0</td><td>9452.74</td><td>9452.74</td><td>3481.86</td><td>4351.98</td><td>0.0</td><td>1618.9</td><td>291.402</td><td>May-2017</td><td>471.7</td><td>null</td><td>Nov-2017</td><td>584.0</td><td>580.0</td><td>0.0</td><td>null</td><td>1.0</td><td>Individual</td><td>null</td><td>null</td><td>null</td><td>0.0</td><td>60.0</td><td>36247.0</td><td>2.0</td><td>2.0</td><td>1.0</td><td>3.0</td><td>2.0</td><td>22195.0</td><td>71.0</td><td>2.0</td><td>4.0</td><td>1271.0</td><td>55.0</td><td>34500.0</td><td>2.0</td><td>1.0</td><td>2.0</td><td>7.0</td><td>2014.0</td><td>5128.0</td><td>51.3</td><td>0.0</td><td>0.0</td><td>115.0</td><td>112.0</td><td>1.0</td><td>1.0</td><td>2.0</td><td>9.0</td><td>null</td><td>2.0</td><td>null</td><td>0.0</td><td>6.0</td><td>13.0</td><td>7.0</td><td>8.0</td><td>6.0</td><td>16.0</td><td>19.0</td><td>13.0</td><td>18.0</td><td>0.0</td><td>0.0</td><td>0.0</td><td>3.0</td><td>100.0</td><td>14.3</td><td>1.0</td><td>0.0</td><td>65819.0</td><td>36247.0</td><td>10300.0</td><td>31319.0</td><td>null</td><td>null</td><td>null</td><td>null</td><td>null</td><td>null</td><td>null</td><td>null</td><td>null</td><td>null</td><td>null</td><td>null</td><td>null</td><td>N</td><td>null</td><td>null</td><td>null</td><td>null</td><td>null</td><td>null</td><td>null</td><td>null</td><td>null</td><td>null</td><td>null</td><td>null</td><td>null</td><td>null</td><td>Cash</td><td>N</td><td>null</td><td>null</td><td>null</td><td>null</td><td>null</td><td>null</td></tr>\n",
       "<tr><td>68466961</td><td>null</td><td>28000.0</td><td>28000.0</td><td>28000.0</td><td> 36 months</td><td>6.49</td><td>858.05</td><td>A</td><td>A2</td><td>Senior Manager</td><td>10+ years</td><td>MORTGAGE</td><td>92000.0</td><td>Not Verified</td><td>Dec-2015</td><td>Fully Paid</td><td>n</td><td>https://lendingcl...</td><td>null</td><td>debt_consolidation</td><td>Debt consolidation</td><td>275xx</td><td>NC</td><td>21.6</td><td>0.0</td><td>May-1984</td><td>720.0</td><td>724.0</td><td>0.0</td><td>42.0</td><td>null</td><td>16.0</td><td>0.0</td><td>51507.0</td><td>64.5</td><td>24.0</td><td>w</td><td>0.0</td><td>0.0</td><td>29939.017729337003</td><td>29939.02</td><td>28000.0</td><td>1939.02</td><td>0.0</td><td>0.0</td><td>0.0</td><td>May-2017</td><td>17093.51</td><td>null</td><td>Mar-2019</td><td>764.0</td><td>760.0</td><td>0.0</td><td>null</td><td>1.0</td><td>Individual</td><td>null</td><td>null</td><td>null</td><td>0.0</td><td>0.0</td><td>221110.0</td><td>0.0</td><td>2.0</td><td>0.0</td><td>0.0</td><td>27.0</td><td>23413.0</td><td>55.0</td><td>0.0</td><td>1.0</td><td>8752.0</td><td>61.0</td><td>79900.0</td><td>0.0</td><td>1.0</td><td>0.0</td><td>1.0</td><td>13819.0</td><td>16623.0</td><td>59.9</td><td>0.0</td><td>0.0</td><td>82.0</td><td>379.0</td><td>19.0</td><td>19.0</td><td>2.0</td><td>19.0</td><td>48.0</td><td>null</td><td>42.0</td><td>0.0</td><td>7.0</td><td>9.0</td><td>9.0</td><td>11.0</td><td>4.0</td><td>13.0</td><td>18.0</td><td>9.0</td><td>16.0</td><td>0.0</td><td>0.0</td><td>0.0</td><td>0.0</td><td>91.7</td><td>22.2</td><td>0.0</td><td>0.0</td><td>304003.0</td><td>74920.0</td><td>41500.0</td><td>42503.0</td><td>null</td><td>null</td><td>null</td><td>null</td><td>null</td><td>null</td><td>null</td><td>null</td><td>null</td><td>null</td><td>null</td><td>null</td><td>null</td><td>N</td><td>null</td><td>null</td><td>null</td><td>null</td><td>null</td><td>null</td><td>null</td><td>null</td><td>null</td><td>null</td><td>null</td><td>null</td><td>null</td><td>null</td><td>Cash</td><td>N</td><td>null</td><td>null</td><td>null</td><td>null</td><td>null</td><td>null</td></tr>\n",
       "<tr><td>68354783</td><td>null</td><td>9600.0</td><td>9600.0</td><td>9600.0</td><td> 36 months</td><td>7.49</td><td>298.58</td><td>A</td><td>A4</td><td>tech</td><td>8 years</td><td>MORTGAGE</td><td>60000.0</td><td>Not Verified</td><td>Dec-2015</td><td>Fully Paid</td><td>n</td><td>https://lendingcl...</td><td>null</td><td>credit_card</td><td>Credit card refin...</td><td>299xx</td><td>SC</td><td>22.44</td><td>0.0</td><td>Jun-1996</td><td>695.0</td><td>699.0</td><td>0.0</td><td>null</td><td>null</td><td>7.0</td><td>0.0</td><td>7722.0</td><td>59.4</td><td>9.0</td><td>w</td><td>0.0</td><td>0.0</td><td>10636.098427692801</td><td>10636.1</td><td>9600.0</td><td>1036.1</td><td>0.0</td><td>0.0</td><td>0.0</td><td>Feb-2018</td><td>3480.17</td><td>null</td><td>Aug-2018</td><td>779.0</td><td>775.0</td><td>0.0</td><td>null</td><td>1.0</td><td>Individual</td><td>null</td><td>null</td><td>null</td><td>0.0</td><td>0.0</td><td>55387.0</td><td>0.0</td><td>3.0</td><td>0.0</td><td>0.0</td><td>47.0</td><td>47665.0</td><td>43.0</td><td>2.0</td><td>2.0</td><td>4744.0</td><td>50.0</td><td>13000.0</td><td>0.0</td><td>0.0</td><td>2.0</td><td>2.0</td><td>7912.0</td><td>4778.0</td><td>61.8</td><td>0.0</td><td>0.0</td><td>234.0</td><td>91.0</td><td>9.0</td><td>9.0</td><td>0.0</td><td>11.0</td><td>null</td><td>9.0</td><td>null</td><td>0.0</td><td>3.0</td><td>3.0</td><td>3.0</td><td>3.0</td><td>5.0</td><td>4.0</td><td>4.0</td><td>3.0</td><td>7.0</td><td>0.0</td><td>0.0</td><td>0.0</td><td>2.0</td><td>100.0</td><td>66.7</td><td>0.0</td><td>0.0</td><td>88635.0</td><td>55387.0</td><td>12500.0</td><td>75635.0</td><td>null</td><td>null</td><td>null</td><td>null</td><td>null</td><td>null</td><td>null</td><td>null</td><td>null</td><td>null</td><td>null</td><td>null</td><td>null</td><td>N</td><td>null</td><td>null</td><td>null</td><td>null</td><td>null</td><td>null</td><td>null</td><td>null</td><td>null</td><td>null</td><td>null</td><td>null</td><td>null</td><td>null</td><td>Cash</td><td>N</td><td>null</td><td>null</td><td>null</td><td>null</td><td>null</td><td>null</td></tr>\n",
       "<tr><td>68466916</td><td>null</td><td>25000.0</td><td>25000.0</td><td>25000.0</td><td> 36 months</td><td>7.49</td><td>777.55</td><td>A</td><td>A4</td><td>Sales Manager</td><td>10+ years</td><td>MORTGAGE</td><td>109000.0</td><td>Not Verified</td><td>Dec-2015</td><td>Fully Paid</td><td>n</td><td>https://lendingcl...</td><td>null</td><td>debt_consolidation</td><td>Debt consolidation</td><td>226xx</td><td>VA</td><td>26.02</td><td>0.0</td><td>Dec-2001</td><td>745.0</td><td>749.0</td><td>1.0</td><td>null</td><td>null</td><td>9.0</td><td>0.0</td><td>20862.0</td><td>54.3</td><td>19.0</td><td>w</td><td>0.0</td><td>0.0</td><td>26224.23</td><td>26224.23</td><td>25000.0</td><td>1224.23</td><td>0.0</td><td>0.0</td><td>0.0</td><td>Sep-2016</td><td>20807.39</td><td>null</td><td>Apr-2017</td><td>724.0</td><td>720.0</td><td>0.0</td><td>null</td><td>1.0</td><td>Individual</td><td>null</td><td>null</td><td>null</td><td>0.0</td><td>0.0</td><td>305781.0</td><td>0.0</td><td>3.0</td><td>0.0</td><td>1.0</td><td>13.0</td><td>47194.0</td><td>58.0</td><td>0.0</td><td>1.0</td><td>8937.0</td><td>57.0</td><td>38400.0</td><td>1.0</td><td>0.0</td><td>1.0</td><td>2.0</td><td>33976.0</td><td>17538.0</td><td>54.3</td><td>0.0</td><td>0.0</td><td>142.0</td><td>168.0</td><td>13.0</td><td>13.0</td><td>3.0</td><td>13.0</td><td>null</td><td>0.0</td><td>null</td><td>0.0</td><td>3.0</td><td>3.0</td><td>5.0</td><td>6.0</td><td>7.0</td><td>5.0</td><td>9.0</td><td>3.0</td><td>9.0</td><td>0.0</td><td>0.0</td><td>0.0</td><td>0.0</td><td>100.0</td><td>20.0</td><td>0.0</td><td>0.0</td><td>373572.0</td><td>68056.0</td><td>38400.0</td><td>82117.0</td><td>null</td><td>null</td><td>null</td><td>null</td><td>null</td><td>null</td><td>null</td><td>null</td><td>null</td><td>null</td><td>null</td><td>null</td><td>null</td><td>N</td><td>null</td><td>null</td><td>null</td><td>null</td><td>null</td><td>null</td><td>null</td><td>null</td><td>null</td><td>null</td><td>null</td><td>null</td><td>null</td><td>null</td><td>Cash</td><td>N</td><td>null</td><td>null</td><td>null</td><td>null</td><td>null</td><td>null</td></tr>\n",
       "<tr><td>68577849</td><td>null</td><td>18000.0</td><td>18000.0</td><td>18000.0</td><td> 60 months</td><td>11.99</td><td>400.31</td><td>C</td><td>C1</td><td>GS-11</td><td>10+ years</td><td>MORTGAGE</td><td>112000.0</td><td>Not Verified</td><td>Dec-2015</td><td>Fully Paid</td><td>n</td><td>https://lendingcl...</td><td>null</td><td>debt_consolidation</td><td>Debt consolidation</td><td>856xx</td><td>AZ</td><td>8.68</td><td>0.0</td><td>Nov-1993</td><td>800.0</td><td>804.0</td><td>0.0</td><td>null</td><td>null</td><td>17.0</td><td>0.0</td><td>10711.0</td><td>15.5</td><td>27.0</td><td>w</td><td>0.0</td><td>0.0</td><td>18387.22</td><td>18387.22</td><td>18000.0</td><td>387.22</td><td>0.0</td><td>0.0</td><td>0.0</td><td>Mar-2016</td><td>18004.9</td><td>null</td><td>Mar-2019</td><td>794.0</td><td>790.0</td><td>0.0</td><td>null</td><td>1.0</td><td>Individual</td><td>null</td><td>null</td><td>null</td><td>0.0</td><td>0.0</td><td>205067.0</td><td>3.0</td><td>1.0</td><td>2.0</td><td>2.0</td><td>3.0</td><td>25416.0</td><td>97.0</td><td>2.0</td><td>3.0</td><td>7672.0</td><td>38.0</td><td>82400.0</td><td>0.0</td><td>1.0</td><td>1.0</td><td>5.0</td><td>17089.0</td><td>60336.0</td><td>16.7</td><td>0.0</td><td>0.0</td><td>109.0</td><td>265.0</td><td>1.0</td><td>1.0</td><td>4.0</td><td>1.0</td><td>null</td><td>10.0</td><td>null</td><td>0.0</td><td>5.0</td><td>6.0</td><td>12.0</td><td>12.0</td><td>6.0</td><td>15.0</td><td>17.0</td><td>6.0</td><td>16.0</td><td>0.0</td><td>0.0</td><td>0.0</td><td>4.0</td><td>100.0</td><td>0.0</td><td>0.0</td><td>0.0</td><td>309710.0</td><td>36127.0</td><td>69800.0</td><td>26210.0</td><td>null</td><td>null</td><td>null</td><td>null</td><td>null</td><td>null</td><td>null</td><td>null</td><td>null</td><td>null</td><td>null</td><td>null</td><td>null</td><td>N</td><td>null</td><td>null</td><td>null</td><td>null</td><td>null</td><td>null</td><td>null</td><td>null</td><td>null</td><td>null</td><td>null</td><td>null</td><td>null</td><td>null</td><td>Cash</td><td>N</td><td>null</td><td>null</td><td>null</td><td>null</td><td>null</td><td>null</td></tr>\n",
       "<tr><td>68506798</td><td>null</td><td>23000.0</td><td>23000.0</td><td>23000.0</td><td> 60 months</td><td>8.49</td><td>471.77</td><td>B</td><td>B1</td><td>Teacher</td><td>5 years</td><td>RENT</td><td>64000.0</td><td>Not Verified</td><td>Dec-2015</td><td>Current</td><td>n</td><td>https://lendingcl...</td><td>null</td><td>credit_card</td><td>Credit card refin...</td><td>117xx</td><td>NY</td><td>18.28</td><td>0.0</td><td>Sep-2001</td><td>700.0</td><td>704.0</td><td>0.0</td><td>29.0</td><td>null</td><td>21.0</td><td>0.0</td><td>24940.0</td><td>52.7</td><td>33.0</td><td>w</td><td>9580.2</td><td>9580.2</td><td>17900.14</td><td>17900.14</td><td>13419.8</td><td>4480.34</td><td>0.0</td><td>0.0</td><td>0.0</td><td>Feb-2019</td><td>471.77</td><td>Apr-2019</td><td>Mar-2019</td><td>744.0</td><td>740.0</td><td>0.0</td><td>null</td><td>1.0</td><td>Individual</td><td>null</td><td>null</td><td>null</td><td>0.0</td><td>0.0</td><td>63886.0</td><td>0.0</td><td>7.0</td><td>0.0</td><td>0.0</td><td>42.0</td><td>38946.0</td><td>84.0</td><td>2.0</td><td>3.0</td><td>9516.0</td><td>68.0</td><td>47300.0</td><td>0.0</td><td>3.0</td><td>1.0</td><td>3.0</td><td>3549.0</td><td>15603.0</td><td>60.5</td><td>0.0</td><td>0.0</td><td>163.0</td><td>171.0</td><td>8.0</td><td>8.0</td><td>0.0</td><td>12.0</td><td>30.0</td><td>8.0</td><td>29.0</td><td>0.0</td><td>6.0</td><td>8.0</td><td>7.0</td><td>8.0</td><td>14.0</td><td>14.0</td><td>19.0</td><td>8.0</td><td>21.0</td><td>0.0</td><td>0.0</td><td>0.0</td><td>2.0</td><td>87.9</td><td>14.3</td><td>0.0</td><td>0.0</td><td>93962.0</td><td>63886.0</td><td>39500.0</td><td>46662.0</td><td>null</td><td>null</td><td>null</td><td>null</td><td>null</td><td>null</td><td>null</td><td>null</td><td>null</td><td>null</td><td>null</td><td>null</td><td>null</td><td>N</td><td>null</td><td>null</td><td>null</td><td>null</td><td>null</td><td>null</td><td>null</td><td>null</td><td>null</td><td>null</td><td>null</td><td>null</td><td>null</td><td>null</td><td>Cash</td><td>N</td><td>null</td><td>null</td><td>null</td><td>null</td><td>null</td><td>null</td></tr>\n",
       "<tr><td>68495092</td><td>null</td><td>8650.0</td><td>8650.0</td><td>8650.0</td><td> 36 months</td><td>19.89</td><td>320.99</td><td>E</td><td>E3</td><td>Program Coordinator </td><td>8 years</td><td>RENT</td><td>55000.0</td><td>Verified</td><td>Dec-2015</td><td>Fully Paid</td><td>n</td><td>https://lendingcl...</td><td>null</td><td>debt_consolidation</td><td>Debt consolidation</td><td>462xx</td><td>IN</td><td>25.49</td><td>0.0</td><td>Mar-2005</td><td>675.0</td><td>679.0</td><td>4.0</td><td>null</td><td>30.0</td><td>18.0</td><td>1.0</td><td>9568.0</td><td>46.0</td><td>19.0</td><td>w</td><td>0.0</td><td>0.0</td><td>9190.49</td><td>9190.49</td><td>8650.0</td><td>540.49</td><td>0.0</td><td>0.0</td><td>0.0</td><td>May-2016</td><td>8251.42</td><td>null</td><td>Jun-2016</td><td>639.0</td><td>635.0</td><td>0.0</td><td>null</td><td>1.0</td><td>Individual</td><td>null</td><td>null</td><td>null</td><td>0.0</td><td>0.0</td><td>18926.0</td><td>6.0</td><td>1.0</td><td>0.0</td><td>1.0</td><td>19.0</td><td>9358.0</td><td>51.0</td><td>12.0</td><td>16.0</td><td>653.0</td><td>46.0</td><td>20750.0</td><td>2.0</td><td>0.0</td><td>5.0</td><td>17.0</td><td>1051.0</td><td>1375.0</td><td>45.0</td><td>0.0</td><td>0.0</td><td>129.0</td><td>95.0</td><td>0.0</td><td>0.0</td><td>0.0</td><td>8.0</td><td>null</td><td>0.0</td><td>null</td><td>0.0</td><td>2.0</td><td>17.0</td><td>2.0</td><td>2.0</td><td>2.0</td><td>17.0</td><td>17.0</td><td>13.0</td><td>18.0</td><td>null</td><td>0.0</td><td>0.0</td><td>12.0</td><td>100.0</td><td>50.0</td><td>1.0</td><td>0.0</td><td>38998.0</td><td>18926.0</td><td>2750.0</td><td>18248.0</td><td>null</td><td>null</td><td>null</td><td>null</td><td>null</td><td>null</td><td>null</td><td>null</td><td>null</td><td>null</td><td>null</td><td>null</td><td>null</td><td>N</td><td>null</td><td>null</td><td>null</td><td>null</td><td>null</td><td>null</td><td>null</td><td>null</td><td>null</td><td>null</td><td>null</td><td>null</td><td>null</td><td>null</td><td>Cash</td><td>N</td><td>null</td><td>null</td><td>null</td><td>null</td><td>null</td><td>null</td></tr>\n",
       "</table>\n",
       "only showing top 20 rows\n"
      ],
      "text/plain": [
       "+--------+---------+---------+-----------+---------------+----------+--------+-----------+-----+---------+--------------------+----------+--------------+----------+-------------------+--------+-----------+----------+--------------------+----+------------------+--------------------+--------+----------+-----+-----------+----------------+--------------+---------------+--------------+----------------------+----------------------+--------+-------+---------+----------+---------+-------------------+---------+-------------+------------------+---------------+---------------+-------------+------------------+----------+-----------------------+------------+---------------+------------+------------------+--------------------+-------------------+--------------------------+---------------------------+-----------+----------------+----------------+---------+-------------------------+--------------+------------+-----------+-----------+-----------+-----------+-----------+------------------+------------+-------+-----------+-----------+----------+--------+----------------+------+-----------+------------+--------------------+-----------+--------------+-------+------------------------+-----------+------------------+--------------------+---------------------+--------------+--------+--------------------+------------------------+---------------------+------------------------------+---------------------+--------------+---------------+-----------+---------+---------+-------------+-------------+-------------------+--------+----------------+------------+------------------+------------------+--------------+----------------+--------------------+---------+---------------+-----------------+--------------+--------------------------+---------------+----------------------+-----------------------+------------------------+----------------------+----------------+----------------+------------------+-------------------+---------------------+--------------------------------+----------------------------------+-----------------------------------+-------------+-------------+---------------+---------------+-------------+---------------+-------------------+-----------------+-----------------------+---------------+------------+--------------------+------------------------------------------+------------------------------+----------------------------+-------------------+--------------------+-------------------------+-----------------+---------------+-----------------+---------------------+---------------+\n",
       "|      id|member_id|loan_amnt|funded_amnt|funded_amnt_inv|      term|int_rate|installment|grade|sub_grade|           emp_title|emp_length|home_ownership|annual_inc|verification_status| issue_d|loan_status|pymnt_plan|                 url|desc|           purpose|               title|zip_code|addr_state|  dti|delinq_2yrs|earliest_cr_line|fico_range_low|fico_range_high|inq_last_6mths|mths_since_last_delinq|mths_since_last_record|open_acc|pub_rec|revol_bal|revol_util|total_acc|initial_list_status|out_prncp|out_prncp_inv|       total_pymnt|total_pymnt_inv|total_rec_prncp|total_rec_int|total_rec_late_fee|recoveries|collection_recovery_fee|last_pymnt_d|last_pymnt_amnt|next_pymnt_d|last_credit_pull_d|last_fico_range_high|last_fico_range_low|collections_12_mths_ex_med|mths_since_last_major_derog|policy_code|application_type|annual_inc_joint|dti_joint|verification_status_joint|acc_now_delinq|tot_coll_amt|tot_cur_bal|open_acc_6m|open_act_il|open_il_12m|open_il_24m|mths_since_rcnt_il|total_bal_il|il_util|open_rv_12m|open_rv_24m|max_bal_bc|all_util|total_rev_hi_lim|inq_fi|total_cu_tl|inq_last_12m|acc_open_past_24mths|avg_cur_bal|bc_open_to_buy|bc_util|chargeoff_within_12_mths|delinq_amnt|mo_sin_old_il_acct|mo_sin_old_rev_tl_op|mo_sin_rcnt_rev_tl_op|mo_sin_rcnt_tl|mort_acc|mths_since_recent_bc|mths_since_recent_bc_dlq|mths_since_recent_inq|mths_since_recent_revol_delinq|num_accts_ever_120_pd|num_actv_bc_tl|num_actv_rev_tl|num_bc_sats|num_bc_tl|num_il_tl|num_op_rev_tl|num_rev_accts|num_rev_tl_bal_gt_0|num_sats|num_tl_120dpd_2m|num_tl_30dpd|num_tl_90g_dpd_24m|num_tl_op_past_12m|pct_tl_nvr_dlq|percent_bc_gt_75|pub_rec_bankruptcies|tax_liens|tot_hi_cred_lim|total_bal_ex_mort|total_bc_limit|total_il_high_credit_limit|revol_bal_joint|sec_app_fico_range_low|sec_app_fico_range_high|sec_app_earliest_cr_line|sec_app_inq_last_6mths|sec_app_mort_acc|sec_app_open_acc|sec_app_revol_util|sec_app_open_act_il|sec_app_num_rev_accts|sec_app_chargeoff_within_12_mths|sec_app_collections_12_mths_ex_med|sec_app_mths_since_last_major_derog|hardship_flag|hardship_type|hardship_reason|hardship_status|deferral_term|hardship_amount|hardship_start_date|hardship_end_date|payment_plan_start_date|hardship_length|hardship_dpd|hardship_loan_status|orig_projected_additional_accrued_interest|hardship_payoff_balance_amount|hardship_last_payment_amount|disbursement_method|debt_settlement_flag|debt_settlement_flag_date|settlement_status|settlement_date|settlement_amount|settlement_percentage|settlement_term|\n",
       "+--------+---------+---------+-----------+---------------+----------+--------+-----------+-----+---------+--------------------+----------+--------------+----------+-------------------+--------+-----------+----------+--------------------+----+------------------+--------------------+--------+----------+-----+-----------+----------------+--------------+---------------+--------------+----------------------+----------------------+--------+-------+---------+----------+---------+-------------------+---------+-------------+------------------+---------------+---------------+-------------+------------------+----------+-----------------------+------------+---------------+------------+------------------+--------------------+-------------------+--------------------------+---------------------------+-----------+----------------+----------------+---------+-------------------------+--------------+------------+-----------+-----------+-----------+-----------+-----------+------------------+------------+-------+-----------+-----------+----------+--------+----------------+------+-----------+------------+--------------------+-----------+--------------+-------+------------------------+-----------+------------------+--------------------+---------------------+--------------+--------+--------------------+------------------------+---------------------+------------------------------+---------------------+--------------+---------------+-----------+---------+---------+-------------+-------------+-------------------+--------+----------------+------------+------------------+------------------+--------------+----------------+--------------------+---------+---------------+-----------------+--------------+--------------------------+---------------+----------------------+-----------------------+------------------------+----------------------+----------------+----------------+------------------+-------------------+---------------------+--------------------------------+----------------------------------+-----------------------------------+-------------+-------------+---------------+---------------+-------------+---------------+-------------------+-----------------+-----------------------+---------------+------------+--------------------+------------------------------------------+------------------------------+----------------------------+-------------------+--------------------+-------------------------+-----------------+---------------+-----------------+---------------------+---------------+\n",
       "|68407277|     null|   3600.0|     3600.0|         3600.0| 36 months|   13.99|     123.03|    C|       C4|             leadman| 10+ years|      MORTGAGE|   55000.0|       Not Verified|Dec-2015| Fully Paid|         n|https://lendingcl...|null|debt_consolidation|  Debt consolidation|   190xx|        PA| 5.91|        0.0|        Aug-2003|         675.0|          679.0|           1.0|                  30.0|                  null|     7.0|    0.0|   2765.0|      29.7|     13.0|                  w|      0.0|          0.0| 4421.723916800001|        4421.72|         3600.0|       821.72|               0.0|       0.0|                    0.0|    Jan-2019|         122.67|        null|          Mar-2019|               564.0|              560.0|                       0.0|                       30.0|        1.0|      Individual|            null|     null|                     null|           0.0|       722.0|   144904.0|        2.0|        2.0|        0.0|        1.0|              21.0|      4981.0|   36.0|        3.0|        3.0|     722.0|    34.0|          9300.0|   3.0|        1.0|         4.0|                 4.0|    20701.0|        1506.0|   37.2|                     0.0|        0.0|             148.0|               128.0|                  3.0|           3.0|     1.0|                 4.0|                    69.0|                  4.0|                          69.0|                  2.0|           2.0|            4.0|        2.0|      5.0|      3.0|          4.0|          9.0|                4.0|     7.0|             0.0|         0.0|               0.0|               3.0|          76.9|             0.0|                 0.0|      0.0|       178050.0|           7746.0|        2400.0|                   13734.0|           null|                  null|                   null|                    null|                  null|            null|            null|              null|               null|                 null|                            null|                              null|                               null|            N|         null|           null|           null|         null|           null|               null|             null|                   null|           null|        null|                null|                                      null|                          null|                        null|               Cash|                   N|                     null|             null|           null|             null|                 null|           null|\n",
       "|68355089|     null|  24700.0|    24700.0|        24700.0| 36 months|   11.99|     820.28|    C|       C1|            Engineer| 10+ years|      MORTGAGE|   65000.0|       Not Verified|Dec-2015| Fully Paid|         n|https://lendingcl...|null|    small_business|            Business|   577xx|        SD|16.06|        1.0|        Dec-1999|         715.0|          719.0|           4.0|                   6.0|                  null|    22.0|    0.0|  21470.0|      19.2|     38.0|                  w|      0.0|          0.0|          25679.66|       25679.66|        24700.0|       979.66|               0.0|       0.0|                    0.0|    Jun-2016|         926.35|        null|          Mar-2019|               699.0|              695.0|                       0.0|                       null|        1.0|      Individual|            null|     null|                     null|           0.0|         0.0|   204396.0|        1.0|        1.0|        0.0|        1.0|              19.0|     18005.0|   73.0|        2.0|        3.0|    6472.0|    29.0|        111800.0|   0.0|        0.0|         6.0|                 4.0|     9733.0|       57830.0|   27.1|                     0.0|        0.0|             113.0|               192.0|                  2.0|           2.0|     4.0|                 2.0|                    null|                  0.0|                           6.0|                  0.0|           5.0|            5.0|       13.0|     17.0|      6.0|         20.0|         27.0|                5.0|    22.0|             0.0|         0.0|               0.0|               2.0|          97.4|             7.7|                 0.0|      0.0|       314017.0|          39475.0|       79300.0|                   24667.0|           null|                  null|                   null|                    null|                  null|            null|            null|              null|               null|                 null|                            null|                              null|                               null|            N|         null|           null|           null|         null|           null|               null|             null|                   null|           null|        null|                null|                                      null|                          null|                        null|               Cash|                   N|                     null|             null|           null|             null|                 null|           null|\n",
       "|68341763|     null|  20000.0|    20000.0|        20000.0| 60 months|   10.78|     432.66|    B|       B4|        truck driver| 10+ years|      MORTGAGE|   63000.0|       Not Verified|Dec-2015| Fully Paid|         n|https://lendingcl...|null|  home_improvement|                null|   605xx|        IL|10.78|        0.0|        Aug-2000|         695.0|          699.0|           0.0|                  null|                  null|     6.0|    0.0|   7869.0|      56.2|     18.0|                  w|      0.0|          0.0|22705.924293878397|       22705.92|        20000.0|      2705.92|               0.0|       0.0|                    0.0|    Jun-2017|        15813.3|        null|          Mar-2019|               704.0|              700.0|                       0.0|                       null|        1.0|       Joint App|         71000.0|    13.85|             Not Verified|           0.0|         0.0|   189699.0|        0.0|        1.0|        0.0|        4.0|              19.0|     10827.0|   73.0|        0.0|        2.0|    2081.0|    65.0|         14000.0|   2.0|        5.0|         1.0|                 6.0|    31617.0|        2737.0|   55.9|                     0.0|        0.0|             125.0|               184.0|                 14.0|          14.0|     5.0|               101.0|                    null|                 10.0|                          null|                  0.0|           2.0|            3.0|        2.0|      4.0|      6.0|          4.0|          7.0|                3.0|     6.0|             0.0|         0.0|               0.0|               0.0|         100.0|            50.0|                 0.0|      0.0|       218418.0|          18696.0|        6200.0|                   14877.0|           null|                  null|                   null|                    null|                  null|            null|            null|              null|               null|                 null|                            null|                              null|                               null|            N|         null|           null|           null|         null|           null|               null|             null|                   null|           null|        null|                null|                                      null|                          null|                        null|               Cash|                   N|                     null|             null|           null|             null|                 null|           null|\n",
       "|66310712|     null|  35000.0|    35000.0|        35000.0| 60 months|   14.85|      829.9|    C|       C5|Information Syste...| 10+ years|      MORTGAGE|  110000.0|    Source Verified|Dec-2015|    Current|         n|https://lendingcl...|null|debt_consolidation|  Debt consolidation|   076xx|        NJ|17.06|        0.0|        Sep-2008|         785.0|          789.0|           0.0|                  null|                  null|    13.0|    0.0|   7802.0|      11.6|     17.0|                  w| 15897.65|     15897.65|          31464.01|       31464.01|       19102.35|     12361.66|               0.0|       0.0|                    0.0|    Feb-2019|          829.9|    Apr-2019|          Mar-2019|               679.0|              675.0|                       0.0|                       null|        1.0|      Individual|            null|     null|                     null|           0.0|         0.0|   301500.0|        1.0|        1.0|        0.0|        1.0|              23.0|     12609.0|   70.0|        1.0|        1.0|    6987.0|    45.0|         67300.0|   0.0|        1.0|         0.0|                 2.0|    23192.0|       54962.0|   12.1|                     0.0|        0.0|              36.0|                87.0|                  2.0|           2.0|     1.0|                 2.0|                    null|                 null|                          null|                  0.0|           4.0|            5.0|        8.0|     10.0|      2.0|         10.0|         13.0|                5.0|    13.0|             0.0|         0.0|               0.0|               1.0|         100.0|             0.0|                 0.0|      0.0|       381215.0|          52226.0|       62500.0|                   18000.0|           null|                  null|                   null|                    null|                  null|            null|            null|              null|               null|                 null|                            null|                              null|                               null|            N|         null|           null|           null|         null|           null|               null|             null|                   null|           null|        null|                null|                                      null|                          null|                        null|               Cash|                   N|                     null|             null|           null|             null|                 null|           null|\n",
       "|68476807|     null|  10400.0|    10400.0|        10400.0| 60 months|   22.45|     289.91|    F|       F1| Contract Specialist|   3 years|      MORTGAGE|  104433.0|    Source Verified|Dec-2015| Fully Paid|         n|https://lendingcl...|null|    major_purchase|      Major purchase|   174xx|        PA|25.37|        1.0|        Jun-1998|         695.0|          699.0|           3.0|                  12.0|                  null|    12.0|    0.0|  21929.0|      64.5|     35.0|                  w|      0.0|          0.0|           11740.5|        11740.5|        10400.0|       1340.5|               0.0|       0.0|                    0.0|    Jul-2016|       10128.96|        null|          Mar-2018|               704.0|              700.0|                       0.0|                       null|        1.0|      Individual|            null|     null|                     null|           0.0|         0.0|   331730.0|        1.0|        3.0|        0.0|        3.0|              14.0|     73839.0|   84.0|        4.0|        7.0|    9702.0|    78.0|         34000.0|   2.0|        1.0|         3.0|                10.0|    27644.0|        4567.0|   77.5|                     0.0|        0.0|             128.0|               210.0|                  4.0|           4.0|     6.0|                 4.0|                    12.0|                  1.0|                          12.0|                  0.0|           4.0|            6.0|        5.0|      9.0|     10.0|          7.0|         19.0|                6.0|    12.0|             0.0|         0.0|               0.0|               4.0|          96.6|            60.0|                 0.0|      0.0|       439570.0|          95768.0|       20300.0|                   88097.0|           null|                  null|                   null|                    null|                  null|            null|            null|              null|               null|                 null|                            null|                              null|                               null|            N|         null|           null|           null|         null|           null|               null|             null|                   null|           null|        null|                null|                                      null|                          null|                        null|               Cash|                   N|                     null|             null|           null|             null|                 null|           null|\n",
       "|68426831|     null|  11950.0|    11950.0|        11950.0| 36 months|   13.44|     405.18|    C|       C3|Veterinary Tecnician|   4 years|          RENT|   34000.0|    Source Verified|Dec-2015| Fully Paid|         n|https://lendingcl...|null|debt_consolidation|  Debt consolidation|   300xx|        GA| 10.2|        0.0|        Oct-1987|         690.0|          694.0|           0.0|                  null|                  null|     5.0|    0.0|   8822.0|      68.4|      6.0|                  w|      0.0|          0.0|  13708.9485297572|       13708.95|        11950.0|      1758.95|               0.0|       0.0|                    0.0|    May-2017|        7653.56|        null|          May-2017|               759.0|              755.0|                       0.0|                       null|        1.0|      Individual|            null|     null|                     null|           0.0|         0.0|    12798.0|        0.0|        1.0|        0.0|        0.0|             338.0|      3976.0|   99.0|        0.0|        0.0|    4522.0|    76.0|         12900.0|   0.0|        0.0|         0.0|                 0.0|     2560.0|         844.0|   91.0|                     0.0|        0.0|             338.0|                54.0|                 32.0|          32.0|     0.0|                36.0|                    null|                 null|                          null|                  0.0|           2.0|            3.0|        2.0|      2.0|      2.0|          4.0|          4.0|                3.0|     5.0|             0.0|         0.0|               0.0|               0.0|         100.0|           100.0|                 0.0|      0.0|        16900.0|          12798.0|        9400.0|                    4000.0|           null|                  null|                   null|                    null|                  null|            null|            null|              null|               null|                 null|                            null|                              null|                               null|            N|         null|           null|           null|         null|           null|               null|             null|                   null|           null|        null|                null|                                      null|                          null|                        null|               Cash|                   N|                     null|             null|           null|             null|                 null|           null|\n",
       "|68476668|     null|  20000.0|    20000.0|        20000.0| 36 months|    9.17|     637.58|    B|       B2|Vice President of...| 10+ years|      MORTGAGE|  180000.0|       Not Verified|Dec-2015| Fully Paid|         n|https://lendingcl...|null|debt_consolidation|  Debt consolidation|   550xx|        MN|14.67|        0.0|        Jun-1990|         680.0|          684.0|           0.0|                  49.0|                  null|    12.0|    0.0|  87329.0|      84.5|     27.0|                  f|      0.0|          0.0|   21393.800000011|        21393.8|        20000.0|       1393.8|               0.0|       0.0|                    0.0|    Nov-2016|       15681.05|        null|          Mar-2019|               654.0|              650.0|                       0.0|                       null|        1.0|      Individual|            null|     null|                     null|           0.0|         0.0|   360358.0|        0.0|        2.0|        0.0|        2.0|              18.0|     29433.0|   63.0|        2.0|        3.0|   13048.0|    74.0|         94200.0|   1.0|        0.0|         1.0|                 6.0|    30030.0|           0.0|  102.9|                     0.0|        0.0|             142.0|               306.0|                 10.0|          10.0|     4.0|                12.0|                    null|                 10.0|                          null|                  0.0|           4.0|            6.0|        4.0|      5.0|      7.0|          9.0|         16.0|                6.0|    12.0|             0.0|         0.0|               0.0|               2.0|          96.3|           100.0|                 0.0|      0.0|       388852.0|         116762.0|       31500.0|                   46452.0|           null|                  null|                   null|                    null|                  null|            null|            null|              null|               null|                 null|                            null|                              null|                               null|            N|         null|           null|           null|         null|           null|               null|             null|                   null|           null|        null|                null|                                      null|                          null|                        null|               Cash|                   N|                     null|             null|           null|             null|                 null|           null|\n",
       "|67275481|     null|  20000.0|    20000.0|        20000.0| 36 months|    8.49|     631.26|    B|       B1|         road driver| 10+ years|      MORTGAGE|   85000.0|       Not Verified|Dec-2015| Fully Paid|         n|https://lendingcl...|null|    major_purchase|      Major purchase|   293xx|        SC|17.61|        1.0|        Feb-1999|         705.0|          709.0|           0.0|                   3.0|                  null|     8.0|    0.0|    826.0|       5.7|     15.0|                  w|      0.0|          0.0|   21538.508976797|       21538.51|        20000.0|      1538.51|               0.0|       0.0|                    0.0|    Jan-2017|       14618.23|        null|          Mar-2019|               674.0|              670.0|                       0.0|                        3.0|        1.0|      Individual|            null|     null|                     null|           0.0|         0.0|   141601.0|        0.0|        3.0|        0.0|        4.0|              13.0|     27111.0|   75.0|        0.0|        0.0|     640.0|    55.0|         14500.0|   1.0|        0.0|         2.0|                 4.0|    17700.0|       13674.0|    5.7|                     0.0|        0.0|             149.0|                55.0|                 32.0|          13.0|     3.0|                32.0|                    null|                  8.0|                          null|                  1.0|           2.0|            2.0|        3.0|      3.0|      9.0|          3.0|          3.0|                2.0|     8.0|             0.0|         0.0|               1.0|               0.0|          93.3|             0.0|                 0.0|      0.0|       193390.0|          27937.0|       14500.0|                   36144.0|           null|                  null|                   null|                    null|                  null|            null|            null|              null|               null|                 null|                            null|                              null|                               null|            N|         null|           null|           null|         null|           null|               null|             null|                   null|           null|        null|                null|                                      null|                          null|                        null|               Cash|                   N|                     null|             null|           null|             null|                 null|           null|\n",
       "|68466926|     null|  10000.0|    10000.0|        10000.0| 36 months|    6.49|     306.45|    A|       A2|     SERVICE MANAGER|   6 years|          RENT|   85000.0|       Not Verified|Dec-2015| Fully Paid|         n|https://lendingcl...|null|       credit_card|Credit card refin...|   160xx|        PA|13.07|        0.0|        Apr-2002|         685.0|          689.0|           1.0|                  null|                 106.0|    14.0|    1.0|  10464.0|      34.5|     23.0|                  w|      0.0|          0.0|  10998.9715749644|       10998.97|        10000.0|       998.97|               0.0|       0.0|                    0.0|    Aug-2018|        1814.48|        null|          Mar-2019|               719.0|              715.0|                       0.0|                       null|        1.0|      Individual|            null|     null|                     null|           0.0|      8341.0|    27957.0|        2.0|        1.0|        0.0|        0.0|              35.0|     17493.0|   57.0|        2.0|        7.0|    2524.0|    46.0|         30300.0|   2.0|        0.0|         1.0|                 7.0|     1997.0|        8182.0|   50.1|                     0.0|        0.0|             164.0|               129.0|                  1.0|           1.0|     1.0|                 4.0|                    null|                  1.0|                          null|                  0.0|           6.0|            9.0|        7.0|     10.0|      3.0|         13.0|         19.0|                9.0|    14.0|             0.0|         0.0|               0.0|               2.0|          95.7|            28.6|                 1.0|      0.0|        61099.0|          27957.0|       16400.0|                   30799.0|           null|                  null|                   null|                    null|                  null|            null|            null|              null|               null|                 null|                            null|                              null|                               null|            N|         null|           null|           null|         null|           null|               null|             null|                   null|           null|        null|                null|                                      null|                          null|                        null|               Cash|                   N|                     null|             null|           null|             null|                 null|           null|\n",
       "|68616873|     null|   8000.0|     8000.0|         8000.0| 36 months|   11.48|     263.74|    B|       B5|      Vendor liaison| 10+ years|      MORTGAGE|   42000.0|       Not Verified|Dec-2015| Fully Paid|         n|https://lendingcl...|null|       credit_card|Credit card refin...|   029xx|        RI| 34.8|        0.0|        Nov-1994|         700.0|          704.0|           0.0|                  75.0|                  null|     8.0|    0.0|   7034.0|      39.1|     18.0|                  w|      0.0|          0.0|   8939.5805031401|        8939.58|         8000.0|       939.58|               0.0|       0.0|                    0.0|    Apr-2017|        4996.24|        null|          Nov-2018|               679.0|              675.0|                       0.0|                       75.0|        1.0|      Individual|            null|     null|                     null|           0.0|         0.0|   199696.0|        0.0|        2.0|        2.0|        3.0|              10.0|    106748.0|   72.0|        0.0|        2.0|    4725.0|    49.0|         18000.0|   0.0|        0.0|         1.0|                 5.0|    28528.0|        9966.0|   41.4|                     0.0|        0.0|             155.0|               253.0|                 15.0|          10.0|     1.0|                50.0|                    null|                 10.0|                          null|                  1.0|           3.0|            3.0|        3.0|      6.0|      5.0|          5.0|         11.0|                3.0|     8.0|             0.0|         0.0|               0.0|               2.0|          94.4|            33.3|                 0.0|      0.0|       256513.0|         113782.0|       17000.0|                  135513.0|           null|                  null|                   null|                    null|                  null|            null|            null|              null|               null|                 null|                            null|                              null|                               null|            N|         null|           null|           null|         null|           null|               null|             null|                   null|           null|        null|                null|                                      null|                          null|                        null|               Cash|                   N|                     null|             null|           null|             null|                 null|           null|\n",
       "|68356421|     null|  22400.0|    22400.0|        22400.0| 60 months|   12.88|      508.3|    C|       C2|  Executive Director|   6 years|      MORTGAGE|   95000.0|       Not Verified|Dec-2015|    Current|         n|https://lendingcl...|null|debt_consolidation|  Debt consolidation|   290xx|        SC|22.98|        0.0|        Apr-1995|         710.0|          714.0|           0.0|                  54.0|                  null|    16.0|    0.0|  13028.0|      32.7|     35.0|                  w|  9912.88|      9912.88|          19275.33|       19275.33|       12487.12|      6788.21|               0.0|       0.0|                    0.0|    Feb-2019|          508.3|    Apr-2019|          Mar-2019|               589.0|              585.0|                       0.0|                       54.0|        1.0|      Individual|            null|     null|                     null|           0.0|         0.0|   376218.0|        1.0|        5.0|        0.0|        3.0|              17.0|    171328.0|   67.0|        3.0|        6.0|    8121.0|    54.0|         39800.0|   1.0|        5.0|         0.0|                 9.0|    23514.0|       12617.0|   39.9|                     0.0|        0.0|             150.0|               248.0|                  1.0|           1.0|     5.0|                 1.0|                    null|                 14.0|                          null|                  2.0|           3.0|            8.0|        4.0|      5.0|     15.0|         10.0|         15.0|                8.0|    16.0|             0.0|         0.0|               0.0|               3.0|          97.0|            25.0|                 0.0|      0.0|       436841.0|         184356.0|       21000.0|                  191682.0|           null|                  null|                   null|                    null|                  null|            null|            null|              null|               null|                 null|                            null|                              null|                               null|            N|         null|           null|           null|         null|           null|               null|             null|                   null|           null|        null|                null|                                      null|                          null|                        null|               Cash|                   N|                     null|             null|           null|             null|                 null|           null|\n",
       "|68426545|     null|  16000.0|    16000.0|        16000.0| 60 months|   12.88|     363.07|    C|       C2|Senior Structural...|    1 year|      MORTGAGE|   70000.0|       Not Verified|Dec-2015|    Current|         n|https://lendingcl...|null|debt_consolidation|  Debt consolidation|   786xx|        TX| 26.4|        0.0|        Feb-1988|         720.0|          724.0|           0.0|                  null|                  null|    13.0|    0.0|  28705.0|      56.3|     29.0|                  w|   7080.7|       7080.7|          13768.04|       13768.04|         8919.3|      4848.74|               0.0|       0.0|                    0.0|    Feb-2019|         363.07|    Apr-2019|          Mar-2019|               754.0|              750.0|                       0.0|                       null|        1.0|      Individual|            null|     null|                     null|           0.0|         0.0|   265836.0|        0.0|        2.0|        0.0|        2.0|              13.0|     33702.0|   74.0|        1.0|        1.0|    8739.0|    64.0|         51000.0|   0.0|        0.0|         1.0|                 3.0|    24167.0|       17922.0|   61.0|                     0.0|        0.0|             147.0|               334.0|                  9.0|           9.0|     2.0|                 9.0|                    null|                 11.0|                          null|                  0.0|           4.0|            6.0|        5.0|     12.0|      6.0|         10.0|         21.0|                6.0|    13.0|             0.0|         0.0|               0.0|               1.0|         100.0|            60.0|                 0.0|      0.0|       309638.0|          62407.0|       45900.0|                   45838.0|           null|                  null|                   null|                    null|                  null|            null|            null|              null|               null|                 null|                            null|                              null|                               null|            N|         null|           null|           null|         null|           null|               null|             null|                   null|           null|        null|                null|                                      null|                          null|                        null|               Cash|                   N|                     null|             null|           null|             null|                 null|           null|\n",
       "|68338832|     null|   1400.0|     1400.0|         1400.0| 36 months|   12.88|       47.1|    C|       C2|   Logistics Manager|   3 years|      MORTGAGE|   64000.0|       Not Verified|Dec-2015| Fully Paid|         n|https://lendingcl...|null|             other|                null|   275xx|        NC|34.95|        0.0|        Jun-1996|         700.0|          704.0|           0.0|                  null|                  null|    17.0|    0.0|  37828.0|      67.2|     24.0|                  w|      0.0|          0.0|    1575.160697674|        1575.16|         1400.0|       175.16|               0.0|       0.0|                    0.0|    Mar-2017|         965.36|        null|          Sep-2018|               704.0|              700.0|                       0.0|                       null|        1.0|      Individual|            null|     null|                     null|           0.0|         0.0|   325695.0|        1.0|        3.0|        1.0|        2.0|               2.0|     37430.0|   67.0|        0.0|        2.0|    7386.0|    67.0|         56300.0|   0.0|        2.0|         0.0|                 4.0|    19159.0|        7940.0|   77.0|                     0.0|        0.0|              46.0|               234.0|                 18.0|           2.0|     4.0|                28.0|                    null|                 18.0|                          null|                  0.0|           7.0|           11.0|        8.0|     11.0|      3.0|         12.0|         17.0|               11.0|    17.0|             0.0|         0.0|               0.0|               1.0|         100.0|            75.0|                 0.0|      0.0|       372109.0|          75258.0|       34500.0|                   55501.0|           null|                  null|                   null|                    null|                  null|            null|            null|              null|               null|                 null|                            null|                              null|                               null|            N|         null|           null|           null|         null|           null|               null|             null|                   null|           null|        null|                null|                                      null|                          null|                        null|               Cash|                   N|                     null|             null|           null|             null|                 null|           null|\n",
       "|66624733|     null|  18000.0|    18000.0|        18000.0| 60 months|   19.48|      471.7|    E|       E2|    Software Manager|   7 years|          RENT|  150000.0|       Not Verified|Dec-2015|Charged Off|         n|https://lendingcl...|null|debt_consolidation|  Debt consolidation|   916xx|        CA| 9.39|        0.0|        Jun-2005|         665.0|          669.0|           1.0|                  null|                  75.0|    18.0|    1.0|  14052.0|      40.7|     27.0|                  w|      0.0|          0.0|           9452.74|        9452.74|        3481.86|      4351.98|               0.0|    1618.9|                291.402|    May-2017|          471.7|        null|          Nov-2017|               584.0|              580.0|                       0.0|                       null|        1.0|      Individual|            null|     null|                     null|           0.0|        60.0|    36247.0|        2.0|        2.0|        1.0|        3.0|               2.0|     22195.0|   71.0|        2.0|        4.0|    1271.0|    55.0|         34500.0|   2.0|        1.0|         2.0|                 7.0|     2014.0|        5128.0|   51.3|                     0.0|        0.0|             115.0|               112.0|                  1.0|           1.0|     2.0|                 9.0|                    null|                  2.0|                          null|                  0.0|           6.0|           13.0|        7.0|      8.0|      6.0|         16.0|         19.0|               13.0|    18.0|             0.0|         0.0|               0.0|               3.0|         100.0|            14.3|                 1.0|      0.0|        65819.0|          36247.0|       10300.0|                   31319.0|           null|                  null|                   null|                    null|                  null|            null|            null|              null|               null|                 null|                            null|                              null|                               null|            N|         null|           null|           null|         null|           null|               null|             null|                   null|           null|        null|                null|                                      null|                          null|                        null|               Cash|                   N|                     null|             null|           null|             null|                 null|           null|\n",
       "|68466961|     null|  28000.0|    28000.0|        28000.0| 36 months|    6.49|     858.05|    A|       A2|      Senior Manager| 10+ years|      MORTGAGE|   92000.0|       Not Verified|Dec-2015| Fully Paid|         n|https://lendingcl...|null|debt_consolidation|  Debt consolidation|   275xx|        NC| 21.6|        0.0|        May-1984|         720.0|          724.0|           0.0|                  42.0|                  null|    16.0|    0.0|  51507.0|      64.5|     24.0|                  w|      0.0|          0.0|29939.017729337003|       29939.02|        28000.0|      1939.02|               0.0|       0.0|                    0.0|    May-2017|       17093.51|        null|          Mar-2019|               764.0|              760.0|                       0.0|                       null|        1.0|      Individual|            null|     null|                     null|           0.0|         0.0|   221110.0|        0.0|        2.0|        0.0|        0.0|              27.0|     23413.0|   55.0|        0.0|        1.0|    8752.0|    61.0|         79900.0|   0.0|        1.0|         0.0|                 1.0|    13819.0|       16623.0|   59.9|                     0.0|        0.0|              82.0|               379.0|                 19.0|          19.0|     2.0|                19.0|                    48.0|                 null|                          42.0|                  0.0|           7.0|            9.0|        9.0|     11.0|      4.0|         13.0|         18.0|                9.0|    16.0|             0.0|         0.0|               0.0|               0.0|          91.7|            22.2|                 0.0|      0.0|       304003.0|          74920.0|       41500.0|                   42503.0|           null|                  null|                   null|                    null|                  null|            null|            null|              null|               null|                 null|                            null|                              null|                               null|            N|         null|           null|           null|         null|           null|               null|             null|                   null|           null|        null|                null|                                      null|                          null|                        null|               Cash|                   N|                     null|             null|           null|             null|                 null|           null|\n",
       "|68354783|     null|   9600.0|     9600.0|         9600.0| 36 months|    7.49|     298.58|    A|       A4|                tech|   8 years|      MORTGAGE|   60000.0|       Not Verified|Dec-2015| Fully Paid|         n|https://lendingcl...|null|       credit_card|Credit card refin...|   299xx|        SC|22.44|        0.0|        Jun-1996|         695.0|          699.0|           0.0|                  null|                  null|     7.0|    0.0|   7722.0|      59.4|      9.0|                  w|      0.0|          0.0|10636.098427692801|        10636.1|         9600.0|       1036.1|               0.0|       0.0|                    0.0|    Feb-2018|        3480.17|        null|          Aug-2018|               779.0|              775.0|                       0.0|                       null|        1.0|      Individual|            null|     null|                     null|           0.0|         0.0|    55387.0|        0.0|        3.0|        0.0|        0.0|              47.0|     47665.0|   43.0|        2.0|        2.0|    4744.0|    50.0|         13000.0|   0.0|        0.0|         2.0|                 2.0|     7912.0|        4778.0|   61.8|                     0.0|        0.0|             234.0|                91.0|                  9.0|           9.0|     0.0|                11.0|                    null|                  9.0|                          null|                  0.0|           3.0|            3.0|        3.0|      3.0|      5.0|          4.0|          4.0|                3.0|     7.0|             0.0|         0.0|               0.0|               2.0|         100.0|            66.7|                 0.0|      0.0|        88635.0|          55387.0|       12500.0|                   75635.0|           null|                  null|                   null|                    null|                  null|            null|            null|              null|               null|                 null|                            null|                              null|                               null|            N|         null|           null|           null|         null|           null|               null|             null|                   null|           null|        null|                null|                                      null|                          null|                        null|               Cash|                   N|                     null|             null|           null|             null|                 null|           null|\n",
       "|68466916|     null|  25000.0|    25000.0|        25000.0| 36 months|    7.49|     777.55|    A|       A4|       Sales Manager| 10+ years|      MORTGAGE|  109000.0|       Not Verified|Dec-2015| Fully Paid|         n|https://lendingcl...|null|debt_consolidation|  Debt consolidation|   226xx|        VA|26.02|        0.0|        Dec-2001|         745.0|          749.0|           1.0|                  null|                  null|     9.0|    0.0|  20862.0|      54.3|     19.0|                  w|      0.0|          0.0|          26224.23|       26224.23|        25000.0|      1224.23|               0.0|       0.0|                    0.0|    Sep-2016|       20807.39|        null|          Apr-2017|               724.0|              720.0|                       0.0|                       null|        1.0|      Individual|            null|     null|                     null|           0.0|         0.0|   305781.0|        0.0|        3.0|        0.0|        1.0|              13.0|     47194.0|   58.0|        0.0|        1.0|    8937.0|    57.0|         38400.0|   1.0|        0.0|         1.0|                 2.0|    33976.0|       17538.0|   54.3|                     0.0|        0.0|             142.0|               168.0|                 13.0|          13.0|     3.0|                13.0|                    null|                  0.0|                          null|                  0.0|           3.0|            3.0|        5.0|      6.0|      7.0|          5.0|          9.0|                3.0|     9.0|             0.0|         0.0|               0.0|               0.0|         100.0|            20.0|                 0.0|      0.0|       373572.0|          68056.0|       38400.0|                   82117.0|           null|                  null|                   null|                    null|                  null|            null|            null|              null|               null|                 null|                            null|                              null|                               null|            N|         null|           null|           null|         null|           null|               null|             null|                   null|           null|        null|                null|                                      null|                          null|                        null|               Cash|                   N|                     null|             null|           null|             null|                 null|           null|\n",
       "|68577849|     null|  18000.0|    18000.0|        18000.0| 60 months|   11.99|     400.31|    C|       C1|               GS-11| 10+ years|      MORTGAGE|  112000.0|       Not Verified|Dec-2015| Fully Paid|         n|https://lendingcl...|null|debt_consolidation|  Debt consolidation|   856xx|        AZ| 8.68|        0.0|        Nov-1993|         800.0|          804.0|           0.0|                  null|                  null|    17.0|    0.0|  10711.0|      15.5|     27.0|                  w|      0.0|          0.0|          18387.22|       18387.22|        18000.0|       387.22|               0.0|       0.0|                    0.0|    Mar-2016|        18004.9|        null|          Mar-2019|               794.0|              790.0|                       0.0|                       null|        1.0|      Individual|            null|     null|                     null|           0.0|         0.0|   205067.0|        3.0|        1.0|        2.0|        2.0|               3.0|     25416.0|   97.0|        2.0|        3.0|    7672.0|    38.0|         82400.0|   0.0|        1.0|         1.0|                 5.0|    17089.0|       60336.0|   16.7|                     0.0|        0.0|             109.0|               265.0|                  1.0|           1.0|     4.0|                 1.0|                    null|                 10.0|                          null|                  0.0|           5.0|            6.0|       12.0|     12.0|      6.0|         15.0|         17.0|                6.0|    16.0|             0.0|         0.0|               0.0|               4.0|         100.0|             0.0|                 0.0|      0.0|       309710.0|          36127.0|       69800.0|                   26210.0|           null|                  null|                   null|                    null|                  null|            null|            null|              null|               null|                 null|                            null|                              null|                               null|            N|         null|           null|           null|         null|           null|               null|             null|                   null|           null|        null|                null|                                      null|                          null|                        null|               Cash|                   N|                     null|             null|           null|             null|                 null|           null|\n",
       "|68506798|     null|  23000.0|    23000.0|        23000.0| 60 months|    8.49|     471.77|    B|       B1|             Teacher|   5 years|          RENT|   64000.0|       Not Verified|Dec-2015|    Current|         n|https://lendingcl...|null|       credit_card|Credit card refin...|   117xx|        NY|18.28|        0.0|        Sep-2001|         700.0|          704.0|           0.0|                  29.0|                  null|    21.0|    0.0|  24940.0|      52.7|     33.0|                  w|   9580.2|       9580.2|          17900.14|       17900.14|        13419.8|      4480.34|               0.0|       0.0|                    0.0|    Feb-2019|         471.77|    Apr-2019|          Mar-2019|               744.0|              740.0|                       0.0|                       null|        1.0|      Individual|            null|     null|                     null|           0.0|         0.0|    63886.0|        0.0|        7.0|        0.0|        0.0|              42.0|     38946.0|   84.0|        2.0|        3.0|    9516.0|    68.0|         47300.0|   0.0|        3.0|         1.0|                 3.0|     3549.0|       15603.0|   60.5|                     0.0|        0.0|             163.0|               171.0|                  8.0|           8.0|     0.0|                12.0|                    30.0|                  8.0|                          29.0|                  0.0|           6.0|            8.0|        7.0|      8.0|     14.0|         14.0|         19.0|                8.0|    21.0|             0.0|         0.0|               0.0|               2.0|          87.9|            14.3|                 0.0|      0.0|        93962.0|          63886.0|       39500.0|                   46662.0|           null|                  null|                   null|                    null|                  null|            null|            null|              null|               null|                 null|                            null|                              null|                               null|            N|         null|           null|           null|         null|           null|               null|             null|                   null|           null|        null|                null|                                      null|                          null|                        null|               Cash|                   N|                     null|             null|           null|             null|                 null|           null|\n",
       "|68495092|     null|   8650.0|     8650.0|         8650.0| 36 months|   19.89|     320.99|    E|       E3|Program Coordinator |   8 years|          RENT|   55000.0|           Verified|Dec-2015| Fully Paid|         n|https://lendingcl...|null|debt_consolidation|  Debt consolidation|   462xx|        IN|25.49|        0.0|        Mar-2005|         675.0|          679.0|           4.0|                  null|                  30.0|    18.0|    1.0|   9568.0|      46.0|     19.0|                  w|      0.0|          0.0|           9190.49|        9190.49|         8650.0|       540.49|               0.0|       0.0|                    0.0|    May-2016|        8251.42|        null|          Jun-2016|               639.0|              635.0|                       0.0|                       null|        1.0|      Individual|            null|     null|                     null|           0.0|         0.0|    18926.0|        6.0|        1.0|        0.0|        1.0|              19.0|      9358.0|   51.0|       12.0|       16.0|     653.0|    46.0|         20750.0|   2.0|        0.0|         5.0|                17.0|     1051.0|        1375.0|   45.0|                     0.0|        0.0|             129.0|                95.0|                  0.0|           0.0|     0.0|                 8.0|                    null|                  0.0|                          null|                  0.0|           2.0|           17.0|        2.0|      2.0|      2.0|         17.0|         17.0|               13.0|    18.0|            null|         0.0|               0.0|              12.0|         100.0|            50.0|                 1.0|      0.0|        38998.0|          18926.0|        2750.0|                   18248.0|           null|                  null|                   null|                    null|                  null|            null|            null|              null|               null|                 null|                            null|                              null|                               null|            N|         null|           null|           null|         null|           null|               null|             null|                   null|           null|        null|                null|                                      null|                          null|                        null|               Cash|                   N|                     null|             null|           null|             null|                 null|           null|\n",
       "+--------+---------+---------+-----------+---------------+----------+--------+-----------+-----+---------+--------------------+----------+--------------+----------+-------------------+--------+-----------+----------+--------------------+----+------------------+--------------------+--------+----------+-----+-----------+----------------+--------------+---------------+--------------+----------------------+----------------------+--------+-------+---------+----------+---------+-------------------+---------+-------------+------------------+---------------+---------------+-------------+------------------+----------+-----------------------+------------+---------------+------------+------------------+--------------------+-------------------+--------------------------+---------------------------+-----------+----------------+----------------+---------+-------------------------+--------------+------------+-----------+-----------+-----------+-----------+-----------+------------------+------------+-------+-----------+-----------+----------+--------+----------------+------+-----------+------------+--------------------+-----------+--------------+-------+------------------------+-----------+------------------+--------------------+---------------------+--------------+--------+--------------------+------------------------+---------------------+------------------------------+---------------------+--------------+---------------+-----------+---------+---------+-------------+-------------+-------------------+--------+----------------+------------+------------------+------------------+--------------+----------------+--------------------+---------+---------------+-----------------+--------------+--------------------------+---------------+----------------------+-----------------------+------------------------+----------------------+----------------+----------------+------------------+-------------------+---------------------+--------------------------------+----------------------------------+-----------------------------------+-------------+-------------+---------------+---------------+-------------+---------------+-------------------+-----------------+-----------------------+---------------+------------+--------------------+------------------------------------------+------------------------------+----------------------------+-------------------+--------------------+-------------------------+-----------------+---------------+-----------------+---------------------+---------------+\n",
       "only showing top 20 rows"
      ]
     },
     "execution_count": 7,
     "metadata": {},
     "output_type": "execute_result"
    }
   ],
   "source": [
    "# Visualize few records\n",
    "spark.sql(\"select * from lending_club_data\")"
   ]
  },
  {
   "cell_type": "markdown",
   "metadata": {
    "application/vnd.databricks.v1+cell": {
     "cellMetadata": {},
     "inputWidgets": {},
     "nuid": "857a1235-4448-4369-8f63-c45d58ecff17",
     "showTitle": false,
     "title": ""
    }
   },
   "source": [
    "\n",
    "Generate member_id for each records\n",
    "\n",
    "In our dataset above, all entries for column member_id is NULL. But, this is important for our analysis, as we are trying to predict if lending loan to certain member is risky or not. Inorder to tackle this problem, what I decided to do is concatenate emp_title, emp_length, home_ownership, annual_inc, zip_code, addr_state, grade, sub_grade, and verification_status. After concatenation, pass this to a hash function in order to geenerate a unique value which will eventually be used as member_id later on.\n",
    "\n",
    "For hashing, I used sha2 in this.\n"
   ]
  },
  {
   "cell_type": "code",
   "execution_count": 0,
   "metadata": {
    "application/vnd.databricks.v1+cell": {
     "cellMetadata": {},
     "inputWidgets": {},
     "nuid": "66698182-7b19-46f0-8ede-2c5ec915edaf",
     "showTitle": false,
     "title": ""
    }
   },
   "outputs": [],
   "source": [
    "from pyspark.sql.functions import sha2,concat_ws"
   ]
  },
  {
   "cell_type": "code",
   "execution_count": 0,
   "metadata": {
    "application/vnd.databricks.v1+cell": {
     "cellMetadata": {},
     "inputWidgets": {},
     "nuid": "dd70af34-1952-469e-be88-41427d373451",
     "showTitle": false,
     "title": ""
    }
   },
   "outputs": [],
   "source": [
    "new_df = raw_df.withColumn(\"name_sha2\", sha2(concat_ws(\"||\", *[\"emp_title\", \"emp_length\", \"home_ownership\", \"annual_inc\", \"zip_code\", \"addr_state\", \"grade\", \"sub_grade\",\"verification_status\"]), 256))"
   ]
  },
  {
   "cell_type": "code",
   "execution_count": 0,
   "metadata": {
    "application/vnd.databricks.v1+cell": {
     "cellMetadata": {},
     "inputWidgets": {},
     "nuid": "981cdd56-e6f7-49e7-9801-800937208798",
     "showTitle": false,
     "title": ""
    }
   },
   "outputs": [
    {
     "output_type": "execute_result",
     "data": {
      "text/html": [
       "<table border='1'>\n",
       "<tr><th>id</th><th>member_id</th><th>loan_amnt</th><th>funded_amnt</th><th>funded_amnt_inv</th><th>term</th><th>int_rate</th><th>installment</th><th>grade</th><th>sub_grade</th><th>emp_title</th><th>emp_length</th><th>home_ownership</th><th>annual_inc</th><th>verification_status</th><th>issue_d</th><th>loan_status</th><th>pymnt_plan</th><th>url</th><th>desc</th><th>purpose</th><th>title</th><th>zip_code</th><th>addr_state</th><th>dti</th><th>delinq_2yrs</th><th>earliest_cr_line</th><th>fico_range_low</th><th>fico_range_high</th><th>inq_last_6mths</th><th>mths_since_last_delinq</th><th>mths_since_last_record</th><th>open_acc</th><th>pub_rec</th><th>revol_bal</th><th>revol_util</th><th>total_acc</th><th>initial_list_status</th><th>out_prncp</th><th>out_prncp_inv</th><th>total_pymnt</th><th>total_pymnt_inv</th><th>total_rec_prncp</th><th>total_rec_int</th><th>total_rec_late_fee</th><th>recoveries</th><th>collection_recovery_fee</th><th>last_pymnt_d</th><th>last_pymnt_amnt</th><th>next_pymnt_d</th><th>last_credit_pull_d</th><th>last_fico_range_high</th><th>last_fico_range_low</th><th>collections_12_mths_ex_med</th><th>mths_since_last_major_derog</th><th>policy_code</th><th>application_type</th><th>annual_inc_joint</th><th>dti_joint</th><th>verification_status_joint</th><th>acc_now_delinq</th><th>tot_coll_amt</th><th>tot_cur_bal</th><th>open_acc_6m</th><th>open_act_il</th><th>open_il_12m</th><th>open_il_24m</th><th>mths_since_rcnt_il</th><th>total_bal_il</th><th>il_util</th><th>open_rv_12m</th><th>open_rv_24m</th><th>max_bal_bc</th><th>all_util</th><th>total_rev_hi_lim</th><th>inq_fi</th><th>total_cu_tl</th><th>inq_last_12m</th><th>acc_open_past_24mths</th><th>avg_cur_bal</th><th>bc_open_to_buy</th><th>bc_util</th><th>chargeoff_within_12_mths</th><th>delinq_amnt</th><th>mo_sin_old_il_acct</th><th>mo_sin_old_rev_tl_op</th><th>mo_sin_rcnt_rev_tl_op</th><th>mo_sin_rcnt_tl</th><th>mort_acc</th><th>mths_since_recent_bc</th><th>mths_since_recent_bc_dlq</th><th>mths_since_recent_inq</th><th>mths_since_recent_revol_delinq</th><th>num_accts_ever_120_pd</th><th>num_actv_bc_tl</th><th>num_actv_rev_tl</th><th>num_bc_sats</th><th>num_bc_tl</th><th>num_il_tl</th><th>num_op_rev_tl</th><th>num_rev_accts</th><th>num_rev_tl_bal_gt_0</th><th>num_sats</th><th>num_tl_120dpd_2m</th><th>num_tl_30dpd</th><th>num_tl_90g_dpd_24m</th><th>num_tl_op_past_12m</th><th>pct_tl_nvr_dlq</th><th>percent_bc_gt_75</th><th>pub_rec_bankruptcies</th><th>tax_liens</th><th>tot_hi_cred_lim</th><th>total_bal_ex_mort</th><th>total_bc_limit</th><th>total_il_high_credit_limit</th><th>revol_bal_joint</th><th>sec_app_fico_range_low</th><th>sec_app_fico_range_high</th><th>sec_app_earliest_cr_line</th><th>sec_app_inq_last_6mths</th><th>sec_app_mort_acc</th><th>sec_app_open_acc</th><th>sec_app_revol_util</th><th>sec_app_open_act_il</th><th>sec_app_num_rev_accts</th><th>sec_app_chargeoff_within_12_mths</th><th>sec_app_collections_12_mths_ex_med</th><th>sec_app_mths_since_last_major_derog</th><th>hardship_flag</th><th>hardship_type</th><th>hardship_reason</th><th>hardship_status</th><th>deferral_term</th><th>hardship_amount</th><th>hardship_start_date</th><th>hardship_end_date</th><th>payment_plan_start_date</th><th>hardship_length</th><th>hardship_dpd</th><th>hardship_loan_status</th><th>orig_projected_additional_accrued_interest</th><th>hardship_payoff_balance_amount</th><th>hardship_last_payment_amount</th><th>disbursement_method</th><th>debt_settlement_flag</th><th>debt_settlement_flag_date</th><th>settlement_status</th><th>settlement_date</th><th>settlement_amount</th><th>settlement_percentage</th><th>settlement_term</th><th>name_sha2</th></tr>\n",
       "<tr><td>68407277</td><td>null</td><td>3600.0</td><td>3600.0</td><td>3600.0</td><td> 36 months</td><td>13.99</td><td>123.03</td><td>C</td><td>C4</td><td>leadman</td><td>10+ years</td><td>MORTGAGE</td><td>55000.0</td><td>Not Verified</td><td>Dec-2015</td><td>Fully Paid</td><td>n</td><td>https://lendingcl...</td><td>null</td><td>debt_consolidation</td><td>Debt consolidation</td><td>190xx</td><td>PA</td><td>5.91</td><td>0.0</td><td>Aug-2003</td><td>675.0</td><td>679.0</td><td>1.0</td><td>30.0</td><td>null</td><td>7.0</td><td>0.0</td><td>2765.0</td><td>29.7</td><td>13.0</td><td>w</td><td>0.0</td><td>0.0</td><td>4421.723916800001</td><td>4421.72</td><td>3600.0</td><td>821.72</td><td>0.0</td><td>0.0</td><td>0.0</td><td>Jan-2019</td><td>122.67</td><td>null</td><td>Mar-2019</td><td>564.0</td><td>560.0</td><td>0.0</td><td>30.0</td><td>1.0</td><td>Individual</td><td>null</td><td>null</td><td>null</td><td>0.0</td><td>722.0</td><td>144904.0</td><td>2.0</td><td>2.0</td><td>0.0</td><td>1.0</td><td>21.0</td><td>4981.0</td><td>36.0</td><td>3.0</td><td>3.0</td><td>722.0</td><td>34.0</td><td>9300.0</td><td>3.0</td><td>1.0</td><td>4.0</td><td>4.0</td><td>20701.0</td><td>1506.0</td><td>37.2</td><td>0.0</td><td>0.0</td><td>148.0</td><td>128.0</td><td>3.0</td><td>3.0</td><td>1.0</td><td>4.0</td><td>69.0</td><td>4.0</td><td>69.0</td><td>2.0</td><td>2.0</td><td>4.0</td><td>2.0</td><td>5.0</td><td>3.0</td><td>4.0</td><td>9.0</td><td>4.0</td><td>7.0</td><td>0.0</td><td>0.0</td><td>0.0</td><td>3.0</td><td>76.9</td><td>0.0</td><td>0.0</td><td>0.0</td><td>178050.0</td><td>7746.0</td><td>2400.0</td><td>13734.0</td><td>null</td><td>null</td><td>null</td><td>null</td><td>null</td><td>null</td><td>null</td><td>null</td><td>null</td><td>null</td><td>null</td><td>null</td><td>null</td><td>N</td><td>null</td><td>null</td><td>null</td><td>null</td><td>null</td><td>null</td><td>null</td><td>null</td><td>null</td><td>null</td><td>null</td><td>null</td><td>null</td><td>null</td><td>Cash</td><td>N</td><td>null</td><td>null</td><td>null</td><td>null</td><td>null</td><td>null</td><td>6d5091b3fcaaeb4ea...</td></tr>\n",
       "<tr><td>68355089</td><td>null</td><td>24700.0</td><td>24700.0</td><td>24700.0</td><td> 36 months</td><td>11.99</td><td>820.28</td><td>C</td><td>C1</td><td>Engineer</td><td>10+ years</td><td>MORTGAGE</td><td>65000.0</td><td>Not Verified</td><td>Dec-2015</td><td>Fully Paid</td><td>n</td><td>https://lendingcl...</td><td>null</td><td>small_business</td><td>Business</td><td>577xx</td><td>SD</td><td>16.06</td><td>1.0</td><td>Dec-1999</td><td>715.0</td><td>719.0</td><td>4.0</td><td>6.0</td><td>null</td><td>22.0</td><td>0.0</td><td>21470.0</td><td>19.2</td><td>38.0</td><td>w</td><td>0.0</td><td>0.0</td><td>25679.66</td><td>25679.66</td><td>24700.0</td><td>979.66</td><td>0.0</td><td>0.0</td><td>0.0</td><td>Jun-2016</td><td>926.35</td><td>null</td><td>Mar-2019</td><td>699.0</td><td>695.0</td><td>0.0</td><td>null</td><td>1.0</td><td>Individual</td><td>null</td><td>null</td><td>null</td><td>0.0</td><td>0.0</td><td>204396.0</td><td>1.0</td><td>1.0</td><td>0.0</td><td>1.0</td><td>19.0</td><td>18005.0</td><td>73.0</td><td>2.0</td><td>3.0</td><td>6472.0</td><td>29.0</td><td>111800.0</td><td>0.0</td><td>0.0</td><td>6.0</td><td>4.0</td><td>9733.0</td><td>57830.0</td><td>27.1</td><td>0.0</td><td>0.0</td><td>113.0</td><td>192.0</td><td>2.0</td><td>2.0</td><td>4.0</td><td>2.0</td><td>null</td><td>0.0</td><td>6.0</td><td>0.0</td><td>5.0</td><td>5.0</td><td>13.0</td><td>17.0</td><td>6.0</td><td>20.0</td><td>27.0</td><td>5.0</td><td>22.0</td><td>0.0</td><td>0.0</td><td>0.0</td><td>2.0</td><td>97.4</td><td>7.7</td><td>0.0</td><td>0.0</td><td>314017.0</td><td>39475.0</td><td>79300.0</td><td>24667.0</td><td>null</td><td>null</td><td>null</td><td>null</td><td>null</td><td>null</td><td>null</td><td>null</td><td>null</td><td>null</td><td>null</td><td>null</td><td>null</td><td>N</td><td>null</td><td>null</td><td>null</td><td>null</td><td>null</td><td>null</td><td>null</td><td>null</td><td>null</td><td>null</td><td>null</td><td>null</td><td>null</td><td>null</td><td>Cash</td><td>N</td><td>null</td><td>null</td><td>null</td><td>null</td><td>null</td><td>null</td><td>b5e7938b0a2da4cea...</td></tr>\n",
       "<tr><td>68341763</td><td>null</td><td>20000.0</td><td>20000.0</td><td>20000.0</td><td> 60 months</td><td>10.78</td><td>432.66</td><td>B</td><td>B4</td><td>truck driver</td><td>10+ years</td><td>MORTGAGE</td><td>63000.0</td><td>Not Verified</td><td>Dec-2015</td><td>Fully Paid</td><td>n</td><td>https://lendingcl...</td><td>null</td><td>home_improvement</td><td>null</td><td>605xx</td><td>IL</td><td>10.78</td><td>0.0</td><td>Aug-2000</td><td>695.0</td><td>699.0</td><td>0.0</td><td>null</td><td>null</td><td>6.0</td><td>0.0</td><td>7869.0</td><td>56.2</td><td>18.0</td><td>w</td><td>0.0</td><td>0.0</td><td>22705.924293878397</td><td>22705.92</td><td>20000.0</td><td>2705.92</td><td>0.0</td><td>0.0</td><td>0.0</td><td>Jun-2017</td><td>15813.3</td><td>null</td><td>Mar-2019</td><td>704.0</td><td>700.0</td><td>0.0</td><td>null</td><td>1.0</td><td>Joint App</td><td>71000.0</td><td>13.85</td><td>Not Verified</td><td>0.0</td><td>0.0</td><td>189699.0</td><td>0.0</td><td>1.0</td><td>0.0</td><td>4.0</td><td>19.0</td><td>10827.0</td><td>73.0</td><td>0.0</td><td>2.0</td><td>2081.0</td><td>65.0</td><td>14000.0</td><td>2.0</td><td>5.0</td><td>1.0</td><td>6.0</td><td>31617.0</td><td>2737.0</td><td>55.9</td><td>0.0</td><td>0.0</td><td>125.0</td><td>184.0</td><td>14.0</td><td>14.0</td><td>5.0</td><td>101.0</td><td>null</td><td>10.0</td><td>null</td><td>0.0</td><td>2.0</td><td>3.0</td><td>2.0</td><td>4.0</td><td>6.0</td><td>4.0</td><td>7.0</td><td>3.0</td><td>6.0</td><td>0.0</td><td>0.0</td><td>0.0</td><td>0.0</td><td>100.0</td><td>50.0</td><td>0.0</td><td>0.0</td><td>218418.0</td><td>18696.0</td><td>6200.0</td><td>14877.0</td><td>null</td><td>null</td><td>null</td><td>null</td><td>null</td><td>null</td><td>null</td><td>null</td><td>null</td><td>null</td><td>null</td><td>null</td><td>null</td><td>N</td><td>null</td><td>null</td><td>null</td><td>null</td><td>null</td><td>null</td><td>null</td><td>null</td><td>null</td><td>null</td><td>null</td><td>null</td><td>null</td><td>null</td><td>Cash</td><td>N</td><td>null</td><td>null</td><td>null</td><td>null</td><td>null</td><td>null</td><td>91060b858433e8a61...</td></tr>\n",
       "<tr><td>66310712</td><td>null</td><td>35000.0</td><td>35000.0</td><td>35000.0</td><td> 60 months</td><td>14.85</td><td>829.9</td><td>C</td><td>C5</td><td>Information Syste...</td><td>10+ years</td><td>MORTGAGE</td><td>110000.0</td><td>Source Verified</td><td>Dec-2015</td><td>Current</td><td>n</td><td>https://lendingcl...</td><td>null</td><td>debt_consolidation</td><td>Debt consolidation</td><td>076xx</td><td>NJ</td><td>17.06</td><td>0.0</td><td>Sep-2008</td><td>785.0</td><td>789.0</td><td>0.0</td><td>null</td><td>null</td><td>13.0</td><td>0.0</td><td>7802.0</td><td>11.6</td><td>17.0</td><td>w</td><td>15897.65</td><td>15897.65</td><td>31464.01</td><td>31464.01</td><td>19102.35</td><td>12361.66</td><td>0.0</td><td>0.0</td><td>0.0</td><td>Feb-2019</td><td>829.9</td><td>Apr-2019</td><td>Mar-2019</td><td>679.0</td><td>675.0</td><td>0.0</td><td>null</td><td>1.0</td><td>Individual</td><td>null</td><td>null</td><td>null</td><td>0.0</td><td>0.0</td><td>301500.0</td><td>1.0</td><td>1.0</td><td>0.0</td><td>1.0</td><td>23.0</td><td>12609.0</td><td>70.0</td><td>1.0</td><td>1.0</td><td>6987.0</td><td>45.0</td><td>67300.0</td><td>0.0</td><td>1.0</td><td>0.0</td><td>2.0</td><td>23192.0</td><td>54962.0</td><td>12.1</td><td>0.0</td><td>0.0</td><td>36.0</td><td>87.0</td><td>2.0</td><td>2.0</td><td>1.0</td><td>2.0</td><td>null</td><td>null</td><td>null</td><td>0.0</td><td>4.0</td><td>5.0</td><td>8.0</td><td>10.0</td><td>2.0</td><td>10.0</td><td>13.0</td><td>5.0</td><td>13.0</td><td>0.0</td><td>0.0</td><td>0.0</td><td>1.0</td><td>100.0</td><td>0.0</td><td>0.0</td><td>0.0</td><td>381215.0</td><td>52226.0</td><td>62500.0</td><td>18000.0</td><td>null</td><td>null</td><td>null</td><td>null</td><td>null</td><td>null</td><td>null</td><td>null</td><td>null</td><td>null</td><td>null</td><td>null</td><td>null</td><td>N</td><td>null</td><td>null</td><td>null</td><td>null</td><td>null</td><td>null</td><td>null</td><td>null</td><td>null</td><td>null</td><td>null</td><td>null</td><td>null</td><td>null</td><td>Cash</td><td>N</td><td>null</td><td>null</td><td>null</td><td>null</td><td>null</td><td>null</td><td>cab1fa9f533688b0a...</td></tr>\n",
       "<tr><td>68476807</td><td>null</td><td>10400.0</td><td>10400.0</td><td>10400.0</td><td> 60 months</td><td>22.45</td><td>289.91</td><td>F</td><td>F1</td><td>Contract Specialist</td><td>3 years</td><td>MORTGAGE</td><td>104433.0</td><td>Source Verified</td><td>Dec-2015</td><td>Fully Paid</td><td>n</td><td>https://lendingcl...</td><td>null</td><td>major_purchase</td><td>Major purchase</td><td>174xx</td><td>PA</td><td>25.37</td><td>1.0</td><td>Jun-1998</td><td>695.0</td><td>699.0</td><td>3.0</td><td>12.0</td><td>null</td><td>12.0</td><td>0.0</td><td>21929.0</td><td>64.5</td><td>35.0</td><td>w</td><td>0.0</td><td>0.0</td><td>11740.5</td><td>11740.5</td><td>10400.0</td><td>1340.5</td><td>0.0</td><td>0.0</td><td>0.0</td><td>Jul-2016</td><td>10128.96</td><td>null</td><td>Mar-2018</td><td>704.0</td><td>700.0</td><td>0.0</td><td>null</td><td>1.0</td><td>Individual</td><td>null</td><td>null</td><td>null</td><td>0.0</td><td>0.0</td><td>331730.0</td><td>1.0</td><td>3.0</td><td>0.0</td><td>3.0</td><td>14.0</td><td>73839.0</td><td>84.0</td><td>4.0</td><td>7.0</td><td>9702.0</td><td>78.0</td><td>34000.0</td><td>2.0</td><td>1.0</td><td>3.0</td><td>10.0</td><td>27644.0</td><td>4567.0</td><td>77.5</td><td>0.0</td><td>0.0</td><td>128.0</td><td>210.0</td><td>4.0</td><td>4.0</td><td>6.0</td><td>4.0</td><td>12.0</td><td>1.0</td><td>12.0</td><td>0.0</td><td>4.0</td><td>6.0</td><td>5.0</td><td>9.0</td><td>10.0</td><td>7.0</td><td>19.0</td><td>6.0</td><td>12.0</td><td>0.0</td><td>0.0</td><td>0.0</td><td>4.0</td><td>96.6</td><td>60.0</td><td>0.0</td><td>0.0</td><td>439570.0</td><td>95768.0</td><td>20300.0</td><td>88097.0</td><td>null</td><td>null</td><td>null</td><td>null</td><td>null</td><td>null</td><td>null</td><td>null</td><td>null</td><td>null</td><td>null</td><td>null</td><td>null</td><td>N</td><td>null</td><td>null</td><td>null</td><td>null</td><td>null</td><td>null</td><td>null</td><td>null</td><td>null</td><td>null</td><td>null</td><td>null</td><td>null</td><td>null</td><td>Cash</td><td>N</td><td>null</td><td>null</td><td>null</td><td>null</td><td>null</td><td>null</td><td>f74e401c1ab0adf78...</td></tr>\n",
       "<tr><td>68426831</td><td>null</td><td>11950.0</td><td>11950.0</td><td>11950.0</td><td> 36 months</td><td>13.44</td><td>405.18</td><td>C</td><td>C3</td><td>Veterinary Tecnician</td><td>4 years</td><td>RENT</td><td>34000.0</td><td>Source Verified</td><td>Dec-2015</td><td>Fully Paid</td><td>n</td><td>https://lendingcl...</td><td>null</td><td>debt_consolidation</td><td>Debt consolidation</td><td>300xx</td><td>GA</td><td>10.2</td><td>0.0</td><td>Oct-1987</td><td>690.0</td><td>694.0</td><td>0.0</td><td>null</td><td>null</td><td>5.0</td><td>0.0</td><td>8822.0</td><td>68.4</td><td>6.0</td><td>w</td><td>0.0</td><td>0.0</td><td>13708.9485297572</td><td>13708.95</td><td>11950.0</td><td>1758.95</td><td>0.0</td><td>0.0</td><td>0.0</td><td>May-2017</td><td>7653.56</td><td>null</td><td>May-2017</td><td>759.0</td><td>755.0</td><td>0.0</td><td>null</td><td>1.0</td><td>Individual</td><td>null</td><td>null</td><td>null</td><td>0.0</td><td>0.0</td><td>12798.0</td><td>0.0</td><td>1.0</td><td>0.0</td><td>0.0</td><td>338.0</td><td>3976.0</td><td>99.0</td><td>0.0</td><td>0.0</td><td>4522.0</td><td>76.0</td><td>12900.0</td><td>0.0</td><td>0.0</td><td>0.0</td><td>0.0</td><td>2560.0</td><td>844.0</td><td>91.0</td><td>0.0</td><td>0.0</td><td>338.0</td><td>54.0</td><td>32.0</td><td>32.0</td><td>0.0</td><td>36.0</td><td>null</td><td>null</td><td>null</td><td>0.0</td><td>2.0</td><td>3.0</td><td>2.0</td><td>2.0</td><td>2.0</td><td>4.0</td><td>4.0</td><td>3.0</td><td>5.0</td><td>0.0</td><td>0.0</td><td>0.0</td><td>0.0</td><td>100.0</td><td>100.0</td><td>0.0</td><td>0.0</td><td>16900.0</td><td>12798.0</td><td>9400.0</td><td>4000.0</td><td>null</td><td>null</td><td>null</td><td>null</td><td>null</td><td>null</td><td>null</td><td>null</td><td>null</td><td>null</td><td>null</td><td>null</td><td>null</td><td>N</td><td>null</td><td>null</td><td>null</td><td>null</td><td>null</td><td>null</td><td>null</td><td>null</td><td>null</td><td>null</td><td>null</td><td>null</td><td>null</td><td>null</td><td>Cash</td><td>N</td><td>null</td><td>null</td><td>null</td><td>null</td><td>null</td><td>null</td><td>8aef4bb29d609d8d6...</td></tr>\n",
       "<tr><td>68476668</td><td>null</td><td>20000.0</td><td>20000.0</td><td>20000.0</td><td> 36 months</td><td>9.17</td><td>637.58</td><td>B</td><td>B2</td><td>Vice President of...</td><td>10+ years</td><td>MORTGAGE</td><td>180000.0</td><td>Not Verified</td><td>Dec-2015</td><td>Fully Paid</td><td>n</td><td>https://lendingcl...</td><td>null</td><td>debt_consolidation</td><td>Debt consolidation</td><td>550xx</td><td>MN</td><td>14.67</td><td>0.0</td><td>Jun-1990</td><td>680.0</td><td>684.0</td><td>0.0</td><td>49.0</td><td>null</td><td>12.0</td><td>0.0</td><td>87329.0</td><td>84.5</td><td>27.0</td><td>f</td><td>0.0</td><td>0.0</td><td>21393.800000011</td><td>21393.8</td><td>20000.0</td><td>1393.8</td><td>0.0</td><td>0.0</td><td>0.0</td><td>Nov-2016</td><td>15681.05</td><td>null</td><td>Mar-2019</td><td>654.0</td><td>650.0</td><td>0.0</td><td>null</td><td>1.0</td><td>Individual</td><td>null</td><td>null</td><td>null</td><td>0.0</td><td>0.0</td><td>360358.0</td><td>0.0</td><td>2.0</td><td>0.0</td><td>2.0</td><td>18.0</td><td>29433.0</td><td>63.0</td><td>2.0</td><td>3.0</td><td>13048.0</td><td>74.0</td><td>94200.0</td><td>1.0</td><td>0.0</td><td>1.0</td><td>6.0</td><td>30030.0</td><td>0.0</td><td>102.9</td><td>0.0</td><td>0.0</td><td>142.0</td><td>306.0</td><td>10.0</td><td>10.0</td><td>4.0</td><td>12.0</td><td>null</td><td>10.0</td><td>null</td><td>0.0</td><td>4.0</td><td>6.0</td><td>4.0</td><td>5.0</td><td>7.0</td><td>9.0</td><td>16.0</td><td>6.0</td><td>12.0</td><td>0.0</td><td>0.0</td><td>0.0</td><td>2.0</td><td>96.3</td><td>100.0</td><td>0.0</td><td>0.0</td><td>388852.0</td><td>116762.0</td><td>31500.0</td><td>46452.0</td><td>null</td><td>null</td><td>null</td><td>null</td><td>null</td><td>null</td><td>null</td><td>null</td><td>null</td><td>null</td><td>null</td><td>null</td><td>null</td><td>N</td><td>null</td><td>null</td><td>null</td><td>null</td><td>null</td><td>null</td><td>null</td><td>null</td><td>null</td><td>null</td><td>null</td><td>null</td><td>null</td><td>null</td><td>Cash</td><td>N</td><td>null</td><td>null</td><td>null</td><td>null</td><td>null</td><td>null</td><td>538b4653da3b1e814...</td></tr>\n",
       "<tr><td>67275481</td><td>null</td><td>20000.0</td><td>20000.0</td><td>20000.0</td><td> 36 months</td><td>8.49</td><td>631.26</td><td>B</td><td>B1</td><td>road driver</td><td>10+ years</td><td>MORTGAGE</td><td>85000.0</td><td>Not Verified</td><td>Dec-2015</td><td>Fully Paid</td><td>n</td><td>https://lendingcl...</td><td>null</td><td>major_purchase</td><td>Major purchase</td><td>293xx</td><td>SC</td><td>17.61</td><td>1.0</td><td>Feb-1999</td><td>705.0</td><td>709.0</td><td>0.0</td><td>3.0</td><td>null</td><td>8.0</td><td>0.0</td><td>826.0</td><td>5.7</td><td>15.0</td><td>w</td><td>0.0</td><td>0.0</td><td>21538.508976797</td><td>21538.51</td><td>20000.0</td><td>1538.51</td><td>0.0</td><td>0.0</td><td>0.0</td><td>Jan-2017</td><td>14618.23</td><td>null</td><td>Mar-2019</td><td>674.0</td><td>670.0</td><td>0.0</td><td>3.0</td><td>1.0</td><td>Individual</td><td>null</td><td>null</td><td>null</td><td>0.0</td><td>0.0</td><td>141601.0</td><td>0.0</td><td>3.0</td><td>0.0</td><td>4.0</td><td>13.0</td><td>27111.0</td><td>75.0</td><td>0.0</td><td>0.0</td><td>640.0</td><td>55.0</td><td>14500.0</td><td>1.0</td><td>0.0</td><td>2.0</td><td>4.0</td><td>17700.0</td><td>13674.0</td><td>5.7</td><td>0.0</td><td>0.0</td><td>149.0</td><td>55.0</td><td>32.0</td><td>13.0</td><td>3.0</td><td>32.0</td><td>null</td><td>8.0</td><td>null</td><td>1.0</td><td>2.0</td><td>2.0</td><td>3.0</td><td>3.0</td><td>9.0</td><td>3.0</td><td>3.0</td><td>2.0</td><td>8.0</td><td>0.0</td><td>0.0</td><td>1.0</td><td>0.0</td><td>93.3</td><td>0.0</td><td>0.0</td><td>0.0</td><td>193390.0</td><td>27937.0</td><td>14500.0</td><td>36144.0</td><td>null</td><td>null</td><td>null</td><td>null</td><td>null</td><td>null</td><td>null</td><td>null</td><td>null</td><td>null</td><td>null</td><td>null</td><td>null</td><td>N</td><td>null</td><td>null</td><td>null</td><td>null</td><td>null</td><td>null</td><td>null</td><td>null</td><td>null</td><td>null</td><td>null</td><td>null</td><td>null</td><td>null</td><td>Cash</td><td>N</td><td>null</td><td>null</td><td>null</td><td>null</td><td>null</td><td>null</td><td>b24d55f21390533c5...</td></tr>\n",
       "<tr><td>68466926</td><td>null</td><td>10000.0</td><td>10000.0</td><td>10000.0</td><td> 36 months</td><td>6.49</td><td>306.45</td><td>A</td><td>A2</td><td>SERVICE MANAGER</td><td>6 years</td><td>RENT</td><td>85000.0</td><td>Not Verified</td><td>Dec-2015</td><td>Fully Paid</td><td>n</td><td>https://lendingcl...</td><td>null</td><td>credit_card</td><td>Credit card refin...</td><td>160xx</td><td>PA</td><td>13.07</td><td>0.0</td><td>Apr-2002</td><td>685.0</td><td>689.0</td><td>1.0</td><td>null</td><td>106.0</td><td>14.0</td><td>1.0</td><td>10464.0</td><td>34.5</td><td>23.0</td><td>w</td><td>0.0</td><td>0.0</td><td>10998.9715749644</td><td>10998.97</td><td>10000.0</td><td>998.97</td><td>0.0</td><td>0.0</td><td>0.0</td><td>Aug-2018</td><td>1814.48</td><td>null</td><td>Mar-2019</td><td>719.0</td><td>715.0</td><td>0.0</td><td>null</td><td>1.0</td><td>Individual</td><td>null</td><td>null</td><td>null</td><td>0.0</td><td>8341.0</td><td>27957.0</td><td>2.0</td><td>1.0</td><td>0.0</td><td>0.0</td><td>35.0</td><td>17493.0</td><td>57.0</td><td>2.0</td><td>7.0</td><td>2524.0</td><td>46.0</td><td>30300.0</td><td>2.0</td><td>0.0</td><td>1.0</td><td>7.0</td><td>1997.0</td><td>8182.0</td><td>50.1</td><td>0.0</td><td>0.0</td><td>164.0</td><td>129.0</td><td>1.0</td><td>1.0</td><td>1.0</td><td>4.0</td><td>null</td><td>1.0</td><td>null</td><td>0.0</td><td>6.0</td><td>9.0</td><td>7.0</td><td>10.0</td><td>3.0</td><td>13.0</td><td>19.0</td><td>9.0</td><td>14.0</td><td>0.0</td><td>0.0</td><td>0.0</td><td>2.0</td><td>95.7</td><td>28.6</td><td>1.0</td><td>0.0</td><td>61099.0</td><td>27957.0</td><td>16400.0</td><td>30799.0</td><td>null</td><td>null</td><td>null</td><td>null</td><td>null</td><td>null</td><td>null</td><td>null</td><td>null</td><td>null</td><td>null</td><td>null</td><td>null</td><td>N</td><td>null</td><td>null</td><td>null</td><td>null</td><td>null</td><td>null</td><td>null</td><td>null</td><td>null</td><td>null</td><td>null</td><td>null</td><td>null</td><td>null</td><td>Cash</td><td>N</td><td>null</td><td>null</td><td>null</td><td>null</td><td>null</td><td>null</td><td>1035c5401b0ca76d0...</td></tr>\n",
       "<tr><td>68616873</td><td>null</td><td>8000.0</td><td>8000.0</td><td>8000.0</td><td> 36 months</td><td>11.48</td><td>263.74</td><td>B</td><td>B5</td><td>Vendor liaison</td><td>10+ years</td><td>MORTGAGE</td><td>42000.0</td><td>Not Verified</td><td>Dec-2015</td><td>Fully Paid</td><td>n</td><td>https://lendingcl...</td><td>null</td><td>credit_card</td><td>Credit card refin...</td><td>029xx</td><td>RI</td><td>34.8</td><td>0.0</td><td>Nov-1994</td><td>700.0</td><td>704.0</td><td>0.0</td><td>75.0</td><td>null</td><td>8.0</td><td>0.0</td><td>7034.0</td><td>39.1</td><td>18.0</td><td>w</td><td>0.0</td><td>0.0</td><td>8939.5805031401</td><td>8939.58</td><td>8000.0</td><td>939.58</td><td>0.0</td><td>0.0</td><td>0.0</td><td>Apr-2017</td><td>4996.24</td><td>null</td><td>Nov-2018</td><td>679.0</td><td>675.0</td><td>0.0</td><td>75.0</td><td>1.0</td><td>Individual</td><td>null</td><td>null</td><td>null</td><td>0.0</td><td>0.0</td><td>199696.0</td><td>0.0</td><td>2.0</td><td>2.0</td><td>3.0</td><td>10.0</td><td>106748.0</td><td>72.0</td><td>0.0</td><td>2.0</td><td>4725.0</td><td>49.0</td><td>18000.0</td><td>0.0</td><td>0.0</td><td>1.0</td><td>5.0</td><td>28528.0</td><td>9966.0</td><td>41.4</td><td>0.0</td><td>0.0</td><td>155.0</td><td>253.0</td><td>15.0</td><td>10.0</td><td>1.0</td><td>50.0</td><td>null</td><td>10.0</td><td>null</td><td>1.0</td><td>3.0</td><td>3.0</td><td>3.0</td><td>6.0</td><td>5.0</td><td>5.0</td><td>11.0</td><td>3.0</td><td>8.0</td><td>0.0</td><td>0.0</td><td>0.0</td><td>2.0</td><td>94.4</td><td>33.3</td><td>0.0</td><td>0.0</td><td>256513.0</td><td>113782.0</td><td>17000.0</td><td>135513.0</td><td>null</td><td>null</td><td>null</td><td>null</td><td>null</td><td>null</td><td>null</td><td>null</td><td>null</td><td>null</td><td>null</td><td>null</td><td>null</td><td>N</td><td>null</td><td>null</td><td>null</td><td>null</td><td>null</td><td>null</td><td>null</td><td>null</td><td>null</td><td>null</td><td>null</td><td>null</td><td>null</td><td>null</td><td>Cash</td><td>N</td><td>null</td><td>null</td><td>null</td><td>null</td><td>null</td><td>null</td><td>cb0f1777593e77909...</td></tr>\n",
       "<tr><td>68356421</td><td>null</td><td>22400.0</td><td>22400.0</td><td>22400.0</td><td> 60 months</td><td>12.88</td><td>508.3</td><td>C</td><td>C2</td><td>Executive Director</td><td>6 years</td><td>MORTGAGE</td><td>95000.0</td><td>Not Verified</td><td>Dec-2015</td><td>Current</td><td>n</td><td>https://lendingcl...</td><td>null</td><td>debt_consolidation</td><td>Debt consolidation</td><td>290xx</td><td>SC</td><td>22.98</td><td>0.0</td><td>Apr-1995</td><td>710.0</td><td>714.0</td><td>0.0</td><td>54.0</td><td>null</td><td>16.0</td><td>0.0</td><td>13028.0</td><td>32.7</td><td>35.0</td><td>w</td><td>9912.88</td><td>9912.88</td><td>19275.33</td><td>19275.33</td><td>12487.12</td><td>6788.21</td><td>0.0</td><td>0.0</td><td>0.0</td><td>Feb-2019</td><td>508.3</td><td>Apr-2019</td><td>Mar-2019</td><td>589.0</td><td>585.0</td><td>0.0</td><td>54.0</td><td>1.0</td><td>Individual</td><td>null</td><td>null</td><td>null</td><td>0.0</td><td>0.0</td><td>376218.0</td><td>1.0</td><td>5.0</td><td>0.0</td><td>3.0</td><td>17.0</td><td>171328.0</td><td>67.0</td><td>3.0</td><td>6.0</td><td>8121.0</td><td>54.0</td><td>39800.0</td><td>1.0</td><td>5.0</td><td>0.0</td><td>9.0</td><td>23514.0</td><td>12617.0</td><td>39.9</td><td>0.0</td><td>0.0</td><td>150.0</td><td>248.0</td><td>1.0</td><td>1.0</td><td>5.0</td><td>1.0</td><td>null</td><td>14.0</td><td>null</td><td>2.0</td><td>3.0</td><td>8.0</td><td>4.0</td><td>5.0</td><td>15.0</td><td>10.0</td><td>15.0</td><td>8.0</td><td>16.0</td><td>0.0</td><td>0.0</td><td>0.0</td><td>3.0</td><td>97.0</td><td>25.0</td><td>0.0</td><td>0.0</td><td>436841.0</td><td>184356.0</td><td>21000.0</td><td>191682.0</td><td>null</td><td>null</td><td>null</td><td>null</td><td>null</td><td>null</td><td>null</td><td>null</td><td>null</td><td>null</td><td>null</td><td>null</td><td>null</td><td>N</td><td>null</td><td>null</td><td>null</td><td>null</td><td>null</td><td>null</td><td>null</td><td>null</td><td>null</td><td>null</td><td>null</td><td>null</td><td>null</td><td>null</td><td>Cash</td><td>N</td><td>null</td><td>null</td><td>null</td><td>null</td><td>null</td><td>null</td><td>a962f4d59caec5fa1...</td></tr>\n",
       "<tr><td>68426545</td><td>null</td><td>16000.0</td><td>16000.0</td><td>16000.0</td><td> 60 months</td><td>12.88</td><td>363.07</td><td>C</td><td>C2</td><td>Senior Structural...</td><td>1 year</td><td>MORTGAGE</td><td>70000.0</td><td>Not Verified</td><td>Dec-2015</td><td>Current</td><td>n</td><td>https://lendingcl...</td><td>null</td><td>debt_consolidation</td><td>Debt consolidation</td><td>786xx</td><td>TX</td><td>26.4</td><td>0.0</td><td>Feb-1988</td><td>720.0</td><td>724.0</td><td>0.0</td><td>null</td><td>null</td><td>13.0</td><td>0.0</td><td>28705.0</td><td>56.3</td><td>29.0</td><td>w</td><td>7080.7</td><td>7080.7</td><td>13768.04</td><td>13768.04</td><td>8919.3</td><td>4848.74</td><td>0.0</td><td>0.0</td><td>0.0</td><td>Feb-2019</td><td>363.07</td><td>Apr-2019</td><td>Mar-2019</td><td>754.0</td><td>750.0</td><td>0.0</td><td>null</td><td>1.0</td><td>Individual</td><td>null</td><td>null</td><td>null</td><td>0.0</td><td>0.0</td><td>265836.0</td><td>0.0</td><td>2.0</td><td>0.0</td><td>2.0</td><td>13.0</td><td>33702.0</td><td>74.0</td><td>1.0</td><td>1.0</td><td>8739.0</td><td>64.0</td><td>51000.0</td><td>0.0</td><td>0.0</td><td>1.0</td><td>3.0</td><td>24167.0</td><td>17922.0</td><td>61.0</td><td>0.0</td><td>0.0</td><td>147.0</td><td>334.0</td><td>9.0</td><td>9.0</td><td>2.0</td><td>9.0</td><td>null</td><td>11.0</td><td>null</td><td>0.0</td><td>4.0</td><td>6.0</td><td>5.0</td><td>12.0</td><td>6.0</td><td>10.0</td><td>21.0</td><td>6.0</td><td>13.0</td><td>0.0</td><td>0.0</td><td>0.0</td><td>1.0</td><td>100.0</td><td>60.0</td><td>0.0</td><td>0.0</td><td>309638.0</td><td>62407.0</td><td>45900.0</td><td>45838.0</td><td>null</td><td>null</td><td>null</td><td>null</td><td>null</td><td>null</td><td>null</td><td>null</td><td>null</td><td>null</td><td>null</td><td>null</td><td>null</td><td>N</td><td>null</td><td>null</td><td>null</td><td>null</td><td>null</td><td>null</td><td>null</td><td>null</td><td>null</td><td>null</td><td>null</td><td>null</td><td>null</td><td>null</td><td>Cash</td><td>N</td><td>null</td><td>null</td><td>null</td><td>null</td><td>null</td><td>null</td><td>e7592ab57b3afd9f1...</td></tr>\n",
       "<tr><td>68338832</td><td>null</td><td>1400.0</td><td>1400.0</td><td>1400.0</td><td> 36 months</td><td>12.88</td><td>47.1</td><td>C</td><td>C2</td><td>Logistics Manager</td><td>3 years</td><td>MORTGAGE</td><td>64000.0</td><td>Not Verified</td><td>Dec-2015</td><td>Fully Paid</td><td>n</td><td>https://lendingcl...</td><td>null</td><td>other</td><td>null</td><td>275xx</td><td>NC</td><td>34.95</td><td>0.0</td><td>Jun-1996</td><td>700.0</td><td>704.0</td><td>0.0</td><td>null</td><td>null</td><td>17.0</td><td>0.0</td><td>37828.0</td><td>67.2</td><td>24.0</td><td>w</td><td>0.0</td><td>0.0</td><td>1575.160697674</td><td>1575.16</td><td>1400.0</td><td>175.16</td><td>0.0</td><td>0.0</td><td>0.0</td><td>Mar-2017</td><td>965.36</td><td>null</td><td>Sep-2018</td><td>704.0</td><td>700.0</td><td>0.0</td><td>null</td><td>1.0</td><td>Individual</td><td>null</td><td>null</td><td>null</td><td>0.0</td><td>0.0</td><td>325695.0</td><td>1.0</td><td>3.0</td><td>1.0</td><td>2.0</td><td>2.0</td><td>37430.0</td><td>67.0</td><td>0.0</td><td>2.0</td><td>7386.0</td><td>67.0</td><td>56300.0</td><td>0.0</td><td>2.0</td><td>0.0</td><td>4.0</td><td>19159.0</td><td>7940.0</td><td>77.0</td><td>0.0</td><td>0.0</td><td>46.0</td><td>234.0</td><td>18.0</td><td>2.0</td><td>4.0</td><td>28.0</td><td>null</td><td>18.0</td><td>null</td><td>0.0</td><td>7.0</td><td>11.0</td><td>8.0</td><td>11.0</td><td>3.0</td><td>12.0</td><td>17.0</td><td>11.0</td><td>17.0</td><td>0.0</td><td>0.0</td><td>0.0</td><td>1.0</td><td>100.0</td><td>75.0</td><td>0.0</td><td>0.0</td><td>372109.0</td><td>75258.0</td><td>34500.0</td><td>55501.0</td><td>null</td><td>null</td><td>null</td><td>null</td><td>null</td><td>null</td><td>null</td><td>null</td><td>null</td><td>null</td><td>null</td><td>null</td><td>null</td><td>N</td><td>null</td><td>null</td><td>null</td><td>null</td><td>null</td><td>null</td><td>null</td><td>null</td><td>null</td><td>null</td><td>null</td><td>null</td><td>null</td><td>null</td><td>Cash</td><td>N</td><td>null</td><td>null</td><td>null</td><td>null</td><td>null</td><td>null</td><td>603afa9d1be879b7b...</td></tr>\n",
       "<tr><td>66624733</td><td>null</td><td>18000.0</td><td>18000.0</td><td>18000.0</td><td> 60 months</td><td>19.48</td><td>471.7</td><td>E</td><td>E2</td><td>Software Manager</td><td>7 years</td><td>RENT</td><td>150000.0</td><td>Not Verified</td><td>Dec-2015</td><td>Charged Off</td><td>n</td><td>https://lendingcl...</td><td>null</td><td>debt_consolidation</td><td>Debt consolidation</td><td>916xx</td><td>CA</td><td>9.39</td><td>0.0</td><td>Jun-2005</td><td>665.0</td><td>669.0</td><td>1.0</td><td>null</td><td>75.0</td><td>18.0</td><td>1.0</td><td>14052.0</td><td>40.7</td><td>27.0</td><td>w</td><td>0.0</td><td>0.0</td><td>9452.74</td><td>9452.74</td><td>3481.86</td><td>4351.98</td><td>0.0</td><td>1618.9</td><td>291.402</td><td>May-2017</td><td>471.7</td><td>null</td><td>Nov-2017</td><td>584.0</td><td>580.0</td><td>0.0</td><td>null</td><td>1.0</td><td>Individual</td><td>null</td><td>null</td><td>null</td><td>0.0</td><td>60.0</td><td>36247.0</td><td>2.0</td><td>2.0</td><td>1.0</td><td>3.0</td><td>2.0</td><td>22195.0</td><td>71.0</td><td>2.0</td><td>4.0</td><td>1271.0</td><td>55.0</td><td>34500.0</td><td>2.0</td><td>1.0</td><td>2.0</td><td>7.0</td><td>2014.0</td><td>5128.0</td><td>51.3</td><td>0.0</td><td>0.0</td><td>115.0</td><td>112.0</td><td>1.0</td><td>1.0</td><td>2.0</td><td>9.0</td><td>null</td><td>2.0</td><td>null</td><td>0.0</td><td>6.0</td><td>13.0</td><td>7.0</td><td>8.0</td><td>6.0</td><td>16.0</td><td>19.0</td><td>13.0</td><td>18.0</td><td>0.0</td><td>0.0</td><td>0.0</td><td>3.0</td><td>100.0</td><td>14.3</td><td>1.0</td><td>0.0</td><td>65819.0</td><td>36247.0</td><td>10300.0</td><td>31319.0</td><td>null</td><td>null</td><td>null</td><td>null</td><td>null</td><td>null</td><td>null</td><td>null</td><td>null</td><td>null</td><td>null</td><td>null</td><td>null</td><td>N</td><td>null</td><td>null</td><td>null</td><td>null</td><td>null</td><td>null</td><td>null</td><td>null</td><td>null</td><td>null</td><td>null</td><td>null</td><td>null</td><td>null</td><td>Cash</td><td>N</td><td>null</td><td>null</td><td>null</td><td>null</td><td>null</td><td>null</td><td>9fe2d59ddf2a4f37e...</td></tr>\n",
       "<tr><td>68466961</td><td>null</td><td>28000.0</td><td>28000.0</td><td>28000.0</td><td> 36 months</td><td>6.49</td><td>858.05</td><td>A</td><td>A2</td><td>Senior Manager</td><td>10+ years</td><td>MORTGAGE</td><td>92000.0</td><td>Not Verified</td><td>Dec-2015</td><td>Fully Paid</td><td>n</td><td>https://lendingcl...</td><td>null</td><td>debt_consolidation</td><td>Debt consolidation</td><td>275xx</td><td>NC</td><td>21.6</td><td>0.0</td><td>May-1984</td><td>720.0</td><td>724.0</td><td>0.0</td><td>42.0</td><td>null</td><td>16.0</td><td>0.0</td><td>51507.0</td><td>64.5</td><td>24.0</td><td>w</td><td>0.0</td><td>0.0</td><td>29939.017729337003</td><td>29939.02</td><td>28000.0</td><td>1939.02</td><td>0.0</td><td>0.0</td><td>0.0</td><td>May-2017</td><td>17093.51</td><td>null</td><td>Mar-2019</td><td>764.0</td><td>760.0</td><td>0.0</td><td>null</td><td>1.0</td><td>Individual</td><td>null</td><td>null</td><td>null</td><td>0.0</td><td>0.0</td><td>221110.0</td><td>0.0</td><td>2.0</td><td>0.0</td><td>0.0</td><td>27.0</td><td>23413.0</td><td>55.0</td><td>0.0</td><td>1.0</td><td>8752.0</td><td>61.0</td><td>79900.0</td><td>0.0</td><td>1.0</td><td>0.0</td><td>1.0</td><td>13819.0</td><td>16623.0</td><td>59.9</td><td>0.0</td><td>0.0</td><td>82.0</td><td>379.0</td><td>19.0</td><td>19.0</td><td>2.0</td><td>19.0</td><td>48.0</td><td>null</td><td>42.0</td><td>0.0</td><td>7.0</td><td>9.0</td><td>9.0</td><td>11.0</td><td>4.0</td><td>13.0</td><td>18.0</td><td>9.0</td><td>16.0</td><td>0.0</td><td>0.0</td><td>0.0</td><td>0.0</td><td>91.7</td><td>22.2</td><td>0.0</td><td>0.0</td><td>304003.0</td><td>74920.0</td><td>41500.0</td><td>42503.0</td><td>null</td><td>null</td><td>null</td><td>null</td><td>null</td><td>null</td><td>null</td><td>null</td><td>null</td><td>null</td><td>null</td><td>null</td><td>null</td><td>N</td><td>null</td><td>null</td><td>null</td><td>null</td><td>null</td><td>null</td><td>null</td><td>null</td><td>null</td><td>null</td><td>null</td><td>null</td><td>null</td><td>null</td><td>Cash</td><td>N</td><td>null</td><td>null</td><td>null</td><td>null</td><td>null</td><td>null</td><td>23857480ccf555ce4...</td></tr>\n",
       "<tr><td>68354783</td><td>null</td><td>9600.0</td><td>9600.0</td><td>9600.0</td><td> 36 months</td><td>7.49</td><td>298.58</td><td>A</td><td>A4</td><td>tech</td><td>8 years</td><td>MORTGAGE</td><td>60000.0</td><td>Not Verified</td><td>Dec-2015</td><td>Fully Paid</td><td>n</td><td>https://lendingcl...</td><td>null</td><td>credit_card</td><td>Credit card refin...</td><td>299xx</td><td>SC</td><td>22.44</td><td>0.0</td><td>Jun-1996</td><td>695.0</td><td>699.0</td><td>0.0</td><td>null</td><td>null</td><td>7.0</td><td>0.0</td><td>7722.0</td><td>59.4</td><td>9.0</td><td>w</td><td>0.0</td><td>0.0</td><td>10636.098427692801</td><td>10636.1</td><td>9600.0</td><td>1036.1</td><td>0.0</td><td>0.0</td><td>0.0</td><td>Feb-2018</td><td>3480.17</td><td>null</td><td>Aug-2018</td><td>779.0</td><td>775.0</td><td>0.0</td><td>null</td><td>1.0</td><td>Individual</td><td>null</td><td>null</td><td>null</td><td>0.0</td><td>0.0</td><td>55387.0</td><td>0.0</td><td>3.0</td><td>0.0</td><td>0.0</td><td>47.0</td><td>47665.0</td><td>43.0</td><td>2.0</td><td>2.0</td><td>4744.0</td><td>50.0</td><td>13000.0</td><td>0.0</td><td>0.0</td><td>2.0</td><td>2.0</td><td>7912.0</td><td>4778.0</td><td>61.8</td><td>0.0</td><td>0.0</td><td>234.0</td><td>91.0</td><td>9.0</td><td>9.0</td><td>0.0</td><td>11.0</td><td>null</td><td>9.0</td><td>null</td><td>0.0</td><td>3.0</td><td>3.0</td><td>3.0</td><td>3.0</td><td>5.0</td><td>4.0</td><td>4.0</td><td>3.0</td><td>7.0</td><td>0.0</td><td>0.0</td><td>0.0</td><td>2.0</td><td>100.0</td><td>66.7</td><td>0.0</td><td>0.0</td><td>88635.0</td><td>55387.0</td><td>12500.0</td><td>75635.0</td><td>null</td><td>null</td><td>null</td><td>null</td><td>null</td><td>null</td><td>null</td><td>null</td><td>null</td><td>null</td><td>null</td><td>null</td><td>null</td><td>N</td><td>null</td><td>null</td><td>null</td><td>null</td><td>null</td><td>null</td><td>null</td><td>null</td><td>null</td><td>null</td><td>null</td><td>null</td><td>null</td><td>null</td><td>Cash</td><td>N</td><td>null</td><td>null</td><td>null</td><td>null</td><td>null</td><td>null</td><td>7c69d5f36fdabf6e1...</td></tr>\n",
       "<tr><td>68466916</td><td>null</td><td>25000.0</td><td>25000.0</td><td>25000.0</td><td> 36 months</td><td>7.49</td><td>777.55</td><td>A</td><td>A4</td><td>Sales Manager</td><td>10+ years</td><td>MORTGAGE</td><td>109000.0</td><td>Not Verified</td><td>Dec-2015</td><td>Fully Paid</td><td>n</td><td>https://lendingcl...</td><td>null</td><td>debt_consolidation</td><td>Debt consolidation</td><td>226xx</td><td>VA</td><td>26.02</td><td>0.0</td><td>Dec-2001</td><td>745.0</td><td>749.0</td><td>1.0</td><td>null</td><td>null</td><td>9.0</td><td>0.0</td><td>20862.0</td><td>54.3</td><td>19.0</td><td>w</td><td>0.0</td><td>0.0</td><td>26224.23</td><td>26224.23</td><td>25000.0</td><td>1224.23</td><td>0.0</td><td>0.0</td><td>0.0</td><td>Sep-2016</td><td>20807.39</td><td>null</td><td>Apr-2017</td><td>724.0</td><td>720.0</td><td>0.0</td><td>null</td><td>1.0</td><td>Individual</td><td>null</td><td>null</td><td>null</td><td>0.0</td><td>0.0</td><td>305781.0</td><td>0.0</td><td>3.0</td><td>0.0</td><td>1.0</td><td>13.0</td><td>47194.0</td><td>58.0</td><td>0.0</td><td>1.0</td><td>8937.0</td><td>57.0</td><td>38400.0</td><td>1.0</td><td>0.0</td><td>1.0</td><td>2.0</td><td>33976.0</td><td>17538.0</td><td>54.3</td><td>0.0</td><td>0.0</td><td>142.0</td><td>168.0</td><td>13.0</td><td>13.0</td><td>3.0</td><td>13.0</td><td>null</td><td>0.0</td><td>null</td><td>0.0</td><td>3.0</td><td>3.0</td><td>5.0</td><td>6.0</td><td>7.0</td><td>5.0</td><td>9.0</td><td>3.0</td><td>9.0</td><td>0.0</td><td>0.0</td><td>0.0</td><td>0.0</td><td>100.0</td><td>20.0</td><td>0.0</td><td>0.0</td><td>373572.0</td><td>68056.0</td><td>38400.0</td><td>82117.0</td><td>null</td><td>null</td><td>null</td><td>null</td><td>null</td><td>null</td><td>null</td><td>null</td><td>null</td><td>null</td><td>null</td><td>null</td><td>null</td><td>N</td><td>null</td><td>null</td><td>null</td><td>null</td><td>null</td><td>null</td><td>null</td><td>null</td><td>null</td><td>null</td><td>null</td><td>null</td><td>null</td><td>null</td><td>Cash</td><td>N</td><td>null</td><td>null</td><td>null</td><td>null</td><td>null</td><td>null</td><td>08bf9e080503b0113...</td></tr>\n",
       "<tr><td>68577849</td><td>null</td><td>18000.0</td><td>18000.0</td><td>18000.0</td><td> 60 months</td><td>11.99</td><td>400.31</td><td>C</td><td>C1</td><td>GS-11</td><td>10+ years</td><td>MORTGAGE</td><td>112000.0</td><td>Not Verified</td><td>Dec-2015</td><td>Fully Paid</td><td>n</td><td>https://lendingcl...</td><td>null</td><td>debt_consolidation</td><td>Debt consolidation</td><td>856xx</td><td>AZ</td><td>8.68</td><td>0.0</td><td>Nov-1993</td><td>800.0</td><td>804.0</td><td>0.0</td><td>null</td><td>null</td><td>17.0</td><td>0.0</td><td>10711.0</td><td>15.5</td><td>27.0</td><td>w</td><td>0.0</td><td>0.0</td><td>18387.22</td><td>18387.22</td><td>18000.0</td><td>387.22</td><td>0.0</td><td>0.0</td><td>0.0</td><td>Mar-2016</td><td>18004.9</td><td>null</td><td>Mar-2019</td><td>794.0</td><td>790.0</td><td>0.0</td><td>null</td><td>1.0</td><td>Individual</td><td>null</td><td>null</td><td>null</td><td>0.0</td><td>0.0</td><td>205067.0</td><td>3.0</td><td>1.0</td><td>2.0</td><td>2.0</td><td>3.0</td><td>25416.0</td><td>97.0</td><td>2.0</td><td>3.0</td><td>7672.0</td><td>38.0</td><td>82400.0</td><td>0.0</td><td>1.0</td><td>1.0</td><td>5.0</td><td>17089.0</td><td>60336.0</td><td>16.7</td><td>0.0</td><td>0.0</td><td>109.0</td><td>265.0</td><td>1.0</td><td>1.0</td><td>4.0</td><td>1.0</td><td>null</td><td>10.0</td><td>null</td><td>0.0</td><td>5.0</td><td>6.0</td><td>12.0</td><td>12.0</td><td>6.0</td><td>15.0</td><td>17.0</td><td>6.0</td><td>16.0</td><td>0.0</td><td>0.0</td><td>0.0</td><td>4.0</td><td>100.0</td><td>0.0</td><td>0.0</td><td>0.0</td><td>309710.0</td><td>36127.0</td><td>69800.0</td><td>26210.0</td><td>null</td><td>null</td><td>null</td><td>null</td><td>null</td><td>null</td><td>null</td><td>null</td><td>null</td><td>null</td><td>null</td><td>null</td><td>null</td><td>N</td><td>null</td><td>null</td><td>null</td><td>null</td><td>null</td><td>null</td><td>null</td><td>null</td><td>null</td><td>null</td><td>null</td><td>null</td><td>null</td><td>null</td><td>Cash</td><td>N</td><td>null</td><td>null</td><td>null</td><td>null</td><td>null</td><td>null</td><td>1cafb05aa6c894c30...</td></tr>\n",
       "<tr><td>68506798</td><td>null</td><td>23000.0</td><td>23000.0</td><td>23000.0</td><td> 60 months</td><td>8.49</td><td>471.77</td><td>B</td><td>B1</td><td>Teacher</td><td>5 years</td><td>RENT</td><td>64000.0</td><td>Not Verified</td><td>Dec-2015</td><td>Current</td><td>n</td><td>https://lendingcl...</td><td>null</td><td>credit_card</td><td>Credit card refin...</td><td>117xx</td><td>NY</td><td>18.28</td><td>0.0</td><td>Sep-2001</td><td>700.0</td><td>704.0</td><td>0.0</td><td>29.0</td><td>null</td><td>21.0</td><td>0.0</td><td>24940.0</td><td>52.7</td><td>33.0</td><td>w</td><td>9580.2</td><td>9580.2</td><td>17900.14</td><td>17900.14</td><td>13419.8</td><td>4480.34</td><td>0.0</td><td>0.0</td><td>0.0</td><td>Feb-2019</td><td>471.77</td><td>Apr-2019</td><td>Mar-2019</td><td>744.0</td><td>740.0</td><td>0.0</td><td>null</td><td>1.0</td><td>Individual</td><td>null</td><td>null</td><td>null</td><td>0.0</td><td>0.0</td><td>63886.0</td><td>0.0</td><td>7.0</td><td>0.0</td><td>0.0</td><td>42.0</td><td>38946.0</td><td>84.0</td><td>2.0</td><td>3.0</td><td>9516.0</td><td>68.0</td><td>47300.0</td><td>0.0</td><td>3.0</td><td>1.0</td><td>3.0</td><td>3549.0</td><td>15603.0</td><td>60.5</td><td>0.0</td><td>0.0</td><td>163.0</td><td>171.0</td><td>8.0</td><td>8.0</td><td>0.0</td><td>12.0</td><td>30.0</td><td>8.0</td><td>29.0</td><td>0.0</td><td>6.0</td><td>8.0</td><td>7.0</td><td>8.0</td><td>14.0</td><td>14.0</td><td>19.0</td><td>8.0</td><td>21.0</td><td>0.0</td><td>0.0</td><td>0.0</td><td>2.0</td><td>87.9</td><td>14.3</td><td>0.0</td><td>0.0</td><td>93962.0</td><td>63886.0</td><td>39500.0</td><td>46662.0</td><td>null</td><td>null</td><td>null</td><td>null</td><td>null</td><td>null</td><td>null</td><td>null</td><td>null</td><td>null</td><td>null</td><td>null</td><td>null</td><td>N</td><td>null</td><td>null</td><td>null</td><td>null</td><td>null</td><td>null</td><td>null</td><td>null</td><td>null</td><td>null</td><td>null</td><td>null</td><td>null</td><td>null</td><td>Cash</td><td>N</td><td>null</td><td>null</td><td>null</td><td>null</td><td>null</td><td>null</td><td>f2c4010f700d8c9c4...</td></tr>\n",
       "<tr><td>68495092</td><td>null</td><td>8650.0</td><td>8650.0</td><td>8650.0</td><td> 36 months</td><td>19.89</td><td>320.99</td><td>E</td><td>E3</td><td>Program Coordinator </td><td>8 years</td><td>RENT</td><td>55000.0</td><td>Verified</td><td>Dec-2015</td><td>Fully Paid</td><td>n</td><td>https://lendingcl...</td><td>null</td><td>debt_consolidation</td><td>Debt consolidation</td><td>462xx</td><td>IN</td><td>25.49</td><td>0.0</td><td>Mar-2005</td><td>675.0</td><td>679.0</td><td>4.0</td><td>null</td><td>30.0</td><td>18.0</td><td>1.0</td><td>9568.0</td><td>46.0</td><td>19.0</td><td>w</td><td>0.0</td><td>0.0</td><td>9190.49</td><td>9190.49</td><td>8650.0</td><td>540.49</td><td>0.0</td><td>0.0</td><td>0.0</td><td>May-2016</td><td>8251.42</td><td>null</td><td>Jun-2016</td><td>639.0</td><td>635.0</td><td>0.0</td><td>null</td><td>1.0</td><td>Individual</td><td>null</td><td>null</td><td>null</td><td>0.0</td><td>0.0</td><td>18926.0</td><td>6.0</td><td>1.0</td><td>0.0</td><td>1.0</td><td>19.0</td><td>9358.0</td><td>51.0</td><td>12.0</td><td>16.0</td><td>653.0</td><td>46.0</td><td>20750.0</td><td>2.0</td><td>0.0</td><td>5.0</td><td>17.0</td><td>1051.0</td><td>1375.0</td><td>45.0</td><td>0.0</td><td>0.0</td><td>129.0</td><td>95.0</td><td>0.0</td><td>0.0</td><td>0.0</td><td>8.0</td><td>null</td><td>0.0</td><td>null</td><td>0.0</td><td>2.0</td><td>17.0</td><td>2.0</td><td>2.0</td><td>2.0</td><td>17.0</td><td>17.0</td><td>13.0</td><td>18.0</td><td>null</td><td>0.0</td><td>0.0</td><td>12.0</td><td>100.0</td><td>50.0</td><td>1.0</td><td>0.0</td><td>38998.0</td><td>18926.0</td><td>2750.0</td><td>18248.0</td><td>null</td><td>null</td><td>null</td><td>null</td><td>null</td><td>null</td><td>null</td><td>null</td><td>null</td><td>null</td><td>null</td><td>null</td><td>null</td><td>N</td><td>null</td><td>null</td><td>null</td><td>null</td><td>null</td><td>null</td><td>null</td><td>null</td><td>null</td><td>null</td><td>null</td><td>null</td><td>null</td><td>null</td><td>Cash</td><td>N</td><td>null</td><td>null</td><td>null</td><td>null</td><td>null</td><td>null</td><td>05ad4aed7c393035e...</td></tr>\n",
       "</table>\n",
       "only showing top 20 rows\n"
      ],
      "text/plain": [
       "+--------+---------+---------+-----------+---------------+----------+--------+-----------+-----+---------+--------------------+----------+--------------+----------+-------------------+--------+-----------+----------+--------------------+----+------------------+--------------------+--------+----------+-----+-----------+----------------+--------------+---------------+--------------+----------------------+----------------------+--------+-------+---------+----------+---------+-------------------+---------+-------------+------------------+---------------+---------------+-------------+------------------+----------+-----------------------+------------+---------------+------------+------------------+--------------------+-------------------+--------------------------+---------------------------+-----------+----------------+----------------+---------+-------------------------+--------------+------------+-----------+-----------+-----------+-----------+-----------+------------------+------------+-------+-----------+-----------+----------+--------+----------------+------+-----------+------------+--------------------+-----------+--------------+-------+------------------------+-----------+------------------+--------------------+---------------------+--------------+--------+--------------------+------------------------+---------------------+------------------------------+---------------------+--------------+---------------+-----------+---------+---------+-------------+-------------+-------------------+--------+----------------+------------+------------------+------------------+--------------+----------------+--------------------+---------+---------------+-----------------+--------------+--------------------------+---------------+----------------------+-----------------------+------------------------+----------------------+----------------+----------------+------------------+-------------------+---------------------+--------------------------------+----------------------------------+-----------------------------------+-------------+-------------+---------------+---------------+-------------+---------------+-------------------+-----------------+-----------------------+---------------+------------+--------------------+------------------------------------------+------------------------------+----------------------------+-------------------+--------------------+-------------------------+-----------------+---------------+-----------------+---------------------+---------------+--------------------+\n",
       "|      id|member_id|loan_amnt|funded_amnt|funded_amnt_inv|      term|int_rate|installment|grade|sub_grade|           emp_title|emp_length|home_ownership|annual_inc|verification_status| issue_d|loan_status|pymnt_plan|                 url|desc|           purpose|               title|zip_code|addr_state|  dti|delinq_2yrs|earliest_cr_line|fico_range_low|fico_range_high|inq_last_6mths|mths_since_last_delinq|mths_since_last_record|open_acc|pub_rec|revol_bal|revol_util|total_acc|initial_list_status|out_prncp|out_prncp_inv|       total_pymnt|total_pymnt_inv|total_rec_prncp|total_rec_int|total_rec_late_fee|recoveries|collection_recovery_fee|last_pymnt_d|last_pymnt_amnt|next_pymnt_d|last_credit_pull_d|last_fico_range_high|last_fico_range_low|collections_12_mths_ex_med|mths_since_last_major_derog|policy_code|application_type|annual_inc_joint|dti_joint|verification_status_joint|acc_now_delinq|tot_coll_amt|tot_cur_bal|open_acc_6m|open_act_il|open_il_12m|open_il_24m|mths_since_rcnt_il|total_bal_il|il_util|open_rv_12m|open_rv_24m|max_bal_bc|all_util|total_rev_hi_lim|inq_fi|total_cu_tl|inq_last_12m|acc_open_past_24mths|avg_cur_bal|bc_open_to_buy|bc_util|chargeoff_within_12_mths|delinq_amnt|mo_sin_old_il_acct|mo_sin_old_rev_tl_op|mo_sin_rcnt_rev_tl_op|mo_sin_rcnt_tl|mort_acc|mths_since_recent_bc|mths_since_recent_bc_dlq|mths_since_recent_inq|mths_since_recent_revol_delinq|num_accts_ever_120_pd|num_actv_bc_tl|num_actv_rev_tl|num_bc_sats|num_bc_tl|num_il_tl|num_op_rev_tl|num_rev_accts|num_rev_tl_bal_gt_0|num_sats|num_tl_120dpd_2m|num_tl_30dpd|num_tl_90g_dpd_24m|num_tl_op_past_12m|pct_tl_nvr_dlq|percent_bc_gt_75|pub_rec_bankruptcies|tax_liens|tot_hi_cred_lim|total_bal_ex_mort|total_bc_limit|total_il_high_credit_limit|revol_bal_joint|sec_app_fico_range_low|sec_app_fico_range_high|sec_app_earliest_cr_line|sec_app_inq_last_6mths|sec_app_mort_acc|sec_app_open_acc|sec_app_revol_util|sec_app_open_act_il|sec_app_num_rev_accts|sec_app_chargeoff_within_12_mths|sec_app_collections_12_mths_ex_med|sec_app_mths_since_last_major_derog|hardship_flag|hardship_type|hardship_reason|hardship_status|deferral_term|hardship_amount|hardship_start_date|hardship_end_date|payment_plan_start_date|hardship_length|hardship_dpd|hardship_loan_status|orig_projected_additional_accrued_interest|hardship_payoff_balance_amount|hardship_last_payment_amount|disbursement_method|debt_settlement_flag|debt_settlement_flag_date|settlement_status|settlement_date|settlement_amount|settlement_percentage|settlement_term|           name_sha2|\n",
       "+--------+---------+---------+-----------+---------------+----------+--------+-----------+-----+---------+--------------------+----------+--------------+----------+-------------------+--------+-----------+----------+--------------------+----+------------------+--------------------+--------+----------+-----+-----------+----------------+--------------+---------------+--------------+----------------------+----------------------+--------+-------+---------+----------+---------+-------------------+---------+-------------+------------------+---------------+---------------+-------------+------------------+----------+-----------------------+------------+---------------+------------+------------------+--------------------+-------------------+--------------------------+---------------------------+-----------+----------------+----------------+---------+-------------------------+--------------+------------+-----------+-----------+-----------+-----------+-----------+------------------+------------+-------+-----------+-----------+----------+--------+----------------+------+-----------+------------+--------------------+-----------+--------------+-------+------------------------+-----------+------------------+--------------------+---------------------+--------------+--------+--------------------+------------------------+---------------------+------------------------------+---------------------+--------------+---------------+-----------+---------+---------+-------------+-------------+-------------------+--------+----------------+------------+------------------+------------------+--------------+----------------+--------------------+---------+---------------+-----------------+--------------+--------------------------+---------------+----------------------+-----------------------+------------------------+----------------------+----------------+----------------+------------------+-------------------+---------------------+--------------------------------+----------------------------------+-----------------------------------+-------------+-------------+---------------+---------------+-------------+---------------+-------------------+-----------------+-----------------------+---------------+------------+--------------------+------------------------------------------+------------------------------+----------------------------+-------------------+--------------------+-------------------------+-----------------+---------------+-----------------+---------------------+---------------+--------------------+\n",
       "|68407277|     null|   3600.0|     3600.0|         3600.0| 36 months|   13.99|     123.03|    C|       C4|             leadman| 10+ years|      MORTGAGE|   55000.0|       Not Verified|Dec-2015| Fully Paid|         n|https://lendingcl...|null|debt_consolidation|  Debt consolidation|   190xx|        PA| 5.91|        0.0|        Aug-2003|         675.0|          679.0|           1.0|                  30.0|                  null|     7.0|    0.0|   2765.0|      29.7|     13.0|                  w|      0.0|          0.0| 4421.723916800001|        4421.72|         3600.0|       821.72|               0.0|       0.0|                    0.0|    Jan-2019|         122.67|        null|          Mar-2019|               564.0|              560.0|                       0.0|                       30.0|        1.0|      Individual|            null|     null|                     null|           0.0|       722.0|   144904.0|        2.0|        2.0|        0.0|        1.0|              21.0|      4981.0|   36.0|        3.0|        3.0|     722.0|    34.0|          9300.0|   3.0|        1.0|         4.0|                 4.0|    20701.0|        1506.0|   37.2|                     0.0|        0.0|             148.0|               128.0|                  3.0|           3.0|     1.0|                 4.0|                    69.0|                  4.0|                          69.0|                  2.0|           2.0|            4.0|        2.0|      5.0|      3.0|          4.0|          9.0|                4.0|     7.0|             0.0|         0.0|               0.0|               3.0|          76.9|             0.0|                 0.0|      0.0|       178050.0|           7746.0|        2400.0|                   13734.0|           null|                  null|                   null|                    null|                  null|            null|            null|              null|               null|                 null|                            null|                              null|                               null|            N|         null|           null|           null|         null|           null|               null|             null|                   null|           null|        null|                null|                                      null|                          null|                        null|               Cash|                   N|                     null|             null|           null|             null|                 null|           null|6d5091b3fcaaeb4ea...|\n",
       "|68355089|     null|  24700.0|    24700.0|        24700.0| 36 months|   11.99|     820.28|    C|       C1|            Engineer| 10+ years|      MORTGAGE|   65000.0|       Not Verified|Dec-2015| Fully Paid|         n|https://lendingcl...|null|    small_business|            Business|   577xx|        SD|16.06|        1.0|        Dec-1999|         715.0|          719.0|           4.0|                   6.0|                  null|    22.0|    0.0|  21470.0|      19.2|     38.0|                  w|      0.0|          0.0|          25679.66|       25679.66|        24700.0|       979.66|               0.0|       0.0|                    0.0|    Jun-2016|         926.35|        null|          Mar-2019|               699.0|              695.0|                       0.0|                       null|        1.0|      Individual|            null|     null|                     null|           0.0|         0.0|   204396.0|        1.0|        1.0|        0.0|        1.0|              19.0|     18005.0|   73.0|        2.0|        3.0|    6472.0|    29.0|        111800.0|   0.0|        0.0|         6.0|                 4.0|     9733.0|       57830.0|   27.1|                     0.0|        0.0|             113.0|               192.0|                  2.0|           2.0|     4.0|                 2.0|                    null|                  0.0|                           6.0|                  0.0|           5.0|            5.0|       13.0|     17.0|      6.0|         20.0|         27.0|                5.0|    22.0|             0.0|         0.0|               0.0|               2.0|          97.4|             7.7|                 0.0|      0.0|       314017.0|          39475.0|       79300.0|                   24667.0|           null|                  null|                   null|                    null|                  null|            null|            null|              null|               null|                 null|                            null|                              null|                               null|            N|         null|           null|           null|         null|           null|               null|             null|                   null|           null|        null|                null|                                      null|                          null|                        null|               Cash|                   N|                     null|             null|           null|             null|                 null|           null|b5e7938b0a2da4cea...|\n",
       "|68341763|     null|  20000.0|    20000.0|        20000.0| 60 months|   10.78|     432.66|    B|       B4|        truck driver| 10+ years|      MORTGAGE|   63000.0|       Not Verified|Dec-2015| Fully Paid|         n|https://lendingcl...|null|  home_improvement|                null|   605xx|        IL|10.78|        0.0|        Aug-2000|         695.0|          699.0|           0.0|                  null|                  null|     6.0|    0.0|   7869.0|      56.2|     18.0|                  w|      0.0|          0.0|22705.924293878397|       22705.92|        20000.0|      2705.92|               0.0|       0.0|                    0.0|    Jun-2017|        15813.3|        null|          Mar-2019|               704.0|              700.0|                       0.0|                       null|        1.0|       Joint App|         71000.0|    13.85|             Not Verified|           0.0|         0.0|   189699.0|        0.0|        1.0|        0.0|        4.0|              19.0|     10827.0|   73.0|        0.0|        2.0|    2081.0|    65.0|         14000.0|   2.0|        5.0|         1.0|                 6.0|    31617.0|        2737.0|   55.9|                     0.0|        0.0|             125.0|               184.0|                 14.0|          14.0|     5.0|               101.0|                    null|                 10.0|                          null|                  0.0|           2.0|            3.0|        2.0|      4.0|      6.0|          4.0|          7.0|                3.0|     6.0|             0.0|         0.0|               0.0|               0.0|         100.0|            50.0|                 0.0|      0.0|       218418.0|          18696.0|        6200.0|                   14877.0|           null|                  null|                   null|                    null|                  null|            null|            null|              null|               null|                 null|                            null|                              null|                               null|            N|         null|           null|           null|         null|           null|               null|             null|                   null|           null|        null|                null|                                      null|                          null|                        null|               Cash|                   N|                     null|             null|           null|             null|                 null|           null|91060b858433e8a61...|\n",
       "|66310712|     null|  35000.0|    35000.0|        35000.0| 60 months|   14.85|      829.9|    C|       C5|Information Syste...| 10+ years|      MORTGAGE|  110000.0|    Source Verified|Dec-2015|    Current|         n|https://lendingcl...|null|debt_consolidation|  Debt consolidation|   076xx|        NJ|17.06|        0.0|        Sep-2008|         785.0|          789.0|           0.0|                  null|                  null|    13.0|    0.0|   7802.0|      11.6|     17.0|                  w| 15897.65|     15897.65|          31464.01|       31464.01|       19102.35|     12361.66|               0.0|       0.0|                    0.0|    Feb-2019|          829.9|    Apr-2019|          Mar-2019|               679.0|              675.0|                       0.0|                       null|        1.0|      Individual|            null|     null|                     null|           0.0|         0.0|   301500.0|        1.0|        1.0|        0.0|        1.0|              23.0|     12609.0|   70.0|        1.0|        1.0|    6987.0|    45.0|         67300.0|   0.0|        1.0|         0.0|                 2.0|    23192.0|       54962.0|   12.1|                     0.0|        0.0|              36.0|                87.0|                  2.0|           2.0|     1.0|                 2.0|                    null|                 null|                          null|                  0.0|           4.0|            5.0|        8.0|     10.0|      2.0|         10.0|         13.0|                5.0|    13.0|             0.0|         0.0|               0.0|               1.0|         100.0|             0.0|                 0.0|      0.0|       381215.0|          52226.0|       62500.0|                   18000.0|           null|                  null|                   null|                    null|                  null|            null|            null|              null|               null|                 null|                            null|                              null|                               null|            N|         null|           null|           null|         null|           null|               null|             null|                   null|           null|        null|                null|                                      null|                          null|                        null|               Cash|                   N|                     null|             null|           null|             null|                 null|           null|cab1fa9f533688b0a...|\n",
       "|68476807|     null|  10400.0|    10400.0|        10400.0| 60 months|   22.45|     289.91|    F|       F1| Contract Specialist|   3 years|      MORTGAGE|  104433.0|    Source Verified|Dec-2015| Fully Paid|         n|https://lendingcl...|null|    major_purchase|      Major purchase|   174xx|        PA|25.37|        1.0|        Jun-1998|         695.0|          699.0|           3.0|                  12.0|                  null|    12.0|    0.0|  21929.0|      64.5|     35.0|                  w|      0.0|          0.0|           11740.5|        11740.5|        10400.0|       1340.5|               0.0|       0.0|                    0.0|    Jul-2016|       10128.96|        null|          Mar-2018|               704.0|              700.0|                       0.0|                       null|        1.0|      Individual|            null|     null|                     null|           0.0|         0.0|   331730.0|        1.0|        3.0|        0.0|        3.0|              14.0|     73839.0|   84.0|        4.0|        7.0|    9702.0|    78.0|         34000.0|   2.0|        1.0|         3.0|                10.0|    27644.0|        4567.0|   77.5|                     0.0|        0.0|             128.0|               210.0|                  4.0|           4.0|     6.0|                 4.0|                    12.0|                  1.0|                          12.0|                  0.0|           4.0|            6.0|        5.0|      9.0|     10.0|          7.0|         19.0|                6.0|    12.0|             0.0|         0.0|               0.0|               4.0|          96.6|            60.0|                 0.0|      0.0|       439570.0|          95768.0|       20300.0|                   88097.0|           null|                  null|                   null|                    null|                  null|            null|            null|              null|               null|                 null|                            null|                              null|                               null|            N|         null|           null|           null|         null|           null|               null|             null|                   null|           null|        null|                null|                                      null|                          null|                        null|               Cash|                   N|                     null|             null|           null|             null|                 null|           null|f74e401c1ab0adf78...|\n",
       "|68426831|     null|  11950.0|    11950.0|        11950.0| 36 months|   13.44|     405.18|    C|       C3|Veterinary Tecnician|   4 years|          RENT|   34000.0|    Source Verified|Dec-2015| Fully Paid|         n|https://lendingcl...|null|debt_consolidation|  Debt consolidation|   300xx|        GA| 10.2|        0.0|        Oct-1987|         690.0|          694.0|           0.0|                  null|                  null|     5.0|    0.0|   8822.0|      68.4|      6.0|                  w|      0.0|          0.0|  13708.9485297572|       13708.95|        11950.0|      1758.95|               0.0|       0.0|                    0.0|    May-2017|        7653.56|        null|          May-2017|               759.0|              755.0|                       0.0|                       null|        1.0|      Individual|            null|     null|                     null|           0.0|         0.0|    12798.0|        0.0|        1.0|        0.0|        0.0|             338.0|      3976.0|   99.0|        0.0|        0.0|    4522.0|    76.0|         12900.0|   0.0|        0.0|         0.0|                 0.0|     2560.0|         844.0|   91.0|                     0.0|        0.0|             338.0|                54.0|                 32.0|          32.0|     0.0|                36.0|                    null|                 null|                          null|                  0.0|           2.0|            3.0|        2.0|      2.0|      2.0|          4.0|          4.0|                3.0|     5.0|             0.0|         0.0|               0.0|               0.0|         100.0|           100.0|                 0.0|      0.0|        16900.0|          12798.0|        9400.0|                    4000.0|           null|                  null|                   null|                    null|                  null|            null|            null|              null|               null|                 null|                            null|                              null|                               null|            N|         null|           null|           null|         null|           null|               null|             null|                   null|           null|        null|                null|                                      null|                          null|                        null|               Cash|                   N|                     null|             null|           null|             null|                 null|           null|8aef4bb29d609d8d6...|\n",
       "|68476668|     null|  20000.0|    20000.0|        20000.0| 36 months|    9.17|     637.58|    B|       B2|Vice President of...| 10+ years|      MORTGAGE|  180000.0|       Not Verified|Dec-2015| Fully Paid|         n|https://lendingcl...|null|debt_consolidation|  Debt consolidation|   550xx|        MN|14.67|        0.0|        Jun-1990|         680.0|          684.0|           0.0|                  49.0|                  null|    12.0|    0.0|  87329.0|      84.5|     27.0|                  f|      0.0|          0.0|   21393.800000011|        21393.8|        20000.0|       1393.8|               0.0|       0.0|                    0.0|    Nov-2016|       15681.05|        null|          Mar-2019|               654.0|              650.0|                       0.0|                       null|        1.0|      Individual|            null|     null|                     null|           0.0|         0.0|   360358.0|        0.0|        2.0|        0.0|        2.0|              18.0|     29433.0|   63.0|        2.0|        3.0|   13048.0|    74.0|         94200.0|   1.0|        0.0|         1.0|                 6.0|    30030.0|           0.0|  102.9|                     0.0|        0.0|             142.0|               306.0|                 10.0|          10.0|     4.0|                12.0|                    null|                 10.0|                          null|                  0.0|           4.0|            6.0|        4.0|      5.0|      7.0|          9.0|         16.0|                6.0|    12.0|             0.0|         0.0|               0.0|               2.0|          96.3|           100.0|                 0.0|      0.0|       388852.0|         116762.0|       31500.0|                   46452.0|           null|                  null|                   null|                    null|                  null|            null|            null|              null|               null|                 null|                            null|                              null|                               null|            N|         null|           null|           null|         null|           null|               null|             null|                   null|           null|        null|                null|                                      null|                          null|                        null|               Cash|                   N|                     null|             null|           null|             null|                 null|           null|538b4653da3b1e814...|\n",
       "|67275481|     null|  20000.0|    20000.0|        20000.0| 36 months|    8.49|     631.26|    B|       B1|         road driver| 10+ years|      MORTGAGE|   85000.0|       Not Verified|Dec-2015| Fully Paid|         n|https://lendingcl...|null|    major_purchase|      Major purchase|   293xx|        SC|17.61|        1.0|        Feb-1999|         705.0|          709.0|           0.0|                   3.0|                  null|     8.0|    0.0|    826.0|       5.7|     15.0|                  w|      0.0|          0.0|   21538.508976797|       21538.51|        20000.0|      1538.51|               0.0|       0.0|                    0.0|    Jan-2017|       14618.23|        null|          Mar-2019|               674.0|              670.0|                       0.0|                        3.0|        1.0|      Individual|            null|     null|                     null|           0.0|         0.0|   141601.0|        0.0|        3.0|        0.0|        4.0|              13.0|     27111.0|   75.0|        0.0|        0.0|     640.0|    55.0|         14500.0|   1.0|        0.0|         2.0|                 4.0|    17700.0|       13674.0|    5.7|                     0.0|        0.0|             149.0|                55.0|                 32.0|          13.0|     3.0|                32.0|                    null|                  8.0|                          null|                  1.0|           2.0|            2.0|        3.0|      3.0|      9.0|          3.0|          3.0|                2.0|     8.0|             0.0|         0.0|               1.0|               0.0|          93.3|             0.0|                 0.0|      0.0|       193390.0|          27937.0|       14500.0|                   36144.0|           null|                  null|                   null|                    null|                  null|            null|            null|              null|               null|                 null|                            null|                              null|                               null|            N|         null|           null|           null|         null|           null|               null|             null|                   null|           null|        null|                null|                                      null|                          null|                        null|               Cash|                   N|                     null|             null|           null|             null|                 null|           null|b24d55f21390533c5...|\n",
       "|68466926|     null|  10000.0|    10000.0|        10000.0| 36 months|    6.49|     306.45|    A|       A2|     SERVICE MANAGER|   6 years|          RENT|   85000.0|       Not Verified|Dec-2015| Fully Paid|         n|https://lendingcl...|null|       credit_card|Credit card refin...|   160xx|        PA|13.07|        0.0|        Apr-2002|         685.0|          689.0|           1.0|                  null|                 106.0|    14.0|    1.0|  10464.0|      34.5|     23.0|                  w|      0.0|          0.0|  10998.9715749644|       10998.97|        10000.0|       998.97|               0.0|       0.0|                    0.0|    Aug-2018|        1814.48|        null|          Mar-2019|               719.0|              715.0|                       0.0|                       null|        1.0|      Individual|            null|     null|                     null|           0.0|      8341.0|    27957.0|        2.0|        1.0|        0.0|        0.0|              35.0|     17493.0|   57.0|        2.0|        7.0|    2524.0|    46.0|         30300.0|   2.0|        0.0|         1.0|                 7.0|     1997.0|        8182.0|   50.1|                     0.0|        0.0|             164.0|               129.0|                  1.0|           1.0|     1.0|                 4.0|                    null|                  1.0|                          null|                  0.0|           6.0|            9.0|        7.0|     10.0|      3.0|         13.0|         19.0|                9.0|    14.0|             0.0|         0.0|               0.0|               2.0|          95.7|            28.6|                 1.0|      0.0|        61099.0|          27957.0|       16400.0|                   30799.0|           null|                  null|                   null|                    null|                  null|            null|            null|              null|               null|                 null|                            null|                              null|                               null|            N|         null|           null|           null|         null|           null|               null|             null|                   null|           null|        null|                null|                                      null|                          null|                        null|               Cash|                   N|                     null|             null|           null|             null|                 null|           null|1035c5401b0ca76d0...|\n",
       "|68616873|     null|   8000.0|     8000.0|         8000.0| 36 months|   11.48|     263.74|    B|       B5|      Vendor liaison| 10+ years|      MORTGAGE|   42000.0|       Not Verified|Dec-2015| Fully Paid|         n|https://lendingcl...|null|       credit_card|Credit card refin...|   029xx|        RI| 34.8|        0.0|        Nov-1994|         700.0|          704.0|           0.0|                  75.0|                  null|     8.0|    0.0|   7034.0|      39.1|     18.0|                  w|      0.0|          0.0|   8939.5805031401|        8939.58|         8000.0|       939.58|               0.0|       0.0|                    0.0|    Apr-2017|        4996.24|        null|          Nov-2018|               679.0|              675.0|                       0.0|                       75.0|        1.0|      Individual|            null|     null|                     null|           0.0|         0.0|   199696.0|        0.0|        2.0|        2.0|        3.0|              10.0|    106748.0|   72.0|        0.0|        2.0|    4725.0|    49.0|         18000.0|   0.0|        0.0|         1.0|                 5.0|    28528.0|        9966.0|   41.4|                     0.0|        0.0|             155.0|               253.0|                 15.0|          10.0|     1.0|                50.0|                    null|                 10.0|                          null|                  1.0|           3.0|            3.0|        3.0|      6.0|      5.0|          5.0|         11.0|                3.0|     8.0|             0.0|         0.0|               0.0|               2.0|          94.4|            33.3|                 0.0|      0.0|       256513.0|         113782.0|       17000.0|                  135513.0|           null|                  null|                   null|                    null|                  null|            null|            null|              null|               null|                 null|                            null|                              null|                               null|            N|         null|           null|           null|         null|           null|               null|             null|                   null|           null|        null|                null|                                      null|                          null|                        null|               Cash|                   N|                     null|             null|           null|             null|                 null|           null|cb0f1777593e77909...|\n",
       "|68356421|     null|  22400.0|    22400.0|        22400.0| 60 months|   12.88|      508.3|    C|       C2|  Executive Director|   6 years|      MORTGAGE|   95000.0|       Not Verified|Dec-2015|    Current|         n|https://lendingcl...|null|debt_consolidation|  Debt consolidation|   290xx|        SC|22.98|        0.0|        Apr-1995|         710.0|          714.0|           0.0|                  54.0|                  null|    16.0|    0.0|  13028.0|      32.7|     35.0|                  w|  9912.88|      9912.88|          19275.33|       19275.33|       12487.12|      6788.21|               0.0|       0.0|                    0.0|    Feb-2019|          508.3|    Apr-2019|          Mar-2019|               589.0|              585.0|                       0.0|                       54.0|        1.0|      Individual|            null|     null|                     null|           0.0|         0.0|   376218.0|        1.0|        5.0|        0.0|        3.0|              17.0|    171328.0|   67.0|        3.0|        6.0|    8121.0|    54.0|         39800.0|   1.0|        5.0|         0.0|                 9.0|    23514.0|       12617.0|   39.9|                     0.0|        0.0|             150.0|               248.0|                  1.0|           1.0|     5.0|                 1.0|                    null|                 14.0|                          null|                  2.0|           3.0|            8.0|        4.0|      5.0|     15.0|         10.0|         15.0|                8.0|    16.0|             0.0|         0.0|               0.0|               3.0|          97.0|            25.0|                 0.0|      0.0|       436841.0|         184356.0|       21000.0|                  191682.0|           null|                  null|                   null|                    null|                  null|            null|            null|              null|               null|                 null|                            null|                              null|                               null|            N|         null|           null|           null|         null|           null|               null|             null|                   null|           null|        null|                null|                                      null|                          null|                        null|               Cash|                   N|                     null|             null|           null|             null|                 null|           null|a962f4d59caec5fa1...|\n",
       "|68426545|     null|  16000.0|    16000.0|        16000.0| 60 months|   12.88|     363.07|    C|       C2|Senior Structural...|    1 year|      MORTGAGE|   70000.0|       Not Verified|Dec-2015|    Current|         n|https://lendingcl...|null|debt_consolidation|  Debt consolidation|   786xx|        TX| 26.4|        0.0|        Feb-1988|         720.0|          724.0|           0.0|                  null|                  null|    13.0|    0.0|  28705.0|      56.3|     29.0|                  w|   7080.7|       7080.7|          13768.04|       13768.04|         8919.3|      4848.74|               0.0|       0.0|                    0.0|    Feb-2019|         363.07|    Apr-2019|          Mar-2019|               754.0|              750.0|                       0.0|                       null|        1.0|      Individual|            null|     null|                     null|           0.0|         0.0|   265836.0|        0.0|        2.0|        0.0|        2.0|              13.0|     33702.0|   74.0|        1.0|        1.0|    8739.0|    64.0|         51000.0|   0.0|        0.0|         1.0|                 3.0|    24167.0|       17922.0|   61.0|                     0.0|        0.0|             147.0|               334.0|                  9.0|           9.0|     2.0|                 9.0|                    null|                 11.0|                          null|                  0.0|           4.0|            6.0|        5.0|     12.0|      6.0|         10.0|         21.0|                6.0|    13.0|             0.0|         0.0|               0.0|               1.0|         100.0|            60.0|                 0.0|      0.0|       309638.0|          62407.0|       45900.0|                   45838.0|           null|                  null|                   null|                    null|                  null|            null|            null|              null|               null|                 null|                            null|                              null|                               null|            N|         null|           null|           null|         null|           null|               null|             null|                   null|           null|        null|                null|                                      null|                          null|                        null|               Cash|                   N|                     null|             null|           null|             null|                 null|           null|e7592ab57b3afd9f1...|\n",
       "|68338832|     null|   1400.0|     1400.0|         1400.0| 36 months|   12.88|       47.1|    C|       C2|   Logistics Manager|   3 years|      MORTGAGE|   64000.0|       Not Verified|Dec-2015| Fully Paid|         n|https://lendingcl...|null|             other|                null|   275xx|        NC|34.95|        0.0|        Jun-1996|         700.0|          704.0|           0.0|                  null|                  null|    17.0|    0.0|  37828.0|      67.2|     24.0|                  w|      0.0|          0.0|    1575.160697674|        1575.16|         1400.0|       175.16|               0.0|       0.0|                    0.0|    Mar-2017|         965.36|        null|          Sep-2018|               704.0|              700.0|                       0.0|                       null|        1.0|      Individual|            null|     null|                     null|           0.0|         0.0|   325695.0|        1.0|        3.0|        1.0|        2.0|               2.0|     37430.0|   67.0|        0.0|        2.0|    7386.0|    67.0|         56300.0|   0.0|        2.0|         0.0|                 4.0|    19159.0|        7940.0|   77.0|                     0.0|        0.0|              46.0|               234.0|                 18.0|           2.0|     4.0|                28.0|                    null|                 18.0|                          null|                  0.0|           7.0|           11.0|        8.0|     11.0|      3.0|         12.0|         17.0|               11.0|    17.0|             0.0|         0.0|               0.0|               1.0|         100.0|            75.0|                 0.0|      0.0|       372109.0|          75258.0|       34500.0|                   55501.0|           null|                  null|                   null|                    null|                  null|            null|            null|              null|               null|                 null|                            null|                              null|                               null|            N|         null|           null|           null|         null|           null|               null|             null|                   null|           null|        null|                null|                                      null|                          null|                        null|               Cash|                   N|                     null|             null|           null|             null|                 null|           null|603afa9d1be879b7b...|\n",
       "|66624733|     null|  18000.0|    18000.0|        18000.0| 60 months|   19.48|      471.7|    E|       E2|    Software Manager|   7 years|          RENT|  150000.0|       Not Verified|Dec-2015|Charged Off|         n|https://lendingcl...|null|debt_consolidation|  Debt consolidation|   916xx|        CA| 9.39|        0.0|        Jun-2005|         665.0|          669.0|           1.0|                  null|                  75.0|    18.0|    1.0|  14052.0|      40.7|     27.0|                  w|      0.0|          0.0|           9452.74|        9452.74|        3481.86|      4351.98|               0.0|    1618.9|                291.402|    May-2017|          471.7|        null|          Nov-2017|               584.0|              580.0|                       0.0|                       null|        1.0|      Individual|            null|     null|                     null|           0.0|        60.0|    36247.0|        2.0|        2.0|        1.0|        3.0|               2.0|     22195.0|   71.0|        2.0|        4.0|    1271.0|    55.0|         34500.0|   2.0|        1.0|         2.0|                 7.0|     2014.0|        5128.0|   51.3|                     0.0|        0.0|             115.0|               112.0|                  1.0|           1.0|     2.0|                 9.0|                    null|                  2.0|                          null|                  0.0|           6.0|           13.0|        7.0|      8.0|      6.0|         16.0|         19.0|               13.0|    18.0|             0.0|         0.0|               0.0|               3.0|         100.0|            14.3|                 1.0|      0.0|        65819.0|          36247.0|       10300.0|                   31319.0|           null|                  null|                   null|                    null|                  null|            null|            null|              null|               null|                 null|                            null|                              null|                               null|            N|         null|           null|           null|         null|           null|               null|             null|                   null|           null|        null|                null|                                      null|                          null|                        null|               Cash|                   N|                     null|             null|           null|             null|                 null|           null|9fe2d59ddf2a4f37e...|\n",
       "|68466961|     null|  28000.0|    28000.0|        28000.0| 36 months|    6.49|     858.05|    A|       A2|      Senior Manager| 10+ years|      MORTGAGE|   92000.0|       Not Verified|Dec-2015| Fully Paid|         n|https://lendingcl...|null|debt_consolidation|  Debt consolidation|   275xx|        NC| 21.6|        0.0|        May-1984|         720.0|          724.0|           0.0|                  42.0|                  null|    16.0|    0.0|  51507.0|      64.5|     24.0|                  w|      0.0|          0.0|29939.017729337003|       29939.02|        28000.0|      1939.02|               0.0|       0.0|                    0.0|    May-2017|       17093.51|        null|          Mar-2019|               764.0|              760.0|                       0.0|                       null|        1.0|      Individual|            null|     null|                     null|           0.0|         0.0|   221110.0|        0.0|        2.0|        0.0|        0.0|              27.0|     23413.0|   55.0|        0.0|        1.0|    8752.0|    61.0|         79900.0|   0.0|        1.0|         0.0|                 1.0|    13819.0|       16623.0|   59.9|                     0.0|        0.0|              82.0|               379.0|                 19.0|          19.0|     2.0|                19.0|                    48.0|                 null|                          42.0|                  0.0|           7.0|            9.0|        9.0|     11.0|      4.0|         13.0|         18.0|                9.0|    16.0|             0.0|         0.0|               0.0|               0.0|          91.7|            22.2|                 0.0|      0.0|       304003.0|          74920.0|       41500.0|                   42503.0|           null|                  null|                   null|                    null|                  null|            null|            null|              null|               null|                 null|                            null|                              null|                               null|            N|         null|           null|           null|         null|           null|               null|             null|                   null|           null|        null|                null|                                      null|                          null|                        null|               Cash|                   N|                     null|             null|           null|             null|                 null|           null|23857480ccf555ce4...|\n",
       "|68354783|     null|   9600.0|     9600.0|         9600.0| 36 months|    7.49|     298.58|    A|       A4|                tech|   8 years|      MORTGAGE|   60000.0|       Not Verified|Dec-2015| Fully Paid|         n|https://lendingcl...|null|       credit_card|Credit card refin...|   299xx|        SC|22.44|        0.0|        Jun-1996|         695.0|          699.0|           0.0|                  null|                  null|     7.0|    0.0|   7722.0|      59.4|      9.0|                  w|      0.0|          0.0|10636.098427692801|        10636.1|         9600.0|       1036.1|               0.0|       0.0|                    0.0|    Feb-2018|        3480.17|        null|          Aug-2018|               779.0|              775.0|                       0.0|                       null|        1.0|      Individual|            null|     null|                     null|           0.0|         0.0|    55387.0|        0.0|        3.0|        0.0|        0.0|              47.0|     47665.0|   43.0|        2.0|        2.0|    4744.0|    50.0|         13000.0|   0.0|        0.0|         2.0|                 2.0|     7912.0|        4778.0|   61.8|                     0.0|        0.0|             234.0|                91.0|                  9.0|           9.0|     0.0|                11.0|                    null|                  9.0|                          null|                  0.0|           3.0|            3.0|        3.0|      3.0|      5.0|          4.0|          4.0|                3.0|     7.0|             0.0|         0.0|               0.0|               2.0|         100.0|            66.7|                 0.0|      0.0|        88635.0|          55387.0|       12500.0|                   75635.0|           null|                  null|                   null|                    null|                  null|            null|            null|              null|               null|                 null|                            null|                              null|                               null|            N|         null|           null|           null|         null|           null|               null|             null|                   null|           null|        null|                null|                                      null|                          null|                        null|               Cash|                   N|                     null|             null|           null|             null|                 null|           null|7c69d5f36fdabf6e1...|\n",
       "|68466916|     null|  25000.0|    25000.0|        25000.0| 36 months|    7.49|     777.55|    A|       A4|       Sales Manager| 10+ years|      MORTGAGE|  109000.0|       Not Verified|Dec-2015| Fully Paid|         n|https://lendingcl...|null|debt_consolidation|  Debt consolidation|   226xx|        VA|26.02|        0.0|        Dec-2001|         745.0|          749.0|           1.0|                  null|                  null|     9.0|    0.0|  20862.0|      54.3|     19.0|                  w|      0.0|          0.0|          26224.23|       26224.23|        25000.0|      1224.23|               0.0|       0.0|                    0.0|    Sep-2016|       20807.39|        null|          Apr-2017|               724.0|              720.0|                       0.0|                       null|        1.0|      Individual|            null|     null|                     null|           0.0|         0.0|   305781.0|        0.0|        3.0|        0.0|        1.0|              13.0|     47194.0|   58.0|        0.0|        1.0|    8937.0|    57.0|         38400.0|   1.0|        0.0|         1.0|                 2.0|    33976.0|       17538.0|   54.3|                     0.0|        0.0|             142.0|               168.0|                 13.0|          13.0|     3.0|                13.0|                    null|                  0.0|                          null|                  0.0|           3.0|            3.0|        5.0|      6.0|      7.0|          5.0|          9.0|                3.0|     9.0|             0.0|         0.0|               0.0|               0.0|         100.0|            20.0|                 0.0|      0.0|       373572.0|          68056.0|       38400.0|                   82117.0|           null|                  null|                   null|                    null|                  null|            null|            null|              null|               null|                 null|                            null|                              null|                               null|            N|         null|           null|           null|         null|           null|               null|             null|                   null|           null|        null|                null|                                      null|                          null|                        null|               Cash|                   N|                     null|             null|           null|             null|                 null|           null|08bf9e080503b0113...|\n",
       "|68577849|     null|  18000.0|    18000.0|        18000.0| 60 months|   11.99|     400.31|    C|       C1|               GS-11| 10+ years|      MORTGAGE|  112000.0|       Not Verified|Dec-2015| Fully Paid|         n|https://lendingcl...|null|debt_consolidation|  Debt consolidation|   856xx|        AZ| 8.68|        0.0|        Nov-1993|         800.0|          804.0|           0.0|                  null|                  null|    17.0|    0.0|  10711.0|      15.5|     27.0|                  w|      0.0|          0.0|          18387.22|       18387.22|        18000.0|       387.22|               0.0|       0.0|                    0.0|    Mar-2016|        18004.9|        null|          Mar-2019|               794.0|              790.0|                       0.0|                       null|        1.0|      Individual|            null|     null|                     null|           0.0|         0.0|   205067.0|        3.0|        1.0|        2.0|        2.0|               3.0|     25416.0|   97.0|        2.0|        3.0|    7672.0|    38.0|         82400.0|   0.0|        1.0|         1.0|                 5.0|    17089.0|       60336.0|   16.7|                     0.0|        0.0|             109.0|               265.0|                  1.0|           1.0|     4.0|                 1.0|                    null|                 10.0|                          null|                  0.0|           5.0|            6.0|       12.0|     12.0|      6.0|         15.0|         17.0|                6.0|    16.0|             0.0|         0.0|               0.0|               4.0|         100.0|             0.0|                 0.0|      0.0|       309710.0|          36127.0|       69800.0|                   26210.0|           null|                  null|                   null|                    null|                  null|            null|            null|              null|               null|                 null|                            null|                              null|                               null|            N|         null|           null|           null|         null|           null|               null|             null|                   null|           null|        null|                null|                                      null|                          null|                        null|               Cash|                   N|                     null|             null|           null|             null|                 null|           null|1cafb05aa6c894c30...|\n",
       "|68506798|     null|  23000.0|    23000.0|        23000.0| 60 months|    8.49|     471.77|    B|       B1|             Teacher|   5 years|          RENT|   64000.0|       Not Verified|Dec-2015|    Current|         n|https://lendingcl...|null|       credit_card|Credit card refin...|   117xx|        NY|18.28|        0.0|        Sep-2001|         700.0|          704.0|           0.0|                  29.0|                  null|    21.0|    0.0|  24940.0|      52.7|     33.0|                  w|   9580.2|       9580.2|          17900.14|       17900.14|        13419.8|      4480.34|               0.0|       0.0|                    0.0|    Feb-2019|         471.77|    Apr-2019|          Mar-2019|               744.0|              740.0|                       0.0|                       null|        1.0|      Individual|            null|     null|                     null|           0.0|         0.0|    63886.0|        0.0|        7.0|        0.0|        0.0|              42.0|     38946.0|   84.0|        2.0|        3.0|    9516.0|    68.0|         47300.0|   0.0|        3.0|         1.0|                 3.0|     3549.0|       15603.0|   60.5|                     0.0|        0.0|             163.0|               171.0|                  8.0|           8.0|     0.0|                12.0|                    30.0|                  8.0|                          29.0|                  0.0|           6.0|            8.0|        7.0|      8.0|     14.0|         14.0|         19.0|                8.0|    21.0|             0.0|         0.0|               0.0|               2.0|          87.9|            14.3|                 0.0|      0.0|        93962.0|          63886.0|       39500.0|                   46662.0|           null|                  null|                   null|                    null|                  null|            null|            null|              null|               null|                 null|                            null|                              null|                               null|            N|         null|           null|           null|         null|           null|               null|             null|                   null|           null|        null|                null|                                      null|                          null|                        null|               Cash|                   N|                     null|             null|           null|             null|                 null|           null|f2c4010f700d8c9c4...|\n",
       "|68495092|     null|   8650.0|     8650.0|         8650.0| 36 months|   19.89|     320.99|    E|       E3|Program Coordinator |   8 years|          RENT|   55000.0|           Verified|Dec-2015| Fully Paid|         n|https://lendingcl...|null|debt_consolidation|  Debt consolidation|   462xx|        IN|25.49|        0.0|        Mar-2005|         675.0|          679.0|           4.0|                  null|                  30.0|    18.0|    1.0|   9568.0|      46.0|     19.0|                  w|      0.0|          0.0|           9190.49|        9190.49|         8650.0|       540.49|               0.0|       0.0|                    0.0|    May-2016|        8251.42|        null|          Jun-2016|               639.0|              635.0|                       0.0|                       null|        1.0|      Individual|            null|     null|                     null|           0.0|         0.0|    18926.0|        6.0|        1.0|        0.0|        1.0|              19.0|      9358.0|   51.0|       12.0|       16.0|     653.0|    46.0|         20750.0|   2.0|        0.0|         5.0|                17.0|     1051.0|        1375.0|   45.0|                     0.0|        0.0|             129.0|                95.0|                  0.0|           0.0|     0.0|                 8.0|                    null|                  0.0|                          null|                  0.0|           2.0|           17.0|        2.0|      2.0|      2.0|         17.0|         17.0|               13.0|    18.0|            null|         0.0|               0.0|              12.0|         100.0|            50.0|                 1.0|      0.0|        38998.0|          18926.0|        2750.0|                   18248.0|           null|                  null|                   null|                    null|                  null|            null|            null|              null|               null|                 null|                            null|                              null|                               null|            N|         null|           null|           null|         null|           null|               null|             null|                   null|           null|        null|                null|                                      null|                          null|                        null|               Cash|                   N|                     null|             null|           null|             null|                 null|           null|05ad4aed7c393035e...|\n",
       "+--------+---------+---------+-----------+---------------+----------+--------+-----------+-----+---------+--------------------+----------+--------------+----------+-------------------+--------+-----------+----------+--------------------+----+------------------+--------------------+--------+----------+-----+-----------+----------------+--------------+---------------+--------------+----------------------+----------------------+--------+-------+---------+----------+---------+-------------------+---------+-------------+------------------+---------------+---------------+-------------+------------------+----------+-----------------------+------------+---------------+------------+------------------+--------------------+-------------------+--------------------------+---------------------------+-----------+----------------+----------------+---------+-------------------------+--------------+------------+-----------+-----------+-----------+-----------+-----------+------------------+------------+-------+-----------+-----------+----------+--------+----------------+------+-----------+------------+--------------------+-----------+--------------+-------+------------------------+-----------+------------------+--------------------+---------------------+--------------+--------+--------------------+------------------------+---------------------+------------------------------+---------------------+--------------+---------------+-----------+---------+---------+-------------+-------------+-------------------+--------+----------------+------------+------------------+------------------+--------------+----------------+--------------------+---------+---------------+-----------------+--------------+--------------------------+---------------+----------------------+-----------------------+------------------------+----------------------+----------------+----------------+------------------+-------------------+---------------------+--------------------------------+----------------------------------+-----------------------------------+-------------+-------------+---------------+---------------+-------------+---------------+-------------------+-----------------+-----------------------+---------------+------------+--------------------+------------------------------------------+------------------------------+----------------------------+-------------------+--------------------+-------------------------+-----------------+---------------+-----------------+---------------------+---------------+--------------------+\n",
       "only showing top 20 rows"
      ]
     },
     "execution_count": 10,
     "metadata": {},
     "output_type": "execute_result"
    }
   ],
   "source": [
    "new_df"
   ]
  },
  {
   "cell_type": "markdown",
   "metadata": {
    "application/vnd.databricks.v1+cell": {
     "cellMetadata": {},
     "inputWidgets": {},
     "nuid": "35f6754a-ccc8-415a-b93e-93ebc3374f28",
     "showTitle": false,
     "title": ""
    }
   },
   "source": [
    "Data Exploration"
   ]
  },
  {
   "cell_type": "code",
   "execution_count": 0,
   "metadata": {
    "application/vnd.databricks.v1+cell": {
     "cellMetadata": {},
     "inputWidgets": {},
     "nuid": "f1613768-290b-4dca-9f30-3f41980b07b4",
     "showTitle": false,
     "title": ""
    }
   },
   "outputs": [],
   "source": [
    "new_df.createOrReplaceTempView(\"newtable\")"
   ]
  },
  {
   "cell_type": "code",
   "execution_count": 0,
   "metadata": {
    "application/vnd.databricks.v1+cell": {
     "cellMetadata": {},
     "inputWidgets": {},
     "nuid": "781d53fe-d09e-49ed-b069-54e236f12073",
     "showTitle": false,
     "title": ""
    }
   },
   "outputs": [
    {
     "output_type": "execute_result",
     "data": {
      "text/html": [
       "<table border='1'>\n",
       "<tr><th>count(1)</th></tr>\n",
       "<tr><td>2260701</td></tr>\n",
       "</table>\n"
      ],
      "text/plain": [
       "+--------+\n",
       "|count(1)|\n",
       "+--------+\n",
       "| 2260701|\n",
       "+--------+"
      ]
     },
     "execution_count": 12,
     "metadata": {},
     "output_type": "execute_result"
    }
   ],
   "source": [
    "# Checking total number of records in the dataset\n",
    "spark.sql(\"select count(*) from newtable\")"
   ]
  },
  {
   "cell_type": "code",
   "execution_count": 0,
   "metadata": {
    "application/vnd.databricks.v1+cell": {
     "cellMetadata": {},
     "inputWidgets": {},
     "nuid": "886fe041-3970-4911-9892-64129971e09a",
     "showTitle": false,
     "title": ""
    }
   },
   "outputs": [
    {
     "output_type": "execute_result",
     "data": {
      "text/html": [
       "<table border='1'>\n",
       "<tr><th>count(DISTINCT name_sha2)</th></tr>\n",
       "<tr><td>2257384</td></tr>\n",
       "</table>\n"
      ],
      "text/plain": [
       "+-------------------------+\n",
       "|count(DISTINCT name_sha2)|\n",
       "+-------------------------+\n",
       "|                  2257384|\n",
       "+-------------------------+"
      ]
     },
     "execution_count": 13,
     "metadata": {},
     "output_type": "execute_result"
    }
   ],
   "source": [
    "# Checking total number of distinct members who took the loan\n",
    "spark.sql(\"select count(distinct(name_sha2)) from newtable\")"
   ]
  },
  {
   "cell_type": "code",
   "execution_count": 0,
   "metadata": {
    "application/vnd.databricks.v1+cell": {
     "cellMetadata": {},
     "inputWidgets": {},
     "nuid": "c648bf4b-607e-4918-8836-d4a073c9013b",
     "showTitle": false,
     "title": ""
    }
   },
   "outputs": [
    {
     "output_type": "execute_result",
     "data": {
      "text/plain": [
       "3317"
      ]
     },
     "execution_count": 14,
     "metadata": {},
     "output_type": "execute_result"
    }
   ],
   "source": [
    "2260701 - 2257384"
   ]
  },
  {
   "cell_type": "code",
   "execution_count": 0,
   "metadata": {
    "application/vnd.databricks.v1+cell": {
     "cellMetadata": {},
     "inputWidgets": {},
     "nuid": "6d5176d3-3491-4ccd-b300-1f3834e720ae",
     "showTitle": false,
     "title": ""
    }
   },
   "outputs": [
    {
     "output_type": "execute_result",
     "data": {
      "text/html": [
       "<table border='1'>\n",
       "<tr><th>name_sha2</th><th>total_cnt</th></tr>\n",
       "<tr><td>e3b0c44298fc1c149...</td><td>33</td></tr>\n",
       "<tr><td>e4c167053d5418230...</td><td>5</td></tr>\n",
       "<tr><td>ad8e5d384dae17e06...</td><td>4</td></tr>\n",
       "<tr><td>3f87585a20f702838...</td><td>4</td></tr>\n",
       "<tr><td>76b577467eda5bdbc...</td><td>4</td></tr>\n",
       "<tr><td>c92062bb371842b3d...</td><td>3</td></tr>\n",
       "<tr><td>3ae415acd6bbfaac1...</td><td>3</td></tr>\n",
       "<tr><td>d93573e2883e37904...</td><td>3</td></tr>\n",
       "<tr><td>066ddaa64bee66dff...</td><td>3</td></tr>\n",
       "<tr><td>819453be77718d747...</td><td>3</td></tr>\n",
       "<tr><td>c563428cb58da48ff...</td><td>3</td></tr>\n",
       "<tr><td>d9ce4046daf599732...</td><td>3</td></tr>\n",
       "<tr><td>059d401bb603d9a80...</td><td>3</td></tr>\n",
       "<tr><td>22593a1870543b2db...</td><td>3</td></tr>\n",
       "<tr><td>e7d8d16928817ec8f...</td><td>3</td></tr>\n",
       "<tr><td>498bb6b1f0099cb47...</td><td>3</td></tr>\n",
       "<tr><td>a2356725aa9da92c6...</td><td>3</td></tr>\n",
       "<tr><td>4ab6205de571ccb7b...</td><td>3</td></tr>\n",
       "<tr><td>5d52e7773cb0efff3...</td><td>3</td></tr>\n",
       "<tr><td>53789bea7edc660ed...</td><td>3</td></tr>\n",
       "</table>\n",
       "only showing top 20 rows\n"
      ],
      "text/plain": [
       "+--------------------+---------+\n",
       "|           name_sha2|total_cnt|\n",
       "+--------------------+---------+\n",
       "|e3b0c44298fc1c149...|       33|\n",
       "|e4c167053d5418230...|        5|\n",
       "|3f87585a20f702838...|        4|\n",
       "|ad8e5d384dae17e06...|        4|\n",
       "|76b577467eda5bdbc...|        4|\n",
       "|f54295a60946dedad...|        3|\n",
       "|22593a1870543b2db...|        3|\n",
       "|d9ce4046daf599732...|        3|\n",
       "|c92062bb371842b3d...|        3|\n",
       "|498bb6b1f0099cb47...|        3|\n",
       "|c563428cb58da48ff...|        3|\n",
       "|5d52e7773cb0efff3...|        3|\n",
       "|066ddaa64bee66dff...|        3|\n",
       "|3ae415acd6bbfaac1...|        3|\n",
       "|a2356725aa9da92c6...|        3|\n",
       "|53789bea7edc660ed...|        3|\n",
       "|059d401bb603d9a80...|        3|\n",
       "|d3731bad3e6a82515...|        3|\n",
       "|4ab6205de571ccb7b...|        3|\n",
       "|e7d8d16928817ec8f...|        3|\n",
       "+--------------------+---------+\n",
       "only showing top 20 rows"
      ]
     },
     "execution_count": 15,
     "metadata": {},
     "output_type": "execute_result"
    }
   ],
   "source": [
    "# I want to get all the member_id/name_sha2 coming more than 1 times and sorting them in descending order\n",
    "spark.sql(\"\"\"select name_sha2, count(*) as total_cnt \n",
    "from newtable group by name_sha2 having total_cnt>1 order by total_cnt desc\"\"\")"
   ]
  },
  {
   "cell_type": "markdown",
   "metadata": {
    "application/vnd.databricks.v1+cell": {
     "cellMetadata": {},
     "inputWidgets": {},
     "nuid": "12f6e46a-0d95-4963-bcfb-824ec9a5ab80",
     "showTitle": false,
     "title": ""
    }
   },
   "source": [
    "\n",
    "Findings 1\n",
    "\n",
    "In the above result, we can see that most of the members have got loans 3-5 times. On the other hand there is one member who has taken the loan for 33 times. This is usually an outlier because it is unlikely for a bank to give a single use this many loans. Also, since we had created new member id by concatenating several columns and the hashing them, so values for each column might have been null for a few records which mught have brought this issue. We will confirm this by checking the datas for the outlier value.\n"
   ]
  },
  {
   "cell_type": "code",
   "execution_count": 0,
   "metadata": {
    "application/vnd.databricks.v1+cell": {
     "cellMetadata": {},
     "inputWidgets": {},
     "nuid": "c78bd0d8-fbf3-47a7-b4ac-f81b299f5bb4",
     "showTitle": false,
     "title": ""
    }
   },
   "outputs": [
    {
     "output_type": "execute_result",
     "data": {
      "text/html": [
       "<table border='1'>\n",
       "<tr><th>id</th><th>member_id</th><th>loan_amnt</th><th>funded_amnt</th><th>funded_amnt_inv</th><th>term</th><th>int_rate</th><th>installment</th><th>grade</th><th>sub_grade</th><th>emp_title</th><th>emp_length</th><th>home_ownership</th><th>annual_inc</th><th>verification_status</th><th>issue_d</th><th>loan_status</th><th>pymnt_plan</th><th>url</th><th>desc</th><th>purpose</th><th>title</th><th>zip_code</th><th>addr_state</th><th>dti</th><th>delinq_2yrs</th><th>earliest_cr_line</th><th>fico_range_low</th><th>fico_range_high</th><th>inq_last_6mths</th><th>mths_since_last_delinq</th><th>mths_since_last_record</th><th>open_acc</th><th>pub_rec</th><th>revol_bal</th><th>revol_util</th><th>total_acc</th><th>initial_list_status</th><th>out_prncp</th><th>out_prncp_inv</th><th>total_pymnt</th><th>total_pymnt_inv</th><th>total_rec_prncp</th><th>total_rec_int</th><th>total_rec_late_fee</th><th>recoveries</th><th>collection_recovery_fee</th><th>last_pymnt_d</th><th>last_pymnt_amnt</th><th>next_pymnt_d</th><th>last_credit_pull_d</th><th>last_fico_range_high</th><th>last_fico_range_low</th><th>collections_12_mths_ex_med</th><th>mths_since_last_major_derog</th><th>policy_code</th><th>application_type</th><th>annual_inc_joint</th><th>dti_joint</th><th>verification_status_joint</th><th>acc_now_delinq</th><th>tot_coll_amt</th><th>tot_cur_bal</th><th>open_acc_6m</th><th>open_act_il</th><th>open_il_12m</th><th>open_il_24m</th><th>mths_since_rcnt_il</th><th>total_bal_il</th><th>il_util</th><th>open_rv_12m</th><th>open_rv_24m</th><th>max_bal_bc</th><th>all_util</th><th>total_rev_hi_lim</th><th>inq_fi</th><th>total_cu_tl</th><th>inq_last_12m</th><th>acc_open_past_24mths</th><th>avg_cur_bal</th><th>bc_open_to_buy</th><th>bc_util</th><th>chargeoff_within_12_mths</th><th>delinq_amnt</th><th>mo_sin_old_il_acct</th><th>mo_sin_old_rev_tl_op</th><th>mo_sin_rcnt_rev_tl_op</th><th>mo_sin_rcnt_tl</th><th>mort_acc</th><th>mths_since_recent_bc</th><th>mths_since_recent_bc_dlq</th><th>mths_since_recent_inq</th><th>mths_since_recent_revol_delinq</th><th>num_accts_ever_120_pd</th><th>num_actv_bc_tl</th><th>num_actv_rev_tl</th><th>num_bc_sats</th><th>num_bc_tl</th><th>num_il_tl</th><th>num_op_rev_tl</th><th>num_rev_accts</th><th>num_rev_tl_bal_gt_0</th><th>num_sats</th><th>num_tl_120dpd_2m</th><th>num_tl_30dpd</th><th>num_tl_90g_dpd_24m</th><th>num_tl_op_past_12m</th><th>pct_tl_nvr_dlq</th><th>percent_bc_gt_75</th><th>pub_rec_bankruptcies</th><th>tax_liens</th><th>tot_hi_cred_lim</th><th>total_bal_ex_mort</th><th>total_bc_limit</th><th>total_il_high_credit_limit</th><th>revol_bal_joint</th><th>sec_app_fico_range_low</th><th>sec_app_fico_range_high</th><th>sec_app_earliest_cr_line</th><th>sec_app_inq_last_6mths</th><th>sec_app_mort_acc</th><th>sec_app_open_acc</th><th>sec_app_revol_util</th><th>sec_app_open_act_il</th><th>sec_app_num_rev_accts</th><th>sec_app_chargeoff_within_12_mths</th><th>sec_app_collections_12_mths_ex_med</th><th>sec_app_mths_since_last_major_derog</th><th>hardship_flag</th><th>hardship_type</th><th>hardship_reason</th><th>hardship_status</th><th>deferral_term</th><th>hardship_amount</th><th>hardship_start_date</th><th>hardship_end_date</th><th>payment_plan_start_date</th><th>hardship_length</th><th>hardship_dpd</th><th>hardship_loan_status</th><th>orig_projected_additional_accrued_interest</th><th>hardship_payoff_balance_amount</th><th>hardship_last_payment_amount</th><th>disbursement_method</th><th>debt_settlement_flag</th><th>debt_settlement_flag_date</th><th>settlement_status</th><th>settlement_date</th><th>settlement_amount</th><th>settlement_percentage</th><th>settlement_term</th><th>name_sha2</th></tr>\n",
       "<tr><td>Total amount fund...</td><td>null</td><td>null</td><td>null</td><td>null</td><td>null</td><td>null</td><td>null</td><td>null</td><td>null</td><td>null</td><td>null</td><td>null</td><td>null</td><td>null</td><td>null</td><td>null</td><td>null</td><td>null</td><td>null</td><td>null</td><td>null</td><td>null</td><td>null</td><td>null</td><td>null</td><td>null</td><td>null</td><td>null</td><td>null</td><td>null</td><td>null</td><td>null</td><td>null</td><td>null</td><td>null</td><td>null</td><td>null</td><td>null</td><td>null</td><td>null</td><td>null</td><td>null</td><td>null</td><td>null</td><td>null</td><td>null</td><td>null</td><td>null</td><td>null</td><td>null</td><td>null</td><td>null</td><td>null</td><td>null</td><td>null</td><td>null</td><td>null</td><td>null</td><td>null</td><td>null</td><td>null</td><td>null</td><td>null</td><td>null</td><td>null</td><td>null</td><td>null</td><td>null</td><td>null</td><td>null</td><td>null</td><td>null</td><td>null</td><td>null</td><td>null</td><td>null</td><td>null</td><td>null</td><td>null</td><td>null</td><td>null</td><td>null</td><td>null</td><td>null</td><td>null</td><td>null</td><td>null</td><td>null</td><td>null</td><td>null</td><td>null</td><td>null</td><td>null</td><td>null</td><td>null</td><td>null</td><td>null</td><td>null</td><td>null</td><td>null</td><td>null</td><td>null</td><td>null</td><td>null</td><td>null</td><td>null</td><td>null</td><td>null</td><td>null</td><td>null</td><td>null</td><td>null</td><td>null</td><td>null</td><td>null</td><td>null</td><td>null</td><td>null</td><td>null</td><td>null</td><td>null</td><td>null</td><td>null</td><td>null</td><td>null</td><td>null</td><td>null</td><td>null</td><td>null</td><td>null</td><td>null</td><td>null</td><td>null</td><td>null</td><td>null</td><td>null</td><td>null</td><td>null</td><td>null</td><td>null</td><td>null</td><td>null</td><td>null</td><td>null</td><td>null</td><td>null</td><td>null</td><td>null</td><td>null</td><td>null</td><td>e3b0c44298fc1c149...</td></tr>\n",
       "<tr><td>Total amount fund...</td><td>null</td><td>null</td><td>null</td><td>null</td><td>null</td><td>null</td><td>null</td><td>null</td><td>null</td><td>null</td><td>null</td><td>null</td><td>null</td><td>null</td><td>null</td><td>null</td><td>null</td><td>null</td><td>null</td><td>null</td><td>null</td><td>null</td><td>null</td><td>null</td><td>null</td><td>null</td><td>null</td><td>null</td><td>null</td><td>null</td><td>null</td><td>null</td><td>null</td><td>null</td><td>null</td><td>null</td><td>null</td><td>null</td><td>null</td><td>null</td><td>null</td><td>null</td><td>null</td><td>null</td><td>null</td><td>null</td><td>null</td><td>null</td><td>null</td><td>null</td><td>null</td><td>null</td><td>null</td><td>null</td><td>null</td><td>null</td><td>null</td><td>null</td><td>null</td><td>null</td><td>null</td><td>null</td><td>null</td><td>null</td><td>null</td><td>null</td><td>null</td><td>null</td><td>null</td><td>null</td><td>null</td><td>null</td><td>null</td><td>null</td><td>null</td><td>null</td><td>null</td><td>null</td><td>null</td><td>null</td><td>null</td><td>null</td><td>null</td><td>null</td><td>null</td><td>null</td><td>null</td><td>null</td><td>null</td><td>null</td><td>null</td><td>null</td><td>null</td><td>null</td><td>null</td><td>null</td><td>null</td><td>null</td><td>null</td><td>null</td><td>null</td><td>null</td><td>null</td><td>null</td><td>null</td><td>null</td><td>null</td><td>null</td><td>null</td><td>null</td><td>null</td><td>null</td><td>null</td><td>null</td><td>null</td><td>null</td><td>null</td><td>null</td><td>null</td><td>null</td><td>null</td><td>null</td><td>null</td><td>null</td><td>null</td><td>null</td><td>null</td><td>null</td><td>null</td><td>null</td><td>null</td><td>null</td><td>null</td><td>null</td><td>null</td><td>null</td><td>null</td><td>null</td><td>null</td><td>null</td><td>null</td><td>null</td><td>null</td><td>null</td><td>null</td><td>null</td><td>null</td><td>null</td><td>null</td><td>null</td><td>e3b0c44298fc1c149...</td></tr>\n",
       "<tr><td>Total amount fund...</td><td>null</td><td>null</td><td>null</td><td>null</td><td>null</td><td>null</td><td>null</td><td>null</td><td>null</td><td>null</td><td>null</td><td>null</td><td>null</td><td>null</td><td>null</td><td>null</td><td>null</td><td>null</td><td>null</td><td>null</td><td>null</td><td>null</td><td>null</td><td>null</td><td>null</td><td>null</td><td>null</td><td>null</td><td>null</td><td>null</td><td>null</td><td>null</td><td>null</td><td>null</td><td>null</td><td>null</td><td>null</td><td>null</td><td>null</td><td>null</td><td>null</td><td>null</td><td>null</td><td>null</td><td>null</td><td>null</td><td>null</td><td>null</td><td>null</td><td>null</td><td>null</td><td>null</td><td>null</td><td>null</td><td>null</td><td>null</td><td>null</td><td>null</td><td>null</td><td>null</td><td>null</td><td>null</td><td>null</td><td>null</td><td>null</td><td>null</td><td>null</td><td>null</td><td>null</td><td>null</td><td>null</td><td>null</td><td>null</td><td>null</td><td>null</td><td>null</td><td>null</td><td>null</td><td>null</td><td>null</td><td>null</td><td>null</td><td>null</td><td>null</td><td>null</td><td>null</td><td>null</td><td>null</td><td>null</td><td>null</td><td>null</td><td>null</td><td>null</td><td>null</td><td>null</td><td>null</td><td>null</td><td>null</td><td>null</td><td>null</td><td>null</td><td>null</td><td>null</td><td>null</td><td>null</td><td>null</td><td>null</td><td>null</td><td>null</td><td>null</td><td>null</td><td>null</td><td>null</td><td>null</td><td>null</td><td>null</td><td>null</td><td>null</td><td>null</td><td>null</td><td>null</td><td>null</td><td>null</td><td>null</td><td>null</td><td>null</td><td>null</td><td>null</td><td>null</td><td>null</td><td>null</td><td>null</td><td>null</td><td>null</td><td>null</td><td>null</td><td>null</td><td>null</td><td>null</td><td>null</td><td>null</td><td>null</td><td>null</td><td>null</td><td>null</td><td>null</td><td>null</td><td>null</td><td>null</td><td>null</td><td>e3b0c44298fc1c149...</td></tr>\n",
       "<tr><td>Total amount fund...</td><td>null</td><td>null</td><td>null</td><td>null</td><td>null</td><td>null</td><td>null</td><td>null</td><td>null</td><td>null</td><td>null</td><td>null</td><td>null</td><td>null</td><td>null</td><td>null</td><td>null</td><td>null</td><td>null</td><td>null</td><td>null</td><td>null</td><td>null</td><td>null</td><td>null</td><td>null</td><td>null</td><td>null</td><td>null</td><td>null</td><td>null</td><td>null</td><td>null</td><td>null</td><td>null</td><td>null</td><td>null</td><td>null</td><td>null</td><td>null</td><td>null</td><td>null</td><td>null</td><td>null</td><td>null</td><td>null</td><td>null</td><td>null</td><td>null</td><td>null</td><td>null</td><td>null</td><td>null</td><td>null</td><td>null</td><td>null</td><td>null</td><td>null</td><td>null</td><td>null</td><td>null</td><td>null</td><td>null</td><td>null</td><td>null</td><td>null</td><td>null</td><td>null</td><td>null</td><td>null</td><td>null</td><td>null</td><td>null</td><td>null</td><td>null</td><td>null</td><td>null</td><td>null</td><td>null</td><td>null</td><td>null</td><td>null</td><td>null</td><td>null</td><td>null</td><td>null</td><td>null</td><td>null</td><td>null</td><td>null</td><td>null</td><td>null</td><td>null</td><td>null</td><td>null</td><td>null</td><td>null</td><td>null</td><td>null</td><td>null</td><td>null</td><td>null</td><td>null</td><td>null</td><td>null</td><td>null</td><td>null</td><td>null</td><td>null</td><td>null</td><td>null</td><td>null</td><td>null</td><td>null</td><td>null</td><td>null</td><td>null</td><td>null</td><td>null</td><td>null</td><td>null</td><td>null</td><td>null</td><td>null</td><td>null</td><td>null</td><td>null</td><td>null</td><td>null</td><td>null</td><td>null</td><td>null</td><td>null</td><td>null</td><td>null</td><td>null</td><td>null</td><td>null</td><td>null</td><td>null</td><td>null</td><td>null</td><td>null</td><td>null</td><td>null</td><td>null</td><td>null</td><td>null</td><td>null</td><td>null</td><td>e3b0c44298fc1c149...</td></tr>\n",
       "<tr><td>Total amount fund...</td><td>null</td><td>null</td><td>null</td><td>null</td><td>null</td><td>null</td><td>null</td><td>null</td><td>null</td><td>null</td><td>null</td><td>null</td><td>null</td><td>null</td><td>null</td><td>null</td><td>null</td><td>null</td><td>null</td><td>null</td><td>null</td><td>null</td><td>null</td><td>null</td><td>null</td><td>null</td><td>null</td><td>null</td><td>null</td><td>null</td><td>null</td><td>null</td><td>null</td><td>null</td><td>null</td><td>null</td><td>null</td><td>null</td><td>null</td><td>null</td><td>null</td><td>null</td><td>null</td><td>null</td><td>null</td><td>null</td><td>null</td><td>null</td><td>null</td><td>null</td><td>null</td><td>null</td><td>null</td><td>null</td><td>null</td><td>null</td><td>null</td><td>null</td><td>null</td><td>null</td><td>null</td><td>null</td><td>null</td><td>null</td><td>null</td><td>null</td><td>null</td><td>null</td><td>null</td><td>null</td><td>null</td><td>null</td><td>null</td><td>null</td><td>null</td><td>null</td><td>null</td><td>null</td><td>null</td><td>null</td><td>null</td><td>null</td><td>null</td><td>null</td><td>null</td><td>null</td><td>null</td><td>null</td><td>null</td><td>null</td><td>null</td><td>null</td><td>null</td><td>null</td><td>null</td><td>null</td><td>null</td><td>null</td><td>null</td><td>null</td><td>null</td><td>null</td><td>null</td><td>null</td><td>null</td><td>null</td><td>null</td><td>null</td><td>null</td><td>null</td><td>null</td><td>null</td><td>null</td><td>null</td><td>null</td><td>null</td><td>null</td><td>null</td><td>null</td><td>null</td><td>null</td><td>null</td><td>null</td><td>null</td><td>null</td><td>null</td><td>null</td><td>null</td><td>null</td><td>null</td><td>null</td><td>null</td><td>null</td><td>null</td><td>null</td><td>null</td><td>null</td><td>null</td><td>null</td><td>null</td><td>null</td><td>null</td><td>null</td><td>null</td><td>null</td><td>null</td><td>null</td><td>null</td><td>null</td><td>null</td><td>e3b0c44298fc1c149...</td></tr>\n",
       "<tr><td>Total amount fund...</td><td>null</td><td>null</td><td>null</td><td>null</td><td>null</td><td>null</td><td>null</td><td>null</td><td>null</td><td>null</td><td>null</td><td>null</td><td>null</td><td>null</td><td>null</td><td>null</td><td>null</td><td>null</td><td>null</td><td>null</td><td>null</td><td>null</td><td>null</td><td>null</td><td>null</td><td>null</td><td>null</td><td>null</td><td>null</td><td>null</td><td>null</td><td>null</td><td>null</td><td>null</td><td>null</td><td>null</td><td>null</td><td>null</td><td>null</td><td>null</td><td>null</td><td>null</td><td>null</td><td>null</td><td>null</td><td>null</td><td>null</td><td>null</td><td>null</td><td>null</td><td>null</td><td>null</td><td>null</td><td>null</td><td>null</td><td>null</td><td>null</td><td>null</td><td>null</td><td>null</td><td>null</td><td>null</td><td>null</td><td>null</td><td>null</td><td>null</td><td>null</td><td>null</td><td>null</td><td>null</td><td>null</td><td>null</td><td>null</td><td>null</td><td>null</td><td>null</td><td>null</td><td>null</td><td>null</td><td>null</td><td>null</td><td>null</td><td>null</td><td>null</td><td>null</td><td>null</td><td>null</td><td>null</td><td>null</td><td>null</td><td>null</td><td>null</td><td>null</td><td>null</td><td>null</td><td>null</td><td>null</td><td>null</td><td>null</td><td>null</td><td>null</td><td>null</td><td>null</td><td>null</td><td>null</td><td>null</td><td>null</td><td>null</td><td>null</td><td>null</td><td>null</td><td>null</td><td>null</td><td>null</td><td>null</td><td>null</td><td>null</td><td>null</td><td>null</td><td>null</td><td>null</td><td>null</td><td>null</td><td>null</td><td>null</td><td>null</td><td>null</td><td>null</td><td>null</td><td>null</td><td>null</td><td>null</td><td>null</td><td>null</td><td>null</td><td>null</td><td>null</td><td>null</td><td>null</td><td>null</td><td>null</td><td>null</td><td>null</td><td>null</td><td>null</td><td>null</td><td>null</td><td>null</td><td>null</td><td>null</td><td>e3b0c44298fc1c149...</td></tr>\n",
       "<tr><td>Total amount fund...</td><td>null</td><td>null</td><td>null</td><td>null</td><td>null</td><td>null</td><td>null</td><td>null</td><td>null</td><td>null</td><td>null</td><td>null</td><td>null</td><td>null</td><td>null</td><td>null</td><td>null</td><td>null</td><td>null</td><td>null</td><td>null</td><td>null</td><td>null</td><td>null</td><td>null</td><td>null</td><td>null</td><td>null</td><td>null</td><td>null</td><td>null</td><td>null</td><td>null</td><td>null</td><td>null</td><td>null</td><td>null</td><td>null</td><td>null</td><td>null</td><td>null</td><td>null</td><td>null</td><td>null</td><td>null</td><td>null</td><td>null</td><td>null</td><td>null</td><td>null</td><td>null</td><td>null</td><td>null</td><td>null</td><td>null</td><td>null</td><td>null</td><td>null</td><td>null</td><td>null</td><td>null</td><td>null</td><td>null</td><td>null</td><td>null</td><td>null</td><td>null</td><td>null</td><td>null</td><td>null</td><td>null</td><td>null</td><td>null</td><td>null</td><td>null</td><td>null</td><td>null</td><td>null</td><td>null</td><td>null</td><td>null</td><td>null</td><td>null</td><td>null</td><td>null</td><td>null</td><td>null</td><td>null</td><td>null</td><td>null</td><td>null</td><td>null</td><td>null</td><td>null</td><td>null</td><td>null</td><td>null</td><td>null</td><td>null</td><td>null</td><td>null</td><td>null</td><td>null</td><td>null</td><td>null</td><td>null</td><td>null</td><td>null</td><td>null</td><td>null</td><td>null</td><td>null</td><td>null</td><td>null</td><td>null</td><td>null</td><td>null</td><td>null</td><td>null</td><td>null</td><td>null</td><td>null</td><td>null</td><td>null</td><td>null</td><td>null</td><td>null</td><td>null</td><td>null</td><td>null</td><td>null</td><td>null</td><td>null</td><td>null</td><td>null</td><td>null</td><td>null</td><td>null</td><td>null</td><td>null</td><td>null</td><td>null</td><td>null</td><td>null</td><td>null</td><td>null</td><td>null</td><td>null</td><td>null</td><td>null</td><td>e3b0c44298fc1c149...</td></tr>\n",
       "<tr><td>Total amount fund...</td><td>null</td><td>null</td><td>null</td><td>null</td><td>null</td><td>null</td><td>null</td><td>null</td><td>null</td><td>null</td><td>null</td><td>null</td><td>null</td><td>null</td><td>null</td><td>null</td><td>null</td><td>null</td><td>null</td><td>null</td><td>null</td><td>null</td><td>null</td><td>null</td><td>null</td><td>null</td><td>null</td><td>null</td><td>null</td><td>null</td><td>null</td><td>null</td><td>null</td><td>null</td><td>null</td><td>null</td><td>null</td><td>null</td><td>null</td><td>null</td><td>null</td><td>null</td><td>null</td><td>null</td><td>null</td><td>null</td><td>null</td><td>null</td><td>null</td><td>null</td><td>null</td><td>null</td><td>null</td><td>null</td><td>null</td><td>null</td><td>null</td><td>null</td><td>null</td><td>null</td><td>null</td><td>null</td><td>null</td><td>null</td><td>null</td><td>null</td><td>null</td><td>null</td><td>null</td><td>null</td><td>null</td><td>null</td><td>null</td><td>null</td><td>null</td><td>null</td><td>null</td><td>null</td><td>null</td><td>null</td><td>null</td><td>null</td><td>null</td><td>null</td><td>null</td><td>null</td><td>null</td><td>null</td><td>null</td><td>null</td><td>null</td><td>null</td><td>null</td><td>null</td><td>null</td><td>null</td><td>null</td><td>null</td><td>null</td><td>null</td><td>null</td><td>null</td><td>null</td><td>null</td><td>null</td><td>null</td><td>null</td><td>null</td><td>null</td><td>null</td><td>null</td><td>null</td><td>null</td><td>null</td><td>null</td><td>null</td><td>null</td><td>null</td><td>null</td><td>null</td><td>null</td><td>null</td><td>null</td><td>null</td><td>null</td><td>null</td><td>null</td><td>null</td><td>null</td><td>null</td><td>null</td><td>null</td><td>null</td><td>null</td><td>null</td><td>null</td><td>null</td><td>null</td><td>null</td><td>null</td><td>null</td><td>null</td><td>null</td><td>null</td><td>null</td><td>null</td><td>null</td><td>null</td><td>null</td><td>null</td><td>e3b0c44298fc1c149...</td></tr>\n",
       "<tr><td>Total amount fund...</td><td>null</td><td>null</td><td>null</td><td>null</td><td>null</td><td>null</td><td>null</td><td>null</td><td>null</td><td>null</td><td>null</td><td>null</td><td>null</td><td>null</td><td>null</td><td>null</td><td>null</td><td>null</td><td>null</td><td>null</td><td>null</td><td>null</td><td>null</td><td>null</td><td>null</td><td>null</td><td>null</td><td>null</td><td>null</td><td>null</td><td>null</td><td>null</td><td>null</td><td>null</td><td>null</td><td>null</td><td>null</td><td>null</td><td>null</td><td>null</td><td>null</td><td>null</td><td>null</td><td>null</td><td>null</td><td>null</td><td>null</td><td>null</td><td>null</td><td>null</td><td>null</td><td>null</td><td>null</td><td>null</td><td>null</td><td>null</td><td>null</td><td>null</td><td>null</td><td>null</td><td>null</td><td>null</td><td>null</td><td>null</td><td>null</td><td>null</td><td>null</td><td>null</td><td>null</td><td>null</td><td>null</td><td>null</td><td>null</td><td>null</td><td>null</td><td>null</td><td>null</td><td>null</td><td>null</td><td>null</td><td>null</td><td>null</td><td>null</td><td>null</td><td>null</td><td>null</td><td>null</td><td>null</td><td>null</td><td>null</td><td>null</td><td>null</td><td>null</td><td>null</td><td>null</td><td>null</td><td>null</td><td>null</td><td>null</td><td>null</td><td>null</td><td>null</td><td>null</td><td>null</td><td>null</td><td>null</td><td>null</td><td>null</td><td>null</td><td>null</td><td>null</td><td>null</td><td>null</td><td>null</td><td>null</td><td>null</td><td>null</td><td>null</td><td>null</td><td>null</td><td>null</td><td>null</td><td>null</td><td>null</td><td>null</td><td>null</td><td>null</td><td>null</td><td>null</td><td>null</td><td>null</td><td>null</td><td>null</td><td>null</td><td>null</td><td>null</td><td>null</td><td>null</td><td>null</td><td>null</td><td>null</td><td>null</td><td>null</td><td>null</td><td>null</td><td>null</td><td>null</td><td>null</td><td>null</td><td>null</td><td>e3b0c44298fc1c149...</td></tr>\n",
       "<tr><td>Total amount fund...</td><td>null</td><td>null</td><td>null</td><td>null</td><td>null</td><td>null</td><td>null</td><td>null</td><td>null</td><td>null</td><td>null</td><td>null</td><td>null</td><td>null</td><td>null</td><td>null</td><td>null</td><td>null</td><td>null</td><td>null</td><td>null</td><td>null</td><td>null</td><td>null</td><td>null</td><td>null</td><td>null</td><td>null</td><td>null</td><td>null</td><td>null</td><td>null</td><td>null</td><td>null</td><td>null</td><td>null</td><td>null</td><td>null</td><td>null</td><td>null</td><td>null</td><td>null</td><td>null</td><td>null</td><td>null</td><td>null</td><td>null</td><td>null</td><td>null</td><td>null</td><td>null</td><td>null</td><td>null</td><td>null</td><td>null</td><td>null</td><td>null</td><td>null</td><td>null</td><td>null</td><td>null</td><td>null</td><td>null</td><td>null</td><td>null</td><td>null</td><td>null</td><td>null</td><td>null</td><td>null</td><td>null</td><td>null</td><td>null</td><td>null</td><td>null</td><td>null</td><td>null</td><td>null</td><td>null</td><td>null</td><td>null</td><td>null</td><td>null</td><td>null</td><td>null</td><td>null</td><td>null</td><td>null</td><td>null</td><td>null</td><td>null</td><td>null</td><td>null</td><td>null</td><td>null</td><td>null</td><td>null</td><td>null</td><td>null</td><td>null</td><td>null</td><td>null</td><td>null</td><td>null</td><td>null</td><td>null</td><td>null</td><td>null</td><td>null</td><td>null</td><td>null</td><td>null</td><td>null</td><td>null</td><td>null</td><td>null</td><td>null</td><td>null</td><td>null</td><td>null</td><td>null</td><td>null</td><td>null</td><td>null</td><td>null</td><td>null</td><td>null</td><td>null</td><td>null</td><td>null</td><td>null</td><td>null</td><td>null</td><td>null</td><td>null</td><td>null</td><td>null</td><td>null</td><td>null</td><td>null</td><td>null</td><td>null</td><td>null</td><td>null</td><td>null</td><td>null</td><td>null</td><td>null</td><td>null</td><td>null</td><td>e3b0c44298fc1c149...</td></tr>\n",
       "<tr><td>Total amount fund...</td><td>null</td><td>null</td><td>null</td><td>null</td><td>null</td><td>null</td><td>null</td><td>null</td><td>null</td><td>null</td><td>null</td><td>null</td><td>null</td><td>null</td><td>null</td><td>null</td><td>null</td><td>null</td><td>null</td><td>null</td><td>null</td><td>null</td><td>null</td><td>null</td><td>null</td><td>null</td><td>null</td><td>null</td><td>null</td><td>null</td><td>null</td><td>null</td><td>null</td><td>null</td><td>null</td><td>null</td><td>null</td><td>null</td><td>null</td><td>null</td><td>null</td><td>null</td><td>null</td><td>null</td><td>null</td><td>null</td><td>null</td><td>null</td><td>null</td><td>null</td><td>null</td><td>null</td><td>null</td><td>null</td><td>null</td><td>null</td><td>null</td><td>null</td><td>null</td><td>null</td><td>null</td><td>null</td><td>null</td><td>null</td><td>null</td><td>null</td><td>null</td><td>null</td><td>null</td><td>null</td><td>null</td><td>null</td><td>null</td><td>null</td><td>null</td><td>null</td><td>null</td><td>null</td><td>null</td><td>null</td><td>null</td><td>null</td><td>null</td><td>null</td><td>null</td><td>null</td><td>null</td><td>null</td><td>null</td><td>null</td><td>null</td><td>null</td><td>null</td><td>null</td><td>null</td><td>null</td><td>null</td><td>null</td><td>null</td><td>null</td><td>null</td><td>null</td><td>null</td><td>null</td><td>null</td><td>null</td><td>null</td><td>null</td><td>null</td><td>null</td><td>null</td><td>null</td><td>null</td><td>null</td><td>null</td><td>null</td><td>null</td><td>null</td><td>null</td><td>null</td><td>null</td><td>null</td><td>null</td><td>null</td><td>null</td><td>null</td><td>null</td><td>null</td><td>null</td><td>null</td><td>null</td><td>null</td><td>null</td><td>null</td><td>null</td><td>null</td><td>null</td><td>null</td><td>null</td><td>null</td><td>null</td><td>null</td><td>null</td><td>null</td><td>null</td><td>null</td><td>null</td><td>null</td><td>null</td><td>null</td><td>e3b0c44298fc1c149...</td></tr>\n",
       "<tr><td>Total amount fund...</td><td>null</td><td>null</td><td>null</td><td>null</td><td>null</td><td>null</td><td>null</td><td>null</td><td>null</td><td>null</td><td>null</td><td>null</td><td>null</td><td>null</td><td>null</td><td>null</td><td>null</td><td>null</td><td>null</td><td>null</td><td>null</td><td>null</td><td>null</td><td>null</td><td>null</td><td>null</td><td>null</td><td>null</td><td>null</td><td>null</td><td>null</td><td>null</td><td>null</td><td>null</td><td>null</td><td>null</td><td>null</td><td>null</td><td>null</td><td>null</td><td>null</td><td>null</td><td>null</td><td>null</td><td>null</td><td>null</td><td>null</td><td>null</td><td>null</td><td>null</td><td>null</td><td>null</td><td>null</td><td>null</td><td>null</td><td>null</td><td>null</td><td>null</td><td>null</td><td>null</td><td>null</td><td>null</td><td>null</td><td>null</td><td>null</td><td>null</td><td>null</td><td>null</td><td>null</td><td>null</td><td>null</td><td>null</td><td>null</td><td>null</td><td>null</td><td>null</td><td>null</td><td>null</td><td>null</td><td>null</td><td>null</td><td>null</td><td>null</td><td>null</td><td>null</td><td>null</td><td>null</td><td>null</td><td>null</td><td>null</td><td>null</td><td>null</td><td>null</td><td>null</td><td>null</td><td>null</td><td>null</td><td>null</td><td>null</td><td>null</td><td>null</td><td>null</td><td>null</td><td>null</td><td>null</td><td>null</td><td>null</td><td>null</td><td>null</td><td>null</td><td>null</td><td>null</td><td>null</td><td>null</td><td>null</td><td>null</td><td>null</td><td>null</td><td>null</td><td>null</td><td>null</td><td>null</td><td>null</td><td>null</td><td>null</td><td>null</td><td>null</td><td>null</td><td>null</td><td>null</td><td>null</td><td>null</td><td>null</td><td>null</td><td>null</td><td>null</td><td>null</td><td>null</td><td>null</td><td>null</td><td>null</td><td>null</td><td>null</td><td>null</td><td>null</td><td>null</td><td>null</td><td>null</td><td>null</td><td>null</td><td>e3b0c44298fc1c149...</td></tr>\n",
       "<tr><td>Total amount fund...</td><td>null</td><td>null</td><td>null</td><td>null</td><td>null</td><td>null</td><td>null</td><td>null</td><td>null</td><td>null</td><td>null</td><td>null</td><td>null</td><td>null</td><td>null</td><td>null</td><td>null</td><td>null</td><td>null</td><td>null</td><td>null</td><td>null</td><td>null</td><td>null</td><td>null</td><td>null</td><td>null</td><td>null</td><td>null</td><td>null</td><td>null</td><td>null</td><td>null</td><td>null</td><td>null</td><td>null</td><td>null</td><td>null</td><td>null</td><td>null</td><td>null</td><td>null</td><td>null</td><td>null</td><td>null</td><td>null</td><td>null</td><td>null</td><td>null</td><td>null</td><td>null</td><td>null</td><td>null</td><td>null</td><td>null</td><td>null</td><td>null</td><td>null</td><td>null</td><td>null</td><td>null</td><td>null</td><td>null</td><td>null</td><td>null</td><td>null</td><td>null</td><td>null</td><td>null</td><td>null</td><td>null</td><td>null</td><td>null</td><td>null</td><td>null</td><td>null</td><td>null</td><td>null</td><td>null</td><td>null</td><td>null</td><td>null</td><td>null</td><td>null</td><td>null</td><td>null</td><td>null</td><td>null</td><td>null</td><td>null</td><td>null</td><td>null</td><td>null</td><td>null</td><td>null</td><td>null</td><td>null</td><td>null</td><td>null</td><td>null</td><td>null</td><td>null</td><td>null</td><td>null</td><td>null</td><td>null</td><td>null</td><td>null</td><td>null</td><td>null</td><td>null</td><td>null</td><td>null</td><td>null</td><td>null</td><td>null</td><td>null</td><td>null</td><td>null</td><td>null</td><td>null</td><td>null</td><td>null</td><td>null</td><td>null</td><td>null</td><td>null</td><td>null</td><td>null</td><td>null</td><td>null</td><td>null</td><td>null</td><td>null</td><td>null</td><td>null</td><td>null</td><td>null</td><td>null</td><td>null</td><td>null</td><td>null</td><td>null</td><td>null</td><td>null</td><td>null</td><td>null</td><td>null</td><td>null</td><td>null</td><td>e3b0c44298fc1c149...</td></tr>\n",
       "<tr><td>Total amount fund...</td><td>null</td><td>null</td><td>null</td><td>null</td><td>null</td><td>null</td><td>null</td><td>null</td><td>null</td><td>null</td><td>null</td><td>null</td><td>null</td><td>null</td><td>null</td><td>null</td><td>null</td><td>null</td><td>null</td><td>null</td><td>null</td><td>null</td><td>null</td><td>null</td><td>null</td><td>null</td><td>null</td><td>null</td><td>null</td><td>null</td><td>null</td><td>null</td><td>null</td><td>null</td><td>null</td><td>null</td><td>null</td><td>null</td><td>null</td><td>null</td><td>null</td><td>null</td><td>null</td><td>null</td><td>null</td><td>null</td><td>null</td><td>null</td><td>null</td><td>null</td><td>null</td><td>null</td><td>null</td><td>null</td><td>null</td><td>null</td><td>null</td><td>null</td><td>null</td><td>null</td><td>null</td><td>null</td><td>null</td><td>null</td><td>null</td><td>null</td><td>null</td><td>null</td><td>null</td><td>null</td><td>null</td><td>null</td><td>null</td><td>null</td><td>null</td><td>null</td><td>null</td><td>null</td><td>null</td><td>null</td><td>null</td><td>null</td><td>null</td><td>null</td><td>null</td><td>null</td><td>null</td><td>null</td><td>null</td><td>null</td><td>null</td><td>null</td><td>null</td><td>null</td><td>null</td><td>null</td><td>null</td><td>null</td><td>null</td><td>null</td><td>null</td><td>null</td><td>null</td><td>null</td><td>null</td><td>null</td><td>null</td><td>null</td><td>null</td><td>null</td><td>null</td><td>null</td><td>null</td><td>null</td><td>null</td><td>null</td><td>null</td><td>null</td><td>null</td><td>null</td><td>null</td><td>null</td><td>null</td><td>null</td><td>null</td><td>null</td><td>null</td><td>null</td><td>null</td><td>null</td><td>null</td><td>null</td><td>null</td><td>null</td><td>null</td><td>null</td><td>null</td><td>null</td><td>null</td><td>null</td><td>null</td><td>null</td><td>null</td><td>null</td><td>null</td><td>null</td><td>null</td><td>null</td><td>null</td><td>null</td><td>e3b0c44298fc1c149...</td></tr>\n",
       "<tr><td>Total amount fund...</td><td>null</td><td>null</td><td>null</td><td>null</td><td>null</td><td>null</td><td>null</td><td>null</td><td>null</td><td>null</td><td>null</td><td>null</td><td>null</td><td>null</td><td>null</td><td>null</td><td>null</td><td>null</td><td>null</td><td>null</td><td>null</td><td>null</td><td>null</td><td>null</td><td>null</td><td>null</td><td>null</td><td>null</td><td>null</td><td>null</td><td>null</td><td>null</td><td>null</td><td>null</td><td>null</td><td>null</td><td>null</td><td>null</td><td>null</td><td>null</td><td>null</td><td>null</td><td>null</td><td>null</td><td>null</td><td>null</td><td>null</td><td>null</td><td>null</td><td>null</td><td>null</td><td>null</td><td>null</td><td>null</td><td>null</td><td>null</td><td>null</td><td>null</td><td>null</td><td>null</td><td>null</td><td>null</td><td>null</td><td>null</td><td>null</td><td>null</td><td>null</td><td>null</td><td>null</td><td>null</td><td>null</td><td>null</td><td>null</td><td>null</td><td>null</td><td>null</td><td>null</td><td>null</td><td>null</td><td>null</td><td>null</td><td>null</td><td>null</td><td>null</td><td>null</td><td>null</td><td>null</td><td>null</td><td>null</td><td>null</td><td>null</td><td>null</td><td>null</td><td>null</td><td>null</td><td>null</td><td>null</td><td>null</td><td>null</td><td>null</td><td>null</td><td>null</td><td>null</td><td>null</td><td>null</td><td>null</td><td>null</td><td>null</td><td>null</td><td>null</td><td>null</td><td>null</td><td>null</td><td>null</td><td>null</td><td>null</td><td>null</td><td>null</td><td>null</td><td>null</td><td>null</td><td>null</td><td>null</td><td>null</td><td>null</td><td>null</td><td>null</td><td>null</td><td>null</td><td>null</td><td>null</td><td>null</td><td>null</td><td>null</td><td>null</td><td>null</td><td>null</td><td>null</td><td>null</td><td>null</td><td>null</td><td>null</td><td>null</td><td>null</td><td>null</td><td>null</td><td>null</td><td>null</td><td>null</td><td>null</td><td>e3b0c44298fc1c149...</td></tr>\n",
       "<tr><td>Total amount fund...</td><td>null</td><td>null</td><td>null</td><td>null</td><td>null</td><td>null</td><td>null</td><td>null</td><td>null</td><td>null</td><td>null</td><td>null</td><td>null</td><td>null</td><td>null</td><td>null</td><td>null</td><td>null</td><td>null</td><td>null</td><td>null</td><td>null</td><td>null</td><td>null</td><td>null</td><td>null</td><td>null</td><td>null</td><td>null</td><td>null</td><td>null</td><td>null</td><td>null</td><td>null</td><td>null</td><td>null</td><td>null</td><td>null</td><td>null</td><td>null</td><td>null</td><td>null</td><td>null</td><td>null</td><td>null</td><td>null</td><td>null</td><td>null</td><td>null</td><td>null</td><td>null</td><td>null</td><td>null</td><td>null</td><td>null</td><td>null</td><td>null</td><td>null</td><td>null</td><td>null</td><td>null</td><td>null</td><td>null</td><td>null</td><td>null</td><td>null</td><td>null</td><td>null</td><td>null</td><td>null</td><td>null</td><td>null</td><td>null</td><td>null</td><td>null</td><td>null</td><td>null</td><td>null</td><td>null</td><td>null</td><td>null</td><td>null</td><td>null</td><td>null</td><td>null</td><td>null</td><td>null</td><td>null</td><td>null</td><td>null</td><td>null</td><td>null</td><td>null</td><td>null</td><td>null</td><td>null</td><td>null</td><td>null</td><td>null</td><td>null</td><td>null</td><td>null</td><td>null</td><td>null</td><td>null</td><td>null</td><td>null</td><td>null</td><td>null</td><td>null</td><td>null</td><td>null</td><td>null</td><td>null</td><td>null</td><td>null</td><td>null</td><td>null</td><td>null</td><td>null</td><td>null</td><td>null</td><td>null</td><td>null</td><td>null</td><td>null</td><td>null</td><td>null</td><td>null</td><td>null</td><td>null</td><td>null</td><td>null</td><td>null</td><td>null</td><td>null</td><td>null</td><td>null</td><td>null</td><td>null</td><td>null</td><td>null</td><td>null</td><td>null</td><td>null</td><td>null</td><td>null</td><td>null</td><td>null</td><td>null</td><td>e3b0c44298fc1c149...</td></tr>\n",
       "<tr><td>Total amount fund...</td><td>null</td><td>null</td><td>null</td><td>null</td><td>null</td><td>null</td><td>null</td><td>null</td><td>null</td><td>null</td><td>null</td><td>null</td><td>null</td><td>null</td><td>null</td><td>null</td><td>null</td><td>null</td><td>null</td><td>null</td><td>null</td><td>null</td><td>null</td><td>null</td><td>null</td><td>null</td><td>null</td><td>null</td><td>null</td><td>null</td><td>null</td><td>null</td><td>null</td><td>null</td><td>null</td><td>null</td><td>null</td><td>null</td><td>null</td><td>null</td><td>null</td><td>null</td><td>null</td><td>null</td><td>null</td><td>null</td><td>null</td><td>null</td><td>null</td><td>null</td><td>null</td><td>null</td><td>null</td><td>null</td><td>null</td><td>null</td><td>null</td><td>null</td><td>null</td><td>null</td><td>null</td><td>null</td><td>null</td><td>null</td><td>null</td><td>null</td><td>null</td><td>null</td><td>null</td><td>null</td><td>null</td><td>null</td><td>null</td><td>null</td><td>null</td><td>null</td><td>null</td><td>null</td><td>null</td><td>null</td><td>null</td><td>null</td><td>null</td><td>null</td><td>null</td><td>null</td><td>null</td><td>null</td><td>null</td><td>null</td><td>null</td><td>null</td><td>null</td><td>null</td><td>null</td><td>null</td><td>null</td><td>null</td><td>null</td><td>null</td><td>null</td><td>null</td><td>null</td><td>null</td><td>null</td><td>null</td><td>null</td><td>null</td><td>null</td><td>null</td><td>null</td><td>null</td><td>null</td><td>null</td><td>null</td><td>null</td><td>null</td><td>null</td><td>null</td><td>null</td><td>null</td><td>null</td><td>null</td><td>null</td><td>null</td><td>null</td><td>null</td><td>null</td><td>null</td><td>null</td><td>null</td><td>null</td><td>null</td><td>null</td><td>null</td><td>null</td><td>null</td><td>null</td><td>null</td><td>null</td><td>null</td><td>null</td><td>null</td><td>null</td><td>null</td><td>null</td><td>null</td><td>null</td><td>null</td><td>null</td><td>e3b0c44298fc1c149...</td></tr>\n",
       "<tr><td>Total amount fund...</td><td>null</td><td>null</td><td>null</td><td>null</td><td>null</td><td>null</td><td>null</td><td>null</td><td>null</td><td>null</td><td>null</td><td>null</td><td>null</td><td>null</td><td>null</td><td>null</td><td>null</td><td>null</td><td>null</td><td>null</td><td>null</td><td>null</td><td>null</td><td>null</td><td>null</td><td>null</td><td>null</td><td>null</td><td>null</td><td>null</td><td>null</td><td>null</td><td>null</td><td>null</td><td>null</td><td>null</td><td>null</td><td>null</td><td>null</td><td>null</td><td>null</td><td>null</td><td>null</td><td>null</td><td>null</td><td>null</td><td>null</td><td>null</td><td>null</td><td>null</td><td>null</td><td>null</td><td>null</td><td>null</td><td>null</td><td>null</td><td>null</td><td>null</td><td>null</td><td>null</td><td>null</td><td>null</td><td>null</td><td>null</td><td>null</td><td>null</td><td>null</td><td>null</td><td>null</td><td>null</td><td>null</td><td>null</td><td>null</td><td>null</td><td>null</td><td>null</td><td>null</td><td>null</td><td>null</td><td>null</td><td>null</td><td>null</td><td>null</td><td>null</td><td>null</td><td>null</td><td>null</td><td>null</td><td>null</td><td>null</td><td>null</td><td>null</td><td>null</td><td>null</td><td>null</td><td>null</td><td>null</td><td>null</td><td>null</td><td>null</td><td>null</td><td>null</td><td>null</td><td>null</td><td>null</td><td>null</td><td>null</td><td>null</td><td>null</td><td>null</td><td>null</td><td>null</td><td>null</td><td>null</td><td>null</td><td>null</td><td>null</td><td>null</td><td>null</td><td>null</td><td>null</td><td>null</td><td>null</td><td>null</td><td>null</td><td>null</td><td>null</td><td>null</td><td>null</td><td>null</td><td>null</td><td>null</td><td>null</td><td>null</td><td>null</td><td>null</td><td>null</td><td>null</td><td>null</td><td>null</td><td>null</td><td>null</td><td>null</td><td>null</td><td>null</td><td>null</td><td>null</td><td>null</td><td>null</td><td>null</td><td>e3b0c44298fc1c149...</td></tr>\n",
       "<tr><td>Total amount fund...</td><td>null</td><td>null</td><td>null</td><td>null</td><td>null</td><td>null</td><td>null</td><td>null</td><td>null</td><td>null</td><td>null</td><td>null</td><td>null</td><td>null</td><td>null</td><td>null</td><td>null</td><td>null</td><td>null</td><td>null</td><td>null</td><td>null</td><td>null</td><td>null</td><td>null</td><td>null</td><td>null</td><td>null</td><td>null</td><td>null</td><td>null</td><td>null</td><td>null</td><td>null</td><td>null</td><td>null</td><td>null</td><td>null</td><td>null</td><td>null</td><td>null</td><td>null</td><td>null</td><td>null</td><td>null</td><td>null</td><td>null</td><td>null</td><td>null</td><td>null</td><td>null</td><td>null</td><td>null</td><td>null</td><td>null</td><td>null</td><td>null</td><td>null</td><td>null</td><td>null</td><td>null</td><td>null</td><td>null</td><td>null</td><td>null</td><td>null</td><td>null</td><td>null</td><td>null</td><td>null</td><td>null</td><td>null</td><td>null</td><td>null</td><td>null</td><td>null</td><td>null</td><td>null</td><td>null</td><td>null</td><td>null</td><td>null</td><td>null</td><td>null</td><td>null</td><td>null</td><td>null</td><td>null</td><td>null</td><td>null</td><td>null</td><td>null</td><td>null</td><td>null</td><td>null</td><td>null</td><td>null</td><td>null</td><td>null</td><td>null</td><td>null</td><td>null</td><td>null</td><td>null</td><td>null</td><td>null</td><td>null</td><td>null</td><td>null</td><td>null</td><td>null</td><td>null</td><td>null</td><td>null</td><td>null</td><td>null</td><td>null</td><td>null</td><td>null</td><td>null</td><td>null</td><td>null</td><td>null</td><td>null</td><td>null</td><td>null</td><td>null</td><td>null</td><td>null</td><td>null</td><td>null</td><td>null</td><td>null</td><td>null</td><td>null</td><td>null</td><td>null</td><td>null</td><td>null</td><td>null</td><td>null</td><td>null</td><td>null</td><td>null</td><td>null</td><td>null</td><td>null</td><td>null</td><td>null</td><td>null</td><td>e3b0c44298fc1c149...</td></tr>\n",
       "<tr><td>Total amount fund...</td><td>null</td><td>null</td><td>null</td><td>null</td><td>null</td><td>null</td><td>null</td><td>null</td><td>null</td><td>null</td><td>null</td><td>null</td><td>null</td><td>null</td><td>null</td><td>null</td><td>null</td><td>null</td><td>null</td><td>null</td><td>null</td><td>null</td><td>null</td><td>null</td><td>null</td><td>null</td><td>null</td><td>null</td><td>null</td><td>null</td><td>null</td><td>null</td><td>null</td><td>null</td><td>null</td><td>null</td><td>null</td><td>null</td><td>null</td><td>null</td><td>null</td><td>null</td><td>null</td><td>null</td><td>null</td><td>null</td><td>null</td><td>null</td><td>null</td><td>null</td><td>null</td><td>null</td><td>null</td><td>null</td><td>null</td><td>null</td><td>null</td><td>null</td><td>null</td><td>null</td><td>null</td><td>null</td><td>null</td><td>null</td><td>null</td><td>null</td><td>null</td><td>null</td><td>null</td><td>null</td><td>null</td><td>null</td><td>null</td><td>null</td><td>null</td><td>null</td><td>null</td><td>null</td><td>null</td><td>null</td><td>null</td><td>null</td><td>null</td><td>null</td><td>null</td><td>null</td><td>null</td><td>null</td><td>null</td><td>null</td><td>null</td><td>null</td><td>null</td><td>null</td><td>null</td><td>null</td><td>null</td><td>null</td><td>null</td><td>null</td><td>null</td><td>null</td><td>null</td><td>null</td><td>null</td><td>null</td><td>null</td><td>null</td><td>null</td><td>null</td><td>null</td><td>null</td><td>null</td><td>null</td><td>null</td><td>null</td><td>null</td><td>null</td><td>null</td><td>null</td><td>null</td><td>null</td><td>null</td><td>null</td><td>null</td><td>null</td><td>null</td><td>null</td><td>null</td><td>null</td><td>null</td><td>null</td><td>null</td><td>null</td><td>null</td><td>null</td><td>null</td><td>null</td><td>null</td><td>null</td><td>null</td><td>null</td><td>null</td><td>null</td><td>null</td><td>null</td><td>null</td><td>null</td><td>null</td><td>null</td><td>e3b0c44298fc1c149...</td></tr>\n",
       "</table>\n",
       "only showing top 20 rows\n"
      ],
      "text/plain": [
       "+--------------------+---------+---------+-----------+---------------+----+--------+-----------+-----+---------+---------+----------+--------------+----------+-------------------+-------+-----------+----------+----+----+-------+-----+--------+----------+----+-----------+----------------+--------------+---------------+--------------+----------------------+----------------------+--------+-------+---------+----------+---------+-------------------+---------+-------------+-----------+---------------+---------------+-------------+------------------+----------+-----------------------+------------+---------------+------------+------------------+--------------------+-------------------+--------------------------+---------------------------+-----------+----------------+----------------+---------+-------------------------+--------------+------------+-----------+-----------+-----------+-----------+-----------+------------------+------------+-------+-----------+-----------+----------+--------+----------------+------+-----------+------------+--------------------+-----------+--------------+-------+------------------------+-----------+------------------+--------------------+---------------------+--------------+--------+--------------------+------------------------+---------------------+------------------------------+---------------------+--------------+---------------+-----------+---------+---------+-------------+-------------+-------------------+--------+----------------+------------+------------------+------------------+--------------+----------------+--------------------+---------+---------------+-----------------+--------------+--------------------------+---------------+----------------------+-----------------------+------------------------+----------------------+----------------+----------------+------------------+-------------------+---------------------+--------------------------------+----------------------------------+-----------------------------------+-------------+-------------+---------------+---------------+-------------+---------------+-------------------+-----------------+-----------------------+---------------+------------+--------------------+------------------------------------------+------------------------------+----------------------------+-------------------+--------------------+-------------------------+-----------------+---------------+-----------------+---------------------+---------------+--------------------+\n",
       "|                  id|member_id|loan_amnt|funded_amnt|funded_amnt_inv|term|int_rate|installment|grade|sub_grade|emp_title|emp_length|home_ownership|annual_inc|verification_status|issue_d|loan_status|pymnt_plan| url|desc|purpose|title|zip_code|addr_state| dti|delinq_2yrs|earliest_cr_line|fico_range_low|fico_range_high|inq_last_6mths|mths_since_last_delinq|mths_since_last_record|open_acc|pub_rec|revol_bal|revol_util|total_acc|initial_list_status|out_prncp|out_prncp_inv|total_pymnt|total_pymnt_inv|total_rec_prncp|total_rec_int|total_rec_late_fee|recoveries|collection_recovery_fee|last_pymnt_d|last_pymnt_amnt|next_pymnt_d|last_credit_pull_d|last_fico_range_high|last_fico_range_low|collections_12_mths_ex_med|mths_since_last_major_derog|policy_code|application_type|annual_inc_joint|dti_joint|verification_status_joint|acc_now_delinq|tot_coll_amt|tot_cur_bal|open_acc_6m|open_act_il|open_il_12m|open_il_24m|mths_since_rcnt_il|total_bal_il|il_util|open_rv_12m|open_rv_24m|max_bal_bc|all_util|total_rev_hi_lim|inq_fi|total_cu_tl|inq_last_12m|acc_open_past_24mths|avg_cur_bal|bc_open_to_buy|bc_util|chargeoff_within_12_mths|delinq_amnt|mo_sin_old_il_acct|mo_sin_old_rev_tl_op|mo_sin_rcnt_rev_tl_op|mo_sin_rcnt_tl|mort_acc|mths_since_recent_bc|mths_since_recent_bc_dlq|mths_since_recent_inq|mths_since_recent_revol_delinq|num_accts_ever_120_pd|num_actv_bc_tl|num_actv_rev_tl|num_bc_sats|num_bc_tl|num_il_tl|num_op_rev_tl|num_rev_accts|num_rev_tl_bal_gt_0|num_sats|num_tl_120dpd_2m|num_tl_30dpd|num_tl_90g_dpd_24m|num_tl_op_past_12m|pct_tl_nvr_dlq|percent_bc_gt_75|pub_rec_bankruptcies|tax_liens|tot_hi_cred_lim|total_bal_ex_mort|total_bc_limit|total_il_high_credit_limit|revol_bal_joint|sec_app_fico_range_low|sec_app_fico_range_high|sec_app_earliest_cr_line|sec_app_inq_last_6mths|sec_app_mort_acc|sec_app_open_acc|sec_app_revol_util|sec_app_open_act_il|sec_app_num_rev_accts|sec_app_chargeoff_within_12_mths|sec_app_collections_12_mths_ex_med|sec_app_mths_since_last_major_derog|hardship_flag|hardship_type|hardship_reason|hardship_status|deferral_term|hardship_amount|hardship_start_date|hardship_end_date|payment_plan_start_date|hardship_length|hardship_dpd|hardship_loan_status|orig_projected_additional_accrued_interest|hardship_payoff_balance_amount|hardship_last_payment_amount|disbursement_method|debt_settlement_flag|debt_settlement_flag_date|settlement_status|settlement_date|settlement_amount|settlement_percentage|settlement_term|           name_sha2|\n",
       "+--------------------+---------+---------+-----------+---------------+----+--------+-----------+-----+---------+---------+----------+--------------+----------+-------------------+-------+-----------+----------+----+----+-------+-----+--------+----------+----+-----------+----------------+--------------+---------------+--------------+----------------------+----------------------+--------+-------+---------+----------+---------+-------------------+---------+-------------+-----------+---------------+---------------+-------------+------------------+----------+-----------------------+------------+---------------+------------+------------------+--------------------+-------------------+--------------------------+---------------------------+-----------+----------------+----------------+---------+-------------------------+--------------+------------+-----------+-----------+-----------+-----------+-----------+------------------+------------+-------+-----------+-----------+----------+--------+----------------+------+-----------+------------+--------------------+-----------+--------------+-------+------------------------+-----------+------------------+--------------------+---------------------+--------------+--------+--------------------+------------------------+---------------------+------------------------------+---------------------+--------------+---------------+-----------+---------+---------+-------------+-------------+-------------------+--------+----------------+------------+------------------+------------------+--------------+----------------+--------------------+---------+---------------+-----------------+--------------+--------------------------+---------------+----------------------+-----------------------+------------------------+----------------------+----------------+----------------+------------------+-------------------+---------------------+--------------------------------+----------------------------------+-----------------------------------+-------------+-------------+---------------+---------------+-------------+---------------+-------------------+-----------------+-----------------------+---------------+------------+--------------------+------------------------------------------+------------------------------+----------------------------+-------------------+--------------------+-------------------------+-----------------+---------------+-----------------+---------------------+---------------+--------------------+\n",
       "|Total amount fund...|     null|     null|       null|           null|null|    null|       null| null|     null|     null|      null|          null|      null|               null|   null|       null|      null|null|null|   null| null|    null|      null|null|       null|            null|          null|           null|          null|                  null|                  null|    null|   null|     null|      null|     null|               null|     null|         null|       null|           null|           null|         null|              null|      null|                   null|        null|           null|        null|              null|                null|               null|                      null|                       null|       null|            null|            null|     null|                     null|          null|        null|       null|       null|       null|       null|       null|              null|        null|   null|       null|       null|      null|    null|            null|  null|       null|        null|                null|       null|          null|   null|                    null|       null|              null|                null|                 null|          null|    null|                null|                    null|                 null|                          null|                 null|          null|           null|       null|     null|     null|         null|         null|               null|    null|            null|        null|              null|              null|          null|            null|                null|     null|           null|             null|          null|                      null|           null|                  null|                   null|                    null|                  null|            null|            null|              null|               null|                 null|                            null|                              null|                               null|         null|         null|           null|           null|         null|           null|               null|             null|                   null|           null|        null|                null|                                      null|                          null|                        null|               null|                null|                     null|             null|           null|             null|                 null|           null|e3b0c44298fc1c149...|\n",
       "|Total amount fund...|     null|     null|       null|           null|null|    null|       null| null|     null|     null|      null|          null|      null|               null|   null|       null|      null|null|null|   null| null|    null|      null|null|       null|            null|          null|           null|          null|                  null|                  null|    null|   null|     null|      null|     null|               null|     null|         null|       null|           null|           null|         null|              null|      null|                   null|        null|           null|        null|              null|                null|               null|                      null|                       null|       null|            null|            null|     null|                     null|          null|        null|       null|       null|       null|       null|       null|              null|        null|   null|       null|       null|      null|    null|            null|  null|       null|        null|                null|       null|          null|   null|                    null|       null|              null|                null|                 null|          null|    null|                null|                    null|                 null|                          null|                 null|          null|           null|       null|     null|     null|         null|         null|               null|    null|            null|        null|              null|              null|          null|            null|                null|     null|           null|             null|          null|                      null|           null|                  null|                   null|                    null|                  null|            null|            null|              null|               null|                 null|                            null|                              null|                               null|         null|         null|           null|           null|         null|           null|               null|             null|                   null|           null|        null|                null|                                      null|                          null|                        null|               null|                null|                     null|             null|           null|             null|                 null|           null|e3b0c44298fc1c149...|\n",
       "|Total amount fund...|     null|     null|       null|           null|null|    null|       null| null|     null|     null|      null|          null|      null|               null|   null|       null|      null|null|null|   null| null|    null|      null|null|       null|            null|          null|           null|          null|                  null|                  null|    null|   null|     null|      null|     null|               null|     null|         null|       null|           null|           null|         null|              null|      null|                   null|        null|           null|        null|              null|                null|               null|                      null|                       null|       null|            null|            null|     null|                     null|          null|        null|       null|       null|       null|       null|       null|              null|        null|   null|       null|       null|      null|    null|            null|  null|       null|        null|                null|       null|          null|   null|                    null|       null|              null|                null|                 null|          null|    null|                null|                    null|                 null|                          null|                 null|          null|           null|       null|     null|     null|         null|         null|               null|    null|            null|        null|              null|              null|          null|            null|                null|     null|           null|             null|          null|                      null|           null|                  null|                   null|                    null|                  null|            null|            null|              null|               null|                 null|                            null|                              null|                               null|         null|         null|           null|           null|         null|           null|               null|             null|                   null|           null|        null|                null|                                      null|                          null|                        null|               null|                null|                     null|             null|           null|             null|                 null|           null|e3b0c44298fc1c149...|\n",
       "|Total amount fund...|     null|     null|       null|           null|null|    null|       null| null|     null|     null|      null|          null|      null|               null|   null|       null|      null|null|null|   null| null|    null|      null|null|       null|            null|          null|           null|          null|                  null|                  null|    null|   null|     null|      null|     null|               null|     null|         null|       null|           null|           null|         null|              null|      null|                   null|        null|           null|        null|              null|                null|               null|                      null|                       null|       null|            null|            null|     null|                     null|          null|        null|       null|       null|       null|       null|       null|              null|        null|   null|       null|       null|      null|    null|            null|  null|       null|        null|                null|       null|          null|   null|                    null|       null|              null|                null|                 null|          null|    null|                null|                    null|                 null|                          null|                 null|          null|           null|       null|     null|     null|         null|         null|               null|    null|            null|        null|              null|              null|          null|            null|                null|     null|           null|             null|          null|                      null|           null|                  null|                   null|                    null|                  null|            null|            null|              null|               null|                 null|                            null|                              null|                               null|         null|         null|           null|           null|         null|           null|               null|             null|                   null|           null|        null|                null|                                      null|                          null|                        null|               null|                null|                     null|             null|           null|             null|                 null|           null|e3b0c44298fc1c149...|\n",
       "|Total amount fund...|     null|     null|       null|           null|null|    null|       null| null|     null|     null|      null|          null|      null|               null|   null|       null|      null|null|null|   null| null|    null|      null|null|       null|            null|          null|           null|          null|                  null|                  null|    null|   null|     null|      null|     null|               null|     null|         null|       null|           null|           null|         null|              null|      null|                   null|        null|           null|        null|              null|                null|               null|                      null|                       null|       null|            null|            null|     null|                     null|          null|        null|       null|       null|       null|       null|       null|              null|        null|   null|       null|       null|      null|    null|            null|  null|       null|        null|                null|       null|          null|   null|                    null|       null|              null|                null|                 null|          null|    null|                null|                    null|                 null|                          null|                 null|          null|           null|       null|     null|     null|         null|         null|               null|    null|            null|        null|              null|              null|          null|            null|                null|     null|           null|             null|          null|                      null|           null|                  null|                   null|                    null|                  null|            null|            null|              null|               null|                 null|                            null|                              null|                               null|         null|         null|           null|           null|         null|           null|               null|             null|                   null|           null|        null|                null|                                      null|                          null|                        null|               null|                null|                     null|             null|           null|             null|                 null|           null|e3b0c44298fc1c149...|\n",
       "|Total amount fund...|     null|     null|       null|           null|null|    null|       null| null|     null|     null|      null|          null|      null|               null|   null|       null|      null|null|null|   null| null|    null|      null|null|       null|            null|          null|           null|          null|                  null|                  null|    null|   null|     null|      null|     null|               null|     null|         null|       null|           null|           null|         null|              null|      null|                   null|        null|           null|        null|              null|                null|               null|                      null|                       null|       null|            null|            null|     null|                     null|          null|        null|       null|       null|       null|       null|       null|              null|        null|   null|       null|       null|      null|    null|            null|  null|       null|        null|                null|       null|          null|   null|                    null|       null|              null|                null|                 null|          null|    null|                null|                    null|                 null|                          null|                 null|          null|           null|       null|     null|     null|         null|         null|               null|    null|            null|        null|              null|              null|          null|            null|                null|     null|           null|             null|          null|                      null|           null|                  null|                   null|                    null|                  null|            null|            null|              null|               null|                 null|                            null|                              null|                               null|         null|         null|           null|           null|         null|           null|               null|             null|                   null|           null|        null|                null|                                      null|                          null|                        null|               null|                null|                     null|             null|           null|             null|                 null|           null|e3b0c44298fc1c149...|\n",
       "|Total amount fund...|     null|     null|       null|           null|null|    null|       null| null|     null|     null|      null|          null|      null|               null|   null|       null|      null|null|null|   null| null|    null|      null|null|       null|            null|          null|           null|          null|                  null|                  null|    null|   null|     null|      null|     null|               null|     null|         null|       null|           null|           null|         null|              null|      null|                   null|        null|           null|        null|              null|                null|               null|                      null|                       null|       null|            null|            null|     null|                     null|          null|        null|       null|       null|       null|       null|       null|              null|        null|   null|       null|       null|      null|    null|            null|  null|       null|        null|                null|       null|          null|   null|                    null|       null|              null|                null|                 null|          null|    null|                null|                    null|                 null|                          null|                 null|          null|           null|       null|     null|     null|         null|         null|               null|    null|            null|        null|              null|              null|          null|            null|                null|     null|           null|             null|          null|                      null|           null|                  null|                   null|                    null|                  null|            null|            null|              null|               null|                 null|                            null|                              null|                               null|         null|         null|           null|           null|         null|           null|               null|             null|                   null|           null|        null|                null|                                      null|                          null|                        null|               null|                null|                     null|             null|           null|             null|                 null|           null|e3b0c44298fc1c149...|\n",
       "|Total amount fund...|     null|     null|       null|           null|null|    null|       null| null|     null|     null|      null|          null|      null|               null|   null|       null|      null|null|null|   null| null|    null|      null|null|       null|            null|          null|           null|          null|                  null|                  null|    null|   null|     null|      null|     null|               null|     null|         null|       null|           null|           null|         null|              null|      null|                   null|        null|           null|        null|              null|                null|               null|                      null|                       null|       null|            null|            null|     null|                     null|          null|        null|       null|       null|       null|       null|       null|              null|        null|   null|       null|       null|      null|    null|            null|  null|       null|        null|                null|       null|          null|   null|                    null|       null|              null|                null|                 null|          null|    null|                null|                    null|                 null|                          null|                 null|          null|           null|       null|     null|     null|         null|         null|               null|    null|            null|        null|              null|              null|          null|            null|                null|     null|           null|             null|          null|                      null|           null|                  null|                   null|                    null|                  null|            null|            null|              null|               null|                 null|                            null|                              null|                               null|         null|         null|           null|           null|         null|           null|               null|             null|                   null|           null|        null|                null|                                      null|                          null|                        null|               null|                null|                     null|             null|           null|             null|                 null|           null|e3b0c44298fc1c149...|\n",
       "|Total amount fund...|     null|     null|       null|           null|null|    null|       null| null|     null|     null|      null|          null|      null|               null|   null|       null|      null|null|null|   null| null|    null|      null|null|       null|            null|          null|           null|          null|                  null|                  null|    null|   null|     null|      null|     null|               null|     null|         null|       null|           null|           null|         null|              null|      null|                   null|        null|           null|        null|              null|                null|               null|                      null|                       null|       null|            null|            null|     null|                     null|          null|        null|       null|       null|       null|       null|       null|              null|        null|   null|       null|       null|      null|    null|            null|  null|       null|        null|                null|       null|          null|   null|                    null|       null|              null|                null|                 null|          null|    null|                null|                    null|                 null|                          null|                 null|          null|           null|       null|     null|     null|         null|         null|               null|    null|            null|        null|              null|              null|          null|            null|                null|     null|           null|             null|          null|                      null|           null|                  null|                   null|                    null|                  null|            null|            null|              null|               null|                 null|                            null|                              null|                               null|         null|         null|           null|           null|         null|           null|               null|             null|                   null|           null|        null|                null|                                      null|                          null|                        null|               null|                null|                     null|             null|           null|             null|                 null|           null|e3b0c44298fc1c149...|\n",
       "|Total amount fund...|     null|     null|       null|           null|null|    null|       null| null|     null|     null|      null|          null|      null|               null|   null|       null|      null|null|null|   null| null|    null|      null|null|       null|            null|          null|           null|          null|                  null|                  null|    null|   null|     null|      null|     null|               null|     null|         null|       null|           null|           null|         null|              null|      null|                   null|        null|           null|        null|              null|                null|               null|                      null|                       null|       null|            null|            null|     null|                     null|          null|        null|       null|       null|       null|       null|       null|              null|        null|   null|       null|       null|      null|    null|            null|  null|       null|        null|                null|       null|          null|   null|                    null|       null|              null|                null|                 null|          null|    null|                null|                    null|                 null|                          null|                 null|          null|           null|       null|     null|     null|         null|         null|               null|    null|            null|        null|              null|              null|          null|            null|                null|     null|           null|             null|          null|                      null|           null|                  null|                   null|                    null|                  null|            null|            null|              null|               null|                 null|                            null|                              null|                               null|         null|         null|           null|           null|         null|           null|               null|             null|                   null|           null|        null|                null|                                      null|                          null|                        null|               null|                null|                     null|             null|           null|             null|                 null|           null|e3b0c44298fc1c149...|\n",
       "|Total amount fund...|     null|     null|       null|           null|null|    null|       null| null|     null|     null|      null|          null|      null|               null|   null|       null|      null|null|null|   null| null|    null|      null|null|       null|            null|          null|           null|          null|                  null|                  null|    null|   null|     null|      null|     null|               null|     null|         null|       null|           null|           null|         null|              null|      null|                   null|        null|           null|        null|              null|                null|               null|                      null|                       null|       null|            null|            null|     null|                     null|          null|        null|       null|       null|       null|       null|       null|              null|        null|   null|       null|       null|      null|    null|            null|  null|       null|        null|                null|       null|          null|   null|                    null|       null|              null|                null|                 null|          null|    null|                null|                    null|                 null|                          null|                 null|          null|           null|       null|     null|     null|         null|         null|               null|    null|            null|        null|              null|              null|          null|            null|                null|     null|           null|             null|          null|                      null|           null|                  null|                   null|                    null|                  null|            null|            null|              null|               null|                 null|                            null|                              null|                               null|         null|         null|           null|           null|         null|           null|               null|             null|                   null|           null|        null|                null|                                      null|                          null|                        null|               null|                null|                     null|             null|           null|             null|                 null|           null|e3b0c44298fc1c149...|\n",
       "|Total amount fund...|     null|     null|       null|           null|null|    null|       null| null|     null|     null|      null|          null|      null|               null|   null|       null|      null|null|null|   null| null|    null|      null|null|       null|            null|          null|           null|          null|                  null|                  null|    null|   null|     null|      null|     null|               null|     null|         null|       null|           null|           null|         null|              null|      null|                   null|        null|           null|        null|              null|                null|               null|                      null|                       null|       null|            null|            null|     null|                     null|          null|        null|       null|       null|       null|       null|       null|              null|        null|   null|       null|       null|      null|    null|            null|  null|       null|        null|                null|       null|          null|   null|                    null|       null|              null|                null|                 null|          null|    null|                null|                    null|                 null|                          null|                 null|          null|           null|       null|     null|     null|         null|         null|               null|    null|            null|        null|              null|              null|          null|            null|                null|     null|           null|             null|          null|                      null|           null|                  null|                   null|                    null|                  null|            null|            null|              null|               null|                 null|                            null|                              null|                               null|         null|         null|           null|           null|         null|           null|               null|             null|                   null|           null|        null|                null|                                      null|                          null|                        null|               null|                null|                     null|             null|           null|             null|                 null|           null|e3b0c44298fc1c149...|\n",
       "|Total amount fund...|     null|     null|       null|           null|null|    null|       null| null|     null|     null|      null|          null|      null|               null|   null|       null|      null|null|null|   null| null|    null|      null|null|       null|            null|          null|           null|          null|                  null|                  null|    null|   null|     null|      null|     null|               null|     null|         null|       null|           null|           null|         null|              null|      null|                   null|        null|           null|        null|              null|                null|               null|                      null|                       null|       null|            null|            null|     null|                     null|          null|        null|       null|       null|       null|       null|       null|              null|        null|   null|       null|       null|      null|    null|            null|  null|       null|        null|                null|       null|          null|   null|                    null|       null|              null|                null|                 null|          null|    null|                null|                    null|                 null|                          null|                 null|          null|           null|       null|     null|     null|         null|         null|               null|    null|            null|        null|              null|              null|          null|            null|                null|     null|           null|             null|          null|                      null|           null|                  null|                   null|                    null|                  null|            null|            null|              null|               null|                 null|                            null|                              null|                               null|         null|         null|           null|           null|         null|           null|               null|             null|                   null|           null|        null|                null|                                      null|                          null|                        null|               null|                null|                     null|             null|           null|             null|                 null|           null|e3b0c44298fc1c149...|\n",
       "|Total amount fund...|     null|     null|       null|           null|null|    null|       null| null|     null|     null|      null|          null|      null|               null|   null|       null|      null|null|null|   null| null|    null|      null|null|       null|            null|          null|           null|          null|                  null|                  null|    null|   null|     null|      null|     null|               null|     null|         null|       null|           null|           null|         null|              null|      null|                   null|        null|           null|        null|              null|                null|               null|                      null|                       null|       null|            null|            null|     null|                     null|          null|        null|       null|       null|       null|       null|       null|              null|        null|   null|       null|       null|      null|    null|            null|  null|       null|        null|                null|       null|          null|   null|                    null|       null|              null|                null|                 null|          null|    null|                null|                    null|                 null|                          null|                 null|          null|           null|       null|     null|     null|         null|         null|               null|    null|            null|        null|              null|              null|          null|            null|                null|     null|           null|             null|          null|                      null|           null|                  null|                   null|                    null|                  null|            null|            null|              null|               null|                 null|                            null|                              null|                               null|         null|         null|           null|           null|         null|           null|               null|             null|                   null|           null|        null|                null|                                      null|                          null|                        null|               null|                null|                     null|             null|           null|             null|                 null|           null|e3b0c44298fc1c149...|\n",
       "|Total amount fund...|     null|     null|       null|           null|null|    null|       null| null|     null|     null|      null|          null|      null|               null|   null|       null|      null|null|null|   null| null|    null|      null|null|       null|            null|          null|           null|          null|                  null|                  null|    null|   null|     null|      null|     null|               null|     null|         null|       null|           null|           null|         null|              null|      null|                   null|        null|           null|        null|              null|                null|               null|                      null|                       null|       null|            null|            null|     null|                     null|          null|        null|       null|       null|       null|       null|       null|              null|        null|   null|       null|       null|      null|    null|            null|  null|       null|        null|                null|       null|          null|   null|                    null|       null|              null|                null|                 null|          null|    null|                null|                    null|                 null|                          null|                 null|          null|           null|       null|     null|     null|         null|         null|               null|    null|            null|        null|              null|              null|          null|            null|                null|     null|           null|             null|          null|                      null|           null|                  null|                   null|                    null|                  null|            null|            null|              null|               null|                 null|                            null|                              null|                               null|         null|         null|           null|           null|         null|           null|               null|             null|                   null|           null|        null|                null|                                      null|                          null|                        null|               null|                null|                     null|             null|           null|             null|                 null|           null|e3b0c44298fc1c149...|\n",
       "|Total amount fund...|     null|     null|       null|           null|null|    null|       null| null|     null|     null|      null|          null|      null|               null|   null|       null|      null|null|null|   null| null|    null|      null|null|       null|            null|          null|           null|          null|                  null|                  null|    null|   null|     null|      null|     null|               null|     null|         null|       null|           null|           null|         null|              null|      null|                   null|        null|           null|        null|              null|                null|               null|                      null|                       null|       null|            null|            null|     null|                     null|          null|        null|       null|       null|       null|       null|       null|              null|        null|   null|       null|       null|      null|    null|            null|  null|       null|        null|                null|       null|          null|   null|                    null|       null|              null|                null|                 null|          null|    null|                null|                    null|                 null|                          null|                 null|          null|           null|       null|     null|     null|         null|         null|               null|    null|            null|        null|              null|              null|          null|            null|                null|     null|           null|             null|          null|                      null|           null|                  null|                   null|                    null|                  null|            null|            null|              null|               null|                 null|                            null|                              null|                               null|         null|         null|           null|           null|         null|           null|               null|             null|                   null|           null|        null|                null|                                      null|                          null|                        null|               null|                null|                     null|             null|           null|             null|                 null|           null|e3b0c44298fc1c149...|\n",
       "|Total amount fund...|     null|     null|       null|           null|null|    null|       null| null|     null|     null|      null|          null|      null|               null|   null|       null|      null|null|null|   null| null|    null|      null|null|       null|            null|          null|           null|          null|                  null|                  null|    null|   null|     null|      null|     null|               null|     null|         null|       null|           null|           null|         null|              null|      null|                   null|        null|           null|        null|              null|                null|               null|                      null|                       null|       null|            null|            null|     null|                     null|          null|        null|       null|       null|       null|       null|       null|              null|        null|   null|       null|       null|      null|    null|            null|  null|       null|        null|                null|       null|          null|   null|                    null|       null|              null|                null|                 null|          null|    null|                null|                    null|                 null|                          null|                 null|          null|           null|       null|     null|     null|         null|         null|               null|    null|            null|        null|              null|              null|          null|            null|                null|     null|           null|             null|          null|                      null|           null|                  null|                   null|                    null|                  null|            null|            null|              null|               null|                 null|                            null|                              null|                               null|         null|         null|           null|           null|         null|           null|               null|             null|                   null|           null|        null|                null|                                      null|                          null|                        null|               null|                null|                     null|             null|           null|             null|                 null|           null|e3b0c44298fc1c149...|\n",
       "|Total amount fund...|     null|     null|       null|           null|null|    null|       null| null|     null|     null|      null|          null|      null|               null|   null|       null|      null|null|null|   null| null|    null|      null|null|       null|            null|          null|           null|          null|                  null|                  null|    null|   null|     null|      null|     null|               null|     null|         null|       null|           null|           null|         null|              null|      null|                   null|        null|           null|        null|              null|                null|               null|                      null|                       null|       null|            null|            null|     null|                     null|          null|        null|       null|       null|       null|       null|       null|              null|        null|   null|       null|       null|      null|    null|            null|  null|       null|        null|                null|       null|          null|   null|                    null|       null|              null|                null|                 null|          null|    null|                null|                    null|                 null|                          null|                 null|          null|           null|       null|     null|     null|         null|         null|               null|    null|            null|        null|              null|              null|          null|            null|                null|     null|           null|             null|          null|                      null|           null|                  null|                   null|                    null|                  null|            null|            null|              null|               null|                 null|                            null|                              null|                               null|         null|         null|           null|           null|         null|           null|               null|             null|                   null|           null|        null|                null|                                      null|                          null|                        null|               null|                null|                     null|             null|           null|             null|                 null|           null|e3b0c44298fc1c149...|\n",
       "|Total amount fund...|     null|     null|       null|           null|null|    null|       null| null|     null|     null|      null|          null|      null|               null|   null|       null|      null|null|null|   null| null|    null|      null|null|       null|            null|          null|           null|          null|                  null|                  null|    null|   null|     null|      null|     null|               null|     null|         null|       null|           null|           null|         null|              null|      null|                   null|        null|           null|        null|              null|                null|               null|                      null|                       null|       null|            null|            null|     null|                     null|          null|        null|       null|       null|       null|       null|       null|              null|        null|   null|       null|       null|      null|    null|            null|  null|       null|        null|                null|       null|          null|   null|                    null|       null|              null|                null|                 null|          null|    null|                null|                    null|                 null|                          null|                 null|          null|           null|       null|     null|     null|         null|         null|               null|    null|            null|        null|              null|              null|          null|            null|                null|     null|           null|             null|          null|                      null|           null|                  null|                   null|                    null|                  null|            null|            null|              null|               null|                 null|                            null|                              null|                               null|         null|         null|           null|           null|         null|           null|               null|             null|                   null|           null|        null|                null|                                      null|                          null|                        null|               null|                null|                     null|             null|           null|             null|                 null|           null|e3b0c44298fc1c149...|\n",
       "|Total amount fund...|     null|     null|       null|           null|null|    null|       null| null|     null|     null|      null|          null|      null|               null|   null|       null|      null|null|null|   null| null|    null|      null|null|       null|            null|          null|           null|          null|                  null|                  null|    null|   null|     null|      null|     null|               null|     null|         null|       null|           null|           null|         null|              null|      null|                   null|        null|           null|        null|              null|                null|               null|                      null|                       null|       null|            null|            null|     null|                     null|          null|        null|       null|       null|       null|       null|       null|              null|        null|   null|       null|       null|      null|    null|            null|  null|       null|        null|                null|       null|          null|   null|                    null|       null|              null|                null|                 null|          null|    null|                null|                    null|                 null|                          null|                 null|          null|           null|       null|     null|     null|         null|         null|               null|    null|            null|        null|              null|              null|          null|            null|                null|     null|           null|             null|          null|                      null|           null|                  null|                   null|                    null|                  null|            null|            null|              null|               null|                 null|                            null|                              null|                               null|         null|         null|           null|           null|         null|           null|               null|             null|                   null|           null|        null|                null|                                      null|                          null|                        null|               null|                null|                     null|             null|           null|             null|                 null|           null|e3b0c44298fc1c149...|\n",
       "+--------------------+---------+---------+-----------+---------------+----+--------+-----------+-----+---------+---------+----------+--------------+----------+-------------------+-------+-----------+----------+----+----+-------+-----+--------+----------+----+-----------+----------------+--------------+---------------+--------------+----------------------+----------------------+--------+-------+---------+----------+---------+-------------------+---------+-------------+-----------+---------------+---------------+-------------+------------------+----------+-----------------------+------------+---------------+------------+------------------+--------------------+-------------------+--------------------------+---------------------------+-----------+----------------+----------------+---------+-------------------------+--------------+------------+-----------+-----------+-----------+-----------+-----------+------------------+------------+-------+-----------+-----------+----------+--------+----------------+------+-----------+------------+--------------------+-----------+--------------+-------+------------------------+-----------+------------------+--------------------+---------------------+--------------+--------+--------------------+------------------------+---------------------+------------------------------+---------------------+--------------+---------------+-----------+---------+---------+-------------+-------------+-------------------+--------+----------------+------------+------------------+------------------+--------------+----------------+--------------------+---------+---------------+-----------------+--------------+--------------------------+---------------+----------------------+-----------------------+------------------------+----------------------+----------------+----------------+------------------+-------------------+---------------------+--------------------------------+----------------------------------+-----------------------------------+-------------+-------------+---------------+---------------+-------------+---------------+-------------------+-----------------+-----------------------+---------------+------------+--------------------+------------------------------------------+------------------------------+----------------------------+-------------------+--------------------+-------------------------+-----------------+---------------+-----------------+---------------------+---------------+--------------------+\n",
       "only showing top 20 rows"
      ]
     },
     "execution_count": 16,
     "metadata": {},
     "output_type": "execute_result"
    }
   ],
   "source": [
    "# something is wrong in first record\n",
    "spark.sql(\"select * from newtable where name_sha2 like 'e3b0c44298fc1c149%'\")"
   ]
  },
  {
   "cell_type": "markdown",
   "metadata": {
    "application/vnd.databricks.v1+cell": {
     "cellMetadata": {},
     "inputWidgets": {},
     "nuid": "611ea5fb-71f8-4e9b-b539-a65ecbeee418",
     "showTitle": false,
     "title": ""
    }
   },
   "source": [
    "Like I said above, all the columns have NULL values. In order to tackle this, I will diregard these datas from my actual analytical data"
   ]
  },
  {
   "cell_type": "code",
   "execution_count": 0,
   "metadata": {
    "application/vnd.databricks.v1+cell": {
     "cellMetadata": {},
     "inputWidgets": {},
     "nuid": "e5b25cf2-bc54-4b42-8831-14be2134091a",
     "showTitle": false,
     "title": ""
    }
   },
   "outputs": [
    {
     "output_type": "stream",
     "name": "stdout",
     "output_type": "stream",
     "text": [
      "mkdir: `/user/itv008542/lendingclubproject': File exists\n"
     ]
    }
   ],
   "source": [
    "! hadoop fs -mkdir /user/itv008542/lendingclubproject"
   ]
  },
  {
   "cell_type": "code",
   "execution_count": 0,
   "metadata": {
    "application/vnd.databricks.v1+cell": {
     "cellMetadata": {},
     "inputWidgets": {},
     "nuid": "82f026ce-ca91-4fa0-92fd-76d7c3c4b1a8",
     "showTitle": false,
     "title": ""
    }
   },
   "outputs": [],
   "source": [
    "! hadoop fs -mkdir /user/itv008542/lendingclubproject/raw"
   ]
  },
  {
   "cell_type": "code",
   "execution_count": 0,
   "metadata": {
    "application/vnd.databricks.v1+cell": {
     "cellMetadata": {},
     "inputWidgets": {},
     "nuid": "5e8d6d02-fa65-4341-b33b-f976da9490e7",
     "showTitle": false,
     "title": ""
    }
   },
   "outputs": [
    {
     "output_type": "stream",
     "name": "stdout",
     "output_type": "stream",
     "text": [
      "Found 1 items\ndrwxr-xr-x   - itv008542 supergroup          0 2024-02-06 12:00 /user/itv008542/lendingclubproject/raw\n"
     ]
    }
   ],
   "source": [
    "! hadoop fs -ls /user/itv008542/lendingclubproject"
   ]
  },
  {
   "cell_type": "code",
   "execution_count": 0,
   "metadata": {
    "application/vnd.databricks.v1+cell": {
     "cellMetadata": {},
     "inputWidgets": {},
     "nuid": "537b1fbb-c662-4515-90e9-b7d4b73437b5",
     "showTitle": false,
     "title": ""
    }
   },
   "outputs": [],
   "source": [
    "! hadoop fs -ls /user/itv008542/lendingclubproject/raw"
   ]
  },
  {
   "cell_type": "markdown",
   "metadata": {
    "application/vnd.databricks.v1+cell": {
     "cellMetadata": {},
     "inputWidgets": {},
     "nuid": "a361dfe7-3e4f-4347-b997-05d3d972674c",
     "showTitle": false,
     "title": ""
    }
   },
   "source": [
    "Generate Customer File"
   ]
  },
  {
   "cell_type": "code",
   "execution_count": 0,
   "metadata": {
    "application/vnd.databricks.v1+cell": {
     "cellMetadata": {},
     "inputWidgets": {},
     "nuid": "ac33416c-c095-4ffe-8bb7-7f180a03f6a1",
     "showTitle": false,
     "title": ""
    }
   },
   "outputs": [],
   "source": [
    "# Create customers table from the main table\n",
    "spark.sql(\"\"\"select name_sha2 as member_id,emp_title,emp_length,home_ownership,annual_inc,addr_state,zip_code,'USA' as country,grade,sub_grade,\n",
    "verification_status,tot_hi_cred_lim,application_type,annual_inc_joint,verification_status_joint \n",
    "from newtable\"\"\").repartition(1).write \\\n",
    ".option(\"header\",True) \\\n",
    ".format(\"csv\") \\\n",
    ".mode(\"overwrite\") \\\n",
    ".option(\"path\", \"/user/itv008542/lendingclubproject/raw/customers_data_csv\") \\\n",
    ".save()"
   ]
  },
  {
   "cell_type": "code",
   "execution_count": 0,
   "metadata": {
    "application/vnd.databricks.v1+cell": {
     "cellMetadata": {},
     "inputWidgets": {},
     "nuid": "f8940b87-6554-40ac-9c49-8f0d6f27b4fe",
     "showTitle": false,
     "title": ""
    }
   },
   "outputs": [
    {
     "output_type": "stream",
     "name": "stdout",
     "output_type": "stream",
     "text": [
      "Found 1 items\ndrwxr-xr-x   - itv008542 supergroup          0 2024-02-06 12:12 /user/itv008542/lendingclubproject/raw/customers_data_csv\n"
     ]
    }
   ],
   "source": [
    "! hadoop fs -ls /user/itv008542/lendingclubproject/raw"
   ]
  },
  {
   "cell_type": "code",
   "execution_count": 0,
   "metadata": {
    "application/vnd.databricks.v1+cell": {
     "cellMetadata": {},
     "inputWidgets": {},
     "nuid": "979e4658-fb70-4da5-89cc-facb1c9b3073",
     "showTitle": false,
     "title": ""
    }
   },
   "outputs": [
    {
     "output_type": "stream",
     "name": "stdout",
     "output_type": "stream",
     "text": [
      "Found 2 items\n-rw-r--r--   3 itv008542 supergroup          0 2024-02-06 12:12 /user/itv008542/lendingclubproject/raw/customers_data_csv/_SUCCESS\n-rw-r--r--   3 itv008542 supergroup    347.4 M 2024-02-06 12:12 /user/itv008542/lendingclubproject/raw/customers_data_csv/part-00000-60267e36-3d96-4d76-8d72-298574be6575-c000.csv\n"
     ]
    }
   ],
   "source": [
    "! hadoop fs -ls -h /user/itv008542/lendingclubproject/raw/customers_data_csv"
   ]
  },
  {
   "cell_type": "code",
   "execution_count": 0,
   "metadata": {
    "application/vnd.databricks.v1+cell": {
     "cellMetadata": {},
     "inputWidgets": {},
     "nuid": "ff453239-d565-4273-ac72-ed21157f5e42",
     "showTitle": false,
     "title": ""
    }
   },
   "outputs": [],
   "source": [
    "# Load the recently save customer data and check\n",
    "customers_df = spark.read \\\n",
    ".format(\"csv\") \\\n",
    ".option(\"InferSchema\",\"true\") \\\n",
    ".option(\"header\",\"true\") \\\n",
    ".load(\"/user/itv008542/lendingclubproject/raw/customers_data_csv\")"
   ]
  },
  {
   "cell_type": "code",
   "execution_count": 0,
   "metadata": {
    "application/vnd.databricks.v1+cell": {
     "cellMetadata": {},
     "inputWidgets": {},
     "nuid": "ca840208-5974-458d-88b3-07d47ddf54eb",
     "showTitle": false,
     "title": ""
    }
   },
   "outputs": [
    {
     "output_type": "execute_result",
     "data": {
      "text/html": [
       "<table border='1'>\n",
       "<tr><th>member_id</th><th>emp_title</th><th>emp_length</th><th>home_ownership</th><th>annual_inc</th><th>addr_state</th><th>zip_code</th><th>country</th><th>grade</th><th>sub_grade</th><th>verification_status</th><th>tot_hi_cred_lim</th><th>application_type</th><th>annual_inc_joint</th><th>verification_status_joint</th></tr>\n",
       "<tr><td>2209556c19f75a204...</td><td>secretary</td><td>7 years</td><td>MORTGAGE</td><td>54000.0</td><td>MO</td><td>656xx</td><td>USA</td><td>B</td><td>B4</td><td>Source Verified</td><td>61451.0</td><td>Individual</td><td>null</td><td>null</td></tr>\n",
       "<tr><td>9d0d53b8de898b446...</td><td>Postman</td><td>10+ years</td><td>MORTGAGE</td><td>60000.0</td><td>GA</td><td>300xx</td><td>USA</td><td>C</td><td>C1</td><td>Not Verified</td><td>337263.0</td><td>Individual</td><td>null</td><td>null</td></tr>\n",
       "<tr><td>1a978870f4a9b4b43...</td><td>Communication man...</td><td>10+ years</td><td>MORTGAGE</td><td>90754.0</td><td>NY</td><td>136xx</td><td>USA</td><td>A</td><td>A4</td><td>Not Verified</td><td>283005.0</td><td>Individual</td><td>null</td><td>null</td></tr>\n",
       "<tr><td>c66ccc99ff4372809...</td><td>clinical manager ...</td><td>10+ years</td><td>MORTGAGE</td><td>123000.0</td><td>MA</td><td>027xx</td><td>USA</td><td>B</td><td>B3</td><td>Source Verified</td><td>391605.0</td><td>Joint App</td><td>175000.0</td><td>Not Verified</td></tr>\n",
       "<tr><td>91d00a422248120a4...</td><td>CRNA</td><td>3 years</td><td>MORTGAGE</td><td>160000.0</td><td>OH</td><td>430xx</td><td>USA</td><td>B</td><td>B4</td><td>Not Verified</td><td>543543.0</td><td>Individual</td><td>null</td><td>null</td></tr>\n",
       "<tr><td>b7539a5579e723b21...</td><td>owner/operator</td><td>4 years</td><td>MORTGAGE</td><td>85000.0</td><td>FL</td><td>339xx</td><td>USA</td><td>C</td><td>C5</td><td>Source Verified</td><td>55080.0</td><td>Individual</td><td>null</td><td>null</td></tr>\n",
       "<tr><td>2fca945a60ef9246c...</td><td>Accountant</td><td>10+ years</td><td>MORTGAGE</td><td>58000.0</td><td>NC</td><td>286xx</td><td>USA</td><td>B</td><td>B5</td><td>Not Verified</td><td>170071.0</td><td>Individual</td><td>null</td><td>null</td></tr>\n",
       "<tr><td>8a6dababd11fd592f...</td><td>Manager</td><td>3 years</td><td>RENT</td><td>150000.0</td><td>FL</td><td>334xx</td><td>USA</td><td>C</td><td>C3</td><td>Source Verified</td><td>113792.0</td><td>Individual</td><td>null</td><td>null</td></tr>\n",
       "<tr><td>3af72ce29e878edd7...</td><td>RN</td><td>&lt; 1 year</td><td>OWN</td><td>75000.0</td><td>TX</td><td>775xx</td><td>USA</td><td>C</td><td>C3</td><td>Not Verified</td><td>199932.0</td><td>Individual</td><td>null</td><td>null</td></tr>\n",
       "<tr><td>4395baca2ea2d58a8...</td><td>Lieutenant</td><td>10+ years</td><td>MORTGAGE</td><td>120000.0</td><td>TX</td><td>760xx</td><td>USA</td><td>A</td><td>A5</td><td>Not Verified</td><td>290804.0</td><td>Individual</td><td>null</td><td>null</td></tr>\n",
       "<tr><td>45ac50a4b31e7c191...</td><td>Financial Adminis...</td><td>10+ years</td><td>MORTGAGE</td><td>57000.0</td><td>MA</td><td>010xx</td><td>USA</td><td>A</td><td>A3</td><td>Source Verified</td><td>35000.0</td><td>Individual</td><td>null</td><td>null</td></tr>\n",
       "<tr><td>a6a1b2d34c1f8d409...</td><td>center director</td><td>10+ years</td><td>MORTGAGE</td><td>58000.0</td><td>NY</td><td>109xx</td><td>USA</td><td>E</td><td>E3</td><td>Verified</td><td>47576.0</td><td>Joint App</td><td>122000.0</td><td>Not Verified</td></tr>\n",
       "<tr><td>aa1795bf3b4e526f4...</td><td>tractor trailer o...</td><td>4 years</td><td>RENT</td><td>71000.0</td><td>IN</td><td>462xx</td><td>USA</td><td>C</td><td>C2</td><td>Source Verified</td><td>30512.0</td><td>Individual</td><td>null</td><td>null</td></tr>\n",
       "<tr><td>8e0e745628d1fb06e...</td><td>Designer</td><td>10+ years</td><td>MORTGAGE</td><td>75000.0</td><td>TX</td><td>750xx</td><td>USA</td><td>C</td><td>C4</td><td>Source Verified</td><td>233369.0</td><td>Individual</td><td>null</td><td>null</td></tr>\n",
       "<tr><td>232386e4de5f4542b...</td><td>Office Director</td><td>10+ years</td><td>MORTGAGE</td><td>147000.0</td><td>MD</td><td>206xx</td><td>USA</td><td>B</td><td>B5</td><td>Verified</td><td>499678.0</td><td>Individual</td><td>null</td><td>null</td></tr>\n",
       "<tr><td>2d3472c91f8b2a006...</td><td>null</td><td>null</td><td>OWN</td><td>48000.0</td><td>AL</td><td>350xx</td><td>USA</td><td>B</td><td>B1</td><td>Not Verified</td><td>49456.0</td><td>Individual</td><td>null</td><td>null</td></tr>\n",
       "<tr><td>9abeb83f93fd934ff...</td><td>Human Resource An...</td><td>6 years</td><td>RENT</td><td>53000.0</td><td>VA</td><td>236xx</td><td>USA</td><td>E</td><td>E3</td><td>Source Verified</td><td>113079.0</td><td>Individual</td><td>null</td><td>null</td></tr>\n",
       "<tr><td>cb18b4a8c027d239c...</td><td>Case manager</td><td>3 years</td><td>MORTGAGE</td><td>75000.0</td><td>TX</td><td>774xx</td><td>USA</td><td>B</td><td>B3</td><td>Not Verified</td><td>232150.0</td><td>Individual</td><td>null</td><td>null</td></tr>\n",
       "<tr><td>a91eb99321edd2864...</td><td>Customer Service Rep</td><td>1 year</td><td>RENT</td><td>22000.0</td><td>MD</td><td>212xx</td><td>USA</td><td>C</td><td>C4</td><td>Source Verified</td><td>12403.0</td><td>Individual</td><td>null</td><td>null</td></tr>\n",
       "<tr><td>ee2a6a369b2fe6170...</td><td>Vice President Br...</td><td>10+ years</td><td>MORTGAGE</td><td>60000.0</td><td>WI</td><td>547xx</td><td>USA</td><td>B</td><td>B3</td><td>Source Verified</td><td>424571.0</td><td>Individual</td><td>null</td><td>null</td></tr>\n",
       "</table>\n",
       "only showing top 20 rows\n"
      ],
      "text/plain": [
       "+--------------------+--------------------+----------+--------------+----------+----------+--------+-------+-----+---------+-------------------+---------------+----------------+----------------+-------------------------+\n",
       "|           member_id|           emp_title|emp_length|home_ownership|annual_inc|addr_state|zip_code|country|grade|sub_grade|verification_status|tot_hi_cred_lim|application_type|annual_inc_joint|verification_status_joint|\n",
       "+--------------------+--------------------+----------+--------------+----------+----------+--------+-------+-----+---------+-------------------+---------------+----------------+----------------+-------------------------+\n",
       "|2209556c19f75a204...|           secretary|   7 years|      MORTGAGE|   54000.0|        MO|   656xx|    USA|    B|       B4|    Source Verified|        61451.0|      Individual|            null|                     null|\n",
       "|9d0d53b8de898b446...|             Postman| 10+ years|      MORTGAGE|   60000.0|        GA|   300xx|    USA|    C|       C1|       Not Verified|       337263.0|      Individual|            null|                     null|\n",
       "|1a978870f4a9b4b43...|Communication man...| 10+ years|      MORTGAGE|   90754.0|        NY|   136xx|    USA|    A|       A4|       Not Verified|       283005.0|      Individual|            null|                     null|\n",
       "|c66ccc99ff4372809...|clinical manager ...| 10+ years|      MORTGAGE|  123000.0|        MA|   027xx|    USA|    B|       B3|    Source Verified|       391605.0|       Joint App|        175000.0|             Not Verified|\n",
       "|91d00a422248120a4...|                CRNA|   3 years|      MORTGAGE|  160000.0|        OH|   430xx|    USA|    B|       B4|       Not Verified|       543543.0|      Individual|            null|                     null|\n",
       "|b7539a5579e723b21...|      owner/operator|   4 years|      MORTGAGE|   85000.0|        FL|   339xx|    USA|    C|       C5|    Source Verified|        55080.0|      Individual|            null|                     null|\n",
       "|2fca945a60ef9246c...|          Accountant| 10+ years|      MORTGAGE|   58000.0|        NC|   286xx|    USA|    B|       B5|       Not Verified|       170071.0|      Individual|            null|                     null|\n",
       "|8a6dababd11fd592f...|             Manager|   3 years|          RENT|  150000.0|        FL|   334xx|    USA|    C|       C3|    Source Verified|       113792.0|      Individual|            null|                     null|\n",
       "|3af72ce29e878edd7...|                  RN|  < 1 year|           OWN|   75000.0|        TX|   775xx|    USA|    C|       C3|       Not Verified|       199932.0|      Individual|            null|                     null|\n",
       "|4395baca2ea2d58a8...|          Lieutenant| 10+ years|      MORTGAGE|  120000.0|        TX|   760xx|    USA|    A|       A5|       Not Verified|       290804.0|      Individual|            null|                     null|\n",
       "|45ac50a4b31e7c191...|Financial Adminis...| 10+ years|      MORTGAGE|   57000.0|        MA|   010xx|    USA|    A|       A3|    Source Verified|        35000.0|      Individual|            null|                     null|\n",
       "|a6a1b2d34c1f8d409...|     center director| 10+ years|      MORTGAGE|   58000.0|        NY|   109xx|    USA|    E|       E3|           Verified|        47576.0|       Joint App|        122000.0|             Not Verified|\n",
       "|aa1795bf3b4e526f4...|tractor trailer o...|   4 years|          RENT|   71000.0|        IN|   462xx|    USA|    C|       C2|    Source Verified|        30512.0|      Individual|            null|                     null|\n",
       "|8e0e745628d1fb06e...|            Designer| 10+ years|      MORTGAGE|   75000.0|        TX|   750xx|    USA|    C|       C4|    Source Verified|       233369.0|      Individual|            null|                     null|\n",
       "|232386e4de5f4542b...|     Office Director| 10+ years|      MORTGAGE|  147000.0|        MD|   206xx|    USA|    B|       B5|           Verified|       499678.0|      Individual|            null|                     null|\n",
       "|2d3472c91f8b2a006...|                null|      null|           OWN|   48000.0|        AL|   350xx|    USA|    B|       B1|       Not Verified|        49456.0|      Individual|            null|                     null|\n",
       "|9abeb83f93fd934ff...|Human Resource An...|   6 years|          RENT|   53000.0|        VA|   236xx|    USA|    E|       E3|    Source Verified|       113079.0|      Individual|            null|                     null|\n",
       "|cb18b4a8c027d239c...|        Case manager|   3 years|      MORTGAGE|   75000.0|        TX|   774xx|    USA|    B|       B3|       Not Verified|       232150.0|      Individual|            null|                     null|\n",
       "|a91eb99321edd2864...|Customer Service Rep|    1 year|          RENT|   22000.0|        MD|   212xx|    USA|    C|       C4|    Source Verified|        12403.0|      Individual|            null|                     null|\n",
       "|ee2a6a369b2fe6170...|Vice President Br...| 10+ years|      MORTGAGE|   60000.0|        WI|   547xx|    USA|    B|       B3|    Source Verified|       424571.0|      Individual|            null|                     null|\n",
       "+--------------------+--------------------+----------+--------------+----------+----------+--------+-------+-----+---------+-------------------+---------------+----------------+----------------+-------------------------+\n",
       "only showing top 20 rows"
      ]
     },
     "execution_count": 25,
     "metadata": {},
     "output_type": "execute_result"
    }
   ],
   "source": [
    "customers_df"
   ]
  },
  {
   "cell_type": "markdown",
   "metadata": {
    "application/vnd.databricks.v1+cell": {
     "cellMetadata": {},
     "inputWidgets": {},
     "nuid": "4e45d4ca-ed0c-4c03-a696-0e02e3ee9c76",
     "showTitle": false,
     "title": ""
    }
   },
   "source": [
    "Generate Loan File\n"
   ]
  },
  {
   "cell_type": "code",
   "execution_count": 0,
   "metadata": {
    "application/vnd.databricks.v1+cell": {
     "cellMetadata": {},
     "inputWidgets": {},
     "nuid": "be68aa6a-073d-416e-88e6-34e1dd5a5b5e",
     "showTitle": false,
     "title": ""
    }
   },
   "outputs": [],
   "source": [
    "# Create loans table from the main table\n",
    "spark.sql(\"\"\"select id as loan_id, name_sha2 as member_id,loan_amnt,funded_amnt,term,int_rate,installment,issue_d,loan_status,purpose,\n",
    "title from newtable\"\"\").repartition(1).write \\\n",
    ".option(\"header\",True) \\\n",
    ".format(\"csv\") \\\n",
    ".mode(\"overwrite\") \\\n",
    ".option(\"path\", \"/user/itv008542/lendingclubproject/raw/loans_data_csv\") \\\n",
    ".save()"
   ]
  },
  {
   "cell_type": "code",
   "execution_count": 0,
   "metadata": {
    "application/vnd.databricks.v1+cell": {
     "cellMetadata": {},
     "inputWidgets": {},
     "nuid": "2b105bdd-aa34-471d-9283-9015fe1ed6fc",
     "showTitle": false,
     "title": ""
    }
   },
   "outputs": [],
   "source": [
    "# Load the recently saved loan data and check\n",
    "loans_df = spark.read \\\n",
    ".format(\"csv\") \\\n",
    ".option(\"InferSchema\",\"true\") \\\n",
    ".option(\"header\",\"true\") \\\n",
    ".load(\"/user/itv008542/lendingclubproject/raw/loans_data_csv\")"
   ]
  },
  {
   "cell_type": "code",
   "execution_count": 0,
   "metadata": {
    "application/vnd.databricks.v1+cell": {
     "cellMetadata": {},
     "inputWidgets": {},
     "nuid": "89d9e469-e5c7-4065-8da0-cfb169580e6d",
     "showTitle": false,
     "title": ""
    }
   },
   "outputs": [
    {
     "output_type": "execute_result",
     "data": {
      "text/html": [
       "<table border='1'>\n",
       "<tr><th>loan_id</th><th>member_id</th><th>loan_amnt</th><th>funded_amnt</th><th>term</th><th>int_rate</th><th>installment</th><th>issue_d</th><th>loan_status</th><th>purpose</th><th>title</th></tr>\n",
       "<tr><td>14408468</td><td>5d7676571dee53d06...</td><td>5000.0</td><td>5000.0</td><td>36 months</td><td>14.16</td><td>171.28</td><td>Apr-2014</td><td>Fully Paid</td><td>debt_consolidation</td><td>Debt consolidation</td></tr>\n",
       "<tr><td>14520567</td><td>31fd1ef036c5caf26...</td><td>11000.0</td><td>11000.0</td><td>36 months</td><td>9.67</td><td>353.24</td><td>Apr-2014</td><td>Fully Paid</td><td>other</td><td>Other</td></tr>\n",
       "<tr><td>14708730</td><td>9b48253ca5848fa78...</td><td>25000.0</td><td>25000.0</td><td>36 months</td><td>11.99</td><td>830.24</td><td>May-2014</td><td>Charged Off</td><td>credit_card</td><td>Credit card refin...</td></tr>\n",
       "<tr><td>14491003</td><td>d6b8f2e32be148721...</td><td>1500.0</td><td>1500.0</td><td>36 months</td><td>23.43</td><td>58.41</td><td>Apr-2014</td><td>Fully Paid</td><td>renewable_energy</td><td>Green loan</td></tr>\n",
       "<tr><td>14510981</td><td>0a81ad556e20bcdb9...</td><td>10000.0</td><td>10000.0</td><td>36 months</td><td>12.99</td><td>336.9</td><td>Apr-2014</td><td>Fully Paid</td><td>debt_consolidation</td><td>Debt consolidation</td></tr>\n",
       "<tr><td>14177845</td><td>843b995d39160ddab...</td><td>13200.0</td><td>13200.0</td><td>60 months</td><td>12.99</td><td>300.28</td><td>Apr-2014</td><td>Charged Off</td><td>debt_consolidation</td><td>Debt consolidation</td></tr>\n",
       "<tr><td>13947687</td><td>04a8bd7c4e1407ba8...</td><td>10000.0</td><td>10000.0</td><td>60 months</td><td>17.57</td><td>251.61</td><td>Apr-2014</td><td>Fully Paid</td><td>other</td><td>Other</td></tr>\n",
       "<tr><td>12905731</td><td>3e9a89fa96988af68...</td><td>18000.0</td><td>18000.0</td><td>36 months</td><td>18.25</td><td>653.01</td><td>May-2014</td><td>Fully Paid</td><td>home_improvement</td><td>Home improvement</td></tr>\n",
       "<tr><td>14137736</td><td>394a8db0bd3bcf7de...</td><td>12000.0</td><td>12000.0</td><td>36 months</td><td>9.67</td><td>385.35</td><td>Apr-2014</td><td>Fully Paid</td><td>debt_consolidation</td><td>Debt consolidation</td></tr>\n",
       "<tr><td>13207083</td><td>09cea8d2b6f1272f7...</td><td>3200.0</td><td>3200.0</td><td>36 months</td><td>20.49</td><td>119.73</td><td>Apr-2014</td><td>Fully Paid</td><td>credit_card</td><td>Credit card refin...</td></tr>\n",
       "<tr><td>9005163</td><td>bc13b4bf12b2fb93f...</td><td>19800.0</td><td>19800.0</td><td>60 months</td><td>15.61</td><td>477.41</td><td>Apr-2014</td><td>Current</td><td>debt_consolidation</td><td>Debt consolidation</td></tr>\n",
       "<tr><td>14008700</td><td>dcc3cce84164a1a4f...</td><td>14150.0</td><td>14150.0</td><td>60 months</td><td>16.59</td><td>348.56</td><td>Apr-2014</td><td>Current</td><td>credit_card</td><td>Credit card refin...</td></tr>\n",
       "<tr><td>13107355</td><td>a8c2898592c8c34ea...</td><td>11850.0</td><td>11850.0</td><td>36 months</td><td>20.49</td><td>443.36</td><td>Apr-2014</td><td>Fully Paid</td><td>debt_consolidation</td><td>Debt consolidation</td></tr>\n",
       "<tr><td>14288329</td><td>2ab161847c8ce1f3e...</td><td>25000.0</td><td>25000.0</td><td>60 months</td><td>21.99</td><td>690.34</td><td>Apr-2014</td><td>Fully Paid</td><td>debt_consolidation</td><td>Debt consolidation</td></tr>\n",
       "<tr><td>14308144</td><td>9886b3db401c1d460...</td><td>15000.0</td><td>15000.0</td><td>60 months</td><td>15.61</td><td>361.67</td><td>Apr-2014</td><td>Fully Paid</td><td>major_purchase</td><td>Major purchase</td></tr>\n",
       "<tr><td>14009407</td><td>7b62e3c918a7f9eb8...</td><td>9625.0</td><td>9625.0</td><td>36 months</td><td>13.65</td><td>327.33</td><td>Apr-2014</td><td>Fully Paid</td><td>credit_card</td><td>Credit card refin...</td></tr>\n",
       "<tr><td>6583213</td><td>698b533486c4900d4...</td><td>17500.0</td><td>17500.0</td><td>36 months</td><td>9.67</td><td>561.97</td><td>Apr-2014</td><td>Fully Paid</td><td>debt_consolidation</td><td>Debt consolidation</td></tr>\n",
       "<tr><td>12597061</td><td>0b07196bd0485e4c2...</td><td>7700.0</td><td>7700.0</td><td>36 months</td><td>12.99</td><td>259.41</td><td>Apr-2014</td><td>Fully Paid</td><td>debt_consolidation</td><td>Debt consolidation</td></tr>\n",
       "<tr><td>12468587</td><td>92e61f312d73c874d...</td><td>3600.0</td><td>3600.0</td><td>36 months</td><td>22.45</td><td>138.33</td><td>Apr-2014</td><td>Fully Paid</td><td>debt_consolidation</td><td>Debt consolidation</td></tr>\n",
       "<tr><td>12486035</td><td>a2eb7934b6490e443...</td><td>14250.0</td><td>14250.0</td><td>60 months</td><td>21.99</td><td>393.49</td><td>Apr-2014</td><td>Fully Paid</td><td>home_improvement</td><td>Home improvement</td></tr>\n",
       "</table>\n",
       "only showing top 20 rows\n"
      ],
      "text/plain": [
       "+--------+--------------------+---------+-----------+---------+--------+-----------+--------+-----------+------------------+--------------------+\n",
       "| loan_id|           member_id|loan_amnt|funded_amnt|     term|int_rate|installment| issue_d|loan_status|           purpose|               title|\n",
       "+--------+--------------------+---------+-----------+---------+--------+-----------+--------+-----------+------------------+--------------------+\n",
       "|14408468|5d7676571dee53d06...|   5000.0|     5000.0|36 months|   14.16|     171.28|Apr-2014| Fully Paid|debt_consolidation|  Debt consolidation|\n",
       "|14520567|31fd1ef036c5caf26...|  11000.0|    11000.0|36 months|    9.67|     353.24|Apr-2014| Fully Paid|             other|               Other|\n",
       "|14708730|9b48253ca5848fa78...|  25000.0|    25000.0|36 months|   11.99|     830.24|May-2014|Charged Off|       credit_card|Credit card refin...|\n",
       "|14491003|d6b8f2e32be148721...|   1500.0|     1500.0|36 months|   23.43|      58.41|Apr-2014| Fully Paid|  renewable_energy|          Green loan|\n",
       "|14510981|0a81ad556e20bcdb9...|  10000.0|    10000.0|36 months|   12.99|      336.9|Apr-2014| Fully Paid|debt_consolidation|  Debt consolidation|\n",
       "|14177845|843b995d39160ddab...|  13200.0|    13200.0|60 months|   12.99|     300.28|Apr-2014|Charged Off|debt_consolidation|  Debt consolidation|\n",
       "|13947687|04a8bd7c4e1407ba8...|  10000.0|    10000.0|60 months|   17.57|     251.61|Apr-2014| Fully Paid|             other|               Other|\n",
       "|12905731|3e9a89fa96988af68...|  18000.0|    18000.0|36 months|   18.25|     653.01|May-2014| Fully Paid|  home_improvement|    Home improvement|\n",
       "|14137736|394a8db0bd3bcf7de...|  12000.0|    12000.0|36 months|    9.67|     385.35|Apr-2014| Fully Paid|debt_consolidation|  Debt consolidation|\n",
       "|13207083|09cea8d2b6f1272f7...|   3200.0|     3200.0|36 months|   20.49|     119.73|Apr-2014| Fully Paid|       credit_card|Credit card refin...|\n",
       "| 9005163|bc13b4bf12b2fb93f...|  19800.0|    19800.0|60 months|   15.61|     477.41|Apr-2014|    Current|debt_consolidation|  Debt consolidation|\n",
       "|14008700|dcc3cce84164a1a4f...|  14150.0|    14150.0|60 months|   16.59|     348.56|Apr-2014|    Current|       credit_card|Credit card refin...|\n",
       "|13107355|a8c2898592c8c34ea...|  11850.0|    11850.0|36 months|   20.49|     443.36|Apr-2014| Fully Paid|debt_consolidation|  Debt consolidation|\n",
       "|14288329|2ab161847c8ce1f3e...|  25000.0|    25000.0|60 months|   21.99|     690.34|Apr-2014| Fully Paid|debt_consolidation|  Debt consolidation|\n",
       "|14308144|9886b3db401c1d460...|  15000.0|    15000.0|60 months|   15.61|     361.67|Apr-2014| Fully Paid|    major_purchase|      Major purchase|\n",
       "|14009407|7b62e3c918a7f9eb8...|   9625.0|     9625.0|36 months|   13.65|     327.33|Apr-2014| Fully Paid|       credit_card|Credit card refin...|\n",
       "| 6583213|698b533486c4900d4...|  17500.0|    17500.0|36 months|    9.67|     561.97|Apr-2014| Fully Paid|debt_consolidation|  Debt consolidation|\n",
       "|12597061|0b07196bd0485e4c2...|   7700.0|     7700.0|36 months|   12.99|     259.41|Apr-2014| Fully Paid|debt_consolidation|  Debt consolidation|\n",
       "|12468587|92e61f312d73c874d...|   3600.0|     3600.0|36 months|   22.45|     138.33|Apr-2014| Fully Paid|debt_consolidation|  Debt consolidation|\n",
       "|12486035|a2eb7934b6490e443...|  14250.0|    14250.0|60 months|   21.99|     393.49|Apr-2014| Fully Paid|  home_improvement|    Home improvement|\n",
       "+--------+--------------------+---------+-----------+---------+--------+-----------+--------+-----------+------------------+--------------------+\n",
       "only showing top 20 rows"
      ]
     },
     "execution_count": 28,
     "metadata": {},
     "output_type": "execute_result"
    }
   ],
   "source": [
    "loans_df"
   ]
  },
  {
   "cell_type": "code",
   "execution_count": 0,
   "metadata": {
    "application/vnd.databricks.v1+cell": {
     "cellMetadata": {},
     "inputWidgets": {},
     "nuid": "28e6cab2-32b6-479a-9163-2302998a0f32",
     "showTitle": false,
     "title": ""
    }
   },
   "outputs": [
    {
     "output_type": "stream",
     "name": "stdout",
     "output_type": "stream",
     "text": [
      "Found 2 items\n-rw-r--r--   3 itv008542 supergroup          0 2024-02-06 12:19 /user/itv008542/lendingclubproject/raw/loans_data_csv/_SUCCESS\n-rw-r--r--   3 itv008542 supergroup    357.2 M 2024-02-06 12:19 /user/itv008542/lendingclubproject/raw/loans_data_csv/part-00000-cc911507-3447-4619-8403-a719730811b9-c000.csv\n"
     ]
    }
   ],
   "source": [
    "! hadoop fs -ls -h /user/itv008542/lendingclubproject/raw/loans_data_csv"
   ]
  },
  {
   "cell_type": "markdown",
   "metadata": {
    "application/vnd.databricks.v1+cell": {
     "cellMetadata": {},
     "inputWidgets": {},
     "nuid": "1866853c-90a7-4c37-907e-7489ea58e11f",
     "showTitle": false,
     "title": ""
    }
   },
   "source": [
    "\n",
    "Generate Loan Repayments File"
   ]
  },
  {
   "cell_type": "code",
   "execution_count": 0,
   "metadata": {
    "application/vnd.databricks.v1+cell": {
     "cellMetadata": {},
     "inputWidgets": {},
     "nuid": "2ebc9ef9-2a65-4b5f-abee-8d5db0c9a68e",
     "showTitle": false,
     "title": ""
    }
   },
   "outputs": [],
   "source": [
    "# Create loan repayments from the main table\n",
    "spark.sql(\"\"\"select id as loan_id,total_rec_prncp,total_rec_int,total_rec_late_fee,total_pymnt,last_pymnt_amnt,last_pymnt_d,next_pymnt_d \n",
    "from newtable\"\"\").repartition(1).write \\\n",
    ".option(\"header\",True) \\\n",
    ".format(\"csv\") \\\n",
    ".mode(\"overwrite\") \\\n",
    ".option(\"path\", \"/user/itv008542/lendingclubproject/raw/loans_repayments_csv\") \\\n",
    ".save()"
   ]
  },
  {
   "cell_type": "code",
   "execution_count": 0,
   "metadata": {
    "application/vnd.databricks.v1+cell": {
     "cellMetadata": {},
     "inputWidgets": {},
     "nuid": "883cc8a0-e6f6-4d09-b90c-c949024405c8",
     "showTitle": false,
     "title": ""
    }
   },
   "outputs": [],
   "source": [
    "# Load the recently save loan repayments data and check\n",
    "loans_repayments_df = spark.read \\\n",
    ".format(\"csv\") \\\n",
    ".option(\"InferSchema\",\"true\") \\\n",
    ".option(\"header\",\"true\") \\\n",
    ".load(\"/user/itv008542/lendingclubproject/raw/loans_repayments_csv\")"
   ]
  },
  {
   "cell_type": "code",
   "execution_count": 0,
   "metadata": {
    "application/vnd.databricks.v1+cell": {
     "cellMetadata": {},
     "inputWidgets": {},
     "nuid": "9bfbc3df-ac89-45e6-bc23-444796223642",
     "showTitle": false,
     "title": ""
    }
   },
   "outputs": [
    {
     "output_type": "execute_result",
     "data": {
      "text/html": [
       "<table border='1'>\n",
       "<tr><th>loan_id</th><th>total_rec_prncp</th><th>total_rec_int</th><th>total_rec_late_fee</th><th>total_pymnt</th><th>last_pymnt_amnt</th><th>last_pymnt_d</th><th>next_pymnt_d</th></tr>\n",
       "<tr><td>14408468</td><td>5000.0</td><td>561.49</td><td>0.0</td><td>5561.49</td><td>4019.97</td><td>Feb-2015</td><td>null</td></tr>\n",
       "<tr><td>14520567</td><td>11000.0</td><td>1716.53</td><td>0.0</td><td>12716.5251265996</td><td>353.13</td><td>May-2017</td><td>null</td></tr>\n",
       "<tr><td>14708730</td><td>21760.43</td><td>4807.25</td><td>0.0</td><td>26567.68</td><td>830.24</td><td>Jan-2017</td><td>null</td></tr>\n",
       "<tr><td>14491003</td><td>1500.0</td><td>192.68</td><td>0.0</td><td>1692.675291966</td><td>1342.22</td><td>Dec-2014</td><td>null</td></tr>\n",
       "<tr><td>14510981</td><td>10000.0</td><td>2128.02</td><td>0.0</td><td>12128.021932604799</td><td>336.52</td><td>Apr-2017</td><td>null</td></tr>\n",
       "<tr><td>14177845</td><td>5380.29</td><td>3227.55</td><td>0.0</td><td>9415.65</td><td>300.28</td><td>Aug-2016</td><td>null</td></tr>\n",
       "<tr><td>13947687</td><td>10000.0</td><td>3859.88</td><td>0.0</td><td>13859.8828431224</td><td>5032.64</td><td>Jan-2017</td><td>null</td></tr>\n",
       "<tr><td>12905731</td><td>18000.0</td><td>5535.46</td><td>0.0</td><td>23535.461841471402</td><td>652.67</td><td>May-2017</td><td>null</td></tr>\n",
       "<tr><td>14137736</td><td>12000.0</td><td>1424.07</td><td>0.0</td><td>13424.07</td><td>6487.77</td><td>Nov-2015</td><td>null</td></tr>\n",
       "<tr><td>13207083</td><td>3200.0</td><td>812.68</td><td>0.0</td><td>4012.68</td><td>1977.27</td><td>Oct-2015</td><td>null</td></tr>\n",
       "<tr><td>9005163</td><td>19329.23</td><td>8837.96</td><td>0.0</td><td>28167.19</td><td>477.41</td><td>Mar-2019</td><td>Apr-2019</td></tr>\n",
       "<tr><td>14008700</td><td>13467.79</td><td>6748.69</td><td>0.0</td><td>20216.48</td><td>348.56</td><td>Feb-2019</td><td>Apr-2019</td></tr>\n",
       "<tr><td>13107355</td><td>11850.0</td><td>2595.82</td><td>0.0</td><td>14445.82</td><td>8238.78</td><td>Jul-2015</td><td>null</td></tr>\n",
       "<tr><td>14288329</td><td>25000.0</td><td>912.0</td><td>0.0</td><td>25912.0</td><td>25221.66</td><td>Jul-2014</td><td>null</td></tr>\n",
       "<tr><td>14308144</td><td>15000.0</td><td>2797.71</td><td>0.0</td><td>17797.71</td><td>12734.33</td><td>Jul-2015</td><td>null</td></tr>\n",
       "<tr><td>14009407</td><td>9625.0</td><td>320.99</td><td>0.0</td><td>9945.9909558653</td><td>9291.33</td><td>Aug-2014</td><td>null</td></tr>\n",
       "<tr><td>6583213</td><td>17500.0</td><td>2069.46</td><td>0.0</td><td>19569.46</td><td>10015.97</td><td>Oct-2015</td><td>null</td></tr>\n",
       "<tr><td>12597061</td><td>7700.0</td><td>1007.66</td><td>0.0</td><td>8707.66</td><td>5335.33</td><td>Jul-2015</td><td>null</td></tr>\n",
       "<tr><td>12468587</td><td>3600.0</td><td>1379.63</td><td>0.0</td><td>4979.632516216</td><td>138.08</td><td>Apr-2017</td><td>null</td></tr>\n",
       "<tr><td>12486035</td><td>14250.0</td><td>7908.24</td><td>0.0</td><td>22158.24018889</td><td>7205.62</td><td>Jul-2017</td><td>null</td></tr>\n",
       "</table>\n",
       "only showing top 20 rows\n"
      ],
      "text/plain": [
       "+--------+---------------+-------------+------------------+------------------+---------------+------------+------------+\n",
       "| loan_id|total_rec_prncp|total_rec_int|total_rec_late_fee|       total_pymnt|last_pymnt_amnt|last_pymnt_d|next_pymnt_d|\n",
       "+--------+---------------+-------------+------------------+------------------+---------------+------------+------------+\n",
       "|14408468|         5000.0|       561.49|               0.0|           5561.49|        4019.97|    Feb-2015|        null|\n",
       "|14520567|        11000.0|      1716.53|               0.0|  12716.5251265996|         353.13|    May-2017|        null|\n",
       "|14708730|       21760.43|      4807.25|               0.0|          26567.68|         830.24|    Jan-2017|        null|\n",
       "|14491003|         1500.0|       192.68|               0.0|    1692.675291966|        1342.22|    Dec-2014|        null|\n",
       "|14510981|        10000.0|      2128.02|               0.0|12128.021932604799|         336.52|    Apr-2017|        null|\n",
       "|14177845|        5380.29|      3227.55|               0.0|           9415.65|         300.28|    Aug-2016|        null|\n",
       "|13947687|        10000.0|      3859.88|               0.0|  13859.8828431224|        5032.64|    Jan-2017|        null|\n",
       "|12905731|        18000.0|      5535.46|               0.0|23535.461841471402|         652.67|    May-2017|        null|\n",
       "|14137736|        12000.0|      1424.07|               0.0|          13424.07|        6487.77|    Nov-2015|        null|\n",
       "|13207083|         3200.0|       812.68|               0.0|           4012.68|        1977.27|    Oct-2015|        null|\n",
       "| 9005163|       19329.23|      8837.96|               0.0|          28167.19|         477.41|    Mar-2019|    Apr-2019|\n",
       "|14008700|       13467.79|      6748.69|               0.0|          20216.48|         348.56|    Feb-2019|    Apr-2019|\n",
       "|13107355|        11850.0|      2595.82|               0.0|          14445.82|        8238.78|    Jul-2015|        null|\n",
       "|14288329|        25000.0|        912.0|               0.0|           25912.0|       25221.66|    Jul-2014|        null|\n",
       "|14308144|        15000.0|      2797.71|               0.0|          17797.71|       12734.33|    Jul-2015|        null|\n",
       "|14009407|         9625.0|       320.99|               0.0|   9945.9909558653|        9291.33|    Aug-2014|        null|\n",
       "| 6583213|        17500.0|      2069.46|               0.0|          19569.46|       10015.97|    Oct-2015|        null|\n",
       "|12597061|         7700.0|      1007.66|               0.0|           8707.66|        5335.33|    Jul-2015|        null|\n",
       "|12468587|         3600.0|      1379.63|               0.0|    4979.632516216|         138.08|    Apr-2017|        null|\n",
       "|12486035|        14250.0|      7908.24|               0.0|    22158.24018889|        7205.62|    Jul-2017|        null|\n",
       "+--------+---------------+-------------+------------------+------------------+---------------+------------+------------+\n",
       "only showing top 20 rows"
      ]
     },
     "execution_count": 32,
     "metadata": {},
     "output_type": "execute_result"
    }
   ],
   "source": [
    "loans_repayments_df"
   ]
  },
  {
   "cell_type": "markdown",
   "metadata": {
    "application/vnd.databricks.v1+cell": {
     "cellMetadata": {},
     "inputWidgets": {},
     "nuid": "064f6a2f-44e1-4195-b1b6-be170fe504e2",
     "showTitle": false,
     "title": ""
    }
   },
   "source": [
    "\n",
    "Generate Loan Defaulter File\n"
   ]
  },
  {
   "cell_type": "code",
   "execution_count": 0,
   "metadata": {
    "application/vnd.databricks.v1+cell": {
     "cellMetadata": {},
     "inputWidgets": {},
     "nuid": "cc6b55f0-9886-451c-8573-5ee457f1da1d",
     "showTitle": false,
     "title": ""
    }
   },
   "outputs": [],
   "source": [
    "# Create loans defaulters table from the main table\n",
    "spark.sql(\"\"\"select name_sha2 as member_id,delinq_2yrs,delinq_amnt,pub_rec,pub_rec_bankruptcies,inq_last_6mths,total_rec_late_fee,mths_since_last_delinq,\n",
    "mths_since_last_record from newtable\"\"\").repartition(1).write \\\n",
    ".option(\"header\",True) \\\n",
    ".format(\"csv\") \\\n",
    ".mode(\"overwrite\") \\\n",
    ".option(\"path\", \"/user/itv008542/lendingclubproject/raw/loans_defaulters_csv\") \\\n",
    ".save()"
   ]
  },
  {
   "cell_type": "code",
   "execution_count": 0,
   "metadata": {
    "application/vnd.databricks.v1+cell": {
     "cellMetadata": {},
     "inputWidgets": {},
     "nuid": "16424694-07bc-4539-96cd-27c6208df49a",
     "showTitle": false,
     "title": ""
    }
   },
   "outputs": [],
   "source": [
    "# Load the recently save loan defaulters data and check\n",
    "loans_defaulters_df = spark.read \\\n",
    ".format(\"csv\") \\\n",
    ".option(\"InferSchema\",\"true\") \\\n",
    ".option(\"header\",\"true\") \\\n",
    ".load(\"/user/itv008542/lendingclubproject/raw/loans_defaulters_csv\")"
   ]
  },
  {
   "cell_type": "code",
   "execution_count": 0,
   "metadata": {
    "application/vnd.databricks.v1+cell": {
     "cellMetadata": {},
     "inputWidgets": {},
     "nuid": "20a3e55d-aa3d-41f6-a3a8-32314b52e11b",
     "showTitle": false,
     "title": ""
    }
   },
   "outputs": [
    {
     "output_type": "execute_result",
     "data": {
      "text/html": [
       "<table border='1'>\n",
       "<tr><th>member_id</th><th>delinq_2yrs</th><th>delinq_amnt</th><th>pub_rec</th><th>pub_rec_bankruptcies</th><th>inq_last_6mths</th><th>total_rec_late_fee</th><th>mths_since_last_delinq</th><th>mths_since_last_record</th></tr>\n",
       "<tr><td>6d5091b3fcaaeb4ea...</td><td>0.0</td><td>0.0</td><td>0.0</td><td>0.0</td><td>1.0</td><td>0.0</td><td>30.0</td><td>null</td></tr>\n",
       "<tr><td>b5e7938b0a2da4cea...</td><td>1.0</td><td>0.0</td><td>0.0</td><td>0.0</td><td>4.0</td><td>0.0</td><td>6.0</td><td>null</td></tr>\n",
       "<tr><td>91060b858433e8a61...</td><td>0.0</td><td>0.0</td><td>0.0</td><td>0.0</td><td>0.0</td><td>0.0</td><td>null</td><td>null</td></tr>\n",
       "<tr><td>cab1fa9f533688b0a...</td><td>0.0</td><td>0.0</td><td>0.0</td><td>0.0</td><td>0.0</td><td>0.0</td><td>null</td><td>null</td></tr>\n",
       "<tr><td>f74e401c1ab0adf78...</td><td>1.0</td><td>0.0</td><td>0.0</td><td>0.0</td><td>3.0</td><td>0.0</td><td>12.0</td><td>null</td></tr>\n",
       "<tr><td>8aef4bb29d609d8d6...</td><td>0.0</td><td>0.0</td><td>0.0</td><td>0.0</td><td>0.0</td><td>0.0</td><td>null</td><td>null</td></tr>\n",
       "<tr><td>538b4653da3b1e814...</td><td>0.0</td><td>0.0</td><td>0.0</td><td>0.0</td><td>0.0</td><td>0.0</td><td>49.0</td><td>null</td></tr>\n",
       "<tr><td>b24d55f21390533c5...</td><td>1.0</td><td>0.0</td><td>0.0</td><td>0.0</td><td>0.0</td><td>0.0</td><td>3.0</td><td>null</td></tr>\n",
       "<tr><td>1035c5401b0ca76d0...</td><td>0.0</td><td>0.0</td><td>1.0</td><td>1.0</td><td>1.0</td><td>0.0</td><td>null</td><td>106.0</td></tr>\n",
       "<tr><td>cb0f1777593e77909...</td><td>0.0</td><td>0.0</td><td>0.0</td><td>0.0</td><td>0.0</td><td>0.0</td><td>75.0</td><td>null</td></tr>\n",
       "<tr><td>a962f4d59caec5fa1...</td><td>0.0</td><td>0.0</td><td>0.0</td><td>0.0</td><td>0.0</td><td>0.0</td><td>54.0</td><td>null</td></tr>\n",
       "<tr><td>e7592ab57b3afd9f1...</td><td>0.0</td><td>0.0</td><td>0.0</td><td>0.0</td><td>0.0</td><td>0.0</td><td>null</td><td>null</td></tr>\n",
       "<tr><td>603afa9d1be879b7b...</td><td>0.0</td><td>0.0</td><td>0.0</td><td>0.0</td><td>0.0</td><td>0.0</td><td>null</td><td>null</td></tr>\n",
       "<tr><td>9fe2d59ddf2a4f37e...</td><td>0.0</td><td>0.0</td><td>1.0</td><td>1.0</td><td>1.0</td><td>0.0</td><td>null</td><td>75.0</td></tr>\n",
       "<tr><td>23857480ccf555ce4...</td><td>0.0</td><td>0.0</td><td>0.0</td><td>0.0</td><td>0.0</td><td>0.0</td><td>42.0</td><td>null</td></tr>\n",
       "<tr><td>7c69d5f36fdabf6e1...</td><td>0.0</td><td>0.0</td><td>0.0</td><td>0.0</td><td>0.0</td><td>0.0</td><td>null</td><td>null</td></tr>\n",
       "<tr><td>08bf9e080503b0113...</td><td>0.0</td><td>0.0</td><td>0.0</td><td>0.0</td><td>1.0</td><td>0.0</td><td>null</td><td>null</td></tr>\n",
       "<tr><td>1cafb05aa6c894c30...</td><td>0.0</td><td>0.0</td><td>0.0</td><td>0.0</td><td>0.0</td><td>0.0</td><td>null</td><td>null</td></tr>\n",
       "<tr><td>f2c4010f700d8c9c4...</td><td>0.0</td><td>0.0</td><td>0.0</td><td>0.0</td><td>0.0</td><td>0.0</td><td>29.0</td><td>null</td></tr>\n",
       "<tr><td>05ad4aed7c393035e...</td><td>0.0</td><td>0.0</td><td>1.0</td><td>1.0</td><td>4.0</td><td>0.0</td><td>null</td><td>30.0</td></tr>\n",
       "</table>\n",
       "only showing top 20 rows\n"
      ],
      "text/plain": [
       "+--------------------+-----------+-----------+-------+--------------------+--------------+------------------+----------------------+----------------------+\n",
       "|           member_id|delinq_2yrs|delinq_amnt|pub_rec|pub_rec_bankruptcies|inq_last_6mths|total_rec_late_fee|mths_since_last_delinq|mths_since_last_record|\n",
       "+--------------------+-----------+-----------+-------+--------------------+--------------+------------------+----------------------+----------------------+\n",
       "|6d5091b3fcaaeb4ea...|        0.0|        0.0|    0.0|                 0.0|           1.0|               0.0|                  30.0|                  null|\n",
       "|b5e7938b0a2da4cea...|        1.0|        0.0|    0.0|                 0.0|           4.0|               0.0|                   6.0|                  null|\n",
       "|91060b858433e8a61...|        0.0|        0.0|    0.0|                 0.0|           0.0|               0.0|                  null|                  null|\n",
       "|cab1fa9f533688b0a...|        0.0|        0.0|    0.0|                 0.0|           0.0|               0.0|                  null|                  null|\n",
       "|f74e401c1ab0adf78...|        1.0|        0.0|    0.0|                 0.0|           3.0|               0.0|                  12.0|                  null|\n",
       "|8aef4bb29d609d8d6...|        0.0|        0.0|    0.0|                 0.0|           0.0|               0.0|                  null|                  null|\n",
       "|538b4653da3b1e814...|        0.0|        0.0|    0.0|                 0.0|           0.0|               0.0|                  49.0|                  null|\n",
       "|b24d55f21390533c5...|        1.0|        0.0|    0.0|                 0.0|           0.0|               0.0|                   3.0|                  null|\n",
       "|1035c5401b0ca76d0...|        0.0|        0.0|    1.0|                 1.0|           1.0|               0.0|                  null|                 106.0|\n",
       "|cb0f1777593e77909...|        0.0|        0.0|    0.0|                 0.0|           0.0|               0.0|                  75.0|                  null|\n",
       "|a962f4d59caec5fa1...|        0.0|        0.0|    0.0|                 0.0|           0.0|               0.0|                  54.0|                  null|\n",
       "|e7592ab57b3afd9f1...|        0.0|        0.0|    0.0|                 0.0|           0.0|               0.0|                  null|                  null|\n",
       "|603afa9d1be879b7b...|        0.0|        0.0|    0.0|                 0.0|           0.0|               0.0|                  null|                  null|\n",
       "|9fe2d59ddf2a4f37e...|        0.0|        0.0|    1.0|                 1.0|           1.0|               0.0|                  null|                  75.0|\n",
       "|23857480ccf555ce4...|        0.0|        0.0|    0.0|                 0.0|           0.0|               0.0|                  42.0|                  null|\n",
       "|7c69d5f36fdabf6e1...|        0.0|        0.0|    0.0|                 0.0|           0.0|               0.0|                  null|                  null|\n",
       "|08bf9e080503b0113...|        0.0|        0.0|    0.0|                 0.0|           1.0|               0.0|                  null|                  null|\n",
       "|1cafb05aa6c894c30...|        0.0|        0.0|    0.0|                 0.0|           0.0|               0.0|                  null|                  null|\n",
       "|f2c4010f700d8c9c4...|        0.0|        0.0|    0.0|                 0.0|           0.0|               0.0|                  29.0|                  null|\n",
       "|05ad4aed7c393035e...|        0.0|        0.0|    1.0|                 1.0|           4.0|               0.0|                  null|                  30.0|\n",
       "+--------------------+-----------+-----------+-------+--------------------+--------------+------------------+----------------------+----------------------+\n",
       "only showing top 20 rows"
      ]
     },
     "execution_count": 35,
     "metadata": {},
     "output_type": "execute_result"
    }
   ],
   "source": [
    "loans_defaulters_df"
   ]
  },
  {
   "cell_type": "code",
   "execution_count": 0,
   "metadata": {
    "application/vnd.databricks.v1+cell": {
     "cellMetadata": {},
     "inputWidgets": {},
     "nuid": "8d35466c-dc5c-4278-9196-7e236387c820",
     "showTitle": false,
     "title": ""
    }
   },
   "outputs": [
    {
     "output_type": "stream",
     "name": "stdout",
     "output_type": "stream",
     "text": [
      "Found 4 items\ndrwxr-xr-x   - itv008542 supergroup          0 2024-02-06 12:12 /user/itv008542/lendingclubproject/raw/customers_data_csv\ndrwxr-xr-x   - itv008542 supergroup          0 2024-02-06 12:19 /user/itv008542/lendingclubproject/raw/loans_data_csv\ndrwxr-xr-x   - itv008542 supergroup          0 2024-02-06 12:24 /user/itv008542/lendingclubproject/raw/loans_defaulters_csv\ndrwxr-xr-x   - itv008542 supergroup          0 2024-02-06 12:22 /user/itv008542/lendingclubproject/raw/loans_repayments_csv\n"
     ]
    }
   ],
   "source": [
    "! hadoop fs -ls -h /user/itv008542/lendingclubproject/raw"
   ]
  },
  {
   "cell_type": "code",
   "execution_count": 0,
   "metadata": {
    "application/vnd.databricks.v1+cell": {
     "cellMetadata": {},
     "inputWidgets": {},
     "nuid": "a853265f-08b8-4ed1-a5cd-bed524e170ef",
     "showTitle": false,
     "title": ""
    }
   },
   "outputs": [
    {
     "output_type": "stream",
     "name": "stdout",
     "output_type": "stream",
     "text": [
      "Found 2 items\n-rw-r--r--   3 itv008542 supergroup          0 2024-02-06 12:12 /user/itv008542/lendingclubproject/raw/customers_data_csv/_SUCCESS\n-rw-r--r--   3 itv008542 supergroup    347.4 M 2024-02-06 12:12 /user/itv008542/lendingclubproject/raw/customers_data_csv/part-00000-60267e36-3d96-4d76-8d72-298574be6575-c000.csv\nFound 2 items\n-rw-r--r--   3 itv008542 supergroup          0 2024-02-06 12:19 /user/itv008542/lendingclubproject/raw/loans_data_csv/_SUCCESS\n-rw-r--r--   3 itv008542 supergroup    357.2 M 2024-02-06 12:19 /user/itv008542/lendingclubproject/raw/loans_data_csv/part-00000-cc911507-3447-4619-8403-a719730811b9-c000.csv\nFound 2 items\n-rw-r--r--   3 itv008542 supergroup          0 2024-02-06 12:24 /user/itv008542/lendingclubproject/raw/loans_defaulters_csv/_SUCCESS\n-rw-r--r--   3 itv008542 supergroup    207.8 M 2024-02-06 12:24 /user/itv008542/lendingclubproject/raw/loans_defaulters_csv/part-00000-b7738205-a7c6-4492-beaa-604a4cb0e404-c000.csv\nFound 2 items\n-rw-r--r--   3 itv008542 supergroup          0 2024-02-06 12:22 /user/itv008542/lendingclubproject/raw/loans_repayments_csv/_SUCCESS\n-rw-r--r--   3 itv008542 supergroup    134.3 M 2024-02-06 12:22 /user/itv008542/lendingclubproject/raw/loans_repayments_csv/part-00000-d53ac3bd-7be1-4a3c-9d47-c3574ff4c3f3-c000.csv\n"
     ]
    }
   ],
   "source": [
    "! hadoop fs -ls -h /user/itv008542/lendingclubproject/raw/customers_data_csv\n",
    "! hadoop fs -ls -h /user/itv008542/lendingclubproject/raw/loans_data_csv\n",
    "! hadoop fs -ls -h /user/itv008542/lendingclubproject/raw/loans_defaulters_csv\n",
    "! hadoop fs -ls -h /user/itv008542/lendingclubproject/raw/loans_repayments_csv"
   ]
  },
  {
   "cell_type": "markdown",
   "metadata": {
    "application/vnd.databricks.v1+cell": {
     "cellMetadata": {},
     "inputWidgets": {},
     "nuid": "a792c5b5-f504-468f-8aef-d93fc6517a44",
     "showTitle": false,
     "title": ""
    }
   },
   "source": [
    "## Lending Club Project: Data Cleaning Session 1"
   ]
  },
  {
   "cell_type": "markdown",
   "metadata": {
    "application/vnd.databricks.v1+cell": {
     "cellMetadata": {},
     "inputWidgets": {},
     "nuid": "cf0ed063-3f02-4098-a973-30b234471b4c",
     "showTitle": false,
     "title": ""
    }
   },
   "source": [
    "\n",
    "Cleaning Customer Data\n",
    "Data Cleaning Actions to Take\n",
    "\n",
    "\n",
    "    Create a dataframe with proper datatypes\n",
    "\n",
    "    Rename a few columns annual_inc -> annual_income addr_state -> address_state xip_cod -> address_zipcode country -> address_country total_hi_cred_lim -> total_high_credit_limit annual_inc_joint -> join_annual_income\n",
    "\n",
    "    Insert a new column named as ingestion date (current time )\n",
    "\n",
    "    Remove complete duplicate rows\n",
    "\n",
    "    Remove rows where annual_income is null\n",
    "\n",
    "    Convert emp_length to integer\n",
    "\n",
    "    We need to replace all the nulls in emp_lenths column with average of this column\n",
    "\n",
    "    Clean the address_state (it should be 2 characters only), replace all others with NA\n",
    "\n",
    "    Write the cleaned customers data in cleaned folder in hdfs\n",
    "\n"
   ]
  },
  {
   "cell_type": "code",
   "execution_count": 0,
   "metadata": {
    "application/vnd.databricks.v1+cell": {
     "cellMetadata": {},
     "inputWidgets": {},
     "nuid": "7722ea95-9cd7-40a4-8a77-25108f8a76e3",
     "showTitle": false,
     "title": ""
    }
   },
   "outputs": [],
   "source": [
    "customers_raw_df = spark.read \\\n",
    ".format(\"csv\") \\\n",
    ".option(\"InferSchema\",\"true\") \\\n",
    ".option(\"header\",\"true\") \\\n",
    ".load(\"/user/itv008542/lendingclubproject/raw/customers_data_csv\")"
   ]
  },
  {
   "cell_type": "code",
   "execution_count": 0,
   "metadata": {
    "application/vnd.databricks.v1+cell": {
     "cellMetadata": {},
     "inputWidgets": {},
     "nuid": "09ebf66a-a41f-498d-8d70-9f260cf10af5",
     "showTitle": false,
     "title": ""
    }
   },
   "outputs": [
    {
     "output_type": "execute_result",
     "data": {
      "text/html": [
       "<table border='1'>\n",
       "<tr><th>member_id</th><th>emp_title</th><th>emp_length</th><th>home_ownership</th><th>annual_inc</th><th>addr_state</th><th>zip_code</th><th>country</th><th>grade</th><th>sub_grade</th><th>verification_status</th><th>tot_hi_cred_lim</th><th>application_type</th><th>annual_inc_joint</th><th>verification_status_joint</th></tr>\n",
       "<tr><td>2209556c19f75a204...</td><td>secretary</td><td>7 years</td><td>MORTGAGE</td><td>54000.0</td><td>MO</td><td>656xx</td><td>USA</td><td>B</td><td>B4</td><td>Source Verified</td><td>61451.0</td><td>Individual</td><td>null</td><td>null</td></tr>\n",
       "<tr><td>9d0d53b8de898b446...</td><td>Postman</td><td>10+ years</td><td>MORTGAGE</td><td>60000.0</td><td>GA</td><td>300xx</td><td>USA</td><td>C</td><td>C1</td><td>Not Verified</td><td>337263.0</td><td>Individual</td><td>null</td><td>null</td></tr>\n",
       "<tr><td>1a978870f4a9b4b43...</td><td>Communication man...</td><td>10+ years</td><td>MORTGAGE</td><td>90754.0</td><td>NY</td><td>136xx</td><td>USA</td><td>A</td><td>A4</td><td>Not Verified</td><td>283005.0</td><td>Individual</td><td>null</td><td>null</td></tr>\n",
       "<tr><td>c66ccc99ff4372809...</td><td>clinical manager ...</td><td>10+ years</td><td>MORTGAGE</td><td>123000.0</td><td>MA</td><td>027xx</td><td>USA</td><td>B</td><td>B3</td><td>Source Verified</td><td>391605.0</td><td>Joint App</td><td>175000.0</td><td>Not Verified</td></tr>\n",
       "<tr><td>91d00a422248120a4...</td><td>CRNA</td><td>3 years</td><td>MORTGAGE</td><td>160000.0</td><td>OH</td><td>430xx</td><td>USA</td><td>B</td><td>B4</td><td>Not Verified</td><td>543543.0</td><td>Individual</td><td>null</td><td>null</td></tr>\n",
       "<tr><td>b7539a5579e723b21...</td><td>owner/operator</td><td>4 years</td><td>MORTGAGE</td><td>85000.0</td><td>FL</td><td>339xx</td><td>USA</td><td>C</td><td>C5</td><td>Source Verified</td><td>55080.0</td><td>Individual</td><td>null</td><td>null</td></tr>\n",
       "<tr><td>2fca945a60ef9246c...</td><td>Accountant</td><td>10+ years</td><td>MORTGAGE</td><td>58000.0</td><td>NC</td><td>286xx</td><td>USA</td><td>B</td><td>B5</td><td>Not Verified</td><td>170071.0</td><td>Individual</td><td>null</td><td>null</td></tr>\n",
       "<tr><td>8a6dababd11fd592f...</td><td>Manager</td><td>3 years</td><td>RENT</td><td>150000.0</td><td>FL</td><td>334xx</td><td>USA</td><td>C</td><td>C3</td><td>Source Verified</td><td>113792.0</td><td>Individual</td><td>null</td><td>null</td></tr>\n",
       "<tr><td>3af72ce29e878edd7...</td><td>RN</td><td>&lt; 1 year</td><td>OWN</td><td>75000.0</td><td>TX</td><td>775xx</td><td>USA</td><td>C</td><td>C3</td><td>Not Verified</td><td>199932.0</td><td>Individual</td><td>null</td><td>null</td></tr>\n",
       "<tr><td>4395baca2ea2d58a8...</td><td>Lieutenant</td><td>10+ years</td><td>MORTGAGE</td><td>120000.0</td><td>TX</td><td>760xx</td><td>USA</td><td>A</td><td>A5</td><td>Not Verified</td><td>290804.0</td><td>Individual</td><td>null</td><td>null</td></tr>\n",
       "<tr><td>45ac50a4b31e7c191...</td><td>Financial Adminis...</td><td>10+ years</td><td>MORTGAGE</td><td>57000.0</td><td>MA</td><td>010xx</td><td>USA</td><td>A</td><td>A3</td><td>Source Verified</td><td>35000.0</td><td>Individual</td><td>null</td><td>null</td></tr>\n",
       "<tr><td>a6a1b2d34c1f8d409...</td><td>center director</td><td>10+ years</td><td>MORTGAGE</td><td>58000.0</td><td>NY</td><td>109xx</td><td>USA</td><td>E</td><td>E3</td><td>Verified</td><td>47576.0</td><td>Joint App</td><td>122000.0</td><td>Not Verified</td></tr>\n",
       "<tr><td>aa1795bf3b4e526f4...</td><td>tractor trailer o...</td><td>4 years</td><td>RENT</td><td>71000.0</td><td>IN</td><td>462xx</td><td>USA</td><td>C</td><td>C2</td><td>Source Verified</td><td>30512.0</td><td>Individual</td><td>null</td><td>null</td></tr>\n",
       "<tr><td>8e0e745628d1fb06e...</td><td>Designer</td><td>10+ years</td><td>MORTGAGE</td><td>75000.0</td><td>TX</td><td>750xx</td><td>USA</td><td>C</td><td>C4</td><td>Source Verified</td><td>233369.0</td><td>Individual</td><td>null</td><td>null</td></tr>\n",
       "<tr><td>232386e4de5f4542b...</td><td>Office Director</td><td>10+ years</td><td>MORTGAGE</td><td>147000.0</td><td>MD</td><td>206xx</td><td>USA</td><td>B</td><td>B5</td><td>Verified</td><td>499678.0</td><td>Individual</td><td>null</td><td>null</td></tr>\n",
       "<tr><td>2d3472c91f8b2a006...</td><td>null</td><td>null</td><td>OWN</td><td>48000.0</td><td>AL</td><td>350xx</td><td>USA</td><td>B</td><td>B1</td><td>Not Verified</td><td>49456.0</td><td>Individual</td><td>null</td><td>null</td></tr>\n",
       "<tr><td>9abeb83f93fd934ff...</td><td>Human Resource An...</td><td>6 years</td><td>RENT</td><td>53000.0</td><td>VA</td><td>236xx</td><td>USA</td><td>E</td><td>E3</td><td>Source Verified</td><td>113079.0</td><td>Individual</td><td>null</td><td>null</td></tr>\n",
       "<tr><td>cb18b4a8c027d239c...</td><td>Case manager</td><td>3 years</td><td>MORTGAGE</td><td>75000.0</td><td>TX</td><td>774xx</td><td>USA</td><td>B</td><td>B3</td><td>Not Verified</td><td>232150.0</td><td>Individual</td><td>null</td><td>null</td></tr>\n",
       "<tr><td>a91eb99321edd2864...</td><td>Customer Service Rep</td><td>1 year</td><td>RENT</td><td>22000.0</td><td>MD</td><td>212xx</td><td>USA</td><td>C</td><td>C4</td><td>Source Verified</td><td>12403.0</td><td>Individual</td><td>null</td><td>null</td></tr>\n",
       "<tr><td>ee2a6a369b2fe6170...</td><td>Vice President Br...</td><td>10+ years</td><td>MORTGAGE</td><td>60000.0</td><td>WI</td><td>547xx</td><td>USA</td><td>B</td><td>B3</td><td>Source Verified</td><td>424571.0</td><td>Individual</td><td>null</td><td>null</td></tr>\n",
       "</table>\n",
       "only showing top 20 rows\n"
      ],
      "text/plain": [
       "+--------------------+--------------------+----------+--------------+----------+----------+--------+-------+-----+---------+-------------------+---------------+----------------+----------------+-------------------------+\n",
       "|           member_id|           emp_title|emp_length|home_ownership|annual_inc|addr_state|zip_code|country|grade|sub_grade|verification_status|tot_hi_cred_lim|application_type|annual_inc_joint|verification_status_joint|\n",
       "+--------------------+--------------------+----------+--------------+----------+----------+--------+-------+-----+---------+-------------------+---------------+----------------+----------------+-------------------------+\n",
       "|2209556c19f75a204...|           secretary|   7 years|      MORTGAGE|   54000.0|        MO|   656xx|    USA|    B|       B4|    Source Verified|        61451.0|      Individual|            null|                     null|\n",
       "|9d0d53b8de898b446...|             Postman| 10+ years|      MORTGAGE|   60000.0|        GA|   300xx|    USA|    C|       C1|       Not Verified|       337263.0|      Individual|            null|                     null|\n",
       "|1a978870f4a9b4b43...|Communication man...| 10+ years|      MORTGAGE|   90754.0|        NY|   136xx|    USA|    A|       A4|       Not Verified|       283005.0|      Individual|            null|                     null|\n",
       "|c66ccc99ff4372809...|clinical manager ...| 10+ years|      MORTGAGE|  123000.0|        MA|   027xx|    USA|    B|       B3|    Source Verified|       391605.0|       Joint App|        175000.0|             Not Verified|\n",
       "|91d00a422248120a4...|                CRNA|   3 years|      MORTGAGE|  160000.0|        OH|   430xx|    USA|    B|       B4|       Not Verified|       543543.0|      Individual|            null|                     null|\n",
       "|b7539a5579e723b21...|      owner/operator|   4 years|      MORTGAGE|   85000.0|        FL|   339xx|    USA|    C|       C5|    Source Verified|        55080.0|      Individual|            null|                     null|\n",
       "|2fca945a60ef9246c...|          Accountant| 10+ years|      MORTGAGE|   58000.0|        NC|   286xx|    USA|    B|       B5|       Not Verified|       170071.0|      Individual|            null|                     null|\n",
       "|8a6dababd11fd592f...|             Manager|   3 years|          RENT|  150000.0|        FL|   334xx|    USA|    C|       C3|    Source Verified|       113792.0|      Individual|            null|                     null|\n",
       "|3af72ce29e878edd7...|                  RN|  < 1 year|           OWN|   75000.0|        TX|   775xx|    USA|    C|       C3|       Not Verified|       199932.0|      Individual|            null|                     null|\n",
       "|4395baca2ea2d58a8...|          Lieutenant| 10+ years|      MORTGAGE|  120000.0|        TX|   760xx|    USA|    A|       A5|       Not Verified|       290804.0|      Individual|            null|                     null|\n",
       "|45ac50a4b31e7c191...|Financial Adminis...| 10+ years|      MORTGAGE|   57000.0|        MA|   010xx|    USA|    A|       A3|    Source Verified|        35000.0|      Individual|            null|                     null|\n",
       "|a6a1b2d34c1f8d409...|     center director| 10+ years|      MORTGAGE|   58000.0|        NY|   109xx|    USA|    E|       E3|           Verified|        47576.0|       Joint App|        122000.0|             Not Verified|\n",
       "|aa1795bf3b4e526f4...|tractor trailer o...|   4 years|          RENT|   71000.0|        IN|   462xx|    USA|    C|       C2|    Source Verified|        30512.0|      Individual|            null|                     null|\n",
       "|8e0e745628d1fb06e...|            Designer| 10+ years|      MORTGAGE|   75000.0|        TX|   750xx|    USA|    C|       C4|    Source Verified|       233369.0|      Individual|            null|                     null|\n",
       "|232386e4de5f4542b...|     Office Director| 10+ years|      MORTGAGE|  147000.0|        MD|   206xx|    USA|    B|       B5|           Verified|       499678.0|      Individual|            null|                     null|\n",
       "|2d3472c91f8b2a006...|                null|      null|           OWN|   48000.0|        AL|   350xx|    USA|    B|       B1|       Not Verified|        49456.0|      Individual|            null|                     null|\n",
       "|9abeb83f93fd934ff...|Human Resource An...|   6 years|          RENT|   53000.0|        VA|   236xx|    USA|    E|       E3|    Source Verified|       113079.0|      Individual|            null|                     null|\n",
       "|cb18b4a8c027d239c...|        Case manager|   3 years|      MORTGAGE|   75000.0|        TX|   774xx|    USA|    B|       B3|       Not Verified|       232150.0|      Individual|            null|                     null|\n",
       "|a91eb99321edd2864...|Customer Service Rep|    1 year|          RENT|   22000.0|        MD|   212xx|    USA|    C|       C4|    Source Verified|        12403.0|      Individual|            null|                     null|\n",
       "|ee2a6a369b2fe6170...|Vice President Br...| 10+ years|      MORTGAGE|   60000.0|        WI|   547xx|    USA|    B|       B3|    Source Verified|       424571.0|      Individual|            null|                     null|\n",
       "+--------------------+--------------------+----------+--------------+----------+----------+--------+-------+-----+---------+-------------------+---------------+----------------+----------------+-------------------------+\n",
       "only showing top 20 rows"
      ]
     },
     "execution_count": 4,
     "metadata": {},
     "output_type": "execute_result"
    }
   ],
   "source": [
    "customers_raw_df"
   ]
  },
  {
   "cell_type": "code",
   "execution_count": 0,
   "metadata": {
    "application/vnd.databricks.v1+cell": {
     "cellMetadata": {},
     "inputWidgets": {},
     "nuid": "b2eec784-9d91-452a-9cfd-49909dccc1d1",
     "showTitle": false,
     "title": ""
    }
   },
   "outputs": [
    {
     "output_type": "stream",
     "name": "stdout",
     "output_type": "stream",
     "text": [
      "root\n |-- member_id: string (nullable = true)\n |-- emp_title: string (nullable = true)\n |-- emp_length: string (nullable = true)\n |-- home_ownership: string (nullable = true)\n |-- annual_inc: string (nullable = true)\n |-- addr_state: string (nullable = true)\n |-- zip_code: string (nullable = true)\n |-- country: string (nullable = true)\n |-- grade: string (nullable = true)\n |-- sub_grade: string (nullable = true)\n |-- verification_status: string (nullable = true)\n |-- tot_hi_cred_lim: double (nullable = true)\n |-- application_type: string (nullable = true)\n |-- annual_inc_joint: string (nullable = true)\n |-- verification_status_joint: string (nullable = true)\n\n"
     ]
    }
   ],
   "source": [
    "customers_raw_df.printSchema()"
   ]
  },
  {
   "cell_type": "markdown",
   "metadata": {
    "application/vnd.databricks.v1+cell": {
     "cellMetadata": {},
     "inputWidgets": {},
     "nuid": "1d61b107-ad66-40cf-ab20-8e207e9a4148",
     "showTitle": false,
     "title": ""
    }
   },
   "source": [
    "#### 1. create a dataframe with proper datatypes "
   ]
  },
  {
   "cell_type": "code",
   "execution_count": 0,
   "metadata": {
    "application/vnd.databricks.v1+cell": {
     "cellMetadata": {},
     "inputWidgets": {},
     "nuid": "1b18978b-f622-42db-a2da-60ee6695ba74",
     "showTitle": false,
     "title": ""
    }
   },
   "outputs": [],
   "source": [
    "customer_schema = 'member_id string, emp_title string, emp_length string, home_ownership string, annual_inc float, addr_state string, zip_code string, country string, grade string, sub_grade string, verification_status string, tot_hi_cred_lim float, application_type string, annual_inc_joint float, verification_status_joint string'"
   ]
  },
  {
   "cell_type": "code",
   "execution_count": 0,
   "metadata": {
    "application/vnd.databricks.v1+cell": {
     "cellMetadata": {},
     "inputWidgets": {},
     "nuid": "26a04955-5544-4f87-9f5b-4ef4fc868429",
     "showTitle": false,
     "title": ""
    }
   },
   "outputs": [],
   "source": [
    "# Load customers raw data with the schema defined above\n",
    "customers_raw_df = spark.read \\\n",
    ".format(\"csv\") \\\n",
    ".schema(customer_schema) \\\n",
    ".option(\"header\",\"true\") \\\n",
    ".load(\"/user/itv008542/lendingclubproject/raw/customers_data_csv\")\n"
   ]
  },
  {
   "cell_type": "code",
   "execution_count": 0,
   "metadata": {
    "application/vnd.databricks.v1+cell": {
     "cellMetadata": {},
     "inputWidgets": {},
     "nuid": "c9f7f455-d98d-4d55-a845-ddac38bb302f",
     "showTitle": false,
     "title": ""
    }
   },
   "outputs": [
    {
     "output_type": "stream",
     "name": "stdout",
     "output_type": "stream",
     "text": [
      "root\n |-- member_id: string (nullable = true)\n |-- emp_title: string (nullable = true)\n |-- emp_length: string (nullable = true)\n |-- home_ownership: string (nullable = true)\n |-- annual_inc: float (nullable = true)\n |-- addr_state: string (nullable = true)\n |-- zip_code: string (nullable = true)\n |-- country: string (nullable = true)\n |-- grade: string (nullable = true)\n |-- sub_grade: string (nullable = true)\n |-- verification_status: string (nullable = true)\n |-- tot_hi_cred_lim: float (nullable = true)\n |-- application_type: string (nullable = true)\n |-- annual_inc_joint: float (nullable = true)\n |-- verification_status_joint: string (nullable = true)\n\n"
     ]
    }
   ],
   "source": [
    "customers_raw_df.printSchema()"
   ]
  },
  {
   "cell_type": "markdown",
   "metadata": {
    "application/vnd.databricks.v1+cell": {
     "cellMetadata": {},
     "inputWidgets": {},
     "nuid": "bfee08e5-90fd-4714-a074-7e94702d92c6",
     "showTitle": false,
     "title": ""
    }
   },
   "source": [
    "#### 2. Rename a few columns"
   ]
  },
  {
   "cell_type": "code",
   "execution_count": 0,
   "metadata": {
    "application/vnd.databricks.v1+cell": {
     "cellMetadata": {},
     "inputWidgets": {},
     "nuid": "0bd6b882-d538-406d-b3b4-e43a4cdf8ca7",
     "showTitle": false,
     "title": ""
    }
   },
   "outputs": [],
   "source": [
    "customer_df_renamed = customers_raw_df.withColumnRenamed(\"annual_inc\", \"annual_income\") \\\n",
    ".withColumnRenamed(\"addr_state\", \"address_state\") \\\n",
    ".withColumnRenamed(\"zip_code\", \"address_zipcode\") \\\n",
    ".withColumnRenamed(\"country\", \"address_country\") \\\n",
    ".withColumnRenamed(\"tot_hi_cred_lim\", \"total_high_credit_limit\") \\\n",
    ".withColumnRenamed(\"annual_inc_joint\", \"join_annual_income\")"
   ]
  },
  {
   "cell_type": "code",
   "execution_count": 0,
   "metadata": {
    "application/vnd.databricks.v1+cell": {
     "cellMetadata": {},
     "inputWidgets": {},
     "nuid": "1ebda699-08c5-4275-b70e-8cb7d88cc065",
     "showTitle": false,
     "title": ""
    }
   },
   "outputs": [
    {
     "output_type": "execute_result",
     "data": {
      "text/html": [
       "<table border='1'>\n",
       "<tr><th>member_id</th><th>emp_title</th><th>emp_length</th><th>home_ownership</th><th>annual_income</th><th>address_state</th><th>address_zipcode</th><th>address_country</th><th>grade</th><th>sub_grade</th><th>verification_status</th><th>total_high_credit_limit</th><th>application_type</th><th>join_annual_income</th><th>verification_status_joint</th></tr>\n",
       "<tr><td>2209556c19f75a204...</td><td>secretary</td><td>7 years</td><td>MORTGAGE</td><td>54000.0</td><td>MO</td><td>656xx</td><td>USA</td><td>B</td><td>B4</td><td>Source Verified</td><td>61451.0</td><td>Individual</td><td>null</td><td>null</td></tr>\n",
       "<tr><td>9d0d53b8de898b446...</td><td>Postman</td><td>10+ years</td><td>MORTGAGE</td><td>60000.0</td><td>GA</td><td>300xx</td><td>USA</td><td>C</td><td>C1</td><td>Not Verified</td><td>337263.0</td><td>Individual</td><td>null</td><td>null</td></tr>\n",
       "<tr><td>1a978870f4a9b4b43...</td><td>Communication man...</td><td>10+ years</td><td>MORTGAGE</td><td>90754.0</td><td>NY</td><td>136xx</td><td>USA</td><td>A</td><td>A4</td><td>Not Verified</td><td>283005.0</td><td>Individual</td><td>null</td><td>null</td></tr>\n",
       "<tr><td>c66ccc99ff4372809...</td><td>clinical manager ...</td><td>10+ years</td><td>MORTGAGE</td><td>123000.0</td><td>MA</td><td>027xx</td><td>USA</td><td>B</td><td>B3</td><td>Source Verified</td><td>391605.0</td><td>Joint App</td><td>175000.0</td><td>Not Verified</td></tr>\n",
       "<tr><td>91d00a422248120a4...</td><td>CRNA</td><td>3 years</td><td>MORTGAGE</td><td>160000.0</td><td>OH</td><td>430xx</td><td>USA</td><td>B</td><td>B4</td><td>Not Verified</td><td>543543.0</td><td>Individual</td><td>null</td><td>null</td></tr>\n",
       "<tr><td>b7539a5579e723b21...</td><td>owner/operator</td><td>4 years</td><td>MORTGAGE</td><td>85000.0</td><td>FL</td><td>339xx</td><td>USA</td><td>C</td><td>C5</td><td>Source Verified</td><td>55080.0</td><td>Individual</td><td>null</td><td>null</td></tr>\n",
       "<tr><td>2fca945a60ef9246c...</td><td>Accountant</td><td>10+ years</td><td>MORTGAGE</td><td>58000.0</td><td>NC</td><td>286xx</td><td>USA</td><td>B</td><td>B5</td><td>Not Verified</td><td>170071.0</td><td>Individual</td><td>null</td><td>null</td></tr>\n",
       "<tr><td>8a6dababd11fd592f...</td><td>Manager</td><td>3 years</td><td>RENT</td><td>150000.0</td><td>FL</td><td>334xx</td><td>USA</td><td>C</td><td>C3</td><td>Source Verified</td><td>113792.0</td><td>Individual</td><td>null</td><td>null</td></tr>\n",
       "<tr><td>3af72ce29e878edd7...</td><td>RN</td><td>&lt; 1 year</td><td>OWN</td><td>75000.0</td><td>TX</td><td>775xx</td><td>USA</td><td>C</td><td>C3</td><td>Not Verified</td><td>199932.0</td><td>Individual</td><td>null</td><td>null</td></tr>\n",
       "<tr><td>4395baca2ea2d58a8...</td><td>Lieutenant</td><td>10+ years</td><td>MORTGAGE</td><td>120000.0</td><td>TX</td><td>760xx</td><td>USA</td><td>A</td><td>A5</td><td>Not Verified</td><td>290804.0</td><td>Individual</td><td>null</td><td>null</td></tr>\n",
       "<tr><td>45ac50a4b31e7c191...</td><td>Financial Adminis...</td><td>10+ years</td><td>MORTGAGE</td><td>57000.0</td><td>MA</td><td>010xx</td><td>USA</td><td>A</td><td>A3</td><td>Source Verified</td><td>35000.0</td><td>Individual</td><td>null</td><td>null</td></tr>\n",
       "<tr><td>a6a1b2d34c1f8d409...</td><td>center director</td><td>10+ years</td><td>MORTGAGE</td><td>58000.0</td><td>NY</td><td>109xx</td><td>USA</td><td>E</td><td>E3</td><td>Verified</td><td>47576.0</td><td>Joint App</td><td>122000.0</td><td>Not Verified</td></tr>\n",
       "<tr><td>aa1795bf3b4e526f4...</td><td>tractor trailer o...</td><td>4 years</td><td>RENT</td><td>71000.0</td><td>IN</td><td>462xx</td><td>USA</td><td>C</td><td>C2</td><td>Source Verified</td><td>30512.0</td><td>Individual</td><td>null</td><td>null</td></tr>\n",
       "<tr><td>8e0e745628d1fb06e...</td><td>Designer</td><td>10+ years</td><td>MORTGAGE</td><td>75000.0</td><td>TX</td><td>750xx</td><td>USA</td><td>C</td><td>C4</td><td>Source Verified</td><td>233369.0</td><td>Individual</td><td>null</td><td>null</td></tr>\n",
       "<tr><td>232386e4de5f4542b...</td><td>Office Director</td><td>10+ years</td><td>MORTGAGE</td><td>147000.0</td><td>MD</td><td>206xx</td><td>USA</td><td>B</td><td>B5</td><td>Verified</td><td>499678.0</td><td>Individual</td><td>null</td><td>null</td></tr>\n",
       "<tr><td>2d3472c91f8b2a006...</td><td>null</td><td>null</td><td>OWN</td><td>48000.0</td><td>AL</td><td>350xx</td><td>USA</td><td>B</td><td>B1</td><td>Not Verified</td><td>49456.0</td><td>Individual</td><td>null</td><td>null</td></tr>\n",
       "<tr><td>9abeb83f93fd934ff...</td><td>Human Resource An...</td><td>6 years</td><td>RENT</td><td>53000.0</td><td>VA</td><td>236xx</td><td>USA</td><td>E</td><td>E3</td><td>Source Verified</td><td>113079.0</td><td>Individual</td><td>null</td><td>null</td></tr>\n",
       "<tr><td>cb18b4a8c027d239c...</td><td>Case manager</td><td>3 years</td><td>MORTGAGE</td><td>75000.0</td><td>TX</td><td>774xx</td><td>USA</td><td>B</td><td>B3</td><td>Not Verified</td><td>232150.0</td><td>Individual</td><td>null</td><td>null</td></tr>\n",
       "<tr><td>a91eb99321edd2864...</td><td>Customer Service Rep</td><td>1 year</td><td>RENT</td><td>22000.0</td><td>MD</td><td>212xx</td><td>USA</td><td>C</td><td>C4</td><td>Source Verified</td><td>12403.0</td><td>Individual</td><td>null</td><td>null</td></tr>\n",
       "<tr><td>ee2a6a369b2fe6170...</td><td>Vice President Br...</td><td>10+ years</td><td>MORTGAGE</td><td>60000.0</td><td>WI</td><td>547xx</td><td>USA</td><td>B</td><td>B3</td><td>Source Verified</td><td>424571.0</td><td>Individual</td><td>null</td><td>null</td></tr>\n",
       "</table>\n",
       "only showing top 20 rows\n"
      ],
      "text/plain": [
       "+--------------------+--------------------+----------+--------------+-------------+-------------+---------------+---------------+-----+---------+-------------------+-----------------------+----------------+------------------+-------------------------+\n",
       "|           member_id|           emp_title|emp_length|home_ownership|annual_income|address_state|address_zipcode|address_country|grade|sub_grade|verification_status|total_high_credit_limit|application_type|join_annual_income|verification_status_joint|\n",
       "+--------------------+--------------------+----------+--------------+-------------+-------------+---------------+---------------+-----+---------+-------------------+-----------------------+----------------+------------------+-------------------------+\n",
       "|2209556c19f75a204...|           secretary|   7 years|      MORTGAGE|      54000.0|           MO|          656xx|            USA|    B|       B4|    Source Verified|                61451.0|      Individual|              null|                     null|\n",
       "|9d0d53b8de898b446...|             Postman| 10+ years|      MORTGAGE|      60000.0|           GA|          300xx|            USA|    C|       C1|       Not Verified|               337263.0|      Individual|              null|                     null|\n",
       "|1a978870f4a9b4b43...|Communication man...| 10+ years|      MORTGAGE|      90754.0|           NY|          136xx|            USA|    A|       A4|       Not Verified|               283005.0|      Individual|              null|                     null|\n",
       "|c66ccc99ff4372809...|clinical manager ...| 10+ years|      MORTGAGE|     123000.0|           MA|          027xx|            USA|    B|       B3|    Source Verified|               391605.0|       Joint App|          175000.0|             Not Verified|\n",
       "|91d00a422248120a4...|                CRNA|   3 years|      MORTGAGE|     160000.0|           OH|          430xx|            USA|    B|       B4|       Not Verified|               543543.0|      Individual|              null|                     null|\n",
       "|b7539a5579e723b21...|      owner/operator|   4 years|      MORTGAGE|      85000.0|           FL|          339xx|            USA|    C|       C5|    Source Verified|                55080.0|      Individual|              null|                     null|\n",
       "|2fca945a60ef9246c...|          Accountant| 10+ years|      MORTGAGE|      58000.0|           NC|          286xx|            USA|    B|       B5|       Not Verified|               170071.0|      Individual|              null|                     null|\n",
       "|8a6dababd11fd592f...|             Manager|   3 years|          RENT|     150000.0|           FL|          334xx|            USA|    C|       C3|    Source Verified|               113792.0|      Individual|              null|                     null|\n",
       "|3af72ce29e878edd7...|                  RN|  < 1 year|           OWN|      75000.0|           TX|          775xx|            USA|    C|       C3|       Not Verified|               199932.0|      Individual|              null|                     null|\n",
       "|4395baca2ea2d58a8...|          Lieutenant| 10+ years|      MORTGAGE|     120000.0|           TX|          760xx|            USA|    A|       A5|       Not Verified|               290804.0|      Individual|              null|                     null|\n",
       "|45ac50a4b31e7c191...|Financial Adminis...| 10+ years|      MORTGAGE|      57000.0|           MA|          010xx|            USA|    A|       A3|    Source Verified|                35000.0|      Individual|              null|                     null|\n",
       "|a6a1b2d34c1f8d409...|     center director| 10+ years|      MORTGAGE|      58000.0|           NY|          109xx|            USA|    E|       E3|           Verified|                47576.0|       Joint App|          122000.0|             Not Verified|\n",
       "|aa1795bf3b4e526f4...|tractor trailer o...|   4 years|          RENT|      71000.0|           IN|          462xx|            USA|    C|       C2|    Source Verified|                30512.0|      Individual|              null|                     null|\n",
       "|8e0e745628d1fb06e...|            Designer| 10+ years|      MORTGAGE|      75000.0|           TX|          750xx|            USA|    C|       C4|    Source Verified|               233369.0|      Individual|              null|                     null|\n",
       "|232386e4de5f4542b...|     Office Director| 10+ years|      MORTGAGE|     147000.0|           MD|          206xx|            USA|    B|       B5|           Verified|               499678.0|      Individual|              null|                     null|\n",
       "|2d3472c91f8b2a006...|                null|      null|           OWN|      48000.0|           AL|          350xx|            USA|    B|       B1|       Not Verified|                49456.0|      Individual|              null|                     null|\n",
       "|9abeb83f93fd934ff...|Human Resource An...|   6 years|          RENT|      53000.0|           VA|          236xx|            USA|    E|       E3|    Source Verified|               113079.0|      Individual|              null|                     null|\n",
       "|cb18b4a8c027d239c...|        Case manager|   3 years|      MORTGAGE|      75000.0|           TX|          774xx|            USA|    B|       B3|       Not Verified|               232150.0|      Individual|              null|                     null|\n",
       "|a91eb99321edd2864...|Customer Service Rep|    1 year|          RENT|      22000.0|           MD|          212xx|            USA|    C|       C4|    Source Verified|                12403.0|      Individual|              null|                     null|\n",
       "|ee2a6a369b2fe6170...|Vice President Br...| 10+ years|      MORTGAGE|      60000.0|           WI|          547xx|            USA|    B|       B3|    Source Verified|               424571.0|      Individual|              null|                     null|\n",
       "+--------------------+--------------------+----------+--------------+-------------+-------------+---------------+---------------+-----+---------+-------------------+-----------------------+----------------+------------------+-------------------------+\n",
       "only showing top 20 rows"
      ]
     },
     "execution_count": 10,
     "metadata": {},
     "output_type": "execute_result"
    }
   ],
   "source": [
    "customer_df_renamed"
   ]
  },
  {
   "cell_type": "markdown",
   "metadata": {
    "application/vnd.databricks.v1+cell": {
     "cellMetadata": {},
     "inputWidgets": {},
     "nuid": "91764de6-6b65-4322-a5c2-40cddff41486",
     "showTitle": false,
     "title": ""
    }
   },
   "source": [
    "#### 3. Insert a new column named as ingestion date(current time)\n",
    "##### This is to keep track when file was ingested to our datalake."
   ]
  },
  {
   "cell_type": "code",
   "execution_count": 0,
   "metadata": {
    "application/vnd.databricks.v1+cell": {
     "cellMetadata": {},
     "inputWidgets": {},
     "nuid": "50cb9da2-7a95-4a96-bd81-208e0eaa6333",
     "showTitle": false,
     "title": ""
    }
   },
   "outputs": [],
   "source": [
    "from pyspark.sql.functions import current_timestamp"
   ]
  },
  {
   "cell_type": "code",
   "execution_count": 0,
   "metadata": {
    "application/vnd.databricks.v1+cell": {
     "cellMetadata": {},
     "inputWidgets": {},
     "nuid": "502631c1-e8f8-4d10-b605-aabb7ad79d39",
     "showTitle": false,
     "title": ""
    }
   },
   "outputs": [],
   "source": [
    "customers_df_ingestd = customer_df_renamed.withColumn(\"ingest_date\", current_timestamp())"
   ]
  },
  {
   "cell_type": "code",
   "execution_count": 0,
   "metadata": {
    "application/vnd.databricks.v1+cell": {
     "cellMetadata": {},
     "inputWidgets": {},
     "nuid": "6ad0038b-2042-4164-871b-b1c58d780b61",
     "showTitle": false,
     "title": ""
    }
   },
   "outputs": [
    {
     "output_type": "execute_result",
     "data": {
      "text/html": [
       "<table border='1'>\n",
       "<tr><th>member_id</th><th>emp_title</th><th>emp_length</th><th>home_ownership</th><th>annual_income</th><th>address_state</th><th>address_zipcode</th><th>address_country</th><th>grade</th><th>sub_grade</th><th>verification_status</th><th>total_high_credit_limit</th><th>application_type</th><th>join_annual_income</th><th>verification_status_joint</th><th>ingest_date</th></tr>\n",
       "<tr><td>2209556c19f75a204...</td><td>secretary</td><td>7 years</td><td>MORTGAGE</td><td>54000.0</td><td>MO</td><td>656xx</td><td>USA</td><td>B</td><td>B4</td><td>Source Verified</td><td>61451.0</td><td>Individual</td><td>null</td><td>null</td><td>2024-02-07 02:58:...</td></tr>\n",
       "<tr><td>9d0d53b8de898b446...</td><td>Postman</td><td>10+ years</td><td>MORTGAGE</td><td>60000.0</td><td>GA</td><td>300xx</td><td>USA</td><td>C</td><td>C1</td><td>Not Verified</td><td>337263.0</td><td>Individual</td><td>null</td><td>null</td><td>2024-02-07 02:58:...</td></tr>\n",
       "<tr><td>1a978870f4a9b4b43...</td><td>Communication man...</td><td>10+ years</td><td>MORTGAGE</td><td>90754.0</td><td>NY</td><td>136xx</td><td>USA</td><td>A</td><td>A4</td><td>Not Verified</td><td>283005.0</td><td>Individual</td><td>null</td><td>null</td><td>2024-02-07 02:58:...</td></tr>\n",
       "<tr><td>c66ccc99ff4372809...</td><td>clinical manager ...</td><td>10+ years</td><td>MORTGAGE</td><td>123000.0</td><td>MA</td><td>027xx</td><td>USA</td><td>B</td><td>B3</td><td>Source Verified</td><td>391605.0</td><td>Joint App</td><td>175000.0</td><td>Not Verified</td><td>2024-02-07 02:58:...</td></tr>\n",
       "<tr><td>91d00a422248120a4...</td><td>CRNA</td><td>3 years</td><td>MORTGAGE</td><td>160000.0</td><td>OH</td><td>430xx</td><td>USA</td><td>B</td><td>B4</td><td>Not Verified</td><td>543543.0</td><td>Individual</td><td>null</td><td>null</td><td>2024-02-07 02:58:...</td></tr>\n",
       "<tr><td>b7539a5579e723b21...</td><td>owner/operator</td><td>4 years</td><td>MORTGAGE</td><td>85000.0</td><td>FL</td><td>339xx</td><td>USA</td><td>C</td><td>C5</td><td>Source Verified</td><td>55080.0</td><td>Individual</td><td>null</td><td>null</td><td>2024-02-07 02:58:...</td></tr>\n",
       "<tr><td>2fca945a60ef9246c...</td><td>Accountant</td><td>10+ years</td><td>MORTGAGE</td><td>58000.0</td><td>NC</td><td>286xx</td><td>USA</td><td>B</td><td>B5</td><td>Not Verified</td><td>170071.0</td><td>Individual</td><td>null</td><td>null</td><td>2024-02-07 02:58:...</td></tr>\n",
       "<tr><td>8a6dababd11fd592f...</td><td>Manager</td><td>3 years</td><td>RENT</td><td>150000.0</td><td>FL</td><td>334xx</td><td>USA</td><td>C</td><td>C3</td><td>Source Verified</td><td>113792.0</td><td>Individual</td><td>null</td><td>null</td><td>2024-02-07 02:58:...</td></tr>\n",
       "<tr><td>3af72ce29e878edd7...</td><td>RN</td><td>&lt; 1 year</td><td>OWN</td><td>75000.0</td><td>TX</td><td>775xx</td><td>USA</td><td>C</td><td>C3</td><td>Not Verified</td><td>199932.0</td><td>Individual</td><td>null</td><td>null</td><td>2024-02-07 02:58:...</td></tr>\n",
       "<tr><td>4395baca2ea2d58a8...</td><td>Lieutenant</td><td>10+ years</td><td>MORTGAGE</td><td>120000.0</td><td>TX</td><td>760xx</td><td>USA</td><td>A</td><td>A5</td><td>Not Verified</td><td>290804.0</td><td>Individual</td><td>null</td><td>null</td><td>2024-02-07 02:58:...</td></tr>\n",
       "<tr><td>45ac50a4b31e7c191...</td><td>Financial Adminis...</td><td>10+ years</td><td>MORTGAGE</td><td>57000.0</td><td>MA</td><td>010xx</td><td>USA</td><td>A</td><td>A3</td><td>Source Verified</td><td>35000.0</td><td>Individual</td><td>null</td><td>null</td><td>2024-02-07 02:58:...</td></tr>\n",
       "<tr><td>a6a1b2d34c1f8d409...</td><td>center director</td><td>10+ years</td><td>MORTGAGE</td><td>58000.0</td><td>NY</td><td>109xx</td><td>USA</td><td>E</td><td>E3</td><td>Verified</td><td>47576.0</td><td>Joint App</td><td>122000.0</td><td>Not Verified</td><td>2024-02-07 02:58:...</td></tr>\n",
       "<tr><td>aa1795bf3b4e526f4...</td><td>tractor trailer o...</td><td>4 years</td><td>RENT</td><td>71000.0</td><td>IN</td><td>462xx</td><td>USA</td><td>C</td><td>C2</td><td>Source Verified</td><td>30512.0</td><td>Individual</td><td>null</td><td>null</td><td>2024-02-07 02:58:...</td></tr>\n",
       "<tr><td>8e0e745628d1fb06e...</td><td>Designer</td><td>10+ years</td><td>MORTGAGE</td><td>75000.0</td><td>TX</td><td>750xx</td><td>USA</td><td>C</td><td>C4</td><td>Source Verified</td><td>233369.0</td><td>Individual</td><td>null</td><td>null</td><td>2024-02-07 02:58:...</td></tr>\n",
       "<tr><td>232386e4de5f4542b...</td><td>Office Director</td><td>10+ years</td><td>MORTGAGE</td><td>147000.0</td><td>MD</td><td>206xx</td><td>USA</td><td>B</td><td>B5</td><td>Verified</td><td>499678.0</td><td>Individual</td><td>null</td><td>null</td><td>2024-02-07 02:58:...</td></tr>\n",
       "<tr><td>2d3472c91f8b2a006...</td><td>null</td><td>null</td><td>OWN</td><td>48000.0</td><td>AL</td><td>350xx</td><td>USA</td><td>B</td><td>B1</td><td>Not Verified</td><td>49456.0</td><td>Individual</td><td>null</td><td>null</td><td>2024-02-07 02:58:...</td></tr>\n",
       "<tr><td>9abeb83f93fd934ff...</td><td>Human Resource An...</td><td>6 years</td><td>RENT</td><td>53000.0</td><td>VA</td><td>236xx</td><td>USA</td><td>E</td><td>E3</td><td>Source Verified</td><td>113079.0</td><td>Individual</td><td>null</td><td>null</td><td>2024-02-07 02:58:...</td></tr>\n",
       "<tr><td>cb18b4a8c027d239c...</td><td>Case manager</td><td>3 years</td><td>MORTGAGE</td><td>75000.0</td><td>TX</td><td>774xx</td><td>USA</td><td>B</td><td>B3</td><td>Not Verified</td><td>232150.0</td><td>Individual</td><td>null</td><td>null</td><td>2024-02-07 02:58:...</td></tr>\n",
       "<tr><td>a91eb99321edd2864...</td><td>Customer Service Rep</td><td>1 year</td><td>RENT</td><td>22000.0</td><td>MD</td><td>212xx</td><td>USA</td><td>C</td><td>C4</td><td>Source Verified</td><td>12403.0</td><td>Individual</td><td>null</td><td>null</td><td>2024-02-07 02:58:...</td></tr>\n",
       "<tr><td>ee2a6a369b2fe6170...</td><td>Vice President Br...</td><td>10+ years</td><td>MORTGAGE</td><td>60000.0</td><td>WI</td><td>547xx</td><td>USA</td><td>B</td><td>B3</td><td>Source Verified</td><td>424571.0</td><td>Individual</td><td>null</td><td>null</td><td>2024-02-07 02:58:...</td></tr>\n",
       "</table>\n",
       "only showing top 20 rows\n"
      ],
      "text/plain": [
       "+--------------------+--------------------+----------+--------------+-------------+-------------+---------------+---------------+-----+---------+-------------------+-----------------------+----------------+------------------+-------------------------+--------------------+\n",
       "|           member_id|           emp_title|emp_length|home_ownership|annual_income|address_state|address_zipcode|address_country|grade|sub_grade|verification_status|total_high_credit_limit|application_type|join_annual_income|verification_status_joint|         ingest_date|\n",
       "+--------------------+--------------------+----------+--------------+-------------+-------------+---------------+---------------+-----+---------+-------------------+-----------------------+----------------+------------------+-------------------------+--------------------+\n",
       "|2209556c19f75a204...|           secretary|   7 years|      MORTGAGE|      54000.0|           MO|          656xx|            USA|    B|       B4|    Source Verified|                61451.0|      Individual|              null|                     null|2024-02-07 02:58:...|\n",
       "|9d0d53b8de898b446...|             Postman| 10+ years|      MORTGAGE|      60000.0|           GA|          300xx|            USA|    C|       C1|       Not Verified|               337263.0|      Individual|              null|                     null|2024-02-07 02:58:...|\n",
       "|1a978870f4a9b4b43...|Communication man...| 10+ years|      MORTGAGE|      90754.0|           NY|          136xx|            USA|    A|       A4|       Not Verified|               283005.0|      Individual|              null|                     null|2024-02-07 02:58:...|\n",
       "|c66ccc99ff4372809...|clinical manager ...| 10+ years|      MORTGAGE|     123000.0|           MA|          027xx|            USA|    B|       B3|    Source Verified|               391605.0|       Joint App|          175000.0|             Not Verified|2024-02-07 02:58:...|\n",
       "|91d00a422248120a4...|                CRNA|   3 years|      MORTGAGE|     160000.0|           OH|          430xx|            USA|    B|       B4|       Not Verified|               543543.0|      Individual|              null|                     null|2024-02-07 02:58:...|\n",
       "|b7539a5579e723b21...|      owner/operator|   4 years|      MORTGAGE|      85000.0|           FL|          339xx|            USA|    C|       C5|    Source Verified|                55080.0|      Individual|              null|                     null|2024-02-07 02:58:...|\n",
       "|2fca945a60ef9246c...|          Accountant| 10+ years|      MORTGAGE|      58000.0|           NC|          286xx|            USA|    B|       B5|       Not Verified|               170071.0|      Individual|              null|                     null|2024-02-07 02:58:...|\n",
       "|8a6dababd11fd592f...|             Manager|   3 years|          RENT|     150000.0|           FL|          334xx|            USA|    C|       C3|    Source Verified|               113792.0|      Individual|              null|                     null|2024-02-07 02:58:...|\n",
       "|3af72ce29e878edd7...|                  RN|  < 1 year|           OWN|      75000.0|           TX|          775xx|            USA|    C|       C3|       Not Verified|               199932.0|      Individual|              null|                     null|2024-02-07 02:58:...|\n",
       "|4395baca2ea2d58a8...|          Lieutenant| 10+ years|      MORTGAGE|     120000.0|           TX|          760xx|            USA|    A|       A5|       Not Verified|               290804.0|      Individual|              null|                     null|2024-02-07 02:58:...|\n",
       "|45ac50a4b31e7c191...|Financial Adminis...| 10+ years|      MORTGAGE|      57000.0|           MA|          010xx|            USA|    A|       A3|    Source Verified|                35000.0|      Individual|              null|                     null|2024-02-07 02:58:...|\n",
       "|a6a1b2d34c1f8d409...|     center director| 10+ years|      MORTGAGE|      58000.0|           NY|          109xx|            USA|    E|       E3|           Verified|                47576.0|       Joint App|          122000.0|             Not Verified|2024-02-07 02:58:...|\n",
       "|aa1795bf3b4e526f4...|tractor trailer o...|   4 years|          RENT|      71000.0|           IN|          462xx|            USA|    C|       C2|    Source Verified|                30512.0|      Individual|              null|                     null|2024-02-07 02:58:...|\n",
       "|8e0e745628d1fb06e...|            Designer| 10+ years|      MORTGAGE|      75000.0|           TX|          750xx|            USA|    C|       C4|    Source Verified|               233369.0|      Individual|              null|                     null|2024-02-07 02:58:...|\n",
       "|232386e4de5f4542b...|     Office Director| 10+ years|      MORTGAGE|     147000.0|           MD|          206xx|            USA|    B|       B5|           Verified|               499678.0|      Individual|              null|                     null|2024-02-07 02:58:...|\n",
       "|2d3472c91f8b2a006...|                null|      null|           OWN|      48000.0|           AL|          350xx|            USA|    B|       B1|       Not Verified|                49456.0|      Individual|              null|                     null|2024-02-07 02:58:...|\n",
       "|9abeb83f93fd934ff...|Human Resource An...|   6 years|          RENT|      53000.0|           VA|          236xx|            USA|    E|       E3|    Source Verified|               113079.0|      Individual|              null|                     null|2024-02-07 02:58:...|\n",
       "|cb18b4a8c027d239c...|        Case manager|   3 years|      MORTGAGE|      75000.0|           TX|          774xx|            USA|    B|       B3|       Not Verified|               232150.0|      Individual|              null|                     null|2024-02-07 02:58:...|\n",
       "|a91eb99321edd2864...|Customer Service Rep|    1 year|          RENT|      22000.0|           MD|          212xx|            USA|    C|       C4|    Source Verified|                12403.0|      Individual|              null|                     null|2024-02-07 02:58:...|\n",
       "|ee2a6a369b2fe6170...|Vice President Br...| 10+ years|      MORTGAGE|      60000.0|           WI|          547xx|            USA|    B|       B3|    Source Verified|               424571.0|      Individual|              null|                     null|2024-02-07 02:58:...|\n",
       "+--------------------+--------------------+----------+--------------+-------------+-------------+---------------+---------------+-----+---------+-------------------+-----------------------+----------------+------------------+-------------------------+--------------------+\n",
       "only showing top 20 rows"
      ]
     },
     "execution_count": 13,
     "metadata": {},
     "output_type": "execute_result"
    }
   ],
   "source": [
    "customers_df_ingestd"
   ]
  },
  {
   "cell_type": "markdown",
   "metadata": {
    "application/vnd.databricks.v1+cell": {
     "cellMetadata": {},
     "inputWidgets": {},
     "nuid": "4cef9f37-e23b-4d9f-91d6-9794a7a3c9d6",
     "showTitle": false,
     "title": ""
    }
   },
   "source": [
    "#### 4. Remove complete duplicate rows"
   ]
  },
  {
   "cell_type": "code",
   "execution_count": 0,
   "metadata": {
    "application/vnd.databricks.v1+cell": {
     "cellMetadata": {},
     "inputWidgets": {},
     "nuid": "e3a518e1-271d-4ce2-9fc3-94114129ba88",
     "showTitle": false,
     "title": ""
    }
   },
   "outputs": [
    {
     "output_type": "execute_result",
     "data": {
      "text/plain": [
       "2260701"
      ]
     },
     "execution_count": 14,
     "metadata": {},
     "output_type": "execute_result"
    }
   ],
   "source": [
    "# count total records in customer df\n",
    "customers_df_ingestd.count()"
   ]
  },
  {
   "cell_type": "code",
   "execution_count": 0,
   "metadata": {
    "application/vnd.databricks.v1+cell": {
     "cellMetadata": {},
     "inputWidgets": {},
     "nuid": "fecbdc20-095f-42a3-b33b-fe546b86e7f0",
     "showTitle": false,
     "title": ""
    }
   },
   "outputs": [],
   "source": [
    "# Get distinct record in customer df and store in new df\n",
    "customers_distinct = customers_df_ingestd.distinct()"
   ]
  },
  {
   "cell_type": "code",
   "execution_count": 0,
   "metadata": {
    "application/vnd.databricks.v1+cell": {
     "cellMetadata": {},
     "inputWidgets": {},
     "nuid": "ed988666-7b4c-44fb-9f5c-d3c259ccc464",
     "showTitle": false,
     "title": ""
    }
   },
   "outputs": [
    {
     "output_type": "execute_result",
     "data": {
      "text/plain": [
       "2260638"
      ]
     },
     "execution_count": 16,
     "metadata": {},
     "output_type": "execute_result"
    }
   ],
   "source": [
    "customers_distinct.count()"
   ]
  },
  {
   "cell_type": "code",
   "execution_count": 0,
   "metadata": {
    "application/vnd.databricks.v1+cell": {
     "cellMetadata": {},
     "inputWidgets": {},
     "nuid": "4b32a4c3-631a-4972-844d-1e2182397d76",
     "showTitle": false,
     "title": ""
    }
   },
   "outputs": [],
   "source": [
    "customers_distinct.createOrReplaceTempView(\"customers\")"
   ]
  },
  {
   "cell_type": "code",
   "execution_count": 0,
   "metadata": {
    "application/vnd.databricks.v1+cell": {
     "cellMetadata": {},
     "inputWidgets": {},
     "nuid": "d8bb0ec3-6939-4bff-813e-eb457fc8cb42",
     "showTitle": false,
     "title": ""
    }
   },
   "outputs": [
    {
     "output_type": "execute_result",
     "data": {
      "text/html": [
       "<table border='1'>\n",
       "<tr><th>member_id</th><th>emp_title</th><th>emp_length</th><th>home_ownership</th><th>annual_income</th><th>address_state</th><th>address_zipcode</th><th>address_country</th><th>grade</th><th>sub_grade</th><th>verification_status</th><th>total_high_credit_limit</th><th>application_type</th><th>join_annual_income</th><th>verification_status_joint</th><th>ingest_date</th></tr>\n",
       "<tr><td>a14e7e309691ba3c2...</td><td>Charge nurse</td><td>2 years</td><td>RENT</td><td>42000.0</td><td>CA</td><td>900xx</td><td>USA</td><td>C</td><td>C1</td><td>Source Verified</td><td>44390.0</td><td>Individual</td><td>null</td><td>null</td><td>2024-02-07 02:58:...</td></tr>\n",
       "<tr><td>92417feba5b24731d...</td><td>Destination Manager</td><td>1 year</td><td>RENT</td><td>55500.0</td><td>TX</td><td>787xx</td><td>USA</td><td>B</td><td>B2</td><td>Source Verified</td><td>69850.0</td><td>Individual</td><td>null</td><td>null</td><td>2024-02-07 02:58:...</td></tr>\n",
       "<tr><td>37570a8e6429d1eec...</td><td>CONTROL ROOM OPER...</td><td>10+ years</td><td>RENT</td><td>110000.0</td><td>NY</td><td>104xx</td><td>USA</td><td>C</td><td>C5</td><td>Verified</td><td>134400.0</td><td>Individual</td><td>null</td><td>null</td><td>2024-02-07 02:58:...</td></tr>\n",
       "<tr><td>3c803aa89effd005f...</td><td>Marketing &amp; Opera...</td><td>&lt; 1 year</td><td>MORTGAGE</td><td>50000.0</td><td>IL</td><td>620xx</td><td>USA</td><td>A</td><td>A1</td><td>Verified</td><td>237360.0</td><td>Joint App</td><td>140000.0</td><td>Verified</td><td>2024-02-07 02:58:...</td></tr>\n",
       "<tr><td>c523f97256f038ee3...</td><td>bartender</td><td>1 year</td><td>RENT</td><td>38000.0</td><td>DC</td><td>200xx</td><td>USA</td><td>C</td><td>C4</td><td>Source Verified</td><td>9700.0</td><td>Individual</td><td>null</td><td>null</td><td>2024-02-07 02:58:...</td></tr>\n",
       "<tr><td>d84382110946eae9c...</td><td>Scheduler</td><td>&lt; 1 year</td><td>RENT</td><td>35000.0</td><td>CO</td><td>809xx</td><td>USA</td><td>C</td><td>C4</td><td>Not Verified</td><td>18125.0</td><td>Joint App</td><td>130000.0</td><td>Not Verified</td><td>2024-02-07 02:58:...</td></tr>\n",
       "<tr><td>aa490299ef170f637...</td><td>null</td><td>null</td><td>MORTGAGE</td><td>54000.0</td><td>TX</td><td>774xx</td><td>USA</td><td>B</td><td>B5</td><td>Verified</td><td>253900.0</td><td>Joint App</td><td>105000.0</td><td>Source Verified</td><td>2024-02-07 02:58:...</td></tr>\n",
       "<tr><td>537303aea56f2593a...</td><td>senior operations...</td><td>2 years</td><td>MORTGAGE</td><td>129996.0</td><td>MO</td><td>630xx</td><td>USA</td><td>C</td><td>C4</td><td>Source Verified</td><td>98795.0</td><td>Individual</td><td>null</td><td>null</td><td>2024-02-07 02:58:...</td></tr>\n",
       "<tr><td>04f4c3fa7ca4062d6...</td><td>Painter</td><td>3 years</td><td>OWN</td><td>41600.0</td><td>CT</td><td>061xx</td><td>USA</td><td>B</td><td>B1</td><td>Verified</td><td>246880.0</td><td>Individual</td><td>null</td><td>null</td><td>2024-02-07 02:58:...</td></tr>\n",
       "<tr><td>94a57705dcb4e68db...</td><td>Marketing</td><td>10+ years</td><td>MORTGAGE</td><td>80000.0</td><td>NY</td><td>134xx</td><td>USA</td><td>C</td><td>C5</td><td>Verified</td><td>415056.0</td><td>Individual</td><td>null</td><td>null</td><td>2024-02-07 02:58:...</td></tr>\n",
       "<tr><td>693acfe528465bb6c...</td><td>null</td><td>7 years</td><td>MORTGAGE</td><td>49000.0</td><td>CA</td><td>945xx</td><td>USA</td><td>C</td><td>C4</td><td>Verified</td><td>452982.0</td><td>Individual</td><td>null</td><td>null</td><td>2024-02-07 02:58:...</td></tr>\n",
       "<tr><td>d59f7a6eab746ca14...</td><td>Executive Assistant</td><td>&lt; 1 year</td><td>MORTGAGE</td><td>150000.0</td><td>VA</td><td>201xx</td><td>USA</td><td>B</td><td>B2</td><td>Source Verified</td><td>79700.0</td><td>Individual</td><td>null</td><td>null</td><td>2024-02-07 02:58:...</td></tr>\n",
       "<tr><td>e0b642f716589c18b...</td><td>Sales Manager</td><td>8 years</td><td>MORTGAGE</td><td>202000.0</td><td>HI</td><td>967xx</td><td>USA</td><td>B</td><td>B3</td><td>Verified</td><td>683052.0</td><td>Individual</td><td>null</td><td>null</td><td>2024-02-07 02:58:...</td></tr>\n",
       "<tr><td>40c73dd61d7251ac3...</td><td>null</td><td>null</td><td>OWN</td><td>12000.0</td><td>NJ</td><td>070xx</td><td>USA</td><td>D</td><td>D1</td><td>Verified</td><td>47124.0</td><td>Joint App</td><td>77000.0</td><td>Source Verified</td><td>2024-02-07 02:58:...</td></tr>\n",
       "<tr><td>9c64fdc9d45f1ea0f...</td><td>CERTIFIED DRIVING...</td><td>1 year</td><td>MORTGAGE</td><td>65000.0</td><td>AZ</td><td>852xx</td><td>USA</td><td>C</td><td>C5</td><td>Source Verified</td><td>188682.0</td><td>Individual</td><td>null</td><td>null</td><td>2024-02-07 02:58:...</td></tr>\n",
       "<tr><td>97cd295a4cdb49d4d...</td><td>null</td><td>null</td><td>MORTGAGE</td><td>32000.0</td><td>MI</td><td>480xx</td><td>USA</td><td>A</td><td>A2</td><td>Not Verified</td><td>119910.0</td><td>Individual</td><td>null</td><td>null</td><td>2024-02-07 02:58:...</td></tr>\n",
       "<tr><td>aa3dc44e4fccc74a8...</td><td>Banker</td><td>&lt; 1 year</td><td>MORTGAGE</td><td>60000.0</td><td>CA</td><td>934xx</td><td>USA</td><td>B</td><td>B1</td><td>Source Verified</td><td>302405.0</td><td>Joint App</td><td>110000.0</td><td>Source Verified</td><td>2024-02-07 02:58:...</td></tr>\n",
       "<tr><td>0fb02fdf79bb33b5a...</td><td>admin</td><td>10+ years</td><td>MORTGAGE</td><td>61000.0</td><td>MN</td><td>554xx</td><td>USA</td><td>E</td><td>E4</td><td>Not Verified</td><td>159251.0</td><td>Individual</td><td>null</td><td>null</td><td>2024-02-07 02:58:...</td></tr>\n",
       "<tr><td>17588745e3f8ad5d2...</td><td>IT Manager/System...</td><td>10+ years</td><td>MORTGAGE</td><td>80000.0</td><td>NC</td><td>287xx</td><td>USA</td><td>A</td><td>A5</td><td>Not Verified</td><td>336999.0</td><td>Individual</td><td>null</td><td>null</td><td>2024-02-07 02:58:...</td></tr>\n",
       "<tr><td>d45d13ec40497b2b5...</td><td>Sr Adult Pastor</td><td>10+ years</td><td>RENT</td><td>48000.0</td><td>CA</td><td>925xx</td><td>USA</td><td>C</td><td>C1</td><td>Not Verified</td><td>54125.0</td><td>Individual</td><td>null</td><td>null</td><td>2024-02-07 02:58:...</td></tr>\n",
       "</table>\n",
       "only showing top 20 rows\n"
      ],
      "text/plain": [
       "+--------------------+--------------------+----------+--------------+-------------+-------------+---------------+---------------+-----+---------+-------------------+-----------------------+----------------+------------------+-------------------------+--------------------+\n",
       "|           member_id|           emp_title|emp_length|home_ownership|annual_income|address_state|address_zipcode|address_country|grade|sub_grade|verification_status|total_high_credit_limit|application_type|join_annual_income|verification_status_joint|         ingest_date|\n",
       "+--------------------+--------------------+----------+--------------+-------------+-------------+---------------+---------------+-----+---------+-------------------+-----------------------+----------------+------------------+-------------------------+--------------------+\n",
       "|e398fdfe9f00af219...|          bus driver| 10+ years|      MORTGAGE|      97000.0|           IN|          462xx|            USA|    C|       C1|    Source Verified|               142240.0|      Individual|              null|                     null|2024-02-07 02:58:...|\n",
       "|708cbe86feda3adcb...|    Security Officer|   6 years|          RENT|      30000.0|           CA|          911xx|            USA|    B|       B4|           Verified|                50995.0|      Individual|              null|                     null|2024-02-07 02:58:...|\n",
       "|c293ab551893e2e52...|                null|      null|           OWN|      48000.0|           NM|          871xx|            USA|    C|       C5|       Not Verified|                83854.0|      Individual|              null|                     null|2024-02-07 02:58:...|\n",
       "|8f1d38b35809819ad...|Clinical Rehabili...|   6 years|           OWN|      25000.0|           TN|          381xx|            USA|    F|       F4|    Source Verified|                54268.0|      Individual|              null|                     null|2024-02-07 02:58:...|\n",
       "|165e78d2d2dbb3a10...|Manager, Massage ...| 10+ years|          RENT|      64000.0|           CA|          941xx|            USA|    B|       B2|    Source Verified|                55960.0|      Individual|              null|                     null|2024-02-07 02:58:...|\n",
       "|a8fd83e72649719b9...|              driver| 10+ years|          RENT|      80000.0|           AZ|          853xx|            USA|    C|       C5|           Verified|               121977.0|      Individual|              null|                     null|2024-02-07 02:58:...|\n",
       "|d3a017dd6e8133424...|             Janitor|   6 years|          RENT|      30000.0|           MO|          631xx|            USA|    B|       B3|           Verified|                33150.0|      Individual|              null|                     null|2024-02-07 02:58:...|\n",
       "|072b388a6024d0afe...|   Records Officer I| 10+ years|      MORTGAGE|      80000.0|           CA|          958xx|            USA|    B|       B1|       Not Verified|               307958.0|      Individual|              null|                     null|2024-02-07 02:58:...|\n",
       "|484fcb911ce20fdfc...|           Custodian| 10+ years|           OWN|      31000.0|           TX|          799xx|            USA|    A|       A5|           Verified|                24500.0|      Individual|              null|                     null|2024-02-07 02:58:...|\n",
       "|e00e72a18f5d03041...|Director of Regul...|   4 years|      MORTGAGE|     111000.0|           AK|          997xx|            USA|    A|       A5|       Not Verified|               401605.0|      Individual|              null|                     null|2024-02-07 02:58:...|\n",
       "|36b8bab0aaa1f50a9...|             Teacher|   2 years|          RENT|      47000.0|           AL|          350xx|            USA|    C|       C5|    Source Verified|                75904.0|      Individual|              null|                     null|2024-02-07 02:58:...|\n",
       "|401341210cea75726...|     Senior Director|   6 years|           OWN|     450000.0|           IL|          600xx|            USA|    A|       A1|    Source Verified|               629885.0|      Individual|              null|                     null|2024-02-07 02:58:...|\n",
       "|f9e7a088a9175f5f8...|        Reservations|   5 years|          RENT|      65000.0|           HI|          967xx|            USA|    D|       D4|    Source Verified|                90904.0|      Individual|              null|                     null|2024-02-07 02:58:...|\n",
       "|4187b7fc980bf56e9...|Research Project ...| 10+ years|          RENT|     124900.0|           CA|          920xx|            USA|    D|       D1|           Verified|                58508.0|      Individual|              null|                     null|2024-02-07 02:58:...|\n",
       "|f5c29ef6153e7e244...|      Designer/Sales|    1 year|      MORTGAGE|      85000.0|           SD|          570xx|            USA|    B|       B3|           Verified|               248227.0|      Individual|              null|                     null|2024-02-07 02:58:...|\n",
       "|42cc505bd472d74ca...|          journeyman|   4 years|      MORTGAGE|      69000.0|           WA|          986xx|            USA|    A|       A3|       Not Verified|               242800.0|      Individual|              null|                     null|2024-02-07 02:58:...|\n",
       "|b169373f238f4514e...| Electrical Engineer|   4 years|      MORTGAGE|      84000.0|           OK|          730xx|            USA|    B|       B4|       Not Verified|               150659.0|      Individual|              null|                     null|2024-02-07 02:58:...|\n",
       "|8626f98a6cc708c74...|  Operations Manager|  < 1 year|          RENT|      90000.0|           IN|          463xx|            USA|    A|       A1|       Not Verified|               661269.0|      Individual|              null|                     null|2024-02-07 02:58:...|\n",
       "|af9119b8984722115...|             Teacher| 10+ years|      MORTGAGE|      40000.0|           WV|          264xx|            USA|    B|       B2|           Verified|               276864.0|      Individual|              null|                     null|2024-02-07 02:58:...|\n",
       "|8e123295b15613d83...|             Manager| 10+ years|          RENT|      60000.0|           NJ|          070xx|            USA|    C|       C1|       Not Verified|                46424.0|      Individual|              null|                     null|2024-02-07 02:58:...|\n",
       "+--------------------+--------------------+----------+--------------+-------------+-------------+---------------+---------------+-----+---------+-------------------+-----------------------+----------------+------------------+-------------------------+--------------------+\n",
       "only showing top 20 rows"
      ]
     },
     "execution_count": 18,
     "metadata": {},
     "output_type": "execute_result"
    }
   ],
   "source": [
    "spark.sql(\"select * from customers\")"
   ]
  },
  {
   "cell_type": "markdown",
   "metadata": {
    "application/vnd.databricks.v1+cell": {
     "cellMetadata": {},
     "inputWidgets": {},
     "nuid": "e182a696-f9df-4a3e-a2b4-9e7d1a6c9db5",
     "showTitle": false,
     "title": ""
    }
   },
   "source": [
    "#### 5. Remove the rows where annual_income is null"
   ]
  },
  {
   "cell_type": "code",
   "execution_count": 0,
   "metadata": {
    "application/vnd.databricks.v1+cell": {
     "cellMetadata": {},
     "inputWidgets": {},
     "nuid": "f39ca1bf-6d78-4541-a6f4-4b2d6ffdc890",
     "showTitle": false,
     "title": ""
    }
   },
   "outputs": [
    {
     "output_type": "execute_result",
     "data": {
      "text/html": [
       "<table border='1'>\n",
       "<tr><th>count(1)</th></tr>\n",
       "<tr><td>5</td></tr>\n",
       "</table>\n"
      ],
      "text/plain": [
       "+--------+\n",
       "|count(1)|\n",
       "+--------+\n",
       "|       5|\n",
       "+--------+"
      ]
     },
     "execution_count": 19,
     "metadata": {},
     "output_type": "execute_result"
    }
   ],
   "source": [
    "# Check if there is any row with null annual_income\n",
    "spark.sql(\"select count(*) from customers where annual_income is null\")"
   ]
  },
  {
   "cell_type": "code",
   "execution_count": 0,
   "metadata": {
    "application/vnd.databricks.v1+cell": {
     "cellMetadata": {},
     "inputWidgets": {},
     "nuid": "73b66c35-77c7-4d62-abba-44b0253439fa",
     "showTitle": false,
     "title": ""
    }
   },
   "outputs": [],
   "source": [
    "# Filter record where annual income is not null\n",
    "customers_income_filtered = spark.sql(\"select * from customers where annual_income is not null\")"
   ]
  },
  {
   "cell_type": "code",
   "execution_count": 0,
   "metadata": {
    "application/vnd.databricks.v1+cell": {
     "cellMetadata": {},
     "inputWidgets": {},
     "nuid": "defb11c6-6457-4302-b011-1e3ea368bc8a",
     "showTitle": false,
     "title": ""
    }
   },
   "outputs": [],
   "source": [
    "customers_income_filtered.createOrReplaceTempView(\"customers\")"
   ]
  },
  {
   "cell_type": "code",
   "execution_count": 0,
   "metadata": {
    "application/vnd.databricks.v1+cell": {
     "cellMetadata": {},
     "inputWidgets": {},
     "nuid": "12fb0f5e-5596-4460-b11e-cd439a87093e",
     "showTitle": false,
     "title": ""
    }
   },
   "outputs": [
    {
     "output_type": "execute_result",
     "data": {
      "text/html": [
       "<table border='1'>\n",
       "<tr><th>count(1)</th></tr>\n",
       "<tr><td>0</td></tr>\n",
       "</table>\n"
      ],
      "text/plain": [
       "+--------+\n",
       "|count(1)|\n",
       "+--------+\n",
       "|       0|\n",
       "+--------+"
      ]
     },
     "execution_count": 22,
     "metadata": {},
     "output_type": "execute_result"
    }
   ],
   "source": [
    "spark.sql(\"select count(*) from customers where annual_income is null\")"
   ]
  },
  {
   "cell_type": "markdown",
   "metadata": {
    "application/vnd.databricks.v1+cell": {
     "cellMetadata": {},
     "inputWidgets": {},
     "nuid": "5699c8d7-b7ad-4b72-b801-1ce391542028",
     "showTitle": false,
     "title": ""
    }
   },
   "source": [
    "### 6. convert emp_length to integer"
   ]
  },
  {
   "cell_type": "code",
   "execution_count": 0,
   "metadata": {
    "application/vnd.databricks.v1+cell": {
     "cellMetadata": {},
     "inputWidgets": {},
     "nuid": "4dd16580-1db7-485e-b314-bf841995b120",
     "showTitle": false,
     "title": ""
    }
   },
   "outputs": [
    {
     "output_type": "stream",
     "name": "stdout",
     "output_type": "stream",
     "text": [
      "+----------+\n|emp_length|\n+----------+\n|   5 years|\n|   9 years|\n|      null|\n|    1 year|\n|   2 years|\n|   7 years|\n|   8 years|\n|   4 years|\n|   6 years|\n|   3 years|\n| 10+ years|\n|  < 1 year|\n+----------+\n\n"
     ]
    }
   ],
   "source": [
    "# Check what kind of data is present in the column\n",
    "spark.sql(\"select distinct(emp_length) from customers\").show()"
   ]
  },
  {
   "cell_type": "code",
   "execution_count": 0,
   "metadata": {
    "application/vnd.databricks.v1+cell": {
     "cellMetadata": {},
     "inputWidgets": {},
     "nuid": "100fd1df-2f8c-476f-b4cc-688c677fb389",
     "showTitle": false,
     "title": ""
    }
   },
   "outputs": [],
   "source": [
    "from pyspark.sql.functions import regexp_replace, col"
   ]
  },
  {
   "cell_type": "code",
   "execution_count": 0,
   "metadata": {
    "application/vnd.databricks.v1+cell": {
     "cellMetadata": {},
     "inputWidgets": {},
     "nuid": "48912c74-59a4-4735-81f8-95b82749a2b0",
     "showTitle": false,
     "title": ""
    }
   },
   "outputs": [],
   "source": [
    "customers_emplength_cleaned = customers_income_filtered.withColumn(\"emp_length\", regexp_replace(col(\"emp_length\"), \"(\\D)\",\"\"))"
   ]
  },
  {
   "cell_type": "code",
   "execution_count": 0,
   "metadata": {
    "application/vnd.databricks.v1+cell": {
     "cellMetadata": {},
     "inputWidgets": {},
     "nuid": "979dd7a8-bf83-40f0-9afd-973bbdd5201c",
     "showTitle": false,
     "title": ""
    }
   },
   "outputs": [
    {
     "output_type": "execute_result",
     "data": {
      "text/html": [
       "<table border='1'>\n",
       "<tr><th>member_id</th><th>emp_title</th><th>emp_length</th><th>home_ownership</th><th>annual_income</th><th>address_state</th><th>address_zipcode</th><th>address_country</th><th>grade</th><th>sub_grade</th><th>verification_status</th><th>total_high_credit_limit</th><th>application_type</th><th>join_annual_income</th><th>verification_status_joint</th><th>ingest_date</th></tr>\n",
       "<tr><td>409f1d23593e997aa...</td><td>IT Manager</td><td>5</td><td>MORTGAGE</td><td>105000.0</td><td>TX</td><td>784xx</td><td>USA</td><td>A</td><td>A2</td><td>Not Verified</td><td>250101.0</td><td>Individual</td><td>null</td><td>null</td><td>2024-02-07 02:59:...</td></tr>\n",
       "<tr><td>65b049d7d28ad7005...</td><td>Teacher</td><td>10</td><td>MORTGAGE</td><td>140000.0</td><td>MN</td><td>550xx</td><td>USA</td><td>C</td><td>C4</td><td>Not Verified</td><td>772475.0</td><td>Individual</td><td>null</td><td>null</td><td>2024-02-07 02:59:...</td></tr>\n",
       "<tr><td>0146d68df675d3cd8...</td><td>Senior Supervisor</td><td>4</td><td>RENT</td><td>60000.0</td><td>NC</td><td>276xx</td><td>USA</td><td>C</td><td>C5</td><td>Not Verified</td><td>84608.0</td><td>Individual</td><td>null</td><td>null</td><td>2024-02-07 02:59:...</td></tr>\n",
       "<tr><td>29ae1fd181a4aede5...</td><td>Surgical tech</td><td>10</td><td>RENT</td><td>80000.0</td><td>NM</td><td>871xx</td><td>USA</td><td>C</td><td>C5</td><td>Not Verified</td><td>115797.0</td><td>Individual</td><td>null</td><td>null</td><td>2024-02-07 02:59:...</td></tr>\n",
       "<tr><td>87c71a07f817e47ce...</td><td>Health Services M...</td><td>2</td><td>RENT</td><td>100000.0</td><td>MO</td><td>630xx</td><td>USA</td><td>C</td><td>C2</td><td>Not Verified</td><td>112273.0</td><td>Individual</td><td>null</td><td>null</td><td>2024-02-07 02:59:...</td></tr>\n",
       "<tr><td>aa971a6e7e1f3d953...</td><td>Customer service ...</td><td>4</td><td>OWN</td><td>25000.0</td><td>NJ</td><td>070xx</td><td>USA</td><td>D</td><td>D5</td><td>Verified</td><td>17747.0</td><td>Individual</td><td>null</td><td>null</td><td>2024-02-07 02:59:...</td></tr>\n",
       "<tr><td>7c6508346b8324f53...</td><td>Manager</td><td>4</td><td>RENT</td><td>58000.0</td><td>CT</td><td>064xx</td><td>USA</td><td>C</td><td>C1</td><td>Not Verified</td><td>45688.0</td><td>Individual</td><td>null</td><td>null</td><td>2024-02-07 02:59:...</td></tr>\n",
       "<tr><td>13558aa3f7bb5f1c8...</td><td>Teacher</td><td>1</td><td>RENT</td><td>58000.0</td><td>NY</td><td>100xx</td><td>USA</td><td>C</td><td>C2</td><td>Verified</td><td>101239.0</td><td>Individual</td><td>null</td><td>null</td><td>2024-02-07 02:59:...</td></tr>\n",
       "<tr><td>1f0a14010557a7ed2...</td><td>heat treat operator</td><td>10</td><td>OWN</td><td>85000.0</td><td>NY</td><td>147xx</td><td>USA</td><td>C</td><td>C5</td><td>Verified</td><td>257284.0</td><td>Individual</td><td>null</td><td>null</td><td>2024-02-07 02:59:...</td></tr>\n",
       "<tr><td>e2bfdadfbd9d95aef...</td><td>Sr. Revenue Agent</td><td>1</td><td>MORTGAGE</td><td>55598.0</td><td>SD</td><td>571xx</td><td>USA</td><td>D</td><td>D5</td><td>Source Verified</td><td>303650.0</td><td>Joint App</td><td>100505.0</td><td>Source Verified</td><td>2024-02-07 02:59:...</td></tr>\n",
       "<tr><td>51dc1739d8dfb1098...</td><td>Teacher</td><td>2</td><td>RENT</td><td>32000.0</td><td>NY</td><td>104xx</td><td>USA</td><td>C</td><td>C5</td><td>Verified</td><td>45675.0</td><td>Individual</td><td>null</td><td>null</td><td>2024-02-07 02:59:...</td></tr>\n",
       "<tr><td>c7ee15461a5ea7021...</td><td>Director of Sport...</td><td>10</td><td>MORTGAGE</td><td>140000.0</td><td>CT</td><td>063xx</td><td>USA</td><td>D</td><td>D1</td><td>Verified</td><td>459502.0</td><td>Individual</td><td>null</td><td>null</td><td>2024-02-07 02:59:...</td></tr>\n",
       "<tr><td>6f3b10ee1893ba4c9...</td><td>Manager</td><td>9</td><td>MORTGAGE</td><td>177200.0</td><td>SC</td><td>297xx</td><td>USA</td><td>B</td><td>B1</td><td>Verified</td><td>681440.0</td><td>Individual</td><td>null</td><td>null</td><td>2024-02-07 02:59:...</td></tr>\n",
       "<tr><td>98b243ba8c8797bff...</td><td>Manager</td><td>10</td><td>MORTGAGE</td><td>105000.0</td><td>IL</td><td>606xx</td><td>USA</td><td>C</td><td>C2</td><td>Source Verified</td><td>212100.0</td><td>Individual</td><td>null</td><td>null</td><td>2024-02-07 02:59:...</td></tr>\n",
       "<tr><td>77e05eaf044113507...</td><td>Server</td><td>10</td><td>RENT</td><td>40000.0</td><td>FL</td><td>328xx</td><td>USA</td><td>B</td><td>B4</td><td>Not Verified</td><td>29057.0</td><td>Individual</td><td>null</td><td>null</td><td>2024-02-07 02:59:...</td></tr>\n",
       "<tr><td>f7ac5223b8f35795a...</td><td>CNA</td><td>2</td><td>RENT</td><td>35000.0</td><td>TX</td><td>760xx</td><td>USA</td><td>C</td><td>C3</td><td>Source Verified</td><td>45427.0</td><td>Individual</td><td>null</td><td>null</td><td>2024-02-07 02:59:...</td></tr>\n",
       "<tr><td>5b5a4899f181fed81...</td><td>Teacher</td><td>10</td><td>MORTGAGE</td><td>70000.0</td><td>OH</td><td>450xx</td><td>USA</td><td>B</td><td>B2</td><td>Source Verified</td><td>242865.0</td><td>Individual</td><td>null</td><td>null</td><td>2024-02-07 02:59:...</td></tr>\n",
       "<tr><td>2051a2cf9aeb704fb...</td><td>null</td><td>null</td><td>OWN</td><td>40000.0</td><td>AZ</td><td>856xx</td><td>USA</td><td>C</td><td>C2</td><td>Not Verified</td><td>30900.0</td><td>Joint App</td><td>230000.0</td><td>Not Verified</td><td>2024-02-07 02:59:...</td></tr>\n",
       "<tr><td>38ab16c2d4ab805d2...</td><td>Behavior Specialist</td><td>1</td><td>OWN</td><td>24000.0</td><td>CA</td><td>928xx</td><td>USA</td><td>C</td><td>C1</td><td>Verified</td><td>41439.0</td><td>Individual</td><td>null</td><td>null</td><td>2024-02-07 02:59:...</td></tr>\n",
       "<tr><td>f6e862e62f27d132c...</td><td>Traffic manager</td><td>9</td><td>RENT</td><td>40000.0</td><td>TX</td><td>785xx</td><td>USA</td><td>C</td><td>C1</td><td>Source Verified</td><td>59426.0</td><td>Individual</td><td>null</td><td>null</td><td>2024-02-07 02:59:...</td></tr>\n",
       "</table>\n",
       "only showing top 20 rows\n"
      ],
      "text/plain": [
       "+--------------------+--------------------+----------+--------------+-------------+-------------+---------------+---------------+-----+---------+-------------------+-----------------------+----------------+------------------+-------------------------+--------------------+\n",
       "|           member_id|           emp_title|emp_length|home_ownership|annual_income|address_state|address_zipcode|address_country|grade|sub_grade|verification_status|total_high_credit_limit|application_type|join_annual_income|verification_status_joint|         ingest_date|\n",
       "+--------------------+--------------------+----------+--------------+-------------+-------------+---------------+---------------+-----+---------+-------------------+-----------------------+----------------+------------------+-------------------------+--------------------+\n",
       "|30aab854d0a0bf879...|          Bookkeeper|        10|      MORTGAGE|      50000.0|           FL|          346xx|            USA|    B|       B1|       Not Verified|               150193.0|      Individual|              null|                     null|2024-02-07 02:59:...|\n",
       "|644104d50b1527b10...|Correctional Serg...|         7|          RENT|      80000.0|           CA|          923xx|            USA|    C|       C4|    Source Verified|               119926.0|      Individual|              null|                     null|2024-02-07 02:59:...|\n",
       "|52c84af0a0cde89f9...|           President|         5|      MORTGAGE|      65000.0|           AL|          366xx|            USA|    B|       B1|           Verified|                85499.0|      Individual|              null|                     null|2024-02-07 02:59:...|\n",
       "|5cb6f45466ec8d2b8...|   Production Weaver|        10|           OWN|      32000.0|           TX|          781xx|            USA|    D|       D3|    Source Verified|                73263.0|      Individual|              null|                     null|2024-02-07 02:59:...|\n",
       "|e4075fb9927a429a8...|     Project Manager|         1|          RENT|      90000.0|           CA|          920xx|            USA|    B|       B1|       Not Verified|               102496.0|      Individual|              null|                     null|2024-02-07 02:59:...|\n",
       "|6bd51d11b8ad6ee2e...|        Fire Captain|        10|      MORTGAGE|     120000.0|           CA|          950xx|            USA|    B|       B5|           Verified|               807258.0|      Individual|              null|                     null|2024-02-07 02:59:...|\n",
       "|ed5cab82089d5df7d...|Business Operatio...|         8|           OWN|     104000.0|           VT|          058xx|            USA|    D|       D2|    Source Verified|                80083.0|      Individual|              null|                     null|2024-02-07 02:59:...|\n",
       "|bc60512bf9efed9c9...|        tech support|         4|          RENT|      45000.0|           CA|          926xx|            USA|    C|       C3|           Verified|                31437.0|      Individual|              null|                     null|2024-02-07 02:59:...|\n",
       "|d9b38435b47ed70b1...|Assistant Chancellor|         3|      MORTGAGE|     112000.0|           WI|          535xx|            USA|    B|       B3|       Not Verified|               271418.0|      Individual|              null|                     null|2024-02-07 02:59:...|\n",
       "|064458fab44aa80ff...|      Sub-contractor|         8|           OWN|      46200.0|           VA|          241xx|            USA|    B|       B5|       Not Verified|                20432.0|      Individual|              null|                     null|2024-02-07 02:59:...|\n",
       "|0d1207e6dd77be90b...|Marketing Specialist|         2|      MORTGAGE|      55000.0|           MA|          019xx|            USA|    A|       A2|       Not Verified|               330806.0|      Individual|              null|                     null|2024-02-07 02:59:...|\n",
       "|4d2bfc800c0be3d1b...|Director, Real es...|         4|      MORTGAGE|     345000.0|           NC|          280xx|            USA|    E|       E3|           Verified|               145665.0|      Individual|              null|                     null|2024-02-07 02:59:...|\n",
       "|50a9bd40a148f69df...|  SENIOR UNDERWRITER|         3|      MORTGAGE|      95000.0|           TX|          787xx|            USA|    C|       C2|           Verified|               259800.0|      Individual|              null|                     null|2024-02-07 02:59:...|\n",
       "|cded81c9b0501afb8...|Detection enforce...|        10|          RENT|     100000.0|           CA|          925xx|            USA|    D|       D1|       Not Verified|               149391.0|      Individual|              null|                     null|2024-02-07 02:59:...|\n",
       "|97feb76784c3705d6...|               SALES|         9|          RENT|      68000.0|           NC|          276xx|            USA|    F|       F2|           Verified|                72406.0|      Individual|              null|                     null|2024-02-07 02:59:...|\n",
       "|f76b8f5bcf52d56fc...|               sales|         7|          RENT|      88000.0|           NV|          891xx|            USA|    C|       C2|    Source Verified|                90645.0|      Individual|              null|                     null|2024-02-07 02:59:...|\n",
       "|922ad45816add62f7...|                null|      null|      MORTGAGE|      60000.0|           MI|          495xx|            USA|    A|       A3|       Not Verified|                70136.0|      Individual|              null|                     null|2024-02-07 02:59:...|\n",
       "|6a8639970e23fb52d...|  Sr Loan Specialist|        10|          RENT|      55000.0|           CA|          948xx|            USA|    B|       B2|       Not Verified|                48738.0|      Individual|              null|                     null|2024-02-07 02:59:...|\n",
       "|1900def61791a13f8...|             Manager|        10|      MORTGAGE|      36094.0|           SC|          298xx|            USA|    C|       C5|    Source Verified|               131244.0|      Individual|              null|                     null|2024-02-07 02:59:...|\n",
       "|5147166753e81e63e...|             Manager|        10|      MORTGAGE|      92000.0|           TX|          751xx|            USA|    F|       F1|    Source Verified|               238412.0|      Individual|              null|                     null|2024-02-07 02:59:...|\n",
       "+--------------------+--------------------+----------+--------------+-------------+-------------+---------------+---------------+-----+---------+-------------------+-----------------------+----------------+------------------+-------------------------+--------------------+\n",
       "only showing top 20 rows"
      ]
     },
     "execution_count": 26,
     "metadata": {},
     "output_type": "execute_result"
    }
   ],
   "source": [
    "customers_emplength_cleaned"
   ]
  },
  {
   "cell_type": "code",
   "execution_count": 0,
   "metadata": {
    "application/vnd.databricks.v1+cell": {
     "cellMetadata": {},
     "inputWidgets": {},
     "nuid": "d31fc490-b5db-4468-8a80-634b3172bbd1",
     "showTitle": false,
     "title": ""
    }
   },
   "outputs": [
    {
     "output_type": "stream",
     "name": "stdout",
     "output_type": "stream",
     "text": [
      "root\n |-- member_id: string (nullable = true)\n |-- emp_title: string (nullable = true)\n |-- emp_length: string (nullable = true)\n |-- home_ownership: string (nullable = true)\n |-- annual_income: float (nullable = true)\n |-- address_state: string (nullable = true)\n |-- address_zipcode: string (nullable = true)\n |-- address_country: string (nullable = true)\n |-- grade: string (nullable = true)\n |-- sub_grade: string (nullable = true)\n |-- verification_status: string (nullable = true)\n |-- total_high_credit_limit: float (nullable = true)\n |-- application_type: string (nullable = true)\n |-- join_annual_income: float (nullable = true)\n |-- verification_status_joint: string (nullable = true)\n |-- ingest_date: timestamp (nullable = false)\n\n"
     ]
    }
   ],
   "source": [
    "customers_emplength_cleaned.printSchema()"
   ]
  },
  {
   "cell_type": "code",
   "execution_count": 0,
   "metadata": {
    "application/vnd.databricks.v1+cell": {
     "cellMetadata": {},
     "inputWidgets": {},
     "nuid": "8bc07439-6508-4c30-b713-9413ae8f1294",
     "showTitle": false,
     "title": ""
    }
   },
   "outputs": [],
   "source": [
    "# Here, emp_length is still string, so need to convert to int\n",
    "customers_emplength_casted = customers_emplength_cleaned.withColumn(\"emp_length\", customers_emplength_cleaned.emp_length.cast('int'))"
   ]
  },
  {
   "cell_type": "code",
   "execution_count": 0,
   "metadata": {
    "application/vnd.databricks.v1+cell": {
     "cellMetadata": {},
     "inputWidgets": {},
     "nuid": "594e6d6d-d298-4195-9776-2821172dbb28",
     "showTitle": false,
     "title": ""
    }
   },
   "outputs": [
    {
     "output_type": "execute_result",
     "data": {
      "text/html": [
       "<table border='1'>\n",
       "<tr><th>member_id</th><th>emp_title</th><th>emp_length</th><th>home_ownership</th><th>annual_income</th><th>address_state</th><th>address_zipcode</th><th>address_country</th><th>grade</th><th>sub_grade</th><th>verification_status</th><th>total_high_credit_limit</th><th>application_type</th><th>join_annual_income</th><th>verification_status_joint</th><th>ingest_date</th></tr>\n",
       "<tr><td>e4561d411b8ec5b62...</td><td>null</td><td>null</td><td>MORTGAGE</td><td>60000.0</td><td>VA</td><td>230xx</td><td>USA</td><td>D</td><td>D3</td><td>Verified</td><td>39200.0</td><td>Individual</td><td>null</td><td>null</td><td>2024-02-07 02:59:...</td></tr>\n",
       "<tr><td>470e26b2981b595f2...</td><td>Project Manager</td><td>1</td><td>MORTGAGE</td><td>53000.0</td><td>TX</td><td>760xx</td><td>USA</td><td>B</td><td>B2</td><td>Verified</td><td>129077.0</td><td>Joint App</td><td>203000.0</td><td>Verified</td><td>2024-02-07 02:59:...</td></tr>\n",
       "<tr><td>70d762809cbdafb44...</td><td>family consultant</td><td>1</td><td>RENT</td><td>45000.0</td><td>NY</td><td>100xx</td><td>USA</td><td>D</td><td>D4</td><td>Source Verified</td><td>30842.0</td><td>Individual</td><td>null</td><td>null</td><td>2024-02-07 02:59:...</td></tr>\n",
       "<tr><td>e2f63931e7c940c13...</td><td>Operatios, CEO</td><td>2</td><td>MORTGAGE</td><td>150000.0</td><td>NC</td><td>283xx</td><td>USA</td><td>B</td><td>B1</td><td>Not Verified</td><td>1306930.0</td><td>Joint App</td><td>240000.0</td><td>Not Verified</td><td>2024-02-07 02:59:...</td></tr>\n",
       "<tr><td>8e83e7bc362021c9c...</td><td>Forklift Driver</td><td>10</td><td>OWN</td><td>60000.0</td><td>TX</td><td>759xx</td><td>USA</td><td>D</td><td>D1</td><td>Verified</td><td>66792.0</td><td>Individual</td><td>null</td><td>null</td><td>2024-02-07 02:59:...</td></tr>\n",
       "<tr><td>33074be9ba3ae28f2...</td><td>branch manager</td><td>2</td><td>MORTGAGE</td><td>278000.0</td><td>NJ</td><td>074xx</td><td>USA</td><td>C</td><td>C3</td><td>Verified</td><td>460000.0</td><td>Individual</td><td>null</td><td>null</td><td>2024-02-07 02:59:...</td></tr>\n",
       "<tr><td>20e70309e95ca3bdc...</td><td>Service technician</td><td>4</td><td>MORTGAGE</td><td>50000.0</td><td>KY</td><td>410xx</td><td>USA</td><td>A</td><td>A3</td><td>Source Verified</td><td>240754.0</td><td>Individual</td><td>null</td><td>null</td><td>2024-02-07 02:59:...</td></tr>\n",
       "<tr><td>3f7eeb5362764bd1c...</td><td>null</td><td>null</td><td>MORTGAGE</td><td>67160.0</td><td>CO</td><td>067xx</td><td>USA</td><td>D</td><td>D5</td><td>Verified</td><td>332394.0</td><td>Individual</td><td>null</td><td>null</td><td>2024-02-07 02:59:...</td></tr>\n",
       "<tr><td>49a5a8d8b1fe28e55...</td><td>COO</td><td>10</td><td>RENT</td><td>200000.0</td><td>FL</td><td>331xx</td><td>USA</td><td>D</td><td>D4</td><td>Source Verified</td><td>98016.0</td><td>Individual</td><td>null</td><td>null</td><td>2024-02-07 02:59:...</td></tr>\n",
       "<tr><td>eecafbc8cdb3b00a7...</td><td>Front desk</td><td>1</td><td>RENT</td><td>39580.0</td><td>FL</td><td>331xx</td><td>USA</td><td>B</td><td>B5</td><td>Source Verified</td><td>52247.0</td><td>Individual</td><td>null</td><td>null</td><td>2024-02-07 02:59:...</td></tr>\n",
       "<tr><td>64f7629472c1bb23f...</td><td>IT analyst</td><td>10</td><td>MORTGAGE</td><td>200000.0</td><td>OH</td><td>450xx</td><td>USA</td><td>A</td><td>A1</td><td>Source Verified</td><td>682366.0</td><td>Individual</td><td>null</td><td>null</td><td>2024-02-07 02:59:...</td></tr>\n",
       "<tr><td>2a3908538c8c8ba13...</td><td>dm</td><td>9</td><td>OWN</td><td>40000.0</td><td>PA</td><td>184xx</td><td>USA</td><td>C</td><td>C5</td><td>Source Verified</td><td>12200.0</td><td>Individual</td><td>null</td><td>null</td><td>2024-02-07 02:59:...</td></tr>\n",
       "<tr><td>69e66e66df0099cb0...</td><td>Secretary</td><td>10</td><td>OWN</td><td>30000.0</td><td>NY</td><td>112xx</td><td>USA</td><td>A</td><td>A3</td><td>Not Verified</td><td>76444.0</td><td>Individual</td><td>null</td><td>null</td><td>2024-02-07 02:59:...</td></tr>\n",
       "<tr><td>34cf2789e6ffdcb35...</td><td>Assistant Clinica...</td><td>4</td><td>MORTGAGE</td><td>85000.0</td><td>MI</td><td>481xx</td><td>USA</td><td>A</td><td>A3</td><td>Source Verified</td><td>492597.0</td><td>Individual</td><td>null</td><td>null</td><td>2024-02-07 02:59:...</td></tr>\n",
       "<tr><td>4a4765a5f33434e8a...</td><td>Operator</td><td>10</td><td>MORTGAGE</td><td>40000.0</td><td>MN</td><td>563xx</td><td>USA</td><td>B</td><td>B4</td><td>Not Verified</td><td>94843.0</td><td>Individual</td><td>null</td><td>null</td><td>2024-02-07 02:59:...</td></tr>\n",
       "<tr><td>9052dd3ca750818f6...</td><td>Loan Specialist</td><td>10</td><td>RENT</td><td>102027.0</td><td>NY</td><td>142xx</td><td>USA</td><td>C</td><td>C4</td><td>Verified</td><td>106350.0</td><td>Individual</td><td>null</td><td>null</td><td>2024-02-07 02:59:...</td></tr>\n",
       "<tr><td>0e04819a824c9ce15...</td><td>Hostess</td><td>8</td><td>MORTGAGE</td><td>25000.0</td><td>AL</td><td>356xx</td><td>USA</td><td>A</td><td>A2</td><td>Source Verified</td><td>22050.0</td><td>Individual</td><td>null</td><td>null</td><td>2024-02-07 02:59:...</td></tr>\n",
       "<tr><td>7b861c3b90db2d33b...</td><td>assembler</td><td>4</td><td>MORTGAGE</td><td>65000.0</td><td>CA</td><td>930xx</td><td>USA</td><td>B</td><td>B1</td><td>Verified</td><td>358492.0</td><td>Individual</td><td>null</td><td>null</td><td>2024-02-07 02:59:...</td></tr>\n",
       "<tr><td>ec629b9c92a1a50c6...</td><td>National Sr Stude...</td><td>6</td><td>MORTGAGE</td><td>52618.0</td><td>AZ</td><td>850xx</td><td>USA</td><td>A</td><td>A3</td><td>Source Verified</td><td>310956.0</td><td>Individual</td><td>null</td><td>null</td><td>2024-02-07 02:59:...</td></tr>\n",
       "<tr><td>344405bea67e60cc9...</td><td>Correctional officer</td><td>3</td><td>MORTGAGE</td><td>56000.0</td><td>IL</td><td>628xx</td><td>USA</td><td>C</td><td>C2</td><td>Source Verified</td><td>154215.0</td><td>Individual</td><td>null</td><td>null</td><td>2024-02-07 02:59:...</td></tr>\n",
       "</table>\n",
       "only showing top 20 rows\n"
      ],
      "text/plain": [
       "+--------------------+--------------------+----------+--------------+-------------+-------------+---------------+---------------+-----+---------+-------------------+-----------------------+----------------+------------------+-------------------------+--------------------+\n",
       "|           member_id|           emp_title|emp_length|home_ownership|annual_income|address_state|address_zipcode|address_country|grade|sub_grade|verification_status|total_high_credit_limit|application_type|join_annual_income|verification_status_joint|         ingest_date|\n",
       "+--------------------+--------------------+----------+--------------+-------------+-------------+---------------+---------------+-----+---------+-------------------+-----------------------+----------------+------------------+-------------------------+--------------------+\n",
       "|4ddb333c5cdb81032...|    Plant Production|         1|      MORTGAGE|      30000.0|           MI|          481xx|            USA|    B|       B5|           Verified|                37335.0|      Individual|              null|                     null|2024-02-07 02:59:...|\n",
       "|71a66f18c42d61eff...|Correctional Serg...|        10|      MORTGAGE|      86400.0|           CA|          937xx|            USA|    E|       E4|    Source Verified|               309458.0|      Individual|              null|                     null|2024-02-07 02:59:...|\n",
       "|72bbaaca5333d831a...|     Account manager|         5|      MORTGAGE|      64000.0|           SC|          298xx|            USA|    F|       F1|       Not Verified|               189771.0|      Individual|              null|                     null|2024-02-07 02:59:...|\n",
       "|2ffbd7e2e9169ae51...|          Journeyman|         1|      MORTGAGE|      78520.0|           CA|          932xx|            USA|    A|       A2|       Not Verified|               270161.0|      Individual|              null|                     null|2024-02-07 02:59:...|\n",
       "|7548911b9e52235fc...|  Analytical Chemist|         2|          RENT|      41000.0|           CA|          958xx|            USA|    C|       C2|    Source Verified|               112183.0|      Individual|              null|                     null|2024-02-07 02:59:...|\n",
       "|2b5478d71543885af...|                  RN|         3|      MORTGAGE|     110000.0|           CA|          920xx|            USA|    A|       A4|       Not Verified|               606421.0|      Individual|              null|                     null|2024-02-07 02:59:...|\n",
       "|44b4487e27340f873...|          Lieutenant|        10|      MORTGAGE|      54000.0|           CO|          809xx|            USA|    E|       E4|       Not Verified|               210152.0|      Individual|              null|                     null|2024-02-07 02:59:...|\n",
       "|238f9445a382498ff...|Facility Superint...|         7|      MORTGAGE|     115000.0|           AZ|          853xx|            USA|    A|       A5|    Source Verified|               376340.0|      Individual|              null|                     null|2024-02-07 02:59:...|\n",
       "|b5bb967e9b4d7bc48...|Computer systems ...|         7|           OWN|      84058.0|           IL|          622xx|            USA|    B|       B1|       Not Verified|               256331.0|      Individual|              null|                     null|2024-02-07 02:59:...|\n",
       "|de845d123e0908a25...|      Civil Engineer|        10|      MORTGAGE|     125000.0|           FL|          349xx|            USA|    A|       A1|       Not Verified|               288151.0|      Individual|              null|                     null|2024-02-07 02:59:...|\n",
       "|7bbb896a114bc59d5...|    General Employee|         1|           OWN|      26976.0|           VA|          238xx|            USA|    C|       C2|    Source Verified|                60321.0|      Individual|              null|                     null|2024-02-07 02:59:...|\n",
       "|40032cae2e2f815ac...|     Personal Banker|         2|           OWN|      55000.0|           CA|          928xx|            USA|    E|       E2|    Source Verified|                32152.0|      Individual|              null|                     null|2024-02-07 02:59:...|\n",
       "|01fd0fa16ea2627f7...|     account manager|         4|      MORTGAGE|      55000.0|           FL|          331xx|            USA|    B|       B4|       Not Verified|               373475.0|      Individual|              null|                     null|2024-02-07 02:59:...|\n",
       "|29b601869d07ccc1c...|         HR Director|         5|           OWN|     150000.0|           MI|          495xx|            USA|    E|       E2|    Source Verified|                41416.0|      Individual|              null|                     null|2024-02-07 02:59:...|\n",
       "|d0452a82096e01c11...|Senior Research T...|         4|          RENT|      40000.0|           MA|          024xx|            USA|    B|       B4|    Source Verified|               122023.0|      Individual|              null|                     null|2024-02-07 02:59:...|\n",
       "|2e275d392a53f6ba8...|      Biller/Auditor|        10|          RENT|      45000.0|           NC|          282xx|            USA|    D|       D1|    Source Verified|                60288.0|      Individual|              null|                     null|2024-02-07 02:59:...|\n",
       "|f889bf67651944e08...|     Records Manager|        10|      MORTGAGE|      30000.0|           AZ|          856xx|            USA|    A|       A1|           Verified|               214000.0|      Individual|              null|                     null|2024-02-07 02:59:...|\n",
       "|efbeaf87355503d17...|                null|      null|          RENT|      41000.0|           OH|          431xx|            USA|    B|       B5|    Source Verified|                43461.0|      Individual|              null|                     null|2024-02-07 02:59:...|\n",
       "|4741b513a73a2b371...|           Team lead|        10|          RENT|      40000.0|           CA|          919xx|            USA|    A|       A1|    Source Verified|                45400.0|      Individual|              null|                     null|2024-02-07 02:59:...|\n",
       "|a4a5814c75d3e17be...|Administrative as...|        10|      MORTGAGE|      38000.0|           NY|          119xx|            USA|    B|       B2|    Source Verified|               180669.0|      Individual|              null|                     null|2024-02-07 02:59:...|\n",
       "+--------------------+--------------------+----------+--------------+-------------+-------------+---------------+---------------+-----+---------+-------------------+-----------------------+----------------+------------------+-------------------------+--------------------+\n",
       "only showing top 20 rows"
      ]
     },
     "execution_count": 29,
     "metadata": {},
     "output_type": "execute_result"
    }
   ],
   "source": [
    "customers_emplength_casted"
   ]
  },
  {
   "cell_type": "code",
   "execution_count": 0,
   "metadata": {
    "application/vnd.databricks.v1+cell": {
     "cellMetadata": {},
     "inputWidgets": {},
     "nuid": "42539974-c7ff-4b62-b81e-4befa020c8a8",
     "showTitle": false,
     "title": ""
    }
   },
   "outputs": [
    {
     "output_type": "stream",
     "name": "stdout",
     "output_type": "stream",
     "text": [
      "root\n |-- member_id: string (nullable = true)\n |-- emp_title: string (nullable = true)\n |-- emp_length: integer (nullable = true)\n |-- home_ownership: string (nullable = true)\n |-- annual_income: float (nullable = true)\n |-- address_state: string (nullable = true)\n |-- address_zipcode: string (nullable = true)\n |-- address_country: string (nullable = true)\n |-- grade: string (nullable = true)\n |-- sub_grade: string (nullable = true)\n |-- verification_status: string (nullable = true)\n |-- total_high_credit_limit: float (nullable = true)\n |-- application_type: string (nullable = true)\n |-- join_annual_income: float (nullable = true)\n |-- verification_status_joint: string (nullable = true)\n |-- ingest_date: timestamp (nullable = false)\n\n"
     ]
    }
   ],
   "source": [
    "customers_emplength_casted.printSchema()"
   ]
  },
  {
   "cell_type": "markdown",
   "metadata": {
    "application/vnd.databricks.v1+cell": {
     "cellMetadata": {},
     "inputWidgets": {},
     "nuid": "26c74ca8-1218-483e-916c-7627c8edaa71",
     "showTitle": false,
     "title": ""
    }
   },
   "source": [
    "#### 7. we need to replace all the nulls in emp_length column with average of this column"
   ]
  },
  {
   "cell_type": "code",
   "execution_count": 0,
   "metadata": {
    "application/vnd.databricks.v1+cell": {
     "cellMetadata": {},
     "inputWidgets": {},
     "nuid": "9e9d33da-6c05-41c1-b5aa-ff4b160ec9ca",
     "showTitle": false,
     "title": ""
    }
   },
   "outputs": [
    {
     "output_type": "execute_result",
     "data": {
      "text/plain": [
       "146903"
      ]
     },
     "execution_count": 31,
     "metadata": {},
     "output_type": "execute_result"
    }
   ],
   "source": [
    "# count if there are any nulls\n",
    "customers_emplength_casted.filter(\"emp_length is null\").count()"
   ]
  },
  {
   "cell_type": "code",
   "execution_count": 0,
   "metadata": {
    "application/vnd.databricks.v1+cell": {
     "cellMetadata": {},
     "inputWidgets": {},
     "nuid": "a08fc045-55e1-4ae1-9cc5-b4f69c3558e5",
     "showTitle": false,
     "title": ""
    }
   },
   "outputs": [],
   "source": [
    "customers_emplength_casted.createOrReplaceTempView(\"customers\")"
   ]
  },
  {
   "cell_type": "code",
   "execution_count": 0,
   "metadata": {
    "application/vnd.databricks.v1+cell": {
     "cellMetadata": {},
     "inputWidgets": {},
     "nuid": "1fde65f7-0a2d-426c-b6b8-fd0696bd001a",
     "showTitle": false,
     "title": ""
    }
   },
   "outputs": [],
   "source": [
    "avg_emp_length = spark.sql(\"select floor(avg(emp_length)) as avg_emp_length from customers\").collect()"
   ]
  },
  {
   "cell_type": "code",
   "execution_count": 0,
   "metadata": {
    "application/vnd.databricks.v1+cell": {
     "cellMetadata": {},
     "inputWidgets": {},
     "nuid": "3f61229f-24a7-48b2-a7a3-d64584e5970a",
     "showTitle": false,
     "title": ""
    }
   },
   "outputs": [
    {
     "output_type": "execute_result",
     "data": {
      "text/plain": [
       "[Row(avg_emp_length=6)]"
      ]
     },
     "execution_count": 34,
     "metadata": {},
     "output_type": "execute_result"
    }
   ],
   "source": [
    "avg_emp_length"
   ]
  },
  {
   "cell_type": "code",
   "execution_count": 0,
   "metadata": {
    "application/vnd.databricks.v1+cell": {
     "cellMetadata": {},
     "inputWidgets": {},
     "nuid": "cae90b92-7a65-4af8-a9ff-70b45b3eb6f7",
     "showTitle": false,
     "title": ""
    }
   },
   "outputs": [],
   "source": [
    "avg_emp_duration = avg_emp_length[0][0]"
   ]
  },
  {
   "cell_type": "code",
   "execution_count": 0,
   "metadata": {
    "application/vnd.databricks.v1+cell": {
     "cellMetadata": {},
     "inputWidgets": {},
     "nuid": "b665680a-1458-4191-be3d-c08854fc679c",
     "showTitle": false,
     "title": ""
    }
   },
   "outputs": [
    {
     "output_type": "stream",
     "name": "stdout",
     "output_type": "stream",
     "text": [
      "6\n"
     ]
    }
   ],
   "source": [
    "print(avg_emp_duration)"
   ]
  },
  {
   "cell_type": "code",
   "execution_count": 0,
   "metadata": {
    "application/vnd.databricks.v1+cell": {
     "cellMetadata": {},
     "inputWidgets": {},
     "nuid": "a7c44367-9240-4ccc-acbf-74efbb1198cb",
     "showTitle": false,
     "title": ""
    }
   },
   "outputs": [],
   "source": [
    "customers_emplength_replaced = customers_emplength_casted.na.fill(avg_emp_duration, subset=['emp_length'])"
   ]
  },
  {
   "cell_type": "code",
   "execution_count": 0,
   "metadata": {
    "application/vnd.databricks.v1+cell": {
     "cellMetadata": {},
     "inputWidgets": {},
     "nuid": "fbdc006d-bba4-40b7-b0ae-89c587e45bcc",
     "showTitle": false,
     "title": ""
    }
   },
   "outputs": [
    {
     "output_type": "execute_result",
     "data": {
      "text/html": [
       "<table border='1'>\n",
       "<tr><th>member_id</th><th>emp_title</th><th>emp_length</th><th>home_ownership</th><th>annual_income</th><th>address_state</th><th>address_zipcode</th><th>address_country</th><th>grade</th><th>sub_grade</th><th>verification_status</th><th>total_high_credit_limit</th><th>application_type</th><th>join_annual_income</th><th>verification_status_joint</th><th>ingest_date</th></tr>\n",
       "<tr><td>1c0f9f63079aa7e3d...</td><td>Managing Partner</td><td>10</td><td>MORTGAGE</td><td>260000.0</td><td>CA</td><td>937xx</td><td>USA</td><td>A</td><td>A3</td><td>Verified</td><td>886308.0</td><td>Individual</td><td>null</td><td>null</td><td>2024-02-07 03:02:...</td></tr>\n",
       "<tr><td>9bceb0bec09e882c3...</td><td>Lead Test Engineer</td><td>10</td><td>RENT</td><td>83000.0</td><td>TN</td><td>380xx</td><td>USA</td><td>C</td><td>C1</td><td>Verified</td><td>31072.0</td><td>Individual</td><td>null</td><td>null</td><td>2024-02-07 03:02:...</td></tr>\n",
       "<tr><td>329a8e859aa9a60d8...</td><td>director of security</td><td>3</td><td>MORTGAGE</td><td>56000.0</td><td>MS</td><td>386xx</td><td>USA</td><td>B</td><td>B5</td><td>Source Verified</td><td>151847.0</td><td>Individual</td><td>null</td><td>null</td><td>2024-02-07 03:02:...</td></tr>\n",
       "<tr><td>91660b80dea377cf8...</td><td>Teacher</td><td>6</td><td>RENT</td><td>48000.0</td><td>LA</td><td>700xx</td><td>USA</td><td>C</td><td>C1</td><td>Source Verified</td><td>130755.0</td><td>Individual</td><td>null</td><td>null</td><td>2024-02-07 03:02:...</td></tr>\n",
       "<tr><td>fe86499657585193b...</td><td>Pharmacist</td><td>2</td><td>MORTGAGE</td><td>105000.0</td><td>NE</td><td>685xx</td><td>USA</td><td>B</td><td>B2</td><td>Verified</td><td>510402.0</td><td>Individual</td><td>null</td><td>null</td><td>2024-02-07 03:02:...</td></tr>\n",
       "<tr><td>2aa72018a9973c5e3...</td><td>Program Director</td><td>10</td><td>RENT</td><td>72000.0</td><td>NY</td><td>112xx</td><td>USA</td><td>A</td><td>A5</td><td>Not Verified</td><td>184137.0</td><td>Individual</td><td>null</td><td>null</td><td>2024-02-07 03:02:...</td></tr>\n",
       "<tr><td>02c1b58b6eee8c9a7...</td><td>Senior Geologist</td><td>10</td><td>MORTGAGE</td><td>125000.0</td><td>AK</td><td>997xx</td><td>USA</td><td>C</td><td>C1</td><td>Verified</td><td>268630.0</td><td>Individual</td><td>null</td><td>null</td><td>2024-02-07 03:02:...</td></tr>\n",
       "<tr><td>e1fbb63452bf0cd7a...</td><td>Laboror</td><td>10</td><td>OWN</td><td>150000.0</td><td>NY</td><td>103xx</td><td>USA</td><td>C</td><td>C1</td><td>Source Verified</td><td>607184.0</td><td>Individual</td><td>null</td><td>null</td><td>2024-02-07 03:02:...</td></tr>\n",
       "<tr><td>93482cb7f82abeadf...</td><td>Process analyst</td><td>10</td><td>MORTGAGE</td><td>62200.0</td><td>LA</td><td>714xx</td><td>USA</td><td>B</td><td>B4</td><td>Verified</td><td>207124.0</td><td>Individual</td><td>null</td><td>null</td><td>2024-02-07 03:02:...</td></tr>\n",
       "<tr><td>e5d08da18211baf64...</td><td>Instructor</td><td>10</td><td>RENT</td><td>55000.0</td><td>NV</td><td>891xx</td><td>USA</td><td>C</td><td>C2</td><td>Source Verified</td><td>30800.0</td><td>Individual</td><td>null</td><td>null</td><td>2024-02-07 03:02:...</td></tr>\n",
       "<tr><td>ad9b38ed4b6ea1fa5...</td><td>truck driver</td><td>10</td><td>OWN</td><td>40000.0</td><td>TX</td><td>774xx</td><td>USA</td><td>A</td><td>A2</td><td>Source Verified</td><td>29200.0</td><td>Individual</td><td>null</td><td>null</td><td>2024-02-07 03:02:...</td></tr>\n",
       "<tr><td>eb9a9371368c67e42...</td><td>Lead Agent</td><td>3</td><td>MORTGAGE</td><td>40000.0</td><td>FL</td><td>328xx</td><td>USA</td><td>B</td><td>B5</td><td>Not Verified</td><td>98275.0</td><td>Individual</td><td>null</td><td>null</td><td>2024-02-07 03:02:...</td></tr>\n",
       "<tr><td>c379a1ff49e19aaca...</td><td>Senior Associate ...</td><td>7</td><td>OWN</td><td>102000.0</td><td>FL</td><td>331xx</td><td>USA</td><td>C</td><td>C4</td><td>Source Verified</td><td>228516.0</td><td>Individual</td><td>null</td><td>null</td><td>2024-02-07 03:02:...</td></tr>\n",
       "<tr><td>d9791ad5d7fe9b112...</td><td>Program Support A...</td><td>9</td><td>MORTGAGE</td><td>50504.0</td><td>NC</td><td>277xx</td><td>USA</td><td>B</td><td>B2</td><td>Verified</td><td>281070.0</td><td>Individual</td><td>null</td><td>null</td><td>2024-02-07 03:02:...</td></tr>\n",
       "<tr><td>dfbce5dcd056db77c...</td><td>Program Manager</td><td>1</td><td>RENT</td><td>120000.0</td><td>IL</td><td>606xx</td><td>USA</td><td>C</td><td>C5</td><td>Verified</td><td>214425.0</td><td>Individual</td><td>null</td><td>null</td><td>2024-02-07 03:02:...</td></tr>\n",
       "<tr><td>4ea42db6ada98f48e...</td><td>Graduate Assistant</td><td>3</td><td>MORTGAGE</td><td>70000.0</td><td>OH</td><td>432xx</td><td>USA</td><td>A</td><td>A1</td><td>Source Verified</td><td>238200.0</td><td>Individual</td><td>null</td><td>null</td><td>2024-02-07 03:02:...</td></tr>\n",
       "<tr><td>4c3667e78a6456666...</td><td>manager</td><td>10</td><td>MORTGAGE</td><td>45000.0</td><td>UT</td><td>847xx</td><td>USA</td><td>D</td><td>D5</td><td>Verified</td><td>155270.0</td><td>Individual</td><td>null</td><td>null</td><td>2024-02-07 03:02:...</td></tr>\n",
       "<tr><td>ee13024145b38d500...</td><td>null</td><td>6</td><td>MORTGAGE</td><td>0.0</td><td>IN</td><td>478xx</td><td>USA</td><td>D</td><td>D5</td><td>Not Verified</td><td>101576.0</td><td>Joint App</td><td>120000.0</td><td>Not Verified</td><td>2024-02-07 03:02:...</td></tr>\n",
       "<tr><td>be09dc6b1cb876057...</td><td>Rdh</td><td>6</td><td>MORTGAGE</td><td>70000.0</td><td>CO</td><td>814xx</td><td>USA</td><td>C</td><td>C1</td><td>Source Verified</td><td>337352.0</td><td>Individual</td><td>null</td><td>null</td><td>2024-02-07 03:02:...</td></tr>\n",
       "<tr><td>09300840912134534...</td><td>Driver</td><td>1</td><td>MORTGAGE</td><td>56000.0</td><td>WI</td><td>530xx</td><td>USA</td><td>G</td><td>G3</td><td>Verified</td><td>217586.0</td><td>Individual</td><td>null</td><td>null</td><td>2024-02-07 03:02:...</td></tr>\n",
       "</table>\n",
       "only showing top 20 rows\n"
      ],
      "text/plain": [
       "+--------------------+--------------------+----------+--------------+-------------+-------------+---------------+---------------+-----+---------+-------------------+-----------------------+----------------+------------------+-------------------------+--------------------+\n",
       "|           member_id|           emp_title|emp_length|home_ownership|annual_income|address_state|address_zipcode|address_country|grade|sub_grade|verification_status|total_high_credit_limit|application_type|join_annual_income|verification_status_joint|         ingest_date|\n",
       "+--------------------+--------------------+----------+--------------+-------------+-------------+---------------+---------------+-----+---------+-------------------+-----------------------+----------------+------------------+-------------------------+--------------------+\n",
       "|271496f11c038e174...|            Teller 2|         5|           OWN|      34000.0|           CA|          955xx|            USA|    D|       D5|    Source Verified|                61684.0|      Individual|              null|                     null|2024-02-07 03:02:...|\n",
       "|eec330985afda7ecd...|Educational Diagn...|         4|      MORTGAGE|      53000.0|           TX|          751xx|            USA|    B|       B2|    Source Verified|               303950.0|      Individual|              null|                     null|2024-02-07 03:02:...|\n",
       "|4f8145e16f25cc9af...|      public affairs|         4|          RENT|      41000.0|           NC|          283xx|            USA|    C|       C4|    Source Verified|                45153.0|      Individual|              null|                     null|2024-02-07 03:02:...|\n",
       "|d4baa479266c451bb...|    Office Assistant|         3|           OWN|      23040.0|           TX|          774xx|            USA|    D|       D5|    Source Verified|                34864.0|      Individual|              null|                     null|2024-02-07 03:02:...|\n",
       "|f3a6b16a79ffe07f8...|                hand|         2|          RENT|      55000.0|           CA|          940xx|            USA|    C|       C5|           Verified|                 4600.0|      Individual|              null|                     null|2024-02-07 03:02:...|\n",
       "|2881de702ab1d69ce...|     general Manager|         2|          RENT|      38000.0|           NC|          275xx|            USA|    B|       B4|    Source Verified|                45810.0|      Individual|              null|                     null|2024-02-07 03:02:...|\n",
       "|5488843aa120d3e9b...|       Adminstrative|        10|          RENT|      40000.0|           OR|          970xx|            USA|    B|       B4|    Source Verified|                39100.0|      Individual|              null|                     null|2024-02-07 03:02:...|\n",
       "|48f8b4a9cf92fe371...|               Owner|        10|          RENT|      70000.0|           PA|          175xx|            USA|    C|       C3|    Source Verified|                24734.0|      Individual|              null|                     null|2024-02-07 03:02:...|\n",
       "|7f8854be13b6251c0...|Senior Director o...|         3|      MORTGAGE|      98000.0|           MN|          563xx|            USA|    A|       A2|           Verified|               430892.0|      Individual|              null|                     null|2024-02-07 03:02:...|\n",
       "|6fb43634f75d82bfb...|            operator|        10|      MORTGAGE|     110150.0|           IN|          477xx|            USA|    C|       C5|           Verified|               321432.0|      Individual|              null|                     null|2024-02-07 03:02:...|\n",
       "|cd0417870e2855de2...|   Head of Recieving|         9|          RENT|      25000.0|           OH|          441xx|            USA|    E|       E2|       Not Verified|                17743.0|      Individual|              null|                     null|2024-02-07 03:02:...|\n",
       "|d99675e2fc4aa99bf...|           Recruiter|         8|          RENT|      75000.0|           MA|          018xx|            USA|    F|       F1|           Verified|               120446.0|      Individual|              null|                     null|2024-02-07 03:02:...|\n",
       "|0a16d4b0b4f3b22cc...|Administrative As...|        10|          RENT|      61000.0|           NY|          112xx|            USA|    B|       B5|       Not Verified|                73200.0|      Individual|              null|                     null|2024-02-07 03:02:...|\n",
       "|0513f96def712bf1e...|construction cons...|         3|      MORTGAGE|     205000.0|           MT|          592xx|            USA|    E|       E4|           Verified|               469053.0|      Individual|              null|                     null|2024-02-07 03:02:...|\n",
       "|e88a94dfe60162384...|      Office Manager|         4|      MORTGAGE|      41600.0|           NJ|          080xx|            USA|    E|       E2|           Verified|               220924.0|      Individual|              null|                     null|2024-02-07 03:02:...|\n",
       "|248931e5c1d508b56...|           mech tech|         4|      MORTGAGE|      60000.0|           LA|          705xx|            USA|    E|       E2|    Source Verified|               119785.0|      Individual|              null|                     null|2024-02-07 03:02:...|\n",
       "|64d560957c35fe934...|Claim Specialist III|         1|          RENT|      65000.0|           CT|          065xx|            USA|    C|       C5|    Source Verified|                31687.0|      Individual|              null|                     null|2024-02-07 03:02:...|\n",
       "|2363507b2164b0386...|       editor/writer|         7|          RENT|      36500.0|           FL|          329xx|            USA|    D|       D5|           Verified|                27295.0|      Individual|              null|                     null|2024-02-07 03:02:...|\n",
       "|d8621f4661f190398...|    IT/Fleet Manager|         8|      MORTGAGE|      98000.0|           NJ|          087xx|            USA|    B|       B2|       Not Verified|               333733.0|      Individual|              null|                     null|2024-02-07 03:02:...|\n",
       "|0c7aad078cda401d8...| Engineer Technician|        10|      MORTGAGE|      90000.0|           TX|          750xx|            USA|    E|       E2|           Verified|               304910.0|      Individual|              null|                     null|2024-02-07 03:02:...|\n",
       "+--------------------+--------------------+----------+--------------+-------------+-------------+---------------+---------------+-----+---------+-------------------+-----------------------+----------------+------------------+-------------------------+--------------------+\n",
       "only showing top 20 rows"
      ]
     },
     "execution_count": 38,
     "metadata": {},
     "output_type": "execute_result"
    }
   ],
   "source": [
    "customers_emplength_replaced"
   ]
  },
  {
   "cell_type": "code",
   "execution_count": 0,
   "metadata": {
    "application/vnd.databricks.v1+cell": {
     "cellMetadata": {},
     "inputWidgets": {},
     "nuid": "e321a83b-f8c1-4b86-b6a5-21c39e076621",
     "showTitle": false,
     "title": ""
    }
   },
   "outputs": [
    {
     "output_type": "execute_result",
     "data": {
      "text/plain": [
       "0"
      ]
     },
     "execution_count": 39,
     "metadata": {},
     "output_type": "execute_result"
    }
   ],
   "source": [
    "customers_emplength_replaced.filter(\"emp_length is null\").count()"
   ]
  },
  {
   "cell_type": "markdown",
   "metadata": {
    "application/vnd.databricks.v1+cell": {
     "cellMetadata": {},
     "inputWidgets": {},
     "nuid": "6e738be4-56f6-4629-ba12-d5f07fa43027",
     "showTitle": false,
     "title": ""
    }
   },
   "source": [
    "#### 8. Clean the address_state(it should be 2 characters only),replace all others with NA"
   ]
  },
  {
   "cell_type": "code",
   "execution_count": 0,
   "metadata": {
    "application/vnd.databricks.v1+cell": {
     "cellMetadata": {},
     "inputWidgets": {},
     "nuid": "1c896611-1cb0-49ee-bca2-a6442b954924",
     "showTitle": false,
     "title": ""
    }
   },
   "outputs": [],
   "source": [
    "customers_emplength_replaced.createOrReplaceTempView(\"customers\")"
   ]
  },
  {
   "cell_type": "code",
   "execution_count": 0,
   "metadata": {
    "application/vnd.databricks.v1+cell": {
     "cellMetadata": {},
     "inputWidgets": {},
     "nuid": "996c44f0-d64a-4b26-ab96-97a58c6b8538",
     "showTitle": false,
     "title": ""
    }
   },
   "outputs": [
    {
     "output_type": "execute_result",
     "data": {
      "text/html": [
       "<table border='1'>\n",
       "<tr><th>address_state</th></tr>\n",
       "<tr><td>Helping Kenya&#x27;s D...</td></tr>\n",
       "<tr><td>223xx</td></tr>\n",
       "<tr><td>175 (total projec...</td></tr>\n",
       "<tr><td>SC</td></tr>\n",
       "<tr><td>AZ</td></tr>\n",
       "<tr><td>so Plan &quot;&quot;C&quot;&quot; is ...</td></tr>\n",
       "<tr><td>I am 56 yrs. old ...</td></tr>\n",
       "<tr><td>financially I mad...</td></tr>\n",
       "<tr><td>but no one will l...</td></tr>\n",
       "<tr><td>LA</td></tr>\n",
       "<tr><td>etc.  First</td></tr>\n",
       "<tr><td>MN</td></tr>\n",
       "<tr><td>499xx</td></tr>\n",
       "<tr><td>850xx</td></tr>\n",
       "<tr><td>yet Capital One n...</td></tr>\n",
       "<tr><td>and MBA&#x27;s are ove...</td></tr>\n",
       "<tr><td>Advocate business...</td></tr>\n",
       "<tr><td>Eliminating Credi...</td></tr>\n",
       "<tr><td>I the credit card...</td></tr>\n",
       "<tr><td>662xx</td></tr>\n",
       "</table>\n",
       "only showing top 20 rows\n"
      ],
      "text/plain": [
       "+--------------------+\n",
       "|       address_state|\n",
       "+--------------------+\n",
       "|Helping Kenya's D...|\n",
       "|175 (total projec...|\n",
       "|               223xx|\n",
       "|                  SC|\n",
       "|                  AZ|\n",
       "|so Plan \"\"C\"\" is ...|\n",
       "|I am 56 yrs. old ...|\n",
       "|financially I mad...|\n",
       "|but no one will l...|\n",
       "|                  LA|\n",
       "|         etc.  First|\n",
       "|                  MN|\n",
       "|               850xx|\n",
       "|               499xx|\n",
       "|yet Capital One n...|\n",
       "|Eliminating Credi...|\n",
       "|and MBA's are ove...|\n",
       "|Advocate business...|\n",
       "|I the credit card...|\n",
       "|               662xx|\n",
       "+--------------------+\n",
       "only showing top 20 rows"
      ]
     },
     "execution_count": 41,
     "metadata": {},
     "output_type": "execute_result"
    }
   ],
   "source": [
    "spark.sql(\"select distinct(address_state) from customers\")"
   ]
  },
  {
   "cell_type": "code",
   "execution_count": 0,
   "metadata": {
    "application/vnd.databricks.v1+cell": {
     "cellMetadata": {},
     "inputWidgets": {},
     "nuid": "80d223f8-c56d-4b1f-967a-c492510688f8",
     "showTitle": false,
     "title": ""
    }
   },
   "outputs": [
    {
     "output_type": "execute_result",
     "data": {
      "text/html": [
       "<table border='1'>\n",
       "<tr><th>count(address_state)</th></tr>\n",
       "<tr><td>254</td></tr>\n",
       "</table>\n"
      ],
      "text/plain": [
       "+--------------------+\n",
       "|count(address_state)|\n",
       "+--------------------+\n",
       "|                 254|\n",
       "+--------------------+"
      ]
     },
     "execution_count": 42,
     "metadata": {},
     "output_type": "execute_result"
    }
   ],
   "source": [
    "spark.sql(\"select count(address_state) from customers where length(address_state)>2\")"
   ]
  },
  {
   "cell_type": "code",
   "execution_count": 0,
   "metadata": {
    "application/vnd.databricks.v1+cell": {
     "cellMetadata": {},
     "inputWidgets": {},
     "nuid": "4540bf4c-b1f2-4843-b7dd-9f2d0e787929",
     "showTitle": false,
     "title": ""
    }
   },
   "outputs": [],
   "source": [
    "from pyspark.sql.functions import when, col, length"
   ]
  },
  {
   "cell_type": "code",
   "execution_count": 0,
   "metadata": {
    "application/vnd.databricks.v1+cell": {
     "cellMetadata": {},
     "inputWidgets": {},
     "nuid": "7510532d-1a19-46e6-97b4-4eb9dbb3d531",
     "showTitle": false,
     "title": ""
    }
   },
   "outputs": [],
   "source": [
    "customers_state_cleaned = customers_emplength_replaced.withColumn(\"address_state\",\n",
    "    when(length(col(\"address_state\"))> 2, \"NA\").otherwise(col(\"address_state\"))\n",
    ")"
   ]
  },
  {
   "cell_type": "code",
   "execution_count": 0,
   "metadata": {
    "application/vnd.databricks.v1+cell": {
     "cellMetadata": {},
     "inputWidgets": {},
     "nuid": "cf3de7ca-2609-4c07-a570-344a28242f78",
     "showTitle": false,
     "title": ""
    }
   },
   "outputs": [
    {
     "output_type": "execute_result",
     "data": {
      "text/html": [
       "<table border='1'>\n",
       "<tr><th>member_id</th><th>emp_title</th><th>emp_length</th><th>home_ownership</th><th>annual_income</th><th>address_state</th><th>address_zipcode</th><th>address_country</th><th>grade</th><th>sub_grade</th><th>verification_status</th><th>total_high_credit_limit</th><th>application_type</th><th>join_annual_income</th><th>verification_status_joint</th><th>ingest_date</th></tr>\n",
       "<tr><td>65fd16509a6a81440...</td><td>Clinical Specialist</td><td>3</td><td>MORTGAGE</td><td>180000.0</td><td>OH</td><td>430xx</td><td>USA</td><td>B</td><td>B3</td><td>Verified</td><td>553332.0</td><td>Individual</td><td>null</td><td>null</td><td>2024-02-07 03:03:...</td></tr>\n",
       "<tr><td>d33896d37ed170276...</td><td>TABLE GAMES SUPER...</td><td>10</td><td>RENT</td><td>72000.0</td><td>NV</td><td>891xx</td><td>USA</td><td>C</td><td>C1</td><td>Source Verified</td><td>12500.0</td><td>Individual</td><td>null</td><td>null</td><td>2024-02-07 03:03:...</td></tr>\n",
       "<tr><td>0b3b45c4884c3eda9...</td><td>Nursing</td><td>10</td><td>RENT</td><td>64000.0</td><td>NJ</td><td>070xx</td><td>USA</td><td>D</td><td>D3</td><td>Not Verified</td><td>136455.0</td><td>Individual</td><td>null</td><td>null</td><td>2024-02-07 03:03:...</td></tr>\n",
       "<tr><td>d5c9e0e966ad4ee5d...</td><td>Veterinary Medica...</td><td>1</td><td>OWN</td><td>71000.0</td><td>OK</td><td>731xx</td><td>USA</td><td>A</td><td>A2</td><td>Not Verified</td><td>355216.0</td><td>Individual</td><td>null</td><td>null</td><td>2024-02-07 03:03:...</td></tr>\n",
       "<tr><td>5dd0b23f0409148a7...</td><td>Camera Operator</td><td>10</td><td>MORTGAGE</td><td>85000.0</td><td>CT</td><td>069xx</td><td>USA</td><td>C</td><td>C5</td><td>Verified</td><td>530000.0</td><td>Individual</td><td>null</td><td>null</td><td>2024-02-07 03:03:...</td></tr>\n",
       "<tr><td>70ee86bfd5fd54789...</td><td>Project Manager</td><td>10</td><td>MORTGAGE</td><td>107000.0</td><td>CA</td><td>956xx</td><td>USA</td><td>A</td><td>A1</td><td>Verified</td><td>568818.0</td><td>Individual</td><td>null</td><td>null</td><td>2024-02-07 03:03:...</td></tr>\n",
       "<tr><td>f863be4e5a8d79ab8...</td><td>RADIOLOGY TECH</td><td>10</td><td>MORTGAGE</td><td>110000.0</td><td>CA</td><td>908xx</td><td>USA</td><td>A</td><td>A5</td><td>Not Verified</td><td>487028.0</td><td>Individual</td><td>null</td><td>null</td><td>2024-02-07 03:03:...</td></tr>\n",
       "<tr><td>6ba9b0e3fd86fd277...</td><td>Teacher</td><td>10</td><td>OWN</td><td>58000.0</td><td>NJ</td><td>070xx</td><td>USA</td><td>B</td><td>B2</td><td>Not Verified</td><td>86586.0</td><td>Individual</td><td>null</td><td>null</td><td>2024-02-07 03:03:...</td></tr>\n",
       "<tr><td>58c417bb17632f981...</td><td>Administrator</td><td>3</td><td>RENT</td><td>90000.0</td><td>IL</td><td>624xx</td><td>USA</td><td>B</td><td>B4</td><td>Source Verified</td><td>69668.0</td><td>Individual</td><td>null</td><td>null</td><td>2024-02-07 03:03:...</td></tr>\n",
       "<tr><td>2a87304d3b74d4661...</td><td>PATIENT ACCESS RE...</td><td>10</td><td>RENT</td><td>75000.0</td><td>CA</td><td>952xx</td><td>USA</td><td>B</td><td>B2</td><td>Verified</td><td>109863.0</td><td>Individual</td><td>null</td><td>null</td><td>2024-02-07 03:03:...</td></tr>\n",
       "<tr><td>b636f930749c00417...</td><td>Custom Apllicator</td><td>3</td><td>RENT</td><td>40000.0</td><td>MI</td><td>490xx</td><td>USA</td><td>A</td><td>A3</td><td>Not Verified</td><td>44568.0</td><td>Individual</td><td>null</td><td>null</td><td>2024-02-07 03:03:...</td></tr>\n",
       "<tr><td>e0269adc3341e422d...</td><td>Courtroom Deputy</td><td>8</td><td>RENT</td><td>68334.0</td><td>NV</td><td>895xx</td><td>USA</td><td>B</td><td>B5</td><td>Verified</td><td>46600.0</td><td>Individual</td><td>null</td><td>null</td><td>2024-02-07 03:03:...</td></tr>\n",
       "<tr><td>dd14bec52bf071ada...</td><td>Office Manager</td><td>10</td><td>MORTGAGE</td><td>60000.0</td><td>NE</td><td>680xx</td><td>USA</td><td>D</td><td>D1</td><td>Verified</td><td>218100.0</td><td>Individual</td><td>null</td><td>null</td><td>2024-02-07 03:03:...</td></tr>\n",
       "<tr><td>87de43a2ab8a3fce1...</td><td>Soleil owner</td><td>2</td><td>MORTGAGE</td><td>45000.0</td><td>MI</td><td>483xx</td><td>USA</td><td>C</td><td>C1</td><td>Not Verified</td><td>83906.0</td><td>Individual</td><td>null</td><td>null</td><td>2024-02-07 03:03:...</td></tr>\n",
       "<tr><td>a5bfbd182103e44d3...</td><td>Owner</td><td>5</td><td>OWN</td><td>80000.0</td><td>PA</td><td>191xx</td><td>USA</td><td>C</td><td>C3</td><td>Source Verified</td><td>479946.0</td><td>Individual</td><td>null</td><td>null</td><td>2024-02-07 03:03:...</td></tr>\n",
       "<tr><td>cda205f1cb59b8b1a...</td><td>Director of Engin...</td><td>3</td><td>MORTGAGE</td><td>140000.0</td><td>TX</td><td>750xx</td><td>USA</td><td>D</td><td>D2</td><td>Source Verified</td><td>529300.0</td><td>Individual</td><td>null</td><td>null</td><td>2024-02-07 03:03:...</td></tr>\n",
       "<tr><td>a12a53b7f14047d0f...</td><td>Enrollment Mgr</td><td>1</td><td>MORTGAGE</td><td>55000.0</td><td>NC</td><td>280xx</td><td>USA</td><td>C</td><td>C4</td><td>Not Verified</td><td>172203.0</td><td>Individual</td><td>null</td><td>null</td><td>2024-02-07 03:03:...</td></tr>\n",
       "<tr><td>ce50f395a56f8bf40...</td><td>Supervisory Accou...</td><td>8</td><td>MORTGAGE</td><td>81000.0</td><td>VA</td><td>240xx</td><td>USA</td><td>D</td><td>D4</td><td>Verified</td><td>362235.0</td><td>Individual</td><td>null</td><td>null</td><td>2024-02-07 03:03:...</td></tr>\n",
       "<tr><td>4bdf94e8bba1ff7cb...</td><td>Waiter</td><td>10</td><td>MORTGAGE</td><td>80000.0</td><td>NY</td><td>104xx</td><td>USA</td><td>A</td><td>A3</td><td>Source Verified</td><td>409800.0</td><td>Individual</td><td>null</td><td>null</td><td>2024-02-07 03:03:...</td></tr>\n",
       "<tr><td>8422ff91564f59820...</td><td>Sales Representative</td><td>1</td><td>OWN</td><td>80000.0</td><td>OH</td><td>430xx</td><td>USA</td><td>B</td><td>B4</td><td>Verified</td><td>435284.0</td><td>Individual</td><td>null</td><td>null</td><td>2024-02-07 03:03:...</td></tr>\n",
       "</table>\n",
       "only showing top 20 rows\n"
      ],
      "text/plain": [
       "+--------------------+--------------------+----------+--------------+-------------+-------------+---------------+---------------+-----+---------+-------------------+-----------------------+----------------+------------------+-------------------------+--------------------+\n",
       "|           member_id|           emp_title|emp_length|home_ownership|annual_income|address_state|address_zipcode|address_country|grade|sub_grade|verification_status|total_high_credit_limit|application_type|join_annual_income|verification_status_joint|         ingest_date|\n",
       "+--------------------+--------------------+----------+--------------+-------------+-------------+---------------+---------------+-----+---------+-------------------+-----------------------+----------------+------------------+-------------------------+--------------------+\n",
       "|e9f08c66a476f97ef...|     Project Manager|        10|          RENT|      52000.0|           IL|          601xx|            USA|    B|       B2|       Not Verified|                24700.0|      Individual|              null|                     null|2024-02-07 03:03:...|\n",
       "|42569c2462a37b50d...|                null|         6|           OWN|      30000.0|           AL|          354xx|            USA|    A|       A4|    Source Verified|                49800.0|      Individual|              null|                     null|2024-02-07 03:03:...|\n",
       "|42e083917d0d9aeb8...|   MANAGER ASSISTANT|         2|          RENT|      28000.0|           LA|          700xx|            USA|    C|       C5|    Source Verified|                23500.0|      Individual|              null|                     null|2024-02-07 03:03:...|\n",
       "|4401321246bce49b3...|Technical Superin...|         4|      MORTGAGE|     130000.0|           ME|          042xx|            USA|    F|       F3|           Verified|               335339.0|      Individual|              null|                     null|2024-02-07 03:03:...|\n",
       "|9f2de241e72eadcaf...|               Nurse|         4|          RENT|      30000.0|           NY|          116xx|            USA|    B|       B4|    Source Verified|                18000.0|      Individual|              null|                     null|2024-02-07 03:03:...|\n",
       "|202741d7e5a084123...|Communication Tec...|         3|      MORTGAGE|      55000.0|           NH|          030xx|            USA|    B|       B4|    Source Verified|               270859.0|      Individual|              null|                     null|2024-02-07 03:03:...|\n",
       "|a93be5190dc3a0785...|              Driver|         1|          RENT|      55000.0|           CA|          921xx|            USA|    C|       C4|    Source Verified|                49057.0|      Individual|              null|                     null|2024-02-07 03:03:...|\n",
       "|9b8ad49b47859af51...|      Branch Manager|        10|      MORTGAGE|      52000.0|           NY|          127xx|            USA|    B|       B2|       Not Verified|                66076.0|      Individual|              null|                     null|2024-02-07 03:03:...|\n",
       "|366a66e7e4764cbd0...|           Estimator|        10|      MORTGAGE|     103000.0|           NY|          130xx|            USA|    C|       C1|       Not Verified|               275875.0|      Individual|              null|                     null|2024-02-07 03:03:...|\n",
       "|052533871d731fc70...|             Manager|        10|      MORTGAGE|     112000.0|           KY|          400xx|            USA|    B|       B2|       Not Verified|               242991.0|      Individual|              null|                     null|2024-02-07 03:03:...|\n",
       "|83e0801a0c3ea0410...|           Machinist|         1|      MORTGAGE|      60000.0|           WA|          980xx|            USA|    A|       A3|           Verified|               332750.0|       Joint App|          155000.0|          Source Verified|2024-02-07 03:03:...|\n",
       "|a4f6d79cd6b1eca7a...|Director, Program...|        10|      MORTGAGE|     119400.0|           IL|          601xx|            USA|    A|       A4|    Source Verified|               267500.0|      Individual|              null|                     null|2024-02-07 03:03:...|\n",
       "|d3a7384662bcb5b5e...|       police office|         1|      MORTGAGE|      78000.0|           MI|          484xx|            USA|    C|       C1|    Source Verified|               154888.0|       Joint App|          126000.0|          Source Verified|2024-02-07 03:03:...|\n",
       "|9ca1b347cb5f3c936...| associate Professor|         7|      MORTGAGE|      84202.0|           MS|          397xx|            USA|    B|       B1|    Source Verified|               207479.0|      Individual|              null|                     null|2024-02-07 03:03:...|\n",
       "|cca07a6fc5218777e...|     Service manager|        10|           OWN|      75000.0|           PA|          151xx|            USA|    B|       B3|           Verified|               238830.0|      Individual|              null|                     null|2024-02-07 03:03:...|\n",
       "|6397f12e976240696...|      executive chef|         1|      MORTGAGE|      75000.0|           IN|          463xx|            USA|    D|       D3|           Verified|               466536.0|      Individual|              null|                     null|2024-02-07 03:03:...|\n",
       "|3148e93dac8cd0122...|Lead Consumer Saf...|        10|           OWN|      59000.0|           GA|          305xx|            USA|    B|       B5|    Source Verified|                27090.0|      Individual|              null|                     null|2024-02-07 03:03:...|\n",
       "|6df962c778a40724d...|SHAREPOINT ADMINI...|         4|      MORTGAGE|     106000.0|           NC|          282xx|            USA|    B|       B5|    Source Verified|               170805.0|      Individual|              null|                     null|2024-02-07 03:03:...|\n",
       "|5f94e3b351796ce3a...|  Purchasing Manager|         4|      MORTGAGE|      77000.0|           TX|          752xx|            USA|    C|       C4|           Verified|               185373.0|      Individual|              null|                     null|2024-02-07 03:03:...|\n",
       "|05203a1092f629e37...|   Director of Sales|         4|      MORTGAGE|      70000.0|           AL|          368xx|            USA|    D|       D4|       Not Verified|               245820.0|      Individual|              null|                     null|2024-02-07 03:03:...|\n",
       "+--------------------+--------------------+----------+--------------+-------------+-------------+---------------+---------------+-----+---------+-------------------+-----------------------+----------------+------------------+-------------------------+--------------------+\n",
       "only showing top 20 rows"
      ]
     },
     "execution_count": 45,
     "metadata": {},
     "output_type": "execute_result"
    }
   ],
   "source": [
    "customers_state_cleaned"
   ]
  },
  {
   "cell_type": "code",
   "execution_count": 0,
   "metadata": {
    "application/vnd.databricks.v1+cell": {
     "cellMetadata": {},
     "inputWidgets": {},
     "nuid": "370df263-e2b8-4458-9070-2d87f13f5c07",
     "showTitle": false,
     "title": ""
    }
   },
   "outputs": [
    {
     "output_type": "execute_result",
     "data": {
      "text/html": [
       "<table border='1'>\n",
       "<tr><th>address_state</th></tr>\n",
       "<tr><td>AZ</td></tr>\n",
       "<tr><td>SC</td></tr>\n",
       "<tr><td>LA</td></tr>\n",
       "<tr><td>MN</td></tr>\n",
       "<tr><td>NJ</td></tr>\n",
       "<tr><td>DC</td></tr>\n",
       "<tr><td>OR</td></tr>\n",
       "<tr><td>NA</td></tr>\n",
       "<tr><td>VA</td></tr>\n",
       "<tr><td>null</td></tr>\n",
       "<tr><td>RI</td></tr>\n",
       "<tr><td>KY</td></tr>\n",
       "<tr><td>WY</td></tr>\n",
       "<tr><td>NH</td></tr>\n",
       "<tr><td>MI</td></tr>\n",
       "<tr><td>NV</td></tr>\n",
       "<tr><td>WI</td></tr>\n",
       "<tr><td>ID</td></tr>\n",
       "<tr><td>CA</td></tr>\n",
       "<tr><td>CT</td></tr>\n",
       "</table>\n",
       "only showing top 20 rows\n"
      ],
      "text/plain": [
       "+-------------+\n",
       "|address_state|\n",
       "+-------------+\n",
       "|           AZ|\n",
       "|           SC|\n",
       "|           LA|\n",
       "|           MN|\n",
       "|           NJ|\n",
       "|           DC|\n",
       "|           OR|\n",
       "|           NA|\n",
       "|           VA|\n",
       "|         null|\n",
       "|           RI|\n",
       "|           KY|\n",
       "|           WY|\n",
       "|           NH|\n",
       "|           MI|\n",
       "|           NV|\n",
       "|           WI|\n",
       "|           ID|\n",
       "|           CA|\n",
       "|           CT|\n",
       "+-------------+\n",
       "only showing top 20 rows"
      ]
     },
     "execution_count": 46,
     "metadata": {},
     "output_type": "execute_result"
    }
   ],
   "source": [
    "customers_state_cleaned.select(\"address_state\").distinct()"
   ]
  },
  {
   "cell_type": "markdown",
   "metadata": {
    "application/vnd.databricks.v1+cell": {
     "cellMetadata": {},
     "inputWidgets": {},
     "nuid": "9d9b3b3a-3ea7-4a0e-bf04-088d9c5067e5",
     "showTitle": false,
     "title": ""
    }
   },
   "source": [
    "\n",
    "Write the final cleaned customer dataframe to raw folder\n",
    "(By mistake created cleaned forlder inside raw folder. Ignored it)"
   ]
  },
  {
   "cell_type": "code",
   "execution_count": 0,
   "metadata": {
    "application/vnd.databricks.v1+cell": {
     "cellMetadata": {},
     "inputWidgets": {},
     "nuid": "6c45ebdf-7b73-4a10-9800-b819ab3bfec8",
     "showTitle": false,
     "title": ""
    }
   },
   "outputs": [],
   "source": [
    "! hadoop fs -mkdir /user/itv008542/lendingclubproject/raw/cleaned"
   ]
  },
  {
   "cell_type": "code",
   "execution_count": 0,
   "metadata": {
    "application/vnd.databricks.v1+cell": {
     "cellMetadata": {},
     "inputWidgets": {},
     "nuid": "874e31d3-5208-4a84-92d0-f6762b237a34",
     "showTitle": false,
     "title": ""
    }
   },
   "outputs": [
    {
     "output_type": "stream",
     "name": "stdout",
     "output_type": "stream",
     "text": [
      "Found 5 items\ndrwxr-xr-x   - itv008542 supergroup          0 2024-02-07 02:40 /user/itv008542/lendingclubproject/raw/cleaned\ndrwxr-xr-x   - itv008542 supergroup          0 2024-02-06 12:12 /user/itv008542/lendingclubproject/raw/customers_data_csv\ndrwxr-xr-x   - itv008542 supergroup          0 2024-02-06 12:19 /user/itv008542/lendingclubproject/raw/loans_data_csv\ndrwxr-xr-x   - itv008542 supergroup          0 2024-02-06 12:24 /user/itv008542/lendingclubproject/raw/loans_defaulters_csv\ndrwxr-xr-x   - itv008542 supergroup          0 2024-02-06 12:22 /user/itv008542/lendingclubproject/raw/loans_repayments_csv\n"
     ]
    }
   ],
   "source": [
    "! hadoop fs -ls /user/itv008542/lendingclubproject/raw"
   ]
  },
  {
   "cell_type": "code",
   "execution_count": 0,
   "metadata": {
    "application/vnd.databricks.v1+cell": {
     "cellMetadata": {},
     "inputWidgets": {},
     "nuid": "e65960b5-1fa5-4f27-b9eb-74a0de2ed3dd",
     "showTitle": false,
     "title": ""
    }
   },
   "outputs": [
    {
     "output_type": "stream",
     "name": "stdout",
     "output_type": "stream",
     "text": [
      "Found 1 items\ndrwxr-xr-x   - itv008542 supergroup          0 2024-02-07 02:41 /user/itv008542/lendingclubproject/raw/cleaned/customers_parquet\n"
     ]
    }
   ],
   "source": [
    "! hadoop fs -ls /user/itv008542/lendingclubproject/raw/cleaned"
   ]
  },
  {
   "cell_type": "code",
   "execution_count": 0,
   "metadata": {
    "application/vnd.databricks.v1+cell": {
     "cellMetadata": {},
     "inputWidgets": {},
     "nuid": "627b0473-3471-4711-922c-12dd9ac07147",
     "showTitle": false,
     "title": ""
    }
   },
   "outputs": [],
   "source": [
    "# Saving in parquet format\n",
    "customers_state_cleaned.write \\\n",
    ".format(\"parquet\") \\\n",
    ".mode(\"overwrite\") \\\n",
    ".option(\"path\", \"/user/itv008542/lendingclubproject/raw/cleaned/customers_parquet\") \\\n",
    ".save()"
   ]
  },
  {
   "cell_type": "code",
   "execution_count": 0,
   "metadata": {
    "application/vnd.databricks.v1+cell": {
     "cellMetadata": {},
     "inputWidgets": {},
     "nuid": "3befdd35-5416-4dff-8139-b77074d717e4",
     "showTitle": false,
     "title": ""
    }
   },
   "outputs": [
    {
     "output_type": "stream",
     "name": "stdout",
     "output_type": "stream",
     "text": [
      "Found 1 items\ndrwxr-xr-x   - itv008542 supergroup          0 2024-02-07 02:41 /user/itv008542/lendingclubproject/raw/cleaned/customers_parquet\n"
     ]
    }
   ],
   "source": [
    "! hadoop fs -ls -h /user/itv008542/lendingclubproject/raw/cleaned"
   ]
  },
  {
   "cell_type": "code",
   "execution_count": 0,
   "metadata": {
    "application/vnd.databricks.v1+cell": {
     "cellMetadata": {},
     "inputWidgets": {},
     "nuid": "3d675752-3e2d-4dd0-afcd-309571992e76",
     "showTitle": false,
     "title": ""
    }
   },
   "outputs": [
    {
     "output_type": "stream",
     "name": "stdout",
     "output_type": "stream",
     "text": [
      "Found 201 items\n-rw-r--r--   3 itv008542 supergroup          0 2024-02-07 02:41 /user/itv008542/lendingclubproject/raw/cleaned/customers_parquet/_SUCCESS\n-rw-r--r--   3 itv008542 supergroup    943.4 K 2024-02-07 02:41 /user/itv008542/lendingclubproject/raw/cleaned/customers_parquet/part-00000-a921d32b-f4c3-459f-9dc5-37215d9667e5-c000.snappy.parquet\n-rw-r--r--   3 itv008542 supergroup    954.3 K 2024-02-07 02:41 /user/itv008542/lendingclubproject/raw/cleaned/customers_parquet/part-00001-a921d32b-f4c3-459f-9dc5-37215d9667e5-c000.snappy.parquet\n-rw-r--r--   3 itv008542 supergroup    955.2 K 2024-02-07 02:41 /user/itv008542/lendingclubproject/raw/cleaned/customers_parquet/part-00002-a921d32b-f4c3-459f-9dc5-37215d9667e5-c000.snappy.parquet\n-rw-r--r--   3 itv008542 supergroup    938.4 K 2024-02-07 02:41 /user/itv008542/lendingclubproject/raw/cleaned/customers_parquet/part-00003-a921d32b-f4c3-459f-9dc5-37215d9667e5-c000.snappy.parquet\n-rw-r--r--   3 itv008542 supergroup    945.9 K 2024-02-07 02:41 /user/itv008542/lendingclubproject/raw/cleaned/customers_parquet/part-00004-a921d32b-f4c3-459f-9dc5-37215d9667e5-c000.snappy.parquet\n-rw-r--r--   3 itv008542 supergroup    939.1 K 2024-02-07 02:41 /user/itv008542/lendingclubproject/raw/cleaned/customers_parquet/part-00005-a921d32b-f4c3-459f-9dc5-37215d9667e5-c000.snappy.parquet\n-rw-r--r--   3 itv008542 supergroup    952.2 K 2024-02-07 02:41 /user/itv008542/lendingclubproject/raw/cleaned/customers_parquet/part-00006-a921d32b-f4c3-459f-9dc5-37215d9667e5-c000.snappy.parquet\n-rw-r--r--   3 itv008542 supergroup    931.0 K 2024-02-07 02:41 /user/itv008542/lendingclubproject/raw/cleaned/customers_parquet/part-00007-a921d32b-f4c3-459f-9dc5-37215d9667e5-c000.snappy.parquet\n-rw-r--r--   3 itv008542 supergroup    935.0 K 2024-02-07 02:41 /user/itv008542/lendingclubproject/raw/cleaned/customers_parquet/part-00008-a921d32b-f4c3-459f-9dc5-37215d9667e5-c000.snappy.parquet\n-rw-r--r--   3 itv008542 supergroup    941.1 K 2024-02-07 02:41 /user/itv008542/lendingclubproject/raw/cleaned/customers_parquet/part-00009-a921d32b-f4c3-459f-9dc5-37215d9667e5-c000.snappy.parquet\n-rw-r--r--   3 itv008542 supergroup    952.1 K 2024-02-07 02:41 /user/itv008542/lendingclubproject/raw/cleaned/customers_parquet/part-00010-a921d32b-f4c3-459f-9dc5-37215d9667e5-c000.snappy.parquet\n-rw-r--r--   3 itv008542 supergroup    937.6 K 2024-02-07 02:41 /user/itv008542/lendingclubproject/raw/cleaned/customers_parquet/part-00011-a921d32b-f4c3-459f-9dc5-37215d9667e5-c000.snappy.parquet\n-rw-r--r--   3 itv008542 supergroup    933.8 K 2024-02-07 02:41 /user/itv008542/lendingclubproject/raw/cleaned/customers_parquet/part-00012-a921d32b-f4c3-459f-9dc5-37215d9667e5-c000.snappy.parquet\n-rw-r--r--   3 itv008542 supergroup    958.0 K 2024-02-07 02:41 /user/itv008542/lendingclubproject/raw/cleaned/customers_parquet/part-00013-a921d32b-f4c3-459f-9dc5-37215d9667e5-c000.snappy.parquet\n-rw-r--r--   3 itv008542 supergroup    961.9 K 2024-02-07 02:41 /user/itv008542/lendingclubproject/raw/cleaned/customers_parquet/part-00014-a921d32b-f4c3-459f-9dc5-37215d9667e5-c000.snappy.parquet\n-rw-r--r--   3 itv008542 supergroup    957.5 K 2024-02-07 02:41 /user/itv008542/lendingclubproject/raw/cleaned/customers_parquet/part-00015-a921d32b-f4c3-459f-9dc5-37215d9667e5-c000.snappy.parquet\n-rw-r--r--   3 itv008542 supergroup    941.8 K 2024-02-07 02:41 /user/itv008542/lendingclubproject/raw/cleaned/customers_parquet/part-00016-a921d32b-f4c3-459f-9dc5-37215d9667e5-c000.snappy.parquet\n-rw-r--r--   3 itv008542 supergroup    939.9 K 2024-02-07 02:41 /user/itv008542/lendingclubproject/raw/cleaned/customers_parquet/part-00017-a921d32b-f4c3-459f-9dc5-37215d9667e5-c000.snappy.parquet\n-rw-r--r--   3 itv008542 supergroup    925.0 K 2024-02-07 02:41 /user/itv008542/lendingclubproject/raw/cleaned/customers_parquet/part-00018-a921d32b-f4c3-459f-9dc5-37215d9667e5-c000.snappy.parquet\n-rw-r--r--   3 itv008542 supergroup    940.7 K 2024-02-07 02:41 /user/itv008542/lendingclubproject/raw/cleaned/customers_parquet/part-00019-a921d32b-f4c3-459f-9dc5-37215d9667e5-c000.snappy.parquet\n-rw-r--r--   3 itv008542 supergroup    952.8 K 2024-02-07 02:41 /user/itv008542/lendingclubproject/raw/cleaned/customers_parquet/part-00020-a921d32b-f4c3-459f-9dc5-37215d9667e5-c000.snappy.parquet\n-rw-r--r--   3 itv008542 supergroup    949.9 K 2024-02-07 02:41 /user/itv008542/lendingclubproject/raw/cleaned/customers_parquet/part-00021-a921d32b-f4c3-459f-9dc5-37215d9667e5-c000.snappy.parquet\n-rw-r--r--   3 itv008542 supergroup    941.4 K 2024-02-07 02:41 /user/itv008542/lendingclubproject/raw/cleaned/customers_parquet/part-00022-a921d32b-f4c3-459f-9dc5-37215d9667e5-c000.snappy.parquet\n-rw-r--r--   3 itv008542 supergroup    960.8 K 2024-02-07 02:41 /user/itv008542/lendingclubproject/raw/cleaned/customers_parquet/part-00023-a921d32b-f4c3-459f-9dc5-37215d9667e5-c000.snappy.parquet\n-rw-r--r--   3 itv008542 supergroup    934.0 K 2024-02-07 02:41 /user/itv008542/lendingclubproject/raw/cleaned/customers_parquet/part-00024-a921d32b-f4c3-459f-9dc5-37215d9667e5-c000.snappy.parquet\n-rw-r--r--   3 itv008542 supergroup    935.9 K 2024-02-07 02:41 /user/itv008542/lendingclubproject/raw/cleaned/customers_parquet/part-00025-a921d32b-f4c3-459f-9dc5-37215d9667e5-c000.snappy.parquet\n-rw-r--r--   3 itv008542 supergroup    945.1 K 2024-02-07 02:41 /user/itv008542/lendingclubproject/raw/cleaned/customers_parquet/part-00026-a921d32b-f4c3-459f-9dc5-37215d9667e5-c000.snappy.parquet\n-rw-r--r--   3 itv008542 supergroup    937.5 K 2024-02-07 02:41 /user/itv008542/lendingclubproject/raw/cleaned/customers_parquet/part-00027-a921d32b-f4c3-459f-9dc5-37215d9667e5-c000.snappy.parquet\n-rw-r--r--   3 itv008542 supergroup    933.7 K 2024-02-07 02:41 /user/itv008542/lendingclubproject/raw/cleaned/customers_parquet/part-00028-a921d32b-f4c3-459f-9dc5-37215d9667e5-c000.snappy.parquet\n-rw-r--r--   3 itv008542 supergroup    953.1 K 2024-02-07 02:41 /user/itv008542/lendingclubproject/raw/cleaned/customers_parquet/part-00029-a921d32b-f4c3-459f-9dc5-37215d9667e5-c000.snappy.parquet\n-rw-r--r--   3 itv008542 supergroup    943.9 K 2024-02-07 02:41 /user/itv008542/lendingclubproject/raw/cleaned/customers_parquet/part-00030-a921d32b-f4c3-459f-9dc5-37215d9667e5-c000.snappy.parquet\n-rw-r--r--   3 itv008542 supergroup    945.3 K 2024-02-07 02:41 /user/itv008542/lendingclubproject/raw/cleaned/customers_parquet/part-00031-a921d32b-f4c3-459f-9dc5-37215d9667e5-c000.snappy.parquet\n-rw-r--r--   3 itv008542 supergroup    942.3 K 2024-02-07 02:41 /user/itv008542/lendingclubproject/raw/cleaned/customers_parquet/part-00032-a921d32b-f4c3-459f-9dc5-37215d9667e5-c000.snappy.parquet\n-rw-r--r--   3 itv008542 supergroup    944.3 K 2024-02-07 02:41 /user/itv008542/lendingclubproject/raw/cleaned/customers_parquet/part-00033-a921d32b-f4c3-459f-9dc5-37215d9667e5-c000.snappy.parquet\n-rw-r--r--   3 itv008542 supergroup    935.0 K 2024-02-07 02:41 /user/itv008542/lendingclubproject/raw/cleaned/customers_parquet/part-00034-a921d32b-f4c3-459f-9dc5-37215d9667e5-c000.snappy.parquet\n-rw-r--r--   3 itv008542 supergroup    957.9 K 2024-02-07 02:41 /user/itv008542/lendingclubproject/raw/cleaned/customers_parquet/part-00035-a921d32b-f4c3-459f-9dc5-37215d9667e5-c000.snappy.parquet\n-rw-r--r--   3 itv008542 supergroup    932.6 K 2024-02-07 02:41 /user/itv008542/lendingclubproject/raw/cleaned/customers_parquet/part-00036-a921d32b-f4c3-459f-9dc5-37215d9667e5-c000.snappy.parquet\n-rw-r--r--   3 itv008542 supergroup    956.6 K 2024-02-07 02:41 /user/itv008542/lendingclubproject/raw/cleaned/customers_parquet/part-00037-a921d32b-f4c3-459f-9dc5-37215d9667e5-c000.snappy.parquet\n-rw-r--r--   3 itv008542 supergroup    940.3 K 2024-02-07 02:41 /user/itv008542/lendingclubproject/raw/cleaned/customers_parquet/part-00038-a921d32b-f4c3-459f-9dc5-37215d9667e5-c000.snappy.parquet\n-rw-r--r--   3 itv008542 supergroup    931.2 K 2024-02-07 02:41 /user/itv008542/lendingclubproject/raw/cleaned/customers_parquet/part-00039-a921d32b-f4c3-459f-9dc5-37215d9667e5-c000.snappy.parquet\n-rw-r--r--   3 itv008542 supergroup    948.4 K 2024-02-07 02:41 /user/itv008542/lendingclubproject/raw/cleaned/customers_parquet/part-00040-a921d32b-f4c3-459f-9dc5-37215d9667e5-c000.snappy.parquet\n-rw-r--r--   3 itv008542 supergroup    968.9 K 2024-02-07 02:41 /user/itv008542/lendingclubproject/raw/cleaned/customers_parquet/part-00041-a921d32b-f4c3-459f-9dc5-37215d9667e5-c000.snappy.parquet\n-rw-r--r--   3 itv008542 supergroup    969.4 K 2024-02-07 02:41 /user/itv008542/lendingclubproject/raw/cleaned/customers_parquet/part-00042-a921d32b-f4c3-459f-9dc5-37215d9667e5-c000.snappy.parquet\n-rw-r--r--   3 itv008542 supergroup    947.7 K 2024-02-07 02:41 /user/itv008542/lendingclubproject/raw/cleaned/customers_parquet/part-00043-a921d32b-f4c3-459f-9dc5-37215d9667e5-c000.snappy.parquet\n-rw-r--r--   3 itv008542 supergroup    949.9 K 2024-02-07 02:41 /user/itv008542/lendingclubproject/raw/cleaned/customers_parquet/part-00044-a921d32b-f4c3-459f-9dc5-37215d9667e5-c000.snappy.parquet\n-rw-r--r--   3 itv008542 supergroup    940.2 K 2024-02-07 02:41 /user/itv008542/lendingclubproject/raw/cleaned/customers_parquet/part-00045-a921d32b-f4c3-459f-9dc5-37215d9667e5-c000.snappy.parquet\n-rw-r--r--   3 itv008542 supergroup    913.7 K 2024-02-07 02:41 /user/itv008542/lendingclubproject/raw/cleaned/customers_parquet/part-00046-a921d32b-f4c3-459f-9dc5-37215d9667e5-c000.snappy.parquet\n-rw-r--r--   3 itv008542 supergroup    928.6 K 2024-02-07 02:41 /user/itv008542/lendingclubproject/raw/cleaned/customers_parquet/part-00047-a921d32b-f4c3-459f-9dc5-37215d9667e5-c000.snappy.parquet\n-rw-r--r--   3 itv008542 supergroup    965.9 K 2024-02-07 02:41 /user/itv008542/lendingclubproject/raw/cleaned/customers_parquet/part-00048-a921d32b-f4c3-459f-9dc5-37215d9667e5-c000.snappy.parquet\n-rw-r--r--   3 itv008542 supergroup    950.4 K 2024-02-07 02:41 /user/itv008542/lendingclubproject/raw/cleaned/customers_parquet/part-00049-a921d32b-f4c3-459f-9dc5-37215d9667e5-c000.snappy.parquet\n-rw-r--r--   3 itv008542 supergroup    943.4 K 2024-02-07 02:41 /user/itv008542/lendingclubproject/raw/cleaned/customers_parquet/part-00050-a921d32b-f4c3-459f-9dc5-37215d9667e5-c000.snappy.parquet\n-rw-r--r--   3 itv008542 supergroup    939.6 K 2024-02-07 02:41 /user/itv008542/lendingclubproject/raw/cleaned/customers_parquet/part-00051-a921d32b-f4c3-459f-9dc5-37215d9667e5-c000.snappy.parquet\n-rw-r--r--   3 itv008542 supergroup    946.3 K 2024-02-07 02:41 /user/itv008542/lendingclubproject/raw/cleaned/customers_parquet/part-00052-a921d32b-f4c3-459f-9dc5-37215d9667e5-c000.snappy.parquet\n-rw-r--r--   3 itv008542 supergroup    930.5 K 2024-02-07 02:41 /user/itv008542/lendingclubproject/raw/cleaned/customers_parquet/part-00053-a921d32b-f4c3-459f-9dc5-37215d9667e5-c000.snappy.parquet\n-rw-r--r--   3 itv008542 supergroup    954.7 K 2024-02-07 02:41 /user/itv008542/lendingclubproject/raw/cleaned/customers_parquet/part-00054-a921d32b-f4c3-459f-9dc5-37215d9667e5-c000.snappy.parquet\n-rw-r--r--   3 itv008542 supergroup    950.9 K 2024-02-07 02:41 /user/itv008542/lendingclubproject/raw/cleaned/customers_parquet/part-00055-a921d32b-f4c3-459f-9dc5-37215d9667e5-c000.snappy.parquet\n-rw-r--r--   3 itv008542 supergroup    940.4 K 2024-02-07 02:41 /user/itv008542/lendingclubproject/raw/cleaned/customers_parquet/part-00056-a921d32b-f4c3-459f-9dc5-37215d9667e5-c000.snappy.parquet\n-rw-r--r--   3 itv008542 supergroup    952.2 K 2024-02-07 02:41 /user/itv008542/lendingclubproject/raw/cleaned/customers_parquet/part-00057-a921d32b-f4c3-459f-9dc5-37215d9667e5-c000.snappy.parquet\n-rw-r--r--   3 itv008542 supergroup    942.5 K 2024-02-07 02:41 /user/itv008542/lendingclubproject/raw/cleaned/customers_parquet/part-00058-a921d32b-f4c3-459f-9dc5-37215d9667e5-c000.snappy.parquet\n-rw-r--r--   3 itv008542 supergroup    934.2 K 2024-02-07 02:41 /user/itv008542/lendingclubproject/raw/cleaned/customers_parquet/part-00059-a921d32b-f4c3-459f-9dc5-37215d9667e5-c000.snappy.parquet\n-rw-r--r--   3 itv008542 supergroup    934.9 K 2024-02-07 02:41 /user/itv008542/lendingclubproject/raw/cleaned/customers_parquet/part-00060-a921d32b-f4c3-459f-9dc5-37215d9667e5-c000.snappy.parquet\n-rw-r--r--   3 itv008542 supergroup    939.3 K 2024-02-07 02:41 /user/itv008542/lendingclubproject/raw/cleaned/customers_parquet/part-00061-a921d32b-f4c3-459f-9dc5-37215d9667e5-c000.snappy.parquet\n-rw-r--r--   3 itv008542 supergroup    945.1 K 2024-02-07 02:41 /user/itv008542/lendingclubproject/raw/cleaned/customers_parquet/part-00062-a921d32b-f4c3-459f-9dc5-37215d9667e5-c000.snappy.parquet\n-rw-r--r--   3 itv008542 supergroup    963.4 K 2024-02-07 02:41 /user/itv008542/lendingclubproject/raw/cleaned/customers_parquet/part-00063-a921d32b-f4c3-459f-9dc5-37215d9667e5-c000.snappy.parquet\n-rw-r--r--   3 itv008542 supergroup    937.4 K 2024-02-07 02:41 /user/itv008542/lendingclubproject/raw/cleaned/customers_parquet/part-00064-a921d32b-f4c3-459f-9dc5-37215d9667e5-c000.snappy.parquet\n-rw-r--r--   3 itv008542 supergroup    961.4 K 2024-02-07 02:41 /user/itv008542/lendingclubproject/raw/cleaned/customers_parquet/part-00065-a921d32b-f4c3-459f-9dc5-37215d9667e5-c000.snappy.parquet\n-rw-r--r--   3 itv008542 supergroup    947.0 K 2024-02-07 02:41 /user/itv008542/lendingclubproject/raw/cleaned/customers_parquet/part-00066-a921d32b-f4c3-459f-9dc5-37215d9667e5-c000.snappy.parquet\n-rw-r--r--   3 itv008542 supergroup    956.4 K 2024-02-07 02:41 /user/itv008542/lendingclubproject/raw/cleaned/customers_parquet/part-00067-a921d32b-f4c3-459f-9dc5-37215d9667e5-c000.snappy.parquet\n-rw-r--r--   3 itv008542 supergroup    946.6 K 2024-02-07 02:41 /user/itv008542/lendingclubproject/raw/cleaned/customers_parquet/part-00068-a921d32b-f4c3-459f-9dc5-37215d9667e5-c000.snappy.parquet\n-rw-r--r--   3 itv008542 supergroup    954.5 K 2024-02-07 02:41 /user/itv008542/lendingclubproject/raw/cleaned/customers_parquet/part-00069-a921d32b-f4c3-459f-9dc5-37215d9667e5-c000.snappy.parquet\n-rw-r--r--   3 itv008542 supergroup    947.1 K 2024-02-07 02:41 /user/itv008542/lendingclubproject/raw/cleaned/customers_parquet/part-00070-a921d32b-f4c3-459f-9dc5-37215d9667e5-c000.snappy.parquet\n-rw-r--r--   3 itv008542 supergroup    944.4 K 2024-02-07 02:41 /user/itv008542/lendingclubproject/raw/cleaned/customers_parquet/part-00071-a921d32b-f4c3-459f-9dc5-37215d9667e5-c000.snappy.parquet\n-rw-r--r--   3 itv008542 supergroup    940.8 K 2024-02-07 02:41 /user/itv008542/lendingclubproject/raw/cleaned/customers_parquet/part-00072-a921d32b-f4c3-459f-9dc5-37215d9667e5-c000.snappy.parquet\n-rw-r--r--   3 itv008542 supergroup    928.2 K 2024-02-07 02:41 /user/itv008542/lendingclubproject/raw/cleaned/customers_parquet/part-00073-a921d32b-f4c3-459f-9dc5-37215d9667e5-c000.snappy.parquet\n-rw-r--r--   3 itv008542 supergroup    948.3 K 2024-02-07 02:41 /user/itv008542/lendingclubproject/raw/cleaned/customers_parquet/part-00074-a921d32b-f4c3-459f-9dc5-37215d9667e5-c000.snappy.parquet\n-rw-r--r--   3 itv008542 supergroup    963.0 K 2024-02-07 02:41 /user/itv008542/lendingclubproject/raw/cleaned/customers_parquet/part-00075-a921d32b-f4c3-459f-9dc5-37215d9667e5-c000.snappy.parquet\n-rw-r--r--   3 itv008542 supergroup    954.9 K 2024-02-07 02:41 /user/itv008542/lendingclubproject/raw/cleaned/customers_parquet/part-00076-a921d32b-f4c3-459f-9dc5-37215d9667e5-c000.snappy.parquet\n-rw-r--r--   3 itv008542 supergroup    956.7 K 2024-02-07 02:41 /user/itv008542/lendingclubproject/raw/cleaned/customers_parquet/part-00077-a921d32b-f4c3-459f-9dc5-37215d9667e5-c000.snappy.parquet\n-rw-r--r--   3 itv008542 supergroup    955.4 K 2024-02-07 02:41 /user/itv008542/lendingclubproject/raw/cleaned/customers_parquet/part-00078-a921d32b-f4c3-459f-9dc5-37215d9667e5-c000.snappy.parquet\n-rw-r--r--   3 itv008542 supergroup    944.9 K 2024-02-07 02:41 /user/itv008542/lendingclubproject/raw/cleaned/customers_parquet/part-00079-a921d32b-f4c3-459f-9dc5-37215d9667e5-c000.snappy.parquet\n-rw-r--r--   3 itv008542 supergroup    955.7 K 2024-02-07 02:41 /user/itv008542/lendingclubproject/raw/cleaned/customers_parquet/part-00080-a921d32b-f4c3-459f-9dc5-37215d9667e5-c000.snappy.parquet\n-rw-r--r--   3 itv008542 supergroup    951.2 K 2024-02-07 02:41 /user/itv008542/lendingclubproject/raw/cleaned/customers_parquet/part-00081-a921d32b-f4c3-459f-9dc5-37215d9667e5-c000.snappy.parquet\n-rw-r--r--   3 itv008542 supergroup    955.6 K 2024-02-07 02:41 /user/itv008542/lendingclubproject/raw/cleaned/customers_parquet/part-00082-a921d32b-f4c3-459f-9dc5-37215d9667e5-c000.snappy.parquet\n-rw-r--r--   3 itv008542 supergroup    966.3 K 2024-02-07 02:41 /user/itv008542/lendingclubproject/raw/cleaned/customers_parquet/part-00083-a921d32b-f4c3-459f-9dc5-37215d9667e5-c000.snappy.parquet\n-rw-r--r--   3 itv008542 supergroup    933.9 K 2024-02-07 02:41 /user/itv008542/lendingclubproject/raw/cleaned/customers_parquet/part-00084-a921d32b-f4c3-459f-9dc5-37215d9667e5-c000.snappy.parquet\n-rw-r--r--   3 itv008542 supergroup    960.9 K 2024-02-07 02:41 /user/itv008542/lendingclubproject/raw/cleaned/customers_parquet/part-00085-a921d32b-f4c3-459f-9dc5-37215d9667e5-c000.snappy.parquet\n-rw-r--r--   3 itv008542 supergroup    959.1 K 2024-02-07 02:41 /user/itv008542/lendingclubproject/raw/cleaned/customers_parquet/part-00086-a921d32b-f4c3-459f-9dc5-37215d9667e5-c000.snappy.parquet\n-rw-r--r--   3 itv008542 supergroup    968.6 K 2024-02-07 02:41 /user/itv008542/lendingclubproject/raw/cleaned/customers_parquet/part-00087-a921d32b-f4c3-459f-9dc5-37215d9667e5-c000.snappy.parquet\n-rw-r--r--   3 itv008542 supergroup    960.4 K 2024-02-07 02:41 /user/itv008542/lendingclubproject/raw/cleaned/customers_parquet/part-00088-a921d32b-f4c3-459f-9dc5-37215d9667e5-c000.snappy.parquet\n-rw-r--r--   3 itv008542 supergroup    945.8 K 2024-02-07 02:41 /user/itv008542/lendingclubproject/raw/cleaned/customers_parquet/part-00089-a921d32b-f4c3-459f-9dc5-37215d9667e5-c000.snappy.parquet\n-rw-r--r--   3 itv008542 supergroup    952.6 K 2024-02-07 02:41 /user/itv008542/lendingclubproject/raw/cleaned/customers_parquet/part-00090-a921d32b-f4c3-459f-9dc5-37215d9667e5-c000.snappy.parquet\n-rw-r--r--   3 itv008542 supergroup    954.4 K 2024-02-07 02:41 /user/itv008542/lendingclubproject/raw/cleaned/customers_parquet/part-00091-a921d32b-f4c3-459f-9dc5-37215d9667e5-c000.snappy.parquet\n-rw-r--r--   3 itv008542 supergroup    933.8 K 2024-02-07 02:41 /user/itv008542/lendingclubproject/raw/cleaned/customers_parquet/part-00092-a921d32b-f4c3-459f-9dc5-37215d9667e5-c000.snappy.parquet\n-rw-r--r--   3 itv008542 supergroup    956.4 K 2024-02-07 02:41 /user/itv008542/lendingclubproject/raw/cleaned/customers_parquet/part-00093-a921d32b-f4c3-459f-9dc5-37215d9667e5-c000.snappy.parquet\n-rw-r--r--   3 itv008542 supergroup    961.4 K 2024-02-07 02:41 /user/itv008542/lendingclubproject/raw/cleaned/customers_parquet/part-00094-a921d32b-f4c3-459f-9dc5-37215d9667e5-c000.snappy.parquet\n-rw-r--r--   3 itv008542 supergroup    942.8 K 2024-02-07 02:41 /user/itv008542/lendingclubproject/raw/cleaned/customers_parquet/part-00095-a921d32b-f4c3-459f-9dc5-37215d9667e5-c000.snappy.parquet\n-rw-r--r--   3 itv008542 supergroup    948.0 K 2024-02-07 02:41 /user/itv008542/lendingclubproject/raw/cleaned/customers_parquet/part-00096-a921d32b-f4c3-459f-9dc5-37215d9667e5-c000.snappy.parquet\n-rw-r--r--   3 itv008542 supergroup    954.5 K 2024-02-07 02:41 /user/itv008542/lendingclubproject/raw/cleaned/customers_parquet/part-00097-a921d32b-f4c3-459f-9dc5-37215d9667e5-c000.snappy.parquet\n-rw-r--r--   3 itv008542 supergroup    947.0 K 2024-02-07 02:41 /user/itv008542/lendingclubproject/raw/cleaned/customers_parquet/part-00098-a921d32b-f4c3-459f-9dc5-37215d9667e5-c000.snappy.parquet\n-rw-r--r--   3 itv008542 supergroup    939.2 K 2024-02-07 02:41 /user/itv008542/lendingclubproject/raw/cleaned/customers_parquet/part-00099-a921d32b-f4c3-459f-9dc5-37215d9667e5-c000.snappy.parquet\n-rw-r--r--   3 itv008542 supergroup    952.3 K 2024-02-07 02:41 /user/itv008542/lendingclubproject/raw/cleaned/customers_parquet/part-00100-a921d32b-f4c3-459f-9dc5-37215d9667e5-c000.snappy.parquet\n-rw-r--r--   3 itv008542 supergroup    946.0 K 2024-02-07 02:41 /user/itv008542/lendingclubproject/raw/cleaned/customers_parquet/part-00101-a921d32b-f4c3-459f-9dc5-37215d9667e5-c000.snappy.parquet\n-rw-r--r--   3 itv008542 supergroup    933.9 K 2024-02-07 02:41 /user/itv008542/lendingclubproject/raw/cleaned/customers_parquet/part-00102-a921d32b-f4c3-459f-9dc5-37215d9667e5-c000.snappy.parquet\n-rw-r--r--   3 itv008542 supergroup    936.5 K 2024-02-07 02:41 /user/itv008542/lendingclubproject/raw/cleaned/customers_parquet/part-00103-a921d32b-f4c3-459f-9dc5-37215d9667e5-c000.snappy.parquet\n-rw-r--r--   3 itv008542 supergroup    945.7 K 2024-02-07 02:41 /user/itv008542/lendingclubproject/raw/cleaned/customers_parquet/part-00104-a921d32b-f4c3-459f-9dc5-37215d9667e5-c000.snappy.parquet\n-rw-r--r--   3 itv008542 supergroup    944.4 K 2024-02-07 02:41 /user/itv008542/lendingclubproject/raw/cleaned/customers_parquet/part-00105-a921d32b-f4c3-459f-9dc5-37215d9667e5-c000.snappy.parquet\n-rw-r--r--   3 itv008542 supergroup    951.3 K 2024-02-07 02:41 /user/itv008542/lendingclubproject/raw/cleaned/customers_parquet/part-00106-a921d32b-f4c3-459f-9dc5-37215d9667e5-c000.snappy.parquet\n-rw-r--r--   3 itv008542 supergroup    941.3 K 2024-02-07 02:41 /user/itv008542/lendingclubproject/raw/cleaned/customers_parquet/part-00107-a921d32b-f4c3-459f-9dc5-37215d9667e5-c000.snappy.parquet\n-rw-r--r--   3 itv008542 supergroup    944.6 K 2024-02-07 02:41 /user/itv008542/lendingclubproject/raw/cleaned/customers_parquet/part-00108-a921d32b-f4c3-459f-9dc5-37215d9667e5-c000.snappy.parquet\n-rw-r--r--   3 itv008542 supergroup    949.5 K 2024-02-07 02:41 /user/itv008542/lendingclubproject/raw/cleaned/customers_parquet/part-00109-a921d32b-f4c3-459f-9dc5-37215d9667e5-c000.snappy.parquet\n-rw-r--r--   3 itv008542 supergroup    953.8 K 2024-02-07 02:41 /user/itv008542/lendingclubproject/raw/cleaned/customers_parquet/part-00110-a921d32b-f4c3-459f-9dc5-37215d9667e5-c000.snappy.parquet\n-rw-r--r--   3 itv008542 supergroup    947.4 K 2024-02-07 02:41 /user/itv008542/lendingclubproject/raw/cleaned/customers_parquet/part-00111-a921d32b-f4c3-459f-9dc5-37215d9667e5-c000.snappy.parquet\n-rw-r--r--   3 itv008542 supergroup    965.5 K 2024-02-07 02:41 /user/itv008542/lendingclubproject/raw/cleaned/customers_parquet/part-00112-a921d32b-f4c3-459f-9dc5-37215d9667e5-c000.snappy.parquet\n-rw-r--r--   3 itv008542 supergroup    938.1 K 2024-02-07 02:41 /user/itv008542/lendingclubproject/raw/cleaned/customers_parquet/part-00113-a921d32b-f4c3-459f-9dc5-37215d9667e5-c000.snappy.parquet\n-rw-r--r--   3 itv008542 supergroup    948.9 K 2024-02-07 02:41 /user/itv008542/lendingclubproject/raw/cleaned/customers_parquet/part-00114-a921d32b-f4c3-459f-9dc5-37215d9667e5-c000.snappy.parquet\n-rw-r--r--   3 itv008542 supergroup    948.6 K 2024-02-07 02:41 /user/itv008542/lendingclubproject/raw/cleaned/customers_parquet/part-00115-a921d32b-f4c3-459f-9dc5-37215d9667e5-c000.snappy.parquet\n-rw-r--r--   3 itv008542 supergroup    942.4 K 2024-02-07 02:41 /user/itv008542/lendingclubproject/raw/cleaned/customers_parquet/part-00116-a921d32b-f4c3-459f-9dc5-37215d9667e5-c000.snappy.parquet\n-rw-r--r--   3 itv008542 supergroup    939.9 K 2024-02-07 02:41 /user/itv008542/lendingclubproject/raw/cleaned/customers_parquet/part-00117-a921d32b-f4c3-459f-9dc5-37215d9667e5-c000.snappy.parquet\n-rw-r--r--   3 itv008542 supergroup    928.7 K 2024-02-07 02:41 /user/itv008542/lendingclubproject/raw/cleaned/customers_parquet/part-00118-a921d32b-f4c3-459f-9dc5-37215d9667e5-c000.snappy.parquet\n-rw-r--r--   3 itv008542 supergroup    947.9 K 2024-02-07 02:41 /user/itv008542/lendingclubproject/raw/cleaned/customers_parquet/part-00119-a921d32b-f4c3-459f-9dc5-37215d9667e5-c000.snappy.parquet\n-rw-r--r--   3 itv008542 supergroup    948.4 K 2024-02-07 02:41 /user/itv008542/lendingclubproject/raw/cleaned/customers_parquet/part-00120-a921d32b-f4c3-459f-9dc5-37215d9667e5-c000.snappy.parquet\n-rw-r--r--   3 itv008542 supergroup    937.9 K 2024-02-07 02:41 /user/itv008542/lendingclubproject/raw/cleaned/customers_parquet/part-00121-a921d32b-f4c3-459f-9dc5-37215d9667e5-c000.snappy.parquet\n-rw-r--r--   3 itv008542 supergroup    941.9 K 2024-02-07 02:41 /user/itv008542/lendingclubproject/raw/cleaned/customers_parquet/part-00122-a921d32b-f4c3-459f-9dc5-37215d9667e5-c000.snappy.parquet\n-rw-r--r--   3 itv008542 supergroup    956.4 K 2024-02-07 02:41 /user/itv008542/lendingclubproject/raw/cleaned/customers_parquet/part-00123-a921d32b-f4c3-459f-9dc5-37215d9667e5-c000.snappy.parquet\n-rw-r--r--   3 itv008542 supergroup    954.1 K 2024-02-07 02:41 /user/itv008542/lendingclubproject/raw/cleaned/customers_parquet/part-00124-a921d32b-f4c3-459f-9dc5-37215d9667e5-c000.snappy.parquet\n-rw-r--r--   3 itv008542 supergroup    943.7 K 2024-02-07 02:41 /user/itv008542/lendingclubproject/raw/cleaned/customers_parquet/part-00125-a921d32b-f4c3-459f-9dc5-37215d9667e5-c000.snappy.parquet\n-rw-r--r--   3 itv008542 supergroup    937.8 K 2024-02-07 02:41 /user/itv008542/lendingclubproject/raw/cleaned/customers_parquet/part-00126-a921d32b-f4c3-459f-9dc5-37215d9667e5-c000.snappy.parquet\n-rw-r--r--   3 itv008542 supergroup    950.0 K 2024-02-07 02:41 /user/itv008542/lendingclubproject/raw/cleaned/customers_parquet/part-00127-a921d32b-f4c3-459f-9dc5-37215d9667e5-c000.snappy.parquet\n-rw-r--r--   3 itv008542 supergroup    942.3 K 2024-02-07 02:41 /user/itv008542/lendingclubproject/raw/cleaned/customers_parquet/part-00128-a921d32b-f4c3-459f-9dc5-37215d9667e5-c000.snappy.parquet\n-rw-r--r--   3 itv008542 supergroup    947.5 K 2024-02-07 02:41 /user/itv008542/lendingclubproject/raw/cleaned/customers_parquet/part-00129-a921d32b-f4c3-459f-9dc5-37215d9667e5-c000.snappy.parquet\n-rw-r--r--   3 itv008542 supergroup    934.4 K 2024-02-07 02:41 /user/itv008542/lendingclubproject/raw/cleaned/customers_parquet/part-00130-a921d32b-f4c3-459f-9dc5-37215d9667e5-c000.snappy.parquet\n-rw-r--r--   3 itv008542 supergroup    960.0 K 2024-02-07 02:41 /user/itv008542/lendingclubproject/raw/cleaned/customers_parquet/part-00131-a921d32b-f4c3-459f-9dc5-37215d9667e5-c000.snappy.parquet\n-rw-r--r--   3 itv008542 supergroup    947.7 K 2024-02-07 02:41 /user/itv008542/lendingclubproject/raw/cleaned/customers_parquet/part-00132-a921d32b-f4c3-459f-9dc5-37215d9667e5-c000.snappy.parquet\n-rw-r--r--   3 itv008542 supergroup    961.9 K 2024-02-07 02:41 /user/itv008542/lendingclubproject/raw/cleaned/customers_parquet/part-00133-a921d32b-f4c3-459f-9dc5-37215d9667e5-c000.snappy.parquet\n-rw-r--r--   3 itv008542 supergroup    952.6 K 2024-02-07 02:41 /user/itv008542/lendingclubproject/raw/cleaned/customers_parquet/part-00134-a921d32b-f4c3-459f-9dc5-37215d9667e5-c000.snappy.parquet\n-rw-r--r--   3 itv008542 supergroup    935.3 K 2024-02-07 02:41 /user/itv008542/lendingclubproject/raw/cleaned/customers_parquet/part-00135-a921d32b-f4c3-459f-9dc5-37215d9667e5-c000.snappy.parquet\n-rw-r--r--   3 itv008542 supergroup    950.5 K 2024-02-07 02:41 /user/itv008542/lendingclubproject/raw/cleaned/customers_parquet/part-00136-a921d32b-f4c3-459f-9dc5-37215d9667e5-c000.snappy.parquet\n-rw-r--r--   3 itv008542 supergroup    959.4 K 2024-02-07 02:41 /user/itv008542/lendingclubproject/raw/cleaned/customers_parquet/part-00137-a921d32b-f4c3-459f-9dc5-37215d9667e5-c000.snappy.parquet\n-rw-r--r--   3 itv008542 supergroup    953.3 K 2024-02-07 02:41 /user/itv008542/lendingclubproject/raw/cleaned/customers_parquet/part-00138-a921d32b-f4c3-459f-9dc5-37215d9667e5-c000.snappy.parquet\n-rw-r--r--   3 itv008542 supergroup    953.4 K 2024-02-07 02:41 /user/itv008542/lendingclubproject/raw/cleaned/customers_parquet/part-00139-a921d32b-f4c3-459f-9dc5-37215d9667e5-c000.snappy.parquet\n-rw-r--r--   3 itv008542 supergroup    966.6 K 2024-02-07 02:41 /user/itv008542/lendingclubproject/raw/cleaned/customers_parquet/part-00140-a921d32b-f4c3-459f-9dc5-37215d9667e5-c000.snappy.parquet\n-rw-r--r--   3 itv008542 supergroup    948.9 K 2024-02-07 02:41 /user/itv008542/lendingclubproject/raw/cleaned/customers_parquet/part-00141-a921d32b-f4c3-459f-9dc5-37215d9667e5-c000.snappy.parquet\n-rw-r--r--   3 itv008542 supergroup    937.2 K 2024-02-07 02:41 /user/itv008542/lendingclubproject/raw/cleaned/customers_parquet/part-00142-a921d32b-f4c3-459f-9dc5-37215d9667e5-c000.snappy.parquet\n-rw-r--r--   3 itv008542 supergroup    950.3 K 2024-02-07 02:41 /user/itv008542/lendingclubproject/raw/cleaned/customers_parquet/part-00143-a921d32b-f4c3-459f-9dc5-37215d9667e5-c000.snappy.parquet\n-rw-r--r--   3 itv008542 supergroup    932.2 K 2024-02-07 02:41 /user/itv008542/lendingclubproject/raw/cleaned/customers_parquet/part-00144-a921d32b-f4c3-459f-9dc5-37215d9667e5-c000.snappy.parquet\n-rw-r--r--   3 itv008542 supergroup    941.6 K 2024-02-07 02:41 /user/itv008542/lendingclubproject/raw/cleaned/customers_parquet/part-00145-a921d32b-f4c3-459f-9dc5-37215d9667e5-c000.snappy.parquet\n-rw-r--r--   3 itv008542 supergroup    952.0 K 2024-02-07 02:41 /user/itv008542/lendingclubproject/raw/cleaned/customers_parquet/part-00146-a921d32b-f4c3-459f-9dc5-37215d9667e5-c000.snappy.parquet\n-rw-r--r--   3 itv008542 supergroup    940.7 K 2024-02-07 02:41 /user/itv008542/lendingclubproject/raw/cleaned/customers_parquet/part-00147-a921d32b-f4c3-459f-9dc5-37215d9667e5-c000.snappy.parquet\n-rw-r--r--   3 itv008542 supergroup    943.3 K 2024-02-07 02:41 /user/itv008542/lendingclubproject/raw/cleaned/customers_parquet/part-00148-a921d32b-f4c3-459f-9dc5-37215d9667e5-c000.snappy.parquet\n-rw-r--r--   3 itv008542 supergroup    952.5 K 2024-02-07 02:41 /user/itv008542/lendingclubproject/raw/cleaned/customers_parquet/part-00149-a921d32b-f4c3-459f-9dc5-37215d9667e5-c000.snappy.parquet\n-rw-r--r--   3 itv008542 supergroup    945.9 K 2024-02-07 02:41 /user/itv008542/lendingclubproject/raw/cleaned/customers_parquet/part-00150-a921d32b-f4c3-459f-9dc5-37215d9667e5-c000.snappy.parquet\n-rw-r--r--   3 itv008542 supergroup    947.3 K 2024-02-07 02:41 /user/itv008542/lendingclubproject/raw/cleaned/customers_parquet/part-00151-a921d32b-f4c3-459f-9dc5-37215d9667e5-c000.snappy.parquet\n-rw-r--r--   3 itv008542 supergroup    935.6 K 2024-02-07 02:41 /user/itv008542/lendingclubproject/raw/cleaned/customers_parquet/part-00152-a921d32b-f4c3-459f-9dc5-37215d9667e5-c000.snappy.parquet\n-rw-r--r--   3 itv008542 supergroup    939.4 K 2024-02-07 02:41 /user/itv008542/lendingclubproject/raw/cleaned/customers_parquet/part-00153-a921d32b-f4c3-459f-9dc5-37215d9667e5-c000.snappy.parquet\n-rw-r--r--   3 itv008542 supergroup    955.4 K 2024-02-07 02:41 /user/itv008542/lendingclubproject/raw/cleaned/customers_parquet/part-00154-a921d32b-f4c3-459f-9dc5-37215d9667e5-c000.snappy.parquet\n-rw-r--r--   3 itv008542 supergroup    947.4 K 2024-02-07 02:41 /user/itv008542/lendingclubproject/raw/cleaned/customers_parquet/part-00155-a921d32b-f4c3-459f-9dc5-37215d9667e5-c000.snappy.parquet\n-rw-r--r--   3 itv008542 supergroup    942.7 K 2024-02-07 02:41 /user/itv008542/lendingclubproject/raw/cleaned/customers_parquet/part-00156-a921d32b-f4c3-459f-9dc5-37215d9667e5-c000.snappy.parquet\n-rw-r--r--   3 itv008542 supergroup    943.8 K 2024-02-07 02:41 /user/itv008542/lendingclubproject/raw/cleaned/customers_parquet/part-00157-a921d32b-f4c3-459f-9dc5-37215d9667e5-c000.snappy.parquet\n-rw-r--r--   3 itv008542 supergroup    934.5 K 2024-02-07 02:41 /user/itv008542/lendingclubproject/raw/cleaned/customers_parquet/part-00158-a921d32b-f4c3-459f-9dc5-37215d9667e5-c000.snappy.parquet\n-rw-r--r--   3 itv008542 supergroup    951.9 K 2024-02-07 02:41 /user/itv008542/lendingclubproject/raw/cleaned/customers_parquet/part-00159-a921d32b-f4c3-459f-9dc5-37215d9667e5-c000.snappy.parquet\n-rw-r--r--   3 itv008542 supergroup    949.7 K 2024-02-07 02:41 /user/itv008542/lendingclubproject/raw/cleaned/customers_parquet/part-00160-a921d32b-f4c3-459f-9dc5-37215d9667e5-c000.snappy.parquet\n-rw-r--r--   3 itv008542 supergroup    961.0 K 2024-02-07 02:41 /user/itv008542/lendingclubproject/raw/cleaned/customers_parquet/part-00161-a921d32b-f4c3-459f-9dc5-37215d9667e5-c000.snappy.parquet\n-rw-r--r--   3 itv008542 supergroup    943.7 K 2024-02-07 02:41 /user/itv008542/lendingclubproject/raw/cleaned/customers_parquet/part-00162-a921d32b-f4c3-459f-9dc5-37215d9667e5-c000.snappy.parquet\n-rw-r--r--   3 itv008542 supergroup    935.8 K 2024-02-07 02:41 /user/itv008542/lendingclubproject/raw/cleaned/customers_parquet/part-00163-a921d32b-f4c3-459f-9dc5-37215d9667e5-c000.snappy.parquet\n-rw-r--r--   3 itv008542 supergroup    949.4 K 2024-02-07 02:41 /user/itv008542/lendingclubproject/raw/cleaned/customers_parquet/part-00164-a921d32b-f4c3-459f-9dc5-37215d9667e5-c000.snappy.parquet\n-rw-r--r--   3 itv008542 supergroup    962.3 K 2024-02-07 02:41 /user/itv008542/lendingclubproject/raw/cleaned/customers_parquet/part-00165-a921d32b-f4c3-459f-9dc5-37215d9667e5-c000.snappy.parquet\n-rw-r--r--   3 itv008542 supergroup    926.6 K 2024-02-07 02:41 /user/itv008542/lendingclubproject/raw/cleaned/customers_parquet/part-00166-a921d32b-f4c3-459f-9dc5-37215d9667e5-c000.snappy.parquet\n-rw-r--r--   3 itv008542 supergroup    934.7 K 2024-02-07 02:41 /user/itv008542/lendingclubproject/raw/cleaned/customers_parquet/part-00167-a921d32b-f4c3-459f-9dc5-37215d9667e5-c000.snappy.parquet\n-rw-r--r--   3 itv008542 supergroup    939.4 K 2024-02-07 02:41 /user/itv008542/lendingclubproject/raw/cleaned/customers_parquet/part-00168-a921d32b-f4c3-459f-9dc5-37215d9667e5-c000.snappy.parquet\n-rw-r--r--   3 itv008542 supergroup    940.4 K 2024-02-07 02:41 /user/itv008542/lendingclubproject/raw/cleaned/customers_parquet/part-00169-a921d32b-f4c3-459f-9dc5-37215d9667e5-c000.snappy.parquet\n-rw-r--r--   3 itv008542 supergroup    939.0 K 2024-02-07 02:41 /user/itv008542/lendingclubproject/raw/cleaned/customers_parquet/part-00170-a921d32b-f4c3-459f-9dc5-37215d9667e5-c000.snappy.parquet\n-rw-r--r--   3 itv008542 supergroup    928.8 K 2024-02-07 02:41 /user/itv008542/lendingclubproject/raw/cleaned/customers_parquet/part-00171-a921d32b-f4c3-459f-9dc5-37215d9667e5-c000.snappy.parquet\n-rw-r--r--   3 itv008542 supergroup    963.0 K 2024-02-07 02:41 /user/itv008542/lendingclubproject/raw/cleaned/customers_parquet/part-00172-a921d32b-f4c3-459f-9dc5-37215d9667e5-c000.snappy.parquet\n-rw-r--r--   3 itv008542 supergroup    947.7 K 2024-02-07 02:41 /user/itv008542/lendingclubproject/raw/cleaned/customers_parquet/part-00173-a921d32b-f4c3-459f-9dc5-37215d9667e5-c000.snappy.parquet\n-rw-r--r--   3 itv008542 supergroup    951.1 K 2024-02-07 02:41 /user/itv008542/lendingclubproject/raw/cleaned/customers_parquet/part-00174-a921d32b-f4c3-459f-9dc5-37215d9667e5-c000.snappy.parquet\n-rw-r--r--   3 itv008542 supergroup    955.3 K 2024-02-07 02:41 /user/itv008542/lendingclubproject/raw/cleaned/customers_parquet/part-00175-a921d32b-f4c3-459f-9dc5-37215d9667e5-c000.snappy.parquet\n-rw-r--r--   3 itv008542 supergroup    951.2 K 2024-02-07 02:41 /user/itv008542/lendingclubproject/raw/cleaned/customers_parquet/part-00176-a921d32b-f4c3-459f-9dc5-37215d9667e5-c000.snappy.parquet\n-rw-r--r--   3 itv008542 supergroup    949.0 K 2024-02-07 02:41 /user/itv008542/lendingclubproject/raw/cleaned/customers_parquet/part-00177-a921d32b-f4c3-459f-9dc5-37215d9667e5-c000.snappy.parquet\n-rw-r--r--   3 itv008542 supergroup    951.6 K 2024-02-07 02:41 /user/itv008542/lendingclubproject/raw/cleaned/customers_parquet/part-00178-a921d32b-f4c3-459f-9dc5-37215d9667e5-c000.snappy.parquet\n-rw-r--r--   3 itv008542 supergroup    943.8 K 2024-02-07 02:41 /user/itv008542/lendingclubproject/raw/cleaned/customers_parquet/part-00179-a921d32b-f4c3-459f-9dc5-37215d9667e5-c000.snappy.parquet\n-rw-r--r--   3 itv008542 supergroup    957.3 K 2024-02-07 02:41 /user/itv008542/lendingclubproject/raw/cleaned/customers_parquet/part-00180-a921d32b-f4c3-459f-9dc5-37215d9667e5-c000.snappy.parquet\n-rw-r--r--   3 itv008542 supergroup    957.3 K 2024-02-07 02:41 /user/itv008542/lendingclubproject/raw/cleaned/customers_parquet/part-00181-a921d32b-f4c3-459f-9dc5-37215d9667e5-c000.snappy.parquet\n-rw-r--r--   3 itv008542 supergroup    950.9 K 2024-02-07 02:41 /user/itv008542/lendingclubproject/raw/cleaned/customers_parquet/part-00182-a921d32b-f4c3-459f-9dc5-37215d9667e5-c000.snappy.parquet\n-rw-r--r--   3 itv008542 supergroup    927.2 K 2024-02-07 02:41 /user/itv008542/lendingclubproject/raw/cleaned/customers_parquet/part-00183-a921d32b-f4c3-459f-9dc5-37215d9667e5-c000.snappy.parquet\n-rw-r--r--   3 itv008542 supergroup    929.0 K 2024-02-07 02:41 /user/itv008542/lendingclubproject/raw/cleaned/customers_parquet/part-00184-a921d32b-f4c3-459f-9dc5-37215d9667e5-c000.snappy.parquet\n-rw-r--r--   3 itv008542 supergroup    942.0 K 2024-02-07 02:41 /user/itv008542/lendingclubproject/raw/cleaned/customers_parquet/part-00185-a921d32b-f4c3-459f-9dc5-37215d9667e5-c000.snappy.parquet\n-rw-r--r--   3 itv008542 supergroup    942.7 K 2024-02-07 02:41 /user/itv008542/lendingclubproject/raw/cleaned/customers_parquet/part-00186-a921d32b-f4c3-459f-9dc5-37215d9667e5-c000.snappy.parquet\n-rw-r--r--   3 itv008542 supergroup    951.1 K 2024-02-07 02:41 /user/itv008542/lendingclubproject/raw/cleaned/customers_parquet/part-00187-a921d32b-f4c3-459f-9dc5-37215d9667e5-c000.snappy.parquet\n-rw-r--r--   3 itv008542 supergroup    957.2 K 2024-02-07 02:41 /user/itv008542/lendingclubproject/raw/cleaned/customers_parquet/part-00188-a921d32b-f4c3-459f-9dc5-37215d9667e5-c000.snappy.parquet\n-rw-r--r--   3 itv008542 supergroup    941.0 K 2024-02-07 02:41 /user/itv008542/lendingclubproject/raw/cleaned/customers_parquet/part-00189-a921d32b-f4c3-459f-9dc5-37215d9667e5-c000.snappy.parquet\n-rw-r--r--   3 itv008542 supergroup    943.8 K 2024-02-07 02:41 /user/itv008542/lendingclubproject/raw/cleaned/customers_parquet/part-00190-a921d32b-f4c3-459f-9dc5-37215d9667e5-c000.snappy.parquet\n-rw-r--r--   3 itv008542 supergroup    955.2 K 2024-02-07 02:41 /user/itv008542/lendingclubproject/raw/cleaned/customers_parquet/part-00191-a921d32b-f4c3-459f-9dc5-37215d9667e5-c000.snappy.parquet\n-rw-r--r--   3 itv008542 supergroup    939.3 K 2024-02-07 02:41 /user/itv008542/lendingclubproject/raw/cleaned/customers_parquet/part-00192-a921d32b-f4c3-459f-9dc5-37215d9667e5-c000.snappy.parquet\n-rw-r--r--   3 itv008542 supergroup    948.1 K 2024-02-07 02:41 /user/itv008542/lendingclubproject/raw/cleaned/customers_parquet/part-00193-a921d32b-f4c3-459f-9dc5-37215d9667e5-c000.snappy.parquet\n-rw-r--r--   3 itv008542 supergroup    949.6 K 2024-02-07 02:41 /user/itv008542/lendingclubproject/raw/cleaned/customers_parquet/part-00194-a921d32b-f4c3-459f-9dc5-37215d9667e5-c000.snappy.parquet\n-rw-r--r--   3 itv008542 supergroup    950.0 K 2024-02-07 02:41 /user/itv008542/lendingclubproject/raw/cleaned/customers_parquet/part-00195-a921d32b-f4c3-459f-9dc5-37215d9667e5-c000.snappy.parquet\n-rw-r--r--   3 itv008542 supergroup    925.4 K 2024-02-07 02:41 /user/itv008542/lendingclubproject/raw/cleaned/customers_parquet/part-00196-a921d32b-f4c3-459f-9dc5-37215d9667e5-c000.snappy.parquet\n-rw-r--r--   3 itv008542 supergroup    954.0 K 2024-02-07 02:41 /user/itv008542/lendingclubproject/raw/cleaned/customers_parquet/part-00197-a921d32b-f4c3-459f-9dc5-37215d9667e5-c000.snappy.parquet\n-rw-r--r--   3 itv008542 supergroup    946.2 K 2024-02-07 02:41 /user/itv008542/lendingclubproject/raw/cleaned/customers_parquet/part-00198-a921d32b-f4c3-459f-9dc5-37215d9667e5-c000.snappy.parquet\n-rw-r--r--   3 itv008542 supergroup    961.7 K 2024-02-07 02:41 /user/itv008542/lendingclubproject/raw/cleaned/customers_parquet/part-00199-a921d32b-f4c3-459f-9dc5-37215d9667e5-c000.snappy.parquet\n"
     ]
    }
   ],
   "source": [
    "! hadoop fs -ls -h /user/itv008542/lendingclubproject/raw/cleaned/customers_parquet"
   ]
  },
  {
   "cell_type": "code",
   "execution_count": 0,
   "metadata": {
    "application/vnd.databricks.v1+cell": {
     "cellMetadata": {},
     "inputWidgets": {},
     "nuid": "d78ffca8-4815-4cb5-9ad7-8c36cfdda4aa",
     "showTitle": false,
     "title": ""
    }
   },
   "outputs": [
    {
     "output_type": "stream",
     "name": "stdout",
     "output_type": "stream",
     "text": [
      "Found 1 items\ndrwxr-xr-x   - itv008542 supergroup          0 2024-02-07 02:41 /user/itv008542/lendingclubproject/raw/cleaned/customers_parquet\n"
     ]
    }
   ],
   "source": [
    "! hadoop fs -ls /user/itv008542/lendingclubproject/raw/cleaned"
   ]
  },
  {
   "cell_type": "code",
   "execution_count": 0,
   "metadata": {
    "application/vnd.databricks.v1+cell": {
     "cellMetadata": {},
     "inputWidgets": {},
     "nuid": "200b8293-f1ce-4c41-8eb9-6ccb3bbdee59",
     "showTitle": false,
     "title": ""
    }
   },
   "outputs": [],
   "source": [
    "# Saving in csv format\n",
    "customers_state_cleaned.write \\\n",
    ".option(\"header\",True) \\\n",
    ".format(\"csv\") \\\n",
    ".mode(\"overwrite\") \\\n",
    ".option(\"path\",\"/user/itv008542/lendingclubproject/raw/cleaned/customers_csv\") \\\n",
    ".save()"
   ]
  },
  {
   "cell_type": "code",
   "execution_count": 0,
   "metadata": {
    "application/vnd.databricks.v1+cell": {
     "cellMetadata": {},
     "inputWidgets": {},
     "nuid": "5505f036-bdbf-4b9b-9a5b-46b3a51bd7c9",
     "showTitle": false,
     "title": ""
    }
   },
   "outputs": [
    {
     "output_type": "stream",
     "name": "stdout",
     "output_type": "stream",
     "text": [
      "Found 2 items\ndrwxr-xr-x   - itv008542 supergroup          0 2024-02-07 03:04 /user/itv008542/lendingclubproject/raw/cleaned/customers_csv\ndrwxr-xr-x   - itv008542 supergroup          0 2024-02-07 02:41 /user/itv008542/lendingclubproject/raw/cleaned/customers_parquet\n"
     ]
    }
   ],
   "source": [
    "! hadoop fs -ls /user/itv008542/lendingclubproject/raw/cleaned"
   ]
  },
  {
   "cell_type": "code",
   "execution_count": 0,
   "metadata": {
    "application/vnd.databricks.v1+cell": {
     "cellMetadata": {},
     "inputWidgets": {},
     "nuid": "ae1dcc5c-4f5b-47ca-888d-c2635bd28101",
     "showTitle": false,
     "title": ""
    }
   },
   "outputs": [
    {
     "output_type": "stream",
     "name": "stdout",
     "output_type": "stream",
     "text": [
      "Found 201 items\n-rw-r--r--   3 itv008542 supergroup          0 2024-02-07 03:04 /user/itv008542/lendingclubproject/raw/cleaned/customers_csv/_SUCCESS\n-rw-r--r--   3 itv008542 supergroup      2.0 M 2024-02-07 03:04 /user/itv008542/lendingclubproject/raw/cleaned/customers_csv/part-00000-078320a3-dd0b-4258-ab9b-55ee8f70c615-c000.csv\n-rw-r--r--   3 itv008542 supergroup      2.0 M 2024-02-07 03:04 /user/itv008542/lendingclubproject/raw/cleaned/customers_csv/part-00001-078320a3-dd0b-4258-ab9b-55ee8f70c615-c000.csv\n-rw-r--r--   3 itv008542 supergroup      2.0 M 2024-02-07 03:04 /user/itv008542/lendingclubproject/raw/cleaned/customers_csv/part-00002-078320a3-dd0b-4258-ab9b-55ee8f70c615-c000.csv\n-rw-r--r--   3 itv008542 supergroup      2.0 M 2024-02-07 03:04 /user/itv008542/lendingclubproject/raw/cleaned/customers_csv/part-00003-078320a3-dd0b-4258-ab9b-55ee8f70c615-c000.csv\n-rw-r--r--   3 itv008542 supergroup      2.0 M 2024-02-07 03:04 /user/itv008542/lendingclubproject/raw/cleaned/customers_csv/part-00004-078320a3-dd0b-4258-ab9b-55ee8f70c615-c000.csv\n-rw-r--r--   3 itv008542 supergroup      2.0 M 2024-02-07 03:04 /user/itv008542/lendingclubproject/raw/cleaned/customers_csv/part-00005-078320a3-dd0b-4258-ab9b-55ee8f70c615-c000.csv\n-rw-r--r--   3 itv008542 supergroup      2.0 M 2024-02-07 03:04 /user/itv008542/lendingclubproject/raw/cleaned/customers_csv/part-00006-078320a3-dd0b-4258-ab9b-55ee8f70c615-c000.csv\n-rw-r--r--   3 itv008542 supergroup      2.0 M 2024-02-07 03:04 /user/itv008542/lendingclubproject/raw/cleaned/customers_csv/part-00007-078320a3-dd0b-4258-ab9b-55ee8f70c615-c000.csv\n-rw-r--r--   3 itv008542 supergroup      2.0 M 2024-02-07 03:04 /user/itv008542/lendingclubproject/raw/cleaned/customers_csv/part-00008-078320a3-dd0b-4258-ab9b-55ee8f70c615-c000.csv\n-rw-r--r--   3 itv008542 supergroup      2.0 M 2024-02-07 03:04 /user/itv008542/lendingclubproject/raw/cleaned/customers_csv/part-00009-078320a3-dd0b-4258-ab9b-55ee8f70c615-c000.csv\n-rw-r--r--   3 itv008542 supergroup      2.0 M 2024-02-07 03:04 /user/itv008542/lendingclubproject/raw/cleaned/customers_csv/part-00010-078320a3-dd0b-4258-ab9b-55ee8f70c615-c000.csv\n-rw-r--r--   3 itv008542 supergroup      2.0 M 2024-02-07 03:04 /user/itv008542/lendingclubproject/raw/cleaned/customers_csv/part-00011-078320a3-dd0b-4258-ab9b-55ee8f70c615-c000.csv\n-rw-r--r--   3 itv008542 supergroup      2.0 M 2024-02-07 03:04 /user/itv008542/lendingclubproject/raw/cleaned/customers_csv/part-00012-078320a3-dd0b-4258-ab9b-55ee8f70c615-c000.csv\n-rw-r--r--   3 itv008542 supergroup      2.0 M 2024-02-07 03:04 /user/itv008542/lendingclubproject/raw/cleaned/customers_csv/part-00013-078320a3-dd0b-4258-ab9b-55ee8f70c615-c000.csv\n-rw-r--r--   3 itv008542 supergroup      2.0 M 2024-02-07 03:04 /user/itv008542/lendingclubproject/raw/cleaned/customers_csv/part-00014-078320a3-dd0b-4258-ab9b-55ee8f70c615-c000.csv\n-rw-r--r--   3 itv008542 supergroup      2.0 M 2024-02-07 03:04 /user/itv008542/lendingclubproject/raw/cleaned/customers_csv/part-00015-078320a3-dd0b-4258-ab9b-55ee8f70c615-c000.csv\n-rw-r--r--   3 itv008542 supergroup      2.0 M 2024-02-07 03:04 /user/itv008542/lendingclubproject/raw/cleaned/customers_csv/part-00016-078320a3-dd0b-4258-ab9b-55ee8f70c615-c000.csv\n-rw-r--r--   3 itv008542 supergroup      2.0 M 2024-02-07 03:04 /user/itv008542/lendingclubproject/raw/cleaned/customers_csv/part-00017-078320a3-dd0b-4258-ab9b-55ee8f70c615-c000.csv\n-rw-r--r--   3 itv008542 supergroup      2.0 M 2024-02-07 03:04 /user/itv008542/lendingclubproject/raw/cleaned/customers_csv/part-00018-078320a3-dd0b-4258-ab9b-55ee8f70c615-c000.csv\n-rw-r--r--   3 itv008542 supergroup      2.0 M 2024-02-07 03:04 /user/itv008542/lendingclubproject/raw/cleaned/customers_csv/part-00019-078320a3-dd0b-4258-ab9b-55ee8f70c615-c000.csv\n-rw-r--r--   3 itv008542 supergroup      2.0 M 2024-02-07 03:04 /user/itv008542/lendingclubproject/raw/cleaned/customers_csv/part-00020-078320a3-dd0b-4258-ab9b-55ee8f70c615-c000.csv\n-rw-r--r--   3 itv008542 supergroup      2.0 M 2024-02-07 03:04 /user/itv008542/lendingclubproject/raw/cleaned/customers_csv/part-00021-078320a3-dd0b-4258-ab9b-55ee8f70c615-c000.csv\n-rw-r--r--   3 itv008542 supergroup      2.0 M 2024-02-07 03:04 /user/itv008542/lendingclubproject/raw/cleaned/customers_csv/part-00022-078320a3-dd0b-4258-ab9b-55ee8f70c615-c000.csv\n-rw-r--r--   3 itv008542 supergroup      2.0 M 2024-02-07 03:04 /user/itv008542/lendingclubproject/raw/cleaned/customers_csv/part-00023-078320a3-dd0b-4258-ab9b-55ee8f70c615-c000.csv\n-rw-r--r--   3 itv008542 supergroup      2.0 M 2024-02-07 03:04 /user/itv008542/lendingclubproject/raw/cleaned/customers_csv/part-00024-078320a3-dd0b-4258-ab9b-55ee8f70c615-c000.csv\n-rw-r--r--   3 itv008542 supergroup      2.0 M 2024-02-07 03:04 /user/itv008542/lendingclubproject/raw/cleaned/customers_csv/part-00025-078320a3-dd0b-4258-ab9b-55ee8f70c615-c000.csv\n-rw-r--r--   3 itv008542 supergroup      2.0 M 2024-02-07 03:04 /user/itv008542/lendingclubproject/raw/cleaned/customers_csv/part-00026-078320a3-dd0b-4258-ab9b-55ee8f70c615-c000.csv\n-rw-r--r--   3 itv008542 supergroup      2.0 M 2024-02-07 03:04 /user/itv008542/lendingclubproject/raw/cleaned/customers_csv/part-00027-078320a3-dd0b-4258-ab9b-55ee8f70c615-c000.csv\n-rw-r--r--   3 itv008542 supergroup      2.0 M 2024-02-07 03:04 /user/itv008542/lendingclubproject/raw/cleaned/customers_csv/part-00028-078320a3-dd0b-4258-ab9b-55ee8f70c615-c000.csv\n-rw-r--r--   3 itv008542 supergroup      2.0 M 2024-02-07 03:04 /user/itv008542/lendingclubproject/raw/cleaned/customers_csv/part-00029-078320a3-dd0b-4258-ab9b-55ee8f70c615-c000.csv\n-rw-r--r--   3 itv008542 supergroup      2.0 M 2024-02-07 03:04 /user/itv008542/lendingclubproject/raw/cleaned/customers_csv/part-00030-078320a3-dd0b-4258-ab9b-55ee8f70c615-c000.csv\n-rw-r--r--   3 itv008542 supergroup      2.0 M 2024-02-07 03:04 /user/itv008542/lendingclubproject/raw/cleaned/customers_csv/part-00031-078320a3-dd0b-4258-ab9b-55ee8f70c615-c000.csv\n-rw-r--r--   3 itv008542 supergroup      2.0 M 2024-02-07 03:04 /user/itv008542/lendingclubproject/raw/cleaned/customers_csv/part-00032-078320a3-dd0b-4258-ab9b-55ee8f70c615-c000.csv\n-rw-r--r--   3 itv008542 supergroup      2.0 M 2024-02-07 03:04 /user/itv008542/lendingclubproject/raw/cleaned/customers_csv/part-00033-078320a3-dd0b-4258-ab9b-55ee8f70c615-c000.csv\n-rw-r--r--   3 itv008542 supergroup      2.0 M 2024-02-07 03:04 /user/itv008542/lendingclubproject/raw/cleaned/customers_csv/part-00034-078320a3-dd0b-4258-ab9b-55ee8f70c615-c000.csv\n-rw-r--r--   3 itv008542 supergroup      2.0 M 2024-02-07 03:04 /user/itv008542/lendingclubproject/raw/cleaned/customers_csv/part-00035-078320a3-dd0b-4258-ab9b-55ee8f70c615-c000.csv\n-rw-r--r--   3 itv008542 supergroup      2.0 M 2024-02-07 03:04 /user/itv008542/lendingclubproject/raw/cleaned/customers_csv/part-00036-078320a3-dd0b-4258-ab9b-55ee8f70c615-c000.csv\n-rw-r--r--   3 itv008542 supergroup      2.0 M 2024-02-07 03:04 /user/itv008542/lendingclubproject/raw/cleaned/customers_csv/part-00037-078320a3-dd0b-4258-ab9b-55ee8f70c615-c000.csv\n-rw-r--r--   3 itv008542 supergroup      2.0 M 2024-02-07 03:04 /user/itv008542/lendingclubproject/raw/cleaned/customers_csv/part-00038-078320a3-dd0b-4258-ab9b-55ee8f70c615-c000.csv\n-rw-r--r--   3 itv008542 supergroup      2.0 M 2024-02-07 03:04 /user/itv008542/lendingclubproject/raw/cleaned/customers_csv/part-00039-078320a3-dd0b-4258-ab9b-55ee8f70c615-c000.csv\n-rw-r--r--   3 itv008542 supergroup      2.0 M 2024-02-07 03:04 /user/itv008542/lendingclubproject/raw/cleaned/customers_csv/part-00040-078320a3-dd0b-4258-ab9b-55ee8f70c615-c000.csv\n-rw-r--r--   3 itv008542 supergroup      2.0 M 2024-02-07 03:04 /user/itv008542/lendingclubproject/raw/cleaned/customers_csv/part-00041-078320a3-dd0b-4258-ab9b-55ee8f70c615-c000.csv\n-rw-r--r--   3 itv008542 supergroup      2.0 M 2024-02-07 03:04 /user/itv008542/lendingclubproject/raw/cleaned/customers_csv/part-00042-078320a3-dd0b-4258-ab9b-55ee8f70c615-c000.csv\n-rw-r--r--   3 itv008542 supergroup      2.0 M 2024-02-07 03:04 /user/itv008542/lendingclubproject/raw/cleaned/customers_csv/part-00043-078320a3-dd0b-4258-ab9b-55ee8f70c615-c000.csv\n-rw-r--r--   3 itv008542 supergroup      2.0 M 2024-02-07 03:04 /user/itv008542/lendingclubproject/raw/cleaned/customers_csv/part-00044-078320a3-dd0b-4258-ab9b-55ee8f70c615-c000.csv\n-rw-r--r--   3 itv008542 supergroup      2.0 M 2024-02-07 03:04 /user/itv008542/lendingclubproject/raw/cleaned/customers_csv/part-00045-078320a3-dd0b-4258-ab9b-55ee8f70c615-c000.csv\n-rw-r--r--   3 itv008542 supergroup      2.0 M 2024-02-07 03:04 /user/itv008542/lendingclubproject/raw/cleaned/customers_csv/part-00046-078320a3-dd0b-4258-ab9b-55ee8f70c615-c000.csv\n-rw-r--r--   3 itv008542 supergroup      2.0 M 2024-02-07 03:04 /user/itv008542/lendingclubproject/raw/cleaned/customers_csv/part-00047-078320a3-dd0b-4258-ab9b-55ee8f70c615-c000.csv\n-rw-r--r--   3 itv008542 supergroup      2.0 M 2024-02-07 03:04 /user/itv008542/lendingclubproject/raw/cleaned/customers_csv/part-00048-078320a3-dd0b-4258-ab9b-55ee8f70c615-c000.csv\n-rw-r--r--   3 itv008542 supergroup      2.0 M 2024-02-07 03:04 /user/itv008542/lendingclubproject/raw/cleaned/customers_csv/part-00049-078320a3-dd0b-4258-ab9b-55ee8f70c615-c000.csv\n-rw-r--r--   3 itv008542 supergroup      2.0 M 2024-02-07 03:04 /user/itv008542/lendingclubproject/raw/cleaned/customers_csv/part-00050-078320a3-dd0b-4258-ab9b-55ee8f70c615-c000.csv\n-rw-r--r--   3 itv008542 supergroup      2.0 M 2024-02-07 03:04 /user/itv008542/lendingclubproject/raw/cleaned/customers_csv/part-00051-078320a3-dd0b-4258-ab9b-55ee8f70c615-c000.csv\n-rw-r--r--   3 itv008542 supergroup      2.0 M 2024-02-07 03:04 /user/itv008542/lendingclubproject/raw/cleaned/customers_csv/part-00052-078320a3-dd0b-4258-ab9b-55ee8f70c615-c000.csv\n-rw-r--r--   3 itv008542 supergroup      2.0 M 2024-02-07 03:04 /user/itv008542/lendingclubproject/raw/cleaned/customers_csv/part-00053-078320a3-dd0b-4258-ab9b-55ee8f70c615-c000.csv\n-rw-r--r--   3 itv008542 supergroup      2.0 M 2024-02-07 03:04 /user/itv008542/lendingclubproject/raw/cleaned/customers_csv/part-00054-078320a3-dd0b-4258-ab9b-55ee8f70c615-c000.csv\n-rw-r--r--   3 itv008542 supergroup      2.0 M 2024-02-07 03:04 /user/itv008542/lendingclubproject/raw/cleaned/customers_csv/part-00055-078320a3-dd0b-4258-ab9b-55ee8f70c615-c000.csv\n-rw-r--r--   3 itv008542 supergroup      2.0 M 2024-02-07 03:04 /user/itv008542/lendingclubproject/raw/cleaned/customers_csv/part-00056-078320a3-dd0b-4258-ab9b-55ee8f70c615-c000.csv\n-rw-r--r--   3 itv008542 supergroup      2.0 M 2024-02-07 03:04 /user/itv008542/lendingclubproject/raw/cleaned/customers_csv/part-00057-078320a3-dd0b-4258-ab9b-55ee8f70c615-c000.csv\n-rw-r--r--   3 itv008542 supergroup      2.0 M 2024-02-07 03:04 /user/itv008542/lendingclubproject/raw/cleaned/customers_csv/part-00058-078320a3-dd0b-4258-ab9b-55ee8f70c615-c000.csv\n-rw-r--r--   3 itv008542 supergroup      2.0 M 2024-02-07 03:04 /user/itv008542/lendingclubproject/raw/cleaned/customers_csv/part-00059-078320a3-dd0b-4258-ab9b-55ee8f70c615-c000.csv\n-rw-r--r--   3 itv008542 supergroup      2.0 M 2024-02-07 03:04 /user/itv008542/lendingclubproject/raw/cleaned/customers_csv/part-00060-078320a3-dd0b-4258-ab9b-55ee8f70c615-c000.csv\n-rw-r--r--   3 itv008542 supergroup      2.0 M 2024-02-07 03:04 /user/itv008542/lendingclubproject/raw/cleaned/customers_csv/part-00061-078320a3-dd0b-4258-ab9b-55ee8f70c615-c000.csv\n-rw-r--r--   3 itv008542 supergroup      2.0 M 2024-02-07 03:04 /user/itv008542/lendingclubproject/raw/cleaned/customers_csv/part-00062-078320a3-dd0b-4258-ab9b-55ee8f70c615-c000.csv\n-rw-r--r--   3 itv008542 supergroup      2.0 M 2024-02-07 03:04 /user/itv008542/lendingclubproject/raw/cleaned/customers_csv/part-00063-078320a3-dd0b-4258-ab9b-55ee8f70c615-c000.csv\n-rw-r--r--   3 itv008542 supergroup      2.0 M 2024-02-07 03:04 /user/itv008542/lendingclubproject/raw/cleaned/customers_csv/part-00064-078320a3-dd0b-4258-ab9b-55ee8f70c615-c000.csv\n-rw-r--r--   3 itv008542 supergroup      2.0 M 2024-02-07 03:04 /user/itv008542/lendingclubproject/raw/cleaned/customers_csv/part-00065-078320a3-dd0b-4258-ab9b-55ee8f70c615-c000.csv\n-rw-r--r--   3 itv008542 supergroup      2.0 M 2024-02-07 03:04 /user/itv008542/lendingclubproject/raw/cleaned/customers_csv/part-00066-078320a3-dd0b-4258-ab9b-55ee8f70c615-c000.csv\n-rw-r--r--   3 itv008542 supergroup      2.0 M 2024-02-07 03:04 /user/itv008542/lendingclubproject/raw/cleaned/customers_csv/part-00067-078320a3-dd0b-4258-ab9b-55ee8f70c615-c000.csv\n-rw-r--r--   3 itv008542 supergroup      2.0 M 2024-02-07 03:04 /user/itv008542/lendingclubproject/raw/cleaned/customers_csv/part-00068-078320a3-dd0b-4258-ab9b-55ee8f70c615-c000.csv\n-rw-r--r--   3 itv008542 supergroup      2.0 M 2024-02-07 03:04 /user/itv008542/lendingclubproject/raw/cleaned/customers_csv/part-00069-078320a3-dd0b-4258-ab9b-55ee8f70c615-c000.csv\n-rw-r--r--   3 itv008542 supergroup      2.0 M 2024-02-07 03:04 /user/itv008542/lendingclubproject/raw/cleaned/customers_csv/part-00070-078320a3-dd0b-4258-ab9b-55ee8f70c615-c000.csv\n-rw-r--r--   3 itv008542 supergroup      2.0 M 2024-02-07 03:04 /user/itv008542/lendingclubproject/raw/cleaned/customers_csv/part-00071-078320a3-dd0b-4258-ab9b-55ee8f70c615-c000.csv\n-rw-r--r--   3 itv008542 supergroup      2.0 M 2024-02-07 03:04 /user/itv008542/lendingclubproject/raw/cleaned/customers_csv/part-00072-078320a3-dd0b-4258-ab9b-55ee8f70c615-c000.csv\n-rw-r--r--   3 itv008542 supergroup      2.0 M 2024-02-07 03:04 /user/itv008542/lendingclubproject/raw/cleaned/customers_csv/part-00073-078320a3-dd0b-4258-ab9b-55ee8f70c615-c000.csv\n-rw-r--r--   3 itv008542 supergroup      2.0 M 2024-02-07 03:04 /user/itv008542/lendingclubproject/raw/cleaned/customers_csv/part-00074-078320a3-dd0b-4258-ab9b-55ee8f70c615-c000.csv\n-rw-r--r--   3 itv008542 supergroup      2.0 M 2024-02-07 03:04 /user/itv008542/lendingclubproject/raw/cleaned/customers_csv/part-00075-078320a3-dd0b-4258-ab9b-55ee8f70c615-c000.csv\n-rw-r--r--   3 itv008542 supergroup      2.0 M 2024-02-07 03:04 /user/itv008542/lendingclubproject/raw/cleaned/customers_csv/part-00076-078320a3-dd0b-4258-ab9b-55ee8f70c615-c000.csv\n-rw-r--r--   3 itv008542 supergroup      2.0 M 2024-02-07 03:04 /user/itv008542/lendingclubproject/raw/cleaned/customers_csv/part-00077-078320a3-dd0b-4258-ab9b-55ee8f70c615-c000.csv\n-rw-r--r--   3 itv008542 supergroup      2.0 M 2024-02-07 03:04 /user/itv008542/lendingclubproject/raw/cleaned/customers_csv/part-00078-078320a3-dd0b-4258-ab9b-55ee8f70c615-c000.csv\n-rw-r--r--   3 itv008542 supergroup      2.0 M 2024-02-07 03:04 /user/itv008542/lendingclubproject/raw/cleaned/customers_csv/part-00079-078320a3-dd0b-4258-ab9b-55ee8f70c615-c000.csv\n-rw-r--r--   3 itv008542 supergroup      2.0 M 2024-02-07 03:04 /user/itv008542/lendingclubproject/raw/cleaned/customers_csv/part-00080-078320a3-dd0b-4258-ab9b-55ee8f70c615-c000.csv\n-rw-r--r--   3 itv008542 supergroup      2.0 M 2024-02-07 03:04 /user/itv008542/lendingclubproject/raw/cleaned/customers_csv/part-00081-078320a3-dd0b-4258-ab9b-55ee8f70c615-c000.csv\n-rw-r--r--   3 itv008542 supergroup      2.0 M 2024-02-07 03:04 /user/itv008542/lendingclubproject/raw/cleaned/customers_csv/part-00082-078320a3-dd0b-4258-ab9b-55ee8f70c615-c000.csv\n-rw-r--r--   3 itv008542 supergroup      2.0 M 2024-02-07 03:04 /user/itv008542/lendingclubproject/raw/cleaned/customers_csv/part-00083-078320a3-dd0b-4258-ab9b-55ee8f70c615-c000.csv\n-rw-r--r--   3 itv008542 supergroup      2.0 M 2024-02-07 03:04 /user/itv008542/lendingclubproject/raw/cleaned/customers_csv/part-00084-078320a3-dd0b-4258-ab9b-55ee8f70c615-c000.csv\n-rw-r--r--   3 itv008542 supergroup      2.0 M 2024-02-07 03:04 /user/itv008542/lendingclubproject/raw/cleaned/customers_csv/part-00085-078320a3-dd0b-4258-ab9b-55ee8f70c615-c000.csv\n-rw-r--r--   3 itv008542 supergroup      2.0 M 2024-02-07 03:04 /user/itv008542/lendingclubproject/raw/cleaned/customers_csv/part-00086-078320a3-dd0b-4258-ab9b-55ee8f70c615-c000.csv\n-rw-r--r--   3 itv008542 supergroup      2.0 M 2024-02-07 03:04 /user/itv008542/lendingclubproject/raw/cleaned/customers_csv/part-00087-078320a3-dd0b-4258-ab9b-55ee8f70c615-c000.csv\n-rw-r--r--   3 itv008542 supergroup      2.0 M 2024-02-07 03:04 /user/itv008542/lendingclubproject/raw/cleaned/customers_csv/part-00088-078320a3-dd0b-4258-ab9b-55ee8f70c615-c000.csv\n-rw-r--r--   3 itv008542 supergroup      2.0 M 2024-02-07 03:04 /user/itv008542/lendingclubproject/raw/cleaned/customers_csv/part-00089-078320a3-dd0b-4258-ab9b-55ee8f70c615-c000.csv\n-rw-r--r--   3 itv008542 supergroup      2.0 M 2024-02-07 03:04 /user/itv008542/lendingclubproject/raw/cleaned/customers_csv/part-00090-078320a3-dd0b-4258-ab9b-55ee8f70c615-c000.csv\n-rw-r--r--   3 itv008542 supergroup      2.0 M 2024-02-07 03:04 /user/itv008542/lendingclubproject/raw/cleaned/customers_csv/part-00091-078320a3-dd0b-4258-ab9b-55ee8f70c615-c000.csv\n-rw-r--r--   3 itv008542 supergroup      2.0 M 2024-02-07 03:04 /user/itv008542/lendingclubproject/raw/cleaned/customers_csv/part-00092-078320a3-dd0b-4258-ab9b-55ee8f70c615-c000.csv\n-rw-r--r--   3 itv008542 supergroup      2.0 M 2024-02-07 03:04 /user/itv008542/lendingclubproject/raw/cleaned/customers_csv/part-00093-078320a3-dd0b-4258-ab9b-55ee8f70c615-c000.csv\n-rw-r--r--   3 itv008542 supergroup      2.0 M 2024-02-07 03:04 /user/itv008542/lendingclubproject/raw/cleaned/customers_csv/part-00094-078320a3-dd0b-4258-ab9b-55ee8f70c615-c000.csv\n-rw-r--r--   3 itv008542 supergroup      2.0 M 2024-02-07 03:04 /user/itv008542/lendingclubproject/raw/cleaned/customers_csv/part-00095-078320a3-dd0b-4258-ab9b-55ee8f70c615-c000.csv\n-rw-r--r--   3 itv008542 supergroup      2.0 M 2024-02-07 03:04 /user/itv008542/lendingclubproject/raw/cleaned/customers_csv/part-00096-078320a3-dd0b-4258-ab9b-55ee8f70c615-c000.csv\n-rw-r--r--   3 itv008542 supergroup      2.0 M 2024-02-07 03:04 /user/itv008542/lendingclubproject/raw/cleaned/customers_csv/part-00097-078320a3-dd0b-4258-ab9b-55ee8f70c615-c000.csv\n-rw-r--r--   3 itv008542 supergroup      2.0 M 2024-02-07 03:04 /user/itv008542/lendingclubproject/raw/cleaned/customers_csv/part-00098-078320a3-dd0b-4258-ab9b-55ee8f70c615-c000.csv\n-rw-r--r--   3 itv008542 supergroup      2.0 M 2024-02-07 03:04 /user/itv008542/lendingclubproject/raw/cleaned/customers_csv/part-00099-078320a3-dd0b-4258-ab9b-55ee8f70c615-c000.csv\n-rw-r--r--   3 itv008542 supergroup      2.0 M 2024-02-07 03:04 /user/itv008542/lendingclubproject/raw/cleaned/customers_csv/part-00100-078320a3-dd0b-4258-ab9b-55ee8f70c615-c000.csv\n-rw-r--r--   3 itv008542 supergroup      2.0 M 2024-02-07 03:04 /user/itv008542/lendingclubproject/raw/cleaned/customers_csv/part-00101-078320a3-dd0b-4258-ab9b-55ee8f70c615-c000.csv\n-rw-r--r--   3 itv008542 supergroup      2.0 M 2024-02-07 03:04 /user/itv008542/lendingclubproject/raw/cleaned/customers_csv/part-00102-078320a3-dd0b-4258-ab9b-55ee8f70c615-c000.csv\n-rw-r--r--   3 itv008542 supergroup      2.0 M 2024-02-07 03:04 /user/itv008542/lendingclubproject/raw/cleaned/customers_csv/part-00103-078320a3-dd0b-4258-ab9b-55ee8f70c615-c000.csv\n-rw-r--r--   3 itv008542 supergroup      2.0 M 2024-02-07 03:04 /user/itv008542/lendingclubproject/raw/cleaned/customers_csv/part-00104-078320a3-dd0b-4258-ab9b-55ee8f70c615-c000.csv\n-rw-r--r--   3 itv008542 supergroup      2.0 M 2024-02-07 03:04 /user/itv008542/lendingclubproject/raw/cleaned/customers_csv/part-00105-078320a3-dd0b-4258-ab9b-55ee8f70c615-c000.csv\n-rw-r--r--   3 itv008542 supergroup      2.0 M 2024-02-07 03:04 /user/itv008542/lendingclubproject/raw/cleaned/customers_csv/part-00106-078320a3-dd0b-4258-ab9b-55ee8f70c615-c000.csv\n-rw-r--r--   3 itv008542 supergroup      2.0 M 2024-02-07 03:04 /user/itv008542/lendingclubproject/raw/cleaned/customers_csv/part-00107-078320a3-dd0b-4258-ab9b-55ee8f70c615-c000.csv\n-rw-r--r--   3 itv008542 supergroup      2.0 M 2024-02-07 03:04 /user/itv008542/lendingclubproject/raw/cleaned/customers_csv/part-00108-078320a3-dd0b-4258-ab9b-55ee8f70c615-c000.csv\n-rw-r--r--   3 itv008542 supergroup      2.0 M 2024-02-07 03:04 /user/itv008542/lendingclubproject/raw/cleaned/customers_csv/part-00109-078320a3-dd0b-4258-ab9b-55ee8f70c615-c000.csv\n-rw-r--r--   3 itv008542 supergroup      2.0 M 2024-02-07 03:04 /user/itv008542/lendingclubproject/raw/cleaned/customers_csv/part-00110-078320a3-dd0b-4258-ab9b-55ee8f70c615-c000.csv\n-rw-r--r--   3 itv008542 supergroup      2.0 M 2024-02-07 03:04 /user/itv008542/lendingclubproject/raw/cleaned/customers_csv/part-00111-078320a3-dd0b-4258-ab9b-55ee8f70c615-c000.csv\n-rw-r--r--   3 itv008542 supergroup      2.0 M 2024-02-07 03:04 /user/itv008542/lendingclubproject/raw/cleaned/customers_csv/part-00112-078320a3-dd0b-4258-ab9b-55ee8f70c615-c000.csv\n-rw-r--r--   3 itv008542 supergroup      2.0 M 2024-02-07 03:04 /user/itv008542/lendingclubproject/raw/cleaned/customers_csv/part-00113-078320a3-dd0b-4258-ab9b-55ee8f70c615-c000.csv\n-rw-r--r--   3 itv008542 supergroup      2.0 M 2024-02-07 03:04 /user/itv008542/lendingclubproject/raw/cleaned/customers_csv/part-00114-078320a3-dd0b-4258-ab9b-55ee8f70c615-c000.csv\n-rw-r--r--   3 itv008542 supergroup      2.0 M 2024-02-07 03:04 /user/itv008542/lendingclubproject/raw/cleaned/customers_csv/part-00115-078320a3-dd0b-4258-ab9b-55ee8f70c615-c000.csv\n-rw-r--r--   3 itv008542 supergroup      2.0 M 2024-02-07 03:04 /user/itv008542/lendingclubproject/raw/cleaned/customers_csv/part-00116-078320a3-dd0b-4258-ab9b-55ee8f70c615-c000.csv\n-rw-r--r--   3 itv008542 supergroup      2.0 M 2024-02-07 03:04 /user/itv008542/lendingclubproject/raw/cleaned/customers_csv/part-00117-078320a3-dd0b-4258-ab9b-55ee8f70c615-c000.csv\n-rw-r--r--   3 itv008542 supergroup      2.0 M 2024-02-07 03:04 /user/itv008542/lendingclubproject/raw/cleaned/customers_csv/part-00118-078320a3-dd0b-4258-ab9b-55ee8f70c615-c000.csv\n-rw-r--r--   3 itv008542 supergroup      2.0 M 2024-02-07 03:04 /user/itv008542/lendingclubproject/raw/cleaned/customers_csv/part-00119-078320a3-dd0b-4258-ab9b-55ee8f70c615-c000.csv\n-rw-r--r--   3 itv008542 supergroup      2.0 M 2024-02-07 03:04 /user/itv008542/lendingclubproject/raw/cleaned/customers_csv/part-00120-078320a3-dd0b-4258-ab9b-55ee8f70c615-c000.csv\n-rw-r--r--   3 itv008542 supergroup      2.0 M 2024-02-07 03:04 /user/itv008542/lendingclubproject/raw/cleaned/customers_csv/part-00121-078320a3-dd0b-4258-ab9b-55ee8f70c615-c000.csv\n-rw-r--r--   3 itv008542 supergroup      2.0 M 2024-02-07 03:04 /user/itv008542/lendingclubproject/raw/cleaned/customers_csv/part-00122-078320a3-dd0b-4258-ab9b-55ee8f70c615-c000.csv\n-rw-r--r--   3 itv008542 supergroup      2.0 M 2024-02-07 03:04 /user/itv008542/lendingclubproject/raw/cleaned/customers_csv/part-00123-078320a3-dd0b-4258-ab9b-55ee8f70c615-c000.csv\n-rw-r--r--   3 itv008542 supergroup      2.0 M 2024-02-07 03:04 /user/itv008542/lendingclubproject/raw/cleaned/customers_csv/part-00124-078320a3-dd0b-4258-ab9b-55ee8f70c615-c000.csv\n-rw-r--r--   3 itv008542 supergroup      2.0 M 2024-02-07 03:04 /user/itv008542/lendingclubproject/raw/cleaned/customers_csv/part-00125-078320a3-dd0b-4258-ab9b-55ee8f70c615-c000.csv\n-rw-r--r--   3 itv008542 supergroup      2.0 M 2024-02-07 03:04 /user/itv008542/lendingclubproject/raw/cleaned/customers_csv/part-00126-078320a3-dd0b-4258-ab9b-55ee8f70c615-c000.csv\n-rw-r--r--   3 itv008542 supergroup      2.0 M 2024-02-07 03:04 /user/itv008542/lendingclubproject/raw/cleaned/customers_csv/part-00127-078320a3-dd0b-4258-ab9b-55ee8f70c615-c000.csv\n-rw-r--r--   3 itv008542 supergroup      2.0 M 2024-02-07 03:04 /user/itv008542/lendingclubproject/raw/cleaned/customers_csv/part-00128-078320a3-dd0b-4258-ab9b-55ee8f70c615-c000.csv\n-rw-r--r--   3 itv008542 supergroup      2.0 M 2024-02-07 03:04 /user/itv008542/lendingclubproject/raw/cleaned/customers_csv/part-00129-078320a3-dd0b-4258-ab9b-55ee8f70c615-c000.csv\n-rw-r--r--   3 itv008542 supergroup      2.0 M 2024-02-07 03:04 /user/itv008542/lendingclubproject/raw/cleaned/customers_csv/part-00130-078320a3-dd0b-4258-ab9b-55ee8f70c615-c000.csv\n-rw-r--r--   3 itv008542 supergroup      2.0 M 2024-02-07 03:04 /user/itv008542/lendingclubproject/raw/cleaned/customers_csv/part-00131-078320a3-dd0b-4258-ab9b-55ee8f70c615-c000.csv\n-rw-r--r--   3 itv008542 supergroup      2.0 M 2024-02-07 03:04 /user/itv008542/lendingclubproject/raw/cleaned/customers_csv/part-00132-078320a3-dd0b-4258-ab9b-55ee8f70c615-c000.csv\n-rw-r--r--   3 itv008542 supergroup      2.0 M 2024-02-07 03:04 /user/itv008542/lendingclubproject/raw/cleaned/customers_csv/part-00133-078320a3-dd0b-4258-ab9b-55ee8f70c615-c000.csv\n-rw-r--r--   3 itv008542 supergroup      2.0 M 2024-02-07 03:04 /user/itv008542/lendingclubproject/raw/cleaned/customers_csv/part-00134-078320a3-dd0b-4258-ab9b-55ee8f70c615-c000.csv\n-rw-r--r--   3 itv008542 supergroup      2.0 M 2024-02-07 03:04 /user/itv008542/lendingclubproject/raw/cleaned/customers_csv/part-00135-078320a3-dd0b-4258-ab9b-55ee8f70c615-c000.csv\n-rw-r--r--   3 itv008542 supergroup      2.0 M 2024-02-07 03:04 /user/itv008542/lendingclubproject/raw/cleaned/customers_csv/part-00136-078320a3-dd0b-4258-ab9b-55ee8f70c615-c000.csv\n-rw-r--r--   3 itv008542 supergroup      2.0 M 2024-02-07 03:04 /user/itv008542/lendingclubproject/raw/cleaned/customers_csv/part-00137-078320a3-dd0b-4258-ab9b-55ee8f70c615-c000.csv\n-rw-r--r--   3 itv008542 supergroup      2.0 M 2024-02-07 03:04 /user/itv008542/lendingclubproject/raw/cleaned/customers_csv/part-00138-078320a3-dd0b-4258-ab9b-55ee8f70c615-c000.csv\n-rw-r--r--   3 itv008542 supergroup      2.0 M 2024-02-07 03:04 /user/itv008542/lendingclubproject/raw/cleaned/customers_csv/part-00139-078320a3-dd0b-4258-ab9b-55ee8f70c615-c000.csv\n-rw-r--r--   3 itv008542 supergroup      2.0 M 2024-02-07 03:04 /user/itv008542/lendingclubproject/raw/cleaned/customers_csv/part-00140-078320a3-dd0b-4258-ab9b-55ee8f70c615-c000.csv\n-rw-r--r--   3 itv008542 supergroup      2.0 M 2024-02-07 03:04 /user/itv008542/lendingclubproject/raw/cleaned/customers_csv/part-00141-078320a3-dd0b-4258-ab9b-55ee8f70c615-c000.csv\n-rw-r--r--   3 itv008542 supergroup      2.0 M 2024-02-07 03:04 /user/itv008542/lendingclubproject/raw/cleaned/customers_csv/part-00142-078320a3-dd0b-4258-ab9b-55ee8f70c615-c000.csv\n-rw-r--r--   3 itv008542 supergroup      2.0 M 2024-02-07 03:04 /user/itv008542/lendingclubproject/raw/cleaned/customers_csv/part-00143-078320a3-dd0b-4258-ab9b-55ee8f70c615-c000.csv\n-rw-r--r--   3 itv008542 supergroup      2.0 M 2024-02-07 03:04 /user/itv008542/lendingclubproject/raw/cleaned/customers_csv/part-00144-078320a3-dd0b-4258-ab9b-55ee8f70c615-c000.csv\n-rw-r--r--   3 itv008542 supergroup      2.0 M 2024-02-07 03:04 /user/itv008542/lendingclubproject/raw/cleaned/customers_csv/part-00145-078320a3-dd0b-4258-ab9b-55ee8f70c615-c000.csv\n-rw-r--r--   3 itv008542 supergroup      2.0 M 2024-02-07 03:04 /user/itv008542/lendingclubproject/raw/cleaned/customers_csv/part-00146-078320a3-dd0b-4258-ab9b-55ee8f70c615-c000.csv\n-rw-r--r--   3 itv008542 supergroup      2.0 M 2024-02-07 03:04 /user/itv008542/lendingclubproject/raw/cleaned/customers_csv/part-00147-078320a3-dd0b-4258-ab9b-55ee8f70c615-c000.csv\n-rw-r--r--   3 itv008542 supergroup      2.0 M 2024-02-07 03:04 /user/itv008542/lendingclubproject/raw/cleaned/customers_csv/part-00148-078320a3-dd0b-4258-ab9b-55ee8f70c615-c000.csv\n-rw-r--r--   3 itv008542 supergroup      2.0 M 2024-02-07 03:04 /user/itv008542/lendingclubproject/raw/cleaned/customers_csv/part-00149-078320a3-dd0b-4258-ab9b-55ee8f70c615-c000.csv\n-rw-r--r--   3 itv008542 supergroup      2.0 M 2024-02-07 03:04 /user/itv008542/lendingclubproject/raw/cleaned/customers_csv/part-00150-078320a3-dd0b-4258-ab9b-55ee8f70c615-c000.csv\n-rw-r--r--   3 itv008542 supergroup      2.0 M 2024-02-07 03:04 /user/itv008542/lendingclubproject/raw/cleaned/customers_csv/part-00151-078320a3-dd0b-4258-ab9b-55ee8f70c615-c000.csv\n-rw-r--r--   3 itv008542 supergroup      2.0 M 2024-02-07 03:04 /user/itv008542/lendingclubproject/raw/cleaned/customers_csv/part-00152-078320a3-dd0b-4258-ab9b-55ee8f70c615-c000.csv\n-rw-r--r--   3 itv008542 supergroup      2.0 M 2024-02-07 03:04 /user/itv008542/lendingclubproject/raw/cleaned/customers_csv/part-00153-078320a3-dd0b-4258-ab9b-55ee8f70c615-c000.csv\n-rw-r--r--   3 itv008542 supergroup      2.0 M 2024-02-07 03:04 /user/itv008542/lendingclubproject/raw/cleaned/customers_csv/part-00154-078320a3-dd0b-4258-ab9b-55ee8f70c615-c000.csv\n-rw-r--r--   3 itv008542 supergroup      2.0 M 2024-02-07 03:04 /user/itv008542/lendingclubproject/raw/cleaned/customers_csv/part-00155-078320a3-dd0b-4258-ab9b-55ee8f70c615-c000.csv\n-rw-r--r--   3 itv008542 supergroup      2.0 M 2024-02-07 03:04 /user/itv008542/lendingclubproject/raw/cleaned/customers_csv/part-00156-078320a3-dd0b-4258-ab9b-55ee8f70c615-c000.csv\n-rw-r--r--   3 itv008542 supergroup      2.0 M 2024-02-07 03:04 /user/itv008542/lendingclubproject/raw/cleaned/customers_csv/part-00157-078320a3-dd0b-4258-ab9b-55ee8f70c615-c000.csv\n-rw-r--r--   3 itv008542 supergroup      2.0 M 2024-02-07 03:04 /user/itv008542/lendingclubproject/raw/cleaned/customers_csv/part-00158-078320a3-dd0b-4258-ab9b-55ee8f70c615-c000.csv\n-rw-r--r--   3 itv008542 supergroup      2.0 M 2024-02-07 03:04 /user/itv008542/lendingclubproject/raw/cleaned/customers_csv/part-00159-078320a3-dd0b-4258-ab9b-55ee8f70c615-c000.csv\n-rw-r--r--   3 itv008542 supergroup      2.0 M 2024-02-07 03:04 /user/itv008542/lendingclubproject/raw/cleaned/customers_csv/part-00160-078320a3-dd0b-4258-ab9b-55ee8f70c615-c000.csv\n-rw-r--r--   3 itv008542 supergroup      2.0 M 2024-02-07 03:04 /user/itv008542/lendingclubproject/raw/cleaned/customers_csv/part-00161-078320a3-dd0b-4258-ab9b-55ee8f70c615-c000.csv\n-rw-r--r--   3 itv008542 supergroup      2.0 M 2024-02-07 03:04 /user/itv008542/lendingclubproject/raw/cleaned/customers_csv/part-00162-078320a3-dd0b-4258-ab9b-55ee8f70c615-c000.csv\n-rw-r--r--   3 itv008542 supergroup      2.0 M 2024-02-07 03:04 /user/itv008542/lendingclubproject/raw/cleaned/customers_csv/part-00163-078320a3-dd0b-4258-ab9b-55ee8f70c615-c000.csv\n-rw-r--r--   3 itv008542 supergroup      2.0 M 2024-02-07 03:04 /user/itv008542/lendingclubproject/raw/cleaned/customers_csv/part-00164-078320a3-dd0b-4258-ab9b-55ee8f70c615-c000.csv\n-rw-r--r--   3 itv008542 supergroup      2.0 M 2024-02-07 03:04 /user/itv008542/lendingclubproject/raw/cleaned/customers_csv/part-00165-078320a3-dd0b-4258-ab9b-55ee8f70c615-c000.csv\n-rw-r--r--   3 itv008542 supergroup      2.0 M 2024-02-07 03:04 /user/itv008542/lendingclubproject/raw/cleaned/customers_csv/part-00166-078320a3-dd0b-4258-ab9b-55ee8f70c615-c000.csv\n-rw-r--r--   3 itv008542 supergroup      2.0 M 2024-02-07 03:04 /user/itv008542/lendingclubproject/raw/cleaned/customers_csv/part-00167-078320a3-dd0b-4258-ab9b-55ee8f70c615-c000.csv\n-rw-r--r--   3 itv008542 supergroup      2.0 M 2024-02-07 03:04 /user/itv008542/lendingclubproject/raw/cleaned/customers_csv/part-00168-078320a3-dd0b-4258-ab9b-55ee8f70c615-c000.csv\n-rw-r--r--   3 itv008542 supergroup      2.0 M 2024-02-07 03:04 /user/itv008542/lendingclubproject/raw/cleaned/customers_csv/part-00169-078320a3-dd0b-4258-ab9b-55ee8f70c615-c000.csv\n-rw-r--r--   3 itv008542 supergroup      2.0 M 2024-02-07 03:04 /user/itv008542/lendingclubproject/raw/cleaned/customers_csv/part-00170-078320a3-dd0b-4258-ab9b-55ee8f70c615-c000.csv\n-rw-r--r--   3 itv008542 supergroup      2.0 M 2024-02-07 03:04 /user/itv008542/lendingclubproject/raw/cleaned/customers_csv/part-00171-078320a3-dd0b-4258-ab9b-55ee8f70c615-c000.csv\n-rw-r--r--   3 itv008542 supergroup      2.0 M 2024-02-07 03:04 /user/itv008542/lendingclubproject/raw/cleaned/customers_csv/part-00172-078320a3-dd0b-4258-ab9b-55ee8f70c615-c000.csv\n-rw-r--r--   3 itv008542 supergroup      2.0 M 2024-02-07 03:04 /user/itv008542/lendingclubproject/raw/cleaned/customers_csv/part-00173-078320a3-dd0b-4258-ab9b-55ee8f70c615-c000.csv\n-rw-r--r--   3 itv008542 supergroup      2.0 M 2024-02-07 03:04 /user/itv008542/lendingclubproject/raw/cleaned/customers_csv/part-00174-078320a3-dd0b-4258-ab9b-55ee8f70c615-c000.csv\n-rw-r--r--   3 itv008542 supergroup      2.0 M 2024-02-07 03:04 /user/itv008542/lendingclubproject/raw/cleaned/customers_csv/part-00175-078320a3-dd0b-4258-ab9b-55ee8f70c615-c000.csv\n-rw-r--r--   3 itv008542 supergroup      2.0 M 2024-02-07 03:04 /user/itv008542/lendingclubproject/raw/cleaned/customers_csv/part-00176-078320a3-dd0b-4258-ab9b-55ee8f70c615-c000.csv\n-rw-r--r--   3 itv008542 supergroup      2.0 M 2024-02-07 03:04 /user/itv008542/lendingclubproject/raw/cleaned/customers_csv/part-00177-078320a3-dd0b-4258-ab9b-55ee8f70c615-c000.csv\n-rw-r--r--   3 itv008542 supergroup      2.0 M 2024-02-07 03:04 /user/itv008542/lendingclubproject/raw/cleaned/customers_csv/part-00178-078320a3-dd0b-4258-ab9b-55ee8f70c615-c000.csv\n-rw-r--r--   3 itv008542 supergroup      2.0 M 2024-02-07 03:04 /user/itv008542/lendingclubproject/raw/cleaned/customers_csv/part-00179-078320a3-dd0b-4258-ab9b-55ee8f70c615-c000.csv\n-rw-r--r--   3 itv008542 supergroup      2.0 M 2024-02-07 03:04 /user/itv008542/lendingclubproject/raw/cleaned/customers_csv/part-00180-078320a3-dd0b-4258-ab9b-55ee8f70c615-c000.csv\n-rw-r--r--   3 itv008542 supergroup      2.0 M 2024-02-07 03:04 /user/itv008542/lendingclubproject/raw/cleaned/customers_csv/part-00181-078320a3-dd0b-4258-ab9b-55ee8f70c615-c000.csv\n-rw-r--r--   3 itv008542 supergroup      2.0 M 2024-02-07 03:04 /user/itv008542/lendingclubproject/raw/cleaned/customers_csv/part-00182-078320a3-dd0b-4258-ab9b-55ee8f70c615-c000.csv\n-rw-r--r--   3 itv008542 supergroup      2.0 M 2024-02-07 03:04 /user/itv008542/lendingclubproject/raw/cleaned/customers_csv/part-00183-078320a3-dd0b-4258-ab9b-55ee8f70c615-c000.csv\n-rw-r--r--   3 itv008542 supergroup      2.0 M 2024-02-07 03:04 /user/itv008542/lendingclubproject/raw/cleaned/customers_csv/part-00184-078320a3-dd0b-4258-ab9b-55ee8f70c615-c000.csv\n-rw-r--r--   3 itv008542 supergroup      2.0 M 2024-02-07 03:04 /user/itv008542/lendingclubproject/raw/cleaned/customers_csv/part-00185-078320a3-dd0b-4258-ab9b-55ee8f70c615-c000.csv\n-rw-r--r--   3 itv008542 supergroup      2.0 M 2024-02-07 03:04 /user/itv008542/lendingclubproject/raw/cleaned/customers_csv/part-00186-078320a3-dd0b-4258-ab9b-55ee8f70c615-c000.csv\n-rw-r--r--   3 itv008542 supergroup      2.0 M 2024-02-07 03:04 /user/itv008542/lendingclubproject/raw/cleaned/customers_csv/part-00187-078320a3-dd0b-4258-ab9b-55ee8f70c615-c000.csv\n-rw-r--r--   3 itv008542 supergroup      2.0 M 2024-02-07 03:04 /user/itv008542/lendingclubproject/raw/cleaned/customers_csv/part-00188-078320a3-dd0b-4258-ab9b-55ee8f70c615-c000.csv\n-rw-r--r--   3 itv008542 supergroup      2.0 M 2024-02-07 03:04 /user/itv008542/lendingclubproject/raw/cleaned/customers_csv/part-00189-078320a3-dd0b-4258-ab9b-55ee8f70c615-c000.csv\n-rw-r--r--   3 itv008542 supergroup      1.9 M 2024-02-07 03:04 /user/itv008542/lendingclubproject/raw/cleaned/customers_csv/part-00190-078320a3-dd0b-4258-ab9b-55ee8f70c615-c000.csv\n-rw-r--r--   3 itv008542 supergroup      2.0 M 2024-02-07 03:04 /user/itv008542/lendingclubproject/raw/cleaned/customers_csv/part-00191-078320a3-dd0b-4258-ab9b-55ee8f70c615-c000.csv\n-rw-r--r--   3 itv008542 supergroup      2.0 M 2024-02-07 03:04 /user/itv008542/lendingclubproject/raw/cleaned/customers_csv/part-00192-078320a3-dd0b-4258-ab9b-55ee8f70c615-c000.csv\n-rw-r--r--   3 itv008542 supergroup      2.0 M 2024-02-07 03:04 /user/itv008542/lendingclubproject/raw/cleaned/customers_csv/part-00193-078320a3-dd0b-4258-ab9b-55ee8f70c615-c000.csv\n-rw-r--r--   3 itv008542 supergroup      2.0 M 2024-02-07 03:04 /user/itv008542/lendingclubproject/raw/cleaned/customers_csv/part-00194-078320a3-dd0b-4258-ab9b-55ee8f70c615-c000.csv\n-rw-r--r--   3 itv008542 supergroup      2.0 M 2024-02-07 03:04 /user/itv008542/lendingclubproject/raw/cleaned/customers_csv/part-00195-078320a3-dd0b-4258-ab9b-55ee8f70c615-c000.csv\n-rw-r--r--   3 itv008542 supergroup      2.0 M 2024-02-07 03:04 /user/itv008542/lendingclubproject/raw/cleaned/customers_csv/part-00196-078320a3-dd0b-4258-ab9b-55ee8f70c615-c000.csv\n-rw-r--r--   3 itv008542 supergroup      2.0 M 2024-02-07 03:04 /user/itv008542/lendingclubproject/raw/cleaned/customers_csv/part-00197-078320a3-dd0b-4258-ab9b-55ee8f70c615-c000.csv\n-rw-r--r--   3 itv008542 supergroup      2.0 M 2024-02-07 03:04 /user/itv008542/lendingclubproject/raw/cleaned/customers_csv/part-00198-078320a3-dd0b-4258-ab9b-55ee8f70c615-c000.csv\n-rw-r--r--   3 itv008542 supergroup      2.0 M 2024-02-07 03:04 /user/itv008542/lendingclubproject/raw/cleaned/customers_csv/part-00199-078320a3-dd0b-4258-ab9b-55ee8f70c615-c000.csv\n"
     ]
    }
   ],
   "source": [
    "! hadoop fs -ls -h /user/itv008542/lendingclubproject/raw/cleaned/customers_csv"
   ]
  },
  {
   "cell_type": "markdown",
   "metadata": {
    "application/vnd.databricks.v1+cell": {
     "cellMetadata": {},
     "inputWidgets": {},
     "nuid": "63fba56e-e37d-480b-a2b4-8b30b18df730",
     "showTitle": false,
     "title": ""
    }
   },
   "source": [
    "## Lending Club Project: Data Cleaning 2\n",
    "\n",
    "### Data Cleaning Actions to Take\n",
    "\n",
    "Create dataframe with proper datatypes, and proper column names\n",
    "\n",
    "Insert a new column named as ingestion date (current time )\n",
    "\n",
    "Drop any nulls\n",
    "\n",
    "Convert monthly loan term to yearly loan term\n",
    "\n",
    "Modify loan purpose other than in look up to Others\n"
   ]
  },
  {
   "cell_type": "markdown",
   "metadata": {
    "application/vnd.databricks.v1+cell": {
     "cellMetadata": {},
     "inputWidgets": {},
     "nuid": "69b20cf0-307a-41cb-9411-d1472f745259",
     "showTitle": false,
     "title": ""
    }
   },
   "source": [
    "\n",
    "#### 1. Create dataframe with proper datatypes, and proper colum"
   ]
  },
  {
   "cell_type": "code",
   "execution_count": 0,
   "metadata": {
    "application/vnd.databricks.v1+cell": {
     "cellMetadata": {},
     "inputWidgets": {},
     "nuid": "8603ee35-f917-49cd-bd3b-1909b2a77057",
     "showTitle": false,
     "title": ""
    }
   },
   "outputs": [],
   "source": [
    "\n",
    "loans_raw_df = spark.read \\\n",
    ".format(\"csv\") \\\n",
    ".option(\"InferSchema\",True) \\\n",
    ".option(\"header\",True) \\\n",
    ".load(\"/user/itv008542/lendingclubproject/raw/loans_data_csv\")"
   ]
  },
  {
   "cell_type": "code",
   "execution_count": 0,
   "metadata": {
    "application/vnd.databricks.v1+cell": {
     "cellMetadata": {},
     "inputWidgets": {},
     "nuid": "42da987b-11ca-4f5a-9889-c38d9a124b5a",
     "showTitle": false,
     "title": ""
    }
   },
   "outputs": [
    {
     "output_type": "execute_result",
     "data": {
      "text/html": [
       "<table border='1'>\n",
       "<tr><th>loan_id</th><th>member_id</th><th>loan_amnt</th><th>funded_amnt</th><th>term</th><th>int_rate</th><th>installment</th><th>issue_d</th><th>loan_status</th><th>purpose</th><th>title</th></tr>\n",
       "<tr><td>14408468</td><td>5d7676571dee53d06...</td><td>5000.0</td><td>5000.0</td><td>36 months</td><td>14.16</td><td>171.28</td><td>Apr-2014</td><td>Fully Paid</td><td>debt_consolidation</td><td>Debt consolidation</td></tr>\n",
       "<tr><td>14520567</td><td>31fd1ef036c5caf26...</td><td>11000.0</td><td>11000.0</td><td>36 months</td><td>9.67</td><td>353.24</td><td>Apr-2014</td><td>Fully Paid</td><td>other</td><td>Other</td></tr>\n",
       "<tr><td>14708730</td><td>9b48253ca5848fa78...</td><td>25000.0</td><td>25000.0</td><td>36 months</td><td>11.99</td><td>830.24</td><td>May-2014</td><td>Charged Off</td><td>credit_card</td><td>Credit card refin...</td></tr>\n",
       "<tr><td>14491003</td><td>d6b8f2e32be148721...</td><td>1500.0</td><td>1500.0</td><td>36 months</td><td>23.43</td><td>58.41</td><td>Apr-2014</td><td>Fully Paid</td><td>renewable_energy</td><td>Green loan</td></tr>\n",
       "<tr><td>14510981</td><td>0a81ad556e20bcdb9...</td><td>10000.0</td><td>10000.0</td><td>36 months</td><td>12.99</td><td>336.9</td><td>Apr-2014</td><td>Fully Paid</td><td>debt_consolidation</td><td>Debt consolidation</td></tr>\n",
       "<tr><td>14177845</td><td>843b995d39160ddab...</td><td>13200.0</td><td>13200.0</td><td>60 months</td><td>12.99</td><td>300.28</td><td>Apr-2014</td><td>Charged Off</td><td>debt_consolidation</td><td>Debt consolidation</td></tr>\n",
       "<tr><td>13947687</td><td>04a8bd7c4e1407ba8...</td><td>10000.0</td><td>10000.0</td><td>60 months</td><td>17.57</td><td>251.61</td><td>Apr-2014</td><td>Fully Paid</td><td>other</td><td>Other</td></tr>\n",
       "<tr><td>12905731</td><td>3e9a89fa96988af68...</td><td>18000.0</td><td>18000.0</td><td>36 months</td><td>18.25</td><td>653.01</td><td>May-2014</td><td>Fully Paid</td><td>home_improvement</td><td>Home improvement</td></tr>\n",
       "<tr><td>14137736</td><td>394a8db0bd3bcf7de...</td><td>12000.0</td><td>12000.0</td><td>36 months</td><td>9.67</td><td>385.35</td><td>Apr-2014</td><td>Fully Paid</td><td>debt_consolidation</td><td>Debt consolidation</td></tr>\n",
       "<tr><td>13207083</td><td>09cea8d2b6f1272f7...</td><td>3200.0</td><td>3200.0</td><td>36 months</td><td>20.49</td><td>119.73</td><td>Apr-2014</td><td>Fully Paid</td><td>credit_card</td><td>Credit card refin...</td></tr>\n",
       "<tr><td>9005163</td><td>bc13b4bf12b2fb93f...</td><td>19800.0</td><td>19800.0</td><td>60 months</td><td>15.61</td><td>477.41</td><td>Apr-2014</td><td>Current</td><td>debt_consolidation</td><td>Debt consolidation</td></tr>\n",
       "<tr><td>14008700</td><td>dcc3cce84164a1a4f...</td><td>14150.0</td><td>14150.0</td><td>60 months</td><td>16.59</td><td>348.56</td><td>Apr-2014</td><td>Current</td><td>credit_card</td><td>Credit card refin...</td></tr>\n",
       "<tr><td>13107355</td><td>a8c2898592c8c34ea...</td><td>11850.0</td><td>11850.0</td><td>36 months</td><td>20.49</td><td>443.36</td><td>Apr-2014</td><td>Fully Paid</td><td>debt_consolidation</td><td>Debt consolidation</td></tr>\n",
       "<tr><td>14288329</td><td>2ab161847c8ce1f3e...</td><td>25000.0</td><td>25000.0</td><td>60 months</td><td>21.99</td><td>690.34</td><td>Apr-2014</td><td>Fully Paid</td><td>debt_consolidation</td><td>Debt consolidation</td></tr>\n",
       "<tr><td>14308144</td><td>9886b3db401c1d460...</td><td>15000.0</td><td>15000.0</td><td>60 months</td><td>15.61</td><td>361.67</td><td>Apr-2014</td><td>Fully Paid</td><td>major_purchase</td><td>Major purchase</td></tr>\n",
       "<tr><td>14009407</td><td>7b62e3c918a7f9eb8...</td><td>9625.0</td><td>9625.0</td><td>36 months</td><td>13.65</td><td>327.33</td><td>Apr-2014</td><td>Fully Paid</td><td>credit_card</td><td>Credit card refin...</td></tr>\n",
       "<tr><td>6583213</td><td>698b533486c4900d4...</td><td>17500.0</td><td>17500.0</td><td>36 months</td><td>9.67</td><td>561.97</td><td>Apr-2014</td><td>Fully Paid</td><td>debt_consolidation</td><td>Debt consolidation</td></tr>\n",
       "<tr><td>12597061</td><td>0b07196bd0485e4c2...</td><td>7700.0</td><td>7700.0</td><td>36 months</td><td>12.99</td><td>259.41</td><td>Apr-2014</td><td>Fully Paid</td><td>debt_consolidation</td><td>Debt consolidation</td></tr>\n",
       "<tr><td>12468587</td><td>92e61f312d73c874d...</td><td>3600.0</td><td>3600.0</td><td>36 months</td><td>22.45</td><td>138.33</td><td>Apr-2014</td><td>Fully Paid</td><td>debt_consolidation</td><td>Debt consolidation</td></tr>\n",
       "<tr><td>12486035</td><td>a2eb7934b6490e443...</td><td>14250.0</td><td>14250.0</td><td>60 months</td><td>21.99</td><td>393.49</td><td>Apr-2014</td><td>Fully Paid</td><td>home_improvement</td><td>Home improvement</td></tr>\n",
       "</table>\n",
       "only showing top 20 rows\n"
      ],
      "text/plain": [
       "+--------+--------------------+---------+-----------+---------+--------+-----------+--------+-----------+------------------+--------------------+\n",
       "| loan_id|           member_id|loan_amnt|funded_amnt|     term|int_rate|installment| issue_d|loan_status|           purpose|               title|\n",
       "+--------+--------------------+---------+-----------+---------+--------+-----------+--------+-----------+------------------+--------------------+\n",
       "|14408468|5d7676571dee53d06...|   5000.0|     5000.0|36 months|   14.16|     171.28|Apr-2014| Fully Paid|debt_consolidation|  Debt consolidation|\n",
       "|14520567|31fd1ef036c5caf26...|  11000.0|    11000.0|36 months|    9.67|     353.24|Apr-2014| Fully Paid|             other|               Other|\n",
       "|14708730|9b48253ca5848fa78...|  25000.0|    25000.0|36 months|   11.99|     830.24|May-2014|Charged Off|       credit_card|Credit card refin...|\n",
       "|14491003|d6b8f2e32be148721...|   1500.0|     1500.0|36 months|   23.43|      58.41|Apr-2014| Fully Paid|  renewable_energy|          Green loan|\n",
       "|14510981|0a81ad556e20bcdb9...|  10000.0|    10000.0|36 months|   12.99|      336.9|Apr-2014| Fully Paid|debt_consolidation|  Debt consolidation|\n",
       "|14177845|843b995d39160ddab...|  13200.0|    13200.0|60 months|   12.99|     300.28|Apr-2014|Charged Off|debt_consolidation|  Debt consolidation|\n",
       "|13947687|04a8bd7c4e1407ba8...|  10000.0|    10000.0|60 months|   17.57|     251.61|Apr-2014| Fully Paid|             other|               Other|\n",
       "|12905731|3e9a89fa96988af68...|  18000.0|    18000.0|36 months|   18.25|     653.01|May-2014| Fully Paid|  home_improvement|    Home improvement|\n",
       "|14137736|394a8db0bd3bcf7de...|  12000.0|    12000.0|36 months|    9.67|     385.35|Apr-2014| Fully Paid|debt_consolidation|  Debt consolidation|\n",
       "|13207083|09cea8d2b6f1272f7...|   3200.0|     3200.0|36 months|   20.49|     119.73|Apr-2014| Fully Paid|       credit_card|Credit card refin...|\n",
       "| 9005163|bc13b4bf12b2fb93f...|  19800.0|    19800.0|60 months|   15.61|     477.41|Apr-2014|    Current|debt_consolidation|  Debt consolidation|\n",
       "|14008700|dcc3cce84164a1a4f...|  14150.0|    14150.0|60 months|   16.59|     348.56|Apr-2014|    Current|       credit_card|Credit card refin...|\n",
       "|13107355|a8c2898592c8c34ea...|  11850.0|    11850.0|36 months|   20.49|     443.36|Apr-2014| Fully Paid|debt_consolidation|  Debt consolidation|\n",
       "|14288329|2ab161847c8ce1f3e...|  25000.0|    25000.0|60 months|   21.99|     690.34|Apr-2014| Fully Paid|debt_consolidation|  Debt consolidation|\n",
       "|14308144|9886b3db401c1d460...|  15000.0|    15000.0|60 months|   15.61|     361.67|Apr-2014| Fully Paid|    major_purchase|      Major purchase|\n",
       "|14009407|7b62e3c918a7f9eb8...|   9625.0|     9625.0|36 months|   13.65|     327.33|Apr-2014| Fully Paid|       credit_card|Credit card refin...|\n",
       "| 6583213|698b533486c4900d4...|  17500.0|    17500.0|36 months|    9.67|     561.97|Apr-2014| Fully Paid|debt_consolidation|  Debt consolidation|\n",
       "|12597061|0b07196bd0485e4c2...|   7700.0|     7700.0|36 months|   12.99|     259.41|Apr-2014| Fully Paid|debt_consolidation|  Debt consolidation|\n",
       "|12468587|92e61f312d73c874d...|   3600.0|     3600.0|36 months|   22.45|     138.33|Apr-2014| Fully Paid|debt_consolidation|  Debt consolidation|\n",
       "|12486035|a2eb7934b6490e443...|  14250.0|    14250.0|60 months|   21.99|     393.49|Apr-2014| Fully Paid|  home_improvement|    Home improvement|\n",
       "+--------+--------------------+---------+-----------+---------+--------+-----------+--------+-----------+------------------+--------------------+\n",
       "only showing top 20 rows"
      ]
     },
     "execution_count": 73,
     "metadata": {},
     "output_type": "execute_result"
    }
   ],
   "source": [
    "loans_raw_df"
   ]
  },
  {
   "cell_type": "code",
   "execution_count": 0,
   "metadata": {
    "application/vnd.databricks.v1+cell": {
     "cellMetadata": {},
     "inputWidgets": {},
     "nuid": "a54e0f52-0228-40da-ab97-81dead27a1cb",
     "showTitle": false,
     "title": ""
    }
   },
   "outputs": [],
   "source": [
    "loans_schema = 'loan_id string, member_id string, loan_amount float, funded_amount float, loan_term_months string, interest_rate float, monthly_installment float, issue_date string, loan_status string, loan_purpose string, loan_title string'"
   ]
  },
  {
   "cell_type": "code",
   "execution_count": 0,
   "metadata": {
    "application/vnd.databricks.v1+cell": {
     "cellMetadata": {},
     "inputWidgets": {},
     "nuid": "ddb487c8-509a-4ab9-9e6f-8652d6317be2",
     "showTitle": false,
     "title": ""
    }
   },
   "outputs": [],
   "source": [
    "loans_raw_df = spark.read \\\n",
    ".format(\"csv\") \\\n",
    ".option(\"header\",True) \\\n",
    ".schema(loans_schema) \\\n",
    ".load(\"/user/itv008542/lendingclubproject/raw/loans_data_csv\")"
   ]
  },
  {
   "cell_type": "code",
   "execution_count": 0,
   "metadata": {
    "application/vnd.databricks.v1+cell": {
     "cellMetadata": {},
     "inputWidgets": {},
     "nuid": "4459d3d5-d1a2-47c4-87bc-1f6e30bf424c",
     "showTitle": false,
     "title": ""
    }
   },
   "outputs": [
    {
     "output_type": "execute_result",
     "data": {
      "text/html": [
       "<table border='1'>\n",
       "<tr><th>loan_id</th><th>member_id</th><th>loan_amount</th><th>funded_amount</th><th>loan_term_months</th><th>interest_rate</th><th>monthly_installment</th><th>issue_date</th><th>loan_status</th><th>loan_purpose</th><th>loan_title</th></tr>\n",
       "<tr><td>14408468</td><td>5d7676571dee53d06...</td><td>5000.0</td><td>5000.0</td><td>36 months</td><td>14.16</td><td>171.28</td><td>Apr-2014</td><td>Fully Paid</td><td>debt_consolidation</td><td>Debt consolidation</td></tr>\n",
       "<tr><td>14520567</td><td>31fd1ef036c5caf26...</td><td>11000.0</td><td>11000.0</td><td>36 months</td><td>9.67</td><td>353.24</td><td>Apr-2014</td><td>Fully Paid</td><td>other</td><td>Other</td></tr>\n",
       "<tr><td>14708730</td><td>9b48253ca5848fa78...</td><td>25000.0</td><td>25000.0</td><td>36 months</td><td>11.99</td><td>830.24</td><td>May-2014</td><td>Charged Off</td><td>credit_card</td><td>Credit card refin...</td></tr>\n",
       "<tr><td>14491003</td><td>d6b8f2e32be148721...</td><td>1500.0</td><td>1500.0</td><td>36 months</td><td>23.43</td><td>58.41</td><td>Apr-2014</td><td>Fully Paid</td><td>renewable_energy</td><td>Green loan</td></tr>\n",
       "<tr><td>14510981</td><td>0a81ad556e20bcdb9...</td><td>10000.0</td><td>10000.0</td><td>36 months</td><td>12.99</td><td>336.9</td><td>Apr-2014</td><td>Fully Paid</td><td>debt_consolidation</td><td>Debt consolidation</td></tr>\n",
       "<tr><td>14177845</td><td>843b995d39160ddab...</td><td>13200.0</td><td>13200.0</td><td>60 months</td><td>12.99</td><td>300.28</td><td>Apr-2014</td><td>Charged Off</td><td>debt_consolidation</td><td>Debt consolidation</td></tr>\n",
       "<tr><td>13947687</td><td>04a8bd7c4e1407ba8...</td><td>10000.0</td><td>10000.0</td><td>60 months</td><td>17.57</td><td>251.61</td><td>Apr-2014</td><td>Fully Paid</td><td>other</td><td>Other</td></tr>\n",
       "<tr><td>12905731</td><td>3e9a89fa96988af68...</td><td>18000.0</td><td>18000.0</td><td>36 months</td><td>18.25</td><td>653.01</td><td>May-2014</td><td>Fully Paid</td><td>home_improvement</td><td>Home improvement</td></tr>\n",
       "<tr><td>14137736</td><td>394a8db0bd3bcf7de...</td><td>12000.0</td><td>12000.0</td><td>36 months</td><td>9.67</td><td>385.35</td><td>Apr-2014</td><td>Fully Paid</td><td>debt_consolidation</td><td>Debt consolidation</td></tr>\n",
       "<tr><td>13207083</td><td>09cea8d2b6f1272f7...</td><td>3200.0</td><td>3200.0</td><td>36 months</td><td>20.49</td><td>119.73</td><td>Apr-2014</td><td>Fully Paid</td><td>credit_card</td><td>Credit card refin...</td></tr>\n",
       "<tr><td>9005163</td><td>bc13b4bf12b2fb93f...</td><td>19800.0</td><td>19800.0</td><td>60 months</td><td>15.61</td><td>477.41</td><td>Apr-2014</td><td>Current</td><td>debt_consolidation</td><td>Debt consolidation</td></tr>\n",
       "<tr><td>14008700</td><td>dcc3cce84164a1a4f...</td><td>14150.0</td><td>14150.0</td><td>60 months</td><td>16.59</td><td>348.56</td><td>Apr-2014</td><td>Current</td><td>credit_card</td><td>Credit card refin...</td></tr>\n",
       "<tr><td>13107355</td><td>a8c2898592c8c34ea...</td><td>11850.0</td><td>11850.0</td><td>36 months</td><td>20.49</td><td>443.36</td><td>Apr-2014</td><td>Fully Paid</td><td>debt_consolidation</td><td>Debt consolidation</td></tr>\n",
       "<tr><td>14288329</td><td>2ab161847c8ce1f3e...</td><td>25000.0</td><td>25000.0</td><td>60 months</td><td>21.99</td><td>690.34</td><td>Apr-2014</td><td>Fully Paid</td><td>debt_consolidation</td><td>Debt consolidation</td></tr>\n",
       "<tr><td>14308144</td><td>9886b3db401c1d460...</td><td>15000.0</td><td>15000.0</td><td>60 months</td><td>15.61</td><td>361.67</td><td>Apr-2014</td><td>Fully Paid</td><td>major_purchase</td><td>Major purchase</td></tr>\n",
       "<tr><td>14009407</td><td>7b62e3c918a7f9eb8...</td><td>9625.0</td><td>9625.0</td><td>36 months</td><td>13.65</td><td>327.33</td><td>Apr-2014</td><td>Fully Paid</td><td>credit_card</td><td>Credit card refin...</td></tr>\n",
       "<tr><td>6583213</td><td>698b533486c4900d4...</td><td>17500.0</td><td>17500.0</td><td>36 months</td><td>9.67</td><td>561.97</td><td>Apr-2014</td><td>Fully Paid</td><td>debt_consolidation</td><td>Debt consolidation</td></tr>\n",
       "<tr><td>12597061</td><td>0b07196bd0485e4c2...</td><td>7700.0</td><td>7700.0</td><td>36 months</td><td>12.99</td><td>259.41</td><td>Apr-2014</td><td>Fully Paid</td><td>debt_consolidation</td><td>Debt consolidation</td></tr>\n",
       "<tr><td>12468587</td><td>92e61f312d73c874d...</td><td>3600.0</td><td>3600.0</td><td>36 months</td><td>22.45</td><td>138.33</td><td>Apr-2014</td><td>Fully Paid</td><td>debt_consolidation</td><td>Debt consolidation</td></tr>\n",
       "<tr><td>12486035</td><td>a2eb7934b6490e443...</td><td>14250.0</td><td>14250.0</td><td>60 months</td><td>21.99</td><td>393.49</td><td>Apr-2014</td><td>Fully Paid</td><td>home_improvement</td><td>Home improvement</td></tr>\n",
       "</table>\n",
       "only showing top 20 rows\n"
      ],
      "text/plain": [
       "+--------+--------------------+-----------+-------------+----------------+-------------+-------------------+----------+-----------+------------------+--------------------+\n",
       "| loan_id|           member_id|loan_amount|funded_amount|loan_term_months|interest_rate|monthly_installment|issue_date|loan_status|      loan_purpose|          loan_title|\n",
       "+--------+--------------------+-----------+-------------+----------------+-------------+-------------------+----------+-----------+------------------+--------------------+\n",
       "|14408468|5d7676571dee53d06...|     5000.0|       5000.0|       36 months|        14.16|             171.28|  Apr-2014| Fully Paid|debt_consolidation|  Debt consolidation|\n",
       "|14520567|31fd1ef036c5caf26...|    11000.0|      11000.0|       36 months|         9.67|             353.24|  Apr-2014| Fully Paid|             other|               Other|\n",
       "|14708730|9b48253ca5848fa78...|    25000.0|      25000.0|       36 months|        11.99|             830.24|  May-2014|Charged Off|       credit_card|Credit card refin...|\n",
       "|14491003|d6b8f2e32be148721...|     1500.0|       1500.0|       36 months|        23.43|              58.41|  Apr-2014| Fully Paid|  renewable_energy|          Green loan|\n",
       "|14510981|0a81ad556e20bcdb9...|    10000.0|      10000.0|       36 months|        12.99|              336.9|  Apr-2014| Fully Paid|debt_consolidation|  Debt consolidation|\n",
       "|14177845|843b995d39160ddab...|    13200.0|      13200.0|       60 months|        12.99|             300.28|  Apr-2014|Charged Off|debt_consolidation|  Debt consolidation|\n",
       "|13947687|04a8bd7c4e1407ba8...|    10000.0|      10000.0|       60 months|        17.57|             251.61|  Apr-2014| Fully Paid|             other|               Other|\n",
       "|12905731|3e9a89fa96988af68...|    18000.0|      18000.0|       36 months|        18.25|             653.01|  May-2014| Fully Paid|  home_improvement|    Home improvement|\n",
       "|14137736|394a8db0bd3bcf7de...|    12000.0|      12000.0|       36 months|         9.67|             385.35|  Apr-2014| Fully Paid|debt_consolidation|  Debt consolidation|\n",
       "|13207083|09cea8d2b6f1272f7...|     3200.0|       3200.0|       36 months|        20.49|             119.73|  Apr-2014| Fully Paid|       credit_card|Credit card refin...|\n",
       "| 9005163|bc13b4bf12b2fb93f...|    19800.0|      19800.0|       60 months|        15.61|             477.41|  Apr-2014|    Current|debt_consolidation|  Debt consolidation|\n",
       "|14008700|dcc3cce84164a1a4f...|    14150.0|      14150.0|       60 months|        16.59|             348.56|  Apr-2014|    Current|       credit_card|Credit card refin...|\n",
       "|13107355|a8c2898592c8c34ea...|    11850.0|      11850.0|       36 months|        20.49|             443.36|  Apr-2014| Fully Paid|debt_consolidation|  Debt consolidation|\n",
       "|14288329|2ab161847c8ce1f3e...|    25000.0|      25000.0|       60 months|        21.99|             690.34|  Apr-2014| Fully Paid|debt_consolidation|  Debt consolidation|\n",
       "|14308144|9886b3db401c1d460...|    15000.0|      15000.0|       60 months|        15.61|             361.67|  Apr-2014| Fully Paid|    major_purchase|      Major purchase|\n",
       "|14009407|7b62e3c918a7f9eb8...|     9625.0|       9625.0|       36 months|        13.65|             327.33|  Apr-2014| Fully Paid|       credit_card|Credit card refin...|\n",
       "| 6583213|698b533486c4900d4...|    17500.0|      17500.0|       36 months|         9.67|             561.97|  Apr-2014| Fully Paid|debt_consolidation|  Debt consolidation|\n",
       "|12597061|0b07196bd0485e4c2...|     7700.0|       7700.0|       36 months|        12.99|             259.41|  Apr-2014| Fully Paid|debt_consolidation|  Debt consolidation|\n",
       "|12468587|92e61f312d73c874d...|     3600.0|       3600.0|       36 months|        22.45|             138.33|  Apr-2014| Fully Paid|debt_consolidation|  Debt consolidation|\n",
       "|12486035|a2eb7934b6490e443...|    14250.0|      14250.0|       60 months|        21.99|             393.49|  Apr-2014| Fully Paid|  home_improvement|    Home improvement|\n",
       "+--------+--------------------+-----------+-------------+----------------+-------------+-------------------+----------+-----------+------------------+--------------------+\n",
       "only showing top 20 rows"
      ]
     },
     "execution_count": 76,
     "metadata": {},
     "output_type": "execute_result"
    }
   ],
   "source": [
    "loans_raw_df"
   ]
  },
  {
   "cell_type": "code",
   "execution_count": 0,
   "metadata": {
    "application/vnd.databricks.v1+cell": {
     "cellMetadata": {},
     "inputWidgets": {},
     "nuid": "a85ba62d-165b-4bb2-a537-d7fcc776e624",
     "showTitle": false,
     "title": ""
    }
   },
   "outputs": [
    {
     "output_type": "stream",
     "name": "stdout",
     "output_type": "stream",
     "text": [
      "root\n |-- loan_id: string (nullable = true)\n |-- member_id: string (nullable = true)\n |-- loan_amount: float (nullable = true)\n |-- funded_amount: float (nullable = true)\n |-- loan_term_months: string (nullable = true)\n |-- interest_rate: float (nullable = true)\n |-- monthly_installment: float (nullable = true)\n |-- issue_date: string (nullable = true)\n |-- loan_status: string (nullable = true)\n |-- loan_purpose: string (nullable = true)\n |-- loan_title: string (nullable = true)\n\n"
     ]
    }
   ],
   "source": [
    "loans_raw_df.printSchema()"
   ]
  },
  {
   "cell_type": "code",
   "execution_count": 0,
   "metadata": {
    "application/vnd.databricks.v1+cell": {
     "cellMetadata": {},
     "inputWidgets": {},
     "nuid": "a7283f24-35a1-480d-a54d-3ac82cf6a707",
     "showTitle": false,
     "title": ""
    }
   },
   "outputs": [],
   "source": [
    "from pyspark.sql.functions import current_timestamp"
   ]
  },
  {
   "cell_type": "markdown",
   "metadata": {
    "application/vnd.databricks.v1+cell": {
     "cellMetadata": {},
     "inputWidgets": {},
     "nuid": "eb57c7cf-aea8-40a7-8992-62a25abcbb45",
     "showTitle": false,
     "title": ""
    }
   },
   "source": [
    "#### 2. Insert a new column named as ingestion date(current time)"
   ]
  },
  {
   "cell_type": "code",
   "execution_count": 0,
   "metadata": {
    "application/vnd.databricks.v1+cell": {
     "cellMetadata": {},
     "inputWidgets": {},
     "nuid": "1d183336-0640-4a94-931e-8b7094172028",
     "showTitle": false,
     "title": ""
    }
   },
   "outputs": [],
   "source": [
    "loans_df_ingestd = loans_raw_df.withColumn(\"ingest_date\", current_timestamp())"
   ]
  },
  {
   "cell_type": "code",
   "execution_count": 0,
   "metadata": {
    "application/vnd.databricks.v1+cell": {
     "cellMetadata": {},
     "inputWidgets": {},
     "nuid": "5cbfd770-b012-47c1-b01f-2c10bed2ba8b",
     "showTitle": false,
     "title": ""
    }
   },
   "outputs": [
    {
     "output_type": "execute_result",
     "data": {
      "text/html": [
       "<table border='1'>\n",
       "<tr><th>loan_id</th><th>member_id</th><th>loan_amount</th><th>funded_amount</th><th>loan_term_months</th><th>interest_rate</th><th>monthly_installment</th><th>issue_date</th><th>loan_status</th><th>loan_purpose</th><th>loan_title</th><th>ingest_date</th></tr>\n",
       "<tr><td>14408468</td><td>5d7676571dee53d06...</td><td>5000.0</td><td>5000.0</td><td>36 months</td><td>14.16</td><td>171.28</td><td>Apr-2014</td><td>Fully Paid</td><td>debt_consolidation</td><td>Debt consolidation</td><td>2024-02-07 03:31:...</td></tr>\n",
       "<tr><td>14520567</td><td>31fd1ef036c5caf26...</td><td>11000.0</td><td>11000.0</td><td>36 months</td><td>9.67</td><td>353.24</td><td>Apr-2014</td><td>Fully Paid</td><td>other</td><td>Other</td><td>2024-02-07 03:31:...</td></tr>\n",
       "<tr><td>14708730</td><td>9b48253ca5848fa78...</td><td>25000.0</td><td>25000.0</td><td>36 months</td><td>11.99</td><td>830.24</td><td>May-2014</td><td>Charged Off</td><td>credit_card</td><td>Credit card refin...</td><td>2024-02-07 03:31:...</td></tr>\n",
       "<tr><td>14491003</td><td>d6b8f2e32be148721...</td><td>1500.0</td><td>1500.0</td><td>36 months</td><td>23.43</td><td>58.41</td><td>Apr-2014</td><td>Fully Paid</td><td>renewable_energy</td><td>Green loan</td><td>2024-02-07 03:31:...</td></tr>\n",
       "<tr><td>14510981</td><td>0a81ad556e20bcdb9...</td><td>10000.0</td><td>10000.0</td><td>36 months</td><td>12.99</td><td>336.9</td><td>Apr-2014</td><td>Fully Paid</td><td>debt_consolidation</td><td>Debt consolidation</td><td>2024-02-07 03:31:...</td></tr>\n",
       "<tr><td>14177845</td><td>843b995d39160ddab...</td><td>13200.0</td><td>13200.0</td><td>60 months</td><td>12.99</td><td>300.28</td><td>Apr-2014</td><td>Charged Off</td><td>debt_consolidation</td><td>Debt consolidation</td><td>2024-02-07 03:31:...</td></tr>\n",
       "<tr><td>13947687</td><td>04a8bd7c4e1407ba8...</td><td>10000.0</td><td>10000.0</td><td>60 months</td><td>17.57</td><td>251.61</td><td>Apr-2014</td><td>Fully Paid</td><td>other</td><td>Other</td><td>2024-02-07 03:31:...</td></tr>\n",
       "<tr><td>12905731</td><td>3e9a89fa96988af68...</td><td>18000.0</td><td>18000.0</td><td>36 months</td><td>18.25</td><td>653.01</td><td>May-2014</td><td>Fully Paid</td><td>home_improvement</td><td>Home improvement</td><td>2024-02-07 03:31:...</td></tr>\n",
       "<tr><td>14137736</td><td>394a8db0bd3bcf7de...</td><td>12000.0</td><td>12000.0</td><td>36 months</td><td>9.67</td><td>385.35</td><td>Apr-2014</td><td>Fully Paid</td><td>debt_consolidation</td><td>Debt consolidation</td><td>2024-02-07 03:31:...</td></tr>\n",
       "<tr><td>13207083</td><td>09cea8d2b6f1272f7...</td><td>3200.0</td><td>3200.0</td><td>36 months</td><td>20.49</td><td>119.73</td><td>Apr-2014</td><td>Fully Paid</td><td>credit_card</td><td>Credit card refin...</td><td>2024-02-07 03:31:...</td></tr>\n",
       "<tr><td>9005163</td><td>bc13b4bf12b2fb93f...</td><td>19800.0</td><td>19800.0</td><td>60 months</td><td>15.61</td><td>477.41</td><td>Apr-2014</td><td>Current</td><td>debt_consolidation</td><td>Debt consolidation</td><td>2024-02-07 03:31:...</td></tr>\n",
       "<tr><td>14008700</td><td>dcc3cce84164a1a4f...</td><td>14150.0</td><td>14150.0</td><td>60 months</td><td>16.59</td><td>348.56</td><td>Apr-2014</td><td>Current</td><td>credit_card</td><td>Credit card refin...</td><td>2024-02-07 03:31:...</td></tr>\n",
       "<tr><td>13107355</td><td>a8c2898592c8c34ea...</td><td>11850.0</td><td>11850.0</td><td>36 months</td><td>20.49</td><td>443.36</td><td>Apr-2014</td><td>Fully Paid</td><td>debt_consolidation</td><td>Debt consolidation</td><td>2024-02-07 03:31:...</td></tr>\n",
       "<tr><td>14288329</td><td>2ab161847c8ce1f3e...</td><td>25000.0</td><td>25000.0</td><td>60 months</td><td>21.99</td><td>690.34</td><td>Apr-2014</td><td>Fully Paid</td><td>debt_consolidation</td><td>Debt consolidation</td><td>2024-02-07 03:31:...</td></tr>\n",
       "<tr><td>14308144</td><td>9886b3db401c1d460...</td><td>15000.0</td><td>15000.0</td><td>60 months</td><td>15.61</td><td>361.67</td><td>Apr-2014</td><td>Fully Paid</td><td>major_purchase</td><td>Major purchase</td><td>2024-02-07 03:31:...</td></tr>\n",
       "<tr><td>14009407</td><td>7b62e3c918a7f9eb8...</td><td>9625.0</td><td>9625.0</td><td>36 months</td><td>13.65</td><td>327.33</td><td>Apr-2014</td><td>Fully Paid</td><td>credit_card</td><td>Credit card refin...</td><td>2024-02-07 03:31:...</td></tr>\n",
       "<tr><td>6583213</td><td>698b533486c4900d4...</td><td>17500.0</td><td>17500.0</td><td>36 months</td><td>9.67</td><td>561.97</td><td>Apr-2014</td><td>Fully Paid</td><td>debt_consolidation</td><td>Debt consolidation</td><td>2024-02-07 03:31:...</td></tr>\n",
       "<tr><td>12597061</td><td>0b07196bd0485e4c2...</td><td>7700.0</td><td>7700.0</td><td>36 months</td><td>12.99</td><td>259.41</td><td>Apr-2014</td><td>Fully Paid</td><td>debt_consolidation</td><td>Debt consolidation</td><td>2024-02-07 03:31:...</td></tr>\n",
       "<tr><td>12468587</td><td>92e61f312d73c874d...</td><td>3600.0</td><td>3600.0</td><td>36 months</td><td>22.45</td><td>138.33</td><td>Apr-2014</td><td>Fully Paid</td><td>debt_consolidation</td><td>Debt consolidation</td><td>2024-02-07 03:31:...</td></tr>\n",
       "<tr><td>12486035</td><td>a2eb7934b6490e443...</td><td>14250.0</td><td>14250.0</td><td>60 months</td><td>21.99</td><td>393.49</td><td>Apr-2014</td><td>Fully Paid</td><td>home_improvement</td><td>Home improvement</td><td>2024-02-07 03:31:...</td></tr>\n",
       "</table>\n",
       "only showing top 20 rows\n"
      ],
      "text/plain": [
       "+--------+--------------------+-----------+-------------+----------------+-------------+-------------------+----------+-----------+------------------+--------------------+--------------------+\n",
       "| loan_id|           member_id|loan_amount|funded_amount|loan_term_months|interest_rate|monthly_installment|issue_date|loan_status|      loan_purpose|          loan_title|         ingest_date|\n",
       "+--------+--------------------+-----------+-------------+----------------+-------------+-------------------+----------+-----------+------------------+--------------------+--------------------+\n",
       "|14408468|5d7676571dee53d06...|     5000.0|       5000.0|       36 months|        14.16|             171.28|  Apr-2014| Fully Paid|debt_consolidation|  Debt consolidation|2024-02-07 03:31:...|\n",
       "|14520567|31fd1ef036c5caf26...|    11000.0|      11000.0|       36 months|         9.67|             353.24|  Apr-2014| Fully Paid|             other|               Other|2024-02-07 03:31:...|\n",
       "|14708730|9b48253ca5848fa78...|    25000.0|      25000.0|       36 months|        11.99|             830.24|  May-2014|Charged Off|       credit_card|Credit card refin...|2024-02-07 03:31:...|\n",
       "|14491003|d6b8f2e32be148721...|     1500.0|       1500.0|       36 months|        23.43|              58.41|  Apr-2014| Fully Paid|  renewable_energy|          Green loan|2024-02-07 03:31:...|\n",
       "|14510981|0a81ad556e20bcdb9...|    10000.0|      10000.0|       36 months|        12.99|              336.9|  Apr-2014| Fully Paid|debt_consolidation|  Debt consolidation|2024-02-07 03:31:...|\n",
       "|14177845|843b995d39160ddab...|    13200.0|      13200.0|       60 months|        12.99|             300.28|  Apr-2014|Charged Off|debt_consolidation|  Debt consolidation|2024-02-07 03:31:...|\n",
       "|13947687|04a8bd7c4e1407ba8...|    10000.0|      10000.0|       60 months|        17.57|             251.61|  Apr-2014| Fully Paid|             other|               Other|2024-02-07 03:31:...|\n",
       "|12905731|3e9a89fa96988af68...|    18000.0|      18000.0|       36 months|        18.25|             653.01|  May-2014| Fully Paid|  home_improvement|    Home improvement|2024-02-07 03:31:...|\n",
       "|14137736|394a8db0bd3bcf7de...|    12000.0|      12000.0|       36 months|         9.67|             385.35|  Apr-2014| Fully Paid|debt_consolidation|  Debt consolidation|2024-02-07 03:31:...|\n",
       "|13207083|09cea8d2b6f1272f7...|     3200.0|       3200.0|       36 months|        20.49|             119.73|  Apr-2014| Fully Paid|       credit_card|Credit card refin...|2024-02-07 03:31:...|\n",
       "| 9005163|bc13b4bf12b2fb93f...|    19800.0|      19800.0|       60 months|        15.61|             477.41|  Apr-2014|    Current|debt_consolidation|  Debt consolidation|2024-02-07 03:31:...|\n",
       "|14008700|dcc3cce84164a1a4f...|    14150.0|      14150.0|       60 months|        16.59|             348.56|  Apr-2014|    Current|       credit_card|Credit card refin...|2024-02-07 03:31:...|\n",
       "|13107355|a8c2898592c8c34ea...|    11850.0|      11850.0|       36 months|        20.49|             443.36|  Apr-2014| Fully Paid|debt_consolidation|  Debt consolidation|2024-02-07 03:31:...|\n",
       "|14288329|2ab161847c8ce1f3e...|    25000.0|      25000.0|       60 months|        21.99|             690.34|  Apr-2014| Fully Paid|debt_consolidation|  Debt consolidation|2024-02-07 03:31:...|\n",
       "|14308144|9886b3db401c1d460...|    15000.0|      15000.0|       60 months|        15.61|             361.67|  Apr-2014| Fully Paid|    major_purchase|      Major purchase|2024-02-07 03:31:...|\n",
       "|14009407|7b62e3c918a7f9eb8...|     9625.0|       9625.0|       36 months|        13.65|             327.33|  Apr-2014| Fully Paid|       credit_card|Credit card refin...|2024-02-07 03:31:...|\n",
       "| 6583213|698b533486c4900d4...|    17500.0|      17500.0|       36 months|         9.67|             561.97|  Apr-2014| Fully Paid|debt_consolidation|  Debt consolidation|2024-02-07 03:31:...|\n",
       "|12597061|0b07196bd0485e4c2...|     7700.0|       7700.0|       36 months|        12.99|             259.41|  Apr-2014| Fully Paid|debt_consolidation|  Debt consolidation|2024-02-07 03:31:...|\n",
       "|12468587|92e61f312d73c874d...|     3600.0|       3600.0|       36 months|        22.45|             138.33|  Apr-2014| Fully Paid|debt_consolidation|  Debt consolidation|2024-02-07 03:31:...|\n",
       "|12486035|a2eb7934b6490e443...|    14250.0|      14250.0|       60 months|        21.99|             393.49|  Apr-2014| Fully Paid|  home_improvement|    Home improvement|2024-02-07 03:31:...|\n",
       "+--------+--------------------+-----------+-------------+----------------+-------------+-------------------+----------+-----------+------------------+--------------------+--------------------+\n",
       "only showing top 20 rows"
      ]
     },
     "execution_count": 80,
     "metadata": {},
     "output_type": "execute_result"
    }
   ],
   "source": [
    "loans_df_ingestd"
   ]
  },
  {
   "cell_type": "code",
   "execution_count": 0,
   "metadata": {
    "application/vnd.databricks.v1+cell": {
     "cellMetadata": {},
     "inputWidgets": {},
     "nuid": "35eab72f-3851-44ff-801f-fe1dfa450f9e",
     "showTitle": false,
     "title": ""
    }
   },
   "outputs": [],
   "source": [
    "loans_df_ingestd.createOrReplaceTempView(\"loans\")"
   ]
  },
  {
   "cell_type": "code",
   "execution_count": 0,
   "metadata": {
    "application/vnd.databricks.v1+cell": {
     "cellMetadata": {},
     "inputWidgets": {},
     "nuid": "6b850528-b037-4cb6-ac3f-b10b633d9a50",
     "showTitle": false,
     "title": ""
    }
   },
   "outputs": [
    {
     "output_type": "execute_result",
     "data": {
      "text/html": [
       "<table border='1'>\n",
       "<tr><th>count(1)</th></tr>\n",
       "<tr><td>2260701</td></tr>\n",
       "</table>\n"
      ],
      "text/plain": [
       "+--------+\n",
       "|count(1)|\n",
       "+--------+\n",
       "| 2260701|\n",
       "+--------+"
      ]
     },
     "execution_count": 82,
     "metadata": {},
     "output_type": "execute_result"
    }
   ],
   "source": [
    "spark.sql(\"select count(*) from loans\")"
   ]
  },
  {
   "cell_type": "code",
   "execution_count": 0,
   "metadata": {
    "application/vnd.databricks.v1+cell": {
     "cellMetadata": {},
     "inputWidgets": {},
     "nuid": "72fc3781-8292-49bb-8065-c957f64fb69d",
     "showTitle": false,
     "title": ""
    }
   },
   "outputs": [
    {
     "output_type": "execute_result",
     "data": {
      "text/html": [
       "<table border='1'>\n",
       "<tr><th>loan_id</th><th>member_id</th><th>loan_amount</th><th>funded_amount</th><th>loan_term_months</th><th>interest_rate</th><th>monthly_installment</th><th>issue_date</th><th>loan_status</th><th>loan_purpose</th><th>loan_title</th><th>ingest_date</th></tr>\n",
       "<tr><td>Total amount fund...</td><td>e3b0c44298fc1c149...</td><td>null</td><td>null</td><td>null</td><td>null</td><td>null</td><td>null</td><td>null</td><td>null</td><td>null</td><td>2024-02-07 03:31:...</td></tr>\n",
       "<tr><td>Total amount fund...</td><td>e3b0c44298fc1c149...</td><td>null</td><td>null</td><td>null</td><td>null</td><td>null</td><td>null</td><td>null</td><td>null</td><td>null</td><td>2024-02-07 03:31:...</td></tr>\n",
       "<tr><td>Total amount fund...</td><td>e3b0c44298fc1c149...</td><td>null</td><td>null</td><td>null</td><td>null</td><td>null</td><td>null</td><td>null</td><td>null</td><td>null</td><td>2024-02-07 03:31:...</td></tr>\n",
       "<tr><td>Total amount fund...</td><td>e3b0c44298fc1c149...</td><td>null</td><td>null</td><td>null</td><td>null</td><td>null</td><td>null</td><td>null</td><td>null</td><td>null</td><td>2024-02-07 03:31:...</td></tr>\n",
       "<tr><td>Total amount fund...</td><td>e3b0c44298fc1c149...</td><td>null</td><td>null</td><td>null</td><td>null</td><td>null</td><td>null</td><td>null</td><td>null</td><td>null</td><td>2024-02-07 03:31:...</td></tr>\n",
       "<tr><td>Total amount fund...</td><td>e3b0c44298fc1c149...</td><td>null</td><td>null</td><td>null</td><td>null</td><td>null</td><td>null</td><td>null</td><td>null</td><td>null</td><td>2024-02-07 03:31:...</td></tr>\n",
       "<tr><td>Total amount fund...</td><td>e3b0c44298fc1c149...</td><td>null</td><td>null</td><td>null</td><td>null</td><td>null</td><td>null</td><td>null</td><td>null</td><td>null</td><td>2024-02-07 03:31:...</td></tr>\n",
       "<tr><td>Total amount fund...</td><td>e3b0c44298fc1c149...</td><td>null</td><td>null</td><td>null</td><td>null</td><td>null</td><td>null</td><td>null</td><td>null</td><td>null</td><td>2024-02-07 03:31:...</td></tr>\n",
       "<tr><td>Total amount fund...</td><td>e3b0c44298fc1c149...</td><td>null</td><td>null</td><td>null</td><td>null</td><td>null</td><td>null</td><td>null</td><td>null</td><td>null</td><td>2024-02-07 03:31:...</td></tr>\n",
       "<tr><td>Total amount fund...</td><td>e3b0c44298fc1c149...</td><td>null</td><td>null</td><td>null</td><td>null</td><td>null</td><td>null</td><td>null</td><td>null</td><td>null</td><td>2024-02-07 03:31:...</td></tr>\n",
       "<tr><td>Total amount fund...</td><td>e3b0c44298fc1c149...</td><td>null</td><td>null</td><td>null</td><td>null</td><td>null</td><td>null</td><td>null</td><td>null</td><td>null</td><td>2024-02-07 03:31:...</td></tr>\n",
       "<tr><td>Total amount fund...</td><td>e3b0c44298fc1c149...</td><td>null</td><td>null</td><td>null</td><td>null</td><td>null</td><td>null</td><td>null</td><td>null</td><td>null</td><td>2024-02-07 03:31:...</td></tr>\n",
       "<tr><td>Total amount fund...</td><td>e3b0c44298fc1c149...</td><td>null</td><td>null</td><td>null</td><td>null</td><td>null</td><td>null</td><td>null</td><td>null</td><td>null</td><td>2024-02-07 03:31:...</td></tr>\n",
       "<tr><td>Total amount fund...</td><td>e3b0c44298fc1c149...</td><td>null</td><td>null</td><td>null</td><td>null</td><td>null</td><td>null</td><td>null</td><td>null</td><td>null</td><td>2024-02-07 03:31:...</td></tr>\n",
       "<tr><td>Total amount fund...</td><td>e3b0c44298fc1c149...</td><td>null</td><td>null</td><td>null</td><td>null</td><td>null</td><td>null</td><td>null</td><td>null</td><td>null</td><td>2024-02-07 03:31:...</td></tr>\n",
       "<tr><td>Total amount fund...</td><td>e3b0c44298fc1c149...</td><td>null</td><td>null</td><td>null</td><td>null</td><td>null</td><td>null</td><td>null</td><td>null</td><td>null</td><td>2024-02-07 03:31:...</td></tr>\n",
       "<tr><td>Loans that do not...</td><td>e3b0c44298fc1c149...</td><td>null</td><td>null</td><td>null</td><td>null</td><td>null</td><td>null</td><td>null</td><td>null</td><td>null</td><td>2024-02-07 03:31:...</td></tr>\n",
       "<tr><td>Total amount fund...</td><td>e3b0c44298fc1c149...</td><td>null</td><td>null</td><td>null</td><td>null</td><td>null</td><td>null</td><td>null</td><td>null</td><td>null</td><td>2024-02-07 03:31:...</td></tr>\n",
       "<tr><td>Total amount fund...</td><td>e3b0c44298fc1c149...</td><td>null</td><td>null</td><td>null</td><td>null</td><td>null</td><td>null</td><td>null</td><td>null</td><td>null</td><td>2024-02-07 03:31:...</td></tr>\n",
       "<tr><td>Total amount fund...</td><td>e3b0c44298fc1c149...</td><td>null</td><td>null</td><td>null</td><td>null</td><td>null</td><td>null</td><td>null</td><td>null</td><td>null</td><td>2024-02-07 03:31:...</td></tr>\n",
       "</table>\n",
       "only showing top 20 rows\n"
      ],
      "text/plain": [
       "+--------------------+--------------------+-----------+-------------+----------------+-------------+-------------------+----------+-----------+------------+----------+--------------------+\n",
       "|             loan_id|           member_id|loan_amount|funded_amount|loan_term_months|interest_rate|monthly_installment|issue_date|loan_status|loan_purpose|loan_title|         ingest_date|\n",
       "+--------------------+--------------------+-----------+-------------+----------------+-------------+-------------------+----------+-----------+------------+----------+--------------------+\n",
       "|Total amount fund...|e3b0c44298fc1c149...|       null|         null|            null|         null|               null|      null|       null|        null|      null|2024-02-07 03:31:...|\n",
       "|Total amount fund...|e3b0c44298fc1c149...|       null|         null|            null|         null|               null|      null|       null|        null|      null|2024-02-07 03:31:...|\n",
       "|Total amount fund...|e3b0c44298fc1c149...|       null|         null|            null|         null|               null|      null|       null|        null|      null|2024-02-07 03:31:...|\n",
       "|Total amount fund...|e3b0c44298fc1c149...|       null|         null|            null|         null|               null|      null|       null|        null|      null|2024-02-07 03:31:...|\n",
       "|Total amount fund...|e3b0c44298fc1c149...|       null|         null|            null|         null|               null|      null|       null|        null|      null|2024-02-07 03:31:...|\n",
       "|Total amount fund...|e3b0c44298fc1c149...|       null|         null|            null|         null|               null|      null|       null|        null|      null|2024-02-07 03:31:...|\n",
       "|Total amount fund...|e3b0c44298fc1c149...|       null|         null|            null|         null|               null|      null|       null|        null|      null|2024-02-07 03:31:...|\n",
       "|Total amount fund...|e3b0c44298fc1c149...|       null|         null|            null|         null|               null|      null|       null|        null|      null|2024-02-07 03:31:...|\n",
       "|Total amount fund...|e3b0c44298fc1c149...|       null|         null|            null|         null|               null|      null|       null|        null|      null|2024-02-07 03:31:...|\n",
       "|Total amount fund...|e3b0c44298fc1c149...|       null|         null|            null|         null|               null|      null|       null|        null|      null|2024-02-07 03:31:...|\n",
       "|Total amount fund...|e3b0c44298fc1c149...|       null|         null|            null|         null|               null|      null|       null|        null|      null|2024-02-07 03:31:...|\n",
       "|Total amount fund...|e3b0c44298fc1c149...|       null|         null|            null|         null|               null|      null|       null|        null|      null|2024-02-07 03:31:...|\n",
       "|Total amount fund...|e3b0c44298fc1c149...|       null|         null|            null|         null|               null|      null|       null|        null|      null|2024-02-07 03:31:...|\n",
       "|Total amount fund...|e3b0c44298fc1c149...|       null|         null|            null|         null|               null|      null|       null|        null|      null|2024-02-07 03:31:...|\n",
       "|Total amount fund...|e3b0c44298fc1c149...|       null|         null|            null|         null|               null|      null|       null|        null|      null|2024-02-07 03:31:...|\n",
       "|Total amount fund...|e3b0c44298fc1c149...|       null|         null|            null|         null|               null|      null|       null|        null|      null|2024-02-07 03:31:...|\n",
       "|Loans that do not...|e3b0c44298fc1c149...|       null|         null|            null|         null|               null|      null|       null|        null|      null|2024-02-07 03:31:...|\n",
       "|Total amount fund...|e3b0c44298fc1c149...|       null|         null|            null|         null|               null|      null|       null|        null|      null|2024-02-07 03:31:...|\n",
       "|Total amount fund...|e3b0c44298fc1c149...|       null|         null|            null|         null|               null|      null|       null|        null|      null|2024-02-07 03:31:...|\n",
       "|Total amount fund...|e3b0c44298fc1c149...|       null|         null|            null|         null|               null|      null|       null|        null|      null|2024-02-07 03:31:...|\n",
       "+--------------------+--------------------+-----------+-------------+----------------+-------------+-------------------+----------+-----------+------------+----------+--------------------+\n",
       "only showing top 20 rows"
      ]
     },
     "execution_count": 83,
     "metadata": {},
     "output_type": "execute_result"
    }
   ],
   "source": [
    "spark.sql(\"select * from loans where loan_amount is null\")"
   ]
  },
  {
   "cell_type": "code",
   "execution_count": 0,
   "metadata": {
    "application/vnd.databricks.v1+cell": {
     "cellMetadata": {},
     "inputWidgets": {},
     "nuid": "597a2a9f-7157-4638-9bea-c8a2542baf74",
     "showTitle": false,
     "title": ""
    }
   },
   "outputs": [
    {
     "output_type": "execute_result",
     "data": {
      "text/html": [
       "<table border='1'>\n",
       "<tr><th>count(1)</th></tr>\n",
       "<tr><td>33</td></tr>\n",
       "</table>\n"
      ],
      "text/plain": [
       "+--------+\n",
       "|count(1)|\n",
       "+--------+\n",
       "|      33|\n",
       "+--------+"
      ]
     },
     "execution_count": 84,
     "metadata": {},
     "output_type": "execute_result"
    }
   ],
   "source": [
    "spark.sql(\"select count(*) from loans where loan_amount is null\")"
   ]
  },
  {
   "cell_type": "markdown",
   "metadata": {
    "application/vnd.databricks.v1+cell": {
     "cellMetadata": {},
     "inputWidgets": {},
     "nuid": "65ec952b-6135-43d3-981f-ebe566879dbb",
     "showTitle": false,
     "title": ""
    }
   },
   "source": [
    "#### 3. Dropping the rows which has null values in the mentioned columns\n",
    "We are dropping these rows because rows with null values in these column are meaningless to our analysis"
   ]
  },
  {
   "cell_type": "code",
   "execution_count": 0,
   "metadata": {
    "application/vnd.databricks.v1+cell": {
     "cellMetadata": {},
     "inputWidgets": {},
     "nuid": "c4dd7e7b-066f-4a3c-84f3-8cc9a400f113",
     "showTitle": false,
     "title": ""
    }
   },
   "outputs": [],
   "source": [
    "columns_to_check = [\"loan_amount\", \"funded_amount\", \"loan_term_months\", \"interest_rate\", \"monthly_installment\", \"issue_date\", \"loan_status\", \"loan_purpose\"]"
   ]
  },
  {
   "cell_type": "code",
   "execution_count": 0,
   "metadata": {
    "application/vnd.databricks.v1+cell": {
     "cellMetadata": {},
     "inputWidgets": {},
     "nuid": "87482cff-578f-4949-beee-d63f9f5dc134",
     "showTitle": false,
     "title": ""
    }
   },
   "outputs": [],
   "source": [
    "loans_filtered_df = loans_df_ingestd.na.drop(subset=columns_to_check)"
   ]
  },
  {
   "cell_type": "code",
   "execution_count": 0,
   "metadata": {
    "application/vnd.databricks.v1+cell": {
     "cellMetadata": {},
     "inputWidgets": {},
     "nuid": "1c2e03b0-86b8-4a26-930d-172eccaedb8b",
     "showTitle": false,
     "title": ""
    }
   },
   "outputs": [
    {
     "output_type": "execute_result",
     "data": {
      "text/plain": [
       "2260667"
      ]
     },
     "execution_count": 87,
     "metadata": {},
     "output_type": "execute_result"
    }
   ],
   "source": [
    "loans_filtered_df.count()"
   ]
  },
  {
   "cell_type": "code",
   "execution_count": 0,
   "metadata": {
    "application/vnd.databricks.v1+cell": {
     "cellMetadata": {},
     "inputWidgets": {},
     "nuid": "8e0a6ac2-355e-468b-8ba7-30e37d581347",
     "showTitle": false,
     "title": ""
    }
   },
   "outputs": [
    {
     "output_type": "execute_result",
     "data": {
      "text/plain": [
       "34"
      ]
     },
     "execution_count": 88,
     "metadata": {},
     "output_type": "execute_result"
    }
   ],
   "source": [
    "2260701 - 2260667"
   ]
  },
  {
   "cell_type": "code",
   "execution_count": 0,
   "metadata": {
    "application/vnd.databricks.v1+cell": {
     "cellMetadata": {},
     "inputWidgets": {},
     "nuid": "cd525869-8d5c-4bcf-acf4-5ae2bd35d0ee",
     "showTitle": false,
     "title": ""
    }
   },
   "outputs": [],
   "source": [
    "loans_filtered_df.createOrReplaceTempView(\"loans\")"
   ]
  },
  {
   "cell_type": "code",
   "execution_count": 0,
   "metadata": {
    "application/vnd.databricks.v1+cell": {
     "cellMetadata": {},
     "inputWidgets": {},
     "nuid": "80b6748f-3b8d-442b-ada8-e040aabeef89",
     "showTitle": false,
     "title": ""
    }
   },
   "outputs": [
    {
     "output_type": "execute_result",
     "data": {
      "text/html": [
       "<table border='1'>\n",
       "<tr><th>loan_id</th><th>member_id</th><th>loan_amount</th><th>funded_amount</th><th>loan_term_months</th><th>interest_rate</th><th>monthly_installment</th><th>issue_date</th><th>loan_status</th><th>loan_purpose</th><th>loan_title</th><th>ingest_date</th></tr>\n",
       "<tr><td>14408468</td><td>5d7676571dee53d06...</td><td>5000.0</td><td>5000.0</td><td>36 months</td><td>14.16</td><td>171.28</td><td>Apr-2014</td><td>Fully Paid</td><td>debt_consolidation</td><td>Debt consolidation</td><td>2024-02-07 03:32:...</td></tr>\n",
       "<tr><td>14520567</td><td>31fd1ef036c5caf26...</td><td>11000.0</td><td>11000.0</td><td>36 months</td><td>9.67</td><td>353.24</td><td>Apr-2014</td><td>Fully Paid</td><td>other</td><td>Other</td><td>2024-02-07 03:32:...</td></tr>\n",
       "<tr><td>14708730</td><td>9b48253ca5848fa78...</td><td>25000.0</td><td>25000.0</td><td>36 months</td><td>11.99</td><td>830.24</td><td>May-2014</td><td>Charged Off</td><td>credit_card</td><td>Credit card refin...</td><td>2024-02-07 03:32:...</td></tr>\n",
       "<tr><td>14491003</td><td>d6b8f2e32be148721...</td><td>1500.0</td><td>1500.0</td><td>36 months</td><td>23.43</td><td>58.41</td><td>Apr-2014</td><td>Fully Paid</td><td>renewable_energy</td><td>Green loan</td><td>2024-02-07 03:32:...</td></tr>\n",
       "<tr><td>14510981</td><td>0a81ad556e20bcdb9...</td><td>10000.0</td><td>10000.0</td><td>36 months</td><td>12.99</td><td>336.9</td><td>Apr-2014</td><td>Fully Paid</td><td>debt_consolidation</td><td>Debt consolidation</td><td>2024-02-07 03:32:...</td></tr>\n",
       "<tr><td>14177845</td><td>843b995d39160ddab...</td><td>13200.0</td><td>13200.0</td><td>60 months</td><td>12.99</td><td>300.28</td><td>Apr-2014</td><td>Charged Off</td><td>debt_consolidation</td><td>Debt consolidation</td><td>2024-02-07 03:32:...</td></tr>\n",
       "<tr><td>13947687</td><td>04a8bd7c4e1407ba8...</td><td>10000.0</td><td>10000.0</td><td>60 months</td><td>17.57</td><td>251.61</td><td>Apr-2014</td><td>Fully Paid</td><td>other</td><td>Other</td><td>2024-02-07 03:32:...</td></tr>\n",
       "<tr><td>12905731</td><td>3e9a89fa96988af68...</td><td>18000.0</td><td>18000.0</td><td>36 months</td><td>18.25</td><td>653.01</td><td>May-2014</td><td>Fully Paid</td><td>home_improvement</td><td>Home improvement</td><td>2024-02-07 03:32:...</td></tr>\n",
       "<tr><td>14137736</td><td>394a8db0bd3bcf7de...</td><td>12000.0</td><td>12000.0</td><td>36 months</td><td>9.67</td><td>385.35</td><td>Apr-2014</td><td>Fully Paid</td><td>debt_consolidation</td><td>Debt consolidation</td><td>2024-02-07 03:32:...</td></tr>\n",
       "<tr><td>13207083</td><td>09cea8d2b6f1272f7...</td><td>3200.0</td><td>3200.0</td><td>36 months</td><td>20.49</td><td>119.73</td><td>Apr-2014</td><td>Fully Paid</td><td>credit_card</td><td>Credit card refin...</td><td>2024-02-07 03:32:...</td></tr>\n",
       "<tr><td>9005163</td><td>bc13b4bf12b2fb93f...</td><td>19800.0</td><td>19800.0</td><td>60 months</td><td>15.61</td><td>477.41</td><td>Apr-2014</td><td>Current</td><td>debt_consolidation</td><td>Debt consolidation</td><td>2024-02-07 03:32:...</td></tr>\n",
       "<tr><td>14008700</td><td>dcc3cce84164a1a4f...</td><td>14150.0</td><td>14150.0</td><td>60 months</td><td>16.59</td><td>348.56</td><td>Apr-2014</td><td>Current</td><td>credit_card</td><td>Credit card refin...</td><td>2024-02-07 03:32:...</td></tr>\n",
       "<tr><td>13107355</td><td>a8c2898592c8c34ea...</td><td>11850.0</td><td>11850.0</td><td>36 months</td><td>20.49</td><td>443.36</td><td>Apr-2014</td><td>Fully Paid</td><td>debt_consolidation</td><td>Debt consolidation</td><td>2024-02-07 03:32:...</td></tr>\n",
       "<tr><td>14288329</td><td>2ab161847c8ce1f3e...</td><td>25000.0</td><td>25000.0</td><td>60 months</td><td>21.99</td><td>690.34</td><td>Apr-2014</td><td>Fully Paid</td><td>debt_consolidation</td><td>Debt consolidation</td><td>2024-02-07 03:32:...</td></tr>\n",
       "<tr><td>14308144</td><td>9886b3db401c1d460...</td><td>15000.0</td><td>15000.0</td><td>60 months</td><td>15.61</td><td>361.67</td><td>Apr-2014</td><td>Fully Paid</td><td>major_purchase</td><td>Major purchase</td><td>2024-02-07 03:32:...</td></tr>\n",
       "<tr><td>14009407</td><td>7b62e3c918a7f9eb8...</td><td>9625.0</td><td>9625.0</td><td>36 months</td><td>13.65</td><td>327.33</td><td>Apr-2014</td><td>Fully Paid</td><td>credit_card</td><td>Credit card refin...</td><td>2024-02-07 03:32:...</td></tr>\n",
       "<tr><td>6583213</td><td>698b533486c4900d4...</td><td>17500.0</td><td>17500.0</td><td>36 months</td><td>9.67</td><td>561.97</td><td>Apr-2014</td><td>Fully Paid</td><td>debt_consolidation</td><td>Debt consolidation</td><td>2024-02-07 03:32:...</td></tr>\n",
       "<tr><td>12597061</td><td>0b07196bd0485e4c2...</td><td>7700.0</td><td>7700.0</td><td>36 months</td><td>12.99</td><td>259.41</td><td>Apr-2014</td><td>Fully Paid</td><td>debt_consolidation</td><td>Debt consolidation</td><td>2024-02-07 03:32:...</td></tr>\n",
       "<tr><td>12468587</td><td>92e61f312d73c874d...</td><td>3600.0</td><td>3600.0</td><td>36 months</td><td>22.45</td><td>138.33</td><td>Apr-2014</td><td>Fully Paid</td><td>debt_consolidation</td><td>Debt consolidation</td><td>2024-02-07 03:32:...</td></tr>\n",
       "<tr><td>12486035</td><td>a2eb7934b6490e443...</td><td>14250.0</td><td>14250.0</td><td>60 months</td><td>21.99</td><td>393.49</td><td>Apr-2014</td><td>Fully Paid</td><td>home_improvement</td><td>Home improvement</td><td>2024-02-07 03:32:...</td></tr>\n",
       "</table>\n",
       "only showing top 20 rows\n"
      ],
      "text/plain": [
       "+--------+--------------------+-----------+-------------+----------------+-------------+-------------------+----------+-----------+------------------+--------------------+--------------------+\n",
       "| loan_id|           member_id|loan_amount|funded_amount|loan_term_months|interest_rate|monthly_installment|issue_date|loan_status|      loan_purpose|          loan_title|         ingest_date|\n",
       "+--------+--------------------+-----------+-------------+----------------+-------------+-------------------+----------+-----------+------------------+--------------------+--------------------+\n",
       "|14408468|5d7676571dee53d06...|     5000.0|       5000.0|       36 months|        14.16|             171.28|  Apr-2014| Fully Paid|debt_consolidation|  Debt consolidation|2024-02-07 03:32:...|\n",
       "|14520567|31fd1ef036c5caf26...|    11000.0|      11000.0|       36 months|         9.67|             353.24|  Apr-2014| Fully Paid|             other|               Other|2024-02-07 03:32:...|\n",
       "|14708730|9b48253ca5848fa78...|    25000.0|      25000.0|       36 months|        11.99|             830.24|  May-2014|Charged Off|       credit_card|Credit card refin...|2024-02-07 03:32:...|\n",
       "|14491003|d6b8f2e32be148721...|     1500.0|       1500.0|       36 months|        23.43|              58.41|  Apr-2014| Fully Paid|  renewable_energy|          Green loan|2024-02-07 03:32:...|\n",
       "|14510981|0a81ad556e20bcdb9...|    10000.0|      10000.0|       36 months|        12.99|              336.9|  Apr-2014| Fully Paid|debt_consolidation|  Debt consolidation|2024-02-07 03:32:...|\n",
       "|14177845|843b995d39160ddab...|    13200.0|      13200.0|       60 months|        12.99|             300.28|  Apr-2014|Charged Off|debt_consolidation|  Debt consolidation|2024-02-07 03:32:...|\n",
       "|13947687|04a8bd7c4e1407ba8...|    10000.0|      10000.0|       60 months|        17.57|             251.61|  Apr-2014| Fully Paid|             other|               Other|2024-02-07 03:32:...|\n",
       "|12905731|3e9a89fa96988af68...|    18000.0|      18000.0|       36 months|        18.25|             653.01|  May-2014| Fully Paid|  home_improvement|    Home improvement|2024-02-07 03:32:...|\n",
       "|14137736|394a8db0bd3bcf7de...|    12000.0|      12000.0|       36 months|         9.67|             385.35|  Apr-2014| Fully Paid|debt_consolidation|  Debt consolidation|2024-02-07 03:32:...|\n",
       "|13207083|09cea8d2b6f1272f7...|     3200.0|       3200.0|       36 months|        20.49|             119.73|  Apr-2014| Fully Paid|       credit_card|Credit card refin...|2024-02-07 03:32:...|\n",
       "| 9005163|bc13b4bf12b2fb93f...|    19800.0|      19800.0|       60 months|        15.61|             477.41|  Apr-2014|    Current|debt_consolidation|  Debt consolidation|2024-02-07 03:32:...|\n",
       "|14008700|dcc3cce84164a1a4f...|    14150.0|      14150.0|       60 months|        16.59|             348.56|  Apr-2014|    Current|       credit_card|Credit card refin...|2024-02-07 03:32:...|\n",
       "|13107355|a8c2898592c8c34ea...|    11850.0|      11850.0|       36 months|        20.49|             443.36|  Apr-2014| Fully Paid|debt_consolidation|  Debt consolidation|2024-02-07 03:32:...|\n",
       "|14288329|2ab161847c8ce1f3e...|    25000.0|      25000.0|       60 months|        21.99|             690.34|  Apr-2014| Fully Paid|debt_consolidation|  Debt consolidation|2024-02-07 03:32:...|\n",
       "|14308144|9886b3db401c1d460...|    15000.0|      15000.0|       60 months|        15.61|             361.67|  Apr-2014| Fully Paid|    major_purchase|      Major purchase|2024-02-07 03:32:...|\n",
       "|14009407|7b62e3c918a7f9eb8...|     9625.0|       9625.0|       36 months|        13.65|             327.33|  Apr-2014| Fully Paid|       credit_card|Credit card refin...|2024-02-07 03:32:...|\n",
       "| 6583213|698b533486c4900d4...|    17500.0|      17500.0|       36 months|         9.67|             561.97|  Apr-2014| Fully Paid|debt_consolidation|  Debt consolidation|2024-02-07 03:32:...|\n",
       "|12597061|0b07196bd0485e4c2...|     7700.0|       7700.0|       36 months|        12.99|             259.41|  Apr-2014| Fully Paid|debt_consolidation|  Debt consolidation|2024-02-07 03:32:...|\n",
       "|12468587|92e61f312d73c874d...|     3600.0|       3600.0|       36 months|        22.45|             138.33|  Apr-2014| Fully Paid|debt_consolidation|  Debt consolidation|2024-02-07 03:32:...|\n",
       "|12486035|a2eb7934b6490e443...|    14250.0|      14250.0|       60 months|        21.99|             393.49|  Apr-2014| Fully Paid|  home_improvement|    Home improvement|2024-02-07 03:32:...|\n",
       "+--------+--------------------+-----------+-------------+----------------+-------------+-------------------+----------+-----------+------------------+--------------------+--------------------+\n",
       "only showing top 20 rows"
      ]
     },
     "execution_count": 90,
     "metadata": {},
     "output_type": "execute_result"
    }
   ],
   "source": [
    "loans_filtered_df"
   ]
  },
  {
   "cell_type": "markdown",
   "metadata": {
    "application/vnd.databricks.v1+cell": {
     "cellMetadata": {},
     "inputWidgets": {},
     "nuid": "81bf3364-3ff8-4cb0-8b93-8276c40c576d",
     "showTitle": false,
     "title": ""
    }
   },
   "source": [
    "#### 4. convert loan_term_months to integer"
   ]
  },
  {
   "cell_type": "code",
   "execution_count": 0,
   "metadata": {
    "application/vnd.databricks.v1+cell": {
     "cellMetadata": {},
     "inputWidgets": {},
     "nuid": "96b5b15e-3096-463d-83d8-1dabd29624a9",
     "showTitle": false,
     "title": ""
    }
   },
   "outputs": [],
   "source": [
    "from pyspark.sql.functions import regexp_replace, col"
   ]
  },
  {
   "cell_type": "code",
   "execution_count": 0,
   "metadata": {
    "application/vnd.databricks.v1+cell": {
     "cellMetadata": {},
     "inputWidgets": {},
     "nuid": "9ea34c31-51b4-4fe6-aa92-182600978772",
     "showTitle": false,
     "title": ""
    }
   },
   "outputs": [],
   "source": [
    "loans_term_modified_df = loans_filtered_df.withColumn(\"loan_term_months\", (regexp_replace(col(\"loan_term_months\"), \" months\", \"\") \\\n",
    ".cast(\"int\") / 12) \\\n",
    ".cast(\"int\")) \\\n",
    ".withColumnRenamed(\"loan_term_months\",\"loan_term_years\")"
   ]
  },
  {
   "cell_type": "code",
   "execution_count": 0,
   "metadata": {
    "application/vnd.databricks.v1+cell": {
     "cellMetadata": {},
     "inputWidgets": {},
     "nuid": "1ae7194a-c1a8-4e56-b96a-290173af39a2",
     "showTitle": false,
     "title": ""
    }
   },
   "outputs": [
    {
     "output_type": "execute_result",
     "data": {
      "text/html": [
       "<table border='1'>\n",
       "<tr><th>loan_id</th><th>member_id</th><th>loan_amount</th><th>funded_amount</th><th>loan_term_years</th><th>interest_rate</th><th>monthly_installment</th><th>issue_date</th><th>loan_status</th><th>loan_purpose</th><th>loan_title</th><th>ingest_date</th></tr>\n",
       "<tr><td>14408468</td><td>5d7676571dee53d06...</td><td>5000.0</td><td>5000.0</td><td>3</td><td>14.16</td><td>171.28</td><td>Apr-2014</td><td>Fully Paid</td><td>debt_consolidation</td><td>Debt consolidation</td><td>2024-02-07 03:40:...</td></tr>\n",
       "<tr><td>14520567</td><td>31fd1ef036c5caf26...</td><td>11000.0</td><td>11000.0</td><td>3</td><td>9.67</td><td>353.24</td><td>Apr-2014</td><td>Fully Paid</td><td>other</td><td>Other</td><td>2024-02-07 03:40:...</td></tr>\n",
       "<tr><td>14708730</td><td>9b48253ca5848fa78...</td><td>25000.0</td><td>25000.0</td><td>3</td><td>11.99</td><td>830.24</td><td>May-2014</td><td>Charged Off</td><td>credit_card</td><td>Credit card refin...</td><td>2024-02-07 03:40:...</td></tr>\n",
       "<tr><td>14491003</td><td>d6b8f2e32be148721...</td><td>1500.0</td><td>1500.0</td><td>3</td><td>23.43</td><td>58.41</td><td>Apr-2014</td><td>Fully Paid</td><td>renewable_energy</td><td>Green loan</td><td>2024-02-07 03:40:...</td></tr>\n",
       "<tr><td>14510981</td><td>0a81ad556e20bcdb9...</td><td>10000.0</td><td>10000.0</td><td>3</td><td>12.99</td><td>336.9</td><td>Apr-2014</td><td>Fully Paid</td><td>debt_consolidation</td><td>Debt consolidation</td><td>2024-02-07 03:40:...</td></tr>\n",
       "<tr><td>14177845</td><td>843b995d39160ddab...</td><td>13200.0</td><td>13200.0</td><td>5</td><td>12.99</td><td>300.28</td><td>Apr-2014</td><td>Charged Off</td><td>debt_consolidation</td><td>Debt consolidation</td><td>2024-02-07 03:40:...</td></tr>\n",
       "<tr><td>13947687</td><td>04a8bd7c4e1407ba8...</td><td>10000.0</td><td>10000.0</td><td>5</td><td>17.57</td><td>251.61</td><td>Apr-2014</td><td>Fully Paid</td><td>other</td><td>Other</td><td>2024-02-07 03:40:...</td></tr>\n",
       "<tr><td>12905731</td><td>3e9a89fa96988af68...</td><td>18000.0</td><td>18000.0</td><td>3</td><td>18.25</td><td>653.01</td><td>May-2014</td><td>Fully Paid</td><td>home_improvement</td><td>Home improvement</td><td>2024-02-07 03:40:...</td></tr>\n",
       "<tr><td>14137736</td><td>394a8db0bd3bcf7de...</td><td>12000.0</td><td>12000.0</td><td>3</td><td>9.67</td><td>385.35</td><td>Apr-2014</td><td>Fully Paid</td><td>debt_consolidation</td><td>Debt consolidation</td><td>2024-02-07 03:40:...</td></tr>\n",
       "<tr><td>13207083</td><td>09cea8d2b6f1272f7...</td><td>3200.0</td><td>3200.0</td><td>3</td><td>20.49</td><td>119.73</td><td>Apr-2014</td><td>Fully Paid</td><td>credit_card</td><td>Credit card refin...</td><td>2024-02-07 03:40:...</td></tr>\n",
       "<tr><td>9005163</td><td>bc13b4bf12b2fb93f...</td><td>19800.0</td><td>19800.0</td><td>5</td><td>15.61</td><td>477.41</td><td>Apr-2014</td><td>Current</td><td>debt_consolidation</td><td>Debt consolidation</td><td>2024-02-07 03:40:...</td></tr>\n",
       "<tr><td>14008700</td><td>dcc3cce84164a1a4f...</td><td>14150.0</td><td>14150.0</td><td>5</td><td>16.59</td><td>348.56</td><td>Apr-2014</td><td>Current</td><td>credit_card</td><td>Credit card refin...</td><td>2024-02-07 03:40:...</td></tr>\n",
       "<tr><td>13107355</td><td>a8c2898592c8c34ea...</td><td>11850.0</td><td>11850.0</td><td>3</td><td>20.49</td><td>443.36</td><td>Apr-2014</td><td>Fully Paid</td><td>debt_consolidation</td><td>Debt consolidation</td><td>2024-02-07 03:40:...</td></tr>\n",
       "<tr><td>14288329</td><td>2ab161847c8ce1f3e...</td><td>25000.0</td><td>25000.0</td><td>5</td><td>21.99</td><td>690.34</td><td>Apr-2014</td><td>Fully Paid</td><td>debt_consolidation</td><td>Debt consolidation</td><td>2024-02-07 03:40:...</td></tr>\n",
       "<tr><td>14308144</td><td>9886b3db401c1d460...</td><td>15000.0</td><td>15000.0</td><td>5</td><td>15.61</td><td>361.67</td><td>Apr-2014</td><td>Fully Paid</td><td>major_purchase</td><td>Major purchase</td><td>2024-02-07 03:40:...</td></tr>\n",
       "<tr><td>14009407</td><td>7b62e3c918a7f9eb8...</td><td>9625.0</td><td>9625.0</td><td>3</td><td>13.65</td><td>327.33</td><td>Apr-2014</td><td>Fully Paid</td><td>credit_card</td><td>Credit card refin...</td><td>2024-02-07 03:40:...</td></tr>\n",
       "<tr><td>6583213</td><td>698b533486c4900d4...</td><td>17500.0</td><td>17500.0</td><td>3</td><td>9.67</td><td>561.97</td><td>Apr-2014</td><td>Fully Paid</td><td>debt_consolidation</td><td>Debt consolidation</td><td>2024-02-07 03:40:...</td></tr>\n",
       "<tr><td>12597061</td><td>0b07196bd0485e4c2...</td><td>7700.0</td><td>7700.0</td><td>3</td><td>12.99</td><td>259.41</td><td>Apr-2014</td><td>Fully Paid</td><td>debt_consolidation</td><td>Debt consolidation</td><td>2024-02-07 03:40:...</td></tr>\n",
       "<tr><td>12468587</td><td>92e61f312d73c874d...</td><td>3600.0</td><td>3600.0</td><td>3</td><td>22.45</td><td>138.33</td><td>Apr-2014</td><td>Fully Paid</td><td>debt_consolidation</td><td>Debt consolidation</td><td>2024-02-07 03:40:...</td></tr>\n",
       "<tr><td>12486035</td><td>a2eb7934b6490e443...</td><td>14250.0</td><td>14250.0</td><td>5</td><td>21.99</td><td>393.49</td><td>Apr-2014</td><td>Fully Paid</td><td>home_improvement</td><td>Home improvement</td><td>2024-02-07 03:40:...</td></tr>\n",
       "</table>\n",
       "only showing top 20 rows\n"
      ],
      "text/plain": [
       "+--------+--------------------+-----------+-------------+---------------+-------------+-------------------+----------+-----------+------------------+--------------------+--------------------+\n",
       "| loan_id|           member_id|loan_amount|funded_amount|loan_term_years|interest_rate|monthly_installment|issue_date|loan_status|      loan_purpose|          loan_title|         ingest_date|\n",
       "+--------+--------------------+-----------+-------------+---------------+-------------+-------------------+----------+-----------+------------------+--------------------+--------------------+\n",
       "|14408468|5d7676571dee53d06...|     5000.0|       5000.0|              3|        14.16|             171.28|  Apr-2014| Fully Paid|debt_consolidation|  Debt consolidation|2024-02-07 03:40:...|\n",
       "|14520567|31fd1ef036c5caf26...|    11000.0|      11000.0|              3|         9.67|             353.24|  Apr-2014| Fully Paid|             other|               Other|2024-02-07 03:40:...|\n",
       "|14708730|9b48253ca5848fa78...|    25000.0|      25000.0|              3|        11.99|             830.24|  May-2014|Charged Off|       credit_card|Credit card refin...|2024-02-07 03:40:...|\n",
       "|14491003|d6b8f2e32be148721...|     1500.0|       1500.0|              3|        23.43|              58.41|  Apr-2014| Fully Paid|  renewable_energy|          Green loan|2024-02-07 03:40:...|\n",
       "|14510981|0a81ad556e20bcdb9...|    10000.0|      10000.0|              3|        12.99|              336.9|  Apr-2014| Fully Paid|debt_consolidation|  Debt consolidation|2024-02-07 03:40:...|\n",
       "|14177845|843b995d39160ddab...|    13200.0|      13200.0|              5|        12.99|             300.28|  Apr-2014|Charged Off|debt_consolidation|  Debt consolidation|2024-02-07 03:40:...|\n",
       "|13947687|04a8bd7c4e1407ba8...|    10000.0|      10000.0|              5|        17.57|             251.61|  Apr-2014| Fully Paid|             other|               Other|2024-02-07 03:40:...|\n",
       "|12905731|3e9a89fa96988af68...|    18000.0|      18000.0|              3|        18.25|             653.01|  May-2014| Fully Paid|  home_improvement|    Home improvement|2024-02-07 03:40:...|\n",
       "|14137736|394a8db0bd3bcf7de...|    12000.0|      12000.0|              3|         9.67|             385.35|  Apr-2014| Fully Paid|debt_consolidation|  Debt consolidation|2024-02-07 03:40:...|\n",
       "|13207083|09cea8d2b6f1272f7...|     3200.0|       3200.0|              3|        20.49|             119.73|  Apr-2014| Fully Paid|       credit_card|Credit card refin...|2024-02-07 03:40:...|\n",
       "| 9005163|bc13b4bf12b2fb93f...|    19800.0|      19800.0|              5|        15.61|             477.41|  Apr-2014|    Current|debt_consolidation|  Debt consolidation|2024-02-07 03:40:...|\n",
       "|14008700|dcc3cce84164a1a4f...|    14150.0|      14150.0|              5|        16.59|             348.56|  Apr-2014|    Current|       credit_card|Credit card refin...|2024-02-07 03:40:...|\n",
       "|13107355|a8c2898592c8c34ea...|    11850.0|      11850.0|              3|        20.49|             443.36|  Apr-2014| Fully Paid|debt_consolidation|  Debt consolidation|2024-02-07 03:40:...|\n",
       "|14288329|2ab161847c8ce1f3e...|    25000.0|      25000.0|              5|        21.99|             690.34|  Apr-2014| Fully Paid|debt_consolidation|  Debt consolidation|2024-02-07 03:40:...|\n",
       "|14308144|9886b3db401c1d460...|    15000.0|      15000.0|              5|        15.61|             361.67|  Apr-2014| Fully Paid|    major_purchase|      Major purchase|2024-02-07 03:40:...|\n",
       "|14009407|7b62e3c918a7f9eb8...|     9625.0|       9625.0|              3|        13.65|             327.33|  Apr-2014| Fully Paid|       credit_card|Credit card refin...|2024-02-07 03:40:...|\n",
       "| 6583213|698b533486c4900d4...|    17500.0|      17500.0|              3|         9.67|             561.97|  Apr-2014| Fully Paid|debt_consolidation|  Debt consolidation|2024-02-07 03:40:...|\n",
       "|12597061|0b07196bd0485e4c2...|     7700.0|       7700.0|              3|        12.99|             259.41|  Apr-2014| Fully Paid|debt_consolidation|  Debt consolidation|2024-02-07 03:40:...|\n",
       "|12468587|92e61f312d73c874d...|     3600.0|       3600.0|              3|        22.45|             138.33|  Apr-2014| Fully Paid|debt_consolidation|  Debt consolidation|2024-02-07 03:40:...|\n",
       "|12486035|a2eb7934b6490e443...|    14250.0|      14250.0|              5|        21.99|             393.49|  Apr-2014| Fully Paid|  home_improvement|    Home improvement|2024-02-07 03:40:...|\n",
       "+--------+--------------------+-----------+-------------+---------------+-------------+-------------------+----------+-----------+------------------+--------------------+--------------------+\n",
       "only showing top 20 rows"
      ]
     },
     "execution_count": 93,
     "metadata": {},
     "output_type": "execute_result"
    }
   ],
   "source": [
    "loans_term_modified_df"
   ]
  },
  {
   "cell_type": "code",
   "execution_count": 0,
   "metadata": {
    "application/vnd.databricks.v1+cell": {
     "cellMetadata": {},
     "inputWidgets": {},
     "nuid": "8c953402-347c-43bf-a1ef-985571eecaba",
     "showTitle": false,
     "title": ""
    }
   },
   "outputs": [
    {
     "output_type": "stream",
     "name": "stdout",
     "output_type": "stream",
     "text": [
      "root\n |-- loan_id: string (nullable = true)\n |-- member_id: string (nullable = true)\n |-- loan_amount: float (nullable = true)\n |-- funded_amount: float (nullable = true)\n |-- loan_term_years: integer (nullable = true)\n |-- interest_rate: float (nullable = true)\n |-- monthly_installment: float (nullable = true)\n |-- issue_date: string (nullable = true)\n |-- loan_status: string (nullable = true)\n |-- loan_purpose: string (nullable = true)\n |-- loan_title: string (nullable = true)\n |-- ingest_date: timestamp (nullable = false)\n\n"
     ]
    }
   ],
   "source": [
    "loans_term_modified_df.printSchema()"
   ]
  },
  {
   "cell_type": "markdown",
   "metadata": {
    "application/vnd.databricks.v1+cell": {
     "cellMetadata": {},
     "inputWidgets": {},
     "nuid": "5599c542-c100-480a-87f6-dc9ae840ca50",
     "showTitle": false,
     "title": ""
    }
   },
   "source": [
    "#### 5. Clean the loans_purpose column"
   ]
  },
  {
   "cell_type": "code",
   "execution_count": 0,
   "metadata": {
    "application/vnd.databricks.v1+cell": {
     "cellMetadata": {},
     "inputWidgets": {},
     "nuid": "2984c8e0-142a-419e-96f0-7652b99cf1f8",
     "showTitle": false,
     "title": ""
    }
   },
   "outputs": [],
   "source": [
    "loans_term_modified_df.createOrReplaceTempView(\"loans\")"
   ]
  },
  {
   "cell_type": "code",
   "execution_count": 0,
   "metadata": {
    "application/vnd.databricks.v1+cell": {
     "cellMetadata": {},
     "inputWidgets": {},
     "nuid": "35700906-b76c-4728-b9ee-5eb1b5ca06f3",
     "showTitle": false,
     "title": ""
    }
   },
   "outputs": [
    {
     "output_type": "execute_result",
     "data": {
      "text/html": [
       "<table border='1'>\n",
       "<tr><th>loan_purpose</th></tr>\n",
       "<tr><td>guaranteed!&quot;</td></tr>\n",
       "<tr><td>and if they are a...</td></tr>\n",
       "<tr><td>never had any tro...</td></tr>\n",
       "<tr><td>&lt;br/&gt;&lt;br/&gt;Lending...</td></tr>\n",
       "<tr><td>Bank of America c...</td></tr>\n",
       "<tr><td>stocks</td></tr>\n",
       "<tr><td>please feel free ...</td></tr>\n",
       "<tr><td>I became his prim...</td></tr>\n",
       "<tr><td>brakes</td></tr>\n",
       "<tr><td>on one of the bus...</td></tr>\n",
       "<tr><td>because of the na...</td></tr>\n",
       "<tr><td>progressive multi...</td></tr>\n",
       "<tr><td>but not much info...</td></tr>\n",
       "<tr><td>I have eliminated...</td></tr>\n",
       "<tr><td>TutoringOne is a ...</td></tr>\n",
       "<tr><td>so I have to pay ...</td></tr>\n",
       "<tr><td>you may feel conf...</td></tr>\n",
       "<tr><td>Hilal Khalil Homa...</td></tr>\n",
       "<tr><td>000 in debt on cr...</td></tr>\n",
       "<tr><td>and the monthly p...</td></tr>\n",
       "</table>\n",
       "only showing top 20 rows\n"
      ],
      "text/plain": [
       "+--------------------+\n",
       "|        loan_purpose|\n",
       "+--------------------+\n",
       "|        guaranteed!\"|\n",
       "|and if they are a...|\n",
       "|never had any tro...|\n",
       "|<br/><br/>Lending...|\n",
       "|Bank of America c...|\n",
       "|              stocks|\n",
       "|please feel free ...|\n",
       "|I became his prim...|\n",
       "|              brakes|\n",
       "|on one of the bus...|\n",
       "|because of the na...|\n",
       "|progressive multi...|\n",
       "|but not much info...|\n",
       "|I have eliminated...|\n",
       "|TutoringOne is a ...|\n",
       "|so I have to pay ...|\n",
       "|you may feel conf...|\n",
       "|Hilal Khalil Homa...|\n",
       "|000 in debt on cr...|\n",
       "|and the monthly p...|\n",
       "+--------------------+\n",
       "only showing top 20 rows"
      ]
     },
     "execution_count": 96,
     "metadata": {},
     "output_type": "execute_result"
    }
   ],
   "source": [
    "# check loan_purpose data\n",
    "spark.sql(\"select distinct(loan_purpose) from loans\")"
   ]
  },
  {
   "cell_type": "code",
   "execution_count": 0,
   "metadata": {
    "application/vnd.databricks.v1+cell": {
     "cellMetadata": {},
     "inputWidgets": {},
     "nuid": "d0fcb340-0e5f-46bc-af59-d1ec0a33deea",
     "showTitle": false,
     "title": ""
    }
   },
   "outputs": [
    {
     "output_type": "execute_result",
     "data": {
      "text/html": [
       "<table border='1'>\n",
       "<tr><th>loan_purpose</th><th>total</th></tr>\n",
       "<tr><td>debt_consolidation</td><td>1277790</td></tr>\n",
       "<tr><td>credit_card</td><td>516926</td></tr>\n",
       "<tr><td>home_improvement</td><td>150440</td></tr>\n",
       "<tr><td>other</td><td>139413</td></tr>\n",
       "<tr><td>major_purchase</td><td>50429</td></tr>\n",
       "<tr><td>medical</td><td>27481</td></tr>\n",
       "<tr><td>small_business</td><td>24659</td></tr>\n",
       "<tr><td>car</td><td>24009</td></tr>\n",
       "<tr><td>vacation</td><td>15525</td></tr>\n",
       "<tr><td>moving</td><td>15402</td></tr>\n",
       "<tr><td>house</td><td>14131</td></tr>\n",
       "<tr><td>wedding</td><td>2351</td></tr>\n",
       "<tr><td>renewable_energy</td><td>1445</td></tr>\n",
       "<tr><td>educational</td><td>412</td></tr>\n",
       "<tr><td>stocks</td><td>1</td></tr>\n",
       "<tr><td>but we cant all b...</td><td>1</td></tr>\n",
       "<tr><td>putting together ...</td><td>1</td></tr>\n",
       "<tr><td>please feel free ...</td><td>1</td></tr>\n",
       "<tr><td>guaranteed!&quot;</td><td>1</td></tr>\n",
       "<tr><td>and if they are a...</td><td>1</td></tr>\n",
       "</table>\n",
       "only showing top 20 rows\n"
      ],
      "text/plain": [
       "+--------------------+-------+\n",
       "|        loan_purpose|  total|\n",
       "+--------------------+-------+\n",
       "|  debt_consolidation|1277790|\n",
       "|         credit_card| 516926|\n",
       "|    home_improvement| 150440|\n",
       "|               other| 139413|\n",
       "|      major_purchase|  50429|\n",
       "|             medical|  27481|\n",
       "|      small_business|  24659|\n",
       "|                 car|  24009|\n",
       "|            vacation|  15525|\n",
       "|              moving|  15402|\n",
       "|               house|  14131|\n",
       "|             wedding|   2351|\n",
       "|    renewable_energy|   1445|\n",
       "|         educational|    412|\n",
       "|please feel free ...|      1|\n",
       "|        guaranteed!\"|      1|\n",
       "|and also pay off ...|      1|\n",
       "|and it lasts thro...|      1|\n",
       "|progressive multi...|      1|\n",
       "|but we cant all b...|      1|\n",
       "+--------------------+-------+\n",
       "only showing top 20 rows"
      ]
     },
     "execution_count": 97,
     "metadata": {},
     "output_type": "execute_result"
    }
   ],
   "source": [
    "# Count total number of records per loan_purpose\n",
    "spark.sql(\"select loan_purpose, count(*) as total from loans group by loan_purpose order by total desc\")"
   ]
  },
  {
   "cell_type": "markdown",
   "metadata": {
    "application/vnd.databricks.v1+cell": {
     "cellMetadata": {},
     "inputWidgets": {},
     "nuid": "25512e2b-7616-44d1-9863-321fec37589d",
     "showTitle": false,
     "title": ""
    }
   },
   "source": [
    "We can see that there are 15 meaningful loan purpose. All other datas are just non relevant, so we map these type of datas to others category as well"
   ]
  },
  {
   "cell_type": "code",
   "execution_count": 0,
   "metadata": {
    "application/vnd.databricks.v1+cell": {
     "cellMetadata": {},
     "inputWidgets": {},
     "nuid": "eb7a552a-b366-4779-96aa-8d560bf90650",
     "showTitle": false,
     "title": ""
    }
   },
   "outputs": [],
   "source": [
    "# below is list of genuine purposes and rest all should be considered as other\n",
    "loan_purpose_lookup = [\"debt_consolidation\", \"credit_card\", \"home_improvement\", \"other\", \"major_purchase\", \"medical\", \"small_business\", \"car\", \"vacation\", \"moving\", \"house\", \n",
    "                       \"wedding\", \"renewable_energy\", \"educational\"]"
   ]
  },
  {
   "cell_type": "code",
   "execution_count": 0,
   "metadata": {
    "application/vnd.databricks.v1+cell": {
     "cellMetadata": {},
     "inputWidgets": {},
     "nuid": "cadd3753-1641-47b3-83e6-cc999c8bafb4",
     "showTitle": false,
     "title": ""
    }
   },
   "outputs": [],
   "source": [
    "from pyspark.sql.functions import when"
   ]
  },
  {
   "cell_type": "code",
   "execution_count": 0,
   "metadata": {
    "application/vnd.databricks.v1+cell": {
     "cellMetadata": {},
     "inputWidgets": {},
     "nuid": "53fc0dd3-cb78-43cf-995c-e7a17ba52431",
     "showTitle": false,
     "title": ""
    }
   },
   "outputs": [],
   "source": [
    "loans_purpose_modified = loans_term_modified_df.withColumn(\"loan_purpose\", when(col(\"loan_purpose\").isin(loan_purpose_lookup), col(\"loan_purpose\")).otherwise(\"other\"))"
   ]
  },
  {
   "cell_type": "code",
   "execution_count": 0,
   "metadata": {
    "application/vnd.databricks.v1+cell": {
     "cellMetadata": {},
     "inputWidgets": {},
     "nuid": "9d5d938d-4a90-4dbb-ac09-3c0aecdd8a9a",
     "showTitle": false,
     "title": ""
    }
   },
   "outputs": [],
   "source": [
    "loans_purpose_modified.createOrReplaceTempView(\"loans\")"
   ]
  },
  {
   "cell_type": "code",
   "execution_count": 0,
   "metadata": {
    "application/vnd.databricks.v1+cell": {
     "cellMetadata": {},
     "inputWidgets": {},
     "nuid": "b87de92c-3737-4ba3-9467-d08fe1f73794",
     "showTitle": false,
     "title": ""
    }
   },
   "outputs": [
    {
     "output_type": "execute_result",
     "data": {
      "text/html": [
       "<table border='1'>\n",
       "<tr><th>loan_purpose</th><th>total</th></tr>\n",
       "<tr><td>debt_consolidation</td><td>1277790</td></tr>\n",
       "<tr><td>credit_card</td><td>516926</td></tr>\n",
       "<tr><td>home_improvement</td><td>150440</td></tr>\n",
       "<tr><td>other</td><td>139667</td></tr>\n",
       "<tr><td>major_purchase</td><td>50429</td></tr>\n",
       "<tr><td>medical</td><td>27481</td></tr>\n",
       "<tr><td>small_business</td><td>24659</td></tr>\n",
       "<tr><td>car</td><td>24009</td></tr>\n",
       "<tr><td>vacation</td><td>15525</td></tr>\n",
       "<tr><td>moving</td><td>15402</td></tr>\n",
       "<tr><td>house</td><td>14131</td></tr>\n",
       "<tr><td>wedding</td><td>2351</td></tr>\n",
       "<tr><td>renewable_energy</td><td>1445</td></tr>\n",
       "<tr><td>educational</td><td>412</td></tr>\n",
       "</table>\n"
      ],
      "text/plain": [
       "+------------------+-------+\n",
       "|      loan_purpose|  total|\n",
       "+------------------+-------+\n",
       "|debt_consolidation|1277790|\n",
       "|       credit_card| 516926|\n",
       "|  home_improvement| 150440|\n",
       "|             other| 139667|\n",
       "|    major_purchase|  50429|\n",
       "|           medical|  27481|\n",
       "|    small_business|  24659|\n",
       "|               car|  24009|\n",
       "|          vacation|  15525|\n",
       "|            moving|  15402|\n",
       "|             house|  14131|\n",
       "|           wedding|   2351|\n",
       "|  renewable_energy|   1445|\n",
       "|       educational|    412|\n",
       "+------------------+-------+"
      ]
     },
     "execution_count": 102,
     "metadata": {},
     "output_type": "execute_result"
    }
   ],
   "source": [
    "spark.sql(\"select loan_purpose, count(*) as total from loans group by loan_purpose order by total desc\")"
   ]
  },
  {
   "cell_type": "code",
   "execution_count": 0,
   "metadata": {
    "application/vnd.databricks.v1+cell": {
     "cellMetadata": {},
     "inputWidgets": {},
     "nuid": "2f105a30-9222-4163-888d-3a72f0450977",
     "showTitle": false,
     "title": ""
    }
   },
   "outputs": [],
   "source": [
    "from pyspark.sql.functions import count"
   ]
  },
  {
   "cell_type": "code",
   "execution_count": 0,
   "metadata": {
    "application/vnd.databricks.v1+cell": {
     "cellMetadata": {},
     "inputWidgets": {},
     "nuid": "8d95eebc-5fec-4405-acb9-13901b3c3f10",
     "showTitle": false,
     "title": ""
    }
   },
   "outputs": [
    {
     "output_type": "execute_result",
     "data": {
      "text/html": [
       "<table border='1'>\n",
       "<tr><th>loan_purpose</th><th>total</th></tr>\n",
       "<tr><td>debt_consolidation</td><td>1277790</td></tr>\n",
       "<tr><td>credit_card</td><td>516926</td></tr>\n",
       "<tr><td>home_improvement</td><td>150440</td></tr>\n",
       "<tr><td>other</td><td>139667</td></tr>\n",
       "<tr><td>major_purchase</td><td>50429</td></tr>\n",
       "<tr><td>medical</td><td>27481</td></tr>\n",
       "<tr><td>small_business</td><td>24659</td></tr>\n",
       "<tr><td>car</td><td>24009</td></tr>\n",
       "<tr><td>vacation</td><td>15525</td></tr>\n",
       "<tr><td>moving</td><td>15402</td></tr>\n",
       "<tr><td>house</td><td>14131</td></tr>\n",
       "<tr><td>wedding</td><td>2351</td></tr>\n",
       "<tr><td>renewable_energy</td><td>1445</td></tr>\n",
       "<tr><td>educational</td><td>412</td></tr>\n",
       "</table>\n"
      ],
      "text/plain": [
       "+------------------+-------+\n",
       "|      loan_purpose|  total|\n",
       "+------------------+-------+\n",
       "|debt_consolidation|1277790|\n",
       "|       credit_card| 516926|\n",
       "|  home_improvement| 150440|\n",
       "|             other| 139667|\n",
       "|    major_purchase|  50429|\n",
       "|           medical|  27481|\n",
       "|    small_business|  24659|\n",
       "|               car|  24009|\n",
       "|          vacation|  15525|\n",
       "|            moving|  15402|\n",
       "|             house|  14131|\n",
       "|           wedding|   2351|\n",
       "|  renewable_energy|   1445|\n",
       "|       educational|    412|\n",
       "+------------------+-------+"
      ]
     },
     "execution_count": 105,
     "metadata": {},
     "output_type": "execute_result"
    }
   ],
   "source": [
    "loans_purpose_modified \\\n",
    ".groupBy(\"loan_purpose\") \\\n",
    ".agg(count(\"*\") \\\n",
    ".alias(\"total\")) \\\n",
    ".orderBy(col(\"total\").desc())"
   ]
  },
  {
   "cell_type": "markdown",
   "metadata": {
    "application/vnd.databricks.v1+cell": {
     "cellMetadata": {},
     "inputWidgets": {},
     "nuid": "b7663308-ec0f-46d1-9aa0-2e4729b77601",
     "showTitle": false,
     "title": ""
    }
   },
   "source": [
    "\n",
    "#### Write the cleaned loan df to the datalake\n"
   ]
  },
  {
   "cell_type": "code",
   "execution_count": 0,
   "metadata": {
    "application/vnd.databricks.v1+cell": {
     "cellMetadata": {},
     "inputWidgets": {},
     "nuid": "6aaba556-cff7-45a7-9f4b-8baaa5c0a6d1",
     "showTitle": false,
     "title": ""
    }
   },
   "outputs": [],
   "source": [
    "loans_purpose_modified.write \\\n",
    ".format(\"parquet\") \\\n",
    ".mode(\"overwrite\") \\\n",
    ".option(\"path\", \"/user/itv008542/lendingclubproject/raw/cleaned/loans_parquet\") \\\n",
    ".save()"
   ]
  },
  {
   "cell_type": "code",
   "execution_count": 0,
   "metadata": {
    "application/vnd.databricks.v1+cell": {
     "cellMetadata": {},
     "inputWidgets": {},
     "nuid": "d9148549-24a3-4523-96fe-260af8a919b5",
     "showTitle": false,
     "title": ""
    }
   },
   "outputs": [],
   "source": [
    "loans_purpose_modified.write \\\n",
    ".option(\"header\", True) \\\n",
    ".format(\"csv\") \\\n",
    ".mode(\"overwrite\") \\\n",
    ".option(\"path\", \"/user/itv008542/lendingclubproject/raw/cleaned/loans_csv\") \\\n",
    ".save()"
   ]
  },
  {
   "cell_type": "code",
   "execution_count": 0,
   "metadata": {
    "application/vnd.databricks.v1+cell": {
     "cellMetadata": {},
     "inputWidgets": {},
     "nuid": "e4d832b3-9c02-434e-bd99-545e627f588a",
     "showTitle": false,
     "title": ""
    }
   },
   "outputs": [
    {
     "output_type": "stream",
     "name": "stdout",
     "output_type": "stream",
     "text": [
      "Found 4 items\n-rw-r--r--   3 itv008542 supergroup          0 2024-02-07 04:04 /user/itv008542/lendingclubproject/raw/cleaned/loans_parquet/_SUCCESS\n-rw-r--r--   3 itv008542 supergroup   64420408 2024-02-07 04:04 /user/itv008542/lendingclubproject/raw/cleaned/loans_parquet/part-00000-60653d12-d41e-4aac-ba32-344a38b276f2-c000.snappy.parquet\n-rw-r--r--   3 itv008542 supergroup   65188504 2024-02-07 04:04 /user/itv008542/lendingclubproject/raw/cleaned/loans_parquet/part-00001-60653d12-d41e-4aac-ba32-344a38b276f2-c000.snappy.parquet\n-rw-r--r--   3 itv008542 supergroup   51699066 2024-02-07 04:04 /user/itv008542/lendingclubproject/raw/cleaned/loans_parquet/part-00002-60653d12-d41e-4aac-ba32-344a38b276f2-c000.snappy.parquet\n"
     ]
    }
   ],
   "source": [
    "! hadoop fs -ls /user/itv008542/lendingclubproject/raw/cleaned/loans_parquet"
   ]
  },
  {
   "cell_type": "code",
   "execution_count": 0,
   "metadata": {
    "application/vnd.databricks.v1+cell": {
     "cellMetadata": {},
     "inputWidgets": {},
     "nuid": "0eecc6c6-ac02-49ff-8ba1-0d4231d4cd96",
     "showTitle": false,
     "title": ""
    }
   },
   "outputs": [
    {
     "output_type": "stream",
     "name": "stdout",
     "output_type": "stream",
     "text": [
      "Found 4 items\n-rw-r--r--   3 itv008542 supergroup          0 2024-02-07 04:05 /user/itv008542/lendingclubproject/raw/cleaned/loans_csv/_SUCCESS\n-rw-r--r--   3 itv008542 supergroup  142984387 2024-02-07 04:05 /user/itv008542/lendingclubproject/raw/cleaned/loans_csv/part-00000-0d049d9b-1b46-4221-9675-e3e859433c40-c000.csv\n-rw-r--r--   3 itv008542 supergroup  142975767 2024-02-07 04:05 /user/itv008542/lendingclubproject/raw/cleaned/loans_csv/part-00001-0d049d9b-1b46-4221-9675-e3e859433c40-c000.csv\n-rw-r--r--   3 itv008542 supergroup  138264894 2024-02-07 04:05 /user/itv008542/lendingclubproject/raw/cleaned/loans_csv/part-00002-0d049d9b-1b46-4221-9675-e3e859433c40-c000.csv\n"
     ]
    }
   ],
   "source": [
    "! hadoop fs -ls /user/itv008542/lendingclubproject/raw/cleaned/loans_csv"
   ]
  },
  {
   "cell_type": "markdown",
   "metadata": {
    "application/vnd.databricks.v1+cell": {
     "cellMetadata": {},
     "inputWidgets": {},
     "nuid": "7ee0724a-766f-466d-8620-68d369cef6d5",
     "showTitle": false,
     "title": ""
    }
   },
   "source": [
    "## Lending Club Project: Data Cleaning 3\n",
    "\n",
    "### Cleaning loan repayments data\n",
    "\n",
    "#### Data Cleaning Actions to Take\n",
    "\n",
    "Create dataframe with proper datatypes, and proper column names\n",
    "\n",
    "Insert a new column named as ingestion date (current time )\n",
    "\n",
    "Drop any nulls\n",
    "\n",
    "Check if total_payment_received is zero, and total_principal_received is not zero. If there is such row then replace the value with sum of total_principal_received, total_interest_received, and total_late_fee_received\n",
    "\n",
    "Modify loan purpose other than in look up to Others\n",
    "\n"
   ]
  },
  {
   "cell_type": "code",
   "execution_count": 0,
   "metadata": {
    "application/vnd.databricks.v1+cell": {
     "cellMetadata": {},
     "inputWidgets": {},
     "nuid": "1b3f39c0-73ba-4448-828a-bd52a63256c9",
     "showTitle": false,
     "title": ""
    }
   },
   "outputs": [
    {
     "output_type": "stream",
     "name": "stdout",
     "output_type": "stream",
     "text": [
      "Found 2 items\n-rw-r--r--   3 itv008542 supergroup          0 2024-02-06 12:22 /user/itv008542/lendingclubproject/raw/loans_repayments_csv/_SUCCESS\n-rw-r--r--   3 itv008542 supergroup  140818928 2024-02-06 12:22 /user/itv008542/lendingclubproject/raw/loans_repayments_csv/part-00000-d53ac3bd-7be1-4a3c-9d47-c3574ff4c3f3-c000.csv\n"
     ]
    }
   ],
   "source": [
    "! hadoop fs -ls /user/itv008542/lendingclubproject/raw/loans_repayments_csv"
   ]
  },
  {
   "cell_type": "code",
   "execution_count": 0,
   "metadata": {
    "application/vnd.databricks.v1+cell": {
     "cellMetadata": {},
     "inputWidgets": {},
     "nuid": "3c04286a-b838-4128-9f6a-91b9af86e428",
     "showTitle": false,
     "title": ""
    }
   },
   "outputs": [],
   "source": [
    "loans_repay_raw_df = spark.read \\\n",
    ".format(\"csv\") \\\n",
    ".option(\"InferSchema\",True) \\\n",
    ".option(\"header\",True) \\\n",
    ".load(\"/user/itv008542/lendingclubproject/raw/loans_repayments_csv\")"
   ]
  },
  {
   "cell_type": "code",
   "execution_count": 0,
   "metadata": {
    "application/vnd.databricks.v1+cell": {
     "cellMetadata": {},
     "inputWidgets": {},
     "nuid": "126d855d-aa89-40ea-b9ba-b103b0016cca",
     "showTitle": false,
     "title": ""
    }
   },
   "outputs": [
    {
     "output_type": "execute_result",
     "data": {
      "text/html": [
       "<table border='1'>\n",
       "<tr><th>loan_id</th><th>total_rec_prncp</th><th>total_rec_int</th><th>total_rec_late_fee</th><th>total_pymnt</th><th>last_pymnt_amnt</th><th>last_pymnt_d</th><th>next_pymnt_d</th></tr>\n",
       "<tr><td>14408468</td><td>5000.0</td><td>561.49</td><td>0.0</td><td>5561.49</td><td>4019.97</td><td>Feb-2015</td><td>null</td></tr>\n",
       "<tr><td>14520567</td><td>11000.0</td><td>1716.53</td><td>0.0</td><td>12716.5251265996</td><td>353.13</td><td>May-2017</td><td>null</td></tr>\n",
       "<tr><td>14708730</td><td>21760.43</td><td>4807.25</td><td>0.0</td><td>26567.68</td><td>830.24</td><td>Jan-2017</td><td>null</td></tr>\n",
       "<tr><td>14491003</td><td>1500.0</td><td>192.68</td><td>0.0</td><td>1692.675291966</td><td>1342.22</td><td>Dec-2014</td><td>null</td></tr>\n",
       "<tr><td>14510981</td><td>10000.0</td><td>2128.02</td><td>0.0</td><td>12128.021932604799</td><td>336.52</td><td>Apr-2017</td><td>null</td></tr>\n",
       "<tr><td>14177845</td><td>5380.29</td><td>3227.55</td><td>0.0</td><td>9415.65</td><td>300.28</td><td>Aug-2016</td><td>null</td></tr>\n",
       "<tr><td>13947687</td><td>10000.0</td><td>3859.88</td><td>0.0</td><td>13859.8828431224</td><td>5032.64</td><td>Jan-2017</td><td>null</td></tr>\n",
       "<tr><td>12905731</td><td>18000.0</td><td>5535.46</td><td>0.0</td><td>23535.461841471402</td><td>652.67</td><td>May-2017</td><td>null</td></tr>\n",
       "<tr><td>14137736</td><td>12000.0</td><td>1424.07</td><td>0.0</td><td>13424.07</td><td>6487.77</td><td>Nov-2015</td><td>null</td></tr>\n",
       "<tr><td>13207083</td><td>3200.0</td><td>812.68</td><td>0.0</td><td>4012.68</td><td>1977.27</td><td>Oct-2015</td><td>null</td></tr>\n",
       "<tr><td>9005163</td><td>19329.23</td><td>8837.96</td><td>0.0</td><td>28167.19</td><td>477.41</td><td>Mar-2019</td><td>Apr-2019</td></tr>\n",
       "<tr><td>14008700</td><td>13467.79</td><td>6748.69</td><td>0.0</td><td>20216.48</td><td>348.56</td><td>Feb-2019</td><td>Apr-2019</td></tr>\n",
       "<tr><td>13107355</td><td>11850.0</td><td>2595.82</td><td>0.0</td><td>14445.82</td><td>8238.78</td><td>Jul-2015</td><td>null</td></tr>\n",
       "<tr><td>14288329</td><td>25000.0</td><td>912.0</td><td>0.0</td><td>25912.0</td><td>25221.66</td><td>Jul-2014</td><td>null</td></tr>\n",
       "<tr><td>14308144</td><td>15000.0</td><td>2797.71</td><td>0.0</td><td>17797.71</td><td>12734.33</td><td>Jul-2015</td><td>null</td></tr>\n",
       "<tr><td>14009407</td><td>9625.0</td><td>320.99</td><td>0.0</td><td>9945.9909558653</td><td>9291.33</td><td>Aug-2014</td><td>null</td></tr>\n",
       "<tr><td>6583213</td><td>17500.0</td><td>2069.46</td><td>0.0</td><td>19569.46</td><td>10015.97</td><td>Oct-2015</td><td>null</td></tr>\n",
       "<tr><td>12597061</td><td>7700.0</td><td>1007.66</td><td>0.0</td><td>8707.66</td><td>5335.33</td><td>Jul-2015</td><td>null</td></tr>\n",
       "<tr><td>12468587</td><td>3600.0</td><td>1379.63</td><td>0.0</td><td>4979.632516216</td><td>138.08</td><td>Apr-2017</td><td>null</td></tr>\n",
       "<tr><td>12486035</td><td>14250.0</td><td>7908.24</td><td>0.0</td><td>22158.24018889</td><td>7205.62</td><td>Jul-2017</td><td>null</td></tr>\n",
       "</table>\n",
       "only showing top 20 rows\n"
      ],
      "text/plain": [
       "+--------+---------------+-------------+------------------+------------------+---------------+------------+------------+\n",
       "| loan_id|total_rec_prncp|total_rec_int|total_rec_late_fee|       total_pymnt|last_pymnt_amnt|last_pymnt_d|next_pymnt_d|\n",
       "+--------+---------------+-------------+------------------+------------------+---------------+------------+------------+\n",
       "|14408468|         5000.0|       561.49|               0.0|           5561.49|        4019.97|    Feb-2015|        null|\n",
       "|14520567|        11000.0|      1716.53|               0.0|  12716.5251265996|         353.13|    May-2017|        null|\n",
       "|14708730|       21760.43|      4807.25|               0.0|          26567.68|         830.24|    Jan-2017|        null|\n",
       "|14491003|         1500.0|       192.68|               0.0|    1692.675291966|        1342.22|    Dec-2014|        null|\n",
       "|14510981|        10000.0|      2128.02|               0.0|12128.021932604799|         336.52|    Apr-2017|        null|\n",
       "|14177845|        5380.29|      3227.55|               0.0|           9415.65|         300.28|    Aug-2016|        null|\n",
       "|13947687|        10000.0|      3859.88|               0.0|  13859.8828431224|        5032.64|    Jan-2017|        null|\n",
       "|12905731|        18000.0|      5535.46|               0.0|23535.461841471402|         652.67|    May-2017|        null|\n",
       "|14137736|        12000.0|      1424.07|               0.0|          13424.07|        6487.77|    Nov-2015|        null|\n",
       "|13207083|         3200.0|       812.68|               0.0|           4012.68|        1977.27|    Oct-2015|        null|\n",
       "| 9005163|       19329.23|      8837.96|               0.0|          28167.19|         477.41|    Mar-2019|    Apr-2019|\n",
       "|14008700|       13467.79|      6748.69|               0.0|          20216.48|         348.56|    Feb-2019|    Apr-2019|\n",
       "|13107355|        11850.0|      2595.82|               0.0|          14445.82|        8238.78|    Jul-2015|        null|\n",
       "|14288329|        25000.0|        912.0|               0.0|           25912.0|       25221.66|    Jul-2014|        null|\n",
       "|14308144|        15000.0|      2797.71|               0.0|          17797.71|       12734.33|    Jul-2015|        null|\n",
       "|14009407|         9625.0|       320.99|               0.0|   9945.9909558653|        9291.33|    Aug-2014|        null|\n",
       "| 6583213|        17500.0|      2069.46|               0.0|          19569.46|       10015.97|    Oct-2015|        null|\n",
       "|12597061|         7700.0|      1007.66|               0.0|           8707.66|        5335.33|    Jul-2015|        null|\n",
       "|12468587|         3600.0|      1379.63|               0.0|    4979.632516216|         138.08|    Apr-2017|        null|\n",
       "|12486035|        14250.0|      7908.24|               0.0|    22158.24018889|        7205.62|    Jul-2017|        null|\n",
       "+--------+---------------+-------------+------------------+------------------+---------------+------------+------------+\n",
       "only showing top 20 rows"
      ]
     },
     "execution_count": 5,
     "metadata": {},
     "output_type": "execute_result"
    }
   ],
   "source": [
    "loans_repay_raw_df"
   ]
  },
  {
   "cell_type": "code",
   "execution_count": 0,
   "metadata": {
    "application/vnd.databricks.v1+cell": {
     "cellMetadata": {},
     "inputWidgets": {},
     "nuid": "2db32639-ddc6-495b-81a2-86d2f8e57bd7",
     "showTitle": false,
     "title": ""
    }
   },
   "outputs": [
    {
     "output_type": "stream",
     "name": "stdout",
     "output_type": "stream",
     "text": [
      "root\n |-- loan_id: string (nullable = true)\n |-- total_rec_prncp: string (nullable = true)\n |-- total_rec_int: string (nullable = true)\n |-- total_rec_late_fee: string (nullable = true)\n |-- total_pymnt: string (nullable = true)\n |-- last_pymnt_amnt: string (nullable = true)\n |-- last_pymnt_d: string (nullable = true)\n |-- next_pymnt_d: string (nullable = true)\n\n"
     ]
    }
   ],
   "source": [
    "loans_repay_raw_df.printSchema()"
   ]
  },
  {
   "cell_type": "markdown",
   "metadata": {
    "application/vnd.databricks.v1+cell": {
     "cellMetadata": {},
     "inputWidgets": {},
     "nuid": "f904fbc3-d737-47f0-9805-82d58e8d4193",
     "showTitle": false,
     "title": ""
    }
   },
   "source": [
    "#### 1. Create dataframe with proper datatypes, and proper column names"
   ]
  },
  {
   "cell_type": "code",
   "execution_count": 0,
   "metadata": {
    "application/vnd.databricks.v1+cell": {
     "cellMetadata": {},
     "inputWidgets": {},
     "nuid": "e705d64c-8480-499a-bb34-b06371123a3e",
     "showTitle": false,
     "title": ""
    }
   },
   "outputs": [],
   "source": [
    "loans_repay_schema = 'loan_id string, total_principal_received float, total_interest_received float, total_late_fee_received float, total_payment_received float, last_payment_amount float, last_payment_date string, next_payment_date string'"
   ]
  },
  {
   "cell_type": "code",
   "execution_count": 0,
   "metadata": {
    "application/vnd.databricks.v1+cell": {
     "cellMetadata": {},
     "inputWidgets": {},
     "nuid": "1cdc94b7-fcbd-4585-b8fd-47e0838aed3d",
     "showTitle": false,
     "title": ""
    }
   },
   "outputs": [],
   "source": [
    "loans_repay_raw_df = spark.read \\\n",
    ".format(\"csv\") \\\n",
    ".option(\"header\",True) \\\n",
    ".schema(loans_repay_schema) \\\n",
    ".load(\"/user/itv008542/lendingclubproject/raw/loans_repayments_csv\")"
   ]
  },
  {
   "cell_type": "code",
   "execution_count": 0,
   "metadata": {
    "application/vnd.databricks.v1+cell": {
     "cellMetadata": {},
     "inputWidgets": {},
     "nuid": "90477a90-c160-46dd-8565-fc5be3001d45",
     "showTitle": false,
     "title": ""
    }
   },
   "outputs": [
    {
     "output_type": "stream",
     "name": "stdout",
     "output_type": "stream",
     "text": [
      "root\n |-- loan_id: string (nullable = true)\n |-- total_principal_received: float (nullable = true)\n |-- total_interest_received: float (nullable = true)\n |-- total_late_fee_received: float (nullable = true)\n |-- total_payment_received: float (nullable = true)\n |-- last_payment_amount: float (nullable = true)\n |-- last_payment_date: string (nullable = true)\n |-- next_payment_date: string (nullable = true)\n\n"
     ]
    }
   ],
   "source": [
    "loans_repay_raw_df.printSchema()"
   ]
  },
  {
   "cell_type": "markdown",
   "metadata": {
    "application/vnd.databricks.v1+cell": {
     "cellMetadata": {},
     "inputWidgets": {},
     "nuid": "b37436b6-4fbc-4299-86e8-834dabe4a9d7",
     "showTitle": false,
     "title": ""
    }
   },
   "source": [
    "\n",
    "#### 2. Insert a new column named as ingestion date (current time )"
   ]
  },
  {
   "cell_type": "code",
   "execution_count": 0,
   "metadata": {
    "application/vnd.databricks.v1+cell": {
     "cellMetadata": {},
     "inputWidgets": {},
     "nuid": "167d3865-1ba7-47da-9755-94601b00b5a9",
     "showTitle": false,
     "title": ""
    }
   },
   "outputs": [],
   "source": [
    "from pyspark.sql.functions import current_timestamp"
   ]
  },
  {
   "cell_type": "code",
   "execution_count": 0,
   "metadata": {
    "application/vnd.databricks.v1+cell": {
     "cellMetadata": {},
     "inputWidgets": {},
     "nuid": "627e686a-d5ed-4e82-abec-067bc201befe",
     "showTitle": false,
     "title": ""
    }
   },
   "outputs": [],
   "source": [
    "loans_repay_df_ingestd = loans_repay_raw_df.withColumn(\"ingest_date\", current_timestamp())"
   ]
  },
  {
   "cell_type": "code",
   "execution_count": 0,
   "metadata": {
    "application/vnd.databricks.v1+cell": {
     "cellMetadata": {},
     "inputWidgets": {},
     "nuid": "345d52da-a273-40d9-8347-3be91786ea9f",
     "showTitle": false,
     "title": ""
    }
   },
   "outputs": [
    {
     "output_type": "execute_result",
     "data": {
      "text/html": [
       "<table border='1'>\n",
       "<tr><th>loan_id</th><th>total_principal_received</th><th>total_interest_received</th><th>total_late_fee_received</th><th>total_payment_received</th><th>last_payment_amount</th><th>last_payment_date</th><th>next_payment_date</th><th>ingest_date</th></tr>\n",
       "<tr><td>14408468</td><td>5000.0</td><td>561.49</td><td>0.0</td><td>5561.49</td><td>4019.97</td><td>Feb-2015</td><td>null</td><td>2024-02-07 06:20:...</td></tr>\n",
       "<tr><td>14520567</td><td>11000.0</td><td>1716.53</td><td>0.0</td><td>12716.525</td><td>353.13</td><td>May-2017</td><td>null</td><td>2024-02-07 06:20:...</td></tr>\n",
       "<tr><td>14708730</td><td>21760.43</td><td>4807.25</td><td>0.0</td><td>26567.68</td><td>830.24</td><td>Jan-2017</td><td>null</td><td>2024-02-07 06:20:...</td></tr>\n",
       "<tr><td>14491003</td><td>1500.0</td><td>192.68</td><td>0.0</td><td>1692.6753</td><td>1342.22</td><td>Dec-2014</td><td>null</td><td>2024-02-07 06:20:...</td></tr>\n",
       "<tr><td>14510981</td><td>10000.0</td><td>2128.02</td><td>0.0</td><td>12128.021</td><td>336.52</td><td>Apr-2017</td><td>null</td><td>2024-02-07 06:20:...</td></tr>\n",
       "<tr><td>14177845</td><td>5380.29</td><td>3227.55</td><td>0.0</td><td>9415.65</td><td>300.28</td><td>Aug-2016</td><td>null</td><td>2024-02-07 06:20:...</td></tr>\n",
       "<tr><td>13947687</td><td>10000.0</td><td>3859.88</td><td>0.0</td><td>13859.883</td><td>5032.64</td><td>Jan-2017</td><td>null</td><td>2024-02-07 06:20:...</td></tr>\n",
       "<tr><td>12905731</td><td>18000.0</td><td>5535.46</td><td>0.0</td><td>23535.46</td><td>652.67</td><td>May-2017</td><td>null</td><td>2024-02-07 06:20:...</td></tr>\n",
       "<tr><td>14137736</td><td>12000.0</td><td>1424.07</td><td>0.0</td><td>13424.07</td><td>6487.77</td><td>Nov-2015</td><td>null</td><td>2024-02-07 06:20:...</td></tr>\n",
       "<tr><td>13207083</td><td>3200.0</td><td>812.68</td><td>0.0</td><td>4012.68</td><td>1977.27</td><td>Oct-2015</td><td>null</td><td>2024-02-07 06:20:...</td></tr>\n",
       "<tr><td>9005163</td><td>19329.23</td><td>8837.96</td><td>0.0</td><td>28167.19</td><td>477.41</td><td>Mar-2019</td><td>Apr-2019</td><td>2024-02-07 06:20:...</td></tr>\n",
       "<tr><td>14008700</td><td>13467.79</td><td>6748.69</td><td>0.0</td><td>20216.48</td><td>348.56</td><td>Feb-2019</td><td>Apr-2019</td><td>2024-02-07 06:20:...</td></tr>\n",
       "<tr><td>13107355</td><td>11850.0</td><td>2595.82</td><td>0.0</td><td>14445.82</td><td>8238.78</td><td>Jul-2015</td><td>null</td><td>2024-02-07 06:20:...</td></tr>\n",
       "<tr><td>14288329</td><td>25000.0</td><td>912.0</td><td>0.0</td><td>25912.0</td><td>25221.66</td><td>Jul-2014</td><td>null</td><td>2024-02-07 06:20:...</td></tr>\n",
       "<tr><td>14308144</td><td>15000.0</td><td>2797.71</td><td>0.0</td><td>17797.71</td><td>12734.33</td><td>Jul-2015</td><td>null</td><td>2024-02-07 06:20:...</td></tr>\n",
       "<tr><td>14009407</td><td>9625.0</td><td>320.99</td><td>0.0</td><td>9945.991</td><td>9291.33</td><td>Aug-2014</td><td>null</td><td>2024-02-07 06:20:...</td></tr>\n",
       "<tr><td>6583213</td><td>17500.0</td><td>2069.46</td><td>0.0</td><td>19569.46</td><td>10015.97</td><td>Oct-2015</td><td>null</td><td>2024-02-07 06:20:...</td></tr>\n",
       "<tr><td>12597061</td><td>7700.0</td><td>1007.66</td><td>0.0</td><td>8707.66</td><td>5335.33</td><td>Jul-2015</td><td>null</td><td>2024-02-07 06:20:...</td></tr>\n",
       "<tr><td>12468587</td><td>3600.0</td><td>1379.63</td><td>0.0</td><td>4979.6323</td><td>138.08</td><td>Apr-2017</td><td>null</td><td>2024-02-07 06:20:...</td></tr>\n",
       "<tr><td>12486035</td><td>14250.0</td><td>7908.24</td><td>0.0</td><td>22158.24</td><td>7205.62</td><td>Jul-2017</td><td>null</td><td>2024-02-07 06:20:...</td></tr>\n",
       "</table>\n",
       "only showing top 20 rows\n"
      ],
      "text/plain": [
       "+--------+------------------------+-----------------------+-----------------------+----------------------+-------------------+-----------------+-----------------+--------------------+\n",
       "| loan_id|total_principal_received|total_interest_received|total_late_fee_received|total_payment_received|last_payment_amount|last_payment_date|next_payment_date|         ingest_date|\n",
       "+--------+------------------------+-----------------------+-----------------------+----------------------+-------------------+-----------------+-----------------+--------------------+\n",
       "|14408468|                  5000.0|                 561.49|                    0.0|               5561.49|            4019.97|         Feb-2015|             null|2024-02-07 06:20:...|\n",
       "|14520567|                 11000.0|                1716.53|                    0.0|             12716.525|             353.13|         May-2017|             null|2024-02-07 06:20:...|\n",
       "|14708730|                21760.43|                4807.25|                    0.0|              26567.68|             830.24|         Jan-2017|             null|2024-02-07 06:20:...|\n",
       "|14491003|                  1500.0|                 192.68|                    0.0|             1692.6753|            1342.22|         Dec-2014|             null|2024-02-07 06:20:...|\n",
       "|14510981|                 10000.0|                2128.02|                    0.0|             12128.021|             336.52|         Apr-2017|             null|2024-02-07 06:20:...|\n",
       "|14177845|                 5380.29|                3227.55|                    0.0|               9415.65|             300.28|         Aug-2016|             null|2024-02-07 06:20:...|\n",
       "|13947687|                 10000.0|                3859.88|                    0.0|             13859.883|            5032.64|         Jan-2017|             null|2024-02-07 06:20:...|\n",
       "|12905731|                 18000.0|                5535.46|                    0.0|              23535.46|             652.67|         May-2017|             null|2024-02-07 06:20:...|\n",
       "|14137736|                 12000.0|                1424.07|                    0.0|              13424.07|            6487.77|         Nov-2015|             null|2024-02-07 06:20:...|\n",
       "|13207083|                  3200.0|                 812.68|                    0.0|               4012.68|            1977.27|         Oct-2015|             null|2024-02-07 06:20:...|\n",
       "| 9005163|                19329.23|                8837.96|                    0.0|              28167.19|             477.41|         Mar-2019|         Apr-2019|2024-02-07 06:20:...|\n",
       "|14008700|                13467.79|                6748.69|                    0.0|              20216.48|             348.56|         Feb-2019|         Apr-2019|2024-02-07 06:20:...|\n",
       "|13107355|                 11850.0|                2595.82|                    0.0|              14445.82|            8238.78|         Jul-2015|             null|2024-02-07 06:20:...|\n",
       "|14288329|                 25000.0|                  912.0|                    0.0|               25912.0|           25221.66|         Jul-2014|             null|2024-02-07 06:20:...|\n",
       "|14308144|                 15000.0|                2797.71|                    0.0|              17797.71|           12734.33|         Jul-2015|             null|2024-02-07 06:20:...|\n",
       "|14009407|                  9625.0|                 320.99|                    0.0|              9945.991|            9291.33|         Aug-2014|             null|2024-02-07 06:20:...|\n",
       "| 6583213|                 17500.0|                2069.46|                    0.0|              19569.46|           10015.97|         Oct-2015|             null|2024-02-07 06:20:...|\n",
       "|12597061|                  7700.0|                1007.66|                    0.0|               8707.66|            5335.33|         Jul-2015|             null|2024-02-07 06:20:...|\n",
       "|12468587|                  3600.0|                1379.63|                    0.0|             4979.6323|             138.08|         Apr-2017|             null|2024-02-07 06:20:...|\n",
       "|12486035|                 14250.0|                7908.24|                    0.0|              22158.24|            7205.62|         Jul-2017|             null|2024-02-07 06:20:...|\n",
       "+--------+------------------------+-----------------------+-----------------------+----------------------+-------------------+-----------------+-----------------+--------------------+\n",
       "only showing top 20 rows"
      ]
     },
     "execution_count": 12,
     "metadata": {},
     "output_type": "execute_result"
    }
   ],
   "source": [
    "loans_repay_df_ingestd"
   ]
  },
  {
   "cell_type": "code",
   "execution_count": 0,
   "metadata": {
    "application/vnd.databricks.v1+cell": {
     "cellMetadata": {},
     "inputWidgets": {},
     "nuid": "b041dbfb-56ed-4677-9086-86eeeec2bbf1",
     "showTitle": false,
     "title": ""
    }
   },
   "outputs": [
    {
     "output_type": "stream",
     "name": "stdout",
     "output_type": "stream",
     "text": [
      "root\n |-- loan_id: string (nullable = true)\n |-- total_principal_received: float (nullable = true)\n |-- total_interest_received: float (nullable = true)\n |-- total_late_fee_received: float (nullable = true)\n |-- total_payment_received: float (nullable = true)\n |-- last_payment_amount: float (nullable = true)\n |-- last_payment_date: string (nullable = true)\n |-- next_payment_date: string (nullable = true)\n |-- ingest_date: timestamp (nullable = false)\n\n"
     ]
    }
   ],
   "source": [
    "loans_repay_df_ingestd.printSchema()"
   ]
  },
  {
   "cell_type": "code",
   "execution_count": 0,
   "metadata": {
    "application/vnd.databricks.v1+cell": {
     "cellMetadata": {},
     "inputWidgets": {},
     "nuid": "f13fd483-fbbb-4a56-99a6-66be08cc311b",
     "showTitle": false,
     "title": ""
    }
   },
   "outputs": [
    {
     "output_type": "execute_result",
     "data": {
      "text/plain": [
       "2260701"
      ]
     },
     "execution_count": 14,
     "metadata": {},
     "output_type": "execute_result"
    }
   ],
   "source": [
    "loans_repay_df_ingestd.count()"
   ]
  },
  {
   "cell_type": "markdown",
   "metadata": {
    "application/vnd.databricks.v1+cell": {
     "cellMetadata": {},
     "inputWidgets": {},
     "nuid": "2d3a52d6-a774-4100-a80b-750f91c92894",
     "showTitle": false,
     "title": ""
    }
   },
   "source": [
    "\n",
    "#### 3. Drop any nulls\n"
   ]
  },
  {
   "cell_type": "code",
   "execution_count": 0,
   "metadata": {
    "application/vnd.databricks.v1+cell": {
     "cellMetadata": {},
     "inputWidgets": {},
     "nuid": "c3f3c022-0206-44ea-b3d6-ac23a71870f1",
     "showTitle": false,
     "title": ""
    }
   },
   "outputs": [],
   "source": [
    "loans_repay_df_ingestd.createOrReplaceTempView(\"loan_repayments\")"
   ]
  },
  {
   "cell_type": "code",
   "execution_count": 0,
   "metadata": {
    "application/vnd.databricks.v1+cell": {
     "cellMetadata": {},
     "inputWidgets": {},
     "nuid": "ad02fc05-c7e4-4a3e-8150-bc36889bf169",
     "showTitle": false,
     "title": ""
    }
   },
   "outputs": [
    {
     "output_type": "execute_result",
     "data": {
      "text/html": [
       "<table border='1'>\n",
       "<tr><th>loan_id</th><th>total_principal_received</th><th>total_interest_received</th><th>total_late_fee_received</th><th>total_payment_received</th><th>last_payment_amount</th><th>last_payment_date</th><th>next_payment_date</th><th>ingest_date</th></tr>\n",
       "<tr><td>14408468</td><td>5000.0</td><td>561.49</td><td>0.0</td><td>5561.49</td><td>4019.97</td><td>Feb-2015</td><td>null</td><td>2024-02-07 06:20:...</td></tr>\n",
       "<tr><td>14520567</td><td>11000.0</td><td>1716.53</td><td>0.0</td><td>12716.525</td><td>353.13</td><td>May-2017</td><td>null</td><td>2024-02-07 06:20:...</td></tr>\n",
       "<tr><td>14708730</td><td>21760.43</td><td>4807.25</td><td>0.0</td><td>26567.68</td><td>830.24</td><td>Jan-2017</td><td>null</td><td>2024-02-07 06:20:...</td></tr>\n",
       "<tr><td>14491003</td><td>1500.0</td><td>192.68</td><td>0.0</td><td>1692.6753</td><td>1342.22</td><td>Dec-2014</td><td>null</td><td>2024-02-07 06:20:...</td></tr>\n",
       "<tr><td>14510981</td><td>10000.0</td><td>2128.02</td><td>0.0</td><td>12128.021</td><td>336.52</td><td>Apr-2017</td><td>null</td><td>2024-02-07 06:20:...</td></tr>\n",
       "<tr><td>14177845</td><td>5380.29</td><td>3227.55</td><td>0.0</td><td>9415.65</td><td>300.28</td><td>Aug-2016</td><td>null</td><td>2024-02-07 06:20:...</td></tr>\n",
       "<tr><td>13947687</td><td>10000.0</td><td>3859.88</td><td>0.0</td><td>13859.883</td><td>5032.64</td><td>Jan-2017</td><td>null</td><td>2024-02-07 06:20:...</td></tr>\n",
       "<tr><td>12905731</td><td>18000.0</td><td>5535.46</td><td>0.0</td><td>23535.46</td><td>652.67</td><td>May-2017</td><td>null</td><td>2024-02-07 06:20:...</td></tr>\n",
       "<tr><td>14137736</td><td>12000.0</td><td>1424.07</td><td>0.0</td><td>13424.07</td><td>6487.77</td><td>Nov-2015</td><td>null</td><td>2024-02-07 06:20:...</td></tr>\n",
       "<tr><td>13207083</td><td>3200.0</td><td>812.68</td><td>0.0</td><td>4012.68</td><td>1977.27</td><td>Oct-2015</td><td>null</td><td>2024-02-07 06:20:...</td></tr>\n",
       "<tr><td>9005163</td><td>19329.23</td><td>8837.96</td><td>0.0</td><td>28167.19</td><td>477.41</td><td>Mar-2019</td><td>Apr-2019</td><td>2024-02-07 06:20:...</td></tr>\n",
       "<tr><td>14008700</td><td>13467.79</td><td>6748.69</td><td>0.0</td><td>20216.48</td><td>348.56</td><td>Feb-2019</td><td>Apr-2019</td><td>2024-02-07 06:20:...</td></tr>\n",
       "<tr><td>13107355</td><td>11850.0</td><td>2595.82</td><td>0.0</td><td>14445.82</td><td>8238.78</td><td>Jul-2015</td><td>null</td><td>2024-02-07 06:20:...</td></tr>\n",
       "<tr><td>14288329</td><td>25000.0</td><td>912.0</td><td>0.0</td><td>25912.0</td><td>25221.66</td><td>Jul-2014</td><td>null</td><td>2024-02-07 06:20:...</td></tr>\n",
       "<tr><td>14308144</td><td>15000.0</td><td>2797.71</td><td>0.0</td><td>17797.71</td><td>12734.33</td><td>Jul-2015</td><td>null</td><td>2024-02-07 06:20:...</td></tr>\n",
       "<tr><td>14009407</td><td>9625.0</td><td>320.99</td><td>0.0</td><td>9945.991</td><td>9291.33</td><td>Aug-2014</td><td>null</td><td>2024-02-07 06:20:...</td></tr>\n",
       "<tr><td>6583213</td><td>17500.0</td><td>2069.46</td><td>0.0</td><td>19569.46</td><td>10015.97</td><td>Oct-2015</td><td>null</td><td>2024-02-07 06:20:...</td></tr>\n",
       "<tr><td>12597061</td><td>7700.0</td><td>1007.66</td><td>0.0</td><td>8707.66</td><td>5335.33</td><td>Jul-2015</td><td>null</td><td>2024-02-07 06:20:...</td></tr>\n",
       "<tr><td>12468587</td><td>3600.0</td><td>1379.63</td><td>0.0</td><td>4979.6323</td><td>138.08</td><td>Apr-2017</td><td>null</td><td>2024-02-07 06:20:...</td></tr>\n",
       "<tr><td>12486035</td><td>14250.0</td><td>7908.24</td><td>0.0</td><td>22158.24</td><td>7205.62</td><td>Jul-2017</td><td>null</td><td>2024-02-07 06:20:...</td></tr>\n",
       "</table>\n",
       "only showing top 20 rows\n"
      ],
      "text/plain": [
       "+--------+------------------------+-----------------------+-----------------------+----------------------+-------------------+-----------------+-----------------+--------------------+\n",
       "| loan_id|total_principal_received|total_interest_received|total_late_fee_received|total_payment_received|last_payment_amount|last_payment_date|next_payment_date|         ingest_date|\n",
       "+--------+------------------------+-----------------------+-----------------------+----------------------+-------------------+-----------------+-----------------+--------------------+\n",
       "|14408468|                  5000.0|                 561.49|                    0.0|               5561.49|            4019.97|         Feb-2015|             null|2024-02-07 06:20:...|\n",
       "|14520567|                 11000.0|                1716.53|                    0.0|             12716.525|             353.13|         May-2017|             null|2024-02-07 06:20:...|\n",
       "|14708730|                21760.43|                4807.25|                    0.0|              26567.68|             830.24|         Jan-2017|             null|2024-02-07 06:20:...|\n",
       "|14491003|                  1500.0|                 192.68|                    0.0|             1692.6753|            1342.22|         Dec-2014|             null|2024-02-07 06:20:...|\n",
       "|14510981|                 10000.0|                2128.02|                    0.0|             12128.021|             336.52|         Apr-2017|             null|2024-02-07 06:20:...|\n",
       "|14177845|                 5380.29|                3227.55|                    0.0|               9415.65|             300.28|         Aug-2016|             null|2024-02-07 06:20:...|\n",
       "|13947687|                 10000.0|                3859.88|                    0.0|             13859.883|            5032.64|         Jan-2017|             null|2024-02-07 06:20:...|\n",
       "|12905731|                 18000.0|                5535.46|                    0.0|              23535.46|             652.67|         May-2017|             null|2024-02-07 06:20:...|\n",
       "|14137736|                 12000.0|                1424.07|                    0.0|              13424.07|            6487.77|         Nov-2015|             null|2024-02-07 06:20:...|\n",
       "|13207083|                  3200.0|                 812.68|                    0.0|               4012.68|            1977.27|         Oct-2015|             null|2024-02-07 06:20:...|\n",
       "| 9005163|                19329.23|                8837.96|                    0.0|              28167.19|             477.41|         Mar-2019|         Apr-2019|2024-02-07 06:20:...|\n",
       "|14008700|                13467.79|                6748.69|                    0.0|              20216.48|             348.56|         Feb-2019|         Apr-2019|2024-02-07 06:20:...|\n",
       "|13107355|                 11850.0|                2595.82|                    0.0|              14445.82|            8238.78|         Jul-2015|             null|2024-02-07 06:20:...|\n",
       "|14288329|                 25000.0|                  912.0|                    0.0|               25912.0|           25221.66|         Jul-2014|             null|2024-02-07 06:20:...|\n",
       "|14308144|                 15000.0|                2797.71|                    0.0|              17797.71|           12734.33|         Jul-2015|             null|2024-02-07 06:20:...|\n",
       "|14009407|                  9625.0|                 320.99|                    0.0|              9945.991|            9291.33|         Aug-2014|             null|2024-02-07 06:20:...|\n",
       "| 6583213|                 17500.0|                2069.46|                    0.0|              19569.46|           10015.97|         Oct-2015|             null|2024-02-07 06:20:...|\n",
       "|12597061|                  7700.0|                1007.66|                    0.0|               8707.66|            5335.33|         Jul-2015|             null|2024-02-07 06:20:...|\n",
       "|12468587|                  3600.0|                1379.63|                    0.0|             4979.6323|             138.08|         Apr-2017|             null|2024-02-07 06:20:...|\n",
       "|12486035|                 14250.0|                7908.24|                    0.0|              22158.24|            7205.62|         Jul-2017|             null|2024-02-07 06:20:...|\n",
       "+--------+------------------------+-----------------------+-----------------------+----------------------+-------------------+-----------------+-----------------+--------------------+\n",
       "only showing top 20 rows"
      ]
     },
     "execution_count": 16,
     "metadata": {},
     "output_type": "execute_result"
    }
   ],
   "source": [
    "spark.sql(\"select * from loan_repayments\")"
   ]
  },
  {
   "cell_type": "code",
   "execution_count": 0,
   "metadata": {
    "application/vnd.databricks.v1+cell": {
     "cellMetadata": {},
     "inputWidgets": {},
     "nuid": "52678b52-b69c-480b-bbe0-a29db9cea65c",
     "showTitle": false,
     "title": ""
    }
   },
   "outputs": [
    {
     "output_type": "execute_result",
     "data": {
      "text/html": [
       "<table border='1'>\n",
       "<tr><th>count(1)</th></tr>\n",
       "<tr><td>69</td></tr>\n",
       "</table>\n"
      ],
      "text/plain": [
       "+--------+\n",
       "|count(1)|\n",
       "+--------+\n",
       "|      69|\n",
       "+--------+"
      ]
     },
     "execution_count": 17,
     "metadata": {},
     "output_type": "execute_result"
    }
   ],
   "source": [
    "# check few columns if null exists\n",
    "spark.sql(\"select count(*) from loan_repayments where total_principal_received is null\")"
   ]
  },
  {
   "cell_type": "code",
   "execution_count": 0,
   "metadata": {
    "application/vnd.databricks.v1+cell": {
     "cellMetadata": {},
     "inputWidgets": {},
     "nuid": "5aaea124-0a69-4ea7-8da6-c73cb0547f5b",
     "showTitle": false,
     "title": ""
    }
   },
   "outputs": [],
   "source": [
    "columns_to_check = [\"total_principal_received\", \"total_interest_received\", \"total_late_fee_received\", \"total_payment_received\", \"last_payment_amount\"]"
   ]
  },
  {
   "cell_type": "code",
   "execution_count": 0,
   "metadata": {
    "application/vnd.databricks.v1+cell": {
     "cellMetadata": {},
     "inputWidgets": {},
     "nuid": "a2445b8a-5868-4e2f-a176-004928e33270",
     "showTitle": false,
     "title": ""
    }
   },
   "outputs": [],
   "source": [
    "loans_repay_filtered_df = loans_repay_df_ingestd.na.drop(subset=columns_to_check)"
   ]
  },
  {
   "cell_type": "code",
   "execution_count": 0,
   "metadata": {
    "application/vnd.databricks.v1+cell": {
     "cellMetadata": {},
     "inputWidgets": {},
     "nuid": "87f0a9f4-d523-490d-9552-767bec3dbb0f",
     "showTitle": false,
     "title": ""
    }
   },
   "outputs": [
    {
     "output_type": "execute_result",
     "data": {
      "text/plain": [
       "2260498"
      ]
     },
     "execution_count": 20,
     "metadata": {},
     "output_type": "execute_result"
    }
   ],
   "source": [
    "loans_repay_filtered_df.count()"
   ]
  },
  {
   "cell_type": "code",
   "execution_count": 0,
   "metadata": {
    "application/vnd.databricks.v1+cell": {
     "cellMetadata": {},
     "inputWidgets": {},
     "nuid": "af4126e6-ab6a-416a-8880-346b687ce022",
     "showTitle": false,
     "title": ""
    }
   },
   "outputs": [
    {
     "output_type": "execute_result",
     "data": {
      "text/plain": [
       "203"
      ]
     },
     "execution_count": 21,
     "metadata": {},
     "output_type": "execute_result"
    }
   ],
   "source": [
    "2260701 - 2260498"
   ]
  },
  {
   "cell_type": "markdown",
   "metadata": {
    "application/vnd.databricks.v1+cell": {
     "cellMetadata": {},
     "inputWidgets": {},
     "nuid": "821799da-65d4-4fa6-a532-8911c72e0eda",
     "showTitle": false,
     "title": ""
    }
   },
   "source": [
    "\n",
    "#### 4. Check if total_payment_received is zero, and total_principal_received is not zero. If there is such row then replace the value with sum of total_principal_received, total_interest_received, and total_late_fee_received"
   ]
  },
  {
   "cell_type": "code",
   "execution_count": 0,
   "metadata": {
    "application/vnd.databricks.v1+cell": {
     "cellMetadata": {},
     "inputWidgets": {},
     "nuid": "741d95e8-d2ac-4f62-91fb-889262a8824c",
     "showTitle": false,
     "title": ""
    }
   },
   "outputs": [
    {
     "output_type": "execute_result",
     "data": {
      "text/html": [
       "<table border='1'>\n",
       "<tr><th>count(1)</th></tr>\n",
       "<tr><td>1068</td></tr>\n",
       "</table>\n"
      ],
      "text/plain": [
       "+--------+\n",
       "|count(1)|\n",
       "+--------+\n",
       "|    1068|\n",
       "+--------+"
      ]
     },
     "execution_count": 22,
     "metadata": {},
     "output_type": "execute_result"
    }
   ],
   "source": [
    "spark.sql(\"select count(*) from loan_repayments where total_payment_received = 0.0\")"
   ]
  },
  {
   "cell_type": "code",
   "execution_count": 0,
   "metadata": {
    "application/vnd.databricks.v1+cell": {
     "cellMetadata": {},
     "inputWidgets": {},
     "nuid": "b0e938cc-aff1-431d-bac0-bb976110a035",
     "showTitle": false,
     "title": ""
    }
   },
   "outputs": [
    {
     "output_type": "execute_result",
     "data": {
      "text/html": [
       "<table border='1'>\n",
       "<tr><th>count(1)</th></tr>\n",
       "<tr><td>112</td></tr>\n",
       "</table>\n"
      ],
      "text/plain": [
       "+--------+\n",
       "|count(1)|\n",
       "+--------+\n",
       "|     112|\n",
       "+--------+"
      ]
     },
     "execution_count": 23,
     "metadata": {},
     "output_type": "execute_result"
    }
   ],
   "source": [
    "spark.sql(\"select count(*) from loan_repayments where total_payment_received = 0.0 and total_principal_received != 0.0\")"
   ]
  },
  {
   "cell_type": "code",
   "execution_count": 0,
   "metadata": {
    "application/vnd.databricks.v1+cell": {
     "cellMetadata": {},
     "inputWidgets": {},
     "nuid": "3d3a3945-be03-4797-b0d7-6a61a0cf645b",
     "showTitle": false,
     "title": ""
    }
   },
   "outputs": [
    {
     "output_type": "execute_result",
     "data": {
      "text/html": [
       "<table border='1'>\n",
       "<tr><th>loan_id</th><th>total_principal_received</th><th>total_interest_received</th><th>total_late_fee_received</th><th>total_payment_received</th><th>last_payment_amount</th><th>last_payment_date</th><th>next_payment_date</th><th>ingest_date</th></tr>\n",
       "<tr><td>61400928</td><td>4053.98</td><td>1233.28</td><td>814.56</td><td>0.0</td><td>null</td><td>361.10519999940004</td><td>228.25</td><td>2024-02-07 06:20:...</td></tr>\n",
       "<tr><td>1064185</td><td>11600.98</td><td>11600.98</td><td>10000.0</td><td>0.0</td><td>0.0</td><td>0.0</td><td>Dec-2014</td><td>2024-02-07 06:20:...</td></tr>\n",
       "<tr><td>839321</td><td>4523.48</td><td>4400.0</td><td>123.48</td><td>0.0</td><td>null</td><td>0.0</td><td>4234.33</td><td>2024-02-07 06:20:...</td></tr>\n",
       "<tr><td>516382</td><td>21890.229</td><td>21856.03</td><td>16000.0</td><td>0.0</td><td>0.0</td><td>0.0</td><td>Mar-2014</td><td>2024-02-07 06:20:...</td></tr>\n",
       "<tr><td>532839</td><td>15245.58</td><td>15025.0</td><td>220.58</td><td>0.0</td><td>null</td><td>0.0</td><td>15246.35</td><td>2024-02-07 06:20:...</td></tr>\n",
       "<tr><td>465295</td><td>12654.72</td><td>9600.01</td><td>3889.08</td><td>0.0</td><td>null</td><td>0.0</td><td>5465.72</td><td>2024-02-07 06:20:...</td></tr>\n",
       "<tr><td>528899</td><td>3045.0364</td><td>3019.64</td><td>2500.0</td><td>0.0</td><td>0.0</td><td>0.0</td><td>Jan-2013</td><td>2024-02-07 06:20:...</td></tr>\n",
       "<tr><td>528607</td><td>23746.53</td><td>13775.33</td><td>10053.11</td><td>0.0</td><td>null</td><td>14.410300001600001</td><td>1206.0</td><td>2024-02-07 06:20:...</td></tr>\n",
       "<tr><td>527598</td><td>2398.9092</td><td>2220.51</td><td>2200.0</td><td>0.0</td><td>0.0</td><td>0.0</td><td>Jul-2011</td><td>2024-02-07 06:20:...</td></tr>\n",
       "<tr><td>527581</td><td>20.7</td><td>15.0</td><td>null</td><td>0.0</td><td>15474.61</td><td>16335.089985249298</td><td>14000.0</td><td>2024-02-07 06:20:...</td></tr>\n",
       "<tr><td>525697</td><td>21797.86</td><td>19894.9</td><td>15750.0</td><td>0.0</td><td>0.0</td><td>0.0</td><td>Jun-2015</td><td>2024-02-07 06:20:...</td></tr>\n",
       "<tr><td>525008</td><td>18277.01</td><td>17000.0</td><td>1638.05</td><td>0.0</td><td>null</td><td>0.0</td><td>12530.08</td><td>2024-02-07 06:20:...</td></tr>\n",
       "<tr><td>523473</td><td>7272.39</td><td>7000.0</td><td>840.09</td><td>0.0</td><td>null</td><td>0.0</td><td>246.35</td><td>2024-02-07 06:20:...</td></tr>\n",
       "<tr><td>518686</td><td>14744.61</td><td>11175.0</td><td>3648.63</td><td>0.0</td><td>null</td><td>0.0</td><td>6980.69</td><td>2024-02-07 06:20:...</td></tr>\n",
       "<tr><td>522788</td><td>13833.32</td><td>9525.0</td><td>4469.88</td><td>0.0</td><td>null</td><td>0.0</td><td>240.77</td><td>2024-02-07 06:20:...</td></tr>\n",
       "<tr><td>522641</td><td>3146.8193</td><td>3146.82</td><td>3000.0</td><td>0.0</td><td>0.0</td><td>0.0</td><td>Sep-2011</td><td>2024-02-07 06:20:...</td></tr>\n",
       "<tr><td>517055</td><td>12445.92</td><td>12000.0</td><td>1107.79</td><td>0.0</td><td>null</td><td>0.0</td><td>5819.27</td><td>2024-02-07 06:20:...</td></tr>\n",
       "<tr><td>515953</td><td>56.5</td><td>33.0</td><td>null</td><td>0.0</td><td>14428.02</td><td>14488.3848306602</td><td>12000.0</td><td>2024-02-07 06:20:...</td></tr>\n",
       "<tr><td>515655</td><td>29938.576</td><td>29905.75</td><td>22800.0</td><td>0.0</td><td>0.0</td><td>0.0</td><td>May-2013</td><td>2024-02-07 06:20:...</td></tr>\n",
       "<tr><td>515070</td><td>11869.49</td><td>7771.86</td><td>5128.37</td><td>0.0</td><td>null</td><td>0.0</td><td>929.79</td><td>2024-02-07 06:20:...</td></tr>\n",
       "</table>\n",
       "only showing top 20 rows\n"
      ],
      "text/plain": [
       "+--------+------------------------+-----------------------+-----------------------+----------------------+-------------------+------------------+-----------------+--------------------+\n",
       "| loan_id|total_principal_received|total_interest_received|total_late_fee_received|total_payment_received|last_payment_amount| last_payment_date|next_payment_date|         ingest_date|\n",
       "+--------+------------------------+-----------------------+-----------------------+----------------------+-------------------+------------------+-----------------+--------------------+\n",
       "|61400928|                 4053.98|                1233.28|                 814.56|                   0.0|               null|361.10519999940004|           228.25|2024-02-07 06:20:...|\n",
       "| 1064185|                11600.98|               11600.98|                10000.0|                   0.0|                0.0|               0.0|         Dec-2014|2024-02-07 06:20:...|\n",
       "|  839321|                 4523.48|                 4400.0|                 123.48|                   0.0|               null|               0.0|          4234.33|2024-02-07 06:20:...|\n",
       "|  516382|               21890.229|               21856.03|                16000.0|                   0.0|                0.0|               0.0|         Mar-2014|2024-02-07 06:20:...|\n",
       "|  532839|                15245.58|                15025.0|                 220.58|                   0.0|               null|               0.0|         15246.35|2024-02-07 06:20:...|\n",
       "|  465295|                12654.72|                9600.01|                3889.08|                   0.0|               null|               0.0|          5465.72|2024-02-07 06:20:...|\n",
       "|  528899|               3045.0364|                3019.64|                 2500.0|                   0.0|                0.0|               0.0|         Jan-2013|2024-02-07 06:20:...|\n",
       "|  528607|                23746.53|               13775.33|               10053.11|                   0.0|               null|14.410300001600001|           1206.0|2024-02-07 06:20:...|\n",
       "|  527598|               2398.9092|                2220.51|                 2200.0|                   0.0|                0.0|               0.0|         Jul-2011|2024-02-07 06:20:...|\n",
       "|  527581|                    20.7|                   15.0|                   null|                   0.0|           15474.61|16335.089985249298|          14000.0|2024-02-07 06:20:...|\n",
       "|  525697|                21797.86|                19894.9|                15750.0|                   0.0|                0.0|               0.0|         Jun-2015|2024-02-07 06:20:...|\n",
       "|  525008|                18277.01|                17000.0|                1638.05|                   0.0|               null|               0.0|         12530.08|2024-02-07 06:20:...|\n",
       "|  523473|                 7272.39|                 7000.0|                 840.09|                   0.0|               null|               0.0|           246.35|2024-02-07 06:20:...|\n",
       "|  518686|                14744.61|                11175.0|                3648.63|                   0.0|               null|               0.0|          6980.69|2024-02-07 06:20:...|\n",
       "|  522788|                13833.32|                 9525.0|                4469.88|                   0.0|               null|               0.0|           240.77|2024-02-07 06:20:...|\n",
       "|  522641|               3146.8193|                3146.82|                 3000.0|                   0.0|                0.0|               0.0|         Sep-2011|2024-02-07 06:20:...|\n",
       "|  517055|                12445.92|                12000.0|                1107.79|                   0.0|               null|               0.0|          5819.27|2024-02-07 06:20:...|\n",
       "|  515953|                    56.5|                   33.0|                   null|                   0.0|           14428.02|  14488.3848306602|          12000.0|2024-02-07 06:20:...|\n",
       "|  515655|               29938.576|               29905.75|                22800.0|                   0.0|                0.0|               0.0|         May-2013|2024-02-07 06:20:...|\n",
       "|  515070|                11869.49|                7771.86|                5128.37|                   0.0|               null|               0.0|           929.79|2024-02-07 06:20:...|\n",
       "+--------+------------------------+-----------------------+-----------------------+----------------------+-------------------+------------------+-----------------+--------------------+\n",
       "only showing top 20 rows"
      ]
     },
     "execution_count": 24,
     "metadata": {},
     "output_type": "execute_result"
    }
   ],
   "source": [
    "spark.sql(\"select * from loan_repayments where total_payment_received = 0.0 and total_principal_received != 0.0\")"
   ]
  },
  {
   "cell_type": "code",
   "execution_count": 0,
   "metadata": {
    "application/vnd.databricks.v1+cell": {
     "cellMetadata": {},
     "inputWidgets": {},
     "nuid": "9e44f4ed-0e19-437e-9587-19ced500b095",
     "showTitle": false,
     "title": ""
    }
   },
   "outputs": [],
   "source": [
    "from pyspark.sql.functions import when, col"
   ]
  },
  {
   "cell_type": "code",
   "execution_count": 0,
   "metadata": {
    "application/vnd.databricks.v1+cell": {
     "cellMetadata": {},
     "inputWidgets": {},
     "nuid": "3f8725f0-66b8-4511-ba05-7a6cfd611953",
     "showTitle": false,
     "title": ""
    }
   },
   "outputs": [],
   "source": [
    "loans_payments_fixed_df = loans_repay_filtered_df.withColumn(\n",
    "   \"total_payment_received\",\n",
    "    when(\n",
    "        (col(\"total_principal_received\") != 0.0) &\n",
    "        (col(\"total_payment_received\") == 0.0),\n",
    "        col(\"total_principal_received\") + col(\"total_interest_received\") + col(\"total_late_fee_received\")\n",
    "    ).otherwise(col(\"total_payment_received\"))\n",
    ")"
   ]
  },
  {
   "cell_type": "code",
   "execution_count": 0,
   "metadata": {
    "application/vnd.databricks.v1+cell": {
     "cellMetadata": {},
     "inputWidgets": {},
     "nuid": "cae0f093-9fd3-4bbd-b8cb-2c86afc2439f",
     "showTitle": false,
     "title": ""
    }
   },
   "outputs": [
    {
     "output_type": "execute_result",
     "data": {
      "text/html": [
       "<table border='1'>\n",
       "<tr><th>loan_id</th><th>total_principal_received</th><th>total_interest_received</th><th>total_late_fee_received</th><th>total_payment_received</th><th>last_payment_amount</th><th>last_payment_date</th><th>next_payment_date</th><th>ingest_date</th></tr>\n",
       "<tr><td>14408468</td><td>5000.0</td><td>561.49</td><td>0.0</td><td>5561.49</td><td>4019.97</td><td>Feb-2015</td><td>null</td><td>2024-02-07 06:20:...</td></tr>\n",
       "<tr><td>14520567</td><td>11000.0</td><td>1716.53</td><td>0.0</td><td>12716.525</td><td>353.13</td><td>May-2017</td><td>null</td><td>2024-02-07 06:20:...</td></tr>\n",
       "<tr><td>14708730</td><td>21760.43</td><td>4807.25</td><td>0.0</td><td>26567.68</td><td>830.24</td><td>Jan-2017</td><td>null</td><td>2024-02-07 06:20:...</td></tr>\n",
       "<tr><td>14491003</td><td>1500.0</td><td>192.68</td><td>0.0</td><td>1692.6753</td><td>1342.22</td><td>Dec-2014</td><td>null</td><td>2024-02-07 06:20:...</td></tr>\n",
       "<tr><td>14510981</td><td>10000.0</td><td>2128.02</td><td>0.0</td><td>12128.021</td><td>336.52</td><td>Apr-2017</td><td>null</td><td>2024-02-07 06:20:...</td></tr>\n",
       "<tr><td>14177845</td><td>5380.29</td><td>3227.55</td><td>0.0</td><td>9415.65</td><td>300.28</td><td>Aug-2016</td><td>null</td><td>2024-02-07 06:20:...</td></tr>\n",
       "<tr><td>13947687</td><td>10000.0</td><td>3859.88</td><td>0.0</td><td>13859.883</td><td>5032.64</td><td>Jan-2017</td><td>null</td><td>2024-02-07 06:20:...</td></tr>\n",
       "<tr><td>12905731</td><td>18000.0</td><td>5535.46</td><td>0.0</td><td>23535.46</td><td>652.67</td><td>May-2017</td><td>null</td><td>2024-02-07 06:20:...</td></tr>\n",
       "<tr><td>14137736</td><td>12000.0</td><td>1424.07</td><td>0.0</td><td>13424.07</td><td>6487.77</td><td>Nov-2015</td><td>null</td><td>2024-02-07 06:20:...</td></tr>\n",
       "<tr><td>13207083</td><td>3200.0</td><td>812.68</td><td>0.0</td><td>4012.68</td><td>1977.27</td><td>Oct-2015</td><td>null</td><td>2024-02-07 06:20:...</td></tr>\n",
       "<tr><td>9005163</td><td>19329.23</td><td>8837.96</td><td>0.0</td><td>28167.19</td><td>477.41</td><td>Mar-2019</td><td>Apr-2019</td><td>2024-02-07 06:20:...</td></tr>\n",
       "<tr><td>14008700</td><td>13467.79</td><td>6748.69</td><td>0.0</td><td>20216.48</td><td>348.56</td><td>Feb-2019</td><td>Apr-2019</td><td>2024-02-07 06:20:...</td></tr>\n",
       "<tr><td>13107355</td><td>11850.0</td><td>2595.82</td><td>0.0</td><td>14445.82</td><td>8238.78</td><td>Jul-2015</td><td>null</td><td>2024-02-07 06:20:...</td></tr>\n",
       "<tr><td>14288329</td><td>25000.0</td><td>912.0</td><td>0.0</td><td>25912.0</td><td>25221.66</td><td>Jul-2014</td><td>null</td><td>2024-02-07 06:20:...</td></tr>\n",
       "<tr><td>14308144</td><td>15000.0</td><td>2797.71</td><td>0.0</td><td>17797.71</td><td>12734.33</td><td>Jul-2015</td><td>null</td><td>2024-02-07 06:20:...</td></tr>\n",
       "<tr><td>14009407</td><td>9625.0</td><td>320.99</td><td>0.0</td><td>9945.991</td><td>9291.33</td><td>Aug-2014</td><td>null</td><td>2024-02-07 06:20:...</td></tr>\n",
       "<tr><td>6583213</td><td>17500.0</td><td>2069.46</td><td>0.0</td><td>19569.46</td><td>10015.97</td><td>Oct-2015</td><td>null</td><td>2024-02-07 06:20:...</td></tr>\n",
       "<tr><td>12597061</td><td>7700.0</td><td>1007.66</td><td>0.0</td><td>8707.66</td><td>5335.33</td><td>Jul-2015</td><td>null</td><td>2024-02-07 06:20:...</td></tr>\n",
       "<tr><td>12468587</td><td>3600.0</td><td>1379.63</td><td>0.0</td><td>4979.6323</td><td>138.08</td><td>Apr-2017</td><td>null</td><td>2024-02-07 06:20:...</td></tr>\n",
       "<tr><td>12486035</td><td>14250.0</td><td>7908.24</td><td>0.0</td><td>22158.24</td><td>7205.62</td><td>Jul-2017</td><td>null</td><td>2024-02-07 06:20:...</td></tr>\n",
       "</table>\n",
       "only showing top 20 rows\n"
      ],
      "text/plain": [
       "+--------+------------------------+-----------------------+-----------------------+----------------------+-------------------+-----------------+-----------------+--------------------+\n",
       "| loan_id|total_principal_received|total_interest_received|total_late_fee_received|total_payment_received|last_payment_amount|last_payment_date|next_payment_date|         ingest_date|\n",
       "+--------+------------------------+-----------------------+-----------------------+----------------------+-------------------+-----------------+-----------------+--------------------+\n",
       "|14408468|                  5000.0|                 561.49|                    0.0|               5561.49|            4019.97|         Feb-2015|             null|2024-02-07 06:20:...|\n",
       "|14520567|                 11000.0|                1716.53|                    0.0|             12716.525|             353.13|         May-2017|             null|2024-02-07 06:20:...|\n",
       "|14708730|                21760.43|                4807.25|                    0.0|              26567.68|             830.24|         Jan-2017|             null|2024-02-07 06:20:...|\n",
       "|14491003|                  1500.0|                 192.68|                    0.0|             1692.6753|            1342.22|         Dec-2014|             null|2024-02-07 06:20:...|\n",
       "|14510981|                 10000.0|                2128.02|                    0.0|             12128.021|             336.52|         Apr-2017|             null|2024-02-07 06:20:...|\n",
       "|14177845|                 5380.29|                3227.55|                    0.0|               9415.65|             300.28|         Aug-2016|             null|2024-02-07 06:20:...|\n",
       "|13947687|                 10000.0|                3859.88|                    0.0|             13859.883|            5032.64|         Jan-2017|             null|2024-02-07 06:20:...|\n",
       "|12905731|                 18000.0|                5535.46|                    0.0|              23535.46|             652.67|         May-2017|             null|2024-02-07 06:20:...|\n",
       "|14137736|                 12000.0|                1424.07|                    0.0|              13424.07|            6487.77|         Nov-2015|             null|2024-02-07 06:20:...|\n",
       "|13207083|                  3200.0|                 812.68|                    0.0|               4012.68|            1977.27|         Oct-2015|             null|2024-02-07 06:20:...|\n",
       "| 9005163|                19329.23|                8837.96|                    0.0|              28167.19|             477.41|         Mar-2019|         Apr-2019|2024-02-07 06:20:...|\n",
       "|14008700|                13467.79|                6748.69|                    0.0|              20216.48|             348.56|         Feb-2019|         Apr-2019|2024-02-07 06:20:...|\n",
       "|13107355|                 11850.0|                2595.82|                    0.0|              14445.82|            8238.78|         Jul-2015|             null|2024-02-07 06:20:...|\n",
       "|14288329|                 25000.0|                  912.0|                    0.0|               25912.0|           25221.66|         Jul-2014|             null|2024-02-07 06:20:...|\n",
       "|14308144|                 15000.0|                2797.71|                    0.0|              17797.71|           12734.33|         Jul-2015|             null|2024-02-07 06:20:...|\n",
       "|14009407|                  9625.0|                 320.99|                    0.0|              9945.991|            9291.33|         Aug-2014|             null|2024-02-07 06:20:...|\n",
       "| 6583213|                 17500.0|                2069.46|                    0.0|              19569.46|           10015.97|         Oct-2015|             null|2024-02-07 06:20:...|\n",
       "|12597061|                  7700.0|                1007.66|                    0.0|               8707.66|            5335.33|         Jul-2015|             null|2024-02-07 06:20:...|\n",
       "|12468587|                  3600.0|                1379.63|                    0.0|             4979.6323|             138.08|         Apr-2017|             null|2024-02-07 06:20:...|\n",
       "|12486035|                 14250.0|                7908.24|                    0.0|              22158.24|            7205.62|         Jul-2017|             null|2024-02-07 06:20:...|\n",
       "+--------+------------------------+-----------------------+-----------------------+----------------------+-------------------+-----------------+-----------------+--------------------+\n",
       "only showing top 20 rows"
      ]
     },
     "execution_count": 27,
     "metadata": {},
     "output_type": "execute_result"
    }
   ],
   "source": [
    "loans_payments_fixed_df"
   ]
  },
  {
   "cell_type": "code",
   "execution_count": 0,
   "metadata": {
    "application/vnd.databricks.v1+cell": {
     "cellMetadata": {},
     "inputWidgets": {},
     "nuid": "b4b4124b-945c-4970-b5cd-aeeff0506905",
     "showTitle": false,
     "title": ""
    }
   },
   "outputs": [
    {
     "output_type": "execute_result",
     "data": {
      "text/html": [
       "<table border='1'>\n",
       "<tr><th>loan_id</th><th>total_principal_received</th><th>total_interest_received</th><th>total_late_fee_received</th><th>total_payment_received</th><th>last_payment_amount</th><th>last_payment_date</th><th>next_payment_date</th><th>ingest_date</th></tr>\n",
       "<tr><td>1064185</td><td>11600.98</td><td>11600.98</td><td>10000.0</td><td>33201.96</td><td>0.0</td><td>0.0</td><td>Dec-2014</td><td>2024-02-07 06:20:...</td></tr>\n",
       "</table>\n"
      ],
      "text/plain": [
       "+-------+------------------------+-----------------------+-----------------------+----------------------+-------------------+-----------------+-----------------+--------------------+\n",
       "|loan_id|total_principal_received|total_interest_received|total_late_fee_received|total_payment_received|last_payment_amount|last_payment_date|next_payment_date|         ingest_date|\n",
       "+-------+------------------------+-----------------------+-----------------------+----------------------+-------------------+-----------------+-----------------+--------------------+\n",
       "|1064185|                11600.98|               11600.98|                10000.0|              33201.96|                0.0|              0.0|         Dec-2014|2024-02-07 06:20:...|\n",
       "+-------+------------------------+-----------------------+-----------------------+----------------------+-------------------+-----------------+-----------------+--------------------+"
      ]
     },
     "execution_count": 28,
     "metadata": {},
     "output_type": "execute_result"
    }
   ],
   "source": [
    "loans_payments_fixed_df.filter(\"loan_id == '1064185'\")"
   ]
  },
  {
   "cell_type": "markdown",
   "metadata": {
    "application/vnd.databricks.v1+cell": {
     "cellMetadata": {},
     "inputWidgets": {},
     "nuid": "1080f3e5-8932-425e-af6d-887696e2371e",
     "showTitle": false,
     "title": ""
    }
   },
   "source": [
    "#### 5.Remove rows with values 0.0 in column total_payment_received.\n",
    "These recoreds are not useful"
   ]
  },
  {
   "cell_type": "code",
   "execution_count": 0,
   "metadata": {
    "application/vnd.databricks.v1+cell": {
     "cellMetadata": {},
     "inputWidgets": {},
     "nuid": "f328c6eb-c00a-422e-8053-117783715cf7",
     "showTitle": false,
     "title": ""
    }
   },
   "outputs": [],
   "source": [
    "loans_payments_fixed2_df = loans_payments_fixed_df.filter(\"total_payment_received != 0.0\")"
   ]
  },
  {
   "cell_type": "code",
   "execution_count": 0,
   "metadata": {
    "application/vnd.databricks.v1+cell": {
     "cellMetadata": {},
     "inputWidgets": {},
     "nuid": "8955f917-f97f-4aae-b5a0-779ca0452f6e",
     "showTitle": false,
     "title": ""
    }
   },
   "outputs": [
    {
     "output_type": "execute_result",
     "data": {
      "text/html": [
       "<table border='1'>\n",
       "<tr><th>loan_id</th><th>total_principal_received</th><th>total_interest_received</th><th>total_late_fee_received</th><th>total_payment_received</th><th>last_payment_amount</th><th>last_payment_date</th><th>next_payment_date</th><th>ingest_date</th></tr>\n",
       "<tr><td>14408468</td><td>5000.0</td><td>561.49</td><td>0.0</td><td>5561.49</td><td>4019.97</td><td>Feb-2015</td><td>null</td><td>2024-02-07 06:20:...</td></tr>\n",
       "<tr><td>14520567</td><td>11000.0</td><td>1716.53</td><td>0.0</td><td>12716.525</td><td>353.13</td><td>May-2017</td><td>null</td><td>2024-02-07 06:20:...</td></tr>\n",
       "<tr><td>14708730</td><td>21760.43</td><td>4807.25</td><td>0.0</td><td>26567.68</td><td>830.24</td><td>Jan-2017</td><td>null</td><td>2024-02-07 06:20:...</td></tr>\n",
       "<tr><td>14491003</td><td>1500.0</td><td>192.68</td><td>0.0</td><td>1692.6753</td><td>1342.22</td><td>Dec-2014</td><td>null</td><td>2024-02-07 06:20:...</td></tr>\n",
       "<tr><td>14510981</td><td>10000.0</td><td>2128.02</td><td>0.0</td><td>12128.021</td><td>336.52</td><td>Apr-2017</td><td>null</td><td>2024-02-07 06:20:...</td></tr>\n",
       "<tr><td>14177845</td><td>5380.29</td><td>3227.55</td><td>0.0</td><td>9415.65</td><td>300.28</td><td>Aug-2016</td><td>null</td><td>2024-02-07 06:20:...</td></tr>\n",
       "<tr><td>13947687</td><td>10000.0</td><td>3859.88</td><td>0.0</td><td>13859.883</td><td>5032.64</td><td>Jan-2017</td><td>null</td><td>2024-02-07 06:20:...</td></tr>\n",
       "<tr><td>12905731</td><td>18000.0</td><td>5535.46</td><td>0.0</td><td>23535.46</td><td>652.67</td><td>May-2017</td><td>null</td><td>2024-02-07 06:20:...</td></tr>\n",
       "<tr><td>14137736</td><td>12000.0</td><td>1424.07</td><td>0.0</td><td>13424.07</td><td>6487.77</td><td>Nov-2015</td><td>null</td><td>2024-02-07 06:20:...</td></tr>\n",
       "<tr><td>13207083</td><td>3200.0</td><td>812.68</td><td>0.0</td><td>4012.68</td><td>1977.27</td><td>Oct-2015</td><td>null</td><td>2024-02-07 06:20:...</td></tr>\n",
       "<tr><td>9005163</td><td>19329.23</td><td>8837.96</td><td>0.0</td><td>28167.19</td><td>477.41</td><td>Mar-2019</td><td>Apr-2019</td><td>2024-02-07 06:20:...</td></tr>\n",
       "<tr><td>14008700</td><td>13467.79</td><td>6748.69</td><td>0.0</td><td>20216.48</td><td>348.56</td><td>Feb-2019</td><td>Apr-2019</td><td>2024-02-07 06:20:...</td></tr>\n",
       "<tr><td>13107355</td><td>11850.0</td><td>2595.82</td><td>0.0</td><td>14445.82</td><td>8238.78</td><td>Jul-2015</td><td>null</td><td>2024-02-07 06:20:...</td></tr>\n",
       "<tr><td>14288329</td><td>25000.0</td><td>912.0</td><td>0.0</td><td>25912.0</td><td>25221.66</td><td>Jul-2014</td><td>null</td><td>2024-02-07 06:20:...</td></tr>\n",
       "<tr><td>14308144</td><td>15000.0</td><td>2797.71</td><td>0.0</td><td>17797.71</td><td>12734.33</td><td>Jul-2015</td><td>null</td><td>2024-02-07 06:20:...</td></tr>\n",
       "<tr><td>14009407</td><td>9625.0</td><td>320.99</td><td>0.0</td><td>9945.991</td><td>9291.33</td><td>Aug-2014</td><td>null</td><td>2024-02-07 06:20:...</td></tr>\n",
       "<tr><td>6583213</td><td>17500.0</td><td>2069.46</td><td>0.0</td><td>19569.46</td><td>10015.97</td><td>Oct-2015</td><td>null</td><td>2024-02-07 06:20:...</td></tr>\n",
       "<tr><td>12597061</td><td>7700.0</td><td>1007.66</td><td>0.0</td><td>8707.66</td><td>5335.33</td><td>Jul-2015</td><td>null</td><td>2024-02-07 06:20:...</td></tr>\n",
       "<tr><td>12468587</td><td>3600.0</td><td>1379.63</td><td>0.0</td><td>4979.6323</td><td>138.08</td><td>Apr-2017</td><td>null</td><td>2024-02-07 06:20:...</td></tr>\n",
       "<tr><td>12486035</td><td>14250.0</td><td>7908.24</td><td>0.0</td><td>22158.24</td><td>7205.62</td><td>Jul-2017</td><td>null</td><td>2024-02-07 06:20:...</td></tr>\n",
       "</table>\n",
       "only showing top 20 rows\n"
      ],
      "text/plain": [
       "+--------+------------------------+-----------------------+-----------------------+----------------------+-------------------+-----------------+-----------------+--------------------+\n",
       "| loan_id|total_principal_received|total_interest_received|total_late_fee_received|total_payment_received|last_payment_amount|last_payment_date|next_payment_date|         ingest_date|\n",
       "+--------+------------------------+-----------------------+-----------------------+----------------------+-------------------+-----------------+-----------------+--------------------+\n",
       "|14408468|                  5000.0|                 561.49|                    0.0|               5561.49|            4019.97|         Feb-2015|             null|2024-02-07 06:20:...|\n",
       "|14520567|                 11000.0|                1716.53|                    0.0|             12716.525|             353.13|         May-2017|             null|2024-02-07 06:20:...|\n",
       "|14708730|                21760.43|                4807.25|                    0.0|              26567.68|             830.24|         Jan-2017|             null|2024-02-07 06:20:...|\n",
       "|14491003|                  1500.0|                 192.68|                    0.0|             1692.6753|            1342.22|         Dec-2014|             null|2024-02-07 06:20:...|\n",
       "|14510981|                 10000.0|                2128.02|                    0.0|             12128.021|             336.52|         Apr-2017|             null|2024-02-07 06:20:...|\n",
       "|14177845|                 5380.29|                3227.55|                    0.0|               9415.65|             300.28|         Aug-2016|             null|2024-02-07 06:20:...|\n",
       "|13947687|                 10000.0|                3859.88|                    0.0|             13859.883|            5032.64|         Jan-2017|             null|2024-02-07 06:20:...|\n",
       "|12905731|                 18000.0|                5535.46|                    0.0|              23535.46|             652.67|         May-2017|             null|2024-02-07 06:20:...|\n",
       "|14137736|                 12000.0|                1424.07|                    0.0|              13424.07|            6487.77|         Nov-2015|             null|2024-02-07 06:20:...|\n",
       "|13207083|                  3200.0|                 812.68|                    0.0|               4012.68|            1977.27|         Oct-2015|             null|2024-02-07 06:20:...|\n",
       "| 9005163|                19329.23|                8837.96|                    0.0|              28167.19|             477.41|         Mar-2019|         Apr-2019|2024-02-07 06:20:...|\n",
       "|14008700|                13467.79|                6748.69|                    0.0|              20216.48|             348.56|         Feb-2019|         Apr-2019|2024-02-07 06:20:...|\n",
       "|13107355|                 11850.0|                2595.82|                    0.0|              14445.82|            8238.78|         Jul-2015|             null|2024-02-07 06:20:...|\n",
       "|14288329|                 25000.0|                  912.0|                    0.0|               25912.0|           25221.66|         Jul-2014|             null|2024-02-07 06:20:...|\n",
       "|14308144|                 15000.0|                2797.71|                    0.0|              17797.71|           12734.33|         Jul-2015|             null|2024-02-07 06:20:...|\n",
       "|14009407|                  9625.0|                 320.99|                    0.0|              9945.991|            9291.33|         Aug-2014|             null|2024-02-07 06:20:...|\n",
       "| 6583213|                 17500.0|                2069.46|                    0.0|              19569.46|           10015.97|         Oct-2015|             null|2024-02-07 06:20:...|\n",
       "|12597061|                  7700.0|                1007.66|                    0.0|               8707.66|            5335.33|         Jul-2015|             null|2024-02-07 06:20:...|\n",
       "|12468587|                  3600.0|                1379.63|                    0.0|             4979.6323|             138.08|         Apr-2017|             null|2024-02-07 06:20:...|\n",
       "|12486035|                 14250.0|                7908.24|                    0.0|              22158.24|            7205.62|         Jul-2017|             null|2024-02-07 06:20:...|\n",
       "+--------+------------------------+-----------------------+-----------------------+----------------------+-------------------+-----------------+-----------------+--------------------+\n",
       "only showing top 20 rows"
      ]
     },
     "execution_count": 30,
     "metadata": {},
     "output_type": "execute_result"
    }
   ],
   "source": [
    "loans_payments_fixed2_df"
   ]
  },
  {
   "cell_type": "markdown",
   "metadata": {
    "application/vnd.databricks.v1+cell": {
     "cellMetadata": {},
     "inputWidgets": {},
     "nuid": "978047ed-b69b-49fb-8e42-73971873327c",
     "showTitle": false,
     "title": ""
    }
   },
   "source": [
    "\n",
    "#### 6. Replace all non suitable values from column last_payment_date, and next_payment_date with null\n"
   ]
  },
  {
   "cell_type": "code",
   "execution_count": 0,
   "metadata": {
    "application/vnd.databricks.v1+cell": {
     "cellMetadata": {},
     "inputWidgets": {},
     "nuid": "46b84e6a-e89b-4375-abe8-1c6743cb3032",
     "showTitle": false,
     "title": ""
    }
   },
   "outputs": [
    {
     "output_type": "execute_result",
     "data": {
      "text/plain": [
       "48"
      ]
     },
     "execution_count": 31,
     "metadata": {},
     "output_type": "execute_result"
    }
   ],
   "source": [
    "loans_payments_fixed2_df.filter(\"last_payment_date = 0.0\").count()"
   ]
  },
  {
   "cell_type": "code",
   "execution_count": 0,
   "metadata": {
    "application/vnd.databricks.v1+cell": {
     "cellMetadata": {},
     "inputWidgets": {},
     "nuid": "c032effd-143f-43fb-bac9-e0efd177614f",
     "showTitle": false,
     "title": ""
    }
   },
   "outputs": [
    {
     "output_type": "execute_result",
     "data": {
      "text/plain": [
       "24"
      ]
     },
     "execution_count": 32,
     "metadata": {},
     "output_type": "execute_result"
    }
   ],
   "source": [
    "loans_payments_fixed2_df.filter(\"next_payment_date = 0.0\").count()"
   ]
  },
  {
   "cell_type": "code",
   "execution_count": 0,
   "metadata": {
    "application/vnd.databricks.v1+cell": {
     "cellMetadata": {},
     "inputWidgets": {},
     "nuid": "838d64af-38d5-424b-898e-62f9718fca14",
     "showTitle": false,
     "title": ""
    }
   },
   "outputs": [
    {
     "output_type": "execute_result",
     "data": {
      "text/plain": [
       "1477"
      ]
     },
     "execution_count": 33,
     "metadata": {},
     "output_type": "execute_result"
    }
   ],
   "source": [
    "loans_payments_fixed2_df.filter(\"last_payment_date is null\").count()"
   ]
  },
  {
   "cell_type": "code",
   "execution_count": 0,
   "metadata": {
    "application/vnd.databricks.v1+cell": {
     "cellMetadata": {},
     "inputWidgets": {},
     "nuid": "66e6424e-9e97-4bc7-bbdf-7180f6835e14",
     "showTitle": false,
     "title": ""
    }
   },
   "outputs": [
    {
     "output_type": "execute_result",
     "data": {
      "text/plain": [
       "1344240"
      ]
     },
     "execution_count": 34,
     "metadata": {},
     "output_type": "execute_result"
    }
   ],
   "source": [
    "loans_payments_fixed2_df.filter(\"next_payment_date is null\").count()"
   ]
  },
  {
   "cell_type": "code",
   "execution_count": 0,
   "metadata": {
    "application/vnd.databricks.v1+cell": {
     "cellMetadata": {},
     "inputWidgets": {},
     "nuid": "89efe19f-a3ae-44c3-8385-2f18f3eb14d2",
     "showTitle": false,
     "title": ""
    }
   },
   "outputs": [],
   "source": [
    "loans_payments_ldate_fixed_df = loans_payments_fixed2_df.withColumn(\n",
    "  \"last_payment_date\",\n",
    "   when(\n",
    "       (col(\"last_payment_date\") == 0.0),\n",
    "       None\n",
    "       ).otherwise(col(\"last_payment_date\"))\n",
    ")"
   ]
  },
  {
   "cell_type": "code",
   "execution_count": 0,
   "metadata": {
    "application/vnd.databricks.v1+cell": {
     "cellMetadata": {},
     "inputWidgets": {},
     "nuid": "27bcb4d5-8d7e-40cf-98ec-bd0368f7d7ac",
     "showTitle": false,
     "title": ""
    }
   },
   "outputs": [],
   "source": [
    "loans_payments_ndate_fixed_df = loans_payments_ldate_fixed_df.withColumn(\n",
    "  \"last_payment_date\",\n",
    "   when(\n",
    "       (col(\"next_payment_date\") == 0.0),\n",
    "       None\n",
    "       ).otherwise(col(\"next_payment_date\"))\n",
    ")"
   ]
  },
  {
   "cell_type": "code",
   "execution_count": 0,
   "metadata": {
    "application/vnd.databricks.v1+cell": {
     "cellMetadata": {},
     "inputWidgets": {},
     "nuid": "2c80974c-db87-4331-ae0b-718d87105d74",
     "showTitle": false,
     "title": ""
    }
   },
   "outputs": [
    {
     "output_type": "execute_result",
     "data": {
      "text/plain": [
       "0"
      ]
     },
     "execution_count": 37,
     "metadata": {},
     "output_type": "execute_result"
    }
   ],
   "source": [
    "loans_payments_ndate_fixed_df.filter(\"last_payment_date = 0.0\").count()"
   ]
  },
  {
   "cell_type": "code",
   "execution_count": 0,
   "metadata": {
    "application/vnd.databricks.v1+cell": {
     "cellMetadata": {},
     "inputWidgets": {},
     "nuid": "0eab3d74-0b65-49cf-a68f-cf1885cb3783",
     "showTitle": false,
     "title": ""
    }
   },
   "outputs": [
    {
     "output_type": "execute_result",
     "data": {
      "text/plain": [
       "24"
      ]
     },
     "execution_count": 38,
     "metadata": {},
     "output_type": "execute_result"
    }
   ],
   "source": [
    "loans_payments_ndate_fixed_df.filter(\"next_payment_date = 0.0\").count()"
   ]
  },
  {
   "cell_type": "code",
   "execution_count": 0,
   "metadata": {
    "application/vnd.databricks.v1+cell": {
     "cellMetadata": {},
     "inputWidgets": {},
     "nuid": "87ea80eb-d423-4fb0-a5c4-511f7f77462f",
     "showTitle": false,
     "title": ""
    }
   },
   "outputs": [],
   "source": [
    "loans_payments_ndate_fixed_df.write \\\n",
    ".format(\"parquet\") \\\n",
    ".mode(\"overwrite\") \\\n",
    ".option(\"path\", \"/user/itv008542/lendingclubproject/raw/cleaned/loans_repayments_parquet\") \\\n",
    ".save()"
   ]
  },
  {
   "cell_type": "code",
   "execution_count": 0,
   "metadata": {
    "application/vnd.databricks.v1+cell": {
     "cellMetadata": {},
     "inputWidgets": {},
     "nuid": "6e6e7654-f230-4d23-a453-7d0094c5da76",
     "showTitle": false,
     "title": ""
    }
   },
   "outputs": [],
   "source": [
    "loans_payments_ndate_fixed_df.write \\\n",
    ".option(\"header\", True) \\\n",
    ".format(\"csv\") \\\n",
    ".mode(\"overwrite\") \\\n",
    ".option(\"path\", \"/user/itv008542/lendingclubproject/raw/cleaned/loans_repayments_csv\") \\\n",
    ".save()"
   ]
  },
  {
   "cell_type": "code",
   "execution_count": 0,
   "metadata": {
    "application/vnd.databricks.v1+cell": {
     "cellMetadata": {},
     "inputWidgets": {},
     "nuid": "57e8a681-a183-47e0-b0da-d9dd686e274e",
     "showTitle": false,
     "title": ""
    }
   },
   "outputs": [
    {
     "output_type": "stream",
     "name": "stdout",
     "output_type": "stream",
     "text": [
      "Found 3 items\n-rw-r--r--   3 itv008542 supergroup          0 2024-02-07 06:25 /user/itv008542/lendingclubproject/raw/cleaned/loans_repayments_csv/_SUCCESS\n-rw-r--r--   3 itv008542 supergroup   99861256 2024-02-07 06:25 /user/itv008542/lendingclubproject/raw/cleaned/loans_repayments_csv/part-00000-7024ad64-05dc-4d9b-aedc-3d1b171e18d9-c000.csv\n-rw-r--r--   3 itv008542 supergroup   93537057 2024-02-07 06:25 /user/itv008542/lendingclubproject/raw/cleaned/loans_repayments_csv/part-00001-7024ad64-05dc-4d9b-aedc-3d1b171e18d9-c000.csv\nFound 3 items\n-rw-r--r--   3 itv008542 supergroup          0 2024-02-07 06:25 /user/itv008542/lendingclubproject/raw/cleaned/loans_repayments_parquet/_SUCCESS\n-rw-r--r--   3 itv008542 supergroup   24711153 2024-02-07 06:25 /user/itv008542/lendingclubproject/raw/cleaned/loans_repayments_parquet/part-00000-9d986a8d-8976-485d-a0fc-bca3a1438554-c000.snappy.parquet\n-rw-r--r--   3 itv008542 supergroup   23421415 2024-02-07 06:25 /user/itv008542/lendingclubproject/raw/cleaned/loans_repayments_parquet/part-00001-9d986a8d-8976-485d-a0fc-bca3a1438554-c000.snappy.parquet\n"
     ]
    }
   ],
   "source": [
    "! hadoop fs -ls /user/itv008542/lendingclubproject/raw/cleaned/loans_repayments_csv\n",
    "! hadoop fs -ls /user/itv008542/lendingclubproject/raw/cleaned/loans_repayments_parquet"
   ]
  },
  {
   "cell_type": "markdown",
   "metadata": {
    "application/vnd.databricks.v1+cell": {
     "cellMetadata": {},
     "inputWidgets": {},
     "nuid": "b10e128a-f7ef-452b-8348-b9c1202ead6d",
     "showTitle": false,
     "title": ""
    }
   },
   "source": [
    "## Lending Club Project: Data Cleaning 4\n",
    "\n",
    "### Cleaning loan defaulters data\n",
    "\n",
    "#### Data Cleaning Actions to Take\n",
    "\n",
    "Create dataframe with proper datatypes, and proper column names\n",
    "\n",
    "Insert a new column named as ingestion date (current time )\n",
    "\n",
    "Update column delinq_2yrs to int and replace nulls with zeros\n",
    "\n",
    "Store only member_id for those record having public records\n",
    "\n"
   ]
  },
  {
   "cell_type": "code",
   "execution_count": 0,
   "metadata": {
    "application/vnd.databricks.v1+cell": {
     "cellMetadata": {},
     "inputWidgets": {},
     "nuid": "af499bab-62ef-4de5-8e6c-bf898c126a83",
     "showTitle": false,
     "title": ""
    }
   },
   "outputs": [
    {
     "output_type": "stream",
     "name": "stdout",
     "output_type": "stream",
     "text": [
      "Found 5 items\ndrwxr-xr-x   - itv008542 supergroup          0 2024-02-07 06:25 /user/itv008542/lendingclubproject/raw/cleaned\ndrwxr-xr-x   - itv008542 supergroup          0 2024-02-06 12:12 /user/itv008542/lendingclubproject/raw/customers_data_csv\ndrwxr-xr-x   - itv008542 supergroup          0 2024-02-06 12:19 /user/itv008542/lendingclubproject/raw/loans_data_csv\ndrwxr-xr-x   - itv008542 supergroup          0 2024-02-06 12:24 /user/itv008542/lendingclubproject/raw/loans_defaulters_csv\ndrwxr-xr-x   - itv008542 supergroup          0 2024-02-06 12:22 /user/itv008542/lendingclubproject/raw/loans_repayments_csv\n"
     ]
    }
   ],
   "source": [
    "! hadoop fs -ls /user/itv008542/lendingclubproject/raw"
   ]
  },
  {
   "cell_type": "code",
   "execution_count": 0,
   "metadata": {
    "application/vnd.databricks.v1+cell": {
     "cellMetadata": {},
     "inputWidgets": {},
     "nuid": "67b6b536-7d9b-478c-9201-0b80fe45d9ea",
     "showTitle": false,
     "title": ""
    }
   },
   "outputs": [],
   "source": [
    "loans_def_raw_df = spark.read \\\n",
    ".format(\"csv\") \\\n",
    ".option(\"header\",True) \\\n",
    ".option(\"inferSchema\", True) \\\n",
    ".load(\"/user/itv008542/lendingclubproject/raw/loans_defaulters_csv\")"
   ]
  },
  {
   "cell_type": "code",
   "execution_count": 0,
   "metadata": {
    "application/vnd.databricks.v1+cell": {
     "cellMetadata": {},
     "inputWidgets": {},
     "nuid": "097f99bf-9bf0-4233-bd15-da1f06127238",
     "showTitle": false,
     "title": ""
    }
   },
   "outputs": [
    {
     "output_type": "execute_result",
     "data": {
      "text/html": [
       "<table border='1'>\n",
       "<tr><th>member_id</th><th>delinq_2yrs</th><th>delinq_amnt</th><th>pub_rec</th><th>pub_rec_bankruptcies</th><th>inq_last_6mths</th><th>total_rec_late_fee</th><th>mths_since_last_delinq</th><th>mths_since_last_record</th></tr>\n",
       "<tr><td>6d5091b3fcaaeb4ea...</td><td>0.0</td><td>0.0</td><td>0.0</td><td>0.0</td><td>1.0</td><td>0.0</td><td>30.0</td><td>null</td></tr>\n",
       "<tr><td>b5e7938b0a2da4cea...</td><td>1.0</td><td>0.0</td><td>0.0</td><td>0.0</td><td>4.0</td><td>0.0</td><td>6.0</td><td>null</td></tr>\n",
       "<tr><td>91060b858433e8a61...</td><td>0.0</td><td>0.0</td><td>0.0</td><td>0.0</td><td>0.0</td><td>0.0</td><td>null</td><td>null</td></tr>\n",
       "<tr><td>cab1fa9f533688b0a...</td><td>0.0</td><td>0.0</td><td>0.0</td><td>0.0</td><td>0.0</td><td>0.0</td><td>null</td><td>null</td></tr>\n",
       "<tr><td>f74e401c1ab0adf78...</td><td>1.0</td><td>0.0</td><td>0.0</td><td>0.0</td><td>3.0</td><td>0.0</td><td>12.0</td><td>null</td></tr>\n",
       "<tr><td>8aef4bb29d609d8d6...</td><td>0.0</td><td>0.0</td><td>0.0</td><td>0.0</td><td>0.0</td><td>0.0</td><td>null</td><td>null</td></tr>\n",
       "<tr><td>538b4653da3b1e814...</td><td>0.0</td><td>0.0</td><td>0.0</td><td>0.0</td><td>0.0</td><td>0.0</td><td>49.0</td><td>null</td></tr>\n",
       "<tr><td>b24d55f21390533c5...</td><td>1.0</td><td>0.0</td><td>0.0</td><td>0.0</td><td>0.0</td><td>0.0</td><td>3.0</td><td>null</td></tr>\n",
       "<tr><td>1035c5401b0ca76d0...</td><td>0.0</td><td>0.0</td><td>1.0</td><td>1.0</td><td>1.0</td><td>0.0</td><td>null</td><td>106.0</td></tr>\n",
       "<tr><td>cb0f1777593e77909...</td><td>0.0</td><td>0.0</td><td>0.0</td><td>0.0</td><td>0.0</td><td>0.0</td><td>75.0</td><td>null</td></tr>\n",
       "<tr><td>a962f4d59caec5fa1...</td><td>0.0</td><td>0.0</td><td>0.0</td><td>0.0</td><td>0.0</td><td>0.0</td><td>54.0</td><td>null</td></tr>\n",
       "<tr><td>e7592ab57b3afd9f1...</td><td>0.0</td><td>0.0</td><td>0.0</td><td>0.0</td><td>0.0</td><td>0.0</td><td>null</td><td>null</td></tr>\n",
       "<tr><td>603afa9d1be879b7b...</td><td>0.0</td><td>0.0</td><td>0.0</td><td>0.0</td><td>0.0</td><td>0.0</td><td>null</td><td>null</td></tr>\n",
       "<tr><td>9fe2d59ddf2a4f37e...</td><td>0.0</td><td>0.0</td><td>1.0</td><td>1.0</td><td>1.0</td><td>0.0</td><td>null</td><td>75.0</td></tr>\n",
       "<tr><td>23857480ccf555ce4...</td><td>0.0</td><td>0.0</td><td>0.0</td><td>0.0</td><td>0.0</td><td>0.0</td><td>42.0</td><td>null</td></tr>\n",
       "<tr><td>7c69d5f36fdabf6e1...</td><td>0.0</td><td>0.0</td><td>0.0</td><td>0.0</td><td>0.0</td><td>0.0</td><td>null</td><td>null</td></tr>\n",
       "<tr><td>08bf9e080503b0113...</td><td>0.0</td><td>0.0</td><td>0.0</td><td>0.0</td><td>1.0</td><td>0.0</td><td>null</td><td>null</td></tr>\n",
       "<tr><td>1cafb05aa6c894c30...</td><td>0.0</td><td>0.0</td><td>0.0</td><td>0.0</td><td>0.0</td><td>0.0</td><td>null</td><td>null</td></tr>\n",
       "<tr><td>f2c4010f700d8c9c4...</td><td>0.0</td><td>0.0</td><td>0.0</td><td>0.0</td><td>0.0</td><td>0.0</td><td>29.0</td><td>null</td></tr>\n",
       "<tr><td>05ad4aed7c393035e...</td><td>0.0</td><td>0.0</td><td>1.0</td><td>1.0</td><td>4.0</td><td>0.0</td><td>null</td><td>30.0</td></tr>\n",
       "</table>\n",
       "only showing top 20 rows\n"
      ],
      "text/plain": [
       "+--------------------+-----------+-----------+-------+--------------------+--------------+------------------+----------------------+----------------------+\n",
       "|           member_id|delinq_2yrs|delinq_amnt|pub_rec|pub_rec_bankruptcies|inq_last_6mths|total_rec_late_fee|mths_since_last_delinq|mths_since_last_record|\n",
       "+--------------------+-----------+-----------+-------+--------------------+--------------+------------------+----------------------+----------------------+\n",
       "|6d5091b3fcaaeb4ea...|        0.0|        0.0|    0.0|                 0.0|           1.0|               0.0|                  30.0|                  null|\n",
       "|b5e7938b0a2da4cea...|        1.0|        0.0|    0.0|                 0.0|           4.0|               0.0|                   6.0|                  null|\n",
       "|91060b858433e8a61...|        0.0|        0.0|    0.0|                 0.0|           0.0|               0.0|                  null|                  null|\n",
       "|cab1fa9f533688b0a...|        0.0|        0.0|    0.0|                 0.0|           0.0|               0.0|                  null|                  null|\n",
       "|f74e401c1ab0adf78...|        1.0|        0.0|    0.0|                 0.0|           3.0|               0.0|                  12.0|                  null|\n",
       "|8aef4bb29d609d8d6...|        0.0|        0.0|    0.0|                 0.0|           0.0|               0.0|                  null|                  null|\n",
       "|538b4653da3b1e814...|        0.0|        0.0|    0.0|                 0.0|           0.0|               0.0|                  49.0|                  null|\n",
       "|b24d55f21390533c5...|        1.0|        0.0|    0.0|                 0.0|           0.0|               0.0|                   3.0|                  null|\n",
       "|1035c5401b0ca76d0...|        0.0|        0.0|    1.0|                 1.0|           1.0|               0.0|                  null|                 106.0|\n",
       "|cb0f1777593e77909...|        0.0|        0.0|    0.0|                 0.0|           0.0|               0.0|                  75.0|                  null|\n",
       "|a962f4d59caec5fa1...|        0.0|        0.0|    0.0|                 0.0|           0.0|               0.0|                  54.0|                  null|\n",
       "|e7592ab57b3afd9f1...|        0.0|        0.0|    0.0|                 0.0|           0.0|               0.0|                  null|                  null|\n",
       "|603afa9d1be879b7b...|        0.0|        0.0|    0.0|                 0.0|           0.0|               0.0|                  null|                  null|\n",
       "|9fe2d59ddf2a4f37e...|        0.0|        0.0|    1.0|                 1.0|           1.0|               0.0|                  null|                  75.0|\n",
       "|23857480ccf555ce4...|        0.0|        0.0|    0.0|                 0.0|           0.0|               0.0|                  42.0|                  null|\n",
       "|7c69d5f36fdabf6e1...|        0.0|        0.0|    0.0|                 0.0|           0.0|               0.0|                  null|                  null|\n",
       "|08bf9e080503b0113...|        0.0|        0.0|    0.0|                 0.0|           1.0|               0.0|                  null|                  null|\n",
       "|1cafb05aa6c894c30...|        0.0|        0.0|    0.0|                 0.0|           0.0|               0.0|                  null|                  null|\n",
       "|f2c4010f700d8c9c4...|        0.0|        0.0|    0.0|                 0.0|           0.0|               0.0|                  29.0|                  null|\n",
       "|05ad4aed7c393035e...|        0.0|        0.0|    1.0|                 1.0|           4.0|               0.0|                  null|                  30.0|\n",
       "+--------------------+-----------+-----------+-------+--------------------+--------------+------------------+----------------------+----------------------+\n",
       "only showing top 20 rows"
      ]
     },
     "execution_count": 44,
     "metadata": {},
     "output_type": "execute_result"
    }
   ],
   "source": [
    "\n",
    "# Visualizing some columns in the data\n",
    "loans_def_raw_df"
   ]
  },
  {
   "cell_type": "code",
   "execution_count": 0,
   "metadata": {
    "application/vnd.databricks.v1+cell": {
     "cellMetadata": {},
     "inputWidgets": {},
     "nuid": "b5d44f95-4203-4042-9978-0038f073ea6a",
     "showTitle": false,
     "title": ""
    }
   },
   "outputs": [
    {
     "output_type": "stream",
     "name": "stdout",
     "output_type": "stream",
     "text": [
      "root\n |-- member_id: string (nullable = true)\n |-- delinq_2yrs: string (nullable = true)\n |-- delinq_amnt: double (nullable = true)\n |-- pub_rec: string (nullable = true)\n |-- pub_rec_bankruptcies: double (nullable = true)\n |-- inq_last_6mths: string (nullable = true)\n |-- total_rec_late_fee: string (nullable = true)\n |-- mths_since_last_delinq: string (nullable = true)\n |-- mths_since_last_record: string (nullable = true)\n\n"
     ]
    }
   ],
   "source": [
    "loans_def_raw_df.printSchema()"
   ]
  },
  {
   "cell_type": "code",
   "execution_count": 0,
   "metadata": {
    "application/vnd.databricks.v1+cell": {
     "cellMetadata": {},
     "inputWidgets": {},
     "nuid": "31fc4780-9b7f-48ed-8859-0c7471569e6f",
     "showTitle": false,
     "title": ""
    }
   },
   "outputs": [],
   "source": [
    "loans_def_raw_df.createOrReplaceTempView(\"loan_defaulters\")"
   ]
  },
  {
   "cell_type": "code",
   "execution_count": 0,
   "metadata": {
    "application/vnd.databricks.v1+cell": {
     "cellMetadata": {},
     "inputWidgets": {},
     "nuid": "f16bc954-3e26-4535-b0d4-a1897ea3f741",
     "showTitle": false,
     "title": ""
    }
   },
   "outputs": [
    {
     "output_type": "execute_result",
     "data": {
      "text/html": [
       "<table border='1'>\n",
       "<tr><th>delinq_2yrs</th></tr>\n",
       "<tr><td>1.0</td></tr>\n",
       "<tr><td>271 monthly payme...</td></tr>\n",
       "<tr><td>I bike to work on...</td></tr>\n",
       "<tr><td>183xx</td></tr>\n",
       "<tr><td>VISA and AMEX cre...</td></tr>\n",
       "<tr><td>etc. and I feel t...</td></tr>\n",
       "<tr><td>AZ</td></tr>\n",
       "<tr><td>017xx</td></tr>\n",
       "<tr><td>923xx</td></tr>\n",
       "<tr><td>446xx</td></tr>\n",
       "<tr><td>who is a financia...</td></tr>\n",
       "<tr><td>and all of that c...</td></tr>\n",
       "<tr><td>LA</td></tr>\n",
       "<tr><td>24.66</td></tr>\n",
       "<tr><td>and the removal o...</td></tr>\n",
       "<tr><td>I would like to c...</td></tr>\n",
       "<tr><td>12.24</td></tr>\n",
       "<tr><td>22.0</td></tr>\n",
       "<tr><td>so most of my inc...</td></tr>\n",
       "<tr><td>I would like to p...</td></tr>\n",
       "</table>\n",
       "only showing top 20 rows\n"
      ],
      "text/plain": [
       "+--------------------+\n",
       "|         delinq_2yrs|\n",
       "+--------------------+\n",
       "|                 1.0|\n",
       "|271 monthly payme...|\n",
       "|I bike to work on...|\n",
       "|               183xx|\n",
       "|VISA and AMEX cre...|\n",
       "|etc. and I feel t...|\n",
       "|                  AZ|\n",
       "|               017xx|\n",
       "|               923xx|\n",
       "|               446xx|\n",
       "|who is a financia...|\n",
       "|and all of that c...|\n",
       "|                  LA|\n",
       "|               24.66|\n",
       "|and the removal o...|\n",
       "|I would like to c...|\n",
       "|               12.24|\n",
       "|                22.0|\n",
       "|so most of my inc...|\n",
       "|I would like to p...|\n",
       "+--------------------+\n",
       "only showing top 20 rows"
      ]
     },
     "execution_count": 47,
     "metadata": {},
     "output_type": "execute_result"
    }
   ],
   "source": [
    "spark.sql(\"select distinct(delinq_2yrs) from loan_defaulters\")"
   ]
  },
  {
   "cell_type": "code",
   "execution_count": 0,
   "metadata": {
    "application/vnd.databricks.v1+cell": {
     "cellMetadata": {},
     "inputWidgets": {},
     "nuid": "ea5011b9-a6eb-464c-94db-e8769f91c724",
     "showTitle": false,
     "title": ""
    }
   },
   "outputs": [
    {
     "output_type": "stream",
     "name": "stdout",
     "output_type": "stream",
     "text": [
      "+------------------+-------+\n|       delinq_2yrs|  total|\n+------------------+-------+\n|               0.0|1838878|\n|               1.0| 281335|\n|               2.0|  81285|\n|               3.0|  29539|\n|               4.0|  13179|\n|               5.0|   6599|\n|               6.0|   3717|\n|               7.0|   2062|\n|               8.0|   1223|\n|               9.0|    818|\n|              10.0|    556|\n|              11.0|    363|\n|              12.0|    264|\n|              13.0|    165|\n|              14.0|    120|\n|              15.0|     87|\n|              null|     63|\n|              16.0|     55|\n|              17.0|     30|\n|              18.0|     30|\n|              19.0|     23|\n|              20.0|     17|\n|              21.0|     12|\n|                CA|      8|\n|                TX|      6|\n|debt_consolidation|      5|\n|              22.0|      5|\n|    small_business|      5|\n|                IL|      5|\n|                FL|      4|\n|              24.0|      4|\n|                NJ|      3|\n|             452xx|      3|\n|              26.0|      3|\n|                NY|      3|\n|             other|      2|\n|              29.0|      2|\n|              30.0|      2|\n|             945xx|      2|\n|       credit_card|      2|\n+------------------+-------+\nonly showing top 40 rows\n\n"
     ]
    }
   ],
   "source": [
    "spark.sql(\"select delinq_2yrs, count(*) as total from loan_defaulters group by delinq_2yrs order by total desc\").show(40)"
   ]
  },
  {
   "cell_type": "code",
   "execution_count": 0,
   "metadata": {
    "application/vnd.databricks.v1+cell": {
     "cellMetadata": {},
     "inputWidgets": {},
     "nuid": "1a75abec-52a7-41de-8c2a-d4e37e748daa",
     "showTitle": false,
     "title": ""
    }
   },
   "outputs": [],
   "source": [
    "\n",
    "# 1. Change to suitable datatypes\n",
    "loan_defaulters_schema = \"member_id string, delinq_2yrs float, delinq_amnt float, pub_rec float, pub_rec_bankruptcies float,inq_last_6mths float, total_rec_late_fee float, mths_since_last_delinq float, mths_since_last_record float\""
   ]
  },
  {
   "cell_type": "code",
   "execution_count": 0,
   "metadata": {
    "application/vnd.databricks.v1+cell": {
     "cellMetadata": {},
     "inputWidgets": {},
     "nuid": "d4a01083-443b-41ee-a2f8-29bc6287b6e2",
     "showTitle": false,
     "title": ""
    }
   },
   "outputs": [],
   "source": [
    "loans_def_raw_df = spark.read \\\n",
    ".format(\"csv\") \\\n",
    ".option(\"header\",True) \\\n",
    ".schema(loan_defaulters_schema) \\\n",
    ".load(\"/user/itv008542/lendingclubproject/raw/loans_defaulters_csv\")"
   ]
  },
  {
   "cell_type": "markdown",
   "metadata": {
    "application/vnd.databricks.v1+cell": {
     "cellMetadata": {},
     "inputWidgets": {},
     "nuid": "ee89a3ab-f888-4065-9968-f004d534ecb8",
     "showTitle": false,
     "title": ""
    }
   },
   "source": [
    "#### 2. Update column delinq_2yrs to int and replace nulls with zeros\n"
   ]
  },
  {
   "cell_type": "code",
   "execution_count": 0,
   "metadata": {
    "application/vnd.databricks.v1+cell": {
     "cellMetadata": {},
     "inputWidgets": {},
     "nuid": "0e870727-0fbc-4018-9848-7129de149d05",
     "showTitle": false,
     "title": ""
    }
   },
   "outputs": [],
   "source": [
    "loans_def_raw_df.createOrReplaceTempView(\"loan_defaulters\")"
   ]
  },
  {
   "cell_type": "code",
   "execution_count": 0,
   "metadata": {
    "application/vnd.databricks.v1+cell": {
     "cellMetadata": {},
     "inputWidgets": {},
     "nuid": "f85ef38c-6f09-46f7-a2fa-9851c300e3dd",
     "showTitle": false,
     "title": ""
    }
   },
   "outputs": [
    {
     "output_type": "stream",
     "name": "stdout",
     "output_type": "stream",
     "text": [
      "+-----------+-------+\n|delinq_2yrs|  total|\n+-----------+-------+\n|        0.0|1838878|\n|        1.0| 281335|\n|        2.0|  81285|\n|        3.0|  29539|\n|        4.0|  13179|\n|        5.0|   6599|\n|        6.0|   3717|\n|        7.0|   2062|\n|        8.0|   1223|\n|        9.0|    818|\n|       10.0|    556|\n|       11.0|    363|\n|       12.0|    264|\n|       null|    261|\n|       13.0|    165|\n|       14.0|    120|\n|       15.0|     87|\n|       16.0|     55|\n|       18.0|     30|\n|       17.0|     30|\n|       19.0|     23|\n|       20.0|     17|\n|       21.0|     12|\n|       22.0|      5|\n|       24.0|      4|\n|       26.0|      3|\n|       23.0|      2|\n|       25.0|      2|\n|       3.44|      2|\n|       30.0|      2|\n|       29.0|      2|\n|      17.17|      1|\n|       3.45|      1|\n|      26.24|      1|\n|      13.76|      1|\n|      21.72|      1|\n|       9.44|      1|\n|      22.62|      1|\n|       5.52|      1|\n|       14.1|      1|\n+-----------+-------+\nonly showing top 40 rows\n\n"
     ]
    }
   ],
   "source": [
    "spark.sql(\"select delinq_2yrs, count(*) as total from loan_defaulters group by delinq_2yrs order by total desc\").show(40)"
   ]
  },
  {
   "cell_type": "code",
   "execution_count": 0,
   "metadata": {
    "application/vnd.databricks.v1+cell": {
     "cellMetadata": {},
     "inputWidgets": {},
     "nuid": "2b62c808-f3bd-4b7b-a4ce-9de2b16c60b1",
     "showTitle": false,
     "title": ""
    }
   },
   "outputs": [],
   "source": [
    "from pyspark.sql.functions import col"
   ]
  },
  {
   "cell_type": "code",
   "execution_count": 0,
   "metadata": {
    "application/vnd.databricks.v1+cell": {
     "cellMetadata": {},
     "inputWidgets": {},
     "nuid": "5a4f4972-ff5a-4819-b3e8-df382f3afead",
     "showTitle": false,
     "title": ""
    }
   },
   "outputs": [],
   "source": [
    "loans_def_processed_df = loans_def_raw_df.withColumn(\"delinq_2yrs\", col(\"delinq_2yrs\").cast(\"integer\")).fillna(0, subset = [\"delinq_2yrs\"])"
   ]
  },
  {
   "cell_type": "markdown",
   "metadata": {
    "application/vnd.databricks.v1+cell": {
     "cellMetadata": {},
     "inputWidgets": {},
     "nuid": "a6bc578e-4efd-40d5-b202-6a71ddf7a051",
     "showTitle": false,
     "title": ""
    }
   },
   "source": [
    "\n",
    "#### 3. Store only details of person who have defaulted"
   ]
  },
  {
   "cell_type": "code",
   "execution_count": 0,
   "metadata": {
    "application/vnd.databricks.v1+cell": {
     "cellMetadata": {},
     "inputWidgets": {},
     "nuid": "2606138a-baab-4998-9195-44625680704a",
     "showTitle": false,
     "title": ""
    }
   },
   "outputs": [],
   "source": [
    "loans_def_processed_df.createOrReplaceTempView(\"loan_defaulters\")"
   ]
  },
  {
   "cell_type": "code",
   "execution_count": 0,
   "metadata": {
    "application/vnd.databricks.v1+cell": {
     "cellMetadata": {},
     "inputWidgets": {},
     "nuid": "03c10eb6-48b8-45f3-8857-c57985f4062a",
     "showTitle": false,
     "title": ""
    }
   },
   "outputs": [
    {
     "output_type": "execute_result",
     "data": {
      "text/html": [
       "<table border='1'>\n",
       "<tr><th>count(1)</th></tr>\n",
       "<tr><td>0</td></tr>\n",
       "</table>\n"
      ],
      "text/plain": [
       "+--------+\n",
       "|count(1)|\n",
       "+--------+\n",
       "|       0|\n",
       "+--------+"
      ]
     },
     "execution_count": 56,
     "metadata": {},
     "output_type": "execute_result"
    }
   ],
   "source": [
    "spark.sql(\"select count(*) from loan_defaulters where delinq_2yrs is null\")"
   ]
  },
  {
   "cell_type": "code",
   "execution_count": 0,
   "metadata": {
    "application/vnd.databricks.v1+cell": {
     "cellMetadata": {},
     "inputWidgets": {},
     "nuid": "37cdca49-de2d-4fe9-9de8-1bc33c71291b",
     "showTitle": false,
     "title": ""
    }
   },
   "outputs": [
    {
     "output_type": "stream",
     "name": "stdout",
     "output_type": "stream",
     "text": [
      "+-----------+-------+\n|delinq_2yrs|  total|\n+-----------+-------+\n|          0|1839141|\n|          1| 281337|\n|          2|  81285|\n|          3|  29545|\n|          4|  13180|\n|          5|   6601|\n|          6|   3719|\n|          7|   2063|\n|          8|   1226|\n|          9|    821|\n|         10|    558|\n|         11|    363|\n|         12|    266|\n|         13|    167|\n|         14|    123|\n|         15|     90|\n|         16|     56|\n|         17|     33|\n|         18|     32|\n|         19|     24|\n|         20|     19|\n|         21|     16|\n|         22|      7|\n|         24|      6|\n|         23|      5|\n|         26|      4|\n|         29|      2|\n|         25|      2|\n|         30|      2|\n|         27|      1|\n|         28|      1|\n|         58|      1|\n|         35|      1|\n|         39|      1|\n|         32|      1|\n|         42|      1|\n|         36|      1|\n+-----------+-------+\n\n"
     ]
    }
   ],
   "source": [
    "spark.sql(\"select delinq_2yrs, count(*) as total from loan_defaulters group by delinq_2yrs order by total desc\").show(40)"
   ]
  },
  {
   "cell_type": "code",
   "execution_count": 0,
   "metadata": {
    "application/vnd.databricks.v1+cell": {
     "cellMetadata": {},
     "inputWidgets": {},
     "nuid": "4037dce3-be64-497a-b2d4-a2759e7dcc7e",
     "showTitle": false,
     "title": ""
    }
   },
   "outputs": [
    {
     "output_type": "execute_result",
     "data": {
      "text/html": [
       "<table border='1'>\n",
       "<tr><th>member_id</th><th>delinq_2yrs</th><th>delinq_amnt</th><th>pub_rec</th><th>pub_rec_bankruptcies</th><th>inq_last_6mths</th><th>total_rec_late_fee</th><th>mths_since_last_delinq</th><th>mths_since_last_record</th></tr>\n",
       "<tr><td>6d5091b3fcaaeb4ea...</td><td>0</td><td>0.0</td><td>0.0</td><td>0.0</td><td>1.0</td><td>0.0</td><td>30.0</td><td>null</td></tr>\n",
       "<tr><td>91060b858433e8a61...</td><td>0</td><td>0.0</td><td>0.0</td><td>0.0</td><td>0.0</td><td>0.0</td><td>null</td><td>null</td></tr>\n",
       "<tr><td>cab1fa9f533688b0a...</td><td>0</td><td>0.0</td><td>0.0</td><td>0.0</td><td>0.0</td><td>0.0</td><td>null</td><td>null</td></tr>\n",
       "<tr><td>8aef4bb29d609d8d6...</td><td>0</td><td>0.0</td><td>0.0</td><td>0.0</td><td>0.0</td><td>0.0</td><td>null</td><td>null</td></tr>\n",
       "<tr><td>538b4653da3b1e814...</td><td>0</td><td>0.0</td><td>0.0</td><td>0.0</td><td>0.0</td><td>0.0</td><td>49.0</td><td>null</td></tr>\n",
       "<tr><td>1035c5401b0ca76d0...</td><td>0</td><td>0.0</td><td>1.0</td><td>1.0</td><td>1.0</td><td>0.0</td><td>null</td><td>106.0</td></tr>\n",
       "<tr><td>cb0f1777593e77909...</td><td>0</td><td>0.0</td><td>0.0</td><td>0.0</td><td>0.0</td><td>0.0</td><td>75.0</td><td>null</td></tr>\n",
       "<tr><td>a962f4d59caec5fa1...</td><td>0</td><td>0.0</td><td>0.0</td><td>0.0</td><td>0.0</td><td>0.0</td><td>54.0</td><td>null</td></tr>\n",
       "<tr><td>e7592ab57b3afd9f1...</td><td>0</td><td>0.0</td><td>0.0</td><td>0.0</td><td>0.0</td><td>0.0</td><td>null</td><td>null</td></tr>\n",
       "<tr><td>603afa9d1be879b7b...</td><td>0</td><td>0.0</td><td>0.0</td><td>0.0</td><td>0.0</td><td>0.0</td><td>null</td><td>null</td></tr>\n",
       "<tr><td>9fe2d59ddf2a4f37e...</td><td>0</td><td>0.0</td><td>1.0</td><td>1.0</td><td>1.0</td><td>0.0</td><td>null</td><td>75.0</td></tr>\n",
       "<tr><td>23857480ccf555ce4...</td><td>0</td><td>0.0</td><td>0.0</td><td>0.0</td><td>0.0</td><td>0.0</td><td>42.0</td><td>null</td></tr>\n",
       "<tr><td>7c69d5f36fdabf6e1...</td><td>0</td><td>0.0</td><td>0.0</td><td>0.0</td><td>0.0</td><td>0.0</td><td>null</td><td>null</td></tr>\n",
       "<tr><td>08bf9e080503b0113...</td><td>0</td><td>0.0</td><td>0.0</td><td>0.0</td><td>1.0</td><td>0.0</td><td>null</td><td>null</td></tr>\n",
       "<tr><td>1cafb05aa6c894c30...</td><td>0</td><td>0.0</td><td>0.0</td><td>0.0</td><td>0.0</td><td>0.0</td><td>null</td><td>null</td></tr>\n",
       "<tr><td>f2c4010f700d8c9c4...</td><td>0</td><td>0.0</td><td>0.0</td><td>0.0</td><td>0.0</td><td>0.0</td><td>29.0</td><td>null</td></tr>\n",
       "<tr><td>05ad4aed7c393035e...</td><td>0</td><td>0.0</td><td>1.0</td><td>1.0</td><td>4.0</td><td>0.0</td><td>null</td><td>30.0</td></tr>\n",
       "<tr><td>c2fe08c44f54ac753...</td><td>0</td><td>0.0</td><td>0.0</td><td>0.0</td><td>0.0</td><td>0.0</td><td>null</td><td>null</td></tr>\n",
       "<tr><td>0d3c568ff6944b11c...</td><td>0</td><td>0.0</td><td>2.0</td><td>0.0</td><td>0.0</td><td>0.0</td><td>33.0</td><td>2.0</td></tr>\n",
       "<tr><td>663dea7793e967072...</td><td>0</td><td>0.0</td><td>0.0</td><td>0.0</td><td>0.0</td><td>0.0</td><td>null</td><td>null</td></tr>\n",
       "</table>\n",
       "only showing top 20 rows\n"
      ],
      "text/plain": [
       "+--------------------+-----------+-----------+-------+--------------------+--------------+------------------+----------------------+----------------------+\n",
       "|           member_id|delinq_2yrs|delinq_amnt|pub_rec|pub_rec_bankruptcies|inq_last_6mths|total_rec_late_fee|mths_since_last_delinq|mths_since_last_record|\n",
       "+--------------------+-----------+-----------+-------+--------------------+--------------+------------------+----------------------+----------------------+\n",
       "|6d5091b3fcaaeb4ea...|          0|        0.0|    0.0|                 0.0|           1.0|               0.0|                  30.0|                  null|\n",
       "|91060b858433e8a61...|          0|        0.0|    0.0|                 0.0|           0.0|               0.0|                  null|                  null|\n",
       "|cab1fa9f533688b0a...|          0|        0.0|    0.0|                 0.0|           0.0|               0.0|                  null|                  null|\n",
       "|8aef4bb29d609d8d6...|          0|        0.0|    0.0|                 0.0|           0.0|               0.0|                  null|                  null|\n",
       "|538b4653da3b1e814...|          0|        0.0|    0.0|                 0.0|           0.0|               0.0|                  49.0|                  null|\n",
       "|1035c5401b0ca76d0...|          0|        0.0|    1.0|                 1.0|           1.0|               0.0|                  null|                 106.0|\n",
       "|cb0f1777593e77909...|          0|        0.0|    0.0|                 0.0|           0.0|               0.0|                  75.0|                  null|\n",
       "|a962f4d59caec5fa1...|          0|        0.0|    0.0|                 0.0|           0.0|               0.0|                  54.0|                  null|\n",
       "|e7592ab57b3afd9f1...|          0|        0.0|    0.0|                 0.0|           0.0|               0.0|                  null|                  null|\n",
       "|603afa9d1be879b7b...|          0|        0.0|    0.0|                 0.0|           0.0|               0.0|                  null|                  null|\n",
       "|9fe2d59ddf2a4f37e...|          0|        0.0|    1.0|                 1.0|           1.0|               0.0|                  null|                  75.0|\n",
       "|23857480ccf555ce4...|          0|        0.0|    0.0|                 0.0|           0.0|               0.0|                  42.0|                  null|\n",
       "|7c69d5f36fdabf6e1...|          0|        0.0|    0.0|                 0.0|           0.0|               0.0|                  null|                  null|\n",
       "|08bf9e080503b0113...|          0|        0.0|    0.0|                 0.0|           1.0|               0.0|                  null|                  null|\n",
       "|1cafb05aa6c894c30...|          0|        0.0|    0.0|                 0.0|           0.0|               0.0|                  null|                  null|\n",
       "|f2c4010f700d8c9c4...|          0|        0.0|    0.0|                 0.0|           0.0|               0.0|                  29.0|                  null|\n",
       "|05ad4aed7c393035e...|          0|        0.0|    1.0|                 1.0|           4.0|               0.0|                  null|                  30.0|\n",
       "|c2fe08c44f54ac753...|          0|        0.0|    0.0|                 0.0|           0.0|               0.0|                  null|                  null|\n",
       "|0d3c568ff6944b11c...|          0|        0.0|    2.0|                 0.0|           0.0|               0.0|                  33.0|                   2.0|\n",
       "|663dea7793e967072...|          0|        0.0|    0.0|                 0.0|           0.0|               0.0|                  null|                  null|\n",
       "+--------------------+-----------+-----------+-------+--------------------+--------------+------------------+----------------------+----------------------+\n",
       "only showing top 20 rows"
      ]
     },
     "execution_count": 58,
     "metadata": {},
     "output_type": "execute_result"
    }
   ],
   "source": [
    "spark.sql(\"select * from loan_defaulters where delinq_2yrs = 0\")"
   ]
  },
  {
   "cell_type": "code",
   "execution_count": 0,
   "metadata": {
    "application/vnd.databricks.v1+cell": {
     "cellMetadata": {},
     "inputWidgets": {},
     "nuid": "9aac8b84-4d78-4118-b427-8afc9d5bf0df",
     "showTitle": false,
     "title": ""
    }
   },
   "outputs": [],
   "source": [
    "loans_def_delinq_df = spark.sql(\"select member_id,delinq_2yrs, delinq_amnt, int(mths_since_last_delinq) from loan_defaulters where delinq_2yrs > 0 or mths_since_last_delinq > 0\")"
   ]
  },
  {
   "cell_type": "code",
   "execution_count": 0,
   "metadata": {
    "application/vnd.databricks.v1+cell": {
     "cellMetadata": {},
     "inputWidgets": {},
     "nuid": "a9e20121-f9f8-4b34-91d0-c3d7253b27b4",
     "showTitle": false,
     "title": ""
    }
   },
   "outputs": [
    {
     "output_type": "execute_result",
     "data": {
      "text/html": [
       "<table border='1'>\n",
       "<tr><th>member_id</th><th>delinq_2yrs</th><th>delinq_amnt</th><th>mths_since_last_delinq</th></tr>\n",
       "<tr><td>6d5091b3fcaaeb4ea...</td><td>0</td><td>0.0</td><td>30</td></tr>\n",
       "<tr><td>b5e7938b0a2da4cea...</td><td>1</td><td>0.0</td><td>6</td></tr>\n",
       "<tr><td>f74e401c1ab0adf78...</td><td>1</td><td>0.0</td><td>12</td></tr>\n",
       "<tr><td>538b4653da3b1e814...</td><td>0</td><td>0.0</td><td>49</td></tr>\n",
       "<tr><td>b24d55f21390533c5...</td><td>1</td><td>0.0</td><td>3</td></tr>\n",
       "<tr><td>cb0f1777593e77909...</td><td>0</td><td>0.0</td><td>75</td></tr>\n",
       "<tr><td>a962f4d59caec5fa1...</td><td>0</td><td>0.0</td><td>54</td></tr>\n",
       "<tr><td>23857480ccf555ce4...</td><td>0</td><td>0.0</td><td>42</td></tr>\n",
       "<tr><td>f2c4010f700d8c9c4...</td><td>0</td><td>0.0</td><td>29</td></tr>\n",
       "<tr><td>0d3c568ff6944b11c...</td><td>0</td><td>0.0</td><td>33</td></tr>\n",
       "<tr><td>18889919d4248ff48...</td><td>1</td><td>0.0</td><td>15</td></tr>\n",
       "<tr><td>49c691121315ceeac...</td><td>2</td><td>0.0</td><td>18</td></tr>\n",
       "<tr><td>d04ae2a3b9e2e686e...</td><td>0</td><td>0.0</td><td>47</td></tr>\n",
       "<tr><td>259af6637d622a8fc...</td><td>0</td><td>0.0</td><td>33</td></tr>\n",
       "<tr><td>263b2b8177d69a09e...</td><td>0</td><td>0.0</td><td>33</td></tr>\n",
       "<tr><td>0d7e498df54d38160...</td><td>0</td><td>0.0</td><td>35</td></tr>\n",
       "<tr><td>dc3d024374b1d2cb4...</td><td>1</td><td>0.0</td><td>23</td></tr>\n",
       "<tr><td>c968abcd0831fe0a9...</td><td>0</td><td>0.0</td><td>38</td></tr>\n",
       "<tr><td>25df9cff7c21666b9...</td><td>2</td><td>0.0</td><td>8</td></tr>\n",
       "<tr><td>5840f34a041b29a6b...</td><td>0</td><td>0.0</td><td>70</td></tr>\n",
       "</table>\n",
       "only showing top 20 rows\n"
      ],
      "text/plain": [
       "+--------------------+-----------+-----------+----------------------+\n",
       "|           member_id|delinq_2yrs|delinq_amnt|mths_since_last_delinq|\n",
       "+--------------------+-----------+-----------+----------------------+\n",
       "|6d5091b3fcaaeb4ea...|          0|        0.0|                    30|\n",
       "|b5e7938b0a2da4cea...|          1|        0.0|                     6|\n",
       "|f74e401c1ab0adf78...|          1|        0.0|                    12|\n",
       "|538b4653da3b1e814...|          0|        0.0|                    49|\n",
       "|b24d55f21390533c5...|          1|        0.0|                     3|\n",
       "|cb0f1777593e77909...|          0|        0.0|                    75|\n",
       "|a962f4d59caec5fa1...|          0|        0.0|                    54|\n",
       "|23857480ccf555ce4...|          0|        0.0|                    42|\n",
       "|f2c4010f700d8c9c4...|          0|        0.0|                    29|\n",
       "|0d3c568ff6944b11c...|          0|        0.0|                    33|\n",
       "|18889919d4248ff48...|          1|        0.0|                    15|\n",
       "|49c691121315ceeac...|          2|        0.0|                    18|\n",
       "|d04ae2a3b9e2e686e...|          0|        0.0|                    47|\n",
       "|259af6637d622a8fc...|          0|        0.0|                    33|\n",
       "|263b2b8177d69a09e...|          0|        0.0|                    33|\n",
       "|0d7e498df54d38160...|          0|        0.0|                    35|\n",
       "|dc3d024374b1d2cb4...|          1|        0.0|                    23|\n",
       "|c968abcd0831fe0a9...|          0|        0.0|                    38|\n",
       "|25df9cff7c21666b9...|          2|        0.0|                     8|\n",
       "|5840f34a041b29a6b...|          0|        0.0|                    70|\n",
       "+--------------------+-----------+-----------+----------------------+\n",
       "only showing top 20 rows"
      ]
     },
     "execution_count": 60,
     "metadata": {},
     "output_type": "execute_result"
    }
   ],
   "source": [
    "loans_def_delinq_df"
   ]
  },
  {
   "cell_type": "code",
   "execution_count": 0,
   "metadata": {
    "application/vnd.databricks.v1+cell": {
     "cellMetadata": {},
     "inputWidgets": {},
     "nuid": "5b9e7acc-31fc-4674-80a2-0b6fdb7f0d06",
     "showTitle": false,
     "title": ""
    }
   },
   "outputs": [
    {
     "output_type": "execute_result",
     "data": {
      "text/plain": [
       "1106163"
      ]
     },
     "execution_count": 61,
     "metadata": {},
     "output_type": "execute_result"
    }
   ],
   "source": [
    "loans_def_delinq_df.count()"
   ]
  },
  {
   "cell_type": "markdown",
   "metadata": {
    "application/vnd.databricks.v1+cell": {
     "cellMetadata": {},
     "inputWidgets": {},
     "nuid": "1c9c2761-9c8a-4192-898d-172ac97f5d75",
     "showTitle": false,
     "title": ""
    }
   },
   "source": [
    "\n",
    "#### 4. Store only member_id for those record having public records"
   ]
  },
  {
   "cell_type": "code",
   "execution_count": 0,
   "metadata": {
    "application/vnd.databricks.v1+cell": {
     "cellMetadata": {},
     "inputWidgets": {},
     "nuid": "eeee8238-a48b-471b-8c59-c5049320ab39",
     "showTitle": false,
     "title": ""
    }
   },
   "outputs": [],
   "source": [
    "loans_def_records_enq_df = spark.sql(\"select member_id from loan_defaulters where pub_rec > 0.0 or pub_rec_bankruptcies > 0.0 or inq_last_6mths > 0.0\")"
   ]
  },
  {
   "cell_type": "code",
   "execution_count": 0,
   "metadata": {
    "application/vnd.databricks.v1+cell": {
     "cellMetadata": {},
     "inputWidgets": {},
     "nuid": "02bc1f10-d29d-48bf-bfd1-e61b98045b03",
     "showTitle": false,
     "title": ""
    }
   },
   "outputs": [
    {
     "output_type": "execute_result",
     "data": {
      "text/html": [
       "<table border='1'>\n",
       "<tr><th>member_id</th></tr>\n",
       "<tr><td>6d5091b3fcaaeb4ea...</td></tr>\n",
       "<tr><td>b5e7938b0a2da4cea...</td></tr>\n",
       "<tr><td>f74e401c1ab0adf78...</td></tr>\n",
       "<tr><td>1035c5401b0ca76d0...</td></tr>\n",
       "<tr><td>9fe2d59ddf2a4f37e...</td></tr>\n",
       "<tr><td>08bf9e080503b0113...</td></tr>\n",
       "<tr><td>05ad4aed7c393035e...</td></tr>\n",
       "<tr><td>0d3c568ff6944b11c...</td></tr>\n",
       "<tr><td>18889919d4248ff48...</td></tr>\n",
       "<tr><td>159b209fd25dff55b...</td></tr>\n",
       "<tr><td>4a968e91c3ec52c4b...</td></tr>\n",
       "<tr><td>d04ae2a3b9e2e686e...</td></tr>\n",
       "<tr><td>259af6637d622a8fc...</td></tr>\n",
       "<tr><td>263b2b8177d69a09e...</td></tr>\n",
       "<tr><td>4ec317a8d203c4489...</td></tr>\n",
       "<tr><td>0d7e498df54d38160...</td></tr>\n",
       "<tr><td>dc3d024374b1d2cb4...</td></tr>\n",
       "<tr><td>65470d4d756d84072...</td></tr>\n",
       "<tr><td>833ef5fdb767e5fdd...</td></tr>\n",
       "<tr><td>25df9cff7c21666b9...</td></tr>\n",
       "</table>\n",
       "only showing top 20 rows\n"
      ],
      "text/plain": [
       "+--------------------+\n",
       "|           member_id|\n",
       "+--------------------+\n",
       "|6d5091b3fcaaeb4ea...|\n",
       "|b5e7938b0a2da4cea...|\n",
       "|f74e401c1ab0adf78...|\n",
       "|1035c5401b0ca76d0...|\n",
       "|9fe2d59ddf2a4f37e...|\n",
       "|08bf9e080503b0113...|\n",
       "|05ad4aed7c393035e...|\n",
       "|0d3c568ff6944b11c...|\n",
       "|18889919d4248ff48...|\n",
       "|159b209fd25dff55b...|\n",
       "|4a968e91c3ec52c4b...|\n",
       "|d04ae2a3b9e2e686e...|\n",
       "|259af6637d622a8fc...|\n",
       "|263b2b8177d69a09e...|\n",
       "|4ec317a8d203c4489...|\n",
       "|0d7e498df54d38160...|\n",
       "|dc3d024374b1d2cb4...|\n",
       "|65470d4d756d84072...|\n",
       "|833ef5fdb767e5fdd...|\n",
       "|25df9cff7c21666b9...|\n",
       "+--------------------+\n",
       "only showing top 20 rows"
      ]
     },
     "execution_count": 63,
     "metadata": {},
     "output_type": "execute_result"
    }
   ],
   "source": [
    "loans_def_records_enq_df"
   ]
  },
  {
   "cell_type": "code",
   "execution_count": 0,
   "metadata": {
    "application/vnd.databricks.v1+cell": {
     "cellMetadata": {},
     "inputWidgets": {},
     "nuid": "68a1b399-8d52-44db-bf7a-76b4f81fe3d1",
     "showTitle": false,
     "title": ""
    }
   },
   "outputs": [
    {
     "output_type": "execute_result",
     "data": {
      "text/plain": [
       "1070125"
      ]
     },
     "execution_count": 64,
     "metadata": {},
     "output_type": "execute_result"
    }
   ],
   "source": [
    "loans_def_records_enq_df.count()"
   ]
  },
  {
   "cell_type": "markdown",
   "metadata": {
    "application/vnd.databricks.v1+cell": {
     "cellMetadata": {},
     "inputWidgets": {},
     "nuid": "c0bfdad5-c968-41e4-85f0-412fa3a605a6",
     "showTitle": false,
     "title": ""
    }
   },
   "source": [
    "\n",
    "## Write cleaned data into datalake\n"
   ]
  },
  {
   "cell_type": "code",
   "execution_count": 0,
   "metadata": {
    "application/vnd.databricks.v1+cell": {
     "cellMetadata": {},
     "inputWidgets": {},
     "nuid": "e128337d-9a7d-4e65-afc1-c25509fc5080",
     "showTitle": false,
     "title": ""
    }
   },
   "outputs": [],
   "source": [
    "loans_def_delinq_df.write \\\n",
    ".option(\"header\", True) \\\n",
    ".format(\"csv\") \\\n",
    ".mode(\"overwrite\") \\\n",
    ".option(\"path\", \"/user/itv008542/lendingclubproject/raw/cleaned/loans_defaulters_deling_csv\") \\\n",
    ".save()"
   ]
  },
  {
   "cell_type": "code",
   "execution_count": 0,
   "metadata": {
    "application/vnd.databricks.v1+cell": {
     "cellMetadata": {},
     "inputWidgets": {},
     "nuid": "08cce7b8-0a36-4217-bb55-6a800a8bbc76",
     "showTitle": false,
     "title": ""
    }
   },
   "outputs": [],
   "source": [
    "loans_def_delinq_df.write \\\n",
    ".format(\"parquet\") \\\n",
    ".mode(\"overwrite\") \\\n",
    ".option(\"path\", \"/user/itv008542/lendingclubproject/raw/cleaned/loans_defaulters_deling_parquet\") \\\n",
    ".save()"
   ]
  },
  {
   "cell_type": "code",
   "execution_count": 0,
   "metadata": {
    "application/vnd.databricks.v1+cell": {
     "cellMetadata": {},
     "inputWidgets": {},
     "nuid": "af776960-b726-4bdd-8ab2-03090806e980",
     "showTitle": false,
     "title": ""
    }
   },
   "outputs": [],
   "source": [
    "loans_def_records_enq_df.write \\\n",
    ".option(\"header\", True) \\\n",
    ".format(\"csv\") \\\n",
    ".mode(\"overwrite\") \\\n",
    ".option(\"path\", \"/user/itv008542/lendingclubproject/raw/cleaned/loans_defaulters_records_enq_csv\") \\\n",
    ".save()"
   ]
  },
  {
   "cell_type": "code",
   "execution_count": 0,
   "metadata": {
    "application/vnd.databricks.v1+cell": {
     "cellMetadata": {},
     "inputWidgets": {},
     "nuid": "a9f2bca3-99d4-401a-8bb3-d224bbb7e20b",
     "showTitle": false,
     "title": ""
    }
   },
   "outputs": [],
   "source": [
    "loans_def_records_enq_df.write \\\n",
    ".format(\"parquet\") \\\n",
    ".mode(\"overwrite\") \\\n",
    ".option(\"path\", \"/user/itv008542/lendingclubproject/raw/cleaned/loans_defaulters_records_enq_parquet\") \\\n",
    ".save()"
   ]
  },
  {
   "cell_type": "code",
   "execution_count": 0,
   "metadata": {
    "application/vnd.databricks.v1+cell": {
     "cellMetadata": {},
     "inputWidgets": {},
     "nuid": "e35376b9-58a6-43d6-a8e8-3a56b5ebae75",
     "showTitle": false,
     "title": ""
    }
   },
   "outputs": [
    {
     "output_type": "stream",
     "name": "stdout",
     "output_type": "stream",
     "text": [
      "Found 10 items\ndrwxr-xr-x   - itv008542 supergroup          0 2024-02-07 03:04 /user/itv008542/lendingclubproject/raw/cleaned/customers_csv\ndrwxr-xr-x   - itv008542 supergroup          0 2024-02-07 02:41 /user/itv008542/lendingclubproject/raw/cleaned/customers_parquet\ndrwxr-xr-x   - itv008542 supergroup          0 2024-02-07 04:05 /user/itv008542/lendingclubproject/raw/cleaned/loans_csv\ndrwxr-xr-x   - itv008542 supergroup          0 2024-02-07 06:47 /user/itv008542/lendingclubproject/raw/cleaned/loans_defaulters_deling_csv\ndrwxr-xr-x   - itv008542 supergroup          0 2024-02-07 06:48 /user/itv008542/lendingclubproject/raw/cleaned/loans_defaulters_deling_parquet\ndrwxr-xr-x   - itv008542 supergroup          0 2024-02-07 06:48 /user/itv008542/lendingclubproject/raw/cleaned/loans_defaulters_records_enq_csv\ndrwxr-xr-x   - itv008542 supergroup          0 2024-02-07 06:48 /user/itv008542/lendingclubproject/raw/cleaned/loans_defaulters_records_enq_parquet\ndrwxr-xr-x   - itv008542 supergroup          0 2024-02-07 04:04 /user/itv008542/lendingclubproject/raw/cleaned/loans_parquet\ndrwxr-xr-x   - itv008542 supergroup          0 2024-02-07 06:25 /user/itv008542/lendingclubproject/raw/cleaned/loans_repayments_csv\ndrwxr-xr-x   - itv008542 supergroup          0 2024-02-07 06:25 /user/itv008542/lendingclubproject/raw/cleaned/loans_repayments_parquet\n"
     ]
    }
   ],
   "source": [
    "! hadoop fs -ls /user/itv008542/lendingclubproject/raw/cleaned"
   ]
  },
  {
   "cell_type": "code",
   "execution_count": 0,
   "metadata": {
    "application/vnd.databricks.v1+cell": {
     "cellMetadata": {},
     "inputWidgets": {},
     "nuid": "5b30514b-49cc-4671-a2d4-a67b64bdb6be",
     "showTitle": false,
     "title": ""
    }
   },
   "outputs": [],
   "source": [
    "spark.stop()"
   ]
  }
 ],
 "metadata": {
  "application/vnd.databricks.v1+notebook": {
   "dashboards": [],
   "environmentMetadata": null,
   "language": "python",
   "notebookMetadata": {
    "pythonIndentUnit": 4
   },
   "notebookName": "Lending_club_Project_Cleaning",
   "widgets": {}
  },
  "kernelspec": {
   "display_name": "Pyspark 3",
   "language": "python",
   "name": "pyspark3"
  },
  "language_info": {
   "codemirror_mode": {
    "name": "ipython",
    "version": 3
   },
   "file_extension": ".py",
   "mimetype": "text/x-python",
   "name": "python",
   "nbconvert_exporter": "python",
   "pygments_lexer": "ipython3",
   "version": "3.6.12"
  }
 },
 "nbformat": 4,
 "nbformat_minor": 0
}
