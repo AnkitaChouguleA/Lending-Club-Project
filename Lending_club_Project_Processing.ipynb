{
 "cells": [
  {
   "cell_type": "markdown",
   "metadata": {
    "application/vnd.databricks.v1+cell": {
     "cellMetadata": {},
     "inputWidgets": {},
     "nuid": "df7a9389-9380-4fc8-8a2d-cc9b6f1af524",
     "showTitle": false,
     "title": ""
    }
   },
   "source": [
    "\n",
    "## Client Requirement Updated Scenario\n",
    "\n",
    "Before we were only storing member_id for those members who had social inquiry of any kind. Now, based on further analysis and communication, client want us to add extra details regarding the enquiry, as it is seen to be useful for calculating loan score\n"
   ]
  },
  {
   "cell_type": "code",
   "execution_count": 0,
   "metadata": {
    "application/vnd.databricks.v1+cell": {
     "cellMetadata": {},
     "inputWidgets": {},
     "nuid": "6829989d-2c1c-44fe-9733-f2e524b931f9",
     "showTitle": false,
     "title": ""
    }
   },
   "outputs": [],
   "source": [
    "if 'spark' in locals():\n",
    "    spark.stop()\n",
    "from pyspark.sql import SparkSession\n",
    "import getpass \n",
    "username=getpass.getuser()\n",
    "spark=SparkSession. \\\n",
    "    builder. \\\n",
    "    config('spark.ui.port','0'). \\\n",
    "    config(\"spark.sql.warehouse.dir\", f\"/user/itv008542/warehouse\"). \\\n",
    "    config('spark.shuffle.useOldFetchProtocol', 'true'). \\\n",
    "    enableHiveSupport(). \\\n",
    "    master('yarn'). \\\n",
    "    getOrCreate()"
   ]
  },
  {
   "cell_type": "code",
   "execution_count": 0,
   "metadata": {
    "application/vnd.databricks.v1+cell": {
     "cellMetadata": {},
     "inputWidgets": {},
     "nuid": "efe11c77-c874-4d2a-b0b8-58490658c35a",
     "showTitle": false,
     "title": ""
    }
   },
   "outputs": [
    {
     "output_type": "execute_result",
     "data": {
      "text/html": [
       "\n",
       "            <div>\n",
       "                <p><b>SparkSession - hive</b></p>\n",
       "                \n",
       "        <div>\n",
       "            <p><b>SparkContext</b></p>\n",
       "\n",
       "            <p><a href=\"http://g01.itversity.com:38251\">Spark UI</a></p>\n",
       "\n",
       "            <dl>\n",
       "              <dt>Version</dt>\n",
       "                <dd><code>v3.1.2</code></dd>\n",
       "              <dt>Master</dt>\n",
       "                <dd><code>yarn</code></dd>\n",
       "              <dt>AppName</dt>\n",
       "                <dd><code>pyspark-shell</code></dd>\n",
       "            </dl>\n",
       "        </div>\n",
       "        \n",
       "            </div>\n",
       "        "
      ],
      "text/plain": [
       "<pyspark.sql.session.SparkSession at 0x7f0344f588d0>"
      ]
     },
     "execution_count": 2,
     "metadata": {},
     "output_type": "execute_result"
    }
   ],
   "source": [
    "spark"
   ]
  },
  {
   "cell_type": "markdown",
   "metadata": {
    "application/vnd.databricks.v1+cell": {
     "cellMetadata": {},
     "inputWidgets": {},
     "nuid": "a809bf05-1687-4f8b-9438-aff1090a7aa4",
     "showTitle": false,
     "title": ""
    }
   },
   "source": [
    "## Understanding Loan Score Calculation Logic"
   ]
  },
  {
   "cell_type": "code",
   "execution_count": 0,
   "metadata": {
    "application/vnd.databricks.v1+cell": {
     "cellMetadata": {},
     "inputWidgets": {},
     "nuid": "1afb9cf6-4c5d-4ced-b697-7a89668567e2",
     "showTitle": false,
     "title": ""
    }
   },
   "outputs": [],
   "source": [
    "loans_def_raw_df = spark.read \\\n",
    ".format(\"csv\") \\\n",
    ".option(\"header\",True) \\\n",
    ".option(\"inferSchema\", True) \\\n",
    ".load(\"/user/itv008542/lendingclubproject/raw/loans_defaulters_csv\")"
   ]
  },
  {
   "cell_type": "code",
   "execution_count": 0,
   "metadata": {
    "application/vnd.databricks.v1+cell": {
     "cellMetadata": {},
     "inputWidgets": {},
     "nuid": "53976dc1-e19b-45f9-ba98-c2e63156da00",
     "showTitle": false,
     "title": ""
    }
   },
   "outputs": [
    {
     "output_type": "execute_result",
     "data": {
      "text/html": [
       "<table border='1'>\n",
       "<tr><th>member_id</th><th>delinq_2yrs</th><th>delinq_amnt</th><th>pub_rec</th><th>pub_rec_bankruptcies</th><th>inq_last_6mths</th><th>total_rec_late_fee</th><th>mths_since_last_delinq</th><th>mths_since_last_record</th></tr>\n",
       "<tr><td>6d5091b3fcaaeb4ea...</td><td>0.0</td><td>0.0</td><td>0.0</td><td>0.0</td><td>1.0</td><td>0.0</td><td>30.0</td><td>null</td></tr>\n",
       "<tr><td>b5e7938b0a2da4cea...</td><td>1.0</td><td>0.0</td><td>0.0</td><td>0.0</td><td>4.0</td><td>0.0</td><td>6.0</td><td>null</td></tr>\n",
       "<tr><td>91060b858433e8a61...</td><td>0.0</td><td>0.0</td><td>0.0</td><td>0.0</td><td>0.0</td><td>0.0</td><td>null</td><td>null</td></tr>\n",
       "<tr><td>cab1fa9f533688b0a...</td><td>0.0</td><td>0.0</td><td>0.0</td><td>0.0</td><td>0.0</td><td>0.0</td><td>null</td><td>null</td></tr>\n",
       "<tr><td>f74e401c1ab0adf78...</td><td>1.0</td><td>0.0</td><td>0.0</td><td>0.0</td><td>3.0</td><td>0.0</td><td>12.0</td><td>null</td></tr>\n",
       "<tr><td>8aef4bb29d609d8d6...</td><td>0.0</td><td>0.0</td><td>0.0</td><td>0.0</td><td>0.0</td><td>0.0</td><td>null</td><td>null</td></tr>\n",
       "<tr><td>538b4653da3b1e814...</td><td>0.0</td><td>0.0</td><td>0.0</td><td>0.0</td><td>0.0</td><td>0.0</td><td>49.0</td><td>null</td></tr>\n",
       "<tr><td>b24d55f21390533c5...</td><td>1.0</td><td>0.0</td><td>0.0</td><td>0.0</td><td>0.0</td><td>0.0</td><td>3.0</td><td>null</td></tr>\n",
       "<tr><td>1035c5401b0ca76d0...</td><td>0.0</td><td>0.0</td><td>1.0</td><td>1.0</td><td>1.0</td><td>0.0</td><td>null</td><td>106.0</td></tr>\n",
       "<tr><td>cb0f1777593e77909...</td><td>0.0</td><td>0.0</td><td>0.0</td><td>0.0</td><td>0.0</td><td>0.0</td><td>75.0</td><td>null</td></tr>\n",
       "<tr><td>a962f4d59caec5fa1...</td><td>0.0</td><td>0.0</td><td>0.0</td><td>0.0</td><td>0.0</td><td>0.0</td><td>54.0</td><td>null</td></tr>\n",
       "<tr><td>e7592ab57b3afd9f1...</td><td>0.0</td><td>0.0</td><td>0.0</td><td>0.0</td><td>0.0</td><td>0.0</td><td>null</td><td>null</td></tr>\n",
       "<tr><td>603afa9d1be879b7b...</td><td>0.0</td><td>0.0</td><td>0.0</td><td>0.0</td><td>0.0</td><td>0.0</td><td>null</td><td>null</td></tr>\n",
       "<tr><td>9fe2d59ddf2a4f37e...</td><td>0.0</td><td>0.0</td><td>1.0</td><td>1.0</td><td>1.0</td><td>0.0</td><td>null</td><td>75.0</td></tr>\n",
       "<tr><td>23857480ccf555ce4...</td><td>0.0</td><td>0.0</td><td>0.0</td><td>0.0</td><td>0.0</td><td>0.0</td><td>42.0</td><td>null</td></tr>\n",
       "<tr><td>7c69d5f36fdabf6e1...</td><td>0.0</td><td>0.0</td><td>0.0</td><td>0.0</td><td>0.0</td><td>0.0</td><td>null</td><td>null</td></tr>\n",
       "<tr><td>08bf9e080503b0113...</td><td>0.0</td><td>0.0</td><td>0.0</td><td>0.0</td><td>1.0</td><td>0.0</td><td>null</td><td>null</td></tr>\n",
       "<tr><td>1cafb05aa6c894c30...</td><td>0.0</td><td>0.0</td><td>0.0</td><td>0.0</td><td>0.0</td><td>0.0</td><td>null</td><td>null</td></tr>\n",
       "<tr><td>f2c4010f700d8c9c4...</td><td>0.0</td><td>0.0</td><td>0.0</td><td>0.0</td><td>0.0</td><td>0.0</td><td>29.0</td><td>null</td></tr>\n",
       "<tr><td>05ad4aed7c393035e...</td><td>0.0</td><td>0.0</td><td>1.0</td><td>1.0</td><td>4.0</td><td>0.0</td><td>null</td><td>30.0</td></tr>\n",
       "</table>\n",
       "only showing top 20 rows\n"
      ],
      "text/plain": [
       "+--------------------+-----------+-----------+-------+--------------------+--------------+------------------+----------------------+----------------------+\n",
       "|           member_id|delinq_2yrs|delinq_amnt|pub_rec|pub_rec_bankruptcies|inq_last_6mths|total_rec_late_fee|mths_since_last_delinq|mths_since_last_record|\n",
       "+--------------------+-----------+-----------+-------+--------------------+--------------+------------------+----------------------+----------------------+\n",
       "|6d5091b3fcaaeb4ea...|        0.0|        0.0|    0.0|                 0.0|           1.0|               0.0|                  30.0|                  null|\n",
       "|b5e7938b0a2da4cea...|        1.0|        0.0|    0.0|                 0.0|           4.0|               0.0|                   6.0|                  null|\n",
       "|91060b858433e8a61...|        0.0|        0.0|    0.0|                 0.0|           0.0|               0.0|                  null|                  null|\n",
       "|cab1fa9f533688b0a...|        0.0|        0.0|    0.0|                 0.0|           0.0|               0.0|                  null|                  null|\n",
       "|f74e401c1ab0adf78...|        1.0|        0.0|    0.0|                 0.0|           3.0|               0.0|                  12.0|                  null|\n",
       "|8aef4bb29d609d8d6...|        0.0|        0.0|    0.0|                 0.0|           0.0|               0.0|                  null|                  null|\n",
       "|538b4653da3b1e814...|        0.0|        0.0|    0.0|                 0.0|           0.0|               0.0|                  49.0|                  null|\n",
       "|b24d55f21390533c5...|        1.0|        0.0|    0.0|                 0.0|           0.0|               0.0|                   3.0|                  null|\n",
       "|1035c5401b0ca76d0...|        0.0|        0.0|    1.0|                 1.0|           1.0|               0.0|                  null|                 106.0|\n",
       "|cb0f1777593e77909...|        0.0|        0.0|    0.0|                 0.0|           0.0|               0.0|                  75.0|                  null|\n",
       "|a962f4d59caec5fa1...|        0.0|        0.0|    0.0|                 0.0|           0.0|               0.0|                  54.0|                  null|\n",
       "|e7592ab57b3afd9f1...|        0.0|        0.0|    0.0|                 0.0|           0.0|               0.0|                  null|                  null|\n",
       "|603afa9d1be879b7b...|        0.0|        0.0|    0.0|                 0.0|           0.0|               0.0|                  null|                  null|\n",
       "|9fe2d59ddf2a4f37e...|        0.0|        0.0|    1.0|                 1.0|           1.0|               0.0|                  null|                  75.0|\n",
       "|23857480ccf555ce4...|        0.0|        0.0|    0.0|                 0.0|           0.0|               0.0|                  42.0|                  null|\n",
       "|7c69d5f36fdabf6e1...|        0.0|        0.0|    0.0|                 0.0|           0.0|               0.0|                  null|                  null|\n",
       "|08bf9e080503b0113...|        0.0|        0.0|    0.0|                 0.0|           1.0|               0.0|                  null|                  null|\n",
       "|1cafb05aa6c894c30...|        0.0|        0.0|    0.0|                 0.0|           0.0|               0.0|                  null|                  null|\n",
       "|f2c4010f700d8c9c4...|        0.0|        0.0|    0.0|                 0.0|           0.0|               0.0|                  29.0|                  null|\n",
       "|05ad4aed7c393035e...|        0.0|        0.0|    1.0|                 1.0|           4.0|               0.0|                  null|                  30.0|\n",
       "+--------------------+-----------+-----------+-------+--------------------+--------------+------------------+----------------------+----------------------+\n",
       "only showing top 20 rows"
      ]
     },
     "execution_count": 4,
     "metadata": {},
     "output_type": "execute_result"
    }
   ],
   "source": [
    "loans_def_raw_df"
   ]
  },
  {
   "cell_type": "code",
   "execution_count": 0,
   "metadata": {
    "application/vnd.databricks.v1+cell": {
     "cellMetadata": {},
     "inputWidgets": {},
     "nuid": "13a8b96b-d74e-4b4d-a35b-8e60228ee690",
     "showTitle": false,
     "title": ""
    }
   },
   "outputs": [
    {
     "output_type": "stream",
     "name": "stdout",
     "output_type": "stream",
     "text": [
      "root\n |-- member_id: string (nullable = true)\n |-- delinq_2yrs: string (nullable = true)\n |-- delinq_amnt: double (nullable = true)\n |-- pub_rec: string (nullable = true)\n |-- pub_rec_bankruptcies: double (nullable = true)\n |-- inq_last_6mths: string (nullable = true)\n |-- total_rec_late_fee: string (nullable = true)\n |-- mths_since_last_delinq: string (nullable = true)\n |-- mths_since_last_record: string (nullable = true)\n\n"
     ]
    }
   ],
   "source": [
    "loans_def_raw_df.printSchema()"
   ]
  },
  {
   "cell_type": "code",
   "execution_count": 0,
   "metadata": {
    "application/vnd.databricks.v1+cell": {
     "cellMetadata": {},
     "inputWidgets": {},
     "nuid": "3b3e2735-1321-4c80-94e1-6ed366a262e4",
     "showTitle": false,
     "title": ""
    }
   },
   "outputs": [],
   "source": [
    "loans_def_raw_df.createOrReplaceTempView(\"loan_defaulters\")"
   ]
  },
  {
   "cell_type": "code",
   "execution_count": 0,
   "metadata": {
    "application/vnd.databricks.v1+cell": {
     "cellMetadata": {},
     "inputWidgets": {},
     "nuid": "d550453a-d0ab-40e7-ae68-39f4cae810a9",
     "showTitle": false,
     "title": ""
    }
   },
   "outputs": [
    {
     "output_type": "execute_result",
     "data": {
      "text/html": [
       "<table border='1'>\n",
       "<tr><th>delinq_2yrs</th></tr>\n",
       "<tr><td>1.0</td></tr>\n",
       "<tr><td>I bike to work on...</td></tr>\n",
       "<tr><td>271 monthly payme...</td></tr>\n",
       "<tr><td>VISA and AMEX cre...</td></tr>\n",
       "<tr><td>etc. and I feel t...</td></tr>\n",
       "<tr><td>183xx</td></tr>\n",
       "<tr><td>AZ</td></tr>\n",
       "<tr><td>017xx</td></tr>\n",
       "<tr><td>923xx</td></tr>\n",
       "<tr><td>446xx</td></tr>\n",
       "<tr><td>who is a financia...</td></tr>\n",
       "<tr><td>and all of that c...</td></tr>\n",
       "<tr><td>LA</td></tr>\n",
       "<tr><td>24.66</td></tr>\n",
       "<tr><td>and the removal o...</td></tr>\n",
       "<tr><td>I would like to c...</td></tr>\n",
       "<tr><td>12.24</td></tr>\n",
       "<tr><td>22.0</td></tr>\n",
       "<tr><td>so most of my inc...</td></tr>\n",
       "<tr><td>I would like to p...</td></tr>\n",
       "</table>\n",
       "only showing top 20 rows\n"
      ],
      "text/plain": [
       "+--------------------+\n",
       "|         delinq_2yrs|\n",
       "+--------------------+\n",
       "|                 1.0|\n",
       "|I bike to work on...|\n",
       "|271 monthly payme...|\n",
       "|VISA and AMEX cre...|\n",
       "|etc. and I feel t...|\n",
       "|               183xx|\n",
       "|                  AZ|\n",
       "|               017xx|\n",
       "|               923xx|\n",
       "|               446xx|\n",
       "|who is a financia...|\n",
       "|and all of that c...|\n",
       "|                  LA|\n",
       "|               24.66|\n",
       "|and the removal o...|\n",
       "|I would like to c...|\n",
       "|               12.24|\n",
       "|                22.0|\n",
       "|so most of my inc...|\n",
       "|I would like to p...|\n",
       "+--------------------+\n",
       "only showing top 20 rows"
      ]
     },
     "execution_count": 7,
     "metadata": {},
     "output_type": "execute_result"
    }
   ],
   "source": [
    "spark.sql(\"select distinct(delinq_2yrs) from loan_defaulters\")"
   ]
  },
  {
   "cell_type": "code",
   "execution_count": 0,
   "metadata": {
    "application/vnd.databricks.v1+cell": {
     "cellMetadata": {},
     "inputWidgets": {},
     "nuid": "6d702406-93b0-4fc9-8106-8c7fabbb59b6",
     "showTitle": false,
     "title": ""
    }
   },
   "outputs": [
    {
     "output_type": "stream",
     "name": "stdout",
     "output_type": "stream",
     "text": [
      "+------------------+-------+\n|       delinq_2yrs|  total|\n+------------------+-------+\n|               0.0|1838878|\n|               1.0| 281335|\n|               2.0|  81285|\n|               3.0|  29539|\n|               4.0|  13179|\n|               5.0|   6599|\n|               6.0|   3717|\n|               7.0|   2062|\n|               8.0|   1223|\n|               9.0|    818|\n|              10.0|    556|\n|              11.0|    363|\n|              12.0|    264|\n|              13.0|    165|\n|              14.0|    120|\n|              15.0|     87|\n|              null|     63|\n|              16.0|     55|\n|              18.0|     30|\n|              17.0|     30|\n|              19.0|     23|\n|              20.0|     17|\n|              21.0|     12|\n|                CA|      8|\n|                TX|      6|\n|    small_business|      5|\n|              22.0|      5|\n|                IL|      5|\n|debt_consolidation|      5|\n|              24.0|      4|\n|                FL|      4|\n|              26.0|      3|\n|                NY|      3|\n|                NJ|      3|\n|             452xx|      3|\n|              23.0|      2|\n|                MD|      2|\n|              30.0|      2|\n|              29.0|      2|\n|       credit_card|      2|\n+------------------+-------+\nonly showing top 40 rows\n\n"
     ]
    }
   ],
   "source": [
    "spark.sql(\"select delinq_2yrs, count(*) as total from loan_defaulters group by delinq_2yrs order by total desc\").show(40)"
   ]
  },
  {
   "cell_type": "code",
   "execution_count": 0,
   "metadata": {
    "application/vnd.databricks.v1+cell": {
     "cellMetadata": {},
     "inputWidgets": {},
     "nuid": "d78e76aa-75b1-42a2-a75a-9b15dcd0dabe",
     "showTitle": false,
     "title": ""
    }
   },
   "outputs": [],
   "source": [
    "loan_defaulters_schema = \"member_id string, delinq_2yrs float, delinq_amnt float, pub_rec float, pub_rec_bankruptcies float,inq_last_6mths float, total_rec_late_fee float, mths_since_last_delinq float, mths_since_last_record float\""
   ]
  },
  {
   "cell_type": "code",
   "execution_count": 0,
   "metadata": {
    "application/vnd.databricks.v1+cell": {
     "cellMetadata": {},
     "inputWidgets": {},
     "nuid": "14ee2f8f-8818-4f83-876e-8f77a0ace124",
     "showTitle": false,
     "title": ""
    }
   },
   "outputs": [],
   "source": [
    "loans_def_raw_df = spark.read \\\n",
    ".format(\"csv\") \\\n",
    ".option(\"header\",True) \\\n",
    ".schema(loan_defaulters_schema) \\\n",
    ".load(\"/user/itv008542/lendingclubproject/raw/loans_defaulters_csv\")"
   ]
  },
  {
   "cell_type": "code",
   "execution_count": 0,
   "metadata": {
    "application/vnd.databricks.v1+cell": {
     "cellMetadata": {},
     "inputWidgets": {},
     "nuid": "85e35d9c-a5da-4828-a196-4a7d9195b023",
     "showTitle": false,
     "title": ""
    }
   },
   "outputs": [],
   "source": [
    "loans_def_raw_df.createOrReplaceTempView(\"loan_defaulters\")"
   ]
  },
  {
   "cell_type": "code",
   "execution_count": 0,
   "metadata": {
    "application/vnd.databricks.v1+cell": {
     "cellMetadata": {},
     "inputWidgets": {},
     "nuid": "1ee4a6b0-c43c-40c8-9a8f-fbd727277729",
     "showTitle": false,
     "title": ""
    }
   },
   "outputs": [
    {
     "output_type": "stream",
     "name": "stdout",
     "output_type": "stream",
     "text": [
      "+-----------+-------+\n|delinq_2yrs|  total|\n+-----------+-------+\n|        0.0|1838878|\n|        1.0| 281335|\n|        2.0|  81285|\n|        3.0|  29539|\n|        4.0|  13179|\n|        5.0|   6599|\n|        6.0|   3717|\n|        7.0|   2062|\n|        8.0|   1223|\n|        9.0|    818|\n|       10.0|    556|\n|       11.0|    363|\n|       12.0|    264|\n|       null|    261|\n|       13.0|    165|\n|       14.0|    120|\n|       15.0|     87|\n|       16.0|     55|\n|       18.0|     30|\n|       17.0|     30|\n|       19.0|     23|\n|       20.0|     17|\n|       21.0|     12|\n|       22.0|      5|\n|       24.0|      4|\n|       26.0|      3|\n|       23.0|      2|\n|       25.0|      2|\n|       3.44|      2|\n|       30.0|      2|\n|       29.0|      2|\n|       3.45|      1|\n|      13.76|      1|\n|      21.72|      1|\n|       58.0|      1|\n|      17.17|      1|\n|       6.52|      1|\n|       5.52|      1|\n|       14.1|      1|\n|      22.62|      1|\n+-----------+-------+\nonly showing top 40 rows\n\n"
     ]
    }
   ],
   "source": [
    "spark.sql(\"select delinq_2yrs, count(*) as total from loan_defaulters group by delinq_2yrs order by total desc\").show(40)"
   ]
  },
  {
   "cell_type": "code",
   "execution_count": 0,
   "metadata": {
    "application/vnd.databricks.v1+cell": {
     "cellMetadata": {},
     "inputWidgets": {},
     "nuid": "81ab0e56-3fb6-4b17-851d-cf754a9215ca",
     "showTitle": false,
     "title": ""
    }
   },
   "outputs": [],
   "source": [
    "from pyspark.sql.functions import col"
   ]
  },
  {
   "cell_type": "code",
   "execution_count": 0,
   "metadata": {
    "application/vnd.databricks.v1+cell": {
     "cellMetadata": {},
     "inputWidgets": {},
     "nuid": "a30f9d4d-0597-4be1-bc4c-e048c654604d",
     "showTitle": false,
     "title": ""
    }
   },
   "outputs": [],
   "source": [
    "loans_def_processed_df = loans_def_raw_df.withColumn(\"delinq_2yrs\", col(\"delinq_2yrs\").cast(\"integer\")).fillna(0, subset = [\"delinq_2yrs\"])"
   ]
  },
  {
   "cell_type": "code",
   "execution_count": 0,
   "metadata": {
    "application/vnd.databricks.v1+cell": {
     "cellMetadata": {},
     "inputWidgets": {},
     "nuid": "66ba10c9-3bb5-44d9-b99d-2514054bc64a",
     "showTitle": false,
     "title": ""
    }
   },
   "outputs": [],
   "source": [
    "loans_def_processed_df.createOrReplaceTempView(\"loan_defaulters\")"
   ]
  },
  {
   "cell_type": "code",
   "execution_count": 0,
   "metadata": {
    "application/vnd.databricks.v1+cell": {
     "cellMetadata": {},
     "inputWidgets": {},
     "nuid": "89c97380-0592-49f7-8c65-4c538f063bcb",
     "showTitle": false,
     "title": ""
    }
   },
   "outputs": [
    {
     "output_type": "execute_result",
     "data": {
      "text/html": [
       "<table border='1'>\n",
       "<tr><th>count(1)</th></tr>\n",
       "<tr><td>0</td></tr>\n",
       "</table>\n"
      ],
      "text/plain": [
       "+--------+\n",
       "|count(1)|\n",
       "+--------+\n",
       "|       0|\n",
       "+--------+"
      ]
     },
     "execution_count": 16,
     "metadata": {},
     "output_type": "execute_result"
    }
   ],
   "source": [
    "spark.sql(\"select count(*) from loan_defaulters where delinq_2yrs is null\")"
   ]
  },
  {
   "cell_type": "code",
   "execution_count": 0,
   "metadata": {
    "application/vnd.databricks.v1+cell": {
     "cellMetadata": {},
     "inputWidgets": {},
     "nuid": "58892fbb-d4bd-4258-9412-8b763f805661",
     "showTitle": false,
     "title": ""
    }
   },
   "outputs": [
    {
     "output_type": "stream",
     "name": "stdout",
     "output_type": "stream",
     "text": [
      "+-----------+-------+\n|delinq_2yrs|  total|\n+-----------+-------+\n|          0|1839141|\n|          1| 281337|\n|          2|  81285|\n|          3|  29545|\n|          4|  13180|\n|          5|   6601|\n|          6|   3719|\n|          7|   2063|\n|          8|   1226|\n|          9|    821|\n|         10|    558|\n|         11|    363|\n|         12|    266|\n|         13|    167|\n|         14|    123|\n|         15|     90|\n|         16|     56|\n|         17|     33|\n|         18|     32|\n|         19|     24|\n|         20|     19|\n|         21|     16|\n|         22|      7|\n|         24|      6|\n|         23|      5|\n|         26|      4|\n|         30|      2|\n|         25|      2|\n|         29|      2|\n|         27|      1|\n|         35|      1|\n|         28|      1|\n|         42|      1|\n|         39|      1|\n|         32|      1|\n|         58|      1|\n|         36|      1|\n+-----------+-------+\n\n"
     ]
    }
   ],
   "source": [
    "spark.sql(\"select delinq_2yrs, count(*) as total from loan_defaulters group by delinq_2yrs order by total desc\").show(40)"
   ]
  },
  {
   "cell_type": "code",
   "execution_count": 0,
   "metadata": {
    "application/vnd.databricks.v1+cell": {
     "cellMetadata": {},
     "inputWidgets": {},
     "nuid": "66db0906-aeec-4744-99e1-66c90bcf31af",
     "showTitle": false,
     "title": ""
    }
   },
   "outputs": [],
   "source": [
    "loans_def_delinq_df = spark.sql(\"select member_id,delinq_2yrs, delinq_amnt, int(mths_since_last_delinq) from loan_defaulters where delinq_2yrs > 0 or mths_since_last_delinq > 0\")"
   ]
  },
  {
   "cell_type": "code",
   "execution_count": 0,
   "metadata": {
    "application/vnd.databricks.v1+cell": {
     "cellMetadata": {},
     "inputWidgets": {},
     "nuid": "ebf45829-bcab-447f-93e6-cebb0eb25ef0",
     "showTitle": false,
     "title": ""
    }
   },
   "outputs": [
    {
     "output_type": "execute_result",
     "data": {
      "text/html": [
       "<table border='1'>\n",
       "<tr><th>member_id</th><th>delinq_2yrs</th><th>delinq_amnt</th><th>mths_since_last_delinq</th></tr>\n",
       "<tr><td>6d5091b3fcaaeb4ea...</td><td>0</td><td>0.0</td><td>30</td></tr>\n",
       "<tr><td>b5e7938b0a2da4cea...</td><td>1</td><td>0.0</td><td>6</td></tr>\n",
       "<tr><td>f74e401c1ab0adf78...</td><td>1</td><td>0.0</td><td>12</td></tr>\n",
       "<tr><td>538b4653da3b1e814...</td><td>0</td><td>0.0</td><td>49</td></tr>\n",
       "<tr><td>b24d55f21390533c5...</td><td>1</td><td>0.0</td><td>3</td></tr>\n",
       "<tr><td>cb0f1777593e77909...</td><td>0</td><td>0.0</td><td>75</td></tr>\n",
       "<tr><td>a962f4d59caec5fa1...</td><td>0</td><td>0.0</td><td>54</td></tr>\n",
       "<tr><td>23857480ccf555ce4...</td><td>0</td><td>0.0</td><td>42</td></tr>\n",
       "<tr><td>f2c4010f700d8c9c4...</td><td>0</td><td>0.0</td><td>29</td></tr>\n",
       "<tr><td>0d3c568ff6944b11c...</td><td>0</td><td>0.0</td><td>33</td></tr>\n",
       "<tr><td>18889919d4248ff48...</td><td>1</td><td>0.0</td><td>15</td></tr>\n",
       "<tr><td>49c691121315ceeac...</td><td>2</td><td>0.0</td><td>18</td></tr>\n",
       "<tr><td>d04ae2a3b9e2e686e...</td><td>0</td><td>0.0</td><td>47</td></tr>\n",
       "<tr><td>259af6637d622a8fc...</td><td>0</td><td>0.0</td><td>33</td></tr>\n",
       "<tr><td>263b2b8177d69a09e...</td><td>0</td><td>0.0</td><td>33</td></tr>\n",
       "<tr><td>0d7e498df54d38160...</td><td>0</td><td>0.0</td><td>35</td></tr>\n",
       "<tr><td>dc3d024374b1d2cb4...</td><td>1</td><td>0.0</td><td>23</td></tr>\n",
       "<tr><td>c968abcd0831fe0a9...</td><td>0</td><td>0.0</td><td>38</td></tr>\n",
       "<tr><td>25df9cff7c21666b9...</td><td>2</td><td>0.0</td><td>8</td></tr>\n",
       "<tr><td>5840f34a041b29a6b...</td><td>0</td><td>0.0</td><td>70</td></tr>\n",
       "</table>\n",
       "only showing top 20 rows\n"
      ],
      "text/plain": [
       "+--------------------+-----------+-----------+----------------------+\n",
       "|           member_id|delinq_2yrs|delinq_amnt|mths_since_last_delinq|\n",
       "+--------------------+-----------+-----------+----------------------+\n",
       "|6d5091b3fcaaeb4ea...|          0|        0.0|                    30|\n",
       "|b5e7938b0a2da4cea...|          1|        0.0|                     6|\n",
       "|f74e401c1ab0adf78...|          1|        0.0|                    12|\n",
       "|538b4653da3b1e814...|          0|        0.0|                    49|\n",
       "|b24d55f21390533c5...|          1|        0.0|                     3|\n",
       "|cb0f1777593e77909...|          0|        0.0|                    75|\n",
       "|a962f4d59caec5fa1...|          0|        0.0|                    54|\n",
       "|23857480ccf555ce4...|          0|        0.0|                    42|\n",
       "|f2c4010f700d8c9c4...|          0|        0.0|                    29|\n",
       "|0d3c568ff6944b11c...|          0|        0.0|                    33|\n",
       "|18889919d4248ff48...|          1|        0.0|                    15|\n",
       "|49c691121315ceeac...|          2|        0.0|                    18|\n",
       "|d04ae2a3b9e2e686e...|          0|        0.0|                    47|\n",
       "|259af6637d622a8fc...|          0|        0.0|                    33|\n",
       "|263b2b8177d69a09e...|          0|        0.0|                    33|\n",
       "|0d7e498df54d38160...|          0|        0.0|                    35|\n",
       "|dc3d024374b1d2cb4...|          1|        0.0|                    23|\n",
       "|c968abcd0831fe0a9...|          0|        0.0|                    38|\n",
       "|25df9cff7c21666b9...|          2|        0.0|                     8|\n",
       "|5840f34a041b29a6b...|          0|        0.0|                    70|\n",
       "+--------------------+-----------+-----------+----------------------+\n",
       "only showing top 20 rows"
      ]
     },
     "execution_count": 19,
     "metadata": {},
     "output_type": "execute_result"
    }
   ],
   "source": [
    "loans_def_delinq_df"
   ]
  },
  {
   "cell_type": "code",
   "execution_count": 0,
   "metadata": {
    "application/vnd.databricks.v1+cell": {
     "cellMetadata": {},
     "inputWidgets": {},
     "nuid": "48b98185-c69b-436d-a29d-bd63947a9c5f",
     "showTitle": false,
     "title": ""
    }
   },
   "outputs": [
    {
     "output_type": "execute_result",
     "data": {
      "text/plain": [
       "1106163"
      ]
     },
     "execution_count": 20,
     "metadata": {},
     "output_type": "execute_result"
    }
   ],
   "source": [
    "loans_def_delinq_df.count()"
   ]
  },
  {
   "cell_type": "code",
   "execution_count": 0,
   "metadata": {
    "application/vnd.databricks.v1+cell": {
     "cellMetadata": {},
     "inputWidgets": {},
     "nuid": "f3be019f-9486-4c95-9500-91829a24dedc",
     "showTitle": false,
     "title": ""
    }
   },
   "outputs": [],
   "source": [
    "loans_def_detail_records_enq_df = spark.sql(\"select member_id, pub_rec, pub_rec_bankruptcies, inq_last_6mths from loan_defaulters\")"
   ]
  },
  {
   "cell_type": "code",
   "execution_count": 0,
   "metadata": {
    "application/vnd.databricks.v1+cell": {
     "cellMetadata": {},
     "inputWidgets": {},
     "nuid": "7c1517c6-8d73-4835-8160-e8c1d712532e",
     "showTitle": false,
     "title": ""
    }
   },
   "outputs": [
    {
     "output_type": "execute_result",
     "data": {
      "text/html": [
       "<table border='1'>\n",
       "<tr><th>member_id</th><th>pub_rec</th><th>pub_rec_bankruptcies</th><th>inq_last_6mths</th></tr>\n",
       "<tr><td>6d5091b3fcaaeb4ea...</td><td>0.0</td><td>0.0</td><td>1.0</td></tr>\n",
       "<tr><td>b5e7938b0a2da4cea...</td><td>0.0</td><td>0.0</td><td>4.0</td></tr>\n",
       "<tr><td>91060b858433e8a61...</td><td>0.0</td><td>0.0</td><td>0.0</td></tr>\n",
       "<tr><td>cab1fa9f533688b0a...</td><td>0.0</td><td>0.0</td><td>0.0</td></tr>\n",
       "<tr><td>f74e401c1ab0adf78...</td><td>0.0</td><td>0.0</td><td>3.0</td></tr>\n",
       "<tr><td>8aef4bb29d609d8d6...</td><td>0.0</td><td>0.0</td><td>0.0</td></tr>\n",
       "<tr><td>538b4653da3b1e814...</td><td>0.0</td><td>0.0</td><td>0.0</td></tr>\n",
       "<tr><td>b24d55f21390533c5...</td><td>0.0</td><td>0.0</td><td>0.0</td></tr>\n",
       "<tr><td>1035c5401b0ca76d0...</td><td>1.0</td><td>1.0</td><td>1.0</td></tr>\n",
       "<tr><td>cb0f1777593e77909...</td><td>0.0</td><td>0.0</td><td>0.0</td></tr>\n",
       "<tr><td>a962f4d59caec5fa1...</td><td>0.0</td><td>0.0</td><td>0.0</td></tr>\n",
       "<tr><td>e7592ab57b3afd9f1...</td><td>0.0</td><td>0.0</td><td>0.0</td></tr>\n",
       "<tr><td>603afa9d1be879b7b...</td><td>0.0</td><td>0.0</td><td>0.0</td></tr>\n",
       "<tr><td>9fe2d59ddf2a4f37e...</td><td>1.0</td><td>1.0</td><td>1.0</td></tr>\n",
       "<tr><td>23857480ccf555ce4...</td><td>0.0</td><td>0.0</td><td>0.0</td></tr>\n",
       "<tr><td>7c69d5f36fdabf6e1...</td><td>0.0</td><td>0.0</td><td>0.0</td></tr>\n",
       "<tr><td>08bf9e080503b0113...</td><td>0.0</td><td>0.0</td><td>1.0</td></tr>\n",
       "<tr><td>1cafb05aa6c894c30...</td><td>0.0</td><td>0.0</td><td>0.0</td></tr>\n",
       "<tr><td>f2c4010f700d8c9c4...</td><td>0.0</td><td>0.0</td><td>0.0</td></tr>\n",
       "<tr><td>05ad4aed7c393035e...</td><td>1.0</td><td>1.0</td><td>4.0</td></tr>\n",
       "</table>\n",
       "only showing top 20 rows\n"
      ],
      "text/plain": [
       "+--------------------+-------+--------------------+--------------+\n",
       "|           member_id|pub_rec|pub_rec_bankruptcies|inq_last_6mths|\n",
       "+--------------------+-------+--------------------+--------------+\n",
       "|6d5091b3fcaaeb4ea...|    0.0|                 0.0|           1.0|\n",
       "|b5e7938b0a2da4cea...|    0.0|                 0.0|           4.0|\n",
       "|91060b858433e8a61...|    0.0|                 0.0|           0.0|\n",
       "|cab1fa9f533688b0a...|    0.0|                 0.0|           0.0|\n",
       "|f74e401c1ab0adf78...|    0.0|                 0.0|           3.0|\n",
       "|8aef4bb29d609d8d6...|    0.0|                 0.0|           0.0|\n",
       "|538b4653da3b1e814...|    0.0|                 0.0|           0.0|\n",
       "|b24d55f21390533c5...|    0.0|                 0.0|           0.0|\n",
       "|1035c5401b0ca76d0...|    1.0|                 1.0|           1.0|\n",
       "|cb0f1777593e77909...|    0.0|                 0.0|           0.0|\n",
       "|a962f4d59caec5fa1...|    0.0|                 0.0|           0.0|\n",
       "|e7592ab57b3afd9f1...|    0.0|                 0.0|           0.0|\n",
       "|603afa9d1be879b7b...|    0.0|                 0.0|           0.0|\n",
       "|9fe2d59ddf2a4f37e...|    1.0|                 1.0|           1.0|\n",
       "|23857480ccf555ce4...|    0.0|                 0.0|           0.0|\n",
       "|7c69d5f36fdabf6e1...|    0.0|                 0.0|           0.0|\n",
       "|08bf9e080503b0113...|    0.0|                 0.0|           1.0|\n",
       "|1cafb05aa6c894c30...|    0.0|                 0.0|           0.0|\n",
       "|f2c4010f700d8c9c4...|    0.0|                 0.0|           0.0|\n",
       "|05ad4aed7c393035e...|    1.0|                 1.0|           4.0|\n",
       "+--------------------+-------+--------------------+--------------+\n",
       "only showing top 20 rows"
      ]
     },
     "execution_count": 22,
     "metadata": {},
     "output_type": "execute_result"
    }
   ],
   "source": [
    "loans_def_detail_records_enq_df"
   ]
  },
  {
   "cell_type": "code",
   "execution_count": 0,
   "metadata": {
    "application/vnd.databricks.v1+cell": {
     "cellMetadata": {},
     "inputWidgets": {},
     "nuid": "105732a1-07a5-4e04-9925-5fa2ede7f84d",
     "showTitle": false,
     "title": ""
    }
   },
   "outputs": [],
   "source": [
    "loans_def_p_pub_rec_df = loans_def_processed_df.withColumn(\"pub_rec\", col(\"pub_rec\").cast(\"integer\")).fillna(0, subset = [\"pub_rec\"])"
   ]
  },
  {
   "cell_type": "code",
   "execution_count": 0,
   "metadata": {
    "application/vnd.databricks.v1+cell": {
     "cellMetadata": {},
     "inputWidgets": {},
     "nuid": "10d74431-aaf7-4da0-a006-ff21afebfd5d",
     "showTitle": false,
     "title": ""
    }
   },
   "outputs": [],
   "source": [
    "loans_def_p_pub_rec_bankruptcies_df = loans_def_p_pub_rec_df.withColumn(\"pub_rec_bankruptcies\", col(\"pub_rec_bankruptcies\").cast(\"integer\")).fillna(0, subset = [\"pub_rec_bankruptcies\"])"
   ]
  },
  {
   "cell_type": "code",
   "execution_count": 0,
   "metadata": {
    "application/vnd.databricks.v1+cell": {
     "cellMetadata": {},
     "inputWidgets": {},
     "nuid": "b0f759bd-9978-4f91-95d5-2fc5bebbbe1b",
     "showTitle": false,
     "title": ""
    }
   },
   "outputs": [],
   "source": [
    "loans_def_p_inq_last_6mths_df = loans_def_p_pub_rec_bankruptcies_df.withColumn(\"inq_last_6mths\", col(\"inq_last_6mths\").cast(\"integer\")).fillna(0, subset = [\"inq_last_6mths\"])"
   ]
  },
  {
   "cell_type": "code",
   "execution_count": 0,
   "metadata": {
    "application/vnd.databricks.v1+cell": {
     "cellMetadata": {},
     "inputWidgets": {},
     "nuid": "bea3e0c8-adc5-4ccb-af36-9b48f3808e2e",
     "showTitle": false,
     "title": ""
    }
   },
   "outputs": [],
   "source": [
    "loans_def_p_inq_last_6mths_df.createOrReplaceTempView(\"loan_defaulters\")"
   ]
  },
  {
   "cell_type": "code",
   "execution_count": 0,
   "metadata": {
    "application/vnd.databricks.v1+cell": {
     "cellMetadata": {},
     "inputWidgets": {},
     "nuid": "74d84d6c-2b9c-4202-8cd8-82670f8f9723",
     "showTitle": false,
     "title": ""
    }
   },
   "outputs": [],
   "source": [
    "loans_def_detail_records_enq_df = spark.sql(\"select member_id, pub_rec, pub_rec_bankruptcies, inq_last_6mths from loan_defaulters\")"
   ]
  },
  {
   "cell_type": "code",
   "execution_count": 0,
   "metadata": {
    "application/vnd.databricks.v1+cell": {
     "cellMetadata": {},
     "inputWidgets": {},
     "nuid": "a98da1e5-ff49-4bc9-82d5-1ba6439f3871",
     "showTitle": false,
     "title": ""
    }
   },
   "outputs": [
    {
     "output_type": "execute_result",
     "data": {
      "text/html": [
       "<table border='1'>\n",
       "<tr><th>member_id</th><th>pub_rec</th><th>pub_rec_bankruptcies</th><th>inq_last_6mths</th></tr>\n",
       "<tr><td>6d5091b3fcaaeb4ea...</td><td>0</td><td>0</td><td>1</td></tr>\n",
       "<tr><td>b5e7938b0a2da4cea...</td><td>0</td><td>0</td><td>4</td></tr>\n",
       "<tr><td>91060b858433e8a61...</td><td>0</td><td>0</td><td>0</td></tr>\n",
       "<tr><td>cab1fa9f533688b0a...</td><td>0</td><td>0</td><td>0</td></tr>\n",
       "<tr><td>f74e401c1ab0adf78...</td><td>0</td><td>0</td><td>3</td></tr>\n",
       "<tr><td>8aef4bb29d609d8d6...</td><td>0</td><td>0</td><td>0</td></tr>\n",
       "<tr><td>538b4653da3b1e814...</td><td>0</td><td>0</td><td>0</td></tr>\n",
       "<tr><td>b24d55f21390533c5...</td><td>0</td><td>0</td><td>0</td></tr>\n",
       "<tr><td>1035c5401b0ca76d0...</td><td>1</td><td>1</td><td>1</td></tr>\n",
       "<tr><td>cb0f1777593e77909...</td><td>0</td><td>0</td><td>0</td></tr>\n",
       "<tr><td>a962f4d59caec5fa1...</td><td>0</td><td>0</td><td>0</td></tr>\n",
       "<tr><td>e7592ab57b3afd9f1...</td><td>0</td><td>0</td><td>0</td></tr>\n",
       "<tr><td>603afa9d1be879b7b...</td><td>0</td><td>0</td><td>0</td></tr>\n",
       "<tr><td>9fe2d59ddf2a4f37e...</td><td>1</td><td>1</td><td>1</td></tr>\n",
       "<tr><td>23857480ccf555ce4...</td><td>0</td><td>0</td><td>0</td></tr>\n",
       "<tr><td>7c69d5f36fdabf6e1...</td><td>0</td><td>0</td><td>0</td></tr>\n",
       "<tr><td>08bf9e080503b0113...</td><td>0</td><td>0</td><td>1</td></tr>\n",
       "<tr><td>1cafb05aa6c894c30...</td><td>0</td><td>0</td><td>0</td></tr>\n",
       "<tr><td>f2c4010f700d8c9c4...</td><td>0</td><td>0</td><td>0</td></tr>\n",
       "<tr><td>05ad4aed7c393035e...</td><td>1</td><td>1</td><td>4</td></tr>\n",
       "</table>\n",
       "only showing top 20 rows\n"
      ],
      "text/plain": [
       "+--------------------+-------+--------------------+--------------+\n",
       "|           member_id|pub_rec|pub_rec_bankruptcies|inq_last_6mths|\n",
       "+--------------------+-------+--------------------+--------------+\n",
       "|6d5091b3fcaaeb4ea...|      0|                   0|             1|\n",
       "|b5e7938b0a2da4cea...|      0|                   0|             4|\n",
       "|91060b858433e8a61...|      0|                   0|             0|\n",
       "|cab1fa9f533688b0a...|      0|                   0|             0|\n",
       "|f74e401c1ab0adf78...|      0|                   0|             3|\n",
       "|8aef4bb29d609d8d6...|      0|                   0|             0|\n",
       "|538b4653da3b1e814...|      0|                   0|             0|\n",
       "|b24d55f21390533c5...|      0|                   0|             0|\n",
       "|1035c5401b0ca76d0...|      1|                   1|             1|\n",
       "|cb0f1777593e77909...|      0|                   0|             0|\n",
       "|a962f4d59caec5fa1...|      0|                   0|             0|\n",
       "|e7592ab57b3afd9f1...|      0|                   0|             0|\n",
       "|603afa9d1be879b7b...|      0|                   0|             0|\n",
       "|9fe2d59ddf2a4f37e...|      1|                   1|             1|\n",
       "|23857480ccf555ce4...|      0|                   0|             0|\n",
       "|7c69d5f36fdabf6e1...|      0|                   0|             0|\n",
       "|08bf9e080503b0113...|      0|                   0|             1|\n",
       "|1cafb05aa6c894c30...|      0|                   0|             0|\n",
       "|f2c4010f700d8c9c4...|      0|                   0|             0|\n",
       "|05ad4aed7c393035e...|      1|                   1|             4|\n",
       "+--------------------+-------+--------------------+--------------+\n",
       "only showing top 20 rows"
      ]
     },
     "execution_count": 29,
     "metadata": {},
     "output_type": "execute_result"
    }
   ],
   "source": [
    "loans_def_detail_records_enq_df"
   ]
  },
  {
   "cell_type": "code",
   "execution_count": 0,
   "metadata": {
    "application/vnd.databricks.v1+cell": {
     "cellMetadata": {},
     "inputWidgets": {},
     "nuid": "1e79203a-0f54-4b1e-a73f-1d96923184af",
     "showTitle": false,
     "title": ""
    }
   },
   "outputs": [],
   "source": [
    "loans_def_detail_records_enq_df.write \\\n",
    ".option(\"header\", True) \\\n",
    ".format(\"csv\") \\\n",
    ".mode(\"overwrite\") \\\n",
    ".option(\"path\", \"/user/itv008542/lendingclubproject/raw/cleaned/loans_def_detail_records_enq_df_csv\") \\\n",
    ".save()"
   ]
  },
  {
   "cell_type": "code",
   "execution_count": 0,
   "metadata": {
    "application/vnd.databricks.v1+cell": {
     "cellMetadata": {},
     "inputWidgets": {},
     "nuid": "bae42f9a-9068-41cf-aefb-449cb57d64a5",
     "showTitle": false,
     "title": ""
    }
   },
   "outputs": [],
   "source": [
    "loans_def_detail_records_enq_df.write \\\n",
    ".format(\"parquet\") \\\n",
    ".mode(\"overwrite\") \\\n",
    ".option(\"path\", \"/user/itv008542/lendingclubproject/raw/cleaned/loans_def_detail_records_enq_df_parquet\") \\\n",
    ".save()"
   ]
  },
  {
   "cell_type": "code",
   "execution_count": 0,
   "metadata": {
    "application/vnd.databricks.v1+cell": {
     "cellMetadata": {},
     "inputWidgets": {},
     "nuid": "16d6040c-679f-4eda-8c9b-025f07da5c32",
     "showTitle": false,
     "title": ""
    }
   },
   "outputs": [
    {
     "output_type": "stream",
     "name": "stdout",
     "output_type": "stream",
     "text": [
      "Found 3 items\n-rw-r--r--   3 itv008542 supergroup          0 2024-02-07 11:19 /user/itv008542/lendingclubproject/raw/cleaned/loans_def_detail_records_enq_df_csv/_SUCCESS\n-rw-r--r--   3 itv008542 supergroup   81767094 2024-02-07 11:19 /user/itv008542/lendingclubproject/raw/cleaned/loans_def_detail_records_enq_df_csv/part-00000-4ee05a8e-73d3-4413-8947-5cedb7f9a995-c000.csv\n-rw-r--r--   3 itv008542 supergroup   78743512 2024-02-07 11:19 /user/itv008542/lendingclubproject/raw/cleaned/loans_def_detail_records_enq_df_csv/part-00001-4ee05a8e-73d3-4413-8947-5cedb7f9a995-c000.csv\nFound 3 items\n-rw-r--r--   3 itv008542 supergroup          0 2024-02-07 11:19 /user/itv008542/lendingclubproject/raw/cleaned/loans_def_detail_records_enq_df_parquet/_SUCCESS\n-rw-r--r--   3 itv008542 supergroup   77102271 2024-02-07 11:19 /user/itv008542/lendingclubproject/raw/cleaned/loans_def_detail_records_enq_df_parquet/part-00000-60756812-6a06-4f37-bc1f-a36ca6e3ce71-c000.snappy.parquet\n-rw-r--r--   3 itv008542 supergroup   74070621 2024-02-07 11:19 /user/itv008542/lendingclubproject/raw/cleaned/loans_def_detail_records_enq_df_parquet/part-00001-60756812-6a06-4f37-bc1f-a36ca6e3ce71-c000.snappy.parquet\n"
     ]
    }
   ],
   "source": [
    "! hadoop fs -ls /user/itv008542/lendingclubproject/raw/cleaned/loans_def_detail_records_enq_df_csv\n",
    "! hadoop fs -ls /user/itv008542/lendingclubproject/raw/cleaned/loans_def_detail_records_enq_df_parquet"
   ]
  },
  {
   "cell_type": "code",
   "execution_count": 0,
   "metadata": {
    "application/vnd.databricks.v1+cell": {
     "cellMetadata": {},
     "inputWidgets": {},
     "nuid": "29d7ce31-5329-42f1-9b98-1cb00547410f",
     "showTitle": false,
     "title": ""
    }
   },
   "outputs": [
    {
     "output_type": "stream",
     "name": "stdout",
     "output_type": "stream",
     "text": [
      "member_id,pub_rec,pub_rec_bankruptcies,inq_last_6mths\n6d5091b3fcaaeb4eac37445042b6b79e8b21f16943b9c32c4f5dd74dcb0f2210,0,0,1\nb5e7938b0a2da4ceaa75ea2e3c111d1e33ca0f944f954b6d65671ef395d21713,0,0,4\n91060b858433e8a6107be9b76b324e304b5802631fc081b449188fe4b4e32205,0,0,0\ncab1fa9f533688b0aab7c6be7b6256d15ad1dd5f3c4ca061a49cfeb26901977d,0,0,0\nf74e401c1ab0adf788a7279dd70a27459fcc47733d35eed71149ff371d2a7283,0,0,3\n8aef4bb29d609d8d684fd709af965bd690fc9ef3a2691777f38e0c10d622fe97,0,0,0\n538b4653da3b1e8142b50baacf97a57b721eb6ec565f5fb63a1b71d191e9e934,0,0,0\nb24d55f21390533c512f78f822153dc247e984dcd0cfe031c341ccef1c689817,0,0,0\n1035c5401b0ca76d02c334b813302a9b72825e70b1659e8bc8ce5eea6c5d1f52,1,1,1\ncb0f1777593e77909d0d359a6d9e633f28568500e17806f815395c92f0cd375d,0,0,0\na962f4d59caec5fa1d51d5ad6ccf761573b476dbc25295e9645a491fa2bc6997,0,0,0\ne7592ab57b3afd9f10d50541f66994def18784791690158a17b220c450751b96,0,0,0\n603afa9d1be879b7bb0685aa87fe166f4b90bde7bd1304ec55c845c587940e8f,0,0,0\n9fe2d59ddf2a4f37e54e225954d87e21054e9c965b6d86f"
     ]
    }
   ],
   "source": [
    "! hadoop fs -head /user/itv008542/lendingclubproject/raw/cleaned/loans_def_detail_records_enq_df_csv/part-00000-4ee05a8e-73d3-4413-8947-5cedb7f9a995-c000.csv"
   ]
  },
  {
   "cell_type": "markdown",
   "metadata": {
    "application/vnd.databricks.v1+cell": {
     "cellMetadata": {},
     "inputWidgets": {},
     "nuid": "d64d9c4c-80ea-4e56-9297-631fd4813c56",
     "showTitle": false,
     "title": ""
    }
   },
   "source": [
    "## Processing - Permanent Table Creation on Cleaned Data"
   ]
  },
  {
   "cell_type": "markdown",
   "metadata": {
    "application/vnd.databricks.v1+cell": {
     "cellMetadata": {},
     "inputWidgets": {},
     "nuid": "d02ab46b-4d61-4690-9947-1cb61306f183",
     "showTitle": false,
     "title": ""
    }
   },
   "source": [
    "\n",
    "## Requirement 1\n",
    "Some people from other team wants to use cleaned data for analysis purpose. Need to create a permanent table on top of cleaned data\n"
   ]
  },
  {
   "cell_type": "code",
   "execution_count": 0,
   "metadata": {
    "application/vnd.databricks.v1+cell": {
     "cellMetadata": {},
     "inputWidgets": {},
     "nuid": "cc14f7b2-3b32-47bf-9989-78f9f0ea88a4",
     "showTitle": false,
     "title": ""
    }
   },
   "outputs": [],
   "source": [
    "customers_df = spark.read \\\n",
    ".format(\"parquet\") \\\n",
    ".load(\"/user/itv008542/lendingclubproject/raw/cleaned/customers_parquet\")"
   ]
  },
  {
   "cell_type": "code",
   "execution_count": 0,
   "metadata": {
    "application/vnd.databricks.v1+cell": {
     "cellMetadata": {},
     "inputWidgets": {},
     "nuid": "4e0af201-4de9-479d-b049-19230a78ebb5",
     "showTitle": false,
     "title": ""
    }
   },
   "outputs": [
    {
     "output_type": "execute_result",
     "data": {
      "text/html": [
       "<table border='1'>\n",
       "<tr><th>member_id</th><th>emp_title</th><th>emp_length</th><th>home_ownership</th><th>annual_income</th><th>address_state</th><th>address_zipcode</th><th>address_country</th><th>grade</th><th>sub_grade</th><th>verification_status</th><th>total_high_credit_limit</th><th>application_type</th><th>join_annual_income</th><th>verification_status_joint</th><th>ingest_date</th></tr>\n",
       "<tr><td>c5285504f6fe07df0...</td><td>null</td><td>6</td><td>OWN</td><td>75000.0</td><td>MT</td><td>590xx</td><td>USA</td><td>A</td><td>A5</td><td>Verified</td><td>103108.0</td><td>Individual</td><td>null</td><td>null</td><td>2024-02-07 02:40:...</td></tr>\n",
       "<tr><td>423472a2a5feccdbe...</td><td>Assistant General...</td><td>1</td><td>MORTGAGE</td><td>62000.0</td><td>RI</td><td>028xx</td><td>USA</td><td>A</td><td>A5</td><td>Source Verified</td><td>277024.0</td><td>Individual</td><td>null</td><td>null</td><td>2024-02-07 02:40:...</td></tr>\n",
       "<tr><td>5dfbbc290399123f6...</td><td>RN</td><td>3</td><td>RENT</td><td>83000.0</td><td>NY</td><td>104xx</td><td>USA</td><td>B</td><td>B3</td><td>Source Verified</td><td>33300.0</td><td>Individual</td><td>null</td><td>null</td><td>2024-02-07 02:40:...</td></tr>\n",
       "<tr><td>4947cb2f94eaa67f3...</td><td>Real estate broker</td><td>10</td><td>RENT</td><td>130000.0</td><td>CA</td><td>926xx</td><td>USA</td><td>C</td><td>C3</td><td>Not Verified</td><td>93334.0</td><td>Individual</td><td>null</td><td>null</td><td>2024-02-07 02:40:...</td></tr>\n",
       "<tr><td>72e7d16536ebd5d1c...</td><td>Bus Operator</td><td>10</td><td>MORTGAGE</td><td>120000.0</td><td>NY</td><td>117xx</td><td>USA</td><td>C</td><td>C1</td><td>Not Verified</td><td>451501.0</td><td>Individual</td><td>null</td><td>null</td><td>2024-02-07 02:40:...</td></tr>\n",
       "<tr><td>1d661a84e5e614169...</td><td>site leader</td><td>8</td><td>MORTGAGE</td><td>32000.0</td><td>VA</td><td>242xx</td><td>USA</td><td>C</td><td>C2</td><td>Verified</td><td>122934.0</td><td>Individual</td><td>null</td><td>null</td><td>2024-02-07 02:40:...</td></tr>\n",
       "<tr><td>410599dabdbbfa060...</td><td>Police Officer</td><td>10</td><td>MORTGAGE</td><td>82000.0</td><td>OH</td><td>442xx</td><td>USA</td><td>B</td><td>B5</td><td>Not Verified</td><td>226936.0</td><td>Individual</td><td>null</td><td>null</td><td>2024-02-07 02:40:...</td></tr>\n",
       "<tr><td>cb15cc131f37ff4cb...</td><td>Operations Liaiso...</td><td>10</td><td>RENT</td><td>75000.0</td><td>NJ</td><td>074xx</td><td>USA</td><td>D</td><td>D4</td><td>Source Verified</td><td>71850.0</td><td>Individual</td><td>null</td><td>null</td><td>2024-02-07 02:40:...</td></tr>\n",
       "<tr><td>48774a798366a9c93...</td><td>Client Services M...</td><td>10</td><td>MORTGAGE</td><td>70000.0</td><td>WA</td><td>980xx</td><td>USA</td><td>A</td><td>A3</td><td>Not Verified</td><td>50946.0</td><td>Individual</td><td>null</td><td>null</td><td>2024-02-07 02:40:...</td></tr>\n",
       "<tr><td>77c3ce033df62339d...</td><td>Service Technician</td><td>10</td><td>MORTGAGE</td><td>50000.0</td><td>TX</td><td>795xx</td><td>USA</td><td>B</td><td>B2</td><td>Source Verified</td><td>71889.0</td><td>Individual</td><td>null</td><td>null</td><td>2024-02-07 02:40:...</td></tr>\n",
       "<tr><td>39611182652f01b7b...</td><td>Neonatal Nurse Pr...</td><td>10</td><td>RENT</td><td>150000.0</td><td>CA</td><td>923xx</td><td>USA</td><td>C</td><td>C5</td><td>Verified</td><td>75966.0</td><td>Individual</td><td>null</td><td>null</td><td>2024-02-07 02:40:...</td></tr>\n",
       "<tr><td>e86a5f44ab05edf7e...</td><td>Area Director</td><td>5</td><td>MORTGAGE</td><td>82500.0</td><td>SD</td><td>570xx</td><td>USA</td><td>B</td><td>B2</td><td>Not Verified</td><td>318684.0</td><td>Individual</td><td>null</td><td>null</td><td>2024-02-07 02:40:...</td></tr>\n",
       "<tr><td>3b4999f4c6898dd1e...</td><td>President</td><td>5</td><td>RENT</td><td>150000.0</td><td>NV</td><td>891xx</td><td>USA</td><td>B</td><td>B5</td><td>Source Verified</td><td>81951.0</td><td>Individual</td><td>null</td><td>null</td><td>2024-02-07 02:40:...</td></tr>\n",
       "<tr><td>b9f17c18fcacb2695...</td><td>HR Specialist (La...</td><td>1</td><td>RENT</td><td>108693.0</td><td>MD</td><td>208xx</td><td>USA</td><td>E</td><td>E4</td><td>Source Verified</td><td>136166.0</td><td>Individual</td><td>null</td><td>null</td><td>2024-02-07 02:40:...</td></tr>\n",
       "<tr><td>092f1ad90e2c894c6...</td><td>Medical Records</td><td>2</td><td>OWN</td><td>36000.0</td><td>GA</td><td>315xx</td><td>USA</td><td>A</td><td>A4</td><td>Source Verified</td><td>74900.0</td><td>Individual</td><td>null</td><td>null</td><td>2024-02-07 02:40:...</td></tr>\n",
       "<tr><td>0adc363a8b27688b1...</td><td>Manager</td><td>10</td><td>MORTGAGE</td><td>218400.0</td><td>TN</td><td>371xx</td><td>USA</td><td>B</td><td>B2</td><td>Source Verified</td><td>608597.0</td><td>Individual</td><td>null</td><td>null</td><td>2024-02-07 02:40:...</td></tr>\n",
       "<tr><td>004344778b6613f56...</td><td>Teacher</td><td>10</td><td>MORTGAGE</td><td>52000.0</td><td>FL</td><td>335xx</td><td>USA</td><td>C</td><td>C2</td><td>Not Verified</td><td>260730.0</td><td>Individual</td><td>null</td><td>null</td><td>2024-02-07 02:40:...</td></tr>\n",
       "<tr><td>8b02d00f02dc3ae40...</td><td>Secretary</td><td>10</td><td>MORTGAGE</td><td>35000.0</td><td>TN</td><td>378xx</td><td>USA</td><td>E</td><td>E2</td><td>Verified</td><td>156300.0</td><td>Individual</td><td>null</td><td>null</td><td>2024-02-07 02:40:...</td></tr>\n",
       "<tr><td>67063c5a3da27c532...</td><td>Protective Servic...</td><td>1</td><td>MORTGAGE</td><td>66352.0</td><td>MO</td><td>640xx</td><td>USA</td><td>D</td><td>D3</td><td>Source Verified</td><td>77687.0</td><td>Individual</td><td>null</td><td>null</td><td>2024-02-07 02:40:...</td></tr>\n",
       "<tr><td>f24666923e88af91d...</td><td>Developer II</td><td>2</td><td>RENT</td><td>41200.0</td><td>TX</td><td>799xx</td><td>USA</td><td>C</td><td>C1</td><td>Not Verified</td><td>52231.0</td><td>Individual</td><td>null</td><td>null</td><td>2024-02-07 02:40:...</td></tr>\n",
       "</table>\n",
       "only showing top 20 rows\n"
      ],
      "text/plain": [
       "+--------------------+--------------------+----------+--------------+-------------+-------------+---------------+---------------+-----+---------+-------------------+-----------------------+----------------+------------------+-------------------------+--------------------+\n",
       "|           member_id|           emp_title|emp_length|home_ownership|annual_income|address_state|address_zipcode|address_country|grade|sub_grade|verification_status|total_high_credit_limit|application_type|join_annual_income|verification_status_joint|         ingest_date|\n",
       "+--------------------+--------------------+----------+--------------+-------------+-------------+---------------+---------------+-----+---------+-------------------+-----------------------+----------------+------------------+-------------------------+--------------------+\n",
       "|c5285504f6fe07df0...|                null|         6|           OWN|      75000.0|           MT|          590xx|            USA|    A|       A5|           Verified|               103108.0|      Individual|              null|                     null|2024-02-07 02:40:...|\n",
       "|423472a2a5feccdbe...|Assistant General...|         1|      MORTGAGE|      62000.0|           RI|          028xx|            USA|    A|       A5|    Source Verified|               277024.0|      Individual|              null|                     null|2024-02-07 02:40:...|\n",
       "|5dfbbc290399123f6...|                  RN|         3|          RENT|      83000.0|           NY|          104xx|            USA|    B|       B3|    Source Verified|                33300.0|      Individual|              null|                     null|2024-02-07 02:40:...|\n",
       "|4947cb2f94eaa67f3...|  Real estate broker|        10|          RENT|     130000.0|           CA|          926xx|            USA|    C|       C3|       Not Verified|                93334.0|      Individual|              null|                     null|2024-02-07 02:40:...|\n",
       "|72e7d16536ebd5d1c...|        Bus Operator|        10|      MORTGAGE|     120000.0|           NY|          117xx|            USA|    C|       C1|       Not Verified|               451501.0|      Individual|              null|                     null|2024-02-07 02:40:...|\n",
       "|1d661a84e5e614169...|         site leader|         8|      MORTGAGE|      32000.0|           VA|          242xx|            USA|    C|       C2|           Verified|               122934.0|      Individual|              null|                     null|2024-02-07 02:40:...|\n",
       "|410599dabdbbfa060...|      Police Officer|        10|      MORTGAGE|      82000.0|           OH|          442xx|            USA|    B|       B5|       Not Verified|               226936.0|      Individual|              null|                     null|2024-02-07 02:40:...|\n",
       "|cb15cc131f37ff4cb...|Operations Liaiso...|        10|          RENT|      75000.0|           NJ|          074xx|            USA|    D|       D4|    Source Verified|                71850.0|      Individual|              null|                     null|2024-02-07 02:40:...|\n",
       "|48774a798366a9c93...|Client Services M...|        10|      MORTGAGE|      70000.0|           WA|          980xx|            USA|    A|       A3|       Not Verified|                50946.0|      Individual|              null|                     null|2024-02-07 02:40:...|\n",
       "|77c3ce033df62339d...|  Service Technician|        10|      MORTGAGE|      50000.0|           TX|          795xx|            USA|    B|       B2|    Source Verified|                71889.0|      Individual|              null|                     null|2024-02-07 02:40:...|\n",
       "|39611182652f01b7b...|Neonatal Nurse Pr...|        10|          RENT|     150000.0|           CA|          923xx|            USA|    C|       C5|           Verified|                75966.0|      Individual|              null|                     null|2024-02-07 02:40:...|\n",
       "|e86a5f44ab05edf7e...|       Area Director|         5|      MORTGAGE|      82500.0|           SD|          570xx|            USA|    B|       B2|       Not Verified|               318684.0|      Individual|              null|                     null|2024-02-07 02:40:...|\n",
       "|3b4999f4c6898dd1e...|           President|         5|          RENT|     150000.0|           NV|          891xx|            USA|    B|       B5|    Source Verified|                81951.0|      Individual|              null|                     null|2024-02-07 02:40:...|\n",
       "|b9f17c18fcacb2695...|HR Specialist (La...|         1|          RENT|     108693.0|           MD|          208xx|            USA|    E|       E4|    Source Verified|               136166.0|      Individual|              null|                     null|2024-02-07 02:40:...|\n",
       "|092f1ad90e2c894c6...|     Medical Records|         2|           OWN|      36000.0|           GA|          315xx|            USA|    A|       A4|    Source Verified|                74900.0|      Individual|              null|                     null|2024-02-07 02:40:...|\n",
       "|0adc363a8b27688b1...|             Manager|        10|      MORTGAGE|     218400.0|           TN|          371xx|            USA|    B|       B2|    Source Verified|               608597.0|      Individual|              null|                     null|2024-02-07 02:40:...|\n",
       "|004344778b6613f56...|             Teacher|        10|      MORTGAGE|      52000.0|           FL|          335xx|            USA|    C|       C2|       Not Verified|               260730.0|      Individual|              null|                     null|2024-02-07 02:40:...|\n",
       "|8b02d00f02dc3ae40...|           Secretary|        10|      MORTGAGE|      35000.0|           TN|          378xx|            USA|    E|       E2|           Verified|               156300.0|      Individual|              null|                     null|2024-02-07 02:40:...|\n",
       "|67063c5a3da27c532...|Protective Servic...|         1|      MORTGAGE|      66352.0|           MO|          640xx|            USA|    D|       D3|    Source Verified|                77687.0|      Individual|              null|                     null|2024-02-07 02:40:...|\n",
       "|f24666923e88af91d...|        Developer II|         2|          RENT|      41200.0|           TX|          799xx|            USA|    C|       C1|       Not Verified|                52231.0|      Individual|              null|                     null|2024-02-07 02:40:...|\n",
       "+--------------------+--------------------+----------+--------------+-------------+-------------+---------------+---------------+-----+---------+-------------------+-----------------------+----------------+------------------+-------------------------+--------------------+\n",
       "only showing top 20 rows"
      ]
     },
     "execution_count": 4,
     "metadata": {},
     "output_type": "execute_result"
    }
   ],
   "source": [
    "customers_df"
   ]
  },
  {
   "cell_type": "code",
   "execution_count": 0,
   "metadata": {
    "application/vnd.databricks.v1+cell": {
     "cellMetadata": {},
     "inputWidgets": {},
     "nuid": "e99d5d00-4239-4512-981a-a9d88831087a",
     "showTitle": false,
     "title": ""
    }
   },
   "outputs": [
    {
     "output_type": "execute_result",
     "data": {
      "text/html": [
       "<table border='1'>\n",
       "<tr><th></th></tr>\n",
       "</table>\n"
      ],
      "text/plain": [
       "++\n",
       "||\n",
       "++\n",
       "++"
      ]
     },
     "execution_count": 5,
     "metadata": {},
     "output_type": "execute_result"
    }
   ],
   "source": [
    "# Create a database to store all our relevant datas\n",
    "spark.sql(\"create database itv008542_lending_club\")"
   ]
  },
  {
   "cell_type": "markdown",
   "metadata": {
    "application/vnd.databricks.v1+cell": {
     "cellMetadata": {},
     "inputWidgets": {},
     "nuid": "135cefce-5972-4db4-978f-8d98309ad04d",
     "showTitle": false,
     "title": ""
    }
   },
   "source": [
    "\n",
    "#### 1. Create customers table"
   ]
  },
  {
   "cell_type": "code",
   "execution_count": 0,
   "metadata": {
    "application/vnd.databricks.v1+cell": {
     "cellMetadata": {},
     "inputWidgets": {},
     "nuid": "1d67fc3d-7dae-4124-92e4-84e3d09de01f",
     "showTitle": false,
     "title": ""
    }
   },
   "outputs": [
    {
     "output_type": "execute_result",
     "data": {
      "text/html": [
       "<table border='1'>\n",
       "<tr><th></th></tr>\n",
       "</table>\n"
      ],
      "text/plain": [
       "++\n",
       "||\n",
       "++\n",
       "++"
      ]
     },
     "execution_count": 6,
     "metadata": {},
     "output_type": "execute_result"
    }
   ],
   "source": [
    "spark.sql(\"\"\"create external table itv008542_lending_club.customers(\n",
    "member_id string, emp_title string, emp_length int, \n",
    "home_ownership string, annual_income float, address_state string, address_zipcode string, address_country string, grade string, \n",
    "sub_grade string, verification_status string, total_high_credit_limit float, application_type string, join_annual_income float, \n",
    "verification_status_joint string, ingest_date timestamp)\n",
    "stored as parquet location  '/user/itv008542/lendingclubproject/raw/cleaned/customers_parquet'\n",
    "\"\"\")"
   ]
  },
  {
   "cell_type": "code",
   "execution_count": 0,
   "metadata": {
    "application/vnd.databricks.v1+cell": {
     "cellMetadata": {},
     "inputWidgets": {},
     "nuid": "4bd8aea3-309d-412e-954e-c78c199e7637",
     "showTitle": false,
     "title": ""
    }
   },
   "outputs": [
    {
     "output_type": "execute_result",
     "data": {
      "text/html": [
       "<table border='1'>\n",
       "<tr><th>member_id</th><th>emp_title</th><th>emp_length</th><th>home_ownership</th><th>annual_income</th><th>address_state</th><th>address_zipcode</th><th>address_country</th><th>grade</th><th>sub_grade</th><th>verification_status</th><th>total_high_credit_limit</th><th>application_type</th><th>join_annual_income</th><th>verification_status_joint</th><th>ingest_date</th></tr>\n",
       "<tr><td>c5285504f6fe07df0...</td><td>null</td><td>6</td><td>OWN</td><td>75000.0</td><td>MT</td><td>590xx</td><td>USA</td><td>A</td><td>A5</td><td>Verified</td><td>103108.0</td><td>Individual</td><td>null</td><td>null</td><td>2024-02-07 02:40:...</td></tr>\n",
       "<tr><td>423472a2a5feccdbe...</td><td>Assistant General...</td><td>1</td><td>MORTGAGE</td><td>62000.0</td><td>RI</td><td>028xx</td><td>USA</td><td>A</td><td>A5</td><td>Source Verified</td><td>277024.0</td><td>Individual</td><td>null</td><td>null</td><td>2024-02-07 02:40:...</td></tr>\n",
       "<tr><td>5dfbbc290399123f6...</td><td>RN</td><td>3</td><td>RENT</td><td>83000.0</td><td>NY</td><td>104xx</td><td>USA</td><td>B</td><td>B3</td><td>Source Verified</td><td>33300.0</td><td>Individual</td><td>null</td><td>null</td><td>2024-02-07 02:40:...</td></tr>\n",
       "<tr><td>4947cb2f94eaa67f3...</td><td>Real estate broker</td><td>10</td><td>RENT</td><td>130000.0</td><td>CA</td><td>926xx</td><td>USA</td><td>C</td><td>C3</td><td>Not Verified</td><td>93334.0</td><td>Individual</td><td>null</td><td>null</td><td>2024-02-07 02:40:...</td></tr>\n",
       "<tr><td>72e7d16536ebd5d1c...</td><td>Bus Operator</td><td>10</td><td>MORTGAGE</td><td>120000.0</td><td>NY</td><td>117xx</td><td>USA</td><td>C</td><td>C1</td><td>Not Verified</td><td>451501.0</td><td>Individual</td><td>null</td><td>null</td><td>2024-02-07 02:40:...</td></tr>\n",
       "<tr><td>1d661a84e5e614169...</td><td>site leader</td><td>8</td><td>MORTGAGE</td><td>32000.0</td><td>VA</td><td>242xx</td><td>USA</td><td>C</td><td>C2</td><td>Verified</td><td>122934.0</td><td>Individual</td><td>null</td><td>null</td><td>2024-02-07 02:40:...</td></tr>\n",
       "<tr><td>410599dabdbbfa060...</td><td>Police Officer</td><td>10</td><td>MORTGAGE</td><td>82000.0</td><td>OH</td><td>442xx</td><td>USA</td><td>B</td><td>B5</td><td>Not Verified</td><td>226936.0</td><td>Individual</td><td>null</td><td>null</td><td>2024-02-07 02:40:...</td></tr>\n",
       "<tr><td>cb15cc131f37ff4cb...</td><td>Operations Liaiso...</td><td>10</td><td>RENT</td><td>75000.0</td><td>NJ</td><td>074xx</td><td>USA</td><td>D</td><td>D4</td><td>Source Verified</td><td>71850.0</td><td>Individual</td><td>null</td><td>null</td><td>2024-02-07 02:40:...</td></tr>\n",
       "<tr><td>48774a798366a9c93...</td><td>Client Services M...</td><td>10</td><td>MORTGAGE</td><td>70000.0</td><td>WA</td><td>980xx</td><td>USA</td><td>A</td><td>A3</td><td>Not Verified</td><td>50946.0</td><td>Individual</td><td>null</td><td>null</td><td>2024-02-07 02:40:...</td></tr>\n",
       "<tr><td>77c3ce033df62339d...</td><td>Service Technician</td><td>10</td><td>MORTGAGE</td><td>50000.0</td><td>TX</td><td>795xx</td><td>USA</td><td>B</td><td>B2</td><td>Source Verified</td><td>71889.0</td><td>Individual</td><td>null</td><td>null</td><td>2024-02-07 02:40:...</td></tr>\n",
       "<tr><td>39611182652f01b7b...</td><td>Neonatal Nurse Pr...</td><td>10</td><td>RENT</td><td>150000.0</td><td>CA</td><td>923xx</td><td>USA</td><td>C</td><td>C5</td><td>Verified</td><td>75966.0</td><td>Individual</td><td>null</td><td>null</td><td>2024-02-07 02:40:...</td></tr>\n",
       "<tr><td>e86a5f44ab05edf7e...</td><td>Area Director</td><td>5</td><td>MORTGAGE</td><td>82500.0</td><td>SD</td><td>570xx</td><td>USA</td><td>B</td><td>B2</td><td>Not Verified</td><td>318684.0</td><td>Individual</td><td>null</td><td>null</td><td>2024-02-07 02:40:...</td></tr>\n",
       "<tr><td>3b4999f4c6898dd1e...</td><td>President</td><td>5</td><td>RENT</td><td>150000.0</td><td>NV</td><td>891xx</td><td>USA</td><td>B</td><td>B5</td><td>Source Verified</td><td>81951.0</td><td>Individual</td><td>null</td><td>null</td><td>2024-02-07 02:40:...</td></tr>\n",
       "<tr><td>b9f17c18fcacb2695...</td><td>HR Specialist (La...</td><td>1</td><td>RENT</td><td>108693.0</td><td>MD</td><td>208xx</td><td>USA</td><td>E</td><td>E4</td><td>Source Verified</td><td>136166.0</td><td>Individual</td><td>null</td><td>null</td><td>2024-02-07 02:40:...</td></tr>\n",
       "<tr><td>092f1ad90e2c894c6...</td><td>Medical Records</td><td>2</td><td>OWN</td><td>36000.0</td><td>GA</td><td>315xx</td><td>USA</td><td>A</td><td>A4</td><td>Source Verified</td><td>74900.0</td><td>Individual</td><td>null</td><td>null</td><td>2024-02-07 02:40:...</td></tr>\n",
       "<tr><td>0adc363a8b27688b1...</td><td>Manager</td><td>10</td><td>MORTGAGE</td><td>218400.0</td><td>TN</td><td>371xx</td><td>USA</td><td>B</td><td>B2</td><td>Source Verified</td><td>608597.0</td><td>Individual</td><td>null</td><td>null</td><td>2024-02-07 02:40:...</td></tr>\n",
       "<tr><td>004344778b6613f56...</td><td>Teacher</td><td>10</td><td>MORTGAGE</td><td>52000.0</td><td>FL</td><td>335xx</td><td>USA</td><td>C</td><td>C2</td><td>Not Verified</td><td>260730.0</td><td>Individual</td><td>null</td><td>null</td><td>2024-02-07 02:40:...</td></tr>\n",
       "<tr><td>8b02d00f02dc3ae40...</td><td>Secretary</td><td>10</td><td>MORTGAGE</td><td>35000.0</td><td>TN</td><td>378xx</td><td>USA</td><td>E</td><td>E2</td><td>Verified</td><td>156300.0</td><td>Individual</td><td>null</td><td>null</td><td>2024-02-07 02:40:...</td></tr>\n",
       "<tr><td>67063c5a3da27c532...</td><td>Protective Servic...</td><td>1</td><td>MORTGAGE</td><td>66352.0</td><td>MO</td><td>640xx</td><td>USA</td><td>D</td><td>D3</td><td>Source Verified</td><td>77687.0</td><td>Individual</td><td>null</td><td>null</td><td>2024-02-07 02:40:...</td></tr>\n",
       "<tr><td>f24666923e88af91d...</td><td>Developer II</td><td>2</td><td>RENT</td><td>41200.0</td><td>TX</td><td>799xx</td><td>USA</td><td>C</td><td>C1</td><td>Not Verified</td><td>52231.0</td><td>Individual</td><td>null</td><td>null</td><td>2024-02-07 02:40:...</td></tr>\n",
       "</table>\n",
       "only showing top 20 rows\n"
      ],
      "text/plain": [
       "+--------------------+--------------------+----------+--------------+-------------+-------------+---------------+---------------+-----+---------+-------------------+-----------------------+----------------+------------------+-------------------------+--------------------+\n",
       "|           member_id|           emp_title|emp_length|home_ownership|annual_income|address_state|address_zipcode|address_country|grade|sub_grade|verification_status|total_high_credit_limit|application_type|join_annual_income|verification_status_joint|         ingest_date|\n",
       "+--------------------+--------------------+----------+--------------+-------------+-------------+---------------+---------------+-----+---------+-------------------+-----------------------+----------------+------------------+-------------------------+--------------------+\n",
       "|c5285504f6fe07df0...|                null|         6|           OWN|      75000.0|           MT|          590xx|            USA|    A|       A5|           Verified|               103108.0|      Individual|              null|                     null|2024-02-07 02:40:...|\n",
       "|423472a2a5feccdbe...|Assistant General...|         1|      MORTGAGE|      62000.0|           RI|          028xx|            USA|    A|       A5|    Source Verified|               277024.0|      Individual|              null|                     null|2024-02-07 02:40:...|\n",
       "|5dfbbc290399123f6...|                  RN|         3|          RENT|      83000.0|           NY|          104xx|            USA|    B|       B3|    Source Verified|                33300.0|      Individual|              null|                     null|2024-02-07 02:40:...|\n",
       "|4947cb2f94eaa67f3...|  Real estate broker|        10|          RENT|     130000.0|           CA|          926xx|            USA|    C|       C3|       Not Verified|                93334.0|      Individual|              null|                     null|2024-02-07 02:40:...|\n",
       "|72e7d16536ebd5d1c...|        Bus Operator|        10|      MORTGAGE|     120000.0|           NY|          117xx|            USA|    C|       C1|       Not Verified|               451501.0|      Individual|              null|                     null|2024-02-07 02:40:...|\n",
       "|1d661a84e5e614169...|         site leader|         8|      MORTGAGE|      32000.0|           VA|          242xx|            USA|    C|       C2|           Verified|               122934.0|      Individual|              null|                     null|2024-02-07 02:40:...|\n",
       "|410599dabdbbfa060...|      Police Officer|        10|      MORTGAGE|      82000.0|           OH|          442xx|            USA|    B|       B5|       Not Verified|               226936.0|      Individual|              null|                     null|2024-02-07 02:40:...|\n",
       "|cb15cc131f37ff4cb...|Operations Liaiso...|        10|          RENT|      75000.0|           NJ|          074xx|            USA|    D|       D4|    Source Verified|                71850.0|      Individual|              null|                     null|2024-02-07 02:40:...|\n",
       "|48774a798366a9c93...|Client Services M...|        10|      MORTGAGE|      70000.0|           WA|          980xx|            USA|    A|       A3|       Not Verified|                50946.0|      Individual|              null|                     null|2024-02-07 02:40:...|\n",
       "|77c3ce033df62339d...|  Service Technician|        10|      MORTGAGE|      50000.0|           TX|          795xx|            USA|    B|       B2|    Source Verified|                71889.0|      Individual|              null|                     null|2024-02-07 02:40:...|\n",
       "|39611182652f01b7b...|Neonatal Nurse Pr...|        10|          RENT|     150000.0|           CA|          923xx|            USA|    C|       C5|           Verified|                75966.0|      Individual|              null|                     null|2024-02-07 02:40:...|\n",
       "|e86a5f44ab05edf7e...|       Area Director|         5|      MORTGAGE|      82500.0|           SD|          570xx|            USA|    B|       B2|       Not Verified|               318684.0|      Individual|              null|                     null|2024-02-07 02:40:...|\n",
       "|3b4999f4c6898dd1e...|           President|         5|          RENT|     150000.0|           NV|          891xx|            USA|    B|       B5|    Source Verified|                81951.0|      Individual|              null|                     null|2024-02-07 02:40:...|\n",
       "|b9f17c18fcacb2695...|HR Specialist (La...|         1|          RENT|     108693.0|           MD|          208xx|            USA|    E|       E4|    Source Verified|               136166.0|      Individual|              null|                     null|2024-02-07 02:40:...|\n",
       "|092f1ad90e2c894c6...|     Medical Records|         2|           OWN|      36000.0|           GA|          315xx|            USA|    A|       A4|    Source Verified|                74900.0|      Individual|              null|                     null|2024-02-07 02:40:...|\n",
       "|0adc363a8b27688b1...|             Manager|        10|      MORTGAGE|     218400.0|           TN|          371xx|            USA|    B|       B2|    Source Verified|               608597.0|      Individual|              null|                     null|2024-02-07 02:40:...|\n",
       "|004344778b6613f56...|             Teacher|        10|      MORTGAGE|      52000.0|           FL|          335xx|            USA|    C|       C2|       Not Verified|               260730.0|      Individual|              null|                     null|2024-02-07 02:40:...|\n",
       "|8b02d00f02dc3ae40...|           Secretary|        10|      MORTGAGE|      35000.0|           TN|          378xx|            USA|    E|       E2|           Verified|               156300.0|      Individual|              null|                     null|2024-02-07 02:40:...|\n",
       "|67063c5a3da27c532...|Protective Servic...|         1|      MORTGAGE|      66352.0|           MO|          640xx|            USA|    D|       D3|    Source Verified|                77687.0|      Individual|              null|                     null|2024-02-07 02:40:...|\n",
       "|f24666923e88af91d...|        Developer II|         2|          RENT|      41200.0|           TX|          799xx|            USA|    C|       C1|       Not Verified|                52231.0|      Individual|              null|                     null|2024-02-07 02:40:...|\n",
       "+--------------------+--------------------+----------+--------------+-------------+-------------+---------------+---------------+-----+---------+-------------------+-----------------------+----------------+------------------+-------------------------+--------------------+\n",
       "only showing top 20 rows"
      ]
     },
     "execution_count": 7,
     "metadata": {},
     "output_type": "execute_result"
    }
   ],
   "source": [
    "spark.sql(\"select * from itv008542_lending_club.customers\")"
   ]
  },
  {
   "cell_type": "markdown",
   "metadata": {
    "application/vnd.databricks.v1+cell": {
     "cellMetadata": {},
     "inputWidgets": {},
     "nuid": "356cc64d-2fa6-4e98-98ad-8cb4f8d9868f",
     "showTitle": false,
     "title": ""
    }
   },
   "source": [
    "\n",
    "#### 2. Create loans table"
   ]
  },
  {
   "cell_type": "code",
   "execution_count": 0,
   "metadata": {
    "application/vnd.databricks.v1+cell": {
     "cellMetadata": {},
     "inputWidgets": {},
     "nuid": "0b5f892d-5708-43d7-86bf-bf5079f6e1a3",
     "showTitle": false,
     "title": ""
    }
   },
   "outputs": [
    {
     "output_type": "stream",
     "name": "stdout",
     "output_type": "stream",
     "text": [
      "Found 12 items\ndrwxr-xr-x   - itv008542 supergroup          0 2024-02-07 03:04 /user/itv008542/lendingclubproject/raw/cleaned/customers_csv\ndrwxr-xr-x   - itv008542 supergroup          0 2024-02-07 02:41 /user/itv008542/lendingclubproject/raw/cleaned/customers_parquet\ndrwxr-xr-x   - itv008542 supergroup          0 2024-02-07 04:05 /user/itv008542/lendingclubproject/raw/cleaned/loans_csv\ndrwxr-xr-x   - itv008542 supergroup          0 2024-02-07 11:19 /user/itv008542/lendingclubproject/raw/cleaned/loans_def_detail_records_enq_df_csv\ndrwxr-xr-x   - itv008542 supergroup          0 2024-02-07 11:19 /user/itv008542/lendingclubproject/raw/cleaned/loans_def_detail_records_enq_df_parquet\ndrwxr-xr-x   - itv008542 supergroup          0 2024-02-07 06:47 /user/itv008542/lendingclubproject/raw/cleaned/loans_defaulters_deling_csv\ndrwxr-xr-x   - itv008542 supergroup          0 2024-02-07 06:48 /user/itv008542/lendingclubproject/raw/cleaned/loans_defaulters_deling_parquet\ndrwxr-xr-x   - itv008542 supergroup          0 2024-02-07 06:48 /user/itv008542/lendingclubproject/raw/cleaned/loans_defaulters_records_enq_csv\ndrwxr-xr-x   - itv008542 supergroup          0 2024-02-07 06:48 /user/itv008542/lendingclubproject/raw/cleaned/loans_defaulters_records_enq_parquet\ndrwxr-xr-x   - itv008542 supergroup          0 2024-02-07 04:04 /user/itv008542/lendingclubproject/raw/cleaned/loans_parquet\ndrwxr-xr-x   - itv008542 supergroup          0 2024-02-07 06:25 /user/itv008542/lendingclubproject/raw/cleaned/loans_repayments_csv\ndrwxr-xr-x   - itv008542 supergroup          0 2024-02-07 06:25 /user/itv008542/lendingclubproject/raw/cleaned/loans_repayments_parquet\n"
     ]
    }
   ],
   "source": [
    "! hadoop fs -ls /user/itv008542/lendingclubproject/raw/cleaned"
   ]
  },
  {
   "cell_type": "code",
   "execution_count": 0,
   "metadata": {
    "application/vnd.databricks.v1+cell": {
     "cellMetadata": {},
     "inputWidgets": {},
     "nuid": "ea0a5890-8a16-4493-96d1-d6e81d1559dd",
     "showTitle": false,
     "title": ""
    }
   },
   "outputs": [
    {
     "output_type": "execute_result",
     "data": {
      "text/html": [
       "<table border='1'>\n",
       "<tr><th></th></tr>\n",
       "</table>\n"
      ],
      "text/plain": [
       "++\n",
       "||\n",
       "++\n",
       "++"
      ]
     },
     "execution_count": 10,
     "metadata": {},
     "output_type": "execute_result"
    }
   ],
   "source": [
    "spark.sql(\"\"\"\n",
    "create external table itv008542_lending_club.loans(\n",
    "loan_id string, member_id string, loan_amount float, funded_amount float,\n",
    "loan_term_years integer, interest_rate float, monthly_installment float, issue_date string,\n",
    "loan_status string, loan_purpose string, loan_title string, ingest_date timestamp)\n",
    "stored as parquet\n",
    "location '/user/itv008542/lendingclubproject/raw/cleaned/loans_parquet'\n",
    "\"\"\")"
   ]
  },
  {
   "cell_type": "code",
   "execution_count": 0,
   "metadata": {
    "application/vnd.databricks.v1+cell": {
     "cellMetadata": {},
     "inputWidgets": {},
     "nuid": "f91b9387-879b-4464-9176-b35a48d83bfc",
     "showTitle": false,
     "title": ""
    }
   },
   "outputs": [
    {
     "output_type": "execute_result",
     "data": {
      "text/html": [
       "<table border='1'>\n",
       "<tr><th>loan_id</th><th>member_id</th><th>loan_amount</th><th>funded_amount</th><th>loan_term_years</th><th>interest_rate</th><th>monthly_installment</th><th>issue_date</th><th>loan_status</th><th>loan_purpose</th><th>loan_title</th><th>ingest_date</th></tr>\n",
       "<tr><td>128664977</td><td>34680bca04aef4ac5...</td><td>10000.0</td><td>10000.0</td><td>5</td><td>9.93</td><td>212.13</td><td>Feb-2018</td><td>Current</td><td>credit_card</td><td>Credit card refin...</td><td>2024-02-07 04:04:...</td></tr>\n",
       "<tr><td>129133385</td><td>487c223c3c924963a...</td><td>25000.0</td><td>25000.0</td><td>5</td><td>25.81</td><td>745.71</td><td>Feb-2018</td><td>Current</td><td>debt_consolidation</td><td>Debt consolidation</td><td>2024-02-07 04:04:...</td></tr>\n",
       "<tr><td>129227575</td><td>042bf442e5b77d702...</td><td>19000.0</td><td>19000.0</td><td>3</td><td>13.58</td><td>645.51</td><td>Feb-2018</td><td>Fully Paid</td><td>debt_consolidation</td><td>Debt consolidation</td><td>2024-02-07 04:04:...</td></tr>\n",
       "<tr><td>129090652</td><td>a48155acd1afbbabc...</td><td>18000.0</td><td>18000.0</td><td>3</td><td>9.93</td><td>580.22</td><td>Feb-2018</td><td>Current</td><td>debt_consolidation</td><td>Debt consolidation</td><td>2024-02-07 04:04:...</td></tr>\n",
       "<tr><td>129138233</td><td>f5bb6c38570c1625f...</td><td>7000.0</td><td>7000.0</td><td>3</td><td>12.61</td><td>234.55</td><td>Feb-2018</td><td>Current</td><td>debt_consolidation</td><td>Debt consolidation</td><td>2024-02-07 04:04:...</td></tr>\n",
       "<tr><td>128934532</td><td>709bdec3d98b1c0b6...</td><td>18000.0</td><td>18000.0</td><td>3</td><td>7.35</td><td>558.68</td><td>Feb-2018</td><td>Current</td><td>credit_card</td><td>Credit card refin...</td><td>2024-02-07 04:04:...</td></tr>\n",
       "<tr><td>129044423</td><td>38149670b64a8b6d4...</td><td>20000.0</td><td>20000.0</td><td>3</td><td>20.0</td><td>743.28</td><td>Feb-2018</td><td>Current</td><td>credit_card</td><td>Credit card refin...</td><td>2024-02-07 04:04:...</td></tr>\n",
       "<tr><td>129225672</td><td>d1b6e7d2de14abea9...</td><td>7500.0</td><td>7500.0</td><td>3</td><td>14.07</td><td>256.59</td><td>Feb-2018</td><td>Current</td><td>home_improvement</td><td>Home improvement</td><td>2024-02-07 04:04:...</td></tr>\n",
       "<tr><td>129168278</td><td>5314dd716ff1ccb4b...</td><td>10200.0</td><td>10200.0</td><td>3</td><td>7.96</td><td>319.45</td><td>Feb-2018</td><td>Current</td><td>credit_card</td><td>Credit card refin...</td><td>2024-02-07 04:04:...</td></tr>\n",
       "<tr><td>127798780</td><td>7e402da58e14ac1fa...</td><td>15000.0</td><td>15000.0</td><td>5</td><td>12.61</td><td>338.31</td><td>Feb-2018</td><td>Current</td><td>credit_card</td><td>Credit card refin...</td><td>2024-02-07 04:04:...</td></tr>\n",
       "<tr><td>128260255</td><td>c7410485de7db4046...</td><td>10000.0</td><td>10000.0</td><td>3</td><td>17.09</td><td>356.98</td><td>Feb-2018</td><td>Current</td><td>debt_consolidation</td><td>Debt consolidation</td><td>2024-02-07 04:04:...</td></tr>\n",
       "<tr><td>128913430</td><td>4adb1ef8ebecb398a...</td><td>20000.0</td><td>20000.0</td><td>3</td><td>11.99</td><td>664.2</td><td>Feb-2018</td><td>Current</td><td>debt_consolidation</td><td>Debt consolidation</td><td>2024-02-07 04:04:...</td></tr>\n",
       "<tr><td>129198964</td><td>0dc42d3113c8bbb39...</td><td>21000.0</td><td>21000.0</td><td>5</td><td>9.92</td><td>445.37</td><td>Feb-2018</td><td>Current</td><td>debt_consolidation</td><td>Debt consolidation</td><td>2024-02-07 04:04:...</td></tr>\n",
       "<tr><td>128637805</td><td>e4a8b578ea157a963...</td><td>15000.0</td><td>15000.0</td><td>5</td><td>14.08</td><td>349.65</td><td>Feb-2018</td><td>Current</td><td>debt_consolidation</td><td>Debt consolidation</td><td>2024-02-07 04:04:...</td></tr>\n",
       "<tr><td>129223733</td><td>cab52aa8bcd28ce6a...</td><td>11000.0</td><td>11000.0</td><td>3</td><td>7.96</td><td>344.5</td><td>Feb-2018</td><td>Current</td><td>debt_consolidation</td><td>Debt consolidation</td><td>2024-02-07 04:04:...</td></tr>\n",
       "<tr><td>129111036</td><td>94cee6f5f18e2c9a5...</td><td>5000.0</td><td>5000.0</td><td>3</td><td>21.85</td><td>190.57</td><td>Feb-2018</td><td>Current</td><td>debt_consolidation</td><td>Debt consolidation</td><td>2024-02-07 04:04:...</td></tr>\n",
       "<tr><td>128714148</td><td>7746c65fc1f697cc2...</td><td>4000.0</td><td>4000.0</td><td>3</td><td>5.32</td><td>120.46</td><td>Feb-2018</td><td>Current</td><td>credit_card</td><td>Credit card refin...</td><td>2024-02-07 04:04:...</td></tr>\n",
       "<tr><td>129167507</td><td>78a0115af032d7fce...</td><td>8500.0</td><td>8500.0</td><td>3</td><td>18.45</td><td>309.22</td><td>Feb-2018</td><td>Current</td><td>credit_card</td><td>Credit card refin...</td><td>2024-02-07 04:04:...</td></tr>\n",
       "<tr><td>128190646</td><td>ad346050f4646015c...</td><td>15000.0</td><td>15000.0</td><td>3</td><td>5.32</td><td>451.73</td><td>Feb-2018</td><td>Current</td><td>credit_card</td><td>Credit card refin...</td><td>2024-02-07 04:04:...</td></tr>\n",
       "<tr><td>129065376</td><td>11fc6840f931949ec...</td><td>10000.0</td><td>10000.0</td><td>3</td><td>14.08</td><td>342.17</td><td>Feb-2018</td><td>Current</td><td>debt_consolidation</td><td>Debt consolidation</td><td>2024-02-07 04:04:...</td></tr>\n",
       "</table>\n",
       "only showing top 20 rows\n"
      ],
      "text/plain": [
       "+---------+--------------------+-----------+-------------+---------------+-------------+-------------------+----------+-----------+------------------+--------------------+--------------------+\n",
       "|  loan_id|           member_id|loan_amount|funded_amount|loan_term_years|interest_rate|monthly_installment|issue_date|loan_status|      loan_purpose|          loan_title|         ingest_date|\n",
       "+---------+--------------------+-----------+-------------+---------------+-------------+-------------------+----------+-----------+------------------+--------------------+--------------------+\n",
       "|128664977|34680bca04aef4ac5...|    10000.0|      10000.0|              5|         9.93|             212.13|  Feb-2018|    Current|       credit_card|Credit card refin...|2024-02-07 04:04:...|\n",
       "|129133385|487c223c3c924963a...|    25000.0|      25000.0|              5|        25.81|             745.71|  Feb-2018|    Current|debt_consolidation|  Debt consolidation|2024-02-07 04:04:...|\n",
       "|129227575|042bf442e5b77d702...|    19000.0|      19000.0|              3|        13.58|             645.51|  Feb-2018| Fully Paid|debt_consolidation|  Debt consolidation|2024-02-07 04:04:...|\n",
       "|129090652|a48155acd1afbbabc...|    18000.0|      18000.0|              3|         9.93|             580.22|  Feb-2018|    Current|debt_consolidation|  Debt consolidation|2024-02-07 04:04:...|\n",
       "|129138233|f5bb6c38570c1625f...|     7000.0|       7000.0|              3|        12.61|             234.55|  Feb-2018|    Current|debt_consolidation|  Debt consolidation|2024-02-07 04:04:...|\n",
       "|128934532|709bdec3d98b1c0b6...|    18000.0|      18000.0|              3|         7.35|             558.68|  Feb-2018|    Current|       credit_card|Credit card refin...|2024-02-07 04:04:...|\n",
       "|129044423|38149670b64a8b6d4...|    20000.0|      20000.0|              3|         20.0|             743.28|  Feb-2018|    Current|       credit_card|Credit card refin...|2024-02-07 04:04:...|\n",
       "|129225672|d1b6e7d2de14abea9...|     7500.0|       7500.0|              3|        14.07|             256.59|  Feb-2018|    Current|  home_improvement|    Home improvement|2024-02-07 04:04:...|\n",
       "|129168278|5314dd716ff1ccb4b...|    10200.0|      10200.0|              3|         7.96|             319.45|  Feb-2018|    Current|       credit_card|Credit card refin...|2024-02-07 04:04:...|\n",
       "|127798780|7e402da58e14ac1fa...|    15000.0|      15000.0|              5|        12.61|             338.31|  Feb-2018|    Current|       credit_card|Credit card refin...|2024-02-07 04:04:...|\n",
       "|128260255|c7410485de7db4046...|    10000.0|      10000.0|              3|        17.09|             356.98|  Feb-2018|    Current|debt_consolidation|  Debt consolidation|2024-02-07 04:04:...|\n",
       "|128913430|4adb1ef8ebecb398a...|    20000.0|      20000.0|              3|        11.99|              664.2|  Feb-2018|    Current|debt_consolidation|  Debt consolidation|2024-02-07 04:04:...|\n",
       "|129198964|0dc42d3113c8bbb39...|    21000.0|      21000.0|              5|         9.92|             445.37|  Feb-2018|    Current|debt_consolidation|  Debt consolidation|2024-02-07 04:04:...|\n",
       "|128637805|e4a8b578ea157a963...|    15000.0|      15000.0|              5|        14.08|             349.65|  Feb-2018|    Current|debt_consolidation|  Debt consolidation|2024-02-07 04:04:...|\n",
       "|129223733|cab52aa8bcd28ce6a...|    11000.0|      11000.0|              3|         7.96|              344.5|  Feb-2018|    Current|debt_consolidation|  Debt consolidation|2024-02-07 04:04:...|\n",
       "|129111036|94cee6f5f18e2c9a5...|     5000.0|       5000.0|              3|        21.85|             190.57|  Feb-2018|    Current|debt_consolidation|  Debt consolidation|2024-02-07 04:04:...|\n",
       "|128714148|7746c65fc1f697cc2...|     4000.0|       4000.0|              3|         5.32|             120.46|  Feb-2018|    Current|       credit_card|Credit card refin...|2024-02-07 04:04:...|\n",
       "|129167507|78a0115af032d7fce...|     8500.0|       8500.0|              3|        18.45|             309.22|  Feb-2018|    Current|       credit_card|Credit card refin...|2024-02-07 04:04:...|\n",
       "|128190646|ad346050f4646015c...|    15000.0|      15000.0|              3|         5.32|             451.73|  Feb-2018|    Current|       credit_card|Credit card refin...|2024-02-07 04:04:...|\n",
       "|129065376|11fc6840f931949ec...|    10000.0|      10000.0|              3|        14.08|             342.17|  Feb-2018|    Current|debt_consolidation|  Debt consolidation|2024-02-07 04:04:...|\n",
       "+---------+--------------------+-----------+-------------+---------------+-------------+-------------------+----------+-----------+------------------+--------------------+--------------------+\n",
       "only showing top 20 rows"
      ]
     },
     "execution_count": 11,
     "metadata": {},
     "output_type": "execute_result"
    }
   ],
   "source": [
    "spark.sql(\"select * from itv008542_lending_club.loans\")"
   ]
  },
  {
   "cell_type": "markdown",
   "metadata": {
    "application/vnd.databricks.v1+cell": {
     "cellMetadata": {},
     "inputWidgets": {},
     "nuid": "a1b8fb85-2e9f-489e-81bc-b7d904a8a7ce",
     "showTitle": false,
     "title": ""
    }
   },
   "source": [
    "\n",
    "#### 3. Create loan repayments table"
   ]
  },
  {
   "cell_type": "code",
   "execution_count": 0,
   "metadata": {
    "application/vnd.databricks.v1+cell": {
     "cellMetadata": {},
     "inputWidgets": {},
     "nuid": "eaeab43e-e795-4140-a3fe-f4e865f45a84",
     "showTitle": false,
     "title": ""
    }
   },
   "outputs": [
    {
     "output_type": "execute_result",
     "data": {
      "text/html": [
       "<table border='1'>\n",
       "<tr><th></th></tr>\n",
       "</table>\n"
      ],
      "text/plain": [
       "++\n",
       "||\n",
       "++\n",
       "++"
      ]
     },
     "execution_count": 12,
     "metadata": {},
     "output_type": "execute_result"
    }
   ],
   "source": [
    "spark.sql(\"\"\"CREATE EXTERNAL TABLE itv008542_lending_club.loans_repayments(loan_id string, total_principal_received float,\n",
    "total_interest_received float,total_late_fee_received float,total_payment_received float,last_payment_amount float,\n",
    "last_payment_date string,next_payment_date string,ingest_date timestamp)\n",
    "stored as parquet LOCATION '/user/itv008542/lendingclubproject/raw/cleaned/loans_repayments_parquet'\n",
    "\"\"\")"
   ]
  },
  {
   "cell_type": "code",
   "execution_count": 0,
   "metadata": {
    "application/vnd.databricks.v1+cell": {
     "cellMetadata": {},
     "inputWidgets": {},
     "nuid": "f58085bd-ed57-43bf-88d2-e777f0ea4327",
     "showTitle": false,
     "title": ""
    }
   },
   "outputs": [
    {
     "output_type": "execute_result",
     "data": {
      "text/html": [
       "<table border='1'>\n",
       "<tr><th>loan_id</th><th>total_principal_received</th><th>total_interest_received</th><th>total_late_fee_received</th><th>total_payment_received</th><th>last_payment_amount</th><th>last_payment_date</th><th>next_payment_date</th><th>ingest_date</th></tr>\n",
       "<tr><td>14408468</td><td>5000.0</td><td>561.49</td><td>0.0</td><td>5561.49</td><td>4019.97</td><td>null</td><td>null</td><td>2024-02-07 06:25:...</td></tr>\n",
       "<tr><td>14520567</td><td>11000.0</td><td>1716.53</td><td>0.0</td><td>12716.525</td><td>353.13</td><td>null</td><td>null</td><td>2024-02-07 06:25:...</td></tr>\n",
       "<tr><td>14708730</td><td>21760.43</td><td>4807.25</td><td>0.0</td><td>26567.68</td><td>830.24</td><td>null</td><td>null</td><td>2024-02-07 06:25:...</td></tr>\n",
       "<tr><td>14491003</td><td>1500.0</td><td>192.68</td><td>0.0</td><td>1692.6753</td><td>1342.22</td><td>null</td><td>null</td><td>2024-02-07 06:25:...</td></tr>\n",
       "<tr><td>14510981</td><td>10000.0</td><td>2128.02</td><td>0.0</td><td>12128.021</td><td>336.52</td><td>null</td><td>null</td><td>2024-02-07 06:25:...</td></tr>\n",
       "<tr><td>14177845</td><td>5380.29</td><td>3227.55</td><td>0.0</td><td>9415.65</td><td>300.28</td><td>null</td><td>null</td><td>2024-02-07 06:25:...</td></tr>\n",
       "<tr><td>13947687</td><td>10000.0</td><td>3859.88</td><td>0.0</td><td>13859.883</td><td>5032.64</td><td>null</td><td>null</td><td>2024-02-07 06:25:...</td></tr>\n",
       "<tr><td>12905731</td><td>18000.0</td><td>5535.46</td><td>0.0</td><td>23535.46</td><td>652.67</td><td>null</td><td>null</td><td>2024-02-07 06:25:...</td></tr>\n",
       "<tr><td>14137736</td><td>12000.0</td><td>1424.07</td><td>0.0</td><td>13424.07</td><td>6487.77</td><td>null</td><td>null</td><td>2024-02-07 06:25:...</td></tr>\n",
       "<tr><td>13207083</td><td>3200.0</td><td>812.68</td><td>0.0</td><td>4012.68</td><td>1977.27</td><td>null</td><td>null</td><td>2024-02-07 06:25:...</td></tr>\n",
       "<tr><td>9005163</td><td>19329.23</td><td>8837.96</td><td>0.0</td><td>28167.19</td><td>477.41</td><td>Apr-2019</td><td>Apr-2019</td><td>2024-02-07 06:25:...</td></tr>\n",
       "<tr><td>14008700</td><td>13467.79</td><td>6748.69</td><td>0.0</td><td>20216.48</td><td>348.56</td><td>Apr-2019</td><td>Apr-2019</td><td>2024-02-07 06:25:...</td></tr>\n",
       "<tr><td>13107355</td><td>11850.0</td><td>2595.82</td><td>0.0</td><td>14445.82</td><td>8238.78</td><td>null</td><td>null</td><td>2024-02-07 06:25:...</td></tr>\n",
       "<tr><td>14288329</td><td>25000.0</td><td>912.0</td><td>0.0</td><td>25912.0</td><td>25221.66</td><td>null</td><td>null</td><td>2024-02-07 06:25:...</td></tr>\n",
       "<tr><td>14308144</td><td>15000.0</td><td>2797.71</td><td>0.0</td><td>17797.71</td><td>12734.33</td><td>null</td><td>null</td><td>2024-02-07 06:25:...</td></tr>\n",
       "<tr><td>14009407</td><td>9625.0</td><td>320.99</td><td>0.0</td><td>9945.991</td><td>9291.33</td><td>null</td><td>null</td><td>2024-02-07 06:25:...</td></tr>\n",
       "<tr><td>6583213</td><td>17500.0</td><td>2069.46</td><td>0.0</td><td>19569.46</td><td>10015.97</td><td>null</td><td>null</td><td>2024-02-07 06:25:...</td></tr>\n",
       "<tr><td>12597061</td><td>7700.0</td><td>1007.66</td><td>0.0</td><td>8707.66</td><td>5335.33</td><td>null</td><td>null</td><td>2024-02-07 06:25:...</td></tr>\n",
       "<tr><td>12468587</td><td>3600.0</td><td>1379.63</td><td>0.0</td><td>4979.6323</td><td>138.08</td><td>null</td><td>null</td><td>2024-02-07 06:25:...</td></tr>\n",
       "<tr><td>12486035</td><td>14250.0</td><td>7908.24</td><td>0.0</td><td>22158.24</td><td>7205.62</td><td>null</td><td>null</td><td>2024-02-07 06:25:...</td></tr>\n",
       "</table>\n",
       "only showing top 20 rows\n"
      ],
      "text/plain": [
       "+--------+------------------------+-----------------------+-----------------------+----------------------+-------------------+-----------------+-----------------+--------------------+\n",
       "| loan_id|total_principal_received|total_interest_received|total_late_fee_received|total_payment_received|last_payment_amount|last_payment_date|next_payment_date|         ingest_date|\n",
       "+--------+------------------------+-----------------------+-----------------------+----------------------+-------------------+-----------------+-----------------+--------------------+\n",
       "|14408468|                  5000.0|                 561.49|                    0.0|               5561.49|            4019.97|             null|             null|2024-02-07 06:25:...|\n",
       "|14520567|                 11000.0|                1716.53|                    0.0|             12716.525|             353.13|             null|             null|2024-02-07 06:25:...|\n",
       "|14708730|                21760.43|                4807.25|                    0.0|              26567.68|             830.24|             null|             null|2024-02-07 06:25:...|\n",
       "|14491003|                  1500.0|                 192.68|                    0.0|             1692.6753|            1342.22|             null|             null|2024-02-07 06:25:...|\n",
       "|14510981|                 10000.0|                2128.02|                    0.0|             12128.021|             336.52|             null|             null|2024-02-07 06:25:...|\n",
       "|14177845|                 5380.29|                3227.55|                    0.0|               9415.65|             300.28|             null|             null|2024-02-07 06:25:...|\n",
       "|13947687|                 10000.0|                3859.88|                    0.0|             13859.883|            5032.64|             null|             null|2024-02-07 06:25:...|\n",
       "|12905731|                 18000.0|                5535.46|                    0.0|              23535.46|             652.67|             null|             null|2024-02-07 06:25:...|\n",
       "|14137736|                 12000.0|                1424.07|                    0.0|              13424.07|            6487.77|             null|             null|2024-02-07 06:25:...|\n",
       "|13207083|                  3200.0|                 812.68|                    0.0|               4012.68|            1977.27|             null|             null|2024-02-07 06:25:...|\n",
       "| 9005163|                19329.23|                8837.96|                    0.0|              28167.19|             477.41|         Apr-2019|         Apr-2019|2024-02-07 06:25:...|\n",
       "|14008700|                13467.79|                6748.69|                    0.0|              20216.48|             348.56|         Apr-2019|         Apr-2019|2024-02-07 06:25:...|\n",
       "|13107355|                 11850.0|                2595.82|                    0.0|              14445.82|            8238.78|             null|             null|2024-02-07 06:25:...|\n",
       "|14288329|                 25000.0|                  912.0|                    0.0|               25912.0|           25221.66|             null|             null|2024-02-07 06:25:...|\n",
       "|14308144|                 15000.0|                2797.71|                    0.0|              17797.71|           12734.33|             null|             null|2024-02-07 06:25:...|\n",
       "|14009407|                  9625.0|                 320.99|                    0.0|              9945.991|            9291.33|             null|             null|2024-02-07 06:25:...|\n",
       "| 6583213|                 17500.0|                2069.46|                    0.0|              19569.46|           10015.97|             null|             null|2024-02-07 06:25:...|\n",
       "|12597061|                  7700.0|                1007.66|                    0.0|               8707.66|            5335.33|             null|             null|2024-02-07 06:25:...|\n",
       "|12468587|                  3600.0|                1379.63|                    0.0|             4979.6323|             138.08|             null|             null|2024-02-07 06:25:...|\n",
       "|12486035|                 14250.0|                7908.24|                    0.0|              22158.24|            7205.62|             null|             null|2024-02-07 06:25:...|\n",
       "+--------+------------------------+-----------------------+-----------------------+----------------------+-------------------+-----------------+-----------------+--------------------+\n",
       "only showing top 20 rows"
      ]
     },
     "execution_count": 13,
     "metadata": {},
     "output_type": "execute_result"
    }
   ],
   "source": [
    "spark.sql(\"select * from itv008542_lending_club.loans_repayments\")"
   ]
  },
  {
   "cell_type": "markdown",
   "metadata": {
    "application/vnd.databricks.v1+cell": {
     "cellMetadata": {},
     "inputWidgets": {},
     "nuid": "6bf0faff-7105-4f5a-8e51-08ec56895b9b",
     "showTitle": false,
     "title": ""
    }
   },
   "source": [
    "\n",
    "#### 4. Create loan defaulters delinq"
   ]
  },
  {
   "cell_type": "code",
   "execution_count": 0,
   "metadata": {
    "application/vnd.databricks.v1+cell": {
     "cellMetadata": {},
     "inputWidgets": {},
     "nuid": "b38166ff-972f-4ffe-a860-1b84d3ed387d",
     "showTitle": false,
     "title": ""
    }
   },
   "outputs": [
    {
     "output_type": "execute_result",
     "data": {
      "text/html": [
       "<table border='1'>\n",
       "<tr><th></th></tr>\n",
       "</table>\n"
      ],
      "text/plain": [
       "++\n",
       "||\n",
       "++\n",
       "++"
      ]
     },
     "execution_count": 14,
     "metadata": {},
     "output_type": "execute_result"
    }
   ],
   "source": [
    "spark.sql(\"\"\"CREATE EXTERNAL TABLE itv008542_lending_club.loans_defaulters_delinq(\n",
    "member_id string, delinq_2yrs integer, delinq_amnt float, mths_since_last_delinq integer)\n",
    "stored as parquet LOCATION '/user/itv008542/lendingclubproject/raw/cleaned/loans_defaulters_deling_parquet'\"\"\")"
   ]
  },
  {
   "cell_type": "code",
   "execution_count": 0,
   "metadata": {
    "application/vnd.databricks.v1+cell": {
     "cellMetadata": {},
     "inputWidgets": {},
     "nuid": "5f0be892-4d54-4a93-a51d-4c13c85dc531",
     "showTitle": false,
     "title": ""
    }
   },
   "outputs": [
    {
     "output_type": "execute_result",
     "data": {
      "text/html": [
       "<table border='1'>\n",
       "<tr><th>member_id</th><th>delinq_2yrs</th><th>delinq_amnt</th><th>mths_since_last_delinq</th></tr>\n",
       "<tr><td>6d5091b3fcaaeb4ea...</td><td>0</td><td>0.0</td><td>30</td></tr>\n",
       "<tr><td>b5e7938b0a2da4cea...</td><td>1</td><td>0.0</td><td>6</td></tr>\n",
       "<tr><td>f74e401c1ab0adf78...</td><td>1</td><td>0.0</td><td>12</td></tr>\n",
       "<tr><td>538b4653da3b1e814...</td><td>0</td><td>0.0</td><td>49</td></tr>\n",
       "<tr><td>b24d55f21390533c5...</td><td>1</td><td>0.0</td><td>3</td></tr>\n",
       "<tr><td>cb0f1777593e77909...</td><td>0</td><td>0.0</td><td>75</td></tr>\n",
       "<tr><td>a962f4d59caec5fa1...</td><td>0</td><td>0.0</td><td>54</td></tr>\n",
       "<tr><td>23857480ccf555ce4...</td><td>0</td><td>0.0</td><td>42</td></tr>\n",
       "<tr><td>f2c4010f700d8c9c4...</td><td>0</td><td>0.0</td><td>29</td></tr>\n",
       "<tr><td>0d3c568ff6944b11c...</td><td>0</td><td>0.0</td><td>33</td></tr>\n",
       "<tr><td>18889919d4248ff48...</td><td>1</td><td>0.0</td><td>15</td></tr>\n",
       "<tr><td>49c691121315ceeac...</td><td>2</td><td>0.0</td><td>18</td></tr>\n",
       "<tr><td>d04ae2a3b9e2e686e...</td><td>0</td><td>0.0</td><td>47</td></tr>\n",
       "<tr><td>259af6637d622a8fc...</td><td>0</td><td>0.0</td><td>33</td></tr>\n",
       "<tr><td>263b2b8177d69a09e...</td><td>0</td><td>0.0</td><td>33</td></tr>\n",
       "<tr><td>0d7e498df54d38160...</td><td>0</td><td>0.0</td><td>35</td></tr>\n",
       "<tr><td>dc3d024374b1d2cb4...</td><td>1</td><td>0.0</td><td>23</td></tr>\n",
       "<tr><td>c968abcd0831fe0a9...</td><td>0</td><td>0.0</td><td>38</td></tr>\n",
       "<tr><td>25df9cff7c21666b9...</td><td>2</td><td>0.0</td><td>8</td></tr>\n",
       "<tr><td>5840f34a041b29a6b...</td><td>0</td><td>0.0</td><td>70</td></tr>\n",
       "</table>\n",
       "only showing top 20 rows\n"
      ],
      "text/plain": [
       "+--------------------+-----------+-----------+----------------------+\n",
       "|           member_id|delinq_2yrs|delinq_amnt|mths_since_last_delinq|\n",
       "+--------------------+-----------+-----------+----------------------+\n",
       "|6d5091b3fcaaeb4ea...|          0|        0.0|                    30|\n",
       "|b5e7938b0a2da4cea...|          1|        0.0|                     6|\n",
       "|f74e401c1ab0adf78...|          1|        0.0|                    12|\n",
       "|538b4653da3b1e814...|          0|        0.0|                    49|\n",
       "|b24d55f21390533c5...|          1|        0.0|                     3|\n",
       "|cb0f1777593e77909...|          0|        0.0|                    75|\n",
       "|a962f4d59caec5fa1...|          0|        0.0|                    54|\n",
       "|23857480ccf555ce4...|          0|        0.0|                    42|\n",
       "|f2c4010f700d8c9c4...|          0|        0.0|                    29|\n",
       "|0d3c568ff6944b11c...|          0|        0.0|                    33|\n",
       "|18889919d4248ff48...|          1|        0.0|                    15|\n",
       "|49c691121315ceeac...|          2|        0.0|                    18|\n",
       "|d04ae2a3b9e2e686e...|          0|        0.0|                    47|\n",
       "|259af6637d622a8fc...|          0|        0.0|                    33|\n",
       "|263b2b8177d69a09e...|          0|        0.0|                    33|\n",
       "|0d7e498df54d38160...|          0|        0.0|                    35|\n",
       "|dc3d024374b1d2cb4...|          1|        0.0|                    23|\n",
       "|c968abcd0831fe0a9...|          0|        0.0|                    38|\n",
       "|25df9cff7c21666b9...|          2|        0.0|                     8|\n",
       "|5840f34a041b29a6b...|          0|        0.0|                    70|\n",
       "+--------------------+-----------+-----------+----------------------+\n",
       "only showing top 20 rows"
      ]
     },
     "execution_count": 15,
     "metadata": {},
     "output_type": "execute_result"
    }
   ],
   "source": [
    "spark.sql(\"select * from itv008542_lending_club.loans_defaulters_delinq\")"
   ]
  },
  {
   "cell_type": "markdown",
   "metadata": {
    "application/vnd.databricks.v1+cell": {
     "cellMetadata": {},
     "inputWidgets": {},
     "nuid": "5afff86a-f1ce-4515-b77b-322637f7f1ce",
     "showTitle": false,
     "title": ""
    }
   },
   "source": [
    "\n",
    "#### 5. Create loan defaulters detail enquiry table"
   ]
  },
  {
   "cell_type": "code",
   "execution_count": 0,
   "metadata": {
    "application/vnd.databricks.v1+cell": {
     "cellMetadata": {},
     "inputWidgets": {},
     "nuid": "41d530c4-fc52-487f-a4ab-e8e3c0b46afe",
     "showTitle": false,
     "title": ""
    }
   },
   "outputs": [
    {
     "output_type": "execute_result",
     "data": {
      "text/html": [
       "<table border='1'>\n",
       "<tr><th></th></tr>\n",
       "</table>\n"
      ],
      "text/plain": [
       "++\n",
       "||\n",
       "++\n",
       "++"
      ]
     },
     "execution_count": 20,
     "metadata": {},
     "output_type": "execute_result"
    }
   ],
   "source": [
    "spark.sql(\"\"\"CREATE EXTERNAL TABLE itv008542_lending_club.loans_defaulters_detail_rec_enq(\n",
    "member_id string, pub_rec integer, pub_rec_bankruptcies integer, inq_last_6mths integer)\n",
    "stored as parquet LOCATION '/user/itv008542/lendingclubproject/raw/cleaned/loans_def_detail_records_enq_df_parquet'\"\"\")"
   ]
  },
  {
   "cell_type": "code",
   "execution_count": 0,
   "metadata": {
    "application/vnd.databricks.v1+cell": {
     "cellMetadata": {},
     "inputWidgets": {},
     "nuid": "bab53ba3-41b5-4243-a0f6-6af07e343efa",
     "showTitle": false,
     "title": ""
    }
   },
   "outputs": [
    {
     "output_type": "execute_result",
     "data": {
      "text/html": [
       "<table border='1'>\n",
       "<tr><th>member_id</th><th>pub_rec</th><th>pub_rec_bankruptcies</th><th>inq_last_6mths</th></tr>\n",
       "<tr><td>6d5091b3fcaaeb4ea...</td><td>0</td><td>0</td><td>1</td></tr>\n",
       "<tr><td>b5e7938b0a2da4cea...</td><td>0</td><td>0</td><td>4</td></tr>\n",
       "<tr><td>91060b858433e8a61...</td><td>0</td><td>0</td><td>0</td></tr>\n",
       "<tr><td>cab1fa9f533688b0a...</td><td>0</td><td>0</td><td>0</td></tr>\n",
       "<tr><td>f74e401c1ab0adf78...</td><td>0</td><td>0</td><td>3</td></tr>\n",
       "<tr><td>8aef4bb29d609d8d6...</td><td>0</td><td>0</td><td>0</td></tr>\n",
       "<tr><td>538b4653da3b1e814...</td><td>0</td><td>0</td><td>0</td></tr>\n",
       "<tr><td>b24d55f21390533c5...</td><td>0</td><td>0</td><td>0</td></tr>\n",
       "<tr><td>1035c5401b0ca76d0...</td><td>1</td><td>1</td><td>1</td></tr>\n",
       "<tr><td>cb0f1777593e77909...</td><td>0</td><td>0</td><td>0</td></tr>\n",
       "<tr><td>a962f4d59caec5fa1...</td><td>0</td><td>0</td><td>0</td></tr>\n",
       "<tr><td>e7592ab57b3afd9f1...</td><td>0</td><td>0</td><td>0</td></tr>\n",
       "<tr><td>603afa9d1be879b7b...</td><td>0</td><td>0</td><td>0</td></tr>\n",
       "<tr><td>9fe2d59ddf2a4f37e...</td><td>1</td><td>1</td><td>1</td></tr>\n",
       "<tr><td>23857480ccf555ce4...</td><td>0</td><td>0</td><td>0</td></tr>\n",
       "<tr><td>7c69d5f36fdabf6e1...</td><td>0</td><td>0</td><td>0</td></tr>\n",
       "<tr><td>08bf9e080503b0113...</td><td>0</td><td>0</td><td>1</td></tr>\n",
       "<tr><td>1cafb05aa6c894c30...</td><td>0</td><td>0</td><td>0</td></tr>\n",
       "<tr><td>f2c4010f700d8c9c4...</td><td>0</td><td>0</td><td>0</td></tr>\n",
       "<tr><td>05ad4aed7c393035e...</td><td>1</td><td>1</td><td>4</td></tr>\n",
       "</table>\n",
       "only showing top 20 rows\n"
      ],
      "text/plain": [
       "+--------------------+-------+--------------------+--------------+\n",
       "|           member_id|pub_rec|pub_rec_bankruptcies|inq_last_6mths|\n",
       "+--------------------+-------+--------------------+--------------+\n",
       "|6d5091b3fcaaeb4ea...|      0|                   0|             1|\n",
       "|b5e7938b0a2da4cea...|      0|                   0|             4|\n",
       "|91060b858433e8a61...|      0|                   0|             0|\n",
       "|cab1fa9f533688b0a...|      0|                   0|             0|\n",
       "|f74e401c1ab0adf78...|      0|                   0|             3|\n",
       "|8aef4bb29d609d8d6...|      0|                   0|             0|\n",
       "|538b4653da3b1e814...|      0|                   0|             0|\n",
       "|b24d55f21390533c5...|      0|                   0|             0|\n",
       "|1035c5401b0ca76d0...|      1|                   1|             1|\n",
       "|cb0f1777593e77909...|      0|                   0|             0|\n",
       "|a962f4d59caec5fa1...|      0|                   0|             0|\n",
       "|e7592ab57b3afd9f1...|      0|                   0|             0|\n",
       "|603afa9d1be879b7b...|      0|                   0|             0|\n",
       "|9fe2d59ddf2a4f37e...|      1|                   1|             1|\n",
       "|23857480ccf555ce4...|      0|                   0|             0|\n",
       "|7c69d5f36fdabf6e1...|      0|                   0|             0|\n",
       "|08bf9e080503b0113...|      0|                   0|             1|\n",
       "|1cafb05aa6c894c30...|      0|                   0|             0|\n",
       "|f2c4010f700d8c9c4...|      0|                   0|             0|\n",
       "|05ad4aed7c393035e...|      1|                   1|             4|\n",
       "+--------------------+-------+--------------------+--------------+\n",
       "only showing top 20 rows"
      ]
     },
     "execution_count": 21,
     "metadata": {},
     "output_type": "execute_result"
    }
   ],
   "source": [
    "spark.sql(\"select * from itv008542_lending_club.loans_defaulters_detail_rec_enq\")"
   ]
  },
  {
   "cell_type": "code",
   "execution_count": 0,
   "metadata": {
    "application/vnd.databricks.v1+cell": {
     "cellMetadata": {},
     "inputWidgets": {},
     "nuid": "0d0c02bf-0483-4a69-beaa-ee8e1f7a01a6",
     "showTitle": false,
     "title": ""
    }
   },
   "outputs": [
    {
     "output_type": "execute_result",
     "data": {
      "text/html": [
       "<table border='1'>\n",
       "<tr><th></th></tr>\n",
       "</table>\n"
      ],
      "text/plain": [
       "++\n",
       "||\n",
       "++\n",
       "++"
      ]
     },
     "execution_count": 19,
     "metadata": {},
     "output_type": "execute_result"
    }
   ],
   "source": [
    "spark.sql(\"DROP TABLE IF EXISTS itv008542_lending_club.loans_defaulters_detail_rec_enq\")"
   ]
  },
  {
   "cell_type": "markdown",
   "metadata": {
    "application/vnd.databricks.v1+cell": {
     "cellMetadata": {},
     "inputWidgets": {},
     "nuid": "e63cb482-711f-4750-a7b2-c3852190445e",
     "showTitle": false,
     "title": ""
    }
   },
   "source": [
    "## Access Patterns - Quick Access(Old Data) & Slow Access(New Data)"
   ]
  },
  {
   "cell_type": "code",
   "execution_count": 0,
   "metadata": {
    "application/vnd.databricks.v1+cell": {
     "cellMetadata": {},
     "inputWidgets": {},
     "nuid": "fd901c77-7da6-4de1-9dcb-524a90953f86",
     "showTitle": false,
     "title": ""
    }
   },
   "outputs": [
    {
     "output_type": "stream",
     "name": "stdout",
     "output_type": "stream",
     "text": [
      "+----------------------+-------------------------------+-----------+\n|database              |tableName                      |isTemporary|\n+----------------------+-------------------------------+-----------+\n|itv008542_lending_club|customers                      |false      |\n|itv008542_lending_club|loans                          |false      |\n|itv008542_lending_club|loans_defaulters_delinq        |false      |\n|itv008542_lending_club|loans_defaulters_detail_rec_enq|false      |\n|itv008542_lending_club|loans_repayments               |false      |\n+----------------------+-------------------------------+-----------+\n\n"
     ]
    }
   ],
   "source": [
    "spark.sql(\"use itv008542_lending_club\")\n",
    "spark.sql(\"show tables\").show(truncate=False)"
   ]
  },
  {
   "cell_type": "markdown",
   "metadata": {
    "application/vnd.databricks.v1+cell": {
     "cellMetadata": {},
     "inputWidgets": {},
     "nuid": "6a678dce-3e56-4eeb-904b-38ad9b649dca",
     "showTitle": false,
     "title": ""
    }
   },
   "source": [
    "\n",
    "## Requirement 2\n",
    "\n",
    "- A complete view of these 5 datasets in one single view.\n",
    "- Need the most upto date data\n",
    "- New data comes every 24 hrs, the underlying tables are refreshed every 24 hrs\n",
    "- For this, as a solution we will create view"
   ]
  },
  {
   "cell_type": "code",
   "execution_count": 0,
   "metadata": {
    "application/vnd.databricks.v1+cell": {
     "cellMetadata": {},
     "inputWidgets": {},
     "nuid": "c62cfe0d-6e19-4d47-8855-158683aa2000",
     "showTitle": false,
     "title": ""
    }
   },
   "outputs": [
    {
     "output_type": "execute_result",
     "data": {
      "text/html": [
       "<table border='1'>\n",
       "<tr><th></th></tr>\n",
       "</table>\n"
      ],
      "text/plain": [
       "++\n",
       "||\n",
       "++\n",
       "++"
      ]
     },
     "execution_count": 9,
     "metadata": {},
     "output_type": "execute_result"
    }
   ],
   "source": [
    "spark.sql(\"\"\"\n",
    "create or replace view itv008542_lending_club.customers_loan_v as select\n",
    "l.loan_id,\n",
    "c.member_id,\n",
    "c.emp_title,\n",
    "c.emp_length,\n",
    "c.home_ownership,\n",
    "c.annual_income,\n",
    "c.address_state,\n",
    "c.address_zipcode,\n",
    "c.address_country,\n",
    "c.grade,\n",
    "c.sub_grade,\n",
    "c.verification_status,\n",
    "c.total_high_credit_limit,\n",
    "c.application_type,\n",
    "c.join_annual_income,\n",
    "c.verification_status_joint,\n",
    "l.loan_amount,\n",
    "l.funded_amount,\n",
    "l.loan_term_years,\n",
    "l.interest_rate,\n",
    "l.monthly_installment,\n",
    "l.issue_date,\n",
    "l.loan_status,\n",
    "l.loan_purpose,\n",
    "r.total_principal_received,\n",
    "r.total_interest_received,\n",
    "r.total_late_fee_received,\n",
    "r.last_payment_date,\n",
    "r.next_payment_date,\n",
    "d.delinq_2yrs,\n",
    "d.delinq_amnt,\n",
    "d.mths_since_last_delinq,\n",
    "e.pub_rec,\n",
    "e.pub_rec_bankruptcies,\n",
    "e.inq_last_6mths\n",
    "\n",
    "FROM itv008542_lending_club.customers c\n",
    "LEFT JOIN itv008542_lending_club.loans l on c.member_id = l.member_id\n",
    "LEFT JOIN itv008542_lending_club.loans_repayments r ON l.loan_id = r.loan_id\n",
    "LEFT JOIN itv008542_lending_club.loans_defaulters_delinq d ON c.member_id = d.member_id\n",
    "LEFT JOIN itv008542_lending_club.loans_defaulters_detail_rec_enq e ON c.member_id = e.member_id\n",
    "\"\"\")"
   ]
  },
  {
   "cell_type": "code",
   "execution_count": 0,
   "metadata": {
    "application/vnd.databricks.v1+cell": {
     "cellMetadata": {},
     "inputWidgets": {},
     "nuid": "a64c4b3d-14f5-44c8-bcf0-05a03deaf1b9",
     "showTitle": false,
     "title": ""
    }
   },
   "outputs": [
    {
     "output_type": "execute_result",
     "data": {
      "text/html": [
       "<table border='1'>\n",
       "<tr><th>loan_id</th><th>member_id</th><th>emp_title</th><th>emp_length</th><th>home_ownership</th><th>annual_income</th><th>address_state</th><th>address_zipcode</th><th>address_country</th><th>grade</th><th>sub_grade</th><th>verification_status</th><th>total_high_credit_limit</th><th>application_type</th><th>join_annual_income</th><th>verification_status_joint</th><th>loan_amount</th><th>funded_amount</th><th>loan_term_years</th><th>interest_rate</th><th>monthly_installment</th><th>issue_date</th><th>loan_status</th><th>loan_purpose</th><th>total_principal_received</th><th>total_interest_received</th><th>total_late_fee_received</th><th>last_payment_date</th><th>next_payment_date</th><th>delinq_2yrs</th><th>delinq_amnt</th><th>mths_since_last_delinq</th><th>pub_rec</th><th>pub_rec_bankruptcies</th><th>inq_last_6mths</th></tr>\n",
       "<tr><td>71175798</td><td>000c8875b71a6b47c...</td><td>Director of Gvt O...</td><td>1</td><td>MORTGAGE</td><td>100000.0</td><td>CA</td><td>920xx</td><td>USA</td><td>A</td><td>A4</td><td>Not Verified</td><td>761500.0</td><td>Individual</td><td>null</td><td>null</td><td>3000.0</td><td>3000.0</td><td>3</td><td>7.39</td><td>93.17</td><td>Feb-2016</td><td>Fully Paid</td><td>debt_consolidation</td><td>3000.0</td><td>114.47</td><td>0.0</td><td>null</td><td>null</td><td>1</td><td>0.0</td><td>13</td><td>0</td><td>0</td><td>0</td></tr>\n",
       "<tr><td>139313300</td><td>000fc98fc1ca5faa3...</td><td>coord</td><td>10</td><td>MORTGAGE</td><td>220000.0</td><td>CA</td><td>952xx</td><td>USA</td><td>A</td><td>A3</td><td>Not Verified</td><td>227457.0</td><td>Joint App</td><td>230000.0</td><td>null</td><td>20000.0</td><td>20000.0</td><td>3</td><td>7.21</td><td>619.47</td><td>Aug-2018</td><td>Current</td><td>credit_card</td><td>3558.76</td><td>769.52</td><td>0.0</td><td>Apr-2019</td><td>Apr-2019</td><td>null</td><td>null</td><td>null</td><td>0</td><td>0</td><td>0</td></tr>\n",
       "<tr><td>143195702</td><td>0012728d9f616bdf2...</td><td>null</td><td>6</td><td>OWN</td><td>35000.0</td><td>SC</td><td>294xx</td><td>USA</td><td>A</td><td>A5</td><td>Not Verified</td><td>20900.0</td><td>Individual</td><td>null</td><td>null</td><td>9000.0</td><td>9000.0</td><td>3</td><td>8.46</td><td>283.95</td><td>Dec-2018</td><td>Current</td><td>debt_consolidation</td><td>666.17</td><td>181.45</td><td>0.0</td><td>Apr-2019</td><td>Apr-2019</td><td>0</td><td>0.0</td><td>24</td><td>0</td><td>0</td><td>0</td></tr>\n",
       "<tr><td>2284564</td><td>00151ece27c7ca280...</td><td>Northglenn Police...</td><td>8</td><td>RENT</td><td>54000.0</td><td>CO</td><td>802xx</td><td>USA</td><td>C</td><td>C1</td><td>Not Verified</td><td>40650.0</td><td>Individual</td><td>null</td><td>null</td><td>12800.0</td><td>12800.0</td><td>3</td><td>14.33</td><td>439.53</td><td>Nov-2012</td><td>Fully Paid</td><td>debt_consolidation</td><td>12800.0</td><td>2192.68</td><td>0.0</td><td>null</td><td>null</td><td>0</td><td>0.0</td><td>29</td><td>0</td><td>0</td><td>1</td></tr>\n",
       "<tr><td>3845340</td><td>002800d49886390d2...</td><td>RehabCare</td><td>2</td><td>RENT</td><td>60000.0</td><td>TX</td><td>787xx</td><td>USA</td><td>D</td><td>D3</td><td>Not Verified</td><td>37248.0</td><td>Individual</td><td>null</td><td>null</td><td>15000.0</td><td>15000.0</td><td>3</td><td>18.75</td><td>547.95</td><td>Mar-2013</td><td>Charged Off</td><td>debt_consolidation</td><td>12856.06</td><td>4702.54</td><td>0.0</td><td>null</td><td>null</td><td>null</td><td>null</td><td>null</td><td>0</td><td>0</td><td>0</td></tr>\n",
       "<tr><td>360493</td><td>003715c2aec34dd43...</td><td>Apex Technologies...</td><td>1</td><td>MORTGAGE</td><td>90000.0</td><td>PA</td><td>171xx</td><td>USA</td><td>C</td><td>C3</td><td>Not Verified</td><td>null</td><td>Individual</td><td>null</td><td>null</td><td>12000.0</td><td>12000.0</td><td>3</td><td>12.41</td><td>400.93</td><td>Oct-2008</td><td>Fully Paid</td><td>debt_consolidation</td><td>12000.0</td><td>208.02</td><td>0.0</td><td>null</td><td>null</td><td>null</td><td>null</td><td>null</td><td>0</td><td>0</td><td>2</td></tr>\n",
       "<tr><td>95004059</td><td>003769d7f54c7859e...</td><td>Trainer</td><td>10</td><td>MORTGAGE</td><td>35000.0</td><td>NC</td><td>282xx</td><td>USA</td><td>E</td><td>E1</td><td>Verified</td><td>184961.0</td><td>Individual</td><td>null</td><td>null</td><td>10000.0</td><td>10000.0</td><td>5</td><td>22.74</td><td>280.42</td><td>Dec-2016</td><td>Charged Off</td><td>medical</td><td>90.92</td><td>176.87</td><td>0.0</td><td>null</td><td>null</td><td>1</td><td>0.0</td><td>20</td><td>0</td><td>0</td><td>0</td></tr>\n",
       "<tr><td>142641777</td><td>0037bb910c0a758f5...</td><td>Network Engineer</td><td>2</td><td>RENT</td><td>105000.0</td><td>IL</td><td>601xx</td><td>USA</td><td>C</td><td>C3</td><td>Source Verified</td><td>50260.0</td><td>Individual</td><td>null</td><td>null</td><td>2000.0</td><td>2000.0</td><td>3</td><td>15.02</td><td>69.36</td><td>Oct-2018</td><td>Current</td><td>other</td><td>227.25</td><td>116.21</td><td>0.0</td><td>Apr-2019</td><td>Apr-2019</td><td>0</td><td>0.0</td><td>66</td><td>0</td><td>0</td><td>0</td></tr>\n",
       "<tr><td>91518424</td><td>003d7bee408492f11...</td><td>Flight Attendant</td><td>10</td><td>RENT</td><td>75000.0</td><td>AZ</td><td>852xx</td><td>USA</td><td>A</td><td>A5</td><td>Not Verified</td><td>166387.0</td><td>Individual</td><td>null</td><td>null</td><td>10000.0</td><td>10000.0</td><td>3</td><td>7.99</td><td>313.32</td><td>Oct-2016</td><td>Current</td><td>other</td><td>7864.12</td><td>1213.28</td><td>0.0</td><td>Apr-2019</td><td>Apr-2019</td><td>null</td><td>null</td><td>null</td><td>0</td><td>0</td><td>0</td></tr>\n",
       "<tr><td>116883875</td><td>003e1e6cbd2920bbb...</td><td>Operations Superv...</td><td>9</td><td>MORTGAGE</td><td>92000.0</td><td>LA</td><td>705xx</td><td>USA</td><td>A</td><td>A5</td><td>Source Verified</td><td>375806.0</td><td>Individual</td><td>null</td><td>null</td><td>10000.0</td><td>10000.0</td><td>3</td><td>7.97</td><td>313.23</td><td>Aug-2017</td><td>Current</td><td>debt_consolidation</td><td>4980.61</td><td>970.21</td><td>0.0</td><td>Apr-2019</td><td>Apr-2019</td><td>1</td><td>0.0</td><td>23</td><td>1</td><td>1</td><td>0</td></tr>\n",
       "<tr><td>10616863</td><td>004017b21bd4d6271...</td><td>Regional Rehab Di...</td><td>9</td><td>MORTGAGE</td><td>113000.0</td><td>NC</td><td>276xx</td><td>USA</td><td>C</td><td>C1</td><td>Not Verified</td><td>120587.0</td><td>Individual</td><td>null</td><td>null</td><td>3000.0</td><td>3000.0</td><td>3</td><td>13.98</td><td>102.51</td><td>Jan-2014</td><td>Fully Paid</td><td>debt_consolidation</td><td>3000.0</td><td>685.71</td><td>15.0</td><td>null</td><td>null</td><td>6</td><td>0.0</td><td>9</td><td>0</td><td>0</td><td>0</td></tr>\n",
       "<tr><td>58882363</td><td>004dbe6698f1482be...</td><td>Project Manager</td><td>3</td><td>MORTGAGE</td><td>130000.0</td><td>NY</td><td>109xx</td><td>USA</td><td>D</td><td>D4</td><td>Verified</td><td>317868.0</td><td>Individual</td><td>null</td><td>null</td><td>35000.0</td><td>35000.0</td><td>3</td><td>17.57</td><td>1257.8</td><td>Sep-2015</td><td>Fully Paid</td><td>credit_card</td><td>35000.0</td><td>10246.49</td><td>0.0</td><td>null</td><td>null</td><td>null</td><td>null</td><td>null</td><td>0</td><td>0</td><td>2</td></tr>\n",
       "<tr><td>27681731</td><td>004f73beb41d739e1...</td><td>Staff Research As...</td><td>6</td><td>RENT</td><td>60000.0</td><td>CA</td><td>921xx</td><td>USA</td><td>C</td><td>C4</td><td>Source Verified</td><td>92453.0</td><td>Individual</td><td>null</td><td>null</td><td>15775.0</td><td>15775.0</td><td>5</td><td>14.49</td><td>371.08</td><td>Sep-2014</td><td>Current</td><td>debt_consolidation</td><td>13639.96</td><td>6398.36</td><td>0.0</td><td>Apr-2019</td><td>Apr-2019</td><td>null</td><td>null</td><td>null</td><td>0</td><td>0</td><td>0</td></tr>\n",
       "<tr><td>35236401</td><td>0059ce602b84a1bdd...</td><td>correctional officer</td><td>10</td><td>MORTGAGE</td><td>75000.0</td><td>CA</td><td>933xx</td><td>USA</td><td>D</td><td>D4</td><td>Verified</td><td>130656.0</td><td>Individual</td><td>null</td><td>null</td><td>31450.0</td><td>31450.0</td><td>3</td><td>17.14</td><td>1123.48</td><td>Dec-2014</td><td>Fully Paid</td><td>debt_consolidation</td><td>31450.0</td><td>8693.53</td><td>0.0</td><td>null</td><td>null</td><td>null</td><td>null</td><td>null</td><td>0</td><td>0</td><td>1</td></tr>\n",
       "<tr><td>83648322</td><td>005b4c3db3fce07dc...</td><td>office manager</td><td>9</td><td>MORTGAGE</td><td>61000.0</td><td>FL</td><td>334xx</td><td>USA</td><td>B</td><td>B5</td><td>Source Verified</td><td>28386.0</td><td>Individual</td><td>null</td><td>null</td><td>6000.0</td><td>6000.0</td><td>3</td><td>11.49</td><td>197.83</td><td>Jun-2016</td><td>Current</td><td>credit_card</td><td>5417.8</td><td>1102.93</td><td>0.0</td><td>Apr-2019</td><td>Apr-2019</td><td>1</td><td>0.0</td><td>18</td><td>1</td><td>0</td><td>1</td></tr>\n",
       "<tr><td>60615493</td><td>005d5e3c98a159671...</td><td>Staff Accountant</td><td>5</td><td>RENT</td><td>57000.0</td><td>NY</td><td>113xx</td><td>USA</td><td>C</td><td>C5</td><td>Source Verified</td><td>48811.0</td><td>Individual</td><td>null</td><td>null</td><td>9000.0</td><td>9000.0</td><td>3</td><td>14.65</td><td>310.45</td><td>Sep-2015</td><td>Fully Paid</td><td>credit_card</td><td>9000.0</td><td>440.68</td><td>0.0</td><td>null</td><td>null</td><td>null</td><td>null</td><td>null</td><td>0</td><td>0</td><td>0</td></tr>\n",
       "<tr><td>15650801</td><td>005daa54678e6fdfe...</td><td>Account Manager</td><td>1</td><td>MORTGAGE</td><td>105000.0</td><td>TX</td><td>761xx</td><td>USA</td><td>B</td><td>B5</td><td>Not Verified</td><td>197073.0</td><td>Individual</td><td>null</td><td>null</td><td>10000.0</td><td>10000.0</td><td>3</td><td>12.99</td><td>336.9</td><td>May-2014</td><td>Charged Off</td><td>debt_consolidation</td><td>1900.02</td><td>795.18</td><td>0.0</td><td>null</td><td>null</td><td>null</td><td>null</td><td>null</td><td>0</td><td>0</td><td>2</td></tr>\n",
       "<tr><td>55452248</td><td>0061cd647ed984d65...</td><td>Interview Specialist</td><td>10</td><td>MORTGAGE</td><td>34944.0</td><td>FL</td><td>334xx</td><td>USA</td><td>D</td><td>D2</td><td>Verified</td><td>208930.0</td><td>Individual</td><td>null</td><td>null</td><td>8900.0</td><td>8900.0</td><td>3</td><td>16.55</td><td>315.32</td><td>Jul-2015</td><td>Fully Paid</td><td>debt_consolidation</td><td>8900.0</td><td>1772.08</td><td>0.0</td><td>null</td><td>null</td><td>null</td><td>null</td><td>null</td><td>0</td><td>0</td><td>0</td></tr>\n",
       "<tr><td>51646280</td><td>0068aeffe996677c2...</td><td>Partner</td><td>10</td><td>MORTGAGE</td><td>120000.0</td><td>AK</td><td>998xx</td><td>USA</td><td>D</td><td>D1</td><td>Not Verified</td><td>719758.0</td><td>Individual</td><td>null</td><td>null</td><td>20000.0</td><td>20000.0</td><td>3</td><td>15.61</td><td>699.3</td><td>Jun-2015</td><td>Fully Paid</td><td>home_improvement</td><td>20000.0</td><td>5157.27</td><td>0.0</td><td>null</td><td>null</td><td>null</td><td>null</td><td>null</td><td>0</td><td>0</td><td>2</td></tr>\n",
       "<tr><td>49954749</td><td>00710707c563c2119...</td><td>owner</td><td>3</td><td>MORTGAGE</td><td>109000.0</td><td>FL</td><td>324xx</td><td>USA</td><td>B</td><td>B5</td><td>Source Verified</td><td>356897.0</td><td>Individual</td><td>null</td><td>null</td><td>15000.0</td><td>15000.0</td><td>3</td><td>11.53</td><td>494.86</td><td>Jun-2015</td><td>Fully Paid</td><td>debt_consolidation</td><td>15000.0</td><td>2595.47</td><td>0.0</td><td>null</td><td>null</td><td>1</td><td>0.0</td><td>8</td><td>0</td><td>0</td><td>0</td></tr>\n",
       "</table>\n",
       "only showing top 20 rows\n"
      ],
      "text/plain": [
       "+---------+--------------------+--------------------+----------+--------------+-------------+-------------+---------------+---------------+-----+---------+-------------------+-----------------------+----------------+------------------+-------------------------+-----------+-------------+---------------+-------------+-------------------+----------+-----------+------------------+------------------------+-----------------------+-----------------------+-----------------+-----------------+-----------+-----------+----------------------+-------+--------------------+--------------+\n",
       "|  loan_id|           member_id|           emp_title|emp_length|home_ownership|annual_income|address_state|address_zipcode|address_country|grade|sub_grade|verification_status|total_high_credit_limit|application_type|join_annual_income|verification_status_joint|loan_amount|funded_amount|loan_term_years|interest_rate|monthly_installment|issue_date|loan_status|      loan_purpose|total_principal_received|total_interest_received|total_late_fee_received|last_payment_date|next_payment_date|delinq_2yrs|delinq_amnt|mths_since_last_delinq|pub_rec|pub_rec_bankruptcies|inq_last_6mths|\n",
       "+---------+--------------------+--------------------+----------+--------------+-------------+-------------+---------------+---------------+-----+---------+-------------------+-----------------------+----------------+------------------+-------------------------+-----------+-------------+---------------+-------------+-------------------+----------+-----------+------------------+------------------------+-----------------------+-----------------------+-----------------+-----------------+-----------+-----------+----------------------+-------+--------------------+--------------+\n",
       "| 71175798|000c8875b71a6b47c...|Director of Gvt O...|         1|      MORTGAGE|     100000.0|           CA|          920xx|            USA|    A|       A4|       Not Verified|               761500.0|      Individual|              null|                     null|     3000.0|       3000.0|              3|         7.39|              93.17|  Feb-2016| Fully Paid|debt_consolidation|                  3000.0|                 114.47|                    0.0|             null|             null|          1|        0.0|                    13|      0|                   0|             0|\n",
       "|139313300|000fc98fc1ca5faa3...|               coord|        10|      MORTGAGE|     220000.0|           CA|          952xx|            USA|    A|       A3|       Not Verified|               227457.0|       Joint App|          230000.0|                     null|    20000.0|      20000.0|              3|         7.21|             619.47|  Aug-2018|    Current|       credit_card|                 3558.76|                 769.52|                    0.0|         Apr-2019|         Apr-2019|       null|       null|                  null|      0|                   0|             0|\n",
       "|143195702|0012728d9f616bdf2...|                null|         6|           OWN|      35000.0|           SC|          294xx|            USA|    A|       A5|       Not Verified|                20900.0|      Individual|              null|                     null|     9000.0|       9000.0|              3|         8.46|             283.95|  Dec-2018|    Current|debt_consolidation|                  666.17|                 181.45|                    0.0|         Apr-2019|         Apr-2019|          0|        0.0|                    24|      0|                   0|             0|\n",
       "|  2284564|00151ece27c7ca280...|Northglenn Police...|         8|          RENT|      54000.0|           CO|          802xx|            USA|    C|       C1|       Not Verified|                40650.0|      Individual|              null|                     null|    12800.0|      12800.0|              3|        14.33|             439.53|  Nov-2012| Fully Paid|debt_consolidation|                 12800.0|                2192.68|                    0.0|             null|             null|          0|        0.0|                    29|      0|                   0|             1|\n",
       "|  3845340|002800d49886390d2...|           RehabCare|         2|          RENT|      60000.0|           TX|          787xx|            USA|    D|       D3|       Not Verified|                37248.0|      Individual|              null|                     null|    15000.0|      15000.0|              3|        18.75|             547.95|  Mar-2013|Charged Off|debt_consolidation|                12856.06|                4702.54|                    0.0|             null|             null|       null|       null|                  null|      0|                   0|             0|\n",
       "|   360493|003715c2aec34dd43...|Apex Technologies...|         1|      MORTGAGE|      90000.0|           PA|          171xx|            USA|    C|       C3|       Not Verified|                   null|      Individual|              null|                     null|    12000.0|      12000.0|              3|        12.41|             400.93|  Oct-2008| Fully Paid|debt_consolidation|                 12000.0|                 208.02|                    0.0|             null|             null|       null|       null|                  null|      0|                   0|             2|\n",
       "| 95004059|003769d7f54c7859e...|             Trainer|        10|      MORTGAGE|      35000.0|           NC|          282xx|            USA|    E|       E1|           Verified|               184961.0|      Individual|              null|                     null|    10000.0|      10000.0|              5|        22.74|             280.42|  Dec-2016|Charged Off|           medical|                   90.92|                 176.87|                    0.0|             null|             null|          1|        0.0|                    20|      0|                   0|             0|\n",
       "|142641777|0037bb910c0a758f5...|    Network Engineer|         2|          RENT|     105000.0|           IL|          601xx|            USA|    C|       C3|    Source Verified|                50260.0|      Individual|              null|                     null|     2000.0|       2000.0|              3|        15.02|              69.36|  Oct-2018|    Current|             other|                  227.25|                 116.21|                    0.0|         Apr-2019|         Apr-2019|          0|        0.0|                    66|      0|                   0|             0|\n",
       "| 91518424|003d7bee408492f11...|    Flight Attendant|        10|          RENT|      75000.0|           AZ|          852xx|            USA|    A|       A5|       Not Verified|               166387.0|      Individual|              null|                     null|    10000.0|      10000.0|              3|         7.99|             313.32|  Oct-2016|    Current|             other|                 7864.12|                1213.28|                    0.0|         Apr-2019|         Apr-2019|       null|       null|                  null|      0|                   0|             0|\n",
       "|116883875|003e1e6cbd2920bbb...|Operations Superv...|         9|      MORTGAGE|      92000.0|           LA|          705xx|            USA|    A|       A5|    Source Verified|               375806.0|      Individual|              null|                     null|    10000.0|      10000.0|              3|         7.97|             313.23|  Aug-2017|    Current|debt_consolidation|                 4980.61|                 970.21|                    0.0|         Apr-2019|         Apr-2019|          1|        0.0|                    23|      1|                   1|             0|\n",
       "| 10616863|004017b21bd4d6271...|Regional Rehab Di...|         9|      MORTGAGE|     113000.0|           NC|          276xx|            USA|    C|       C1|       Not Verified|               120587.0|      Individual|              null|                     null|     3000.0|       3000.0|              3|        13.98|             102.51|  Jan-2014| Fully Paid|debt_consolidation|                  3000.0|                 685.71|                   15.0|             null|             null|          6|        0.0|                     9|      0|                   0|             0|\n",
       "| 58882363|004dbe6698f1482be...|     Project Manager|         3|      MORTGAGE|     130000.0|           NY|          109xx|            USA|    D|       D4|           Verified|               317868.0|      Individual|              null|                     null|    35000.0|      35000.0|              3|        17.57|             1257.8|  Sep-2015| Fully Paid|       credit_card|                 35000.0|               10246.49|                    0.0|             null|             null|       null|       null|                  null|      0|                   0|             2|\n",
       "| 27681731|004f73beb41d739e1...|Staff Research As...|         6|          RENT|      60000.0|           CA|          921xx|            USA|    C|       C4|    Source Verified|                92453.0|      Individual|              null|                     null|    15775.0|      15775.0|              5|        14.49|             371.08|  Sep-2014|    Current|debt_consolidation|                13639.96|                6398.36|                    0.0|         Apr-2019|         Apr-2019|       null|       null|                  null|      0|                   0|             0|\n",
       "| 35236401|0059ce602b84a1bdd...|correctional officer|        10|      MORTGAGE|      75000.0|           CA|          933xx|            USA|    D|       D4|           Verified|               130656.0|      Individual|              null|                     null|    31450.0|      31450.0|              3|        17.14|            1123.48|  Dec-2014| Fully Paid|debt_consolidation|                 31450.0|                8693.53|                    0.0|             null|             null|       null|       null|                  null|      0|                   0|             1|\n",
       "| 83648322|005b4c3db3fce07dc...|      office manager|         9|      MORTGAGE|      61000.0|           FL|          334xx|            USA|    B|       B5|    Source Verified|                28386.0|      Individual|              null|                     null|     6000.0|       6000.0|              3|        11.49|             197.83|  Jun-2016|    Current|       credit_card|                  5417.8|                1102.93|                    0.0|         Apr-2019|         Apr-2019|          1|        0.0|                    18|      1|                   0|             1|\n",
       "| 60615493|005d5e3c98a159671...|    Staff Accountant|         5|          RENT|      57000.0|           NY|          113xx|            USA|    C|       C5|    Source Verified|                48811.0|      Individual|              null|                     null|     9000.0|       9000.0|              3|        14.65|             310.45|  Sep-2015| Fully Paid|       credit_card|                  9000.0|                 440.68|                    0.0|             null|             null|       null|       null|                  null|      0|                   0|             0|\n",
       "| 15650801|005daa54678e6fdfe...|     Account Manager|         1|      MORTGAGE|     105000.0|           TX|          761xx|            USA|    B|       B5|       Not Verified|               197073.0|      Individual|              null|                     null|    10000.0|      10000.0|              3|        12.99|              336.9|  May-2014|Charged Off|debt_consolidation|                 1900.02|                 795.18|                    0.0|             null|             null|       null|       null|                  null|      0|                   0|             2|\n",
       "| 55452248|0061cd647ed984d65...|Interview Specialist|        10|      MORTGAGE|      34944.0|           FL|          334xx|            USA|    D|       D2|           Verified|               208930.0|      Individual|              null|                     null|     8900.0|       8900.0|              3|        16.55|             315.32|  Jul-2015| Fully Paid|debt_consolidation|                  8900.0|                1772.08|                    0.0|             null|             null|       null|       null|                  null|      0|                   0|             0|\n",
       "| 51646280|0068aeffe996677c2...|             Partner|        10|      MORTGAGE|     120000.0|           AK|          998xx|            USA|    D|       D1|       Not Verified|               719758.0|      Individual|              null|                     null|    20000.0|      20000.0|              3|        15.61|              699.3|  Jun-2015| Fully Paid|  home_improvement|                 20000.0|                5157.27|                    0.0|             null|             null|       null|       null|                  null|      0|                   0|             2|\n",
       "| 49954749|00710707c563c2119...|               owner|         3|      MORTGAGE|     109000.0|           FL|          324xx|            USA|    B|       B5|    Source Verified|               356897.0|      Individual|              null|                     null|    15000.0|      15000.0|              3|        11.53|             494.86|  Jun-2015| Fully Paid|debt_consolidation|                 15000.0|                2595.47|                    0.0|             null|             null|          1|        0.0|                     8|      0|                   0|             0|\n",
       "+---------+--------------------+--------------------+----------+--------------+-------------+-------------+---------------+---------------+-----+---------+-------------------+-----------------------+----------------+------------------+-------------------------+-----------+-------------+---------------+-------------+-------------------+----------+-----------+------------------+------------------------+-----------------------+-----------------------+-----------------+-----------------+-----------+-----------+----------------------+-------+--------------------+--------------+\n",
       "only showing top 20 rows"
      ]
     },
     "execution_count": 10,
     "metadata": {},
     "output_type": "execute_result"
    }
   ],
   "source": [
    "spark.sql(\"select * from itv008542_lending_club.customers_loan_v\")"
   ]
  },
  {
   "cell_type": "markdown",
   "metadata": {
    "application/vnd.databricks.v1+cell": {
     "cellMetadata": {},
     "inputWidgets": {},
     "nuid": "8f5b0557-6414-4803-b374-53a191de30d5",
     "showTitle": false,
     "title": ""
    }
   },
   "source": [
    "\n",
    "## Requirement 3\n",
    "\n",
    "- Another team came and asked that they would need a very quick access of datas from the view table ceated above.\n",
    "\n",
    "- Solution 1: we have a job that runs every 7 DAYS ONE TIME, THE JOIN OF 5 TABLE IS DONE AND THE RESULTS ARE PUT IN A TABLE The results are faster but the data might be older in this case ( max 7 days old ). Since its heavy job, we cannot affor running it daily. So, we need to communicate if the team is okay with this.\n",
    "\n"
   ]
  },
  {
   "cell_type": "code",
   "execution_count": 0,
   "metadata": {
    "application/vnd.databricks.v1+cell": {
     "cellMetadata": {},
     "inputWidgets": {},
     "nuid": "87aa8c44-feff-48fd-ba5a-ec8b42d3d101",
     "showTitle": false,
     "title": ""
    }
   },
   "outputs": [
    {
     "output_type": "execute_result",
     "data": {
      "text/html": [
       "<table border='1'>\n",
       "<tr><th></th></tr>\n",
       "</table>\n"
      ],
      "text/plain": [
       "++\n",
       "||\n",
       "++\n",
       "++"
      ]
     },
     "execution_count": 11,
     "metadata": {},
     "output_type": "execute_result"
    }
   ],
   "source": [
    "spark.sql(\"\"\"\n",
    "create table itv008542_lending_club.customers_loan_t as select\n",
    "l.loan_id,\n",
    "c.member_id,\n",
    "c.emp_title,\n",
    "c.emp_length,\n",
    "c.home_ownership,\n",
    "c.annual_income,\n",
    "c.address_state,\n",
    "c.address_zipcode,\n",
    "c.address_country,\n",
    "c.grade,\n",
    "c.sub_grade,\n",
    "c.verification_status,\n",
    "c.total_high_credit_limit,\n",
    "c.application_type,\n",
    "c.join_annual_income,\n",
    "c.verification_status_joint,\n",
    "l.loan_amount,\n",
    "l.funded_amount,\n",
    "l.loan_term_years,\n",
    "l.interest_rate,\n",
    "l.monthly_installment,\n",
    "l.issue_date,\n",
    "l.loan_status,\n",
    "l.loan_purpose,\n",
    "r.total_principal_received,\n",
    "r.total_interest_received,\n",
    "r.total_late_fee_received,\n",
    "r.last_payment_date,\n",
    "r.next_payment_date,\n",
    "d.delinq_2yrs,\n",
    "d.delinq_amnt,\n",
    "d.mths_since_last_delinq,\n",
    "e.pub_rec,\n",
    "e.pub_rec_bankruptcies,\n",
    "e.inq_last_6mths\n",
    "\n",
    "FROM itv008542_lending_club.customers c\n",
    "LEFT JOIN itv008542_lending_club.loans l on c.member_id = l.member_id\n",
    "LEFT JOIN itv008542_lending_club.loans_repayments r ON l.loan_id = r.loan_id\n",
    "LEFT JOIN itv008542_lending_club.loans_defaulters_delinq d ON c.member_id = d.member_id\n",
    "LEFT JOIN itv008542_lending_club.loans_defaulters_detail_rec_enq e ON c.member_id = e.member_id\n",
    "\"\"\")"
   ]
  },
  {
   "cell_type": "code",
   "execution_count": 0,
   "metadata": {
    "application/vnd.databricks.v1+cell": {
     "cellMetadata": {},
     "inputWidgets": {},
     "nuid": "6600afc3-b927-4bcb-b91d-e1fc6a8da154",
     "showTitle": false,
     "title": ""
    }
   },
   "outputs": [
    {
     "output_type": "execute_result",
     "data": {
      "text/html": [
       "<table border='1'>\n",
       "<tr><th>loan_id</th><th>member_id</th><th>emp_title</th><th>emp_length</th><th>home_ownership</th><th>annual_income</th><th>address_state</th><th>address_zipcode</th><th>address_country</th><th>grade</th><th>sub_grade</th><th>verification_status</th><th>total_high_credit_limit</th><th>application_type</th><th>join_annual_income</th><th>verification_status_joint</th><th>loan_amount</th><th>funded_amount</th><th>loan_term_years</th><th>interest_rate</th><th>monthly_installment</th><th>issue_date</th><th>loan_status</th><th>loan_purpose</th><th>total_principal_received</th><th>total_interest_received</th><th>total_late_fee_received</th><th>last_payment_date</th><th>next_payment_date</th><th>delinq_2yrs</th><th>delinq_amnt</th><th>mths_since_last_delinq</th><th>pub_rec</th><th>pub_rec_bankruptcies</th><th>inq_last_6mths</th></tr>\n",
       "<tr><td>71175798</td><td>000c8875b71a6b47c...</td><td>Director of Gvt O...</td><td>1</td><td>MORTGAGE</td><td>100000.0</td><td>CA</td><td>920xx</td><td>USA</td><td>A</td><td>A4</td><td>Not Verified</td><td>761500.0</td><td>Individual</td><td>null</td><td>null</td><td>3000.0</td><td>3000.0</td><td>3</td><td>7.39</td><td>93.17</td><td>Feb-2016</td><td>Fully Paid</td><td>debt_consolidation</td><td>3000.0</td><td>114.47</td><td>0.0</td><td>null</td><td>null</td><td>1</td><td>0.0</td><td>13</td><td>0</td><td>0</td><td>0</td></tr>\n",
       "<tr><td>139313300</td><td>000fc98fc1ca5faa3...</td><td>coord</td><td>10</td><td>MORTGAGE</td><td>220000.0</td><td>CA</td><td>952xx</td><td>USA</td><td>A</td><td>A3</td><td>Not Verified</td><td>227457.0</td><td>Joint App</td><td>230000.0</td><td>null</td><td>20000.0</td><td>20000.0</td><td>3</td><td>7.21</td><td>619.47</td><td>Aug-2018</td><td>Current</td><td>credit_card</td><td>3558.76</td><td>769.52</td><td>0.0</td><td>Apr-2019</td><td>Apr-2019</td><td>null</td><td>null</td><td>null</td><td>0</td><td>0</td><td>0</td></tr>\n",
       "<tr><td>143195702</td><td>0012728d9f616bdf2...</td><td>null</td><td>6</td><td>OWN</td><td>35000.0</td><td>SC</td><td>294xx</td><td>USA</td><td>A</td><td>A5</td><td>Not Verified</td><td>20900.0</td><td>Individual</td><td>null</td><td>null</td><td>9000.0</td><td>9000.0</td><td>3</td><td>8.46</td><td>283.95</td><td>Dec-2018</td><td>Current</td><td>debt_consolidation</td><td>666.17</td><td>181.45</td><td>0.0</td><td>Apr-2019</td><td>Apr-2019</td><td>0</td><td>0.0</td><td>24</td><td>0</td><td>0</td><td>0</td></tr>\n",
       "<tr><td>2284564</td><td>00151ece27c7ca280...</td><td>Northglenn Police...</td><td>8</td><td>RENT</td><td>54000.0</td><td>CO</td><td>802xx</td><td>USA</td><td>C</td><td>C1</td><td>Not Verified</td><td>40650.0</td><td>Individual</td><td>null</td><td>null</td><td>12800.0</td><td>12800.0</td><td>3</td><td>14.33</td><td>439.53</td><td>Nov-2012</td><td>Fully Paid</td><td>debt_consolidation</td><td>12800.0</td><td>2192.68</td><td>0.0</td><td>null</td><td>null</td><td>0</td><td>0.0</td><td>29</td><td>0</td><td>0</td><td>1</td></tr>\n",
       "<tr><td>3845340</td><td>002800d49886390d2...</td><td>RehabCare</td><td>2</td><td>RENT</td><td>60000.0</td><td>TX</td><td>787xx</td><td>USA</td><td>D</td><td>D3</td><td>Not Verified</td><td>37248.0</td><td>Individual</td><td>null</td><td>null</td><td>15000.0</td><td>15000.0</td><td>3</td><td>18.75</td><td>547.95</td><td>Mar-2013</td><td>Charged Off</td><td>debt_consolidation</td><td>12856.06</td><td>4702.54</td><td>0.0</td><td>null</td><td>null</td><td>null</td><td>null</td><td>null</td><td>0</td><td>0</td><td>0</td></tr>\n",
       "<tr><td>360493</td><td>003715c2aec34dd43...</td><td>Apex Technologies...</td><td>1</td><td>MORTGAGE</td><td>90000.0</td><td>PA</td><td>171xx</td><td>USA</td><td>C</td><td>C3</td><td>Not Verified</td><td>null</td><td>Individual</td><td>null</td><td>null</td><td>12000.0</td><td>12000.0</td><td>3</td><td>12.41</td><td>400.93</td><td>Oct-2008</td><td>Fully Paid</td><td>debt_consolidation</td><td>12000.0</td><td>208.02</td><td>0.0</td><td>null</td><td>null</td><td>null</td><td>null</td><td>null</td><td>0</td><td>0</td><td>2</td></tr>\n",
       "<tr><td>95004059</td><td>003769d7f54c7859e...</td><td>Trainer</td><td>10</td><td>MORTGAGE</td><td>35000.0</td><td>NC</td><td>282xx</td><td>USA</td><td>E</td><td>E1</td><td>Verified</td><td>184961.0</td><td>Individual</td><td>null</td><td>null</td><td>10000.0</td><td>10000.0</td><td>5</td><td>22.74</td><td>280.42</td><td>Dec-2016</td><td>Charged Off</td><td>medical</td><td>90.92</td><td>176.87</td><td>0.0</td><td>null</td><td>null</td><td>1</td><td>0.0</td><td>20</td><td>0</td><td>0</td><td>0</td></tr>\n",
       "<tr><td>142641777</td><td>0037bb910c0a758f5...</td><td>Network Engineer</td><td>2</td><td>RENT</td><td>105000.0</td><td>IL</td><td>601xx</td><td>USA</td><td>C</td><td>C3</td><td>Source Verified</td><td>50260.0</td><td>Individual</td><td>null</td><td>null</td><td>2000.0</td><td>2000.0</td><td>3</td><td>15.02</td><td>69.36</td><td>Oct-2018</td><td>Current</td><td>other</td><td>227.25</td><td>116.21</td><td>0.0</td><td>Apr-2019</td><td>Apr-2019</td><td>0</td><td>0.0</td><td>66</td><td>0</td><td>0</td><td>0</td></tr>\n",
       "<tr><td>91518424</td><td>003d7bee408492f11...</td><td>Flight Attendant</td><td>10</td><td>RENT</td><td>75000.0</td><td>AZ</td><td>852xx</td><td>USA</td><td>A</td><td>A5</td><td>Not Verified</td><td>166387.0</td><td>Individual</td><td>null</td><td>null</td><td>10000.0</td><td>10000.0</td><td>3</td><td>7.99</td><td>313.32</td><td>Oct-2016</td><td>Current</td><td>other</td><td>7864.12</td><td>1213.28</td><td>0.0</td><td>Apr-2019</td><td>Apr-2019</td><td>null</td><td>null</td><td>null</td><td>0</td><td>0</td><td>0</td></tr>\n",
       "<tr><td>116883875</td><td>003e1e6cbd2920bbb...</td><td>Operations Superv...</td><td>9</td><td>MORTGAGE</td><td>92000.0</td><td>LA</td><td>705xx</td><td>USA</td><td>A</td><td>A5</td><td>Source Verified</td><td>375806.0</td><td>Individual</td><td>null</td><td>null</td><td>10000.0</td><td>10000.0</td><td>3</td><td>7.97</td><td>313.23</td><td>Aug-2017</td><td>Current</td><td>debt_consolidation</td><td>4980.61</td><td>970.21</td><td>0.0</td><td>Apr-2019</td><td>Apr-2019</td><td>1</td><td>0.0</td><td>23</td><td>1</td><td>1</td><td>0</td></tr>\n",
       "<tr><td>10616863</td><td>004017b21bd4d6271...</td><td>Regional Rehab Di...</td><td>9</td><td>MORTGAGE</td><td>113000.0</td><td>NC</td><td>276xx</td><td>USA</td><td>C</td><td>C1</td><td>Not Verified</td><td>120587.0</td><td>Individual</td><td>null</td><td>null</td><td>3000.0</td><td>3000.0</td><td>3</td><td>13.98</td><td>102.51</td><td>Jan-2014</td><td>Fully Paid</td><td>debt_consolidation</td><td>3000.0</td><td>685.71</td><td>15.0</td><td>null</td><td>null</td><td>6</td><td>0.0</td><td>9</td><td>0</td><td>0</td><td>0</td></tr>\n",
       "<tr><td>58882363</td><td>004dbe6698f1482be...</td><td>Project Manager</td><td>3</td><td>MORTGAGE</td><td>130000.0</td><td>NY</td><td>109xx</td><td>USA</td><td>D</td><td>D4</td><td>Verified</td><td>317868.0</td><td>Individual</td><td>null</td><td>null</td><td>35000.0</td><td>35000.0</td><td>3</td><td>17.57</td><td>1257.8</td><td>Sep-2015</td><td>Fully Paid</td><td>credit_card</td><td>35000.0</td><td>10246.49</td><td>0.0</td><td>null</td><td>null</td><td>null</td><td>null</td><td>null</td><td>0</td><td>0</td><td>2</td></tr>\n",
       "<tr><td>27681731</td><td>004f73beb41d739e1...</td><td>Staff Research As...</td><td>6</td><td>RENT</td><td>60000.0</td><td>CA</td><td>921xx</td><td>USA</td><td>C</td><td>C4</td><td>Source Verified</td><td>92453.0</td><td>Individual</td><td>null</td><td>null</td><td>15775.0</td><td>15775.0</td><td>5</td><td>14.49</td><td>371.08</td><td>Sep-2014</td><td>Current</td><td>debt_consolidation</td><td>13639.96</td><td>6398.36</td><td>0.0</td><td>Apr-2019</td><td>Apr-2019</td><td>null</td><td>null</td><td>null</td><td>0</td><td>0</td><td>0</td></tr>\n",
       "<tr><td>35236401</td><td>0059ce602b84a1bdd...</td><td>correctional officer</td><td>10</td><td>MORTGAGE</td><td>75000.0</td><td>CA</td><td>933xx</td><td>USA</td><td>D</td><td>D4</td><td>Verified</td><td>130656.0</td><td>Individual</td><td>null</td><td>null</td><td>31450.0</td><td>31450.0</td><td>3</td><td>17.14</td><td>1123.48</td><td>Dec-2014</td><td>Fully Paid</td><td>debt_consolidation</td><td>31450.0</td><td>8693.53</td><td>0.0</td><td>null</td><td>null</td><td>null</td><td>null</td><td>null</td><td>0</td><td>0</td><td>1</td></tr>\n",
       "<tr><td>83648322</td><td>005b4c3db3fce07dc...</td><td>office manager</td><td>9</td><td>MORTGAGE</td><td>61000.0</td><td>FL</td><td>334xx</td><td>USA</td><td>B</td><td>B5</td><td>Source Verified</td><td>28386.0</td><td>Individual</td><td>null</td><td>null</td><td>6000.0</td><td>6000.0</td><td>3</td><td>11.49</td><td>197.83</td><td>Jun-2016</td><td>Current</td><td>credit_card</td><td>5417.8</td><td>1102.93</td><td>0.0</td><td>Apr-2019</td><td>Apr-2019</td><td>1</td><td>0.0</td><td>18</td><td>1</td><td>0</td><td>1</td></tr>\n",
       "<tr><td>60615493</td><td>005d5e3c98a159671...</td><td>Staff Accountant</td><td>5</td><td>RENT</td><td>57000.0</td><td>NY</td><td>113xx</td><td>USA</td><td>C</td><td>C5</td><td>Source Verified</td><td>48811.0</td><td>Individual</td><td>null</td><td>null</td><td>9000.0</td><td>9000.0</td><td>3</td><td>14.65</td><td>310.45</td><td>Sep-2015</td><td>Fully Paid</td><td>credit_card</td><td>9000.0</td><td>440.68</td><td>0.0</td><td>null</td><td>null</td><td>null</td><td>null</td><td>null</td><td>0</td><td>0</td><td>0</td></tr>\n",
       "<tr><td>15650801</td><td>005daa54678e6fdfe...</td><td>Account Manager</td><td>1</td><td>MORTGAGE</td><td>105000.0</td><td>TX</td><td>761xx</td><td>USA</td><td>B</td><td>B5</td><td>Not Verified</td><td>197073.0</td><td>Individual</td><td>null</td><td>null</td><td>10000.0</td><td>10000.0</td><td>3</td><td>12.99</td><td>336.9</td><td>May-2014</td><td>Charged Off</td><td>debt_consolidation</td><td>1900.02</td><td>795.18</td><td>0.0</td><td>null</td><td>null</td><td>null</td><td>null</td><td>null</td><td>0</td><td>0</td><td>2</td></tr>\n",
       "<tr><td>55452248</td><td>0061cd647ed984d65...</td><td>Interview Specialist</td><td>10</td><td>MORTGAGE</td><td>34944.0</td><td>FL</td><td>334xx</td><td>USA</td><td>D</td><td>D2</td><td>Verified</td><td>208930.0</td><td>Individual</td><td>null</td><td>null</td><td>8900.0</td><td>8900.0</td><td>3</td><td>16.55</td><td>315.32</td><td>Jul-2015</td><td>Fully Paid</td><td>debt_consolidation</td><td>8900.0</td><td>1772.08</td><td>0.0</td><td>null</td><td>null</td><td>null</td><td>null</td><td>null</td><td>0</td><td>0</td><td>0</td></tr>\n",
       "<tr><td>51646280</td><td>0068aeffe996677c2...</td><td>Partner</td><td>10</td><td>MORTGAGE</td><td>120000.0</td><td>AK</td><td>998xx</td><td>USA</td><td>D</td><td>D1</td><td>Not Verified</td><td>719758.0</td><td>Individual</td><td>null</td><td>null</td><td>20000.0</td><td>20000.0</td><td>3</td><td>15.61</td><td>699.3</td><td>Jun-2015</td><td>Fully Paid</td><td>home_improvement</td><td>20000.0</td><td>5157.27</td><td>0.0</td><td>null</td><td>null</td><td>null</td><td>null</td><td>null</td><td>0</td><td>0</td><td>2</td></tr>\n",
       "<tr><td>49954749</td><td>00710707c563c2119...</td><td>owner</td><td>3</td><td>MORTGAGE</td><td>109000.0</td><td>FL</td><td>324xx</td><td>USA</td><td>B</td><td>B5</td><td>Source Verified</td><td>356897.0</td><td>Individual</td><td>null</td><td>null</td><td>15000.0</td><td>15000.0</td><td>3</td><td>11.53</td><td>494.86</td><td>Jun-2015</td><td>Fully Paid</td><td>debt_consolidation</td><td>15000.0</td><td>2595.47</td><td>0.0</td><td>null</td><td>null</td><td>1</td><td>0.0</td><td>8</td><td>0</td><td>0</td><td>0</td></tr>\n",
       "</table>\n",
       "only showing top 20 rows\n"
      ],
      "text/plain": [
       "+---------+--------------------+--------------------+----------+--------------+-------------+-------------+---------------+---------------+-----+---------+-------------------+-----------------------+----------------+------------------+-------------------------+-----------+-------------+---------------+-------------+-------------------+----------+-----------+------------------+------------------------+-----------------------+-----------------------+-----------------+-----------------+-----------+-----------+----------------------+-------+--------------------+--------------+\n",
       "|  loan_id|           member_id|           emp_title|emp_length|home_ownership|annual_income|address_state|address_zipcode|address_country|grade|sub_grade|verification_status|total_high_credit_limit|application_type|join_annual_income|verification_status_joint|loan_amount|funded_amount|loan_term_years|interest_rate|monthly_installment|issue_date|loan_status|      loan_purpose|total_principal_received|total_interest_received|total_late_fee_received|last_payment_date|next_payment_date|delinq_2yrs|delinq_amnt|mths_since_last_delinq|pub_rec|pub_rec_bankruptcies|inq_last_6mths|\n",
       "+---------+--------------------+--------------------+----------+--------------+-------------+-------------+---------------+---------------+-----+---------+-------------------+-----------------------+----------------+------------------+-------------------------+-----------+-------------+---------------+-------------+-------------------+----------+-----------+------------------+------------------------+-----------------------+-----------------------+-----------------+-----------------+-----------+-----------+----------------------+-------+--------------------+--------------+\n",
       "| 71175798|000c8875b71a6b47c...|Director of Gvt O...|         1|      MORTGAGE|     100000.0|           CA|          920xx|            USA|    A|       A4|       Not Verified|               761500.0|      Individual|              null|                     null|     3000.0|       3000.0|              3|         7.39|              93.17|  Feb-2016| Fully Paid|debt_consolidation|                  3000.0|                 114.47|                    0.0|             null|             null|          1|        0.0|                    13|      0|                   0|             0|\n",
       "|139313300|000fc98fc1ca5faa3...|               coord|        10|      MORTGAGE|     220000.0|           CA|          952xx|            USA|    A|       A3|       Not Verified|               227457.0|       Joint App|          230000.0|                     null|    20000.0|      20000.0|              3|         7.21|             619.47|  Aug-2018|    Current|       credit_card|                 3558.76|                 769.52|                    0.0|         Apr-2019|         Apr-2019|       null|       null|                  null|      0|                   0|             0|\n",
       "|143195702|0012728d9f616bdf2...|                null|         6|           OWN|      35000.0|           SC|          294xx|            USA|    A|       A5|       Not Verified|                20900.0|      Individual|              null|                     null|     9000.0|       9000.0|              3|         8.46|             283.95|  Dec-2018|    Current|debt_consolidation|                  666.17|                 181.45|                    0.0|         Apr-2019|         Apr-2019|          0|        0.0|                    24|      0|                   0|             0|\n",
       "|  2284564|00151ece27c7ca280...|Northglenn Police...|         8|          RENT|      54000.0|           CO|          802xx|            USA|    C|       C1|       Not Verified|                40650.0|      Individual|              null|                     null|    12800.0|      12800.0|              3|        14.33|             439.53|  Nov-2012| Fully Paid|debt_consolidation|                 12800.0|                2192.68|                    0.0|             null|             null|          0|        0.0|                    29|      0|                   0|             1|\n",
       "|  3845340|002800d49886390d2...|           RehabCare|         2|          RENT|      60000.0|           TX|          787xx|            USA|    D|       D3|       Not Verified|                37248.0|      Individual|              null|                     null|    15000.0|      15000.0|              3|        18.75|             547.95|  Mar-2013|Charged Off|debt_consolidation|                12856.06|                4702.54|                    0.0|             null|             null|       null|       null|                  null|      0|                   0|             0|\n",
       "|   360493|003715c2aec34dd43...|Apex Technologies...|         1|      MORTGAGE|      90000.0|           PA|          171xx|            USA|    C|       C3|       Not Verified|                   null|      Individual|              null|                     null|    12000.0|      12000.0|              3|        12.41|             400.93|  Oct-2008| Fully Paid|debt_consolidation|                 12000.0|                 208.02|                    0.0|             null|             null|       null|       null|                  null|      0|                   0|             2|\n",
       "| 95004059|003769d7f54c7859e...|             Trainer|        10|      MORTGAGE|      35000.0|           NC|          282xx|            USA|    E|       E1|           Verified|               184961.0|      Individual|              null|                     null|    10000.0|      10000.0|              5|        22.74|             280.42|  Dec-2016|Charged Off|           medical|                   90.92|                 176.87|                    0.0|             null|             null|          1|        0.0|                    20|      0|                   0|             0|\n",
       "|142641777|0037bb910c0a758f5...|    Network Engineer|         2|          RENT|     105000.0|           IL|          601xx|            USA|    C|       C3|    Source Verified|                50260.0|      Individual|              null|                     null|     2000.0|       2000.0|              3|        15.02|              69.36|  Oct-2018|    Current|             other|                  227.25|                 116.21|                    0.0|         Apr-2019|         Apr-2019|          0|        0.0|                    66|      0|                   0|             0|\n",
       "| 91518424|003d7bee408492f11...|    Flight Attendant|        10|          RENT|      75000.0|           AZ|          852xx|            USA|    A|       A5|       Not Verified|               166387.0|      Individual|              null|                     null|    10000.0|      10000.0|              3|         7.99|             313.32|  Oct-2016|    Current|             other|                 7864.12|                1213.28|                    0.0|         Apr-2019|         Apr-2019|       null|       null|                  null|      0|                   0|             0|\n",
       "|116883875|003e1e6cbd2920bbb...|Operations Superv...|         9|      MORTGAGE|      92000.0|           LA|          705xx|            USA|    A|       A5|    Source Verified|               375806.0|      Individual|              null|                     null|    10000.0|      10000.0|              3|         7.97|             313.23|  Aug-2017|    Current|debt_consolidation|                 4980.61|                 970.21|                    0.0|         Apr-2019|         Apr-2019|          1|        0.0|                    23|      1|                   1|             0|\n",
       "| 10616863|004017b21bd4d6271...|Regional Rehab Di...|         9|      MORTGAGE|     113000.0|           NC|          276xx|            USA|    C|       C1|       Not Verified|               120587.0|      Individual|              null|                     null|     3000.0|       3000.0|              3|        13.98|             102.51|  Jan-2014| Fully Paid|debt_consolidation|                  3000.0|                 685.71|                   15.0|             null|             null|          6|        0.0|                     9|      0|                   0|             0|\n",
       "| 58882363|004dbe6698f1482be...|     Project Manager|         3|      MORTGAGE|     130000.0|           NY|          109xx|            USA|    D|       D4|           Verified|               317868.0|      Individual|              null|                     null|    35000.0|      35000.0|              3|        17.57|             1257.8|  Sep-2015| Fully Paid|       credit_card|                 35000.0|               10246.49|                    0.0|             null|             null|       null|       null|                  null|      0|                   0|             2|\n",
       "| 27681731|004f73beb41d739e1...|Staff Research As...|         6|          RENT|      60000.0|           CA|          921xx|            USA|    C|       C4|    Source Verified|                92453.0|      Individual|              null|                     null|    15775.0|      15775.0|              5|        14.49|             371.08|  Sep-2014|    Current|debt_consolidation|                13639.96|                6398.36|                    0.0|         Apr-2019|         Apr-2019|       null|       null|                  null|      0|                   0|             0|\n",
       "| 35236401|0059ce602b84a1bdd...|correctional officer|        10|      MORTGAGE|      75000.0|           CA|          933xx|            USA|    D|       D4|           Verified|               130656.0|      Individual|              null|                     null|    31450.0|      31450.0|              3|        17.14|            1123.48|  Dec-2014| Fully Paid|debt_consolidation|                 31450.0|                8693.53|                    0.0|             null|             null|       null|       null|                  null|      0|                   0|             1|\n",
       "| 83648322|005b4c3db3fce07dc...|      office manager|         9|      MORTGAGE|      61000.0|           FL|          334xx|            USA|    B|       B5|    Source Verified|                28386.0|      Individual|              null|                     null|     6000.0|       6000.0|              3|        11.49|             197.83|  Jun-2016|    Current|       credit_card|                  5417.8|                1102.93|                    0.0|         Apr-2019|         Apr-2019|          1|        0.0|                    18|      1|                   0|             1|\n",
       "| 60615493|005d5e3c98a159671...|    Staff Accountant|         5|          RENT|      57000.0|           NY|          113xx|            USA|    C|       C5|    Source Verified|                48811.0|      Individual|              null|                     null|     9000.0|       9000.0|              3|        14.65|             310.45|  Sep-2015| Fully Paid|       credit_card|                  9000.0|                 440.68|                    0.0|             null|             null|       null|       null|                  null|      0|                   0|             0|\n",
       "| 15650801|005daa54678e6fdfe...|     Account Manager|         1|      MORTGAGE|     105000.0|           TX|          761xx|            USA|    B|       B5|       Not Verified|               197073.0|      Individual|              null|                     null|    10000.0|      10000.0|              3|        12.99|              336.9|  May-2014|Charged Off|debt_consolidation|                 1900.02|                 795.18|                    0.0|             null|             null|       null|       null|                  null|      0|                   0|             2|\n",
       "| 55452248|0061cd647ed984d65...|Interview Specialist|        10|      MORTGAGE|      34944.0|           FL|          334xx|            USA|    D|       D2|           Verified|               208930.0|      Individual|              null|                     null|     8900.0|       8900.0|              3|        16.55|             315.32|  Jul-2015| Fully Paid|debt_consolidation|                  8900.0|                1772.08|                    0.0|             null|             null|       null|       null|                  null|      0|                   0|             0|\n",
       "| 51646280|0068aeffe996677c2...|             Partner|        10|      MORTGAGE|     120000.0|           AK|          998xx|            USA|    D|       D1|       Not Verified|               719758.0|      Individual|              null|                     null|    20000.0|      20000.0|              3|        15.61|              699.3|  Jun-2015| Fully Paid|  home_improvement|                 20000.0|                5157.27|                    0.0|             null|             null|       null|       null|                  null|      0|                   0|             2|\n",
       "| 49954749|00710707c563c2119...|               owner|         3|      MORTGAGE|     109000.0|           FL|          324xx|            USA|    B|       B5|    Source Verified|               356897.0|      Individual|              null|                     null|    15000.0|      15000.0|              3|        11.53|             494.86|  Jun-2015| Fully Paid|debt_consolidation|                 15000.0|                2595.47|                    0.0|             null|             null|          1|        0.0|                     8|      0|                   0|             0|\n",
       "+---------+--------------------+--------------------+----------+--------------+-------------+-------------+---------------+---------------+-----+---------+-------------------+-----------------------+----------------+------------------+-------------------------+-----------+-------------+---------------+-------------+-------------------+----------+-----------+------------------+------------------------+-----------------------+-----------------------+-----------------+-----------------+-----------+-----------+----------------------+-------+--------------------+--------------+\n",
       "only showing top 20 rows"
      ]
     },
     "execution_count": 12,
     "metadata": {},
     "output_type": "execute_result"
    }
   ],
   "source": [
    "spark.sql(\"select * from itv008542_lending_club.customers_loan_t\")"
   ]
  },
  {
   "cell_type": "code",
   "execution_count": 0,
   "metadata": {
    "application/vnd.databricks.v1+cell": {
     "cellMetadata": {},
     "inputWidgets": {},
     "nuid": "716aa78f-ba81-472a-840d-4cd3bdd686b5",
     "showTitle": false,
     "title": ""
    }
   },
   "outputs": [
    {
     "output_type": "stream",
     "name": "stdout",
     "output_type": "stream",
     "text": [
      "Found 8 items\ndrwxr-xr-x   - itv008542 supergroup          0 2024-01-28 04:53 /user/itv008542/warehouse/assignments_hotel_usecase.db\ndrwxr-xr-x   - itv008542 supergroup          0 2024-01-27 11:55 /user/itv008542/warehouse/cust_transaction_db.db\ndrwxr-xr-x   - itv008542 supergroup          0 2023-10-23 05:06 /user/itv008542/warehouse/itv008542_bucketingdb.db\ndrwxr-xr-x   - itv008542 supergroup          0 2023-10-16 03:41 /user/itv008542/warehouse/itv008542_cachingdemo_db.db\ndrwxr-xr-x   - itv008542 supergroup          0 2024-01-25 10:52 /user/itv008542/warehouse/itv008542_cachingdemo_db_ext.db\ndrwxr-xr-x   - itv008542 supergroup          0 2024-02-08 02:02 /user/itv008542/warehouse/itv008542_lending_club.db\ndrwxr-xr-x   - itv008542 supergroup          0 2023-11-25 03:18 /user/itv008542/warehouse/itv008542_optimizejoin.db\ndrwxr-xr-x   - itv008542 supergroup          0 2024-01-20 11:04 /user/itv008542/warehouse/itv008542_retail.db\n"
     ]
    }
   ],
   "source": [
    "! hadoop fs -ls /user/itv008542/warehouse"
   ]
  },
  {
   "cell_type": "code",
   "execution_count": 0,
   "metadata": {
    "application/vnd.databricks.v1+cell": {
     "cellMetadata": {},
     "inputWidgets": {},
     "nuid": "0d055553-a356-438e-b9ae-83c4d62be759",
     "showTitle": false,
     "title": ""
    }
   },
   "outputs": [
    {
     "output_type": "stream",
     "name": "stdout",
     "output_type": "stream",
     "text": [
      "Found 1 items\ndrwxr-xr-x   - itv008542 supergroup          0 2024-02-08 02:04 /user/itv008542/warehouse/itv008542_lending_club.db/customers_loan_t\n"
     ]
    }
   ],
   "source": [
    "! hadoop fs -ls /user/itv008542/warehouse/itv008542_lending_club.db"
   ]
  },
  {
   "cell_type": "code",
   "execution_count": 0,
   "metadata": {
    "application/vnd.databricks.v1+cell": {
     "cellMetadata": {},
     "inputWidgets": {},
     "nuid": "a24293d9-77bf-48a9-a0e8-91d1a3078056",
     "showTitle": false,
     "title": ""
    }
   },
   "outputs": [
    {
     "output_type": "stream",
     "name": "stdout",
     "output_type": "stream",
     "text": [
      "Found 200 items\n-rwxr-xr-x   3 itv008542 supergroup    3088103 2024-02-08 02:03 /user/itv008542/warehouse/itv008542_lending_club.db/customers_loan_t/part-00000-7f3c5175-85b0-4f6b-8115-6e7e5807419a-c000\n-rwxr-xr-x   3 itv008542 supergroup    3184150 2024-02-08 02:03 /user/itv008542/warehouse/itv008542_lending_club.db/customers_loan_t/part-00001-7f3c5175-85b0-4f6b-8115-6e7e5807419a-c000\n-rwxr-xr-x   3 itv008542 supergroup    3180029 2024-02-08 02:03 /user/itv008542/warehouse/itv008542_lending_club.db/customers_loan_t/part-00002-7f3c5175-85b0-4f6b-8115-6e7e5807419a-c000\n-rwxr-xr-x   3 itv008542 supergroup    3147046 2024-02-08 02:03 /user/itv008542/warehouse/itv008542_lending_club.db/customers_loan_t/part-00003-7f3c5175-85b0-4f6b-8115-6e7e5807419a-c000\n-rwxr-xr-x   3 itv008542 supergroup    3122171 2024-02-08 02:03 /user/itv008542/warehouse/itv008542_lending_club.db/customers_loan_t/part-00004-7f3c5175-85b0-4f6b-8115-6e7e5807419a-c000\n-rwxr-xr-x   3 itv008542 supergroup    3169552 2024-02-08 02:03 /user/itv008542/warehouse/itv008542_lending_club.db/customers_loan_t/part-00005-7f3c5175-85b0-4f6b-8115-6e7e5807419a-c000\n-rwxr-xr-x   3 itv008542 supergroup    3163928 2024-02-08 02:03 /user/itv008542/warehouse/itv008542_lending_club.db/customers_loan_t/part-00006-7f3c5175-85b0-4f6b-8115-6e7e5807419a-c000\n-rwxr-xr-x   3 itv008542 supergroup    3156708 2024-02-08 02:03 /user/itv008542/warehouse/itv008542_lending_club.db/customers_loan_t/part-00007-7f3c5175-85b0-4f6b-8115-6e7e5807419a-c000\n-rwxr-xr-x   3 itv008542 supergroup    3142868 2024-02-08 02:03 /user/itv008542/warehouse/itv008542_lending_club.db/customers_loan_t/part-00008-7f3c5175-85b0-4f6b-8115-6e7e5807419a-c000\n-rwxr-xr-x   3 itv008542 supergroup    3129396 2024-02-08 02:03 /user/itv008542/warehouse/itv008542_lending_club.db/customers_loan_t/part-00009-7f3c5175-85b0-4f6b-8115-6e7e5807419a-c000\n-rwxr-xr-x   3 itv008542 supergroup    3077986 2024-02-08 02:03 /user/itv008542/warehouse/itv008542_lending_club.db/customers_loan_t/part-00010-7f3c5175-85b0-4f6b-8115-6e7e5807419a-c000\n-rwxr-xr-x   3 itv008542 supergroup    3132700 2024-02-08 02:03 /user/itv008542/warehouse/itv008542_lending_club.db/customers_loan_t/part-00011-7f3c5175-85b0-4f6b-8115-6e7e5807419a-c000\n-rwxr-xr-x   3 itv008542 supergroup    3117644 2024-02-08 02:03 /user/itv008542/warehouse/itv008542_lending_club.db/customers_loan_t/part-00012-7f3c5175-85b0-4f6b-8115-6e7e5807419a-c000\n-rwxr-xr-x   3 itv008542 supergroup    3181700 2024-02-08 02:03 /user/itv008542/warehouse/itv008542_lending_club.db/customers_loan_t/part-00013-7f3c5175-85b0-4f6b-8115-6e7e5807419a-c000\n-rwxr-xr-x   3 itv008542 supergroup    3228370 2024-02-08 02:03 /user/itv008542/warehouse/itv008542_lending_club.db/customers_loan_t/part-00014-7f3c5175-85b0-4f6b-8115-6e7e5807419a-c000\n-rwxr-xr-x   3 itv008542 supergroup    3115002 2024-02-08 02:03 /user/itv008542/warehouse/itv008542_lending_club.db/customers_loan_t/part-00015-7f3c5175-85b0-4f6b-8115-6e7e5807419a-c000\n-rwxr-xr-x   3 itv008542 supergroup    3131539 2024-02-08 02:03 /user/itv008542/warehouse/itv008542_lending_club.db/customers_loan_t/part-00016-7f3c5175-85b0-4f6b-8115-6e7e5807419a-c000\n-rwxr-xr-x   3 itv008542 supergroup    3213685 2024-02-08 02:03 /user/itv008542/warehouse/itv008542_lending_club.db/customers_loan_t/part-00017-7f3c5175-85b0-4f6b-8115-6e7e5807419a-c000\n-rwxr-xr-x   3 itv008542 supergroup    3148444 2024-02-08 02:03 /user/itv008542/warehouse/itv008542_lending_club.db/customers_loan_t/part-00018-7f3c5175-85b0-4f6b-8115-6e7e5807419a-c000\n-rwxr-xr-x   3 itv008542 supergroup    3190268 2024-02-08 02:03 /user/itv008542/warehouse/itv008542_lending_club.db/customers_loan_t/part-00019-7f3c5175-85b0-4f6b-8115-6e7e5807419a-c000\n-rwxr-xr-x   3 itv008542 supergroup    3176185 2024-02-08 02:03 /user/itv008542/warehouse/itv008542_lending_club.db/customers_loan_t/part-00020-7f3c5175-85b0-4f6b-8115-6e7e5807419a-c000\n-rwxr-xr-x   3 itv008542 supergroup    3140213 2024-02-08 02:03 /user/itv008542/warehouse/itv008542_lending_club.db/customers_loan_t/part-00021-7f3c5175-85b0-4f6b-8115-6e7e5807419a-c000\n-rwxr-xr-x   3 itv008542 supergroup    3188522 2024-02-08 02:03 /user/itv008542/warehouse/itv008542_lending_club.db/customers_loan_t/part-00022-7f3c5175-85b0-4f6b-8115-6e7e5807419a-c000\n-rwxr-xr-x   3 itv008542 supergroup    3125992 2024-02-08 02:03 /user/itv008542/warehouse/itv008542_lending_club.db/customers_loan_t/part-00023-7f3c5175-85b0-4f6b-8115-6e7e5807419a-c000\n-rwxr-xr-x   3 itv008542 supergroup    3067867 2024-02-08 02:03 /user/itv008542/warehouse/itv008542_lending_club.db/customers_loan_t/part-00024-7f3c5175-85b0-4f6b-8115-6e7e5807419a-c000\n-rwxr-xr-x   3 itv008542 supergroup    3159871 2024-02-08 02:03 /user/itv008542/warehouse/itv008542_lending_club.db/customers_loan_t/part-00025-7f3c5175-85b0-4f6b-8115-6e7e5807419a-c000\n-rwxr-xr-x   3 itv008542 supergroup    3170103 2024-02-08 02:03 /user/itv008542/warehouse/itv008542_lending_club.db/customers_loan_t/part-00026-7f3c5175-85b0-4f6b-8115-6e7e5807419a-c000\n-rwxr-xr-x   3 itv008542 supergroup    3124422 2024-02-08 02:03 /user/itv008542/warehouse/itv008542_lending_club.db/customers_loan_t/part-00027-7f3c5175-85b0-4f6b-8115-6e7e5807419a-c000\n-rwxr-xr-x   3 itv008542 supergroup    3103301 2024-02-08 02:03 /user/itv008542/warehouse/itv008542_lending_club.db/customers_loan_t/part-00028-7f3c5175-85b0-4f6b-8115-6e7e5807419a-c000\n-rwxr-xr-x   3 itv008542 supergroup    3166415 2024-02-08 02:03 /user/itv008542/warehouse/itv008542_lending_club.db/customers_loan_t/part-00029-7f3c5175-85b0-4f6b-8115-6e7e5807419a-c000\n-rwxr-xr-x   3 itv008542 supergroup    3118654 2024-02-08 02:03 /user/itv008542/warehouse/itv008542_lending_club.db/customers_loan_t/part-00030-7f3c5175-85b0-4f6b-8115-6e7e5807419a-c000\n-rwxr-xr-x   3 itv008542 supergroup    3135813 2024-02-08 02:03 /user/itv008542/warehouse/itv008542_lending_club.db/customers_loan_t/part-00031-7f3c5175-85b0-4f6b-8115-6e7e5807419a-c000\n-rwxr-xr-x   3 itv008542 supergroup    3138814 2024-02-08 02:03 /user/itv008542/warehouse/itv008542_lending_club.db/customers_loan_t/part-00032-7f3c5175-85b0-4f6b-8115-6e7e5807419a-c000\n-rwxr-xr-x   3 itv008542 supergroup    3219061 2024-02-08 02:03 /user/itv008542/warehouse/itv008542_lending_club.db/customers_loan_t/part-00033-7f3c5175-85b0-4f6b-8115-6e7e5807419a-c000\n-rwxr-xr-x   3 itv008542 supergroup    3139178 2024-02-08 02:03 /user/itv008542/warehouse/itv008542_lending_club.db/customers_loan_t/part-00034-7f3c5175-85b0-4f6b-8115-6e7e5807419a-c000\n-rwxr-xr-x   3 itv008542 supergroup    3154125 2024-02-08 02:03 /user/itv008542/warehouse/itv008542_lending_club.db/customers_loan_t/part-00035-7f3c5175-85b0-4f6b-8115-6e7e5807419a-c000\n-rwxr-xr-x   3 itv008542 supergroup    3138869 2024-02-08 02:03 /user/itv008542/warehouse/itv008542_lending_club.db/customers_loan_t/part-00036-7f3c5175-85b0-4f6b-8115-6e7e5807419a-c000\n-rwxr-xr-x   3 itv008542 supergroup    3088585 2024-02-08 02:03 /user/itv008542/warehouse/itv008542_lending_club.db/customers_loan_t/part-00037-7f3c5175-85b0-4f6b-8115-6e7e5807419a-c000\n-rwxr-xr-x   3 itv008542 supergroup    3113655 2024-02-08 02:03 /user/itv008542/warehouse/itv008542_lending_club.db/customers_loan_t/part-00038-7f3c5175-85b0-4f6b-8115-6e7e5807419a-c000\n-rwxr-xr-x   3 itv008542 supergroup    3070681 2024-02-08 02:03 /user/itv008542/warehouse/itv008542_lending_club.db/customers_loan_t/part-00039-7f3c5175-85b0-4f6b-8115-6e7e5807419a-c000\n-rwxr-xr-x   3 itv008542 supergroup    3186688 2024-02-08 02:03 /user/itv008542/warehouse/itv008542_lending_club.db/customers_loan_t/part-00040-7f3c5175-85b0-4f6b-8115-6e7e5807419a-c000\n-rwxr-xr-x   3 itv008542 supergroup    3183836 2024-02-08 02:03 /user/itv008542/warehouse/itv008542_lending_club.db/customers_loan_t/part-00041-7f3c5175-85b0-4f6b-8115-6e7e5807419a-c000\n-rwxr-xr-x   3 itv008542 supergroup    3122180 2024-02-08 02:03 /user/itv008542/warehouse/itv008542_lending_club.db/customers_loan_t/part-00042-7f3c5175-85b0-4f6b-8115-6e7e5807419a-c000\n-rwxr-xr-x   3 itv008542 supergroup    3102010 2024-02-08 02:03 /user/itv008542/warehouse/itv008542_lending_club.db/customers_loan_t/part-00043-7f3c5175-85b0-4f6b-8115-6e7e5807419a-c000\n-rwxr-xr-x   3 itv008542 supergroup    3173730 2024-02-08 02:03 /user/itv008542/warehouse/itv008542_lending_club.db/customers_loan_t/part-00044-7f3c5175-85b0-4f6b-8115-6e7e5807419a-c000\n-rwxr-xr-x   3 itv008542 supergroup    3107245 2024-02-08 02:03 /user/itv008542/warehouse/itv008542_lending_club.db/customers_loan_t/part-00045-7f3c5175-85b0-4f6b-8115-6e7e5807419a-c000\n-rwxr-xr-x   3 itv008542 supergroup    3108186 2024-02-08 02:03 /user/itv008542/warehouse/itv008542_lending_club.db/customers_loan_t/part-00046-7f3c5175-85b0-4f6b-8115-6e7e5807419a-c000\n-rwxr-xr-x   3 itv008542 supergroup    3112651 2024-02-08 02:03 /user/itv008542/warehouse/itv008542_lending_club.db/customers_loan_t/part-00047-7f3c5175-85b0-4f6b-8115-6e7e5807419a-c000\n-rwxr-xr-x   3 itv008542 supergroup    3162787 2024-02-08 02:03 /user/itv008542/warehouse/itv008542_lending_club.db/customers_loan_t/part-00048-7f3c5175-85b0-4f6b-8115-6e7e5807419a-c000\n-rwxr-xr-x   3 itv008542 supergroup    3147014 2024-02-08 02:03 /user/itv008542/warehouse/itv008542_lending_club.db/customers_loan_t/part-00049-7f3c5175-85b0-4f6b-8115-6e7e5807419a-c000\n-rwxr-xr-x   3 itv008542 supergroup    3088660 2024-02-08 02:03 /user/itv008542/warehouse/itv008542_lending_club.db/customers_loan_t/part-00050-7f3c5175-85b0-4f6b-8115-6e7e5807419a-c000\n-rwxr-xr-x   3 itv008542 supergroup    3156535 2024-02-08 02:03 /user/itv008542/warehouse/itv008542_lending_club.db/customers_loan_t/part-00051-7f3c5175-85b0-4f6b-8115-6e7e5807419a-c000\n-rwxr-xr-x   3 itv008542 supergroup    3162922 2024-02-08 02:03 /user/itv008542/warehouse/itv008542_lending_club.db/customers_loan_t/part-00052-7f3c5175-85b0-4f6b-8115-6e7e5807419a-c000\n-rwxr-xr-x   3 itv008542 supergroup    3124177 2024-02-08 02:03 /user/itv008542/warehouse/itv008542_lending_club.db/customers_loan_t/part-00053-7f3c5175-85b0-4f6b-8115-6e7e5807419a-c000\n-rwxr-xr-x   3 itv008542 supergroup    3114808 2024-02-08 02:03 /user/itv008542/warehouse/itv008542_lending_club.db/customers_loan_t/part-00054-7f3c5175-85b0-4f6b-8115-6e7e5807419a-c000\n-rwxr-xr-x   3 itv008542 supergroup    3161611 2024-02-08 02:03 /user/itv008542/warehouse/itv008542_lending_club.db/customers_loan_t/part-00055-7f3c5175-85b0-4f6b-8115-6e7e5807419a-c000\n-rwxr-xr-x   3 itv008542 supergroup    3115667 2024-02-08 02:03 /user/itv008542/warehouse/itv008542_lending_club.db/customers_loan_t/part-00056-7f3c5175-85b0-4f6b-8115-6e7e5807419a-c000\n-rwxr-xr-x   3 itv008542 supergroup    3084234 2024-02-08 02:03 /user/itv008542/warehouse/itv008542_lending_club.db/customers_loan_t/part-00057-7f3c5175-85b0-4f6b-8115-6e7e5807419a-c000\n-rwxr-xr-x   3 itv008542 supergroup    3145203 2024-02-08 02:03 /user/itv008542/warehouse/itv008542_lending_club.db/customers_loan_t/part-00058-7f3c5175-85b0-4f6b-8115-6e7e5807419a-c000\n-rwxr-xr-x   3 itv008542 supergroup    3142697 2024-02-08 02:03 /user/itv008542/warehouse/itv008542_lending_club.db/customers_loan_t/part-00059-7f3c5175-85b0-4f6b-8115-6e7e5807419a-c000\n-rwxr-xr-x   3 itv008542 supergroup    3151743 2024-02-08 02:03 /user/itv008542/warehouse/itv008542_lending_club.db/customers_loan_t/part-00060-7f3c5175-85b0-4f6b-8115-6e7e5807419a-c000\n-rwxr-xr-x   3 itv008542 supergroup    3116171 2024-02-08 02:03 /user/itv008542/warehouse/itv008542_lending_club.db/customers_loan_t/part-00061-7f3c5175-85b0-4f6b-8115-6e7e5807419a-c000\n-rwxr-xr-x   3 itv008542 supergroup    3112774 2024-02-08 02:03 /user/itv008542/warehouse/itv008542_lending_club.db/customers_loan_t/part-00062-7f3c5175-85b0-4f6b-8115-6e7e5807419a-c000\n-rwxr-xr-x   3 itv008542 supergroup    3104110 2024-02-08 02:03 /user/itv008542/warehouse/itv008542_lending_club.db/customers_loan_t/part-00063-7f3c5175-85b0-4f6b-8115-6e7e5807419a-c000\n-rwxr-xr-x   3 itv008542 supergroup    3121914 2024-02-08 02:03 /user/itv008542/warehouse/itv008542_lending_club.db/customers_loan_t/part-00064-7f3c5175-85b0-4f6b-8115-6e7e5807419a-c000\n-rwxr-xr-x   3 itv008542 supergroup    3152614 2024-02-08 02:03 /user/itv008542/warehouse/itv008542_lending_club.db/customers_loan_t/part-00065-7f3c5175-85b0-4f6b-8115-6e7e5807419a-c000\n-rwxr-xr-x   3 itv008542 supergroup    3175739 2024-02-08 02:03 /user/itv008542/warehouse/itv008542_lending_club.db/customers_loan_t/part-00066-7f3c5175-85b0-4f6b-8115-6e7e5807419a-c000\n-rwxr-xr-x   3 itv008542 supergroup    3117362 2024-02-08 02:03 /user/itv008542/warehouse/itv008542_lending_club.db/customers_loan_t/part-00067-7f3c5175-85b0-4f6b-8115-6e7e5807419a-c000\n-rwxr-xr-x   3 itv008542 supergroup    3104191 2024-02-08 02:03 /user/itv008542/warehouse/itv008542_lending_club.db/customers_loan_t/part-00068-7f3c5175-85b0-4f6b-8115-6e7e5807419a-c000\n-rwxr-xr-x   3 itv008542 supergroup    3186584 2024-02-08 02:04 /user/itv008542/warehouse/itv008542_lending_club.db/customers_loan_t/part-00069-7f3c5175-85b0-4f6b-8115-6e7e5807419a-c000\n-rwxr-xr-x   3 itv008542 supergroup    3166551 2024-02-08 02:03 /user/itv008542/warehouse/itv008542_lending_club.db/customers_loan_t/part-00070-7f3c5175-85b0-4f6b-8115-6e7e5807419a-c000\n-rwxr-xr-x   3 itv008542 supergroup    3106832 2024-02-08 02:03 /user/itv008542/warehouse/itv008542_lending_club.db/customers_loan_t/part-00071-7f3c5175-85b0-4f6b-8115-6e7e5807419a-c000\n-rwxr-xr-x   3 itv008542 supergroup    3089061 2024-02-08 02:03 /user/itv008542/warehouse/itv008542_lending_club.db/customers_loan_t/part-00072-7f3c5175-85b0-4f6b-8115-6e7e5807419a-c000\n-rwxr-xr-x   3 itv008542 supergroup    3135635 2024-02-08 02:03 /user/itv008542/warehouse/itv008542_lending_club.db/customers_loan_t/part-00073-7f3c5175-85b0-4f6b-8115-6e7e5807419a-c000\n-rwxr-xr-x   3 itv008542 supergroup    3167149 2024-02-08 02:04 /user/itv008542/warehouse/itv008542_lending_club.db/customers_loan_t/part-00074-7f3c5175-85b0-4f6b-8115-6e7e5807419a-c000\n-rwxr-xr-x   3 itv008542 supergroup    3240260 2024-02-08 02:03 /user/itv008542/warehouse/itv008542_lending_club.db/customers_loan_t/part-00075-7f3c5175-85b0-4f6b-8115-6e7e5807419a-c000\n-rwxr-xr-x   3 itv008542 supergroup    3196031 2024-02-08 02:04 /user/itv008542/warehouse/itv008542_lending_club.db/customers_loan_t/part-00076-7f3c5175-85b0-4f6b-8115-6e7e5807419a-c000\n-rwxr-xr-x   3 itv008542 supergroup    3138443 2024-02-08 02:04 /user/itv008542/warehouse/itv008542_lending_club.db/customers_loan_t/part-00077-7f3c5175-85b0-4f6b-8115-6e7e5807419a-c000\n-rwxr-xr-x   3 itv008542 supergroup    3166504 2024-02-08 02:04 /user/itv008542/warehouse/itv008542_lending_club.db/customers_loan_t/part-00078-7f3c5175-85b0-4f6b-8115-6e7e5807419a-c000\n-rwxr-xr-x   3 itv008542 supergroup    3136043 2024-02-08 02:04 /user/itv008542/warehouse/itv008542_lending_club.db/customers_loan_t/part-00079-7f3c5175-85b0-4f6b-8115-6e7e5807419a-c000\n-rwxr-xr-x   3 itv008542 supergroup    3149045 2024-02-08 02:04 /user/itv008542/warehouse/itv008542_lending_club.db/customers_loan_t/part-00080-7f3c5175-85b0-4f6b-8115-6e7e5807419a-c000\n-rwxr-xr-x   3 itv008542 supergroup    3139264 2024-02-08 02:04 /user/itv008542/warehouse/itv008542_lending_club.db/customers_loan_t/part-00081-7f3c5175-85b0-4f6b-8115-6e7e5807419a-c000\n-rwxr-xr-x   3 itv008542 supergroup    3141974 2024-02-08 02:04 /user/itv008542/warehouse/itv008542_lending_club.db/customers_loan_t/part-00082-7f3c5175-85b0-4f6b-8115-6e7e5807419a-c000\n-rwxr-xr-x   3 itv008542 supergroup    3165660 2024-02-08 02:04 /user/itv008542/warehouse/itv008542_lending_club.db/customers_loan_t/part-00083-7f3c5175-85b0-4f6b-8115-6e7e5807419a-c000\n-rwxr-xr-x   3 itv008542 supergroup    3178609 2024-02-08 02:04 /user/itv008542/warehouse/itv008542_lending_club.db/customers_loan_t/part-00084-7f3c5175-85b0-4f6b-8115-6e7e5807419a-c000\n-rwxr-xr-x   3 itv008542 supergroup    3134184 2024-02-08 02:04 /user/itv008542/warehouse/itv008542_lending_club.db/customers_loan_t/part-00085-7f3c5175-85b0-4f6b-8115-6e7e5807419a-c000\n-rwxr-xr-x   3 itv008542 supergroup    3145173 2024-02-08 02:04 /user/itv008542/warehouse/itv008542_lending_club.db/customers_loan_t/part-00086-7f3c5175-85b0-4f6b-8115-6e7e5807419a-c000\n-rwxr-xr-x   3 itv008542 supergroup    3086997 2024-02-08 02:04 /user/itv008542/warehouse/itv008542_lending_club.db/customers_loan_t/part-00087-7f3c5175-85b0-4f6b-8115-6e7e5807419a-c000\n-rwxr-xr-x   3 itv008542 supergroup    3105916 2024-02-08 02:04 /user/itv008542/warehouse/itv008542_lending_club.db/customers_loan_t/part-00088-7f3c5175-85b0-4f6b-8115-6e7e5807419a-c000\n-rwxr-xr-x   3 itv008542 supergroup    3109251 2024-02-08 02:04 /user/itv008542/warehouse/itv008542_lending_club.db/customers_loan_t/part-00089-7f3c5175-85b0-4f6b-8115-6e7e5807419a-c000\n-rwxr-xr-x   3 itv008542 supergroup    3156965 2024-02-08 02:04 /user/itv008542/warehouse/itv008542_lending_club.db/customers_loan_t/part-00090-7f3c5175-85b0-4f6b-8115-6e7e5807419a-c000\n-rwxr-xr-x   3 itv008542 supergroup    3175324 2024-02-08 02:04 /user/itv008542/warehouse/itv008542_lending_club.db/customers_loan_t/part-00091-7f3c5175-85b0-4f6b-8115-6e7e5807419a-c000\n-rwxr-xr-x   3 itv008542 supergroup    3197429 2024-02-08 02:04 /user/itv008542/warehouse/itv008542_lending_club.db/customers_loan_t/part-00092-7f3c5175-85b0-4f6b-8115-6e7e5807419a-c000\n-rwxr-xr-x   3 itv008542 supergroup    3123014 2024-02-08 02:04 /user/itv008542/warehouse/itv008542_lending_club.db/customers_loan_t/part-00093-7f3c5175-85b0-4f6b-8115-6e7e5807419a-c000\n-rwxr-xr-x   3 itv008542 supergroup    3130838 2024-02-08 02:04 /user/itv008542/warehouse/itv008542_lending_club.db/customers_loan_t/part-00094-7f3c5175-85b0-4f6b-8115-6e7e5807419a-c000\n-rwxr-xr-x   3 itv008542 supergroup    3137396 2024-02-08 02:04 /user/itv008542/warehouse/itv008542_lending_club.db/customers_loan_t/part-00095-7f3c5175-85b0-4f6b-8115-6e7e5807419a-c000\n-rwxr-xr-x   3 itv008542 supergroup    3092620 2024-02-08 02:04 /user/itv008542/warehouse/itv008542_lending_club.db/customers_loan_t/part-00096-7f3c5175-85b0-4f6b-8115-6e7e5807419a-c000\n-rwxr-xr-x   3 itv008542 supergroup    3126887 2024-02-08 02:04 /user/itv008542/warehouse/itv008542_lending_club.db/customers_loan_t/part-00097-7f3c5175-85b0-4f6b-8115-6e7e5807419a-c000\n-rwxr-xr-x   3 itv008542 supergroup    3131250 2024-02-08 02:04 /user/itv008542/warehouse/itv008542_lending_club.db/customers_loan_t/part-00098-7f3c5175-85b0-4f6b-8115-6e7e5807419a-c000\n-rwxr-xr-x   3 itv008542 supergroup    3151856 2024-02-08 02:04 /user/itv008542/warehouse/itv008542_lending_club.db/customers_loan_t/part-00099-7f3c5175-85b0-4f6b-8115-6e7e5807419a-c000\n-rwxr-xr-x   3 itv008542 supergroup    3110217 2024-02-08 02:04 /user/itv008542/warehouse/itv008542_lending_club.db/customers_loan_t/part-00100-7f3c5175-85b0-4f6b-8115-6e7e5807419a-c000\n-rwxr-xr-x   3 itv008542 supergroup    3144783 2024-02-08 02:04 /user/itv008542/warehouse/itv008542_lending_club.db/customers_loan_t/part-00101-7f3c5175-85b0-4f6b-8115-6e7e5807419a-c000\n-rwxr-xr-x   3 itv008542 supergroup    3083771 2024-02-08 02:04 /user/itv008542/warehouse/itv008542_lending_club.db/customers_loan_t/part-00102-7f3c5175-85b0-4f6b-8115-6e7e5807419a-c000\n-rwxr-xr-x   3 itv008542 supergroup    3163847 2024-02-08 02:04 /user/itv008542/warehouse/itv008542_lending_club.db/customers_loan_t/part-00103-7f3c5175-85b0-4f6b-8115-6e7e5807419a-c000\n-rwxr-xr-x   3 itv008542 supergroup    3121139 2024-02-08 02:04 /user/itv008542/warehouse/itv008542_lending_club.db/customers_loan_t/part-00104-7f3c5175-85b0-4f6b-8115-6e7e5807419a-c000\n-rwxr-xr-x   3 itv008542 supergroup    3165306 2024-02-08 02:04 /user/itv008542/warehouse/itv008542_lending_club.db/customers_loan_t/part-00105-7f3c5175-85b0-4f6b-8115-6e7e5807419a-c000\n-rwxr-xr-x   3 itv008542 supergroup    3128205 2024-02-08 02:04 /user/itv008542/warehouse/itv008542_lending_club.db/customers_loan_t/part-00106-7f3c5175-85b0-4f6b-8115-6e7e5807419a-c000\n-rwxr-xr-x   3 itv008542 supergroup    3140563 2024-02-08 02:04 /user/itv008542/warehouse/itv008542_lending_club.db/customers_loan_t/part-00107-7f3c5175-85b0-4f6b-8115-6e7e5807419a-c000\n-rwxr-xr-x   3 itv008542 supergroup    3164405 2024-02-08 02:04 /user/itv008542/warehouse/itv008542_lending_club.db/customers_loan_t/part-00108-7f3c5175-85b0-4f6b-8115-6e7e5807419a-c000\n-rwxr-xr-x   3 itv008542 supergroup    3153190 2024-02-08 02:04 /user/itv008542/warehouse/itv008542_lending_club.db/customers_loan_t/part-00109-7f3c5175-85b0-4f6b-8115-6e7e5807419a-c000\n-rwxr-xr-x   3 itv008542 supergroup    3141023 2024-02-08 02:04 /user/itv008542/warehouse/itv008542_lending_club.db/customers_loan_t/part-00110-7f3c5175-85b0-4f6b-8115-6e7e5807419a-c000\n-rwxr-xr-x   3 itv008542 supergroup    3197114 2024-02-08 02:04 /user/itv008542/warehouse/itv008542_lending_club.db/customers_loan_t/part-00111-7f3c5175-85b0-4f6b-8115-6e7e5807419a-c000\n-rwxr-xr-x   3 itv008542 supergroup    3127731 2024-02-08 02:04 /user/itv008542/warehouse/itv008542_lending_club.db/customers_loan_t/part-00112-7f3c5175-85b0-4f6b-8115-6e7e5807419a-c000\n-rwxr-xr-x   3 itv008542 supergroup    3147102 2024-02-08 02:04 /user/itv008542/warehouse/itv008542_lending_club.db/customers_loan_t/part-00113-7f3c5175-85b0-4f6b-8115-6e7e5807419a-c000\n-rwxr-xr-x   3 itv008542 supergroup    3214312 2024-02-08 02:04 /user/itv008542/warehouse/itv008542_lending_club.db/customers_loan_t/part-00114-7f3c5175-85b0-4f6b-8115-6e7e5807419a-c000\n-rwxr-xr-x   3 itv008542 supergroup    3149458 2024-02-08 02:04 /user/itv008542/warehouse/itv008542_lending_club.db/customers_loan_t/part-00115-7f3c5175-85b0-4f6b-8115-6e7e5807419a-c000\n-rwxr-xr-x   3 itv008542 supergroup    3105929 2024-02-08 02:04 /user/itv008542/warehouse/itv008542_lending_club.db/customers_loan_t/part-00116-7f3c5175-85b0-4f6b-8115-6e7e5807419a-c000\n-rwxr-xr-x   3 itv008542 supergroup    3123949 2024-02-08 02:04 /user/itv008542/warehouse/itv008542_lending_club.db/customers_loan_t/part-00117-7f3c5175-85b0-4f6b-8115-6e7e5807419a-c000\n-rwxr-xr-x   3 itv008542 supergroup    3150213 2024-02-08 02:04 /user/itv008542/warehouse/itv008542_lending_club.db/customers_loan_t/part-00118-7f3c5175-85b0-4f6b-8115-6e7e5807419a-c000\n-rwxr-xr-x   3 itv008542 supergroup    3149363 2024-02-08 02:04 /user/itv008542/warehouse/itv008542_lending_club.db/customers_loan_t/part-00119-7f3c5175-85b0-4f6b-8115-6e7e5807419a-c000\n-rwxr-xr-x   3 itv008542 supergroup    3102087 2024-02-08 02:04 /user/itv008542/warehouse/itv008542_lending_club.db/customers_loan_t/part-00120-7f3c5175-85b0-4f6b-8115-6e7e5807419a-c000\n-rwxr-xr-x   3 itv008542 supergroup    3121867 2024-02-08 02:04 /user/itv008542/warehouse/itv008542_lending_club.db/customers_loan_t/part-00121-7f3c5175-85b0-4f6b-8115-6e7e5807419a-c000\n-rwxr-xr-x   3 itv008542 supergroup    3150591 2024-02-08 02:04 /user/itv008542/warehouse/itv008542_lending_club.db/customers_loan_t/part-00122-7f3c5175-85b0-4f6b-8115-6e7e5807419a-c000\n-rwxr-xr-x   3 itv008542 supergroup    3176458 2024-02-08 02:04 /user/itv008542/warehouse/itv008542_lending_club.db/customers_loan_t/part-00123-7f3c5175-85b0-4f6b-8115-6e7e5807419a-c000\n-rwxr-xr-x   3 itv008542 supergroup    3131837 2024-02-08 02:04 /user/itv008542/warehouse/itv008542_lending_club.db/customers_loan_t/part-00124-7f3c5175-85b0-4f6b-8115-6e7e5807419a-c000\n-rwxr-xr-x   3 itv008542 supergroup    3193388 2024-02-08 02:04 /user/itv008542/warehouse/itv008542_lending_club.db/customers_loan_t/part-00125-7f3c5175-85b0-4f6b-8115-6e7e5807419a-c000\n-rwxr-xr-x   3 itv008542 supergroup    3089356 2024-02-08 02:04 /user/itv008542/warehouse/itv008542_lending_club.db/customers_loan_t/part-00126-7f3c5175-85b0-4f6b-8115-6e7e5807419a-c000\n-rwxr-xr-x   3 itv008542 supergroup    3228400 2024-02-08 02:04 /user/itv008542/warehouse/itv008542_lending_club.db/customers_loan_t/part-00127-7f3c5175-85b0-4f6b-8115-6e7e5807419a-c000\n-rwxr-xr-x   3 itv008542 supergroup    3142394 2024-02-08 02:04 /user/itv008542/warehouse/itv008542_lending_club.db/customers_loan_t/part-00128-7f3c5175-85b0-4f6b-8115-6e7e5807419a-c000\n-rwxr-xr-x   3 itv008542 supergroup    3065375 2024-02-08 02:04 /user/itv008542/warehouse/itv008542_lending_club.db/customers_loan_t/part-00129-7f3c5175-85b0-4f6b-8115-6e7e5807419a-c000\n-rwxr-xr-x   3 itv008542 supergroup    3110588 2024-02-08 02:04 /user/itv008542/warehouse/itv008542_lending_club.db/customers_loan_t/part-00130-7f3c5175-85b0-4f6b-8115-6e7e5807419a-c000\n-rwxr-xr-x   3 itv008542 supergroup    3127247 2024-02-08 02:04 /user/itv008542/warehouse/itv008542_lending_club.db/customers_loan_t/part-00131-7f3c5175-85b0-4f6b-8115-6e7e5807419a-c000\n-rwxr-xr-x   3 itv008542 supergroup    3115964 2024-02-08 02:04 /user/itv008542/warehouse/itv008542_lending_club.db/customers_loan_t/part-00132-7f3c5175-85b0-4f6b-8115-6e7e5807419a-c000\n-rwxr-xr-x   3 itv008542 supergroup    3082988 2024-02-08 02:04 /user/itv008542/warehouse/itv008542_lending_club.db/customers_loan_t/part-00133-7f3c5175-85b0-4f6b-8115-6e7e5807419a-c000\n-rwxr-xr-x   3 itv008542 supergroup    3170179 2024-02-08 02:04 /user/itv008542/warehouse/itv008542_lending_club.db/customers_loan_t/part-00134-7f3c5175-85b0-4f6b-8115-6e7e5807419a-c000\n-rwxr-xr-x   3 itv008542 supergroup    3197800 2024-02-08 02:04 /user/itv008542/warehouse/itv008542_lending_club.db/customers_loan_t/part-00135-7f3c5175-85b0-4f6b-8115-6e7e5807419a-c000\n-rwxr-xr-x   3 itv008542 supergroup    3196613 2024-02-08 02:04 /user/itv008542/warehouse/itv008542_lending_club.db/customers_loan_t/part-00136-7f3c5175-85b0-4f6b-8115-6e7e5807419a-c000\n-rwxr-xr-x   3 itv008542 supergroup    3202248 2024-02-08 02:04 /user/itv008542/warehouse/itv008542_lending_club.db/customers_loan_t/part-00137-7f3c5175-85b0-4f6b-8115-6e7e5807419a-c000\n-rwxr-xr-x   3 itv008542 supergroup    3133165 2024-02-08 02:04 /user/itv008542/warehouse/itv008542_lending_club.db/customers_loan_t/part-00138-7f3c5175-85b0-4f6b-8115-6e7e5807419a-c000\n-rwxr-xr-x   3 itv008542 supergroup    3164083 2024-02-08 02:04 /user/itv008542/warehouse/itv008542_lending_club.db/customers_loan_t/part-00139-7f3c5175-85b0-4f6b-8115-6e7e5807419a-c000\n-rwxr-xr-x   3 itv008542 supergroup    3148544 2024-02-08 02:04 /user/itv008542/warehouse/itv008542_lending_club.db/customers_loan_t/part-00140-7f3c5175-85b0-4f6b-8115-6e7e5807419a-c000\n-rwxr-xr-x   3 itv008542 supergroup    3118326 2024-02-08 02:04 /user/itv008542/warehouse/itv008542_lending_club.db/customers_loan_t/part-00141-7f3c5175-85b0-4f6b-8115-6e7e5807419a-c000\n-rwxr-xr-x   3 itv008542 supergroup    3120983 2024-02-08 02:04 /user/itv008542/warehouse/itv008542_lending_club.db/customers_loan_t/part-00142-7f3c5175-85b0-4f6b-8115-6e7e5807419a-c000\n-rwxr-xr-x   3 itv008542 supergroup    3136622 2024-02-08 02:04 /user/itv008542/warehouse/itv008542_lending_club.db/customers_loan_t/part-00143-7f3c5175-85b0-4f6b-8115-6e7e5807419a-c000\n-rwxr-xr-x   3 itv008542 supergroup    3136983 2024-02-08 02:04 /user/itv008542/warehouse/itv008542_lending_club.db/customers_loan_t/part-00144-7f3c5175-85b0-4f6b-8115-6e7e5807419a-c000\n-rwxr-xr-x   3 itv008542 supergroup    3078338 2024-02-08 02:04 /user/itv008542/warehouse/itv008542_lending_club.db/customers_loan_t/part-00145-7f3c5175-85b0-4f6b-8115-6e7e5807419a-c000\n-rwxr-xr-x   3 itv008542 supergroup    3133054 2024-02-08 02:04 /user/itv008542/warehouse/itv008542_lending_club.db/customers_loan_t/part-00146-7f3c5175-85b0-4f6b-8115-6e7e5807419a-c000\n-rwxr-xr-x   3 itv008542 supergroup    3111252 2024-02-08 02:04 /user/itv008542/warehouse/itv008542_lending_club.db/customers_loan_t/part-00147-7f3c5175-85b0-4f6b-8115-6e7e5807419a-c000\n-rwxr-xr-x   3 itv008542 supergroup    3112819 2024-02-08 02:04 /user/itv008542/warehouse/itv008542_lending_club.db/customers_loan_t/part-00148-7f3c5175-85b0-4f6b-8115-6e7e5807419a-c000\n-rwxr-xr-x   3 itv008542 supergroup    3132038 2024-02-08 02:04 /user/itv008542/warehouse/itv008542_lending_club.db/customers_loan_t/part-00149-7f3c5175-85b0-4f6b-8115-6e7e5807419a-c000\n-rwxr-xr-x   3 itv008542 supergroup    3115871 2024-02-08 02:04 /user/itv008542/warehouse/itv008542_lending_club.db/customers_loan_t/part-00150-7f3c5175-85b0-4f6b-8115-6e7e5807419a-c000\n-rwxr-xr-x   3 itv008542 supergroup    3125791 2024-02-08 02:04 /user/itv008542/warehouse/itv008542_lending_club.db/customers_loan_t/part-00151-7f3c5175-85b0-4f6b-8115-6e7e5807419a-c000\n-rwxr-xr-x   3 itv008542 supergroup    3066515 2024-02-08 02:04 /user/itv008542/warehouse/itv008542_lending_club.db/customers_loan_t/part-00152-7f3c5175-85b0-4f6b-8115-6e7e5807419a-c000\n-rwxr-xr-x   3 itv008542 supergroup    3171904 2024-02-08 02:04 /user/itv008542/warehouse/itv008542_lending_club.db/customers_loan_t/part-00153-7f3c5175-85b0-4f6b-8115-6e7e5807419a-c000\n-rwxr-xr-x   3 itv008542 supergroup    3107523 2024-02-08 02:04 /user/itv008542/warehouse/itv008542_lending_club.db/customers_loan_t/part-00154-7f3c5175-85b0-4f6b-8115-6e7e5807419a-c000\n-rwxr-xr-x   3 itv008542 supergroup    3174413 2024-02-08 02:04 /user/itv008542/warehouse/itv008542_lending_club.db/customers_loan_t/part-00155-7f3c5175-85b0-4f6b-8115-6e7e5807419a-c000\n-rwxr-xr-x   3 itv008542 supergroup    3187577 2024-02-08 02:04 /user/itv008542/warehouse/itv008542_lending_club.db/customers_loan_t/part-00156-7f3c5175-85b0-4f6b-8115-6e7e5807419a-c000\n-rwxr-xr-x   3 itv008542 supergroup    3055711 2024-02-08 02:04 /user/itv008542/warehouse/itv008542_lending_club.db/customers_loan_t/part-00157-7f3c5175-85b0-4f6b-8115-6e7e5807419a-c000\n-rwxr-xr-x   3 itv008542 supergroup    3131569 2024-02-08 02:04 /user/itv008542/warehouse/itv008542_lending_club.db/customers_loan_t/part-00158-7f3c5175-85b0-4f6b-8115-6e7e5807419a-c000\n-rwxr-xr-x   3 itv008542 supergroup    3139643 2024-02-08 02:04 /user/itv008542/warehouse/itv008542_lending_club.db/customers_loan_t/part-00159-7f3c5175-85b0-4f6b-8115-6e7e5807419a-c000\n-rwxr-xr-x   3 itv008542 supergroup    3136569 2024-02-08 02:04 /user/itv008542/warehouse/itv008542_lending_club.db/customers_loan_t/part-00160-7f3c5175-85b0-4f6b-8115-6e7e5807419a-c000\n-rwxr-xr-x   3 itv008542 supergroup    3142050 2024-02-08 02:04 /user/itv008542/warehouse/itv008542_lending_club.db/customers_loan_t/part-00161-7f3c5175-85b0-4f6b-8115-6e7e5807419a-c000\n-rwxr-xr-x   3 itv008542 supergroup    3177672 2024-02-08 02:04 /user/itv008542/warehouse/itv008542_lending_club.db/customers_loan_t/part-00162-7f3c5175-85b0-4f6b-8115-6e7e5807419a-c000\n-rwxr-xr-x   3 itv008542 supergroup    3099905 2024-02-08 02:04 /user/itv008542/warehouse/itv008542_lending_club.db/customers_loan_t/part-00163-7f3c5175-85b0-4f6b-8115-6e7e5807419a-c000\n-rwxr-xr-x   3 itv008542 supergroup    3102022 2024-02-08 02:04 /user/itv008542/warehouse/itv008542_lending_club.db/customers_loan_t/part-00164-7f3c5175-85b0-4f6b-8115-6e7e5807419a-c000\n-rwxr-xr-x   3 itv008542 supergroup    3161386 2024-02-08 02:04 /user/itv008542/warehouse/itv008542_lending_club.db/customers_loan_t/part-00165-7f3c5175-85b0-4f6b-8115-6e7e5807419a-c000\n-rwxr-xr-x   3 itv008542 supergroup    3108667 2024-02-08 02:04 /user/itv008542/warehouse/itv008542_lending_club.db/customers_loan_t/part-00166-7f3c5175-85b0-4f6b-8115-6e7e5807419a-c000\n-rwxr-xr-x   3 itv008542 supergroup    3123415 2024-02-08 02:04 /user/itv008542/warehouse/itv008542_lending_club.db/customers_loan_t/part-00167-7f3c5175-85b0-4f6b-8115-6e7e5807419a-c000\n-rwxr-xr-x   3 itv008542 supergroup    3136616 2024-02-08 02:04 /user/itv008542/warehouse/itv008542_lending_club.db/customers_loan_t/part-00168-7f3c5175-85b0-4f6b-8115-6e7e5807419a-c000\n-rwxr-xr-x   3 itv008542 supergroup    3095594 2024-02-08 02:04 /user/itv008542/warehouse/itv008542_lending_club.db/customers_loan_t/part-00169-7f3c5175-85b0-4f6b-8115-6e7e5807419a-c000\n-rwxr-xr-x   3 itv008542 supergroup    3110071 2024-02-08 02:04 /user/itv008542/warehouse/itv008542_lending_club.db/customers_loan_t/part-00170-7f3c5175-85b0-4f6b-8115-6e7e5807419a-c000\n-rwxr-xr-x   3 itv008542 supergroup    3140955 2024-02-08 02:04 /user/itv008542/warehouse/itv008542_lending_club.db/customers_loan_t/part-00171-7f3c5175-85b0-4f6b-8115-6e7e5807419a-c000\n-rwxr-xr-x   3 itv008542 supergroup    3105291 2024-02-08 02:04 /user/itv008542/warehouse/itv008542_lending_club.db/customers_loan_t/part-00172-7f3c5175-85b0-4f6b-8115-6e7e5807419a-c000\n-rwxr-xr-x   3 itv008542 supergroup    3174232 2024-02-08 02:04 /user/itv008542/warehouse/itv008542_lending_club.db/customers_loan_t/part-00173-7f3c5175-85b0-4f6b-8115-6e7e5807419a-c000\n-rwxr-xr-x   3 itv008542 supergroup    3141918 2024-02-08 02:04 /user/itv008542/warehouse/itv008542_lending_club.db/customers_loan_t/part-00174-7f3c5175-85b0-4f6b-8115-6e7e5807419a-c000\n-rwxr-xr-x   3 itv008542 supergroup    3197899 2024-02-08 02:04 /user/itv008542/warehouse/itv008542_lending_club.db/customers_loan_t/part-00175-7f3c5175-85b0-4f6b-8115-6e7e5807419a-c000\n-rwxr-xr-x   3 itv008542 supergroup    3137047 2024-02-08 02:04 /user/itv008542/warehouse/itv008542_lending_club.db/customers_loan_t/part-00176-7f3c5175-85b0-4f6b-8115-6e7e5807419a-c000\n-rwxr-xr-x   3 itv008542 supergroup    3143715 2024-02-08 02:04 /user/itv008542/warehouse/itv008542_lending_club.db/customers_loan_t/part-00177-7f3c5175-85b0-4f6b-8115-6e7e5807419a-c000\n-rwxr-xr-x   3 itv008542 supergroup    3118689 2024-02-08 02:04 /user/itv008542/warehouse/itv008542_lending_club.db/customers_loan_t/part-00178-7f3c5175-85b0-4f6b-8115-6e7e5807419a-c000\n-rwxr-xr-x   3 itv008542 supergroup    3131451 2024-02-08 02:04 /user/itv008542/warehouse/itv008542_lending_club.db/customers_loan_t/part-00179-7f3c5175-85b0-4f6b-8115-6e7e5807419a-c000\n-rwxr-xr-x   3 itv008542 supergroup    3116646 2024-02-08 02:04 /user/itv008542/warehouse/itv008542_lending_club.db/customers_loan_t/part-00180-7f3c5175-85b0-4f6b-8115-6e7e5807419a-c000\n-rwxr-xr-x   3 itv008542 supergroup    3151308 2024-02-08 02:04 /user/itv008542/warehouse/itv008542_lending_club.db/customers_loan_t/part-00181-7f3c5175-85b0-4f6b-8115-6e7e5807419a-c000\n-rwxr-xr-x   3 itv008542 supergroup    3165853 2024-02-08 02:04 /user/itv008542/warehouse/itv008542_lending_club.db/customers_loan_t/part-00182-7f3c5175-85b0-4f6b-8115-6e7e5807419a-c000\n-rwxr-xr-x   3 itv008542 supergroup    3113790 2024-02-08 02:04 /user/itv008542/warehouse/itv008542_lending_club.db/customers_loan_t/part-00183-7f3c5175-85b0-4f6b-8115-6e7e5807419a-c000\n-rwxr-xr-x   3 itv008542 supergroup    3163218 2024-02-08 02:04 /user/itv008542/warehouse/itv008542_lending_club.db/customers_loan_t/part-00184-7f3c5175-85b0-4f6b-8115-6e7e5807419a-c000\n-rwxr-xr-x   3 itv008542 supergroup    3163150 2024-02-08 02:04 /user/itv008542/warehouse/itv008542_lending_club.db/customers_loan_t/part-00185-7f3c5175-85b0-4f6b-8115-6e7e5807419a-c000\n-rwxr-xr-x   3 itv008542 supergroup    3155110 2024-02-08 02:04 /user/itv008542/warehouse/itv008542_lending_club.db/customers_loan_t/part-00186-7f3c5175-85b0-4f6b-8115-6e7e5807419a-c000\n-rwxr-xr-x   3 itv008542 supergroup    3200762 2024-02-08 02:04 /user/itv008542/warehouse/itv008542_lending_club.db/customers_loan_t/part-00187-7f3c5175-85b0-4f6b-8115-6e7e5807419a-c000\n-rwxr-xr-x   3 itv008542 supergroup    3161915 2024-02-08 02:04 /user/itv008542/warehouse/itv008542_lending_club.db/customers_loan_t/part-00188-7f3c5175-85b0-4f6b-8115-6e7e5807419a-c000\n-rwxr-xr-x   3 itv008542 supergroup    3169663 2024-02-08 02:04 /user/itv008542/warehouse/itv008542_lending_club.db/customers_loan_t/part-00189-7f3c5175-85b0-4f6b-8115-6e7e5807419a-c000\n-rwxr-xr-x   3 itv008542 supergroup    3137460 2024-02-08 02:04 /user/itv008542/warehouse/itv008542_lending_club.db/customers_loan_t/part-00190-7f3c5175-85b0-4f6b-8115-6e7e5807419a-c000\n-rwxr-xr-x   3 itv008542 supergroup    3126691 2024-02-08 02:04 /user/itv008542/warehouse/itv008542_lending_club.db/customers_loan_t/part-00191-7f3c5175-85b0-4f6b-8115-6e7e5807419a-c000\n-rwxr-xr-x   3 itv008542 supergroup    3149491 2024-02-08 02:04 /user/itv008542/warehouse/itv008542_lending_club.db/customers_loan_t/part-00192-7f3c5175-85b0-4f6b-8115-6e7e5807419a-c000\n-rwxr-xr-x   3 itv008542 supergroup    3228944 2024-02-08 02:04 /user/itv008542/warehouse/itv008542_lending_club.db/customers_loan_t/part-00193-7f3c5175-85b0-4f6b-8115-6e7e5807419a-c000\n-rwxr-xr-x   3 itv008542 supergroup    3157099 2024-02-08 02:04 /user/itv008542/warehouse/itv008542_lending_club.db/customers_loan_t/part-00194-7f3c5175-85b0-4f6b-8115-6e7e5807419a-c000\n-rwxr-xr-x   3 itv008542 supergroup    3184929 2024-02-08 02:04 /user/itv008542/warehouse/itv008542_lending_club.db/customers_loan_t/part-00195-7f3c5175-85b0-4f6b-8115-6e7e5807419a-c000\n-rwxr-xr-x   3 itv008542 supergroup    3175517 2024-02-08 02:04 /user/itv008542/warehouse/itv008542_lending_club.db/customers_loan_t/part-00196-7f3c5175-85b0-4f6b-8115-6e7e5807419a-c000\n-rwxr-xr-x   3 itv008542 supergroup    3082404 2024-02-08 02:04 /user/itv008542/warehouse/itv008542_lending_club.db/customers_loan_t/part-00197-7f3c5175-85b0-4f6b-8115-6e7e5807419a-c000\n-rwxr-xr-x   3 itv008542 supergroup    3145446 2024-02-08 02:04 /user/itv008542/warehouse/itv008542_lending_club.db/customers_loan_t/part-00198-7f3c5175-85b0-4f6b-8115-6e7e5807419a-c000\n-rwxr-xr-x   3 itv008542 supergroup    3143815 2024-02-08 02:04 /user/itv008542/warehouse/itv008542_lending_club.db/customers_loan_t/part-00199-7f3c5175-85b0-4f6b-8115-6e7e5807419a-c000\n"
     ]
    }
   ],
   "source": [
    "! hadoop fs -ls /user/itv008542/warehouse/itv008542_lending_club.db/customers_loan_t"
   ]
  },
  {
   "cell_type": "markdown",
   "metadata": {
    "application/vnd.databricks.v1+cell": {
     "cellMetadata": {},
     "inputWidgets": {},
     "nuid": "202279dc-e2aa-4325-b709-2762e54acc41",
     "showTitle": false,
     "title": ""
    }
   },
   "source": [
    "## Identifying the Bad Data - Final cleaning"
   ]
  },
  {
   "cell_type": "markdown",
   "metadata": {
    "application/vnd.databricks.v1+cell": {
     "cellMetadata": {},
     "inputWidgets": {},
     "nuid": "36916092-9664-4c72-a812-c373fd6b97eb",
     "showTitle": false,
     "title": ""
    }
   },
   "source": [
    "\n",
    "## Requirement 4\n",
    "\n",
    "- Calculate the loan score\n",
    "- Higher the loan score, higher the chances of getting your loan approved, and vice versa\n",
    "- 3 Major criteria to calculate loan score -- loan repayment history (last payment, total payment received) - only 20% weight -- loan defaulters history (delinq-delinquet 2 yrs, pub_rec, ub_rec_bankruptcies, inq_last_6mnths) - only 45 % -- financial health data (home_ownership, loan_status, funded amount, grade pts-) - only 35%\n",
    "\n",
    "if our credit limit is 40k, and you just take 2 k loan then this is good.\n",
    "\n",
    "customers - home_ownership, grade, high credit limit\n",
    "\n",
    "loans - monthly installment, loan_status, funded amount\n",
    "\n",
    "loans_repayments - last payment, toal payment received\n",
    "\n",
    "loan_def_delinq - delinq-delinquet 2 yrs\n",
    "\n",
    "loan_def_detail_record_enq - pub_rec, ub_rec_bankruptcies, inq_last_6mnths\n",
    "\n",
    "customers - member id should be unique loan_def_delinq - member id unique loan_def_detail_record_enq - member id unique\n",
    "\n",
    "Bad data should be sent to upstream team, and ask what is valid record\n"
   ]
  },
  {
   "cell_type": "code",
   "execution_count": 0,
   "metadata": {
    "application/vnd.databricks.v1+cell": {
     "cellMetadata": {},
     "inputWidgets": {},
     "nuid": "ec642510-4b11-49fb-922f-36b52465354b",
     "showTitle": false,
     "title": ""
    }
   },
   "outputs": [
    {
     "output_type": "execute_result",
     "data": {
      "text/html": [
       "<table border='1'>\n",
       "<tr><th>member_id</th><th>total</th></tr>\n",
       "<tr><td>e4c167053d5418230...</td><td>5</td></tr>\n",
       "<tr><td>ad8e5d384dae17e06...</td><td>4</td></tr>\n",
       "<tr><td>76b577467eda5bdbc...</td><td>4</td></tr>\n",
       "<tr><td>3f87585a20f702838...</td><td>4</td></tr>\n",
       "<tr><td>819453be77718d747...</td><td>3</td></tr>\n",
       "<tr><td>c92062bb371842b3d...</td><td>3</td></tr>\n",
       "<tr><td>035bf3d8288d803bd...</td><td>3</td></tr>\n",
       "<tr><td>53789bea7edc660ed...</td><td>3</td></tr>\n",
       "<tr><td>291ca1b09ef11ca3e...</td><td>3</td></tr>\n",
       "<tr><td>5d52e7773cb0efff3...</td><td>3</td></tr>\n",
       "<tr><td>d3731bad3e6a82515...</td><td>3</td></tr>\n",
       "<tr><td>22593a1870543b2db...</td><td>3</td></tr>\n",
       "<tr><td>3ae415acd6bbfaac1...</td><td>3</td></tr>\n",
       "<tr><td>e7d8d16928817ec8f...</td><td>3</td></tr>\n",
       "<tr><td>498bb6b1f0099cb47...</td><td>3</td></tr>\n",
       "<tr><td>a2356725aa9da92c6...</td><td>3</td></tr>\n",
       "<tr><td>4ab6205de571ccb7b...</td><td>3</td></tr>\n",
       "<tr><td>c563428cb58da48ff...</td><td>3</td></tr>\n",
       "<tr><td>066ddaa64bee66dff...</td><td>3</td></tr>\n",
       "<tr><td>059d401bb603d9a80...</td><td>3</td></tr>\n",
       "</table>\n",
       "only showing top 20 rows\n"
      ],
      "text/plain": [
       "+--------------------+-----+\n",
       "|           member_id|total|\n",
       "+--------------------+-----+\n",
       "|e4c167053d5418230...|    5|\n",
       "|76b577467eda5bdbc...|    4|\n",
       "|3f87585a20f702838...|    4|\n",
       "|ad8e5d384dae17e06...|    4|\n",
       "|819453be77718d747...|    3|\n",
       "|c92062bb371842b3d...|    3|\n",
       "|035bf3d8288d803bd...|    3|\n",
       "|22593a1870543b2db...|    3|\n",
       "|291ca1b09ef11ca3e...|    3|\n",
       "|5d52e7773cb0efff3...|    3|\n",
       "|c563428cb58da48ff...|    3|\n",
       "|53789bea7edc660ed...|    3|\n",
       "|3ae415acd6bbfaac1...|    3|\n",
       "|f54295a60946dedad...|    3|\n",
       "|e7d8d16928817ec8f...|    3|\n",
       "|a2356725aa9da92c6...|    3|\n",
       "|498bb6b1f0099cb47...|    3|\n",
       "|4ab6205de571ccb7b...|    3|\n",
       "|d3731bad3e6a82515...|    3|\n",
       "|066ddaa64bee66dff...|    3|\n",
       "+--------------------+-----+\n",
       "only showing top 20 rows"
      ]
     },
     "execution_count": 3,
     "metadata": {},
     "output_type": "execute_result"
    }
   ],
   "source": [
    "# Checking number of records per customer\n",
    "spark.sql(\"\"\"select member_id, count(*) as total from itv008542_lending_club.customers\n",
    "group by member_id order by total desc \"\"\")"
   ]
  },
  {
   "cell_type": "code",
   "execution_count": 0,
   "metadata": {
    "application/vnd.databricks.v1+cell": {
     "cellMetadata": {},
     "inputWidgets": {},
     "nuid": "f88220ba-3f01-4857-84f6-87afc0e77118",
     "showTitle": false,
     "title": ""
    }
   },
   "outputs": [
    {
     "output_type": "execute_result",
     "data": {
      "text/html": [
       "<table border='1'>\n",
       "<tr><th>member_id</th><th>emp_title</th><th>emp_length</th><th>home_ownership</th><th>annual_income</th><th>address_state</th><th>address_zipcode</th><th>address_country</th><th>grade</th><th>sub_grade</th><th>verification_status</th><th>total_high_credit_limit</th><th>application_type</th><th>join_annual_income</th><th>verification_status_joint</th><th>ingest_date</th></tr>\n",
       "<tr><td>e4c167053d5418230...</td><td>null</td><td>6</td><td>MORTGAGE</td><td>55000.0</td><td>IL</td><td>604xx</td><td>USA</td><td>B</td><td>B5</td><td>Verified</td><td>171165.0</td><td>Individual</td><td>null</td><td>null</td><td>2024-02-07 02:40:...</td></tr>\n",
       "<tr><td>e4c167053d5418230...</td><td>null</td><td>6</td><td>MORTGAGE</td><td>55000.0</td><td>IL</td><td>604xx</td><td>USA</td><td>B</td><td>B5</td><td>Verified</td><td>129833.0</td><td>Individual</td><td>null</td><td>null</td><td>2024-02-07 02:40:...</td></tr>\n",
       "<tr><td>e4c167053d5418230...</td><td>null</td><td>6</td><td>MORTGAGE</td><td>55000.0</td><td>IL</td><td>604xx</td><td>USA</td><td>B</td><td>B5</td><td>Verified</td><td>207300.0</td><td>Individual</td><td>null</td><td>null</td><td>2024-02-07 02:40:...</td></tr>\n",
       "<tr><td>e4c167053d5418230...</td><td>null</td><td>6</td><td>MORTGAGE</td><td>55000.0</td><td>IL</td><td>604xx</td><td>USA</td><td>B</td><td>B5</td><td>Verified</td><td>110907.0</td><td>Individual</td><td>null</td><td>null</td><td>2024-02-07 02:40:...</td></tr>\n",
       "<tr><td>e4c167053d5418230...</td><td>null</td><td>6</td><td>MORTGAGE</td><td>55000.0</td><td>IL</td><td>604xx</td><td>USA</td><td>B</td><td>B5</td><td>Verified</td><td>138780.0</td><td>Individual</td><td>null</td><td>null</td><td>2024-02-07 02:40:...</td></tr>\n",
       "</table>\n"
      ],
      "text/plain": [
       "+--------------------+---------+----------+--------------+-------------+-------------+---------------+---------------+-----+---------+-------------------+-----------------------+----------------+------------------+-------------------------+--------------------+\n",
       "|           member_id|emp_title|emp_length|home_ownership|annual_income|address_state|address_zipcode|address_country|grade|sub_grade|verification_status|total_high_credit_limit|application_type|join_annual_income|verification_status_joint|         ingest_date|\n",
       "+--------------------+---------+----------+--------------+-------------+-------------+---------------+---------------+-----+---------+-------------------+-----------------------+----------------+------------------+-------------------------+--------------------+\n",
       "|e4c167053d5418230...|     null|         6|      MORTGAGE|      55000.0|           IL|          604xx|            USA|    B|       B5|           Verified|               171165.0|      Individual|              null|                     null|2024-02-07 02:40:...|\n",
       "|e4c167053d5418230...|     null|         6|      MORTGAGE|      55000.0|           IL|          604xx|            USA|    B|       B5|           Verified|               129833.0|      Individual|              null|                     null|2024-02-07 02:40:...|\n",
       "|e4c167053d5418230...|     null|         6|      MORTGAGE|      55000.0|           IL|          604xx|            USA|    B|       B5|           Verified|               207300.0|      Individual|              null|                     null|2024-02-07 02:40:...|\n",
       "|e4c167053d5418230...|     null|         6|      MORTGAGE|      55000.0|           IL|          604xx|            USA|    B|       B5|           Verified|               110907.0|      Individual|              null|                     null|2024-02-07 02:40:...|\n",
       "|e4c167053d5418230...|     null|         6|      MORTGAGE|      55000.0|           IL|          604xx|            USA|    B|       B5|           Verified|               138780.0|      Individual|              null|                     null|2024-02-07 02:40:...|\n",
       "+--------------------+---------+----------+--------------+-------------+-------------+---------------+---------------+-----+---------+-------------------+-----------------------+----------------+------------------+-------------------------+--------------------+"
      ]
     },
     "execution_count": 4,
     "metadata": {},
     "output_type": "execute_result"
    }
   ],
   "source": [
    "spark.sql(\"\"\"select * from itv008542_lending_club.customers \n",
    "where member_id like 'e4c167053d5418230%'\"\"\")"
   ]
  },
  {
   "cell_type": "markdown",
   "metadata": {
    "application/vnd.databricks.v1+cell": {
     "cellMetadata": {},
     "inputWidgets": {},
     "nuid": "cd546464-b098-4bef-8efb-595130a55972",
     "showTitle": false,
     "title": ""
    }
   },
   "source": [
    "In the above data, we can see that for a single member there are different records. As a developer we would not know which record to keep, so we need to compile such records and send it to our clients/upstream teams for further analysis"
   ]
  },
  {
   "cell_type": "code",
   "execution_count": 0,
   "metadata": {
    "application/vnd.databricks.v1+cell": {
     "cellMetadata": {},
     "inputWidgets": {},
     "nuid": "b64d7d42-24b4-44c7-856c-896656d30e0f",
     "showTitle": false,
     "title": ""
    }
   },
   "outputs": [
    {
     "output_type": "stream",
     "name": "stdout",
     "output_type": "stream",
     "text": [
      "+----------------------+-------------------------------+-----------+\n|database              |tableName                      |isTemporary|\n+----------------------+-------------------------------+-----------+\n|itv008542_lending_club|customers                      |false      |\n|itv008542_lending_club|customers_loan_t               |false      |\n|itv008542_lending_club|customers_loan_v               |false      |\n|itv008542_lending_club|loans                          |false      |\n|itv008542_lending_club|loans_defaulters_delinq        |false      |\n|itv008542_lending_club|loans_defaulters_detail_rec_enq|false      |\n|itv008542_lending_club|loans_repayments               |false      |\n+----------------------+-------------------------------+-----------+\n\n"
     ]
    }
   ],
   "source": [
    "spark.sql(\"use itv008542_lending_club\")\n",
    "spark.sql(\"show tables\").show(truncate=False)"
   ]
  },
  {
   "cell_type": "code",
   "execution_count": 0,
   "metadata": {
    "application/vnd.databricks.v1+cell": {
     "cellMetadata": {},
     "inputWidgets": {},
     "nuid": "6db3467f-d0a3-40c2-a48a-abea75555043",
     "showTitle": false,
     "title": ""
    }
   },
   "outputs": [
    {
     "output_type": "execute_result",
     "data": {
      "text/html": [
       "<table border='1'>\n",
       "<tr><th>member_id</th><th>total</th></tr>\n",
       "<tr><td>1f392553105eebc55...</td><td>3</td></tr>\n",
       "<tr><td>6f88761291d14b65e...</td><td>3</td></tr>\n",
       "<tr><td>41d36a5e709d6218a...</td><td>3</td></tr>\n",
       "<tr><td>ee2d0dd6ad9e048b8...</td><td>3</td></tr>\n",
       "<tr><td>793b618a7de10f813...</td><td>3</td></tr>\n",
       "<tr><td>bca141343d9405a9a...</td><td>3</td></tr>\n",
       "<tr><td>9240fa4e744ff0846...</td><td>3</td></tr>\n",
       "<tr><td>b67f4aa39e82954f2...</td><td>3</td></tr>\n",
       "<tr><td>e4c167053d5418230...</td><td>3</td></tr>\n",
       "<tr><td>f99c6e9cfe3a7a2d2...</td><td>2</td></tr>\n",
       "<tr><td>d4782ddad8591f44d...</td><td>2</td></tr>\n",
       "<tr><td>bbe43331566910d55...</td><td>2</td></tr>\n",
       "<tr><td>7115ace193e13d8f3...</td><td>2</td></tr>\n",
       "<tr><td>827a048c072fb44b0...</td><td>2</td></tr>\n",
       "<tr><td>e1f91eb87353347fd...</td><td>2</td></tr>\n",
       "<tr><td>d34249ef84980fb46...</td><td>2</td></tr>\n",
       "<tr><td>22593a1870543b2db...</td><td>2</td></tr>\n",
       "<tr><td>48846377688c803fa...</td><td>2</td></tr>\n",
       "<tr><td>0fa3654dfc604c1d4...</td><td>2</td></tr>\n",
       "<tr><td>759c2dc5f485e5465...</td><td>2</td></tr>\n",
       "</table>\n",
       "only showing top 20 rows\n"
      ],
      "text/plain": [
       "+--------------------+-----+\n",
       "|           member_id|total|\n",
       "+--------------------+-----+\n",
       "|1f392553105eebc55...|    3|\n",
       "|6f88761291d14b65e...|    3|\n",
       "|41d36a5e709d6218a...|    3|\n",
       "|ee2d0dd6ad9e048b8...|    3|\n",
       "|793b618a7de10f813...|    3|\n",
       "|bca141343d9405a9a...|    3|\n",
       "|9240fa4e744ff0846...|    3|\n",
       "|b67f4aa39e82954f2...|    3|\n",
       "|e4c167053d5418230...|    3|\n",
       "|bbe43331566910d55...|    2|\n",
       "|6918b9861ba5a4c67...|    2|\n",
       "|b5ded5638e54e1692...|    2|\n",
       "|666006371cc990ae7...|    2|\n",
       "|b0b069b23773292a8...|    2|\n",
       "|983690808b2ed9a75...|    2|\n",
       "|675151e58a628e87b...|    2|\n",
       "|2a9775bb297d8d183...|    2|\n",
       "|cd1fdca829c443fa7...|    2|\n",
       "|f99c6e9cfe3a7a2d2...|    2|\n",
       "|a53e2f488d2d76a30...|    2|\n",
       "+--------------------+-----+\n",
       "only showing top 20 rows"
      ]
     },
     "execution_count": 6,
     "metadata": {},
     "output_type": "execute_result"
    }
   ],
   "source": [
    "# Checking number of records per customer\n",
    "spark.sql(\"\"\"select member_id, count(*) as total from itv008542_lending_club.loans_defaulters_delinq\n",
    "group by member_id order by total desc \"\"\")"
   ]
  },
  {
   "cell_type": "code",
   "execution_count": 0,
   "metadata": {
    "application/vnd.databricks.v1+cell": {
     "cellMetadata": {},
     "inputWidgets": {},
     "nuid": "59f94f20-d1e7-4e0f-b210-676c866befbb",
     "showTitle": false,
     "title": ""
    }
   },
   "outputs": [
    {
     "output_type": "execute_result",
     "data": {
      "text/html": [
       "<table border='1'>\n",
       "<tr><th>member_id</th><th>delinq_2yrs</th><th>delinq_amnt</th><th>mths_since_last_delinq</th></tr>\n",
       "<tr><td>e4c167053d5418230...</td><td>3</td><td>0.0</td><td>13</td></tr>\n",
       "<tr><td>e4c167053d5418230...</td><td>1</td><td>0.0</td><td>16</td></tr>\n",
       "<tr><td>e4c167053d5418230...</td><td>1</td><td>0.0</td><td>37</td></tr>\n",
       "</table>\n"
      ],
      "text/plain": [
       "+--------------------+-----------+-----------+----------------------+\n",
       "|           member_id|delinq_2yrs|delinq_amnt|mths_since_last_delinq|\n",
       "+--------------------+-----------+-----------+----------------------+\n",
       "|e4c167053d5418230...|          3|        0.0|                    13|\n",
       "|e4c167053d5418230...|          1|        0.0|                    16|\n",
       "|e4c167053d5418230...|          1|        0.0|                    37|\n",
       "+--------------------+-----------+-----------+----------------------+"
      ]
     },
     "execution_count": 7,
     "metadata": {},
     "output_type": "execute_result"
    }
   ],
   "source": [
    "spark.sql(\"\"\"select * from itv008542_lending_club.loans_defaulters_delinq\n",
    "where member_id like 'e4c167053d5418230%'\"\"\")"
   ]
  },
  {
   "cell_type": "code",
   "execution_count": 0,
   "metadata": {
    "application/vnd.databricks.v1+cell": {
     "cellMetadata": {},
     "inputWidgets": {},
     "nuid": "595ff784-880a-48d3-bf36-55e0e51ba457",
     "showTitle": false,
     "title": ""
    }
   },
   "outputs": [
    {
     "output_type": "execute_result",
     "data": {
      "text/html": [
       "<table border='1'>\n",
       "<tr><th>member_id</th><th>total</th></tr>\n",
       "<tr><td>e3b0c44298fc1c149...</td><td>33</td></tr>\n",
       "<tr><td>e4c167053d5418230...</td><td>5</td></tr>\n",
       "<tr><td>3f87585a20f702838...</td><td>4</td></tr>\n",
       "<tr><td>ad8e5d384dae17e06...</td><td>4</td></tr>\n",
       "<tr><td>76b577467eda5bdbc...</td><td>4</td></tr>\n",
       "<tr><td>3ae415acd6bbfaac1...</td><td>3</td></tr>\n",
       "<tr><td>22593a1870543b2db...</td><td>3</td></tr>\n",
       "<tr><td>035bf3d8288d803bd...</td><td>3</td></tr>\n",
       "<tr><td>066ddaa64bee66dff...</td><td>3</td></tr>\n",
       "<tr><td>291ca1b09ef11ca3e...</td><td>3</td></tr>\n",
       "<tr><td>5d52e7773cb0efff3...</td><td>3</td></tr>\n",
       "<tr><td>d3731bad3e6a82515...</td><td>3</td></tr>\n",
       "<tr><td>c92062bb371842b3d...</td><td>3</td></tr>\n",
       "<tr><td>e7d8d16928817ec8f...</td><td>3</td></tr>\n",
       "<tr><td>498bb6b1f0099cb47...</td><td>3</td></tr>\n",
       "<tr><td>a2356725aa9da92c6...</td><td>3</td></tr>\n",
       "<tr><td>4ab6205de571ccb7b...</td><td>3</td></tr>\n",
       "<tr><td>c563428cb58da48ff...</td><td>3</td></tr>\n",
       "<tr><td>53789bea7edc660ed...</td><td>3</td></tr>\n",
       "<tr><td>059d401bb603d9a80...</td><td>3</td></tr>\n",
       "</table>\n",
       "only showing top 20 rows\n"
      ],
      "text/plain": [
       "+--------------------+-----+\n",
       "|           member_id|total|\n",
       "+--------------------+-----+\n",
       "|e3b0c44298fc1c149...|   33|\n",
       "|e4c167053d5418230...|    5|\n",
       "|3f87585a20f702838...|    4|\n",
       "|76b577467eda5bdbc...|    4|\n",
       "|ad8e5d384dae17e06...|    4|\n",
       "|c92062bb371842b3d...|    3|\n",
       "|53789bea7edc660ed...|    3|\n",
       "|035bf3d8288d803bd...|    3|\n",
       "|22593a1870543b2db...|    3|\n",
       "|291ca1b09ef11ca3e...|    3|\n",
       "|4ab6205de571ccb7b...|    3|\n",
       "|d3731bad3e6a82515...|    3|\n",
       "|3ae415acd6bbfaac1...|    3|\n",
       "|f54295a60946dedad...|    3|\n",
       "|e7d8d16928817ec8f...|    3|\n",
       "|498bb6b1f0099cb47...|    3|\n",
       "|a2356725aa9da92c6...|    3|\n",
       "|5d52e7773cb0efff3...|    3|\n",
       "|c563428cb58da48ff...|    3|\n",
       "|066ddaa64bee66dff...|    3|\n",
       "+--------------------+-----+\n",
       "only showing top 20 rows"
      ]
     },
     "execution_count": 8,
     "metadata": {},
     "output_type": "execute_result"
    }
   ],
   "source": [
    "spark.sql(\"\"\"select member_id, count(*) as total from itv008542_lending_club.loans_defaulters_detail_rec_enq\n",
    "group by member_id order by total desc \"\"\")"
   ]
  },
  {
   "cell_type": "code",
   "execution_count": 0,
   "metadata": {
    "application/vnd.databricks.v1+cell": {
     "cellMetadata": {},
     "inputWidgets": {},
     "nuid": "58cc913d-5446-469e-8513-746057f11d98",
     "showTitle": false,
     "title": ""
    }
   },
   "outputs": [
    {
     "output_type": "execute_result",
     "data": {
      "text/html": [
       "<table border='1'>\n",
       "<tr><th>member_id</th><th>pub_rec</th><th>pub_rec_bankruptcies</th><th>inq_last_6mths</th></tr>\n",
       "<tr><td>e4c167053d5418230...</td><td>0</td><td>0</td><td>0</td></tr>\n",
       "<tr><td>e4c167053d5418230...</td><td>0</td><td>0</td><td>0</td></tr>\n",
       "<tr><td>e4c167053d5418230...</td><td>0</td><td>0</td><td>3</td></tr>\n",
       "<tr><td>e4c167053d5418230...</td><td>0</td><td>0</td><td>2</td></tr>\n",
       "<tr><td>e4c167053d5418230...</td><td>0</td><td>0</td><td>1</td></tr>\n",
       "</table>\n"
      ],
      "text/plain": [
       "+--------------------+-------+--------------------+--------------+\n",
       "|           member_id|pub_rec|pub_rec_bankruptcies|inq_last_6mths|\n",
       "+--------------------+-------+--------------------+--------------+\n",
       "|e4c167053d5418230...|      0|                   0|             0|\n",
       "|e4c167053d5418230...|      0|                   0|             0|\n",
       "|e4c167053d5418230...|      0|                   0|             3|\n",
       "|e4c167053d5418230...|      0|                   0|             2|\n",
       "|e4c167053d5418230...|      0|                   0|             1|\n",
       "+--------------------+-------+--------------------+--------------+"
      ]
     },
     "execution_count": 9,
     "metadata": {},
     "output_type": "execute_result"
    }
   ],
   "source": [
    "spark.sql(\"\"\"select * from itv008542_lending_club.loans_defaulters_detail_rec_enq\n",
    "where member_id like 'e4c167053d5418230%'\"\"\")"
   ]
  },
  {
   "cell_type": "code",
   "execution_count": 0,
   "metadata": {
    "application/vnd.databricks.v1+cell": {
     "cellMetadata": {},
     "inputWidgets": {},
     "nuid": "577dcf65-fc2b-4d37-8934-97f9e07949c2",
     "showTitle": false,
     "title": ""
    }
   },
   "outputs": [],
   "source": [
    "bad_data_customer_df = spark.sql(\"\"\"select member_id from(select member_id, count(*)\n",
    "as total from itv008542_lending_club.customers group by member_id having total > 1)\"\"\")"
   ]
  },
  {
   "cell_type": "code",
   "execution_count": 0,
   "metadata": {
    "application/vnd.databricks.v1+cell": {
     "cellMetadata": {},
     "inputWidgets": {},
     "nuid": "5c35b21e-3fc7-45e6-bef1-e2e3d52c17c8",
     "showTitle": false,
     "title": ""
    }
   },
   "outputs": [
    {
     "output_type": "execute_result",
     "data": {
      "text/plain": [
       "3157"
      ]
     },
     "execution_count": 7,
     "metadata": {},
     "output_type": "execute_result"
    }
   ],
   "source": [
    "bad_data_customer_df.count()"
   ]
  },
  {
   "cell_type": "code",
   "execution_count": 0,
   "metadata": {
    "application/vnd.databricks.v1+cell": {
     "cellMetadata": {},
     "inputWidgets": {},
     "nuid": "57bcb301-280c-4776-bd8d-91a8b7d61c11",
     "showTitle": false,
     "title": ""
    }
   },
   "outputs": [
    {
     "output_type": "execute_result",
     "data": {
      "text/html": [
       "<table border='1'>\n",
       "<tr><th>member_id</th></tr>\n",
       "<tr><td>761b2f1e61999e14e...</td></tr>\n",
       "<tr><td>4231a55d0199c619a...</td></tr>\n",
       "<tr><td>f99c6e9cfe3a7a2d2...</td></tr>\n",
       "<tr><td>a53e2f488d2d76a30...</td></tr>\n",
       "<tr><td>61be6498c93cadf89...</td></tr>\n",
       "<tr><td>5130d0087970e032e...</td></tr>\n",
       "<tr><td>fc0e468bff11ac7c3...</td></tr>\n",
       "<tr><td>f284044b881f218c0...</td></tr>\n",
       "<tr><td>01b2223757c3b62e7...</td></tr>\n",
       "<tr><td>675151e58a628e87b...</td></tr>\n",
       "<tr><td>2bae2e4dd6d5f2b21...</td></tr>\n",
       "<tr><td>3b8ffe19f24749a73...</td></tr>\n",
       "<tr><td>cbede54df344cdb94...</td></tr>\n",
       "<tr><td>d4782ddad8591f44d...</td></tr>\n",
       "<tr><td>7115ace193e13d8f3...</td></tr>\n",
       "<tr><td>a2af7506825a7dcff...</td></tr>\n",
       "<tr><td>eebbd89aa7efc13e7...</td></tr>\n",
       "<tr><td>cd1fdca829c443fa7...</td></tr>\n",
       "<tr><td>8d2c605c7ad9209cc...</td></tr>\n",
       "<tr><td>53789bea7edc660ed...</td></tr>\n",
       "</table>\n",
       "only showing top 20 rows\n"
      ],
      "text/plain": [
       "+--------------------+\n",
       "|           member_id|\n",
       "+--------------------+\n",
       "|7115ace193e13d8f3...|\n",
       "|01b2223757c3b62e7...|\n",
       "|cbede54df344cdb94...|\n",
       "|cd1fdca829c443fa7...|\n",
       "|a2af7506825a7dcff...|\n",
       "|675151e58a628e87b...|\n",
       "|f99c6e9cfe3a7a2d2...|\n",
       "|761b2f1e61999e14e...|\n",
       "|fc0e468bff11ac7c3...|\n",
       "|2bae2e4dd6d5f2b21...|\n",
       "|3b8ffe19f24749a73...|\n",
       "|f284044b881f218c0...|\n",
       "|5130d0087970e032e...|\n",
       "|61be6498c93cadf89...|\n",
       "|d4782ddad8591f44d...|\n",
       "|eebbd89aa7efc13e7...|\n",
       "|4231a55d0199c619a...|\n",
       "|a53e2f488d2d76a30...|\n",
       "|8d2c605c7ad9209cc...|\n",
       "|53789bea7edc660ed...|\n",
       "+--------------------+\n",
       "only showing top 20 rows"
      ]
     },
     "execution_count": 12,
     "metadata": {},
     "output_type": "execute_result"
    }
   ],
   "source": [
    "bad_data_customer_df"
   ]
  },
  {
   "cell_type": "code",
   "execution_count": 0,
   "metadata": {
    "application/vnd.databricks.v1+cell": {
     "cellMetadata": {},
     "inputWidgets": {},
     "nuid": "cbf0bc22-8349-43a6-abf7-c866da537717",
     "showTitle": false,
     "title": ""
    }
   },
   "outputs": [],
   "source": [
    "bad_data_loans_defaulters_delinq_df = spark.sql(\"\"\"select member_id from(select member_id, count(*)\n",
    "as total from itv008542_lending_club.loans_defaulters_delinq        \n",
    "group by member_id having total > 1)\"\"\")"
   ]
  },
  {
   "cell_type": "code",
   "execution_count": 0,
   "metadata": {
    "application/vnd.databricks.v1+cell": {
     "cellMetadata": {},
     "inputWidgets": {},
     "nuid": "f99a2148-e74b-44df-a23b-0c79c313a654",
     "showTitle": false,
     "title": ""
    }
   },
   "outputs": [
    {
     "output_type": "execute_result",
     "data": {
      "text/plain": [
       "939"
      ]
     },
     "execution_count": 20,
     "metadata": {},
     "output_type": "execute_result"
    }
   ],
   "source": [
    "bad_data_loans_defaulters_delinq_df.count()"
   ]
  },
  {
   "cell_type": "code",
   "execution_count": 0,
   "metadata": {
    "application/vnd.databricks.v1+cell": {
     "cellMetadata": {},
     "inputWidgets": {},
     "nuid": "0ee4d875-2438-45f7-8039-6a4f95500559",
     "showTitle": false,
     "title": ""
    }
   },
   "outputs": [
    {
     "output_type": "execute_result",
     "data": {
      "text/html": [
       "<table border='1'>\n",
       "<tr><th>member_id</th></tr>\n",
       "<tr><td>cd1fdca829c443fa7...</td></tr>\n",
       "<tr><td>f99c6e9cfe3a7a2d2...</td></tr>\n",
       "<tr><td>a53e2f488d2d76a30...</td></tr>\n",
       "<tr><td>d4782ddad8591f44d...</td></tr>\n",
       "<tr><td>7115ace193e13d8f3...</td></tr>\n",
       "<tr><td>cbede54df344cdb94...</td></tr>\n",
       "<tr><td>675151e58a628e87b...</td></tr>\n",
       "<tr><td>22593a1870543b2db...</td></tr>\n",
       "<tr><td>3b94fbab00b7a0ec4...</td></tr>\n",
       "<tr><td>0fa3654dfc604c1d4...</td></tr>\n",
       "<tr><td>e884f4108b3c6b1f4...</td></tr>\n",
       "<tr><td>d34249ef84980fb46...</td></tr>\n",
       "<tr><td>48846377688c803fa...</td></tr>\n",
       "<tr><td>759c2dc5f485e5465...</td></tr>\n",
       "<tr><td>8d2c605c7ad9209cc...</td></tr>\n",
       "<tr><td>827a048c072fb44b0...</td></tr>\n",
       "<tr><td>e1f91eb87353347fd...</td></tr>\n",
       "<tr><td>4273588c35c7b7f40...</td></tr>\n",
       "<tr><td>bbe43331566910d55...</td></tr>\n",
       "<tr><td>2a9775bb297d8d183...</td></tr>\n",
       "</table>\n",
       "only showing top 20 rows\n"
      ],
      "text/plain": [
       "+--------------------+\n",
       "|           member_id|\n",
       "+--------------------+\n",
       "|cd1fdca829c443fa7...|\n",
       "|f99c6e9cfe3a7a2d2...|\n",
       "|a53e2f488d2d76a30...|\n",
       "|d4782ddad8591f44d...|\n",
       "|7115ace193e13d8f3...|\n",
       "|cbede54df344cdb94...|\n",
       "|675151e58a628e87b...|\n",
       "|22593a1870543b2db...|\n",
       "|3b94fbab00b7a0ec4...|\n",
       "|0fa3654dfc604c1d4...|\n",
       "|e884f4108b3c6b1f4...|\n",
       "|d34249ef84980fb46...|\n",
       "|48846377688c803fa...|\n",
       "|759c2dc5f485e5465...|\n",
       "|8d2c605c7ad9209cc...|\n",
       "|827a048c072fb44b0...|\n",
       "|e1f91eb87353347fd...|\n",
       "|4273588c35c7b7f40...|\n",
       "|bbe43331566910d55...|\n",
       "|2a9775bb297d8d183...|\n",
       "+--------------------+\n",
       "only showing top 20 rows"
      ]
     },
     "execution_count": 15,
     "metadata": {},
     "output_type": "execute_result"
    }
   ],
   "source": [
    "bad_data_loans_defaulters_delinq_df"
   ]
  },
  {
   "cell_type": "code",
   "execution_count": 0,
   "metadata": {
    "application/vnd.databricks.v1+cell": {
     "cellMetadata": {},
     "inputWidgets": {},
     "nuid": "df86aa80-1f65-44e5-8b02-73aa8fec3ca5",
     "showTitle": false,
     "title": ""
    }
   },
   "outputs": [],
   "source": [
    "bad_data_loans_defaulters_detail_rec_enq_df = spark.sql(\"\"\"select member_id from(select member_id, count(*)\n",
    "as total from itv008542_lending_club.loans_defaulters_detail_rec_enq\n",
    "group by member_id having total > 1)\"\"\")"
   ]
  },
  {
   "cell_type": "code",
   "execution_count": 0,
   "metadata": {
    "application/vnd.databricks.v1+cell": {
     "cellMetadata": {},
     "inputWidgets": {},
     "nuid": "acc2eea3-de98-423a-b897-e2afe2176ed5",
     "showTitle": false,
     "title": ""
    }
   },
   "outputs": [
    {
     "output_type": "execute_result",
     "data": {
      "text/plain": [
       "3189"
      ]
     },
     "execution_count": 17,
     "metadata": {},
     "output_type": "execute_result"
    }
   ],
   "source": [
    "bad_data_loans_defaulters_detail_rec_enq_df.count()"
   ]
  },
  {
   "cell_type": "code",
   "execution_count": 0,
   "metadata": {
    "application/vnd.databricks.v1+cell": {
     "cellMetadata": {},
     "inputWidgets": {},
     "nuid": "2fcb6e3e-5d6e-4713-b083-be91fe39190f",
     "showTitle": false,
     "title": ""
    }
   },
   "outputs": [
    {
     "output_type": "execute_result",
     "data": {
      "text/html": [
       "<table border='1'>\n",
       "<tr><th>member_id</th></tr>\n",
       "<tr><td>a2af7506825a7dcff...</td></tr>\n",
       "<tr><td>7115ace193e13d8f3...</td></tr>\n",
       "<tr><td>d4782ddad8591f44d...</td></tr>\n",
       "<tr><td>f99c6e9cfe3a7a2d2...</td></tr>\n",
       "<tr><td>fc0e468bff11ac7c3...</td></tr>\n",
       "<tr><td>2bae2e4dd6d5f2b21...</td></tr>\n",
       "<tr><td>61be6498c93cadf89...</td></tr>\n",
       "<tr><td>5130d0087970e032e...</td></tr>\n",
       "<tr><td>761b2f1e61999e14e...</td></tr>\n",
       "<tr><td>cbede54df344cdb94...</td></tr>\n",
       "<tr><td>675151e58a628e87b...</td></tr>\n",
       "<tr><td>f284044b881f218c0...</td></tr>\n",
       "<tr><td>cd1fdca829c443fa7...</td></tr>\n",
       "<tr><td>4231a55d0199c619a...</td></tr>\n",
       "<tr><td>01b2223757c3b62e7...</td></tr>\n",
       "<tr><td>3b8ffe19f24749a73...</td></tr>\n",
       "<tr><td>a53e2f488d2d76a30...</td></tr>\n",
       "<tr><td>eebbd89aa7efc13e7...</td></tr>\n",
       "<tr><td>22593a1870543b2db...</td></tr>\n",
       "<tr><td>46cb438a0bd1b7194...</td></tr>\n",
       "</table>\n",
       "only showing top 20 rows\n"
      ],
      "text/plain": [
       "+--------------------+\n",
       "|           member_id|\n",
       "+--------------------+\n",
       "|a2af7506825a7dcff...|\n",
       "|7115ace193e13d8f3...|\n",
       "|d4782ddad8591f44d...|\n",
       "|f99c6e9cfe3a7a2d2...|\n",
       "|fc0e468bff11ac7c3...|\n",
       "|2bae2e4dd6d5f2b21...|\n",
       "|61be6498c93cadf89...|\n",
       "|5130d0087970e032e...|\n",
       "|761b2f1e61999e14e...|\n",
       "|cbede54df344cdb94...|\n",
       "|675151e58a628e87b...|\n",
       "|f284044b881f218c0...|\n",
       "|cd1fdca829c443fa7...|\n",
       "|4231a55d0199c619a...|\n",
       "|01b2223757c3b62e7...|\n",
       "|3b8ffe19f24749a73...|\n",
       "|a53e2f488d2d76a30...|\n",
       "|eebbd89aa7efc13e7...|\n",
       "|22593a1870543b2db...|\n",
       "|46cb438a0bd1b7194...|\n",
       "+--------------------+\n",
       "only showing top 20 rows"
      ]
     },
     "execution_count": 18,
     "metadata": {},
     "output_type": "execute_result"
    }
   ],
   "source": [
    "bad_data_loans_defaulters_detail_rec_enq_df"
   ]
  },
  {
   "cell_type": "markdown",
   "metadata": {
    "application/vnd.databricks.v1+cell": {
     "cellMetadata": {},
     "inputWidgets": {},
     "nuid": "c0a01898-d9fd-420d-ae22-76f5da871bae",
     "showTitle": false,
     "title": ""
    }
   },
   "source": [
    "#### Store all bad records in a folder to review later on"
   ]
  },
  {
   "cell_type": "code",
   "execution_count": 0,
   "metadata": {
    "application/vnd.databricks.v1+cell": {
     "cellMetadata": {},
     "inputWidgets": {},
     "nuid": "6a6b181b-7833-45ab-a64f-e4d2fa902b55",
     "showTitle": false,
     "title": ""
    }
   },
   "outputs": [],
   "source": [
    "! hadoop fs -mkdir /user/itv008542/lendingclubproject/bad"
   ]
  },
  {
   "cell_type": "code",
   "execution_count": 0,
   "metadata": {
    "application/vnd.databricks.v1+cell": {
     "cellMetadata": {},
     "inputWidgets": {},
     "nuid": "beda031f-79cd-4bd9-8c14-6a0c56298ed7",
     "showTitle": false,
     "title": ""
    }
   },
   "outputs": [],
   "source": [
    "bad_data_customer_df.repartition(1).write \\\n",
    ".format(\"csv\") \\\n",
    ".option(\"header\", True) \\\n",
    ".mode(\"overwrite\") \\\n",
    ".option(\"path\", \"/user/itv008542/lendingclubproject/bad/bad_data_customers\") \\\n",
    ".save()"
   ]
  },
  {
   "cell_type": "code",
   "execution_count": 0,
   "metadata": {
    "application/vnd.databricks.v1+cell": {
     "cellMetadata": {},
     "inputWidgets": {},
     "nuid": "9286154b-7f09-4520-84c9-a33bb0e5ae17",
     "showTitle": false,
     "title": ""
    }
   },
   "outputs": [],
   "source": [
    "bad_data_loans_defaulters_delinq_df.repartition(1).write \\\n",
    ".format(\"csv\") \\\n",
    ".option(\"header\", True) \\\n",
    ".mode(\"overwrite\") \\\n",
    ".option(\"path\", \"/user/itv008542/lendingclubproject/bad/bad_data_loans_defaulters_delinq\") \\\n",
    ".save()"
   ]
  },
  {
   "cell_type": "code",
   "execution_count": 0,
   "metadata": {
    "application/vnd.databricks.v1+cell": {
     "cellMetadata": {},
     "inputWidgets": {},
     "nuid": "c2ba0d61-560c-4606-bb5f-30003e785e72",
     "showTitle": false,
     "title": ""
    }
   },
   "outputs": [],
   "source": [
    "bad_data_loans_defaulters_detail_rec_enq_df.repartition(1).write \\\n",
    ".format(\"csv\") \\\n",
    ".option(\"header\", True) \\\n",
    ".mode(\"overwrite\") \\\n",
    ".option(\"path\", \"/user/itv008542/lendingclubproject/bad/bad_data_loans_defaulters_detail_rec_enq\") \\\n",
    ".save()"
   ]
  },
  {
   "cell_type": "code",
   "execution_count": 0,
   "metadata": {
    "application/vnd.databricks.v1+cell": {
     "cellMetadata": {},
     "inputWidgets": {},
     "nuid": "1229242d-e02c-4d6e-926d-cb2b648b0e9a",
     "showTitle": false,
     "title": ""
    }
   },
   "outputs": [
    {
     "output_type": "stream",
     "name": "stdout",
     "output_type": "stream",
     "text": [
      "Found 4 items\ndrwxr-xr-x   - itv008542 supergroup          0 2024-02-08 03:51 /user/itv008542/lendingclubproject/bad/bad_customer_data_final\ndrwxr-xr-x   - itv008542 supergroup          0 2024-02-08 03:42 /user/itv008542/lendingclubproject/bad/bad_data_customers\ndrwxr-xr-x   - itv008542 supergroup          0 2024-02-08 03:43 /user/itv008542/lendingclubproject/bad/bad_data_loans_defaulters_delinq\ndrwxr-xr-x   - itv008542 supergroup          0 2024-02-08 03:43 /user/itv008542/lendingclubproject/bad/bad_data_loans_defaulters_detail_rec_enq\n"
     ]
    }
   ],
   "source": [
    "! hadoop fs -ls  /user/itv008542/lendingclubproject/bad"
   ]
  },
  {
   "cell_type": "markdown",
   "metadata": {
    "application/vnd.databricks.v1+cell": {
     "cellMetadata": {},
     "inputWidgets": {},
     "nuid": "18ae6946-42d3-4e52-93d4-ed952fd46e8d",
     "showTitle": false,
     "title": ""
    }
   },
   "source": [
    "I want to create a consolidated files which have all member ids uniquely from above three"
   ]
  },
  {
   "cell_type": "code",
   "execution_count": 0,
   "metadata": {
    "application/vnd.databricks.v1+cell": {
     "cellMetadata": {},
     "inputWidgets": {},
     "nuid": "a2397f0e-7651-4f85-8682-94fa40e9c14c",
     "showTitle": false,
     "title": ""
    }
   },
   "outputs": [],
   "source": [
    "# union followed by distinct\n",
    "bad_customer_data_union_df = bad_data_customer_df.select(\"member_id\") \\\n",
    ".union(bad_data_loans_defaulters_delinq_df.select(\"member_id\")) \\\n",
    ".union(bad_data_loans_defaulters_detail_rec_enq_df.select(\"member_id\"))"
   ]
  },
  {
   "cell_type": "code",
   "execution_count": 0,
   "metadata": {
    "application/vnd.databricks.v1+cell": {
     "cellMetadata": {},
     "inputWidgets": {},
     "nuid": "493ddd5f-65e6-4e95-bc86-b7b964dca920",
     "showTitle": false,
     "title": ""
    }
   },
   "outputs": [],
   "source": [
    "bad_customer_data_final_df = bad_customer_data_union_df.distinct()"
   ]
  },
  {
   "cell_type": "code",
   "execution_count": 0,
   "metadata": {
    "application/vnd.databricks.v1+cell": {
     "cellMetadata": {},
     "inputWidgets": {},
     "nuid": "432cc129-27db-4835-a307-d83c57dc19a7",
     "showTitle": false,
     "title": ""
    }
   },
   "outputs": [
    {
     "output_type": "execute_result",
     "data": {
      "text/plain": [
       "3189"
      ]
     },
     "execution_count": 13,
     "metadata": {},
     "output_type": "execute_result"
    }
   ],
   "source": [
    "bad_customer_data_final_df.count()"
   ]
  },
  {
   "cell_type": "code",
   "execution_count": 0,
   "metadata": {
    "application/vnd.databricks.v1+cell": {
     "cellMetadata": {},
     "inputWidgets": {},
     "nuid": "af52a82d-d3b4-46b2-8a92-8ce953c66a38",
     "showTitle": false,
     "title": ""
    }
   },
   "outputs": [],
   "source": [
    "bad_customer_data_final_df.repartition(1).write \\\n",
    ".format(\"csv\") \\\n",
    ".option(\"header\", True) \\\n",
    ".mode(\"overwrite\") \\\n",
    ".option(\"path\", \"/user/itv008542/lendingclubproject/bad/bad_customer_data_final\") \\\n",
    ".save()"
   ]
  },
  {
   "cell_type": "code",
   "execution_count": 0,
   "metadata": {
    "application/vnd.databricks.v1+cell": {
     "cellMetadata": {},
     "inputWidgets": {},
     "nuid": "06617a69-2b64-4689-acb8-1a804a3a2086",
     "showTitle": false,
     "title": ""
    }
   },
   "outputs": [
    {
     "output_type": "stream",
     "name": "stdout",
     "output_type": "stream",
     "text": [
      "Found 2 items\n-rw-r--r--   3 itv008542 supergroup          0 2024-02-08 03:51 /user/itv008542/lendingclubproject/bad/bad_customer_data_final/_SUCCESS\n-rw-r--r--   3 itv008542 supergroup     207295 2024-02-08 03:51 /user/itv008542/lendingclubproject/bad/bad_customer_data_final/part-00000-a1961ffa-663c-473e-a26e-891f4b6c2ede-c000.csv\n"
     ]
    }
   ],
   "source": [
    "! hadoop fs -ls  /user/itv008542/lendingclubproject/bad/bad_customer_data_final"
   ]
  },
  {
   "cell_type": "code",
   "execution_count": 0,
   "metadata": {
    "application/vnd.databricks.v1+cell": {
     "cellMetadata": {},
     "inputWidgets": {},
     "nuid": "7b55380a-1c63-49e2-95f8-f6150cf3d52c",
     "showTitle": false,
     "title": ""
    }
   },
   "outputs": [
    {
     "output_type": "stream",
     "name": "stdout",
     "output_type": "stream",
     "text": [
      "member_id\nf74ca3285851a8c5a077c1af2a4d184d2f55bf5861ec92914be084df1f889e1b\nb33bff4d9c078c25dcf5aaf7f69d6c628d7fe8de5ad4c6f16f6040fd7071e032\n793681798e3c70fb0261cf52c3f7d47105e33a9a491b01a622e218682e08dade\ncf60ca5d476cabca8c071b617f59e111ab47be6bb1d86d38f3259b3383075c10\ncc36e715f23147ae01f232b6bc1df49632e229c8787f8842995eaa9724753449\na5a8f249f10fc7d823dd529bae00fa18a0433102882886a20be2d0921d18af0c\n1c4c7f1541769ac6c216d8c75703c42a934ef8b48fc1f58c260d69fb7fd52263\n1396169b283852f1fd805614582cfa4e29df38ce5c7185be7beaac112f27d91b\n2e6ad5a0aaaf31adb79162f3288950973e06253f26e5824b0d98b4d2a0d20078\nf6776ae4f355c1aa8a3a8df574b077657bb21fba135ce795d0976473750ad69e\nf876bc5308177f391f1c4bd7bef905ceae2a7fd3b49f34f547ca6a5d8d854232\n149029765aa6c93db4781614061d1150376134b46c976be7d5ac187a93121645\n11099eff1a2ced61feb243f45becc12a9f0dcef8ba6bdfb9c15e799e80335acf\nd7f7fcf5ff64fff2dce80dd666747652001f46f91266a8fae505125bc493aafc\n983690808b2ed9a75ba15c345fd9d0580e93bf7947ad8d9404b82cb19b02324a\nb5ded5638e54e16929441a622f17f80a2be689a"
     ]
    }
   ],
   "source": [
    "! hadoop fs -head  /user/itv008542/lendingclubproject/bad/bad_customer_data_final/part-00000-a1961ffa-663c-473e-a26e-891f4b6c2ede-c000.csv"
   ]
  },
  {
   "cell_type": "code",
   "execution_count": 0,
   "metadata": {
    "application/vnd.databricks.v1+cell": {
     "cellMetadata": {},
     "inputWidgets": {},
     "nuid": "b8c501f0-7f33-4c25-adf1-d0f46b619190",
     "showTitle": false,
     "title": ""
    }
   },
   "outputs": [
    {
     "output_type": "stream",
     "name": "stdout",
     "output_type": "stream",
     "text": [
      "3190\n"
     ]
    }
   ],
   "source": [
    "! hadoop fs -cat  /user/itv008542/lendingclubproject/bad/bad_customer_data_final/part-00000-a1961ffa-663c-473e-a26e-891f4b6c2ede-c000.csv | wc -l"
   ]
  },
  {
   "cell_type": "markdown",
   "metadata": {
    "application/vnd.databricks.v1+cell": {
     "cellMetadata": {},
     "inputWidgets": {},
     "nuid": "01098caa-4efc-4920-8b8c-d76782576d9b",
     "showTitle": false,
     "title": ""
    }
   },
   "source": [
    "## Segregating the Identified Bad Data from the Normal Data\n",
    "\n",
    "For our future analysis we will remove records of all those customers who fall under bad data category for now\n"
   ]
  },
  {
   "cell_type": "code",
   "execution_count": 0,
   "metadata": {
    "application/vnd.databricks.v1+cell": {
     "cellMetadata": {},
     "inputWidgets": {},
     "nuid": "8b59399f-37dd-42e9-b85d-ef1820632465",
     "showTitle": false,
     "title": ""
    }
   },
   "outputs": [],
   "source": [
    "bad_customer_data_final_df.createOrReplaceTempView(\"bad_data_customer\")"
   ]
  },
  {
   "cell_type": "code",
   "execution_count": 0,
   "metadata": {
    "application/vnd.databricks.v1+cell": {
     "cellMetadata": {},
     "inputWidgets": {},
     "nuid": "7fd0b6ea-144f-4953-9985-d2e5323a7107",
     "showTitle": false,
     "title": ""
    }
   },
   "outputs": [],
   "source": [
    "customers_df = spark.sql(\"\"\"select * from itv008542_lending_club.customers\n",
    "where member_id NOT IN (select member_id from bad_data_customer)\n",
    "\"\"\")"
   ]
  },
  {
   "cell_type": "code",
   "execution_count": 0,
   "metadata": {
    "application/vnd.databricks.v1+cell": {
     "cellMetadata": {},
     "inputWidgets": {},
     "nuid": "f97d0870-3c36-42ad-a72f-09b14bf2083d",
     "showTitle": false,
     "title": ""
    }
   },
   "outputs": [
    {
     "output_type": "stream",
     "name": "stdout",
     "output_type": "stream",
     "text": [
      "mkdir: `/user/itv008542/lendingclubproject/raw/cleaned_new': File exists\n"
     ]
    }
   ],
   "source": [
    "! hadoop fs -mkdir /user/itv008542/lendingclubproject/raw/cleaned_new"
   ]
  },
  {
   "cell_type": "code",
   "execution_count": 0,
   "metadata": {
    "application/vnd.databricks.v1+cell": {
     "cellMetadata": {},
     "inputWidgets": {},
     "nuid": "b230213b-7315-48c8-ba41-d4213ceb938f",
     "showTitle": false,
     "title": ""
    }
   },
   "outputs": [
    {
     "output_type": "stream",
     "name": "stdout",
     "output_type": "stream",
     "text": [
      "Found 6 items\ndrwxr-xr-x   - itv008542 supergroup          0 2024-02-07 11:57 /user/itv008542/lendingclubproject/raw/cleaned\ndrwxr-xr-x   - itv008542 supergroup          0 2024-02-08 04:03 /user/itv008542/lendingclubproject/raw/cleaned_new\ndrwxr-xr-x   - itv008542 supergroup          0 2024-02-06 12:12 /user/itv008542/lendingclubproject/raw/customers_data_csv\ndrwxr-xr-x   - itv008542 supergroup          0 2024-02-06 12:19 /user/itv008542/lendingclubproject/raw/loans_data_csv\ndrwxr-xr-x   - itv008542 supergroup          0 2024-02-06 12:24 /user/itv008542/lendingclubproject/raw/loans_defaulters_csv\ndrwxr-xr-x   - itv008542 supergroup          0 2024-02-06 12:22 /user/itv008542/lendingclubproject/raw/loans_repayments_csv\n"
     ]
    }
   ],
   "source": [
    "! hadoop fs -ls /user/itv008542/lendingclubproject/raw"
   ]
  },
  {
   "cell_type": "code",
   "execution_count": 0,
   "metadata": {
    "application/vnd.databricks.v1+cell": {
     "cellMetadata": {},
     "inputWidgets": {},
     "nuid": "93009586-d6a1-422a-b814-15bf6fe08b3e",
     "showTitle": false,
     "title": ""
    }
   },
   "outputs": [],
   "source": [
    "customers_df.write \\\n",
    ".format(\"parquet\") \\\n",
    ".mode(\"overwrite\") \\\n",
    ".option(\"path\", \"/user/itv008542/lendingclubproject/raw/cleaned_new/customers_parquet\") \\\n",
    ".save()"
   ]
  },
  {
   "cell_type": "code",
   "execution_count": 0,
   "metadata": {
    "application/vnd.databricks.v1+cell": {
     "cellMetadata": {},
     "inputWidgets": {},
     "nuid": "77336886-fe37-48cc-9d0a-05985ce32031",
     "showTitle": false,
     "title": ""
    }
   },
   "outputs": [],
   "source": [
    "loans_defaulters_delinq_df = spark.sql(\"\"\"select * from itv008542_lending_club.loans_defaulters_delinq\n",
    "where member_id NOT IN (select member_id from bad_data_customer)\n",
    "\"\"\")"
   ]
  },
  {
   "cell_type": "code",
   "execution_count": 0,
   "metadata": {
    "application/vnd.databricks.v1+cell": {
     "cellMetadata": {},
     "inputWidgets": {},
     "nuid": "f3c80b5f-d256-4adf-a580-f7915bd5f4e2",
     "showTitle": false,
     "title": ""
    }
   },
   "outputs": [],
   "source": [
    "loans_defaulters_delinq_df.write \\\n",
    ".format(\"parquet\") \\\n",
    ".mode(\"overwrite\") \\\n",
    ".option(\"path\", \"/user/itv008542/lendingclubproject/raw/cleaned_new/loans_defaulters_delinq_parquet\") \\\n",
    ".save()"
   ]
  },
  {
   "cell_type": "code",
   "execution_count": 0,
   "metadata": {
    "application/vnd.databricks.v1+cell": {
     "cellMetadata": {},
     "inputWidgets": {},
     "nuid": "dad9a1bd-5b43-43b3-9edb-997c8acdb4c6",
     "showTitle": false,
     "title": ""
    }
   },
   "outputs": [],
   "source": [
    "loans_defaulters_detail_rec_enq_df = spark.sql(\"\"\"select * from itv008542_lending_club.loans_defaulters_detail_rec_enq\n",
    "where member_id NOT IN (select member_id from bad_data_customer)\n",
    "\"\"\")"
   ]
  },
  {
   "cell_type": "code",
   "execution_count": 0,
   "metadata": {
    "application/vnd.databricks.v1+cell": {
     "cellMetadata": {},
     "inputWidgets": {},
     "nuid": "e745ec31-a8fe-471a-b94f-4eeab0dbb486",
     "showTitle": false,
     "title": ""
    }
   },
   "outputs": [],
   "source": [
    "loans_defaulters_detail_rec_enq_df.write \\\n",
    ".format(\"parquet\") \\\n",
    ".mode(\"overwrite\") \\\n",
    ".option(\"path\", \"/user/itv008542/lendingclubproject/raw/cleaned_new/loans_defaulters_detail_rec_enq_parquet\") \\\n",
    ".save()"
   ]
  },
  {
   "cell_type": "code",
   "execution_count": 0,
   "metadata": {
    "application/vnd.databricks.v1+cell": {
     "cellMetadata": {},
     "inputWidgets": {},
     "nuid": "0262aab0-0f6f-4600-8ce4-fc7a9a148d36",
     "showTitle": false,
     "title": ""
    }
   },
   "outputs": [
    {
     "output_type": "stream",
     "name": "stdout",
     "output_type": "stream",
     "text": [
      "Found 3 items\ndrwxr-xr-x   - itv008542 supergroup          0 2024-02-08 04:09 /user/itv008542/lendingclubproject/raw/cleaned_new/customers_parquet\ndrwxr-xr-x   - itv008542 supergroup          0 2024-02-08 04:11 /user/itv008542/lendingclubproject/raw/cleaned_new/loans_defaulters_delinq_parquet\ndrwxr-xr-x   - itv008542 supergroup          0 2024-02-08 04:11 /user/itv008542/lendingclubproject/raw/cleaned_new/loans_defaulters_detail_rec_enq_parquet\n"
     ]
    }
   ],
   "source": [
    "! hadoop fs -ls /user/itv008542/lendingclubproject/raw/cleaned_new"
   ]
  },
  {
   "cell_type": "code",
   "execution_count": 0,
   "metadata": {
    "application/vnd.databricks.v1+cell": {
     "cellMetadata": {},
     "inputWidgets": {},
     "nuid": "a1564a3f-7856-411a-a6fc-26a718a90e27",
     "showTitle": false,
     "title": ""
    }
   },
   "outputs": [
    {
     "output_type": "execute_result",
     "data": {
      "text/html": [
       "<table border='1'>\n",
       "<tr><th></th></tr>\n",
       "</table>\n"
      ],
      "text/plain": [
       "++\n",
       "||\n",
       "++\n",
       "++"
      ]
     },
     "execution_count": 25,
     "metadata": {},
     "output_type": "execute_result"
    }
   ],
   "source": [
    "spark.sql(\"\"\"\n",
    "create EXTERNAL TABLE itv008542_lending_club.customers_new(member_id string, emp_title string, emp_length int, home_ownership string, \n",
    "annual_income float, address_state string, address_zipcode string, address_country string, grade string, \n",
    "sub_grade string, verification_status string, total_high_credit_limit float, application_type string, \n",
    "join_annual_income float, verification_status_joint string, ingest_date timestamp)\n",
    "stored as parquet\n",
    "LOCATION '/user/itv008542/lendingclubproject/raw/cleaned_new/customers_parquet'\n",
    "\"\"\")"
   ]
  },
  {
   "cell_type": "code",
   "execution_count": 0,
   "metadata": {
    "application/vnd.databricks.v1+cell": {
     "cellMetadata": {},
     "inputWidgets": {},
     "nuid": "f5b2c874-a611-4fd0-a0fe-48c452bc011a",
     "showTitle": false,
     "title": ""
    }
   },
   "outputs": [
    {
     "output_type": "execute_result",
     "data": {
      "text/html": [
       "<table border='1'>\n",
       "<tr><th></th></tr>\n",
       "</table>\n"
      ],
      "text/plain": [
       "++\n",
       "||\n",
       "++\n",
       "++"
      ]
     },
     "execution_count": 26,
     "metadata": {},
     "output_type": "execute_result"
    }
   ],
   "source": [
    "spark.sql(\"\"\"\n",
    "create EXTERNAL TABLE itv008542_lending_club.loans_defaulters_delinq_new(member_id string,delinq_2yrs integer, delinq_amnt float, mths_since_last_delinq integer)\n",
    "stored as parquet\n",
    "LOCATION '/user/itv008542/lendingclubproject/raw/cleaned_new/loans_defaulters_delinq_parquet'\n",
    "\"\"\")"
   ]
  },
  {
   "cell_type": "code",
   "execution_count": 0,
   "metadata": {
    "application/vnd.databricks.v1+cell": {
     "cellMetadata": {},
     "inputWidgets": {},
     "nuid": "e2f2008e-04c6-41dc-92ce-24c3980f6861",
     "showTitle": false,
     "title": ""
    }
   },
   "outputs": [
    {
     "output_type": "execute_result",
     "data": {
      "text/html": [
       "<table border='1'>\n",
       "<tr><th></th></tr>\n",
       "</table>\n"
      ],
      "text/plain": [
       "++\n",
       "||\n",
       "++\n",
       "++"
      ]
     },
     "execution_count": 27,
     "metadata": {},
     "output_type": "execute_result"
    }
   ],
   "source": [
    "spark.sql(\"\"\"\n",
    "create EXTERNAL TABLE itv008542_lending_club.loans_defaulters_detail_rec_enq_new(member_id string, pub_rec integer, pub_rec_bankruptcies integer, inq_last_6mths integer)\n",
    "stored as parquet\n",
    "LOCATION '/user/itv008542/lendingclubproject/raw/cleaned_new/loans_defaulters_detail_rec_enq_parquet'\n",
    "\"\"\")"
   ]
  },
  {
   "cell_type": "code",
   "execution_count": 0,
   "metadata": {
    "application/vnd.databricks.v1+cell": {
     "cellMetadata": {},
     "inputWidgets": {},
     "nuid": "8d9c7a4d-285a-42d1-a4b1-ef2fd86b07c5",
     "showTitle": false,
     "title": ""
    }
   },
   "outputs": [
    {
     "output_type": "execute_result",
     "data": {
      "text/html": [
       "<table border='1'>\n",
       "<tr><th>member_id</th><th>total</th></tr>\n",
       "<tr><td>ac1cc53aabeae5308...</td><td>1</td></tr>\n",
       "<tr><td>aaae850209661c2ec...</td><td>1</td></tr>\n",
       "<tr><td>dd4aef442f35c3774...</td><td>1</td></tr>\n",
       "<tr><td>ffe8dde59ce73ba9f...</td><td>1</td></tr>\n",
       "<tr><td>dcee5341a1a6b429c...</td><td>1</td></tr>\n",
       "<tr><td>1827d16989b2eb01e...</td><td>1</td></tr>\n",
       "<tr><td>9995599d198128f2d...</td><td>1</td></tr>\n",
       "<tr><td>2bd3d9880a18beb9e...</td><td>1</td></tr>\n",
       "<tr><td>1b9d1275c2f09143e...</td><td>1</td></tr>\n",
       "<tr><td>c342d21c2e49fc97b...</td><td>1</td></tr>\n",
       "<tr><td>3f554810c2c8ae114...</td><td>1</td></tr>\n",
       "<tr><td>181fe31b8482d7627...</td><td>1</td></tr>\n",
       "<tr><td>43ae531b9813d1913...</td><td>1</td></tr>\n",
       "<tr><td>61915e506e393f16e...</td><td>1</td></tr>\n",
       "<tr><td>688ac271491d09e0e...</td><td>1</td></tr>\n",
       "<tr><td>083fb618160b9badb...</td><td>1</td></tr>\n",
       "<tr><td>f67703ac5b8091663...</td><td>1</td></tr>\n",
       "<tr><td>a0392f876bc1e98ae...</td><td>1</td></tr>\n",
       "<tr><td>9f2ef0612adccf6d4...</td><td>1</td></tr>\n",
       "<tr><td>ee34c6a1f2bef3ca5...</td><td>1</td></tr>\n",
       "</table>\n",
       "only showing top 20 rows\n"
      ],
      "text/plain": [
       "+--------------------+-----+\n",
       "|           member_id|total|\n",
       "+--------------------+-----+\n",
       "|1dc078d0a09b6114a...|    1|\n",
       "|c2afa9cbf9000f478...|    1|\n",
       "|43b383ba14725c8e2...|    1|\n",
       "|a9328643bcb5d8394...|    1|\n",
       "|f90929387f5fc1b63...|    1|\n",
       "|035531e5bc78328d1...|    1|\n",
       "|24153988b5744a139...|    1|\n",
       "|f154af23ebcbfcf1a...|    1|\n",
       "|598c0cf867042a14c...|    1|\n",
       "|1050c36258e775a9a...|    1|\n",
       "|4625a3be0b59868b1...|    1|\n",
       "|8b5a5f695113b7d8c...|    1|\n",
       "|c4ce4fb26e309cec3...|    1|\n",
       "|a2f869f895fbe9671...|    1|\n",
       "|42721d0c4c5502ab0...|    1|\n",
       "|a49f6114dc6d72be0...|    1|\n",
       "|52919654ada3e3787...|    1|\n",
       "|467bb54f36dc09ca0...|    1|\n",
       "|d349449b267a3bcfd...|    1|\n",
       "|0ae06fb1ea44c8a55...|    1|\n",
       "+--------------------+-----+\n",
       "only showing top 20 rows"
      ]
     },
     "execution_count": 28,
     "metadata": {},
     "output_type": "execute_result"
    }
   ],
   "source": [
    "spark.sql(\"\"\"select member_id, count(*) as total \n",
    "from itv008542_lending_club.customers_new\n",
    "group by member_id order by total desc\"\"\")"
   ]
  },
  {
   "cell_type": "markdown",
   "metadata": {
    "application/vnd.databricks.v1+cell": {
     "cellMetadata": {},
     "inputWidgets": {},
     "nuid": "f506d38e-a509-4abf-a010-f40dbca631e3",
     "showTitle": false,
     "title": ""
    }
   },
   "source": [
    "# Processing and Storing the Final Loan Score \n",
    "\n",
    "## Loan Score Calculation\n",
    "\n",
    "### Requirement 4\n",
    "\n",
    "- Higher the loan score, higher the chances of getting your loan approved, and vice versa\n",
    "- 3 Major criteria to calculate loan score\n",
    "\n",
    "  - loan repayment history (last payment, total payment received) - only 20% weight\n",
    "\n",
    "  - loan defaulters history (delinq-delinquet 2 yrs, pub_rec, ub_rec_bankruptcies, inq_last_6mnths) - only 45%\n",
    "\n",
    "  - financial health data (home_ownership, loan_status, funded amount, grade pts-) - only 35%\n",
    "\n"
   ]
  },
  {
   "cell_type": "markdown",
   "metadata": {
    "application/vnd.databricks.v1+cell": {
     "cellMetadata": {},
     "inputWidgets": {},
     "nuid": "7bfe6be0-1d09-4a17-b0ce-85154adcdd63",
     "showTitle": false,
     "title": ""
    }
   },
   "source": [
    "## Associating points to the grades in order to calculate the Loan Score"
   ]
  },
  {
   "cell_type": "code",
   "execution_count": 0,
   "metadata": {
    "application/vnd.databricks.v1+cell": {
     "cellMetadata": {},
     "inputWidgets": {},
     "nuid": "a30a3228-8e97-4a82-9de6-e8b20ebbe7a2",
     "showTitle": false,
     "title": ""
    }
   },
   "outputs": [],
   "source": [
    "spark.conf.set(\"spark.sql.unacceptable_rated_pts\", 0)\n",
    "spark.conf.set(\"spark.sql.very_bad_rated_pts\", 100)\n",
    "spark.conf.set(\"spark.sql.bad_rated_pts\", 250)\n",
    "spark.conf.set(\"spark.sql.good_rated_pts\", 500)\n",
    "spark.conf.set(\"spark.sql.very_good_rated_pts\", 650)\n",
    "spark.conf.set(\"spark.sql.excellent_rated_pts\", 800)"
   ]
  },
  {
   "cell_type": "code",
   "execution_count": 0,
   "metadata": {
    "application/vnd.databricks.v1+cell": {
     "cellMetadata": {},
     "inputWidgets": {},
     "nuid": "924ac74b-0676-403b-899d-7cbf539f2007",
     "showTitle": false,
     "title": ""
    }
   },
   "outputs": [],
   "source": [
    "spark.conf.set(\"spark.sql.unacceptable_grade_pts\", 750)\n",
    "spark.conf.set(\"spark.sql.very_bad_grade_pts\", 1000)\n",
    "spark.conf.set(\"spark.sql.bad_grade_pts\", 1500)\n",
    "spark.conf.set(\"spark.sql.good_grade_pts\", 2000)\n",
    "spark.conf.set(\"spark.sql.very_good_grade_pts\", 2500)"
   ]
  },
  {
   "cell_type": "markdown",
   "metadata": {
    "application/vnd.databricks.v1+cell": {
     "cellMetadata": {},
     "inputWidgets": {},
     "nuid": "b51373ff-2e13-4706-84fc-449c93630a9f",
     "showTitle": false,
     "title": ""
    }
   },
   "source": [
    "## The tables required to calculate the Loan Score"
   ]
  },
  {
   "cell_type": "markdown",
   "metadata": {
    "application/vnd.databricks.v1+cell": {
     "cellMetadata": {},
     "inputWidgets": {},
     "nuid": "8ee0e9e2-826b-4af2-9083-cca8c01d87d9",
     "showTitle": false,
     "title": ""
    }
   },
   "source": [
    "customers_new \n",
    "\n",
    "loans\n",
    "\n",
    "loans_repayments\n",
    "\n",
    "loans_defaulters_delinq_new\n",
    "\n",
    "loans_defaulters_detail_red_enq_new"
   ]
  },
  {
   "cell_type": "markdown",
   "metadata": {
    "application/vnd.databricks.v1+cell": {
     "cellMetadata": {},
     "inputWidgets": {},
     "nuid": "eedf836c-f8b5-4033-b801-d9225f0fe3f9",
     "showTitle": false,
     "title": ""
    }
   },
   "source": [
    "## Loan Score Calculation Criteria 1: Payment History(ph)\n",
    "\n",
    "- last payment amount < monthly installment * 0.5, then very_bad_rates_pts\n",
    "- last payment amount >= monthly installment * 0.5 and < monthly installment, then bad_rates_pts\n",
    "- last payment amount = monthly installment, then good_rates_pts\n"
   ]
  },
  {
   "cell_type": "code",
   "execution_count": 0,
   "metadata": {
    "application/vnd.databricks.v1+cell": {
     "cellMetadata": {},
     "inputWidgets": {},
     "nuid": "28374d29-c58a-4dff-b730-e0c06a466944",
     "showTitle": false,
     "title": ""
    }
   },
   "outputs": [],
   "source": [
    "bad_customer_data_final_df = spark.read \\\n",
    ".format(\"csv\") \\\n",
    ".option(\"header\", True) \\\n",
    ".option(\"inferSchema\", True) \\\n",
    ".load(\"/user/itv008542/lendingclubproject/bad/bad_customer_data_final\")"
   ]
  },
  {
   "cell_type": "code",
   "execution_count": 0,
   "metadata": {
    "application/vnd.databricks.v1+cell": {
     "cellMetadata": {},
     "inputWidgets": {},
     "nuid": "8f9b573b-9fee-42b8-9f67-c9ab4b3ab66d",
     "showTitle": false,
     "title": ""
    }
   },
   "outputs": [],
   "source": [
    "bad_customer_data_final_df.createOrReplaceTempView(\"bad_data_customer\")"
   ]
  },
  {
   "cell_type": "code",
   "execution_count": 0,
   "metadata": {
    "application/vnd.databricks.v1+cell": {
     "cellMetadata": {},
     "inputWidgets": {},
     "nuid": "1fe5248c-0999-4f2b-b3f6-3645e938060e",
     "showTitle": false,
     "title": ""
    }
   },
   "outputs": [],
   "source": [
    "ph_df = spark.sql(\"\"\"select c.member_id, \\\n",
    "   case \\\n",
    "   when p.last_payment_amount < (c.monthly_installment * 0.5) then ${spark.sql.very_bad_rated_pts} \\\n",
    "   when p.last_payment_amount >= (c.monthly_installment * 0.5) and p.last_payment_amount < c.monthly_installment then ${spark.sql.very_bad_rated_pts} \\\n",
    "   when (p.last_payment_amount = (c.monthly_installment)) then ${spark.sql.good_rated_pts} \\\n",
    "   when p.last_payment_amount > (c.monthly_installment) and p.last_payment_amount <= (c.monthly_installment * 1.50) then ${spark.sql.very_good_rated_pts} \\\n",
    "   when p.last_payment_amount > (c.monthly_installment * 1.50) then ${spark.sql.excellent_rated_pts} \\\n",
    "   else ${spark.sql.unacceptable_rated_pts} \\\n",
    "   end as last_payment_pts, \\\n",
    "   case \\\n",
    "   when p.total_payment_received >= (c.funded_amount * 0.50) then ${spark.sql.very_good_rated_pts} \\\n",
    "   when p.total_payment_received < (c.funded_amount * 0.50) and p.total_payment_received > 0 then ${spark.sql.good_rated_pts} \\\n",
    "   when p.total_payment_received = 0 or (p.total_payment_received) is null then ${spark.sql.unacceptable_rated_pts} \\\n",
    "   end as total_payment_pts \\\n",
    "from itv008542_lending_club.loans_repayments p \\\n",
    "inner join itv005857_lending_club.loans c on c.loan_id = p.loan_id \n",
    "where member_id NOT IN (select member_id from bad_data_customer)\"\"\")"
   ]
  },
  {
   "cell_type": "code",
   "execution_count": 0,
   "metadata": {
    "application/vnd.databricks.v1+cell": {
     "cellMetadata": {},
     "inputWidgets": {},
     "nuid": "a74c1e65-3de8-4e1e-84bf-e090ab7ac782",
     "showTitle": false,
     "title": ""
    }
   },
   "outputs": [],
   "source": [
    "ph_df.createOrReplaceTempView(\"ph_pts\")"
   ]
  },
  {
   "cell_type": "code",
   "execution_count": 0,
   "metadata": {
    "application/vnd.databricks.v1+cell": {
     "cellMetadata": {},
     "inputWidgets": {},
     "nuid": "00bb0a43-80ce-4354-b257-33d99435d95a",
     "showTitle": false,
     "title": ""
    }
   },
   "outputs": [
    {
     "output_type": "execute_result",
     "data": {
      "text/html": [
       "<table border='1'>\n",
       "<tr><th>member_id</th><th>last_payment_pts</th><th>total_payment_pts</th></tr>\n",
       "<tr><td>dcec9334e70f1cc95...</td><td>800</td><td>650</td></tr>\n",
       "<tr><td>fc58ca61f51f9dcac...</td><td>500</td><td>650</td></tr>\n",
       "<tr><td>2fb62a6ca51063b11...</td><td>500</td><td>650</td></tr>\n",
       "<tr><td>488268a5531951622...</td><td>800</td><td>650</td></tr>\n",
       "<tr><td>ade6026208e48f5f9...</td><td>500</td><td>650</td></tr>\n",
       "<tr><td>7c8b0ca6acddfaeb1...</td><td>800</td><td>650</td></tr>\n",
       "<tr><td>a707b7fe7c38bad65...</td><td>800</td><td>650</td></tr>\n",
       "<tr><td>1df639cddea30c288...</td><td>800</td><td>650</td></tr>\n",
       "<tr><td>22d67005e12d8726d...</td><td>500</td><td>650</td></tr>\n",
       "<tr><td>009cf312bd46551b4...</td><td>500</td><td>650</td></tr>\n",
       "<tr><td>2d995d383622fa80e...</td><td>500</td><td>650</td></tr>\n",
       "<tr><td>88b97663d2562f239...</td><td>500</td><td>650</td></tr>\n",
       "<tr><td>097d871ba6f21ee37...</td><td>500</td><td>650</td></tr>\n",
       "<tr><td>82e698108e1b8b88a...</td><td>500</td><td>650</td></tr>\n",
       "<tr><td>9e89f004a01479234...</td><td>500</td><td>650</td></tr>\n",
       "<tr><td>28ea534e78570f8d1...</td><td>800</td><td>650</td></tr>\n",
       "<tr><td>27a6888d24e06f6e2...</td><td>500</td><td>650</td></tr>\n",
       "<tr><td>c0d144ae7ab17c793...</td><td>500</td><td>500</td></tr>\n",
       "<tr><td>56d1102515f7d6a32...</td><td>800</td><td>650</td></tr>\n",
       "<tr><td>ba484052baf1e604c...</td><td>800</td><td>650</td></tr>\n",
       "</table>\n",
       "only showing top 20 rows\n"
      ],
      "text/plain": [
       "+--------------------+----------------+-----------------+\n",
       "|           member_id|last_payment_pts|total_payment_pts|\n",
       "+--------------------+----------------+-----------------+\n",
       "|dcec9334e70f1cc95...|             800|              650|\n",
       "|fc58ca61f51f9dcac...|             500|              650|\n",
       "|2fb62a6ca51063b11...|             500|              650|\n",
       "|488268a5531951622...|             800|              650|\n",
       "|ade6026208e48f5f9...|             500|              650|\n",
       "|7c8b0ca6acddfaeb1...|             800|              650|\n",
       "|a707b7fe7c38bad65...|             800|              650|\n",
       "|1df639cddea30c288...|             800|              650|\n",
       "|22d67005e12d8726d...|             500|              650|\n",
       "|009cf312bd46551b4...|             500|              650|\n",
       "|2d995d383622fa80e...|             500|              650|\n",
       "|88b97663d2562f239...|             500|              650|\n",
       "|097d871ba6f21ee37...|             500|              650|\n",
       "|82e698108e1b8b88a...|             500|              650|\n",
       "|9e89f004a01479234...|             500|              650|\n",
       "|28ea534e78570f8d1...|             800|              650|\n",
       "|27a6888d24e06f6e2...|             500|              650|\n",
       "|c0d144ae7ab17c793...|             500|              500|\n",
       "|56d1102515f7d6a32...|             800|              650|\n",
       "|ba484052baf1e604c...|             800|              650|\n",
       "+--------------------+----------------+-----------------+\n",
       "only showing top 20 rows"
      ]
     },
     "execution_count": 9,
     "metadata": {},
     "output_type": "execute_result"
    }
   ],
   "source": [
    "spark.sql(\"select * from ph_pts\")"
   ]
  },
  {
   "cell_type": "markdown",
   "metadata": {
    "application/vnd.databricks.v1+cell": {
     "cellMetadata": {},
     "inputWidgets": {},
     "nuid": "f312f3a5-26ba-4802-a2a9-7dc4cf9d9c3a",
     "showTitle": false,
     "title": ""
    }
   },
   "source": [
    "## Loan Score Calculation Criteria 2: Loan Defaulters History(ldh)"
   ]
  },
  {
   "cell_type": "code",
   "execution_count": 0,
   "metadata": {
    "application/vnd.databricks.v1+cell": {
     "cellMetadata": {},
     "inputWidgets": {},
     "nuid": "c092ddfb-bfb4-4a56-a66b-4ce52b8b22ed",
     "showTitle": false,
     "title": ""
    }
   },
   "outputs": [
    {
     "output_type": "stream",
     "name": "stdout",
     "output_type": "stream",
     "text": [
      "+----------------------+-----------------------------------+-----------+\n|database              |tableName                          |isTemporary|\n+----------------------+-----------------------------------+-----------+\n|itv008542_lending_club|customers                          |false      |\n|itv008542_lending_club|customers_loan_t                   |false      |\n|itv008542_lending_club|customers_loan_v                   |false      |\n|itv008542_lending_club|customers_new                      |false      |\n|itv008542_lending_club|loans                              |false      |\n|itv008542_lending_club|loans_defaulters_delinq            |false      |\n|itv008542_lending_club|loans_defaulters_delinq_new        |false      |\n|itv008542_lending_club|loans_defaulters_detail_rec_enq    |false      |\n|itv008542_lending_club|loans_defaulters_detail_rec_enq_new|false      |\n|itv008542_lending_club|loans_repayments                   |false      |\n|                      |bad_data_customer                  |true       |\n|                      |ph_pts                             |true       |\n+----------------------+-----------------------------------+-----------+\n\n"
     ]
    }
   ],
   "source": [
    "spark.sql(\"use itv008542_lending_club\")\n",
    "spark.sql(\"show tables\").show(truncate=False)"
   ]
  },
  {
   "cell_type": "code",
   "execution_count": 0,
   "metadata": {
    "application/vnd.databricks.v1+cell": {
     "cellMetadata": {},
     "inputWidgets": {},
     "nuid": "184ec40c-9361-4348-9a20-8909f477e240",
     "showTitle": false,
     "title": ""
    }
   },
   "outputs": [],
   "source": [
    "ldh_ph_df = spark.sql(\n",
    "    \"select p.*, \\\n",
    "    CASE \\\n",
    "    WHEN d.delinq_2yrs = 0 THEN ${spark.sql.excellent_rated_pts} \\\n",
    "    WHEN d.delinq_2yrs BETWEEN 1 AND 2 THEN ${spark.sql.bad_rated_pts} \\\n",
    "    WHEN d.delinq_2yrs BETWEEN 3 AND 5 THEN ${spark.sql.very_bad_rated_pts} \\\n",
    "    WHEN d.delinq_2yrs > 5 OR d.delinq_2yrs IS NULL THEN ${spark.sql.unacceptable_grade_pts} \\\n",
    "    END AS delinq_pts, \\\n",
    "    CASE \\\n",
    "    WHEN l.pub_rec = 0 THEN ${spark.sql.excellent_rated_pts} \\\n",
    "    WHEN l.pub_rec BETWEEN 1 AND 2 THEN ${spark.sql.bad_rated_pts} \\\n",
    "    WHEN l.pub_rec BETWEEN 3 AND 5 THEN ${spark.sql.very_bad_rated_pts} \\\n",
    "    WHEN l.pub_rec > 5 OR l.pub_rec IS NULL THEN ${spark.sql.very_bad_rated_pts} \\\n",
    "    END AS public_records_pts, \\\n",
    "    CASE \\\n",
    "    WHEN l.pub_rec_bankruptcies = 0 THEN ${spark.sql.excellent_rated_pts} \\\n",
    "    WHEN l.pub_rec_bankruptcies BETWEEN 1 AND 2 THEN ${spark.sql.bad_rated_pts} \\\n",
    "    WHEN l.pub_rec_bankruptcies BETWEEN 3 AND 5 THEN ${spark.sql.very_bad_rated_pts} \\\n",
    "    WHEN l.pub_rec_bankruptcies > 5 OR l.pub_rec_bankruptcies IS NULL THEN ${spark.sql.very_bad_rated_pts} \\\n",
    "    END as public_bankruptcies_pts, \\\n",
    "    CASE \\\n",
    "    WHEN l.inq_last_6mths = 0 THEN ${spark.sql.excellent_rated_pts} \\\n",
    "    WHEN l.inq_last_6mths BETWEEN 1 AND 2 THEN ${spark.sql.bad_rated_pts} \\\n",
    "    WHEN l.inq_last_6mths BETWEEN 3 AND 5 THEN ${spark.sql.very_bad_rated_pts} \\\n",
    "    WHEN l.inq_last_6mths > 5 OR l.inq_last_6mths IS NULL THEN ${spark.sql.unacceptable_rated_pts} \\\n",
    "    END AS enq_pts \\\n",
    "    FROM itv008542_lending_club.loans_defaulters_detail_rec_enq_new l \\\n",
    "    INNER JOIN itv008542_lending_club.loans_defaulters_delinq_new d ON d.member_id = l.member_id  \\\n",
    "    INNER JOIN ph_pts p ON p.member_id = l.member_id where l.member_id NOT IN (select member_id from bad_data_customer)\")"
   ]
  },
  {
   "cell_type": "code",
   "execution_count": 0,
   "metadata": {
    "application/vnd.databricks.v1+cell": {
     "cellMetadata": {},
     "inputWidgets": {},
     "nuid": "027850d8-d2fe-4be8-b331-96fa3cc3af01",
     "showTitle": false,
     "title": ""
    }
   },
   "outputs": [],
   "source": [
    "ldh_ph_df.createOrReplaceTempView(\"ldh_ph_pts\")"
   ]
  },
  {
   "cell_type": "code",
   "execution_count": 0,
   "metadata": {
    "application/vnd.databricks.v1+cell": {
     "cellMetadata": {},
     "inputWidgets": {},
     "nuid": "c1b5a984-3f5b-4ebf-b7c4-a8a6fc650d24",
     "showTitle": false,
     "title": ""
    }
   },
   "outputs": [
    {
     "output_type": "execute_result",
     "data": {
      "text/html": [
       "<table border='1'>\n",
       "<tr><th>member_id</th><th>last_payment_pts</th><th>total_payment_pts</th><th>delinq_pts</th><th>public_records_pts</th><th>public_bankruptcies_pts</th><th>enq_pts</th></tr>\n",
       "<tr><td>000c8875b71a6b47c...</td><td>800</td><td>650</td><td>250</td><td>800</td><td>800</td><td>800</td></tr>\n",
       "<tr><td>0012728d9f616bdf2...</td><td>500</td><td>500</td><td>800</td><td>800</td><td>800</td><td>800</td></tr>\n",
       "<tr><td>00151ece27c7ca280...</td><td>800</td><td>650</td><td>800</td><td>800</td><td>800</td><td>250</td></tr>\n",
       "<tr><td>003769d7f54c7859e...</td><td>500</td><td>500</td><td>250</td><td>800</td><td>800</td><td>800</td></tr>\n",
       "<tr><td>0037bb910c0a758f5...</td><td>500</td><td>500</td><td>800</td><td>800</td><td>800</td><td>800</td></tr>\n",
       "<tr><td>003e1e6cbd2920bbb...</td><td>500</td><td>650</td><td>250</td><td>250</td><td>250</td><td>800</td></tr>\n",
       "<tr><td>004017b21bd4d6271...</td><td>100</td><td>650</td><td>750</td><td>800</td><td>800</td><td>800</td></tr>\n",
       "<tr><td>005b4c3db3fce07dc...</td><td>500</td><td>650</td><td>250</td><td>250</td><td>800</td><td>250</td></tr>\n",
       "<tr><td>00710707c563c2119...</td><td>800</td><td>650</td><td>250</td><td>800</td><td>800</td><td>800</td></tr>\n",
       "<tr><td>007da79904f69970d...</td><td>800</td><td>650</td><td>250</td><td>800</td><td>800</td><td>800</td></tr>\n",
       "<tr><td>008515010997a80e1...</td><td>500</td><td>650</td><td>800</td><td>800</td><td>800</td><td>250</td></tr>\n",
       "<tr><td>009ccbe6fb66324d1...</td><td>500</td><td>650</td><td>800</td><td>800</td><td>800</td><td>800</td></tr>\n",
       "<tr><td>00d10706191726593...</td><td>800</td><td>650</td><td>800</td><td>800</td><td>800</td><td>250</td></tr>\n",
       "<tr><td>00da692a960ef39f1...</td><td>800</td><td>650</td><td>800</td><td>800</td><td>800</td><td>250</td></tr>\n",
       "<tr><td>00eb4bf9db783d8c2...</td><td>100</td><td>650</td><td>800</td><td>800</td><td>800</td><td>800</td></tr>\n",
       "<tr><td>00ec12e214988d8b3...</td><td>650</td><td>650</td><td>800</td><td>800</td><td>800</td><td>250</td></tr>\n",
       "<tr><td>00f435a80d0440ece...</td><td>500</td><td>500</td><td>100</td><td>800</td><td>800</td><td>800</td></tr>\n",
       "<tr><td>00fc2ae3ffb1213e4...</td><td>650</td><td>650</td><td>250</td><td>800</td><td>800</td><td>800</td></tr>\n",
       "<tr><td>00fc8144cb210ba8c...</td><td>500</td><td>650</td><td>250</td><td>250</td><td>250</td><td>800</td></tr>\n",
       "<tr><td>0110b7f5f4010cbaf...</td><td>800</td><td>650</td><td>800</td><td>800</td><td>800</td><td>250</td></tr>\n",
       "</table>\n",
       "only showing top 20 rows\n"
      ],
      "text/plain": [
       "+--------------------+----------------+-----------------+----------+------------------+-----------------------+-------+\n",
       "|           member_id|last_payment_pts|total_payment_pts|delinq_pts|public_records_pts|public_bankruptcies_pts|enq_pts|\n",
       "+--------------------+----------------+-----------------+----------+------------------+-----------------------+-------+\n",
       "|000c8875b71a6b47c...|             800|              650|       250|               800|                    800|    800|\n",
       "|0012728d9f616bdf2...|             500|              500|       800|               800|                    800|    800|\n",
       "|00151ece27c7ca280...|             800|              650|       800|               800|                    800|    250|\n",
       "|003769d7f54c7859e...|             500|              500|       250|               800|                    800|    800|\n",
       "|0037bb910c0a758f5...|             500|              500|       800|               800|                    800|    800|\n",
       "|003e1e6cbd2920bbb...|             500|              650|       250|               250|                    250|    800|\n",
       "|004017b21bd4d6271...|             100|              650|       750|               800|                    800|    800|\n",
       "|005b4c3db3fce07dc...|             500|              650|       250|               250|                    800|    250|\n",
       "|00710707c563c2119...|             800|              650|       250|               800|                    800|    800|\n",
       "|007da79904f69970d...|             800|              650|       250|               800|                    800|    800|\n",
       "|008515010997a80e1...|             500|              650|       800|               800|                    800|    250|\n",
       "|009ccbe6fb66324d1...|             500|              650|       800|               800|                    800|    800|\n",
       "|00d10706191726593...|             800|              650|       800|               800|                    800|    250|\n",
       "|00da692a960ef39f1...|             800|              650|       800|               800|                    800|    250|\n",
       "|00eb4bf9db783d8c2...|             100|              650|       800|               800|                    800|    800|\n",
       "|00ec12e214988d8b3...|             650|              650|       800|               800|                    800|    250|\n",
       "|00f435a80d0440ece...|             500|              500|       100|               800|                    800|    800|\n",
       "|00fc2ae3ffb1213e4...|             650|              650|       250|               800|                    800|    800|\n",
       "|00fc8144cb210ba8c...|             500|              650|       250|               250|                    250|    800|\n",
       "|0110b7f5f4010cbaf...|             800|              650|       800|               800|                    800|    250|\n",
       "+--------------------+----------------+-----------------+----------+------------------+-----------------------+-------+\n",
       "only showing top 20 rows"
      ]
     },
     "execution_count": 13,
     "metadata": {},
     "output_type": "execute_result"
    }
   ],
   "source": [
    "spark.sql(\"select * from ldh_ph_pts\")"
   ]
  },
  {
   "cell_type": "markdown",
   "metadata": {
    "application/vnd.databricks.v1+cell": {
     "cellMetadata": {},
     "inputWidgets": {},
     "nuid": "53875f8f-e9e1-4373-a5bf-5a56adc5250c",
     "showTitle": false,
     "title": ""
    }
   },
   "source": [
    "## Loan Score Calculation Criteria 3: Financial health (fh)"
   ]
  },
  {
   "cell_type": "code",
   "execution_count": 0,
   "metadata": {
    "application/vnd.databricks.v1+cell": {
     "cellMetadata": {},
     "inputWidgets": {},
     "nuid": "565e0a4e-0b37-43a4-afba-feac1bb05fdf",
     "showTitle": false,
     "title": ""
    }
   },
   "outputs": [],
   "source": [
    "fh_ldh_ph_df = spark.sql(\"select ldef.*, \\\n",
    "   CASE \\\n",
    "   WHEN LOWER(l.loan_status) LIKE '%fully paid%' THEN ${spark.sql.excellent_rated_pts} \\\n",
    "   WHEN LOWER(l.loan_status) LIKE '%current%' THEN ${spark.sql.good_rated_pts} \\\n",
    "   WHEN LOWER(l.loan_status) LIKE '%in grace period%' THEN ${spark.sql.bad_rated_pts} \\\n",
    "   WHEN LOWER(l.loan_status) LIKE '%late (16-30 days)%' OR LOWER(l.loan_status) LIKE '%late (31-120 days)%' THEN ${spark.sql.very_bad_rated_pts} \\\n",
    "   WHEN LOWER(l.loan_status) LIKE '%charged off%' THEN ${spark.sql.unacceptable_rated_pts} \\\n",
    "   else ${spark.sql.unacceptable_rated_pts} \\\n",
    "   END AS loan_status_pts, \\\n",
    "   CASE \\\n",
    "   WHEN LOWER(a.home_ownership) LIKE '%own' THEN ${spark.sql.excellent_rated_pts} \\\n",
    "   WHEN LOWER(a.home_ownership) LIKE '%rent' THEN ${spark.sql.good_rated_pts} \\\n",
    "   WHEN LOWER(a.home_ownership) LIKE '%mortgage' THEN ${spark.sql.bad_rated_pts} \\\n",
    "   WHEN LOWER(a.home_ownership) LIKE '%any' OR LOWER(a.home_ownership) IS NULL THEN ${spark.sql.very_bad_rated_pts} \\\n",
    "   END AS home_pts, \\\n",
    "   CASE \\\n",
    "   WHEN l.funded_amount <= (a.total_high_credit_limit * 0.10) THEN ${spark.sql.excellent_rated_pts} \\\n",
    "   WHEN l.funded_amount > (a.total_high_credit_limit * 0.10) AND l.funded_amount <= (a.total_high_credit_limit * 0.20) THEN ${spark.sql.very_good_rated_pts} \\\n",
    "   WHEN l.funded_amount > (a.total_high_credit_limit * 0.20) AND l.funded_amount <= (a.total_high_credit_limit * 0.30) THEN ${spark.sql.good_rated_pts} \\\n",
    "   WHEN l.funded_amount > (a.total_high_credit_limit * 0.30) AND l.funded_amount <= (a.total_high_credit_limit * 0.50) THEN ${spark.sql.bad_rated_pts} \\\n",
    "   WHEN l.funded_amount > (a.total_high_credit_limit * 0.50) AND l.funded_amount <= (a.total_high_credit_limit * 0.70) THEN ${spark.sql.very_bad_rated_pts} \\\n",
    "   WHEN l.funded_amount > (a.total_high_credit_limit * 0.70) THEN ${spark.sql.unacceptable_rated_pts} \\\n",
    "   else ${spark.sql.unacceptable_rated_pts} \\\n",
    "   END AS credit_limit_pts, \\\n",
    "   CASE \\\n",
    "   WHEN (a.grade) = 'A' and (a.sub_grade)='A1' THEN ${spark.sql.excellent_rated_pts} \\\n",
    "   WHEN (a.grade) = 'A' and (a.sub_grade)='A2' THEN (${spark.sql.excellent_rated_pts} * 0.95) \\\n",
    "   WHEN (a.grade) = 'A' and (a.sub_grade)='A3' THEN (${spark.sql.excellent_rated_pts} * 0.90) \\\n",
    "   WHEN (a.grade) = 'A' and (a.sub_grade)='A4' THEN (${spark.sql.excellent_rated_pts} * 0.85) \\\n",
    "   WHEN (a.grade) = 'A' and (a.sub_grade)='A5' THEN (${spark.sql.excellent_rated_pts} * 0.80) \\\n",
    "   WHEN (a.grade) = 'B' and (a.sub_grade)='B1' THEN (${spark.sql.very_good_rated_pts}) \\\n",
    "   WHEN (a.grade) = 'B' and (a.sub_grade)='B2' THEN (${spark.sql.very_good_rated_pts} * 0.95) \\\n",
    "   WHEN (a.grade) = 'B' and (a.sub_grade)='B3' THEN (${spark.sql.very_good_rated_pts} * 0.90) \\\n",
    "   WHEN (a.grade) = 'B' and (a.sub_grade)='B4' THEN (${spark.sql.very_good_rated_pts} * 0.85) \\\n",
    "   WHEN (a.grade) = 'B' and (a.sub_grade)='B5' THEN (${spark.sql.very_good_rated_pts} * 0.80) \\\n",
    "   WHEN (a.grade) = 'C' and (a.sub_grade)='C1' THEN (${spark.sql.good_rated_pts}) \\\n",
    "   WHEN (a.grade) = 'C' and (a.sub_grade)='C2' THEN (${spark.sql.good_rated_pts} * 0.95) \\\n",
    "   WHEN (a.grade) = 'C' and (a.sub_grade)='C3' THEN (${spark.sql.good_rated_pts} * 0.90) \\\n",
    "   WHEN (a.grade) = 'C' and (a.sub_grade)='C4' THEN (${spark.sql.good_rated_pts} * 0.85) \\\n",
    "   WHEN (a.grade) = 'C' and (a.sub_grade)='C5' THEN (${spark.sql.good_rated_pts} * 0.80) \\\n",
    "   WHEN (a.grade) = 'D' and (a.sub_grade)='D1' THEN (${spark.sql.bad_rated_pts}) \\\n",
    "   WHEN (a.grade) = 'D' and (a.sub_grade)='D2' THEN (${spark.sql.bad_rated_pts} * 0.95) \\\n",
    "   WHEN (a.grade) = 'D' and (a.sub_grade)='D3' THEN (${spark.sql.bad_rated_pts} * 0.90) \\\n",
    "   WHEN (a.grade) = 'D' and (a.sub_grade)='D4' THEN (${spark.sql.bad_rated_pts} * 0.85) \\\n",
    "   WHEN (a.grade) = 'D' and (a.sub_grade)='D5' THEN (${spark.sql.bad_rated_pts} * 0.80) \\\n",
    "   WHEN (a.grade) = 'E' and (a.sub_grade)='E1' THEN (${spark.sql.very_bad_rated_pts}) \\\n",
    "   WHEN (a.grade) = 'E' and (a.sub_grade)='E2' THEN (${spark.sql.very_bad_rated_pts} * 0.95) \\\n",
    "   WHEN (a.grade) = 'E' and (a.sub_grade)='E3' THEN (${spark.sql.very_bad_rated_pts} * 0.90) \\\n",
    "   WHEN (a.grade) = 'E' and (a.sub_grade)='E4' THEN (${spark.sql.very_bad_rated_pts} * 0.85) \\\n",
    "   WHEN (a.grade) = 'E' and (a.sub_grade)='E5' THEN (${spark.sql.very_bad_rated_pts} * 0.80) \\\n",
    "   WHEN (a.grade) in ('F', 'G') THEN (${spark.sql.unacceptable_rated_pts}) \\\n",
    "   END AS grade_pts \\\n",
    "   FROM ldh_ph_pts ldef \\\n",
    "   INNER JOIN itv008542_lending_club.loans l ON ldef.member_id = l.member_id \\\n",
    "   INNER JOIN itv008542_lending_club.customers_new a ON a.member_id = ldef.member_id where ldef.member_id NOT IN (select member_id from bad_data_customer)\") "
   ]
  },
  {
   "cell_type": "code",
   "execution_count": 0,
   "metadata": {
    "application/vnd.databricks.v1+cell": {
     "cellMetadata": {},
     "inputWidgets": {},
     "nuid": "c38cf08a-ef0c-4afa-9165-f96e76fde89a",
     "showTitle": false,
     "title": ""
    }
   },
   "outputs": [],
   "source": [
    "fh_ldh_ph_df.createOrReplaceTempView(\"fh_ldh_ph_pts\")"
   ]
  },
  {
   "cell_type": "code",
   "execution_count": 0,
   "metadata": {
    "application/vnd.databricks.v1+cell": {
     "cellMetadata": {},
     "inputWidgets": {},
     "nuid": "f32a6300-98f1-41f1-aba9-404f37ee37fd",
     "showTitle": false,
     "title": ""
    }
   },
   "outputs": [
    {
     "output_type": "execute_result",
     "data": {
      "text/html": [
       "<table border='1'>\n",
       "<tr><th>member_id</th><th>last_payment_pts</th><th>total_payment_pts</th><th>delinq_pts</th><th>public_records_pts</th><th>public_bankruptcies_pts</th><th>enq_pts</th><th>loan_status_pts</th><th>home_pts</th><th>credit_limit_pts</th><th>grade_pts</th></tr>\n",
       "<tr><td>000c8875b71a6b47c...</td><td>800</td><td>650</td><td>250</td><td>800</td><td>800</td><td>800</td><td>800</td><td>250</td><td>800</td><td>680.00</td></tr>\n",
       "<tr><td>0012728d9f616bdf2...</td><td>500</td><td>500</td><td>800</td><td>800</td><td>800</td><td>800</td><td>500</td><td>800</td><td>250</td><td>640.00</td></tr>\n",
       "<tr><td>00151ece27c7ca280...</td><td>800</td><td>650</td><td>800</td><td>800</td><td>800</td><td>250</td><td>800</td><td>500</td><td>250</td><td>500.00</td></tr>\n",
       "<tr><td>003769d7f54c7859e...</td><td>500</td><td>500</td><td>250</td><td>800</td><td>800</td><td>800</td><td>0</td><td>250</td><td>800</td><td>100.00</td></tr>\n",
       "<tr><td>0037bb910c0a758f5...</td><td>500</td><td>500</td><td>800</td><td>800</td><td>800</td><td>800</td><td>500</td><td>500</td><td>800</td><td>450.00</td></tr>\n",
       "<tr><td>003e1e6cbd2920bbb...</td><td>500</td><td>650</td><td>250</td><td>250</td><td>250</td><td>800</td><td>500</td><td>250</td><td>800</td><td>640.00</td></tr>\n",
       "<tr><td>004017b21bd4d6271...</td><td>100</td><td>650</td><td>750</td><td>800</td><td>800</td><td>800</td><td>800</td><td>250</td><td>800</td><td>500.00</td></tr>\n",
       "<tr><td>005b4c3db3fce07dc...</td><td>500</td><td>650</td><td>250</td><td>250</td><td>800</td><td>250</td><td>500</td><td>250</td><td>500</td><td>520.00</td></tr>\n",
       "<tr><td>00710707c563c2119...</td><td>800</td><td>650</td><td>250</td><td>800</td><td>800</td><td>800</td><td>800</td><td>250</td><td>800</td><td>520.00</td></tr>\n",
       "<tr><td>007da79904f69970d...</td><td>800</td><td>650</td><td>250</td><td>800</td><td>800</td><td>800</td><td>800</td><td>500</td><td>250</td><td>800.00</td></tr>\n",
       "<tr><td>008515010997a80e1...</td><td>500</td><td>650</td><td>800</td><td>800</td><td>800</td><td>250</td><td>500</td><td>500</td><td>500</td><td>250.00</td></tr>\n",
       "<tr><td>009ccbe6fb66324d1...</td><td>500</td><td>650</td><td>800</td><td>800</td><td>800</td><td>800</td><td>0</td><td>250</td><td>800</td><td>250.00</td></tr>\n",
       "<tr><td>00d10706191726593...</td><td>800</td><td>650</td><td>800</td><td>800</td><td>800</td><td>250</td><td>800</td><td>500</td><td>250</td><td>425.00</td></tr>\n",
       "<tr><td>00da692a960ef39f1...</td><td>800</td><td>650</td><td>800</td><td>800</td><td>800</td><td>250</td><td>800</td><td>800</td><td>500</td><td>0.00</td></tr>\n",
       "<tr><td>00eb4bf9db783d8c2...</td><td>100</td><td>650</td><td>800</td><td>800</td><td>800</td><td>800</td><td>800</td><td>250</td><td>800</td><td>552.50</td></tr>\n",
       "<tr><td>00ec12e214988d8b3...</td><td>650</td><td>650</td><td>800</td><td>800</td><td>800</td><td>250</td><td>800</td><td>500</td><td>650</td><td>680.00</td></tr>\n",
       "<tr><td>00f435a80d0440ece...</td><td>500</td><td>500</td><td>100</td><td>800</td><td>800</td><td>800</td><td>500</td><td>250</td><td>800</td><td>475.00</td></tr>\n",
       "<tr><td>00fc2ae3ffb1213e4...</td><td>650</td><td>650</td><td>250</td><td>800</td><td>800</td><td>800</td><td>800</td><td>250</td><td>650</td><td>450.00</td></tr>\n",
       "<tr><td>00fc8144cb210ba8c...</td><td>500</td><td>650</td><td>250</td><td>250</td><td>250</td><td>800</td><td>500</td><td>250</td><td>800</td><td>500.00</td></tr>\n",
       "<tr><td>0110b7f5f4010cbaf...</td><td>800</td><td>650</td><td>800</td><td>800</td><td>800</td><td>250</td><td>800</td><td>250</td><td>800</td><td>450.00</td></tr>\n",
       "</table>\n",
       "only showing top 20 rows\n"
      ],
      "text/plain": [
       "+--------------------+----------------+-----------------+----------+------------------+-----------------------+-------+---------------+--------+----------------+---------+\n",
       "|           member_id|last_payment_pts|total_payment_pts|delinq_pts|public_records_pts|public_bankruptcies_pts|enq_pts|loan_status_pts|home_pts|credit_limit_pts|grade_pts|\n",
       "+--------------------+----------------+-----------------+----------+------------------+-----------------------+-------+---------------+--------+----------------+---------+\n",
       "|000c8875b71a6b47c...|             800|              650|       250|               800|                    800|    800|            800|     250|             800|   680.00|\n",
       "|0012728d9f616bdf2...|             500|              500|       800|               800|                    800|    800|            500|     800|             250|   640.00|\n",
       "|00151ece27c7ca280...|             800|              650|       800|               800|                    800|    250|            800|     500|             250|   500.00|\n",
       "|003769d7f54c7859e...|             500|              500|       250|               800|                    800|    800|              0|     250|             800|   100.00|\n",
       "|0037bb910c0a758f5...|             500|              500|       800|               800|                    800|    800|            500|     500|             800|   450.00|\n",
       "|003e1e6cbd2920bbb...|             500|              650|       250|               250|                    250|    800|            500|     250|             800|   640.00|\n",
       "|004017b21bd4d6271...|             100|              650|       750|               800|                    800|    800|            800|     250|             800|   500.00|\n",
       "|005b4c3db3fce07dc...|             500|              650|       250|               250|                    800|    250|            500|     250|             500|   520.00|\n",
       "|00710707c563c2119...|             800|              650|       250|               800|                    800|    800|            800|     250|             800|   520.00|\n",
       "|007da79904f69970d...|             800|              650|       250|               800|                    800|    800|            800|     500|             250|   800.00|\n",
       "|008515010997a80e1...|             500|              650|       800|               800|                    800|    250|            500|     500|             500|   250.00|\n",
       "|009ccbe6fb66324d1...|             500|              650|       800|               800|                    800|    800|              0|     250|             800|   250.00|\n",
       "|00d10706191726593...|             800|              650|       800|               800|                    800|    250|            800|     500|             250|   425.00|\n",
       "|00da692a960ef39f1...|             800|              650|       800|               800|                    800|    250|            800|     800|             500|     0.00|\n",
       "|00eb4bf9db783d8c2...|             100|              650|       800|               800|                    800|    800|            800|     250|             800|   552.50|\n",
       "|00ec12e214988d8b3...|             650|              650|       800|               800|                    800|    250|            800|     500|             650|   680.00|\n",
       "|00f435a80d0440ece...|             500|              500|       100|               800|                    800|    800|            500|     250|             800|   475.00|\n",
       "|00fc2ae3ffb1213e4...|             650|              650|       250|               800|                    800|    800|            800|     250|             650|   450.00|\n",
       "|00fc8144cb210ba8c...|             500|              650|       250|               250|                    250|    800|            500|     250|             800|   500.00|\n",
       "|0110b7f5f4010cbaf...|             800|              650|       800|               800|                    800|    250|            800|     250|             800|   450.00|\n",
       "+--------------------+----------------+-----------------+----------+------------------+-----------------------+-------+---------------+--------+----------------+---------+\n",
       "only showing top 20 rows"
      ]
     },
     "execution_count": 16,
     "metadata": {},
     "output_type": "execute_result"
    }
   ],
   "source": [
    "spark.sql(\"select * from fh_ldh_ph_pts\")"
   ]
  },
  {
   "cell_type": "markdown",
   "metadata": {
    "application/vnd.databricks.v1+cell": {
     "cellMetadata": {},
     "inputWidgets": {},
     "nuid": "166c6351-53b7-4d7b-b9ad-b4b0be27e7f2",
     "showTitle": false,
     "title": ""
    }
   },
   "source": [
    "#### Final loan score calculation by considering all the 3 criterias with the following %**"
   ]
  },
  {
   "cell_type": "markdown",
   "metadata": {
    "application/vnd.databricks.v1+cell": {
     "cellMetadata": {},
     "inputWidgets": {},
     "nuid": "0e738163-1411-4d4c-9206-fe89d0d17a2d",
     "showTitle": false,
     "title": ""
    }
   },
   "source": [
    "#### 1. Payment History = 20%\n",
    "#### 2. Loan Defaults = 45%\n",
    "#### 3. Financial Health = 35%"
   ]
  },
  {
   "cell_type": "code",
   "execution_count": 0,
   "metadata": {
    "application/vnd.databricks.v1+cell": {
     "cellMetadata": {},
     "inputWidgets": {},
     "nuid": "09b2c788-cb94-46c3-9624-91b211d080fc",
     "showTitle": false,
     "title": ""
    }
   },
   "outputs": [],
   "source": [
    "loan_score = spark.sql(\"SELECT member_id, \\\n",
    "((last_payment_pts+total_payment_pts)*0.20) as payment_history_pts, \\\n",
    "((delinq_pts + public_records_pts + public_bankruptcies_pts + enq_pts) * 0.45) as defaulters_history_pts, \\\n",
    "((loan_status_pts + home_pts + credit_limit_pts + grade_pts)*0.35) as financial_health_pts \\\n",
    "FROM fh_ldh_ph_pts\")"
   ]
  },
  {
   "cell_type": "code",
   "execution_count": 0,
   "metadata": {
    "application/vnd.databricks.v1+cell": {
     "cellMetadata": {},
     "inputWidgets": {},
     "nuid": "30fbc78e-c4b7-43b5-8985-c0d451ebdfc7",
     "showTitle": false,
     "title": ""
    }
   },
   "outputs": [
    {
     "output_type": "execute_result",
     "data": {
      "text/html": [
       "<table border='1'>\n",
       "<tr><th>member_id</th><th>payment_history_pts</th><th>defaulters_history_pts</th><th>financial_health_pts</th></tr>\n",
       "<tr><td>000c8875b71a6b47c...</td><td>290.00</td><td>1192.50</td><td>885.5000</td></tr>\n",
       "<tr><td>0012728d9f616bdf2...</td><td>200.00</td><td>1440.00</td><td>766.5000</td></tr>\n",
       "<tr><td>00151ece27c7ca280...</td><td>290.00</td><td>1192.50</td><td>717.5000</td></tr>\n",
       "<tr><td>003769d7f54c7859e...</td><td>200.00</td><td>1192.50</td><td>402.5000</td></tr>\n",
       "<tr><td>0037bb910c0a758f5...</td><td>200.00</td><td>1440.00</td><td>787.5000</td></tr>\n",
       "<tr><td>003e1e6cbd2920bbb...</td><td>230.00</td><td>697.50</td><td>766.5000</td></tr>\n",
       "<tr><td>004017b21bd4d6271...</td><td>150.00</td><td>1417.50</td><td>822.5000</td></tr>\n",
       "<tr><td>005b4c3db3fce07dc...</td><td>230.00</td><td>697.50</td><td>619.5000</td></tr>\n",
       "<tr><td>00710707c563c2119...</td><td>290.00</td><td>1192.50</td><td>829.5000</td></tr>\n",
       "<tr><td>007da79904f69970d...</td><td>290.00</td><td>1192.50</td><td>822.5000</td></tr>\n",
       "<tr><td>008515010997a80e1...</td><td>230.00</td><td>1192.50</td><td>612.5000</td></tr>\n",
       "<tr><td>009ccbe6fb66324d1...</td><td>230.00</td><td>1440.00</td><td>455.0000</td></tr>\n",
       "<tr><td>00d10706191726593...</td><td>290.00</td><td>1192.50</td><td>691.2500</td></tr>\n",
       "<tr><td>00da692a960ef39f1...</td><td>290.00</td><td>1192.50</td><td>735.0000</td></tr>\n",
       "<tr><td>00eb4bf9db783d8c2...</td><td>150.00</td><td>1440.00</td><td>840.8750</td></tr>\n",
       "<tr><td>00ec12e214988d8b3...</td><td>260.00</td><td>1192.50</td><td>920.5000</td></tr>\n",
       "<tr><td>00f435a80d0440ece...</td><td>200.00</td><td>1125.00</td><td>708.7500</td></tr>\n",
       "<tr><td>00fc2ae3ffb1213e4...</td><td>260.00</td><td>1192.50</td><td>752.5000</td></tr>\n",
       "<tr><td>00fc8144cb210ba8c...</td><td>230.00</td><td>697.50</td><td>717.5000</td></tr>\n",
       "<tr><td>0110b7f5f4010cbaf...</td><td>290.00</td><td>1192.50</td><td>805.0000</td></tr>\n",
       "</table>\n",
       "only showing top 20 rows\n"
      ],
      "text/plain": [
       "+--------------------+-------------------+----------------------+--------------------+\n",
       "|           member_id|payment_history_pts|defaulters_history_pts|financial_health_pts|\n",
       "+--------------------+-------------------+----------------------+--------------------+\n",
       "|000c8875b71a6b47c...|             290.00|               1192.50|            885.5000|\n",
       "|0012728d9f616bdf2...|             200.00|               1440.00|            766.5000|\n",
       "|00151ece27c7ca280...|             290.00|               1192.50|            717.5000|\n",
       "|003769d7f54c7859e...|             200.00|               1192.50|            402.5000|\n",
       "|0037bb910c0a758f5...|             200.00|               1440.00|            787.5000|\n",
       "|003e1e6cbd2920bbb...|             230.00|                697.50|            766.5000|\n",
       "|004017b21bd4d6271...|             150.00|               1417.50|            822.5000|\n",
       "|005b4c3db3fce07dc...|             230.00|                697.50|            619.5000|\n",
       "|00710707c563c2119...|             290.00|               1192.50|            829.5000|\n",
       "|007da79904f69970d...|             290.00|               1192.50|            822.5000|\n",
       "|008515010997a80e1...|             230.00|               1192.50|            612.5000|\n",
       "|009ccbe6fb66324d1...|             230.00|               1440.00|            455.0000|\n",
       "|00d10706191726593...|             290.00|               1192.50|            691.2500|\n",
       "|00da692a960ef39f1...|             290.00|               1192.50|            735.0000|\n",
       "|00eb4bf9db783d8c2...|             150.00|               1440.00|            840.8750|\n",
       "|00ec12e214988d8b3...|             260.00|               1192.50|            920.5000|\n",
       "|00f435a80d0440ece...|             200.00|               1125.00|            708.7500|\n",
       "|00fc2ae3ffb1213e4...|             260.00|               1192.50|            752.5000|\n",
       "|00fc8144cb210ba8c...|             230.00|                697.50|            717.5000|\n",
       "|0110b7f5f4010cbaf...|             290.00|               1192.50|            805.0000|\n",
       "+--------------------+-------------------+----------------------+--------------------+\n",
       "only showing top 20 rows"
      ]
     },
     "execution_count": 18,
     "metadata": {},
     "output_type": "execute_result"
    }
   ],
   "source": [
    "loan_score"
   ]
  },
  {
   "cell_type": "code",
   "execution_count": 0,
   "metadata": {
    "application/vnd.databricks.v1+cell": {
     "cellMetadata": {},
     "inputWidgets": {},
     "nuid": "225d737d-cdd0-4006-9d7e-028f864289cd",
     "showTitle": false,
     "title": ""
    }
   },
   "outputs": [],
   "source": [
    "final_loan_score = loan_score.withColumn('loan_score', loan_score.payment_history_pts + loan_score.defaulters_history_pts + loan_score.financial_health_pts)"
   ]
  },
  {
   "cell_type": "code",
   "execution_count": 0,
   "metadata": {
    "application/vnd.databricks.v1+cell": {
     "cellMetadata": {},
     "inputWidgets": {},
     "nuid": "5092eed5-4e26-4664-856c-b6c38c422e06",
     "showTitle": false,
     "title": ""
    }
   },
   "outputs": [],
   "source": [
    "final_loan_score.createOrReplaceTempView(\"loan_score_eval\")"
   ]
  },
  {
   "cell_type": "code",
   "execution_count": 0,
   "metadata": {
    "application/vnd.databricks.v1+cell": {
     "cellMetadata": {},
     "inputWidgets": {},
     "nuid": "6bd19a5f-d1d7-449e-afb9-956314169d93",
     "showTitle": false,
     "title": ""
    }
   },
   "outputs": [
    {
     "output_type": "execute_result",
     "data": {
      "text/html": [
       "<table border='1'>\n",
       "<tr><th>member_id</th><th>payment_history_pts</th><th>defaulters_history_pts</th><th>financial_health_pts</th><th>loan_score</th></tr>\n",
       "<tr><td>000c8875b71a6b47c...</td><td>290.00</td><td>1192.50</td><td>885.5000</td><td>2368.0000</td></tr>\n",
       "<tr><td>0012728d9f616bdf2...</td><td>200.00</td><td>1440.00</td><td>766.5000</td><td>2406.5000</td></tr>\n",
       "<tr><td>00151ece27c7ca280...</td><td>290.00</td><td>1192.50</td><td>717.5000</td><td>2200.0000</td></tr>\n",
       "<tr><td>003769d7f54c7859e...</td><td>200.00</td><td>1192.50</td><td>402.5000</td><td>1795.0000</td></tr>\n",
       "<tr><td>0037bb910c0a758f5...</td><td>200.00</td><td>1440.00</td><td>787.5000</td><td>2427.5000</td></tr>\n",
       "<tr><td>003e1e6cbd2920bbb...</td><td>230.00</td><td>697.50</td><td>766.5000</td><td>1694.0000</td></tr>\n",
       "<tr><td>004017b21bd4d6271...</td><td>150.00</td><td>1417.50</td><td>822.5000</td><td>2390.0000</td></tr>\n",
       "<tr><td>005b4c3db3fce07dc...</td><td>230.00</td><td>697.50</td><td>619.5000</td><td>1547.0000</td></tr>\n",
       "<tr><td>00710707c563c2119...</td><td>290.00</td><td>1192.50</td><td>829.5000</td><td>2312.0000</td></tr>\n",
       "<tr><td>007da79904f69970d...</td><td>290.00</td><td>1192.50</td><td>822.5000</td><td>2305.0000</td></tr>\n",
       "<tr><td>008515010997a80e1...</td><td>230.00</td><td>1192.50</td><td>612.5000</td><td>2035.0000</td></tr>\n",
       "<tr><td>009ccbe6fb66324d1...</td><td>230.00</td><td>1440.00</td><td>455.0000</td><td>2125.0000</td></tr>\n",
       "<tr><td>00d10706191726593...</td><td>290.00</td><td>1192.50</td><td>691.2500</td><td>2173.7500</td></tr>\n",
       "<tr><td>00da692a960ef39f1...</td><td>290.00</td><td>1192.50</td><td>735.0000</td><td>2217.5000</td></tr>\n",
       "<tr><td>00eb4bf9db783d8c2...</td><td>150.00</td><td>1440.00</td><td>840.8750</td><td>2430.8750</td></tr>\n",
       "<tr><td>00ec12e214988d8b3...</td><td>260.00</td><td>1192.50</td><td>920.5000</td><td>2373.0000</td></tr>\n",
       "<tr><td>00f435a80d0440ece...</td><td>200.00</td><td>1125.00</td><td>708.7500</td><td>2033.7500</td></tr>\n",
       "<tr><td>00fc2ae3ffb1213e4...</td><td>260.00</td><td>1192.50</td><td>752.5000</td><td>2205.0000</td></tr>\n",
       "<tr><td>00fc8144cb210ba8c...</td><td>230.00</td><td>697.50</td><td>717.5000</td><td>1645.0000</td></tr>\n",
       "<tr><td>0110b7f5f4010cbaf...</td><td>290.00</td><td>1192.50</td><td>805.0000</td><td>2287.5000</td></tr>\n",
       "</table>\n",
       "only showing top 20 rows\n"
      ],
      "text/plain": [
       "+--------------------+-------------------+----------------------+--------------------+----------+\n",
       "|           member_id|payment_history_pts|defaulters_history_pts|financial_health_pts|loan_score|\n",
       "+--------------------+-------------------+----------------------+--------------------+----------+\n",
       "|000c8875b71a6b47c...|             290.00|               1192.50|            885.5000| 2368.0000|\n",
       "|0012728d9f616bdf2...|             200.00|               1440.00|            766.5000| 2406.5000|\n",
       "|00151ece27c7ca280...|             290.00|               1192.50|            717.5000| 2200.0000|\n",
       "|003769d7f54c7859e...|             200.00|               1192.50|            402.5000| 1795.0000|\n",
       "|0037bb910c0a758f5...|             200.00|               1440.00|            787.5000| 2427.5000|\n",
       "|003e1e6cbd2920bbb...|             230.00|                697.50|            766.5000| 1694.0000|\n",
       "|004017b21bd4d6271...|             150.00|               1417.50|            822.5000| 2390.0000|\n",
       "|005b4c3db3fce07dc...|             230.00|                697.50|            619.5000| 1547.0000|\n",
       "|00710707c563c2119...|             290.00|               1192.50|            829.5000| 2312.0000|\n",
       "|007da79904f69970d...|             290.00|               1192.50|            822.5000| 2305.0000|\n",
       "|008515010997a80e1...|             230.00|               1192.50|            612.5000| 2035.0000|\n",
       "|009ccbe6fb66324d1...|             230.00|               1440.00|            455.0000| 2125.0000|\n",
       "|00d10706191726593...|             290.00|               1192.50|            691.2500| 2173.7500|\n",
       "|00da692a960ef39f1...|             290.00|               1192.50|            735.0000| 2217.5000|\n",
       "|00eb4bf9db783d8c2...|             150.00|               1440.00|            840.8750| 2430.8750|\n",
       "|00ec12e214988d8b3...|             260.00|               1192.50|            920.5000| 2373.0000|\n",
       "|00f435a80d0440ece...|             200.00|               1125.00|            708.7500| 2033.7500|\n",
       "|00fc2ae3ffb1213e4...|             260.00|               1192.50|            752.5000| 2205.0000|\n",
       "|00fc8144cb210ba8c...|             230.00|                697.50|            717.5000| 1645.0000|\n",
       "|0110b7f5f4010cbaf...|             290.00|               1192.50|            805.0000| 2287.5000|\n",
       "+--------------------+-------------------+----------------------+--------------------+----------+\n",
       "only showing top 20 rows"
      ]
     },
     "execution_count": 21,
     "metadata": {},
     "output_type": "execute_result"
    }
   ],
   "source": [
    "spark.sql(\"select * from loan_score_eval\")"
   ]
  },
  {
   "cell_type": "code",
   "execution_count": 0,
   "metadata": {
    "application/vnd.databricks.v1+cell": {
     "cellMetadata": {},
     "inputWidgets": {},
     "nuid": "f33f7960-7627-44c2-b780-0971a1e4bbd9",
     "showTitle": false,
     "title": ""
    }
   },
   "outputs": [],
   "source": [
    "loan_score_final = spark.sql(\"select ls.*, \\\n",
    "case \\\n",
    "WHEN loan_score > ${spark.sql.very_good_grade_pts} THEN 'A' \\\n",
    "WHEN loan_score <= ${spark.sql.very_good_grade_pts} AND loan_score > ${spark.sql.good_grade_pts} THEN 'B' \\\n",
    "WHEN loan_score <= ${spark.sql.good_grade_pts} AND loan_score > ${spark.sql.bad_grade_pts} THEN 'C' \\\n",
    "WHEN loan_score <= ${spark.sql.bad_grade_pts} AND loan_score  > ${spark.sql.very_bad_grade_pts} THEN 'D' \\\n",
    "WHEN loan_score <= ${spark.sql.very_bad_grade_pts} AND loan_score > ${spark.sql.unacceptable_grade_pts} THEN 'E'  \\\n",
    "WHEN loan_score <= ${spark.sql.unacceptable_grade_pts} THEN 'F' \\\n",
    "end as loan_final_grade \\\n",
    "from loan_score_eval ls\")"
   ]
  },
  {
   "cell_type": "code",
   "execution_count": 0,
   "metadata": {
    "application/vnd.databricks.v1+cell": {
     "cellMetadata": {},
     "inputWidgets": {},
     "nuid": "5575642b-6206-4cff-8545-2b92d384621b",
     "showTitle": false,
     "title": ""
    }
   },
   "outputs": [],
   "source": [
    "loan_score_final.createOrReplaceTempView(\"loan_final_table\")"
   ]
  },
  {
   "cell_type": "code",
   "execution_count": 0,
   "metadata": {
    "application/vnd.databricks.v1+cell": {
     "cellMetadata": {},
     "inputWidgets": {},
     "nuid": "be414b14-01f4-491d-9ae9-77b2029a1fc6",
     "showTitle": false,
     "title": ""
    }
   },
   "outputs": [
    {
     "output_type": "execute_result",
     "data": {
      "text/html": [
       "<table border='1'>\n",
       "<tr><th>member_id</th><th>payment_history_pts</th><th>defaulters_history_pts</th><th>financial_health_pts</th><th>loan_score</th><th>loan_final_grade</th></tr>\n",
       "<tr><td>003769d7f54c7859e...</td><td>200.00</td><td>1192.50</td><td>402.5000</td><td>1795.0000</td><td>C</td></tr>\n",
       "<tr><td>003e1e6cbd2920bbb...</td><td>230.00</td><td>697.50</td><td>766.5000</td><td>1694.0000</td><td>C</td></tr>\n",
       "<tr><td>005b4c3db3fce07dc...</td><td>230.00</td><td>697.50</td><td>619.5000</td><td>1547.0000</td><td>C</td></tr>\n",
       "<tr><td>00fc8144cb210ba8c...</td><td>230.00</td><td>697.50</td><td>717.5000</td><td>1645.0000</td><td>C</td></tr>\n",
       "<tr><td>0134d807fbc9e8ff8...</td><td>230.00</td><td>1192.50</td><td>553.0000</td><td>1975.5000</td><td>C</td></tr>\n",
       "<tr><td>013630bb77d0f3c6a...</td><td>290.00</td><td>1192.50</td><td>399.0000</td><td>1881.5000</td><td>C</td></tr>\n",
       "<tr><td>017ce564dc0d6f975...</td><td>200.00</td><td>945.00</td><td>591.5000</td><td>1736.5000</td><td>C</td></tr>\n",
       "<tr><td>01b48af926b98a718...</td><td>200.00</td><td>1192.50</td><td>573.1250</td><td>1965.6250</td><td>C</td></tr>\n",
       "<tr><td>01d0c48835e969a01...</td><td>200.00</td><td>1192.50</td><td>262.5000</td><td>1655.0000</td><td>C</td></tr>\n",
       "<tr><td>024f077b5b4e47ea0...</td><td>230.00</td><td>1192.50</td><td>437.5000</td><td>1860.0000</td><td>C</td></tr>\n",
       "<tr><td>025ae8414d0b7147c...</td><td>230.00</td><td>945.00</td><td>572.2500</td><td>1747.2500</td><td>C</td></tr>\n",
       "<tr><td>029423dc123d9d333...</td><td>150.00</td><td>877.50</td><td>819.0000</td><td>1846.5000</td><td>C</td></tr>\n",
       "<tr><td>02a0539a18ced4b50...</td><td>230.00</td><td>1192.50</td><td>395.5000</td><td>1818.0000</td><td>C</td></tr>\n",
       "<tr><td>02e3a8534a2a79acd...</td><td>290.00</td><td>697.50</td><td>756.8750</td><td>1744.3750</td><td>C</td></tr>\n",
       "<tr><td>02f69de1384fcf78c...</td><td>150.00</td><td>945.00</td><td>864.5000</td><td>1959.5000</td><td>C</td></tr>\n",
       "<tr><td>032503cc8f86dea72...</td><td>200.00</td><td>945.00</td><td>647.5000</td><td>1792.5000</td><td>C</td></tr>\n",
       "<tr><td>035a8c46279041682...</td><td>230.00</td><td>1192.50</td><td>507.5000</td><td>1930.0000</td><td>C</td></tr>\n",
       "<tr><td>03c814d2820c4f5ca...</td><td>200.00</td><td>1125.00</td><td>573.1250</td><td>1898.1250</td><td>C</td></tr>\n",
       "<tr><td>03d6087177fa468e7...</td><td>200.00</td><td>1192.50</td><td>520.6250</td><td>1913.1250</td><td>C</td></tr>\n",
       "<tr><td>0401f0eff7d188d40...</td><td>200.00</td><td>945.00</td><td>612.5000</td><td>1757.5000</td><td>C</td></tr>\n",
       "</table>\n",
       "only showing top 20 rows\n"
      ],
      "text/plain": [
       "+--------------------+-------------------+----------------------+--------------------+----------+----------------+\n",
       "|           member_id|payment_history_pts|defaulters_history_pts|financial_health_pts|loan_score|loan_final_grade|\n",
       "+--------------------+-------------------+----------------------+--------------------+----------+----------------+\n",
       "|003769d7f54c7859e...|             200.00|               1192.50|            402.5000| 1795.0000|               C|\n",
       "|003e1e6cbd2920bbb...|             230.00|                697.50|            766.5000| 1694.0000|               C|\n",
       "|005b4c3db3fce07dc...|             230.00|                697.50|            619.5000| 1547.0000|               C|\n",
       "|00fc8144cb210ba8c...|             230.00|                697.50|            717.5000| 1645.0000|               C|\n",
       "|0134d807fbc9e8ff8...|             230.00|               1192.50|            553.0000| 1975.5000|               C|\n",
       "|013630bb77d0f3c6a...|             290.00|               1192.50|            399.0000| 1881.5000|               C|\n",
       "|017ce564dc0d6f975...|             200.00|                945.00|            591.5000| 1736.5000|               C|\n",
       "|01b48af926b98a718...|             200.00|               1192.50|            573.1250| 1965.6250|               C|\n",
       "|01d0c48835e969a01...|             200.00|               1192.50|            262.5000| 1655.0000|               C|\n",
       "|024f077b5b4e47ea0...|             230.00|               1192.50|            437.5000| 1860.0000|               C|\n",
       "|025ae8414d0b7147c...|             230.00|                945.00|            572.2500| 1747.2500|               C|\n",
       "|029423dc123d9d333...|             150.00|                877.50|            819.0000| 1846.5000|               C|\n",
       "|02a0539a18ced4b50...|             230.00|               1192.50|            395.5000| 1818.0000|               C|\n",
       "|02e3a8534a2a79acd...|             290.00|                697.50|            756.8750| 1744.3750|               C|\n",
       "|02f69de1384fcf78c...|             150.00|                945.00|            864.5000| 1959.5000|               C|\n",
       "|032503cc8f86dea72...|             200.00|                945.00|            647.5000| 1792.5000|               C|\n",
       "|035a8c46279041682...|             230.00|               1192.50|            507.5000| 1930.0000|               C|\n",
       "|03c814d2820c4f5ca...|             200.00|               1125.00|            573.1250| 1898.1250|               C|\n",
       "|03d6087177fa468e7...|             200.00|               1192.50|            520.6250| 1913.1250|               C|\n",
       "|0401f0eff7d188d40...|             200.00|                945.00|            612.5000| 1757.5000|               C|\n",
       "+--------------------+-------------------+----------------------+--------------------+----------+----------------+\n",
       "only showing top 20 rows"
      ]
     },
     "execution_count": 24,
     "metadata": {},
     "output_type": "execute_result"
    }
   ],
   "source": [
    "spark.sql(\"select * from loan_final_table where loan_final_grade in ('C')\")"
   ]
  },
  {
   "cell_type": "code",
   "execution_count": 0,
   "metadata": {
    "application/vnd.databricks.v1+cell": {
     "cellMetadata": {},
     "inputWidgets": {},
     "nuid": "a8129768-47f4-486d-a5ff-27222c7a3612",
     "showTitle": false,
     "title": ""
    }
   },
   "outputs": [
    {
     "output_type": "execute_result",
     "data": {
      "text/html": [
       "<table border='1'>\n",
       "<tr><th>count(1)</th></tr>\n",
       "<tr><td>1102587</td></tr>\n",
       "</table>\n"
      ],
      "text/plain": [
       "+--------+\n",
       "|count(1)|\n",
       "+--------+\n",
       "| 1102587|\n",
       "+--------+"
      ]
     },
     "execution_count": 25,
     "metadata": {},
     "output_type": "execute_result"
    }
   ],
   "source": [
    "spark.sql(\"select count(*) from loan_final_table\")"
   ]
  },
  {
   "cell_type": "code",
   "execution_count": 0,
   "metadata": {
    "application/vnd.databricks.v1+cell": {
     "cellMetadata": {},
     "inputWidgets": {},
     "nuid": "f0dcc4a9-c252-4af7-a923-5a624f65c885",
     "showTitle": false,
     "title": ""
    }
   },
   "outputs": [],
   "source": [
    "! hadoop fs -mkdir /user/itv008542/lendingclubproject/processed"
   ]
  },
  {
   "cell_type": "code",
   "execution_count": 0,
   "metadata": {
    "application/vnd.databricks.v1+cell": {
     "cellMetadata": {},
     "inputWidgets": {},
     "nuid": "772c03aa-093f-4164-8f94-158a00be518a",
     "showTitle": false,
     "title": ""
    }
   },
   "outputs": [],
   "source": [
    "loan_score_final.write \\\n",
    ".format(\"parquet\") \\\n",
    ".mode(\"overwrite\") \\\n",
    ".option(\"path\", \"/user/itv008542/lendingclubproject/processed/loan_score\") \\\n",
    ".save()"
   ]
  },
  {
   "cell_type": "code",
   "execution_count": 0,
   "metadata": {
    "application/vnd.databricks.v1+cell": {
     "cellMetadata": {},
     "inputWidgets": {},
     "nuid": "f4dc67ba-b461-489a-bafb-468da4043cf1",
     "showTitle": false,
     "title": ""
    }
   },
   "outputs": [
    {
     "output_type": "stream",
     "name": "stdout",
     "output_type": "stream",
     "text": [
      "Found 1 items\ndrwxr-xr-x   - itv008542 supergroup          0 2024-02-08 11:26 /user/itv008542/lendingclubproject/processed/loan_score\n"
     ]
    }
   ],
   "source": [
    "! hadoop fs -ls /user/itv008542/lendingclubproject/processed"
   ]
  },
  {
   "cell_type": "code",
   "execution_count": 0,
   "metadata": {
    "application/vnd.databricks.v1+cell": {
     "cellMetadata": {},
     "inputWidgets": {},
     "nuid": "d23d7820-c04c-4df4-919c-de7a21d4a6ec",
     "showTitle": false,
     "title": ""
    }
   },
   "outputs": [
    {
     "output_type": "stream",
     "name": "stdout",
     "output_type": "stream",
     "text": [
      "Found 201 items\n-rw-r--r--   3 itv008542 supergroup          0 2024-02-08 11:26 /user/itv008542/lendingclubproject/processed/loan_score/_SUCCESS\n-rw-r--r--   3 itv008542 supergroup     370133 2024-02-08 11:25 /user/itv008542/lendingclubproject/processed/loan_score/part-00000-a16902a1-907a-4b1b-98e5-23765d5d39e2-c000.snappy.parquet\n-rw-r--r--   3 itv008542 supergroup     385474 2024-02-08 11:25 /user/itv008542/lendingclubproject/processed/loan_score/part-00001-a16902a1-907a-4b1b-98e5-23765d5d39e2-c000.snappy.parquet\n-rw-r--r--   3 itv008542 supergroup     378579 2024-02-08 11:25 /user/itv008542/lendingclubproject/processed/loan_score/part-00002-a16902a1-907a-4b1b-98e5-23765d5d39e2-c000.snappy.parquet\n-rw-r--r--   3 itv008542 supergroup     380626 2024-02-08 11:25 /user/itv008542/lendingclubproject/processed/loan_score/part-00003-a16902a1-907a-4b1b-98e5-23765d5d39e2-c000.snappy.parquet\n-rw-r--r--   3 itv008542 supergroup     381041 2024-02-08 11:25 /user/itv008542/lendingclubproject/processed/loan_score/part-00004-a16902a1-907a-4b1b-98e5-23765d5d39e2-c000.snappy.parquet\n-rw-r--r--   3 itv008542 supergroup     382358 2024-02-08 11:25 /user/itv008542/lendingclubproject/processed/loan_score/part-00005-a16902a1-907a-4b1b-98e5-23765d5d39e2-c000.snappy.parquet\n-rw-r--r--   3 itv008542 supergroup     388550 2024-02-08 11:25 /user/itv008542/lendingclubproject/processed/loan_score/part-00006-a16902a1-907a-4b1b-98e5-23765d5d39e2-c000.snappy.parquet\n-rw-r--r--   3 itv008542 supergroup     381124 2024-02-08 11:25 /user/itv008542/lendingclubproject/processed/loan_score/part-00007-a16902a1-907a-4b1b-98e5-23765d5d39e2-c000.snappy.parquet\n-rw-r--r--   3 itv008542 supergroup     379459 2024-02-08 11:25 /user/itv008542/lendingclubproject/processed/loan_score/part-00008-a16902a1-907a-4b1b-98e5-23765d5d39e2-c000.snappy.parquet\n-rw-r--r--   3 itv008542 supergroup     378971 2024-02-08 11:25 /user/itv008542/lendingclubproject/processed/loan_score/part-00009-a16902a1-907a-4b1b-98e5-23765d5d39e2-c000.snappy.parquet\n-rw-r--r--   3 itv008542 supergroup     374053 2024-02-08 11:25 /user/itv008542/lendingclubproject/processed/loan_score/part-00010-a16902a1-907a-4b1b-98e5-23765d5d39e2-c000.snappy.parquet\n-rw-r--r--   3 itv008542 supergroup     383530 2024-02-08 11:25 /user/itv008542/lendingclubproject/processed/loan_score/part-00011-a16902a1-907a-4b1b-98e5-23765d5d39e2-c000.snappy.parquet\n-rw-r--r--   3 itv008542 supergroup     371708 2024-02-08 11:25 /user/itv008542/lendingclubproject/processed/loan_score/part-00012-a16902a1-907a-4b1b-98e5-23765d5d39e2-c000.snappy.parquet\n-rw-r--r--   3 itv008542 supergroup     389870 2024-02-08 11:25 /user/itv008542/lendingclubproject/processed/loan_score/part-00013-a16902a1-907a-4b1b-98e5-23765d5d39e2-c000.snappy.parquet\n-rw-r--r--   3 itv008542 supergroup     383014 2024-02-08 11:25 /user/itv008542/lendingclubproject/processed/loan_score/part-00014-a16902a1-907a-4b1b-98e5-23765d5d39e2-c000.snappy.parquet\n-rw-r--r--   3 itv008542 supergroup     375442 2024-02-08 11:25 /user/itv008542/lendingclubproject/processed/loan_score/part-00015-a16902a1-907a-4b1b-98e5-23765d5d39e2-c000.snappy.parquet\n-rw-r--r--   3 itv008542 supergroup     375142 2024-02-08 11:25 /user/itv008542/lendingclubproject/processed/loan_score/part-00016-a16902a1-907a-4b1b-98e5-23765d5d39e2-c000.snappy.parquet\n-rw-r--r--   3 itv008542 supergroup     391511 2024-02-08 11:25 /user/itv008542/lendingclubproject/processed/loan_score/part-00017-a16902a1-907a-4b1b-98e5-23765d5d39e2-c000.snappy.parquet\n-rw-r--r--   3 itv008542 supergroup     381483 2024-02-08 11:25 /user/itv008542/lendingclubproject/processed/loan_score/part-00018-a16902a1-907a-4b1b-98e5-23765d5d39e2-c000.snappy.parquet\n-rw-r--r--   3 itv008542 supergroup     385571 2024-02-08 11:25 /user/itv008542/lendingclubproject/processed/loan_score/part-00019-a16902a1-907a-4b1b-98e5-23765d5d39e2-c000.snappy.parquet\n-rw-r--r--   3 itv008542 supergroup     384768 2024-02-08 11:25 /user/itv008542/lendingclubproject/processed/loan_score/part-00020-a16902a1-907a-4b1b-98e5-23765d5d39e2-c000.snappy.parquet\n-rw-r--r--   3 itv008542 supergroup     376615 2024-02-08 11:25 /user/itv008542/lendingclubproject/processed/loan_score/part-00021-a16902a1-907a-4b1b-98e5-23765d5d39e2-c000.snappy.parquet\n-rw-r--r--   3 itv008542 supergroup     383580 2024-02-08 11:25 /user/itv008542/lendingclubproject/processed/loan_score/part-00022-a16902a1-907a-4b1b-98e5-23765d5d39e2-c000.snappy.parquet\n-rw-r--r--   3 itv008542 supergroup     385337 2024-02-08 11:25 /user/itv008542/lendingclubproject/processed/loan_score/part-00023-a16902a1-907a-4b1b-98e5-23765d5d39e2-c000.snappy.parquet\n-rw-r--r--   3 itv008542 supergroup     373946 2024-02-08 11:25 /user/itv008542/lendingclubproject/processed/loan_score/part-00024-a16902a1-907a-4b1b-98e5-23765d5d39e2-c000.snappy.parquet\n-rw-r--r--   3 itv008542 supergroup     382890 2024-02-08 11:25 /user/itv008542/lendingclubproject/processed/loan_score/part-00025-a16902a1-907a-4b1b-98e5-23765d5d39e2-c000.snappy.parquet\n-rw-r--r--   3 itv008542 supergroup     378636 2024-02-08 11:25 /user/itv008542/lendingclubproject/processed/loan_score/part-00026-a16902a1-907a-4b1b-98e5-23765d5d39e2-c000.snappy.parquet\n-rw-r--r--   3 itv008542 supergroup     379546 2024-02-08 11:25 /user/itv008542/lendingclubproject/processed/loan_score/part-00027-a16902a1-907a-4b1b-98e5-23765d5d39e2-c000.snappy.parquet\n-rw-r--r--   3 itv008542 supergroup     377490 2024-02-08 11:25 /user/itv008542/lendingclubproject/processed/loan_score/part-00028-a16902a1-907a-4b1b-98e5-23765d5d39e2-c000.snappy.parquet\n-rw-r--r--   3 itv008542 supergroup     381599 2024-02-08 11:25 /user/itv008542/lendingclubproject/processed/loan_score/part-00029-a16902a1-907a-4b1b-98e5-23765d5d39e2-c000.snappy.parquet\n-rw-r--r--   3 itv008542 supergroup     375135 2024-02-08 11:25 /user/itv008542/lendingclubproject/processed/loan_score/part-00030-a16902a1-907a-4b1b-98e5-23765d5d39e2-c000.snappy.parquet\n-rw-r--r--   3 itv008542 supergroup     384387 2024-02-08 11:25 /user/itv008542/lendingclubproject/processed/loan_score/part-00031-a16902a1-907a-4b1b-98e5-23765d5d39e2-c000.snappy.parquet\n-rw-r--r--   3 itv008542 supergroup     381027 2024-02-08 11:25 /user/itv008542/lendingclubproject/processed/loan_score/part-00032-a16902a1-907a-4b1b-98e5-23765d5d39e2-c000.snappy.parquet\n-rw-r--r--   3 itv008542 supergroup     383454 2024-02-08 11:25 /user/itv008542/lendingclubproject/processed/loan_score/part-00033-a16902a1-907a-4b1b-98e5-23765d5d39e2-c000.snappy.parquet\n-rw-r--r--   3 itv008542 supergroup     375432 2024-02-08 11:25 /user/itv008542/lendingclubproject/processed/loan_score/part-00034-a16902a1-907a-4b1b-98e5-23765d5d39e2-c000.snappy.parquet\n-rw-r--r--   3 itv008542 supergroup     378372 2024-02-08 11:25 /user/itv008542/lendingclubproject/processed/loan_score/part-00035-a16902a1-907a-4b1b-98e5-23765d5d39e2-c000.snappy.parquet\n-rw-r--r--   3 itv008542 supergroup     381435 2024-02-08 11:25 /user/itv008542/lendingclubproject/processed/loan_score/part-00036-a16902a1-907a-4b1b-98e5-23765d5d39e2-c000.snappy.parquet\n-rw-r--r--   3 itv008542 supergroup     374303 2024-02-08 11:25 /user/itv008542/lendingclubproject/processed/loan_score/part-00037-a16902a1-907a-4b1b-98e5-23765d5d39e2-c000.snappy.parquet\n-rw-r--r--   3 itv008542 supergroup     377778 2024-02-08 11:25 /user/itv008542/lendingclubproject/processed/loan_score/part-00038-a16902a1-907a-4b1b-98e5-23765d5d39e2-c000.snappy.parquet\n-rw-r--r--   3 itv008542 supergroup     378814 2024-02-08 11:25 /user/itv008542/lendingclubproject/processed/loan_score/part-00039-a16902a1-907a-4b1b-98e5-23765d5d39e2-c000.snappy.parquet\n-rw-r--r--   3 itv008542 supergroup     384831 2024-02-08 11:25 /user/itv008542/lendingclubproject/processed/loan_score/part-00040-a16902a1-907a-4b1b-98e5-23765d5d39e2-c000.snappy.parquet\n-rw-r--r--   3 itv008542 supergroup     385536 2024-02-08 11:25 /user/itv008542/lendingclubproject/processed/loan_score/part-00041-a16902a1-907a-4b1b-98e5-23765d5d39e2-c000.snappy.parquet\n-rw-r--r--   3 itv008542 supergroup     377505 2024-02-08 11:25 /user/itv008542/lendingclubproject/processed/loan_score/part-00042-a16902a1-907a-4b1b-98e5-23765d5d39e2-c000.snappy.parquet\n-rw-r--r--   3 itv008542 supergroup     380833 2024-02-08 11:25 /user/itv008542/lendingclubproject/processed/loan_score/part-00043-a16902a1-907a-4b1b-98e5-23765d5d39e2-c000.snappy.parquet\n-rw-r--r--   3 itv008542 supergroup     385075 2024-02-08 11:25 /user/itv008542/lendingclubproject/processed/loan_score/part-00044-a16902a1-907a-4b1b-98e5-23765d5d39e2-c000.snappy.parquet\n-rw-r--r--   3 itv008542 supergroup     376918 2024-02-08 11:25 /user/itv008542/lendingclubproject/processed/loan_score/part-00045-a16902a1-907a-4b1b-98e5-23765d5d39e2-c000.snappy.parquet\n-rw-r--r--   3 itv008542 supergroup     374566 2024-02-08 11:25 /user/itv008542/lendingclubproject/processed/loan_score/part-00046-a16902a1-907a-4b1b-98e5-23765d5d39e2-c000.snappy.parquet\n-rw-r--r--   3 itv008542 supergroup     381371 2024-02-08 11:25 /user/itv008542/lendingclubproject/processed/loan_score/part-00047-a16902a1-907a-4b1b-98e5-23765d5d39e2-c000.snappy.parquet\n-rw-r--r--   3 itv008542 supergroup     390100 2024-02-08 11:25 /user/itv008542/lendingclubproject/processed/loan_score/part-00048-a16902a1-907a-4b1b-98e5-23765d5d39e2-c000.snappy.parquet\n-rw-r--r--   3 itv008542 supergroup     374913 2024-02-08 11:25 /user/itv008542/lendingclubproject/processed/loan_score/part-00049-a16902a1-907a-4b1b-98e5-23765d5d39e2-c000.snappy.parquet\n-rw-r--r--   3 itv008542 supergroup     374875 2024-02-08 11:25 /user/itv008542/lendingclubproject/processed/loan_score/part-00050-a16902a1-907a-4b1b-98e5-23765d5d39e2-c000.snappy.parquet\n-rw-r--r--   3 itv008542 supergroup     381457 2024-02-08 11:25 /user/itv008542/lendingclubproject/processed/loan_score/part-00051-a16902a1-907a-4b1b-98e5-23765d5d39e2-c000.snappy.parquet\n-rw-r--r--   3 itv008542 supergroup     387348 2024-02-08 11:25 /user/itv008542/lendingclubproject/processed/loan_score/part-00052-a16902a1-907a-4b1b-98e5-23765d5d39e2-c000.snappy.parquet\n-rw-r--r--   3 itv008542 supergroup     377977 2024-02-08 11:25 /user/itv008542/lendingclubproject/processed/loan_score/part-00053-a16902a1-907a-4b1b-98e5-23765d5d39e2-c000.snappy.parquet\n-rw-r--r--   3 itv008542 supergroup     374441 2024-02-08 11:25 /user/itv008542/lendingclubproject/processed/loan_score/part-00054-a16902a1-907a-4b1b-98e5-23765d5d39e2-c000.snappy.parquet\n-rw-r--r--   3 itv008542 supergroup     377628 2024-02-08 11:25 /user/itv008542/lendingclubproject/processed/loan_score/part-00055-a16902a1-907a-4b1b-98e5-23765d5d39e2-c000.snappy.parquet\n-rw-r--r--   3 itv008542 supergroup     375406 2024-02-08 11:25 /user/itv008542/lendingclubproject/processed/loan_score/part-00056-a16902a1-907a-4b1b-98e5-23765d5d39e2-c000.snappy.parquet\n-rw-r--r--   3 itv008542 supergroup     375510 2024-02-08 11:25 /user/itv008542/lendingclubproject/processed/loan_score/part-00057-a16902a1-907a-4b1b-98e5-23765d5d39e2-c000.snappy.parquet\n-rw-r--r--   3 itv008542 supergroup     385321 2024-02-08 11:25 /user/itv008542/lendingclubproject/processed/loan_score/part-00058-a16902a1-907a-4b1b-98e5-23765d5d39e2-c000.snappy.parquet\n-rw-r--r--   3 itv008542 supergroup     374879 2024-02-08 11:25 /user/itv008542/lendingclubproject/processed/loan_score/part-00059-a16902a1-907a-4b1b-98e5-23765d5d39e2-c000.snappy.parquet\n-rw-r--r--   3 itv008542 supergroup     381308 2024-02-08 11:25 /user/itv008542/lendingclubproject/processed/loan_score/part-00060-a16902a1-907a-4b1b-98e5-23765d5d39e2-c000.snappy.parquet\n-rw-r--r--   3 itv008542 supergroup     376290 2024-02-08 11:25 /user/itv008542/lendingclubproject/processed/loan_score/part-00061-a16902a1-907a-4b1b-98e5-23765d5d39e2-c000.snappy.parquet\n-rw-r--r--   3 itv008542 supergroup     373401 2024-02-08 11:25 /user/itv008542/lendingclubproject/processed/loan_score/part-00062-a16902a1-907a-4b1b-98e5-23765d5d39e2-c000.snappy.parquet\n-rw-r--r--   3 itv008542 supergroup     377169 2024-02-08 11:25 /user/itv008542/lendingclubproject/processed/loan_score/part-00063-a16902a1-907a-4b1b-98e5-23765d5d39e2-c000.snappy.parquet\n-rw-r--r--   3 itv008542 supergroup     384144 2024-02-08 11:25 /user/itv008542/lendingclubproject/processed/loan_score/part-00064-a16902a1-907a-4b1b-98e5-23765d5d39e2-c000.snappy.parquet\n-rw-r--r--   3 itv008542 supergroup     380519 2024-02-08 11:25 /user/itv008542/lendingclubproject/processed/loan_score/part-00065-a16902a1-907a-4b1b-98e5-23765d5d39e2-c000.snappy.parquet\n-rw-r--r--   3 itv008542 supergroup     380505 2024-02-08 11:25 /user/itv008542/lendingclubproject/processed/loan_score/part-00066-a16902a1-907a-4b1b-98e5-23765d5d39e2-c000.snappy.parquet\n-rw-r--r--   3 itv008542 supergroup     375726 2024-02-08 11:25 /user/itv008542/lendingclubproject/processed/loan_score/part-00067-a16902a1-907a-4b1b-98e5-23765d5d39e2-c000.snappy.parquet\n-rw-r--r--   3 itv008542 supergroup     375466 2024-02-08 11:25 /user/itv008542/lendingclubproject/processed/loan_score/part-00068-a16902a1-907a-4b1b-98e5-23765d5d39e2-c000.snappy.parquet\n-rw-r--r--   3 itv008542 supergroup     395087 2024-02-08 11:25 /user/itv008542/lendingclubproject/processed/loan_score/part-00069-a16902a1-907a-4b1b-98e5-23765d5d39e2-c000.snappy.parquet\n-rw-r--r--   3 itv008542 supergroup     383108 2024-02-08 11:25 /user/itv008542/lendingclubproject/processed/loan_score/part-00070-a16902a1-907a-4b1b-98e5-23765d5d39e2-c000.snappy.parquet\n-rw-r--r--   3 itv008542 supergroup     381739 2024-02-08 11:25 /user/itv008542/lendingclubproject/processed/loan_score/part-00071-a16902a1-907a-4b1b-98e5-23765d5d39e2-c000.snappy.parquet\n-rw-r--r--   3 itv008542 supergroup     366615 2024-02-08 11:25 /user/itv008542/lendingclubproject/processed/loan_score/part-00072-a16902a1-907a-4b1b-98e5-23765d5d39e2-c000.snappy.parquet\n-rw-r--r--   3 itv008542 supergroup     377892 2024-02-08 11:25 /user/itv008542/lendingclubproject/processed/loan_score/part-00073-a16902a1-907a-4b1b-98e5-23765d5d39e2-c000.snappy.parquet\n-rw-r--r--   3 itv008542 supergroup     382144 2024-02-08 11:25 /user/itv008542/lendingclubproject/processed/loan_score/part-00074-a16902a1-907a-4b1b-98e5-23765d5d39e2-c000.snappy.parquet\n-rw-r--r--   3 itv008542 supergroup     393587 2024-02-08 11:25 /user/itv008542/lendingclubproject/processed/loan_score/part-00075-a16902a1-907a-4b1b-98e5-23765d5d39e2-c000.snappy.parquet\n-rw-r--r--   3 itv008542 supergroup     386158 2024-02-08 11:25 /user/itv008542/lendingclubproject/processed/loan_score/part-00076-a16902a1-907a-4b1b-98e5-23765d5d39e2-c000.snappy.parquet\n-rw-r--r--   3 itv008542 supergroup     381863 2024-02-08 11:26 /user/itv008542/lendingclubproject/processed/loan_score/part-00077-a16902a1-907a-4b1b-98e5-23765d5d39e2-c000.snappy.parquet\n-rw-r--r--   3 itv008542 supergroup     381532 2024-02-08 11:25 /user/itv008542/lendingclubproject/processed/loan_score/part-00078-a16902a1-907a-4b1b-98e5-23765d5d39e2-c000.snappy.parquet\n-rw-r--r--   3 itv008542 supergroup     380773 2024-02-08 11:25 /user/itv008542/lendingclubproject/processed/loan_score/part-00079-a16902a1-907a-4b1b-98e5-23765d5d39e2-c000.snappy.parquet\n-rw-r--r--   3 itv008542 supergroup     377545 2024-02-08 11:25 /user/itv008542/lendingclubproject/processed/loan_score/part-00080-a16902a1-907a-4b1b-98e5-23765d5d39e2-c000.snappy.parquet\n-rw-r--r--   3 itv008542 supergroup     376718 2024-02-08 11:25 /user/itv008542/lendingclubproject/processed/loan_score/part-00081-a16902a1-907a-4b1b-98e5-23765d5d39e2-c000.snappy.parquet\n-rw-r--r--   3 itv008542 supergroup     376663 2024-02-08 11:25 /user/itv008542/lendingclubproject/processed/loan_score/part-00082-a16902a1-907a-4b1b-98e5-23765d5d39e2-c000.snappy.parquet\n-rw-r--r--   3 itv008542 supergroup     383872 2024-02-08 11:25 /user/itv008542/lendingclubproject/processed/loan_score/part-00083-a16902a1-907a-4b1b-98e5-23765d5d39e2-c000.snappy.parquet\n-rw-r--r--   3 itv008542 supergroup     383384 2024-02-08 11:25 /user/itv008542/lendingclubproject/processed/loan_score/part-00084-a16902a1-907a-4b1b-98e5-23765d5d39e2-c000.snappy.parquet\n-rw-r--r--   3 itv008542 supergroup     381286 2024-02-08 11:25 /user/itv008542/lendingclubproject/processed/loan_score/part-00085-a16902a1-907a-4b1b-98e5-23765d5d39e2-c000.snappy.parquet\n-rw-r--r--   3 itv008542 supergroup     379201 2024-02-08 11:25 /user/itv008542/lendingclubproject/processed/loan_score/part-00086-a16902a1-907a-4b1b-98e5-23765d5d39e2-c000.snappy.parquet\n-rw-r--r--   3 itv008542 supergroup     377934 2024-02-08 11:25 /user/itv008542/lendingclubproject/processed/loan_score/part-00087-a16902a1-907a-4b1b-98e5-23765d5d39e2-c000.snappy.parquet\n-rw-r--r--   3 itv008542 supergroup     376165 2024-02-08 11:26 /user/itv008542/lendingclubproject/processed/loan_score/part-00088-a16902a1-907a-4b1b-98e5-23765d5d39e2-c000.snappy.parquet\n-rw-r--r--   3 itv008542 supergroup     373634 2024-02-08 11:26 /user/itv008542/lendingclubproject/processed/loan_score/part-00089-a16902a1-907a-4b1b-98e5-23765d5d39e2-c000.snappy.parquet\n-rw-r--r--   3 itv008542 supergroup     382256 2024-02-08 11:26 /user/itv008542/lendingclubproject/processed/loan_score/part-00090-a16902a1-907a-4b1b-98e5-23765d5d39e2-c000.snappy.parquet\n-rw-r--r--   3 itv008542 supergroup     386774 2024-02-08 11:26 /user/itv008542/lendingclubproject/processed/loan_score/part-00091-a16902a1-907a-4b1b-98e5-23765d5d39e2-c000.snappy.parquet\n-rw-r--r--   3 itv008542 supergroup     383108 2024-02-08 11:26 /user/itv008542/lendingclubproject/processed/loan_score/part-00092-a16902a1-907a-4b1b-98e5-23765d5d39e2-c000.snappy.parquet\n-rw-r--r--   3 itv008542 supergroup     379626 2024-02-08 11:26 /user/itv008542/lendingclubproject/processed/loan_score/part-00093-a16902a1-907a-4b1b-98e5-23765d5d39e2-c000.snappy.parquet\n-rw-r--r--   3 itv008542 supergroup     372783 2024-02-08 11:26 /user/itv008542/lendingclubproject/processed/loan_score/part-00094-a16902a1-907a-4b1b-98e5-23765d5d39e2-c000.snappy.parquet\n-rw-r--r--   3 itv008542 supergroup     375727 2024-02-08 11:26 /user/itv008542/lendingclubproject/processed/loan_score/part-00095-a16902a1-907a-4b1b-98e5-23765d5d39e2-c000.snappy.parquet\n-rw-r--r--   3 itv008542 supergroup     367611 2024-02-08 11:26 /user/itv008542/lendingclubproject/processed/loan_score/part-00096-a16902a1-907a-4b1b-98e5-23765d5d39e2-c000.snappy.parquet\n-rw-r--r--   3 itv008542 supergroup     384965 2024-02-08 11:26 /user/itv008542/lendingclubproject/processed/loan_score/part-00097-a16902a1-907a-4b1b-98e5-23765d5d39e2-c000.snappy.parquet\n-rw-r--r--   3 itv008542 supergroup     380004 2024-02-08 11:26 /user/itv008542/lendingclubproject/processed/loan_score/part-00098-a16902a1-907a-4b1b-98e5-23765d5d39e2-c000.snappy.parquet\n-rw-r--r--   3 itv008542 supergroup     378921 2024-02-08 11:26 /user/itv008542/lendingclubproject/processed/loan_score/part-00099-a16902a1-907a-4b1b-98e5-23765d5d39e2-c000.snappy.parquet\n-rw-r--r--   3 itv008542 supergroup     382305 2024-02-08 11:26 /user/itv008542/lendingclubproject/processed/loan_score/part-00100-a16902a1-907a-4b1b-98e5-23765d5d39e2-c000.snappy.parquet\n-rw-r--r--   3 itv008542 supergroup     378812 2024-02-08 11:26 /user/itv008542/lendingclubproject/processed/loan_score/part-00101-a16902a1-907a-4b1b-98e5-23765d5d39e2-c000.snappy.parquet\n-rw-r--r--   3 itv008542 supergroup     369319 2024-02-08 11:26 /user/itv008542/lendingclubproject/processed/loan_score/part-00102-a16902a1-907a-4b1b-98e5-23765d5d39e2-c000.snappy.parquet\n-rw-r--r--   3 itv008542 supergroup     380022 2024-02-08 11:26 /user/itv008542/lendingclubproject/processed/loan_score/part-00103-a16902a1-907a-4b1b-98e5-23765d5d39e2-c000.snappy.parquet\n-rw-r--r--   3 itv008542 supergroup     378348 2024-02-08 11:26 /user/itv008542/lendingclubproject/processed/loan_score/part-00104-a16902a1-907a-4b1b-98e5-23765d5d39e2-c000.snappy.parquet\n-rw-r--r--   3 itv008542 supergroup     383020 2024-02-08 11:26 /user/itv008542/lendingclubproject/processed/loan_score/part-00105-a16902a1-907a-4b1b-98e5-23765d5d39e2-c000.snappy.parquet\n-rw-r--r--   3 itv008542 supergroup     375687 2024-02-08 11:26 /user/itv008542/lendingclubproject/processed/loan_score/part-00106-a16902a1-907a-4b1b-98e5-23765d5d39e2-c000.snappy.parquet\n-rw-r--r--   3 itv008542 supergroup     372644 2024-02-08 11:26 /user/itv008542/lendingclubproject/processed/loan_score/part-00107-a16902a1-907a-4b1b-98e5-23765d5d39e2-c000.snappy.parquet\n-rw-r--r--   3 itv008542 supergroup     380765 2024-02-08 11:26 /user/itv008542/lendingclubproject/processed/loan_score/part-00108-a16902a1-907a-4b1b-98e5-23765d5d39e2-c000.snappy.parquet\n-rw-r--r--   3 itv008542 supergroup     380837 2024-02-08 11:26 /user/itv008542/lendingclubproject/processed/loan_score/part-00109-a16902a1-907a-4b1b-98e5-23765d5d39e2-c000.snappy.parquet\n-rw-r--r--   3 itv008542 supergroup     377991 2024-02-08 11:26 /user/itv008542/lendingclubproject/processed/loan_score/part-00110-a16902a1-907a-4b1b-98e5-23765d5d39e2-c000.snappy.parquet\n-rw-r--r--   3 itv008542 supergroup     385439 2024-02-08 11:26 /user/itv008542/lendingclubproject/processed/loan_score/part-00111-a16902a1-907a-4b1b-98e5-23765d5d39e2-c000.snappy.parquet\n-rw-r--r--   3 itv008542 supergroup     374901 2024-02-08 11:26 /user/itv008542/lendingclubproject/processed/loan_score/part-00112-a16902a1-907a-4b1b-98e5-23765d5d39e2-c000.snappy.parquet\n-rw-r--r--   3 itv008542 supergroup     376410 2024-02-08 11:26 /user/itv008542/lendingclubproject/processed/loan_score/part-00113-a16902a1-907a-4b1b-98e5-23765d5d39e2-c000.snappy.parquet\n-rw-r--r--   3 itv008542 supergroup     385028 2024-02-08 11:26 /user/itv008542/lendingclubproject/processed/loan_score/part-00114-a16902a1-907a-4b1b-98e5-23765d5d39e2-c000.snappy.parquet\n-rw-r--r--   3 itv008542 supergroup     384939 2024-02-08 11:26 /user/itv008542/lendingclubproject/processed/loan_score/part-00115-a16902a1-907a-4b1b-98e5-23765d5d39e2-c000.snappy.parquet\n-rw-r--r--   3 itv008542 supergroup     381174 2024-02-08 11:26 /user/itv008542/lendingclubproject/processed/loan_score/part-00116-a16902a1-907a-4b1b-98e5-23765d5d39e2-c000.snappy.parquet\n-rw-r--r--   3 itv008542 supergroup     374473 2024-02-08 11:26 /user/itv008542/lendingclubproject/processed/loan_score/part-00117-a16902a1-907a-4b1b-98e5-23765d5d39e2-c000.snappy.parquet\n-rw-r--r--   3 itv008542 supergroup     389418 2024-02-08 11:26 /user/itv008542/lendingclubproject/processed/loan_score/part-00118-a16902a1-907a-4b1b-98e5-23765d5d39e2-c000.snappy.parquet\n-rw-r--r--   3 itv008542 supergroup     369915 2024-02-08 11:26 /user/itv008542/lendingclubproject/processed/loan_score/part-00119-a16902a1-907a-4b1b-98e5-23765d5d39e2-c000.snappy.parquet\n-rw-r--r--   3 itv008542 supergroup     380682 2024-02-08 11:26 /user/itv008542/lendingclubproject/processed/loan_score/part-00120-a16902a1-907a-4b1b-98e5-23765d5d39e2-c000.snappy.parquet\n-rw-r--r--   3 itv008542 supergroup     379728 2024-02-08 11:26 /user/itv008542/lendingclubproject/processed/loan_score/part-00121-a16902a1-907a-4b1b-98e5-23765d5d39e2-c000.snappy.parquet\n-rw-r--r--   3 itv008542 supergroup     377618 2024-02-08 11:26 /user/itv008542/lendingclubproject/processed/loan_score/part-00122-a16902a1-907a-4b1b-98e5-23765d5d39e2-c000.snappy.parquet\n-rw-r--r--   3 itv008542 supergroup     379634 2024-02-08 11:26 /user/itv008542/lendingclubproject/processed/loan_score/part-00123-a16902a1-907a-4b1b-98e5-23765d5d39e2-c000.snappy.parquet\n-rw-r--r--   3 itv008542 supergroup     380838 2024-02-08 11:26 /user/itv008542/lendingclubproject/processed/loan_score/part-00124-a16902a1-907a-4b1b-98e5-23765d5d39e2-c000.snappy.parquet\n-rw-r--r--   3 itv008542 supergroup     386585 2024-02-08 11:26 /user/itv008542/lendingclubproject/processed/loan_score/part-00125-a16902a1-907a-4b1b-98e5-23765d5d39e2-c000.snappy.parquet\n-rw-r--r--   3 itv008542 supergroup     377410 2024-02-08 11:26 /user/itv008542/lendingclubproject/processed/loan_score/part-00126-a16902a1-907a-4b1b-98e5-23765d5d39e2-c000.snappy.parquet\n-rw-r--r--   3 itv008542 supergroup     384058 2024-02-08 11:26 /user/itv008542/lendingclubproject/processed/loan_score/part-00127-a16902a1-907a-4b1b-98e5-23765d5d39e2-c000.snappy.parquet\n-rw-r--r--   3 itv008542 supergroup     386852 2024-02-08 11:26 /user/itv008542/lendingclubproject/processed/loan_score/part-00128-a16902a1-907a-4b1b-98e5-23765d5d39e2-c000.snappy.parquet\n-rw-r--r--   3 itv008542 supergroup     375252 2024-02-08 11:26 /user/itv008542/lendingclubproject/processed/loan_score/part-00129-a16902a1-907a-4b1b-98e5-23765d5d39e2-c000.snappy.parquet\n-rw-r--r--   3 itv008542 supergroup     377844 2024-02-08 11:26 /user/itv008542/lendingclubproject/processed/loan_score/part-00130-a16902a1-907a-4b1b-98e5-23765d5d39e2-c000.snappy.parquet\n-rw-r--r--   3 itv008542 supergroup     376613 2024-02-08 11:26 /user/itv008542/lendingclubproject/processed/loan_score/part-00131-a16902a1-907a-4b1b-98e5-23765d5d39e2-c000.snappy.parquet\n-rw-r--r--   3 itv008542 supergroup     381903 2024-02-08 11:26 /user/itv008542/lendingclubproject/processed/loan_score/part-00132-a16902a1-907a-4b1b-98e5-23765d5d39e2-c000.snappy.parquet\n-rw-r--r--   3 itv008542 supergroup     378883 2024-02-08 11:26 /user/itv008542/lendingclubproject/processed/loan_score/part-00133-a16902a1-907a-4b1b-98e5-23765d5d39e2-c000.snappy.parquet\n-rw-r--r--   3 itv008542 supergroup     382761 2024-02-08 11:26 /user/itv008542/lendingclubproject/processed/loan_score/part-00134-a16902a1-907a-4b1b-98e5-23765d5d39e2-c000.snappy.parquet\n-rw-r--r--   3 itv008542 supergroup     388007 2024-02-08 11:26 /user/itv008542/lendingclubproject/processed/loan_score/part-00135-a16902a1-907a-4b1b-98e5-23765d5d39e2-c000.snappy.parquet\n-rw-r--r--   3 itv008542 supergroup     382547 2024-02-08 11:26 /user/itv008542/lendingclubproject/processed/loan_score/part-00136-a16902a1-907a-4b1b-98e5-23765d5d39e2-c000.snappy.parquet\n-rw-r--r--   3 itv008542 supergroup     379713 2024-02-08 11:26 /user/itv008542/lendingclubproject/processed/loan_score/part-00137-a16902a1-907a-4b1b-98e5-23765d5d39e2-c000.snappy.parquet\n-rw-r--r--   3 itv008542 supergroup     375408 2024-02-08 11:26 /user/itv008542/lendingclubproject/processed/loan_score/part-00138-a16902a1-907a-4b1b-98e5-23765d5d39e2-c000.snappy.parquet\n-rw-r--r--   3 itv008542 supergroup     384092 2024-02-08 11:26 /user/itv008542/lendingclubproject/processed/loan_score/part-00139-a16902a1-907a-4b1b-98e5-23765d5d39e2-c000.snappy.parquet\n-rw-r--r--   3 itv008542 supergroup     377138 2024-02-08 11:26 /user/itv008542/lendingclubproject/processed/loan_score/part-00140-a16902a1-907a-4b1b-98e5-23765d5d39e2-c000.snappy.parquet\n-rw-r--r--   3 itv008542 supergroup     378985 2024-02-08 11:26 /user/itv008542/lendingclubproject/processed/loan_score/part-00141-a16902a1-907a-4b1b-98e5-23765d5d39e2-c000.snappy.parquet\n-rw-r--r--   3 itv008542 supergroup     377914 2024-02-08 11:26 /user/itv008542/lendingclubproject/processed/loan_score/part-00142-a16902a1-907a-4b1b-98e5-23765d5d39e2-c000.snappy.parquet\n-rw-r--r--   3 itv008542 supergroup     374065 2024-02-08 11:26 /user/itv008542/lendingclubproject/processed/loan_score/part-00143-a16902a1-907a-4b1b-98e5-23765d5d39e2-c000.snappy.parquet\n-rw-r--r--   3 itv008542 supergroup     374372 2024-02-08 11:26 /user/itv008542/lendingclubproject/processed/loan_score/part-00144-a16902a1-907a-4b1b-98e5-23765d5d39e2-c000.snappy.parquet\n-rw-r--r--   3 itv008542 supergroup     368551 2024-02-08 11:26 /user/itv008542/lendingclubproject/processed/loan_score/part-00145-a16902a1-907a-4b1b-98e5-23765d5d39e2-c000.snappy.parquet\n-rw-r--r--   3 itv008542 supergroup     381005 2024-02-08 11:26 /user/itv008542/lendingclubproject/processed/loan_score/part-00146-a16902a1-907a-4b1b-98e5-23765d5d39e2-c000.snappy.parquet\n-rw-r--r--   3 itv008542 supergroup     383877 2024-02-08 11:26 /user/itv008542/lendingclubproject/processed/loan_score/part-00147-a16902a1-907a-4b1b-98e5-23765d5d39e2-c000.snappy.parquet\n-rw-r--r--   3 itv008542 supergroup     378439 2024-02-08 11:26 /user/itv008542/lendingclubproject/processed/loan_score/part-00148-a16902a1-907a-4b1b-98e5-23765d5d39e2-c000.snappy.parquet\n-rw-r--r--   3 itv008542 supergroup     379053 2024-02-08 11:26 /user/itv008542/lendingclubproject/processed/loan_score/part-00149-a16902a1-907a-4b1b-98e5-23765d5d39e2-c000.snappy.parquet\n-rw-r--r--   3 itv008542 supergroup     380172 2024-02-08 11:26 /user/itv008542/lendingclubproject/processed/loan_score/part-00150-a16902a1-907a-4b1b-98e5-23765d5d39e2-c000.snappy.parquet\n-rw-r--r--   3 itv008542 supergroup     386246 2024-02-08 11:26 /user/itv008542/lendingclubproject/processed/loan_score/part-00151-a16902a1-907a-4b1b-98e5-23765d5d39e2-c000.snappy.parquet\n-rw-r--r--   3 itv008542 supergroup     374091 2024-02-08 11:26 /user/itv008542/lendingclubproject/processed/loan_score/part-00152-a16902a1-907a-4b1b-98e5-23765d5d39e2-c000.snappy.parquet\n-rw-r--r--   3 itv008542 supergroup     378111 2024-02-08 11:26 /user/itv008542/lendingclubproject/processed/loan_score/part-00153-a16902a1-907a-4b1b-98e5-23765d5d39e2-c000.snappy.parquet\n-rw-r--r--   3 itv008542 supergroup     381132 2024-02-08 11:26 /user/itv008542/lendingclubproject/processed/loan_score/part-00154-a16902a1-907a-4b1b-98e5-23765d5d39e2-c000.snappy.parquet\n-rw-r--r--   3 itv008542 supergroup     380786 2024-02-08 11:26 /user/itv008542/lendingclubproject/processed/loan_score/part-00155-a16902a1-907a-4b1b-98e5-23765d5d39e2-c000.snappy.parquet\n-rw-r--r--   3 itv008542 supergroup     384976 2024-02-08 11:26 /user/itv008542/lendingclubproject/processed/loan_score/part-00156-a16902a1-907a-4b1b-98e5-23765d5d39e2-c000.snappy.parquet\n-rw-r--r--   3 itv008542 supergroup     373644 2024-02-08 11:26 /user/itv008542/lendingclubproject/processed/loan_score/part-00157-a16902a1-907a-4b1b-98e5-23765d5d39e2-c000.snappy.parquet\n-rw-r--r--   3 itv008542 supergroup     379852 2024-02-08 11:26 /user/itv008542/lendingclubproject/processed/loan_score/part-00158-a16902a1-907a-4b1b-98e5-23765d5d39e2-c000.snappy.parquet\n-rw-r--r--   3 itv008542 supergroup     372821 2024-02-08 11:26 /user/itv008542/lendingclubproject/processed/loan_score/part-00159-a16902a1-907a-4b1b-98e5-23765d5d39e2-c000.snappy.parquet\n-rw-r--r--   3 itv008542 supergroup     376491 2024-02-08 11:26 /user/itv008542/lendingclubproject/processed/loan_score/part-00160-a16902a1-907a-4b1b-98e5-23765d5d39e2-c000.snappy.parquet\n-rw-r--r--   3 itv008542 supergroup     382025 2024-02-08 11:26 /user/itv008542/lendingclubproject/processed/loan_score/part-00161-a16902a1-907a-4b1b-98e5-23765d5d39e2-c000.snappy.parquet\n-rw-r--r--   3 itv008542 supergroup     383449 2024-02-08 11:26 /user/itv008542/lendingclubproject/processed/loan_score/part-00162-a16902a1-907a-4b1b-98e5-23765d5d39e2-c000.snappy.parquet\n-rw-r--r--   3 itv008542 supergroup     379477 2024-02-08 11:26 /user/itv008542/lendingclubproject/processed/loan_score/part-00163-a16902a1-907a-4b1b-98e5-23765d5d39e2-c000.snappy.parquet\n-rw-r--r--   3 itv008542 supergroup     374642 2024-02-08 11:26 /user/itv008542/lendingclubproject/processed/loan_score/part-00164-a16902a1-907a-4b1b-98e5-23765d5d39e2-c000.snappy.parquet\n-rw-r--r--   3 itv008542 supergroup     385887 2024-02-08 11:26 /user/itv008542/lendingclubproject/processed/loan_score/part-00165-a16902a1-907a-4b1b-98e5-23765d5d39e2-c000.snappy.parquet\n-rw-r--r--   3 itv008542 supergroup     381576 2024-02-08 11:26 /user/itv008542/lendingclubproject/processed/loan_score/part-00166-a16902a1-907a-4b1b-98e5-23765d5d39e2-c000.snappy.parquet\n-rw-r--r--   3 itv008542 supergroup     383043 2024-02-08 11:26 /user/itv008542/lendingclubproject/processed/loan_score/part-00167-a16902a1-907a-4b1b-98e5-23765d5d39e2-c000.snappy.parquet\n-rw-r--r--   3 itv008542 supergroup     382299 2024-02-08 11:26 /user/itv008542/lendingclubproject/processed/loan_score/part-00168-a16902a1-907a-4b1b-98e5-23765d5d39e2-c000.snappy.parquet\n-rw-r--r--   3 itv008542 supergroup     374229 2024-02-08 11:26 /user/itv008542/lendingclubproject/processed/loan_score/part-00169-a16902a1-907a-4b1b-98e5-23765d5d39e2-c000.snappy.parquet\n-rw-r--r--   3 itv008542 supergroup     377408 2024-02-08 11:26 /user/itv008542/lendingclubproject/processed/loan_score/part-00170-a16902a1-907a-4b1b-98e5-23765d5d39e2-c000.snappy.parquet\n-rw-r--r--   3 itv008542 supergroup     376401 2024-02-08 11:26 /user/itv008542/lendingclubproject/processed/loan_score/part-00171-a16902a1-907a-4b1b-98e5-23765d5d39e2-c000.snappy.parquet\n-rw-r--r--   3 itv008542 supergroup     369747 2024-02-08 11:26 /user/itv008542/lendingclubproject/processed/loan_score/part-00172-a16902a1-907a-4b1b-98e5-23765d5d39e2-c000.snappy.parquet\n-rw-r--r--   3 itv008542 supergroup     379381 2024-02-08 11:26 /user/itv008542/lendingclubproject/processed/loan_score/part-00173-a16902a1-907a-4b1b-98e5-23765d5d39e2-c000.snappy.parquet\n-rw-r--r--   3 itv008542 supergroup     380989 2024-02-08 11:26 /user/itv008542/lendingclubproject/processed/loan_score/part-00174-a16902a1-907a-4b1b-98e5-23765d5d39e2-c000.snappy.parquet\n-rw-r--r--   3 itv008542 supergroup     384575 2024-02-08 11:26 /user/itv008542/lendingclubproject/processed/loan_score/part-00175-a16902a1-907a-4b1b-98e5-23765d5d39e2-c000.snappy.parquet\n-rw-r--r--   3 itv008542 supergroup     375717 2024-02-08 11:26 /user/itv008542/lendingclubproject/processed/loan_score/part-00176-a16902a1-907a-4b1b-98e5-23765d5d39e2-c000.snappy.parquet\n-rw-r--r--   3 itv008542 supergroup     381109 2024-02-08 11:26 /user/itv008542/lendingclubproject/processed/loan_score/part-00177-a16902a1-907a-4b1b-98e5-23765d5d39e2-c000.snappy.parquet\n-rw-r--r--   3 itv008542 supergroup     380573 2024-02-08 11:26 /user/itv008542/lendingclubproject/processed/loan_score/part-00178-a16902a1-907a-4b1b-98e5-23765d5d39e2-c000.snappy.parquet\n-rw-r--r--   3 itv008542 supergroup     380255 2024-02-08 11:26 /user/itv008542/lendingclubproject/processed/loan_score/part-00179-a16902a1-907a-4b1b-98e5-23765d5d39e2-c000.snappy.parquet\n-rw-r--r--   3 itv008542 supergroup     371907 2024-02-08 11:26 /user/itv008542/lendingclubproject/processed/loan_score/part-00180-a16902a1-907a-4b1b-98e5-23765d5d39e2-c000.snappy.parquet\n-rw-r--r--   3 itv008542 supergroup     373086 2024-02-08 11:26 /user/itv008542/lendingclubproject/processed/loan_score/part-00181-a16902a1-907a-4b1b-98e5-23765d5d39e2-c000.snappy.parquet\n-rw-r--r--   3 itv008542 supergroup     384498 2024-02-08 11:26 /user/itv008542/lendingclubproject/processed/loan_score/part-00182-a16902a1-907a-4b1b-98e5-23765d5d39e2-c000.snappy.parquet\n-rw-r--r--   3 itv008542 supergroup     370734 2024-02-08 11:26 /user/itv008542/lendingclubproject/processed/loan_score/part-00183-a16902a1-907a-4b1b-98e5-23765d5d39e2-c000.snappy.parquet\n-rw-r--r--   3 itv008542 supergroup     381202 2024-02-08 11:26 /user/itv008542/lendingclubproject/processed/loan_score/part-00184-a16902a1-907a-4b1b-98e5-23765d5d39e2-c000.snappy.parquet\n-rw-r--r--   3 itv008542 supergroup     382788 2024-02-08 11:26 /user/itv008542/lendingclubproject/processed/loan_score/part-00185-a16902a1-907a-4b1b-98e5-23765d5d39e2-c000.snappy.parquet\n-rw-r--r--   3 itv008542 supergroup     384586 2024-02-08 11:26 /user/itv008542/lendingclubproject/processed/loan_score/part-00186-a16902a1-907a-4b1b-98e5-23765d5d39e2-c000.snappy.parquet\n-rw-r--r--   3 itv008542 supergroup     389226 2024-02-08 11:26 /user/itv008542/lendingclubproject/processed/loan_score/part-00187-a16902a1-907a-4b1b-98e5-23765d5d39e2-c000.snappy.parquet\n-rw-r--r--   3 itv008542 supergroup     385132 2024-02-08 11:26 /user/itv008542/lendingclubproject/processed/loan_score/part-00188-a16902a1-907a-4b1b-98e5-23765d5d39e2-c000.snappy.parquet\n-rw-r--r--   3 itv008542 supergroup     385239 2024-02-08 11:26 /user/itv008542/lendingclubproject/processed/loan_score/part-00189-a16902a1-907a-4b1b-98e5-23765d5d39e2-c000.snappy.parquet\n-rw-r--r--   3 itv008542 supergroup     379679 2024-02-08 11:26 /user/itv008542/lendingclubproject/processed/loan_score/part-00190-a16902a1-907a-4b1b-98e5-23765d5d39e2-c000.snappy.parquet\n-rw-r--r--   3 itv008542 supergroup     381238 2024-02-08 11:26 /user/itv008542/lendingclubproject/processed/loan_score/part-00191-a16902a1-907a-4b1b-98e5-23765d5d39e2-c000.snappy.parquet\n-rw-r--r--   3 itv008542 supergroup     380653 2024-02-08 11:26 /user/itv008542/lendingclubproject/processed/loan_score/part-00192-a16902a1-907a-4b1b-98e5-23765d5d39e2-c000.snappy.parquet\n-rw-r--r--   3 itv008542 supergroup     378095 2024-02-08 11:26 /user/itv008542/lendingclubproject/processed/loan_score/part-00193-a16902a1-907a-4b1b-98e5-23765d5d39e2-c000.snappy.parquet\n-rw-r--r--   3 itv008542 supergroup     377482 2024-02-08 11:26 /user/itv008542/lendingclubproject/processed/loan_score/part-00194-a16902a1-907a-4b1b-98e5-23765d5d39e2-c000.snappy.parquet\n-rw-r--r--   3 itv008542 supergroup     382909 2024-02-08 11:26 /user/itv008542/lendingclubproject/processed/loan_score/part-00195-a16902a1-907a-4b1b-98e5-23765d5d39e2-c000.snappy.parquet\n-rw-r--r--   3 itv008542 supergroup     380466 2024-02-08 11:26 /user/itv008542/lendingclubproject/processed/loan_score/part-00196-a16902a1-907a-4b1b-98e5-23765d5d39e2-c000.snappy.parquet\n-rw-r--r--   3 itv008542 supergroup     366856 2024-02-08 11:26 /user/itv008542/lendingclubproject/processed/loan_score/part-00197-a16902a1-907a-4b1b-98e5-23765d5d39e2-c000.snappy.parquet\n-rw-r--r--   3 itv008542 supergroup     377931 2024-02-08 11:26 /user/itv008542/lendingclubproject/processed/loan_score/part-00198-a16902a1-907a-4b1b-98e5-23765d5d39e2-c000.snappy.parquet\n-rw-r--r--   3 itv008542 supergroup     383135 2024-02-08 11:26 /user/itv008542/lendingclubproject/processed/loan_score/part-00199-a16902a1-907a-4b1b-98e5-23765d5d39e2-c000.snappy.parquet\n"
     ]
    }
   ],
   "source": [
    "! hadoop fs -ls /user/itv008542/lendingclubproject/processed/loan_score"
   ]
  },
  {
   "cell_type": "code",
   "execution_count": 0,
   "metadata": {
    "application/vnd.databricks.v1+cell": {
     "cellMetadata": {},
     "inputWidgets": {},
     "nuid": "d48a1de9-cbc6-43f0-973b-dcc94710445c",
     "showTitle": false,
     "title": ""
    }
   },
   "outputs": [
    {
     "output_type": "stream",
     "name": "stdout",
     "output_type": "stream",
     "text": [
      "D�<f2e87e83b4a03143cfff8803d8311467e0022aeff961f240016ad2bb02822\tD�>74b25482c536ebf11d5c9d5445b47cf3307691543d1207a6a54b52538b8821@%\u0010�<823c9c882e665800c6c6b65c77f9ca7c2ab31c49330a1a6a15c68e82e86c4M �>9013f9a4037290d1cfba2f1bd06c895c0149504b67389e8ca69a70c10d3476@\u0005�t934bb0748e79df905c0663e0341de1\u0001�Xc04aac3d2e95babe95e437b\u0001�\u0011��5377508f21df12dcb3576c5233d39938aa465fec6\u0001�<19276a2321ac6a50)T�>9b7cfa56812914728195c5b56bae9a7bc0aae6824c044550c505230d4e668ddf0f012bf16656c24748c69c1469c506ac887d719ca1a181effb85c)Tx55de8b5dd72029be9d555c0572423ba\u0001�h6244f2ce5e96c6eddd119bcad49"
     ]
    }
   ],
   "source": [
    "! hadoop fs -head /user/itv008542/lendingclubproject/processed/loan_score/part-00199-a16902a1-907a-4b1b-98e5-23765d5d39e2-c000.snappy.parquet"
   ]
  },
  {
   "cell_type": "code",
   "execution_count": 0,
   "metadata": {
    "application/vnd.databricks.v1+cell": {
     "cellMetadata": {},
     "inputWidgets": {},
     "nuid": "24df7a95-cb91-4093-8e0c-d5a80efaf5b7",
     "showTitle": false,
     "title": ""
    }
   },
   "outputs": [],
   "source": [
    "spark.stop()"
   ]
  }
 ],
 "metadata": {
  "application/vnd.databricks.v1+notebook": {
   "dashboards": [],
   "environmentMetadata": null,
   "language": "python",
   "notebookMetadata": {
    "pythonIndentUnit": 4
   },
   "notebookName": "Lending_club_Project_Processing",
   "widgets": {}
  },
  "kernelspec": {
   "display_name": "Pyspark 3",
   "language": "python",
   "name": "pyspark3"
  },
  "language_info": {
   "codemirror_mode": {
    "name": "ipython",
    "version": 3
   },
   "file_extension": ".py",
   "mimetype": "text/x-python",
   "name": "python",
   "nbconvert_exporter": "python",
   "pygments_lexer": "ipython3",
   "version": "3.6.12"
  }
 },
 "nbformat": 4,
 "nbformat_minor": 0
}
